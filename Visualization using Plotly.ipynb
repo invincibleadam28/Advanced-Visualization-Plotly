{
 "cells": [
  {
   "cell_type": "markdown",
   "metadata": {},
   "source": [
    "### Importing the required Libraries:"
   ]
  },
  {
   "cell_type": "code",
   "execution_count": 1,
   "metadata": {},
   "outputs": [],
   "source": [
    "# Pandas is used to make Dataframes,perform data manipulation and analysis on numerical tables and time series.\n",
    "import pandas as pd\n",
    "\n",
    "# Numpy  effiecienty perform operations high-level mathematical functions on large, multi-dimensional arrays and matrices. \n",
    "import numpy as np\n",
    "\n",
    "#Matplotlib is a plotting library, to plot various graphs, used for Data Visualization.  \n",
    "import matplotlib.pyplot as plt\n",
    "\n",
    "\n",
    "# It is a magic function that renders the figure in a notebook itself.\n",
    "%matplotlib inline"
   ]
  },
  {
   "cell_type": "markdown",
   "metadata": {},
   "source": [
    "**Plotly provides online graphing, analytics, and statistics tools for individuals and collaboration, as well as scientific graphing libraries for Python, R, MATLAB, Perl, Julia, Arduino, and REST :**"
   ]
  },
  {
   "cell_type": "code",
   "execution_count": 2,
   "metadata": {},
   "outputs": [
    {
     "data": {
      "text/html": [
       "        <script type=\"text/javascript\">\n",
       "        window.PlotlyConfig = {MathJaxConfig: 'local'};\n",
       "        if (window.MathJax) {MathJax.Hub.Config({SVG: {font: \"STIX-Web\"}});}\n",
       "        if (typeof require !== 'undefined') {\n",
       "        require.undef(\"plotly\");\n",
       "        requirejs.config({\n",
       "            paths: {\n",
       "                'plotly': ['https://cdn.plot.ly/plotly-latest.min']\n",
       "            }\n",
       "        });\n",
       "        require(['plotly'], function(Plotly) {\n",
       "            window._Plotly = Plotly;\n",
       "        });\n",
       "        }\n",
       "        </script>\n",
       "        "
      ]
     },
     "metadata": {},
     "output_type": "display_data"
    }
   ],
   "source": [
    "import plotly as py\n",
    "from plotly.offline import init_notebook_mode, iplot, plot\n",
    "init_notebook_mode(connected=True)\n",
    "\n",
    "import plotly.graph_objs as go"
   ]
  },
  {
   "cell_type": "markdown",
   "metadata": {},
   "source": [
    "**Word Cloud is a data visualization technique used for representing text data in which the size of each word indicates its frequency or importance:**"
   ]
  },
  {
   "cell_type": "code",
   "execution_count": 3,
   "metadata": {},
   "outputs": [],
   "source": [
    "from wordcloud import WordCloud"
   ]
  },
  {
   "cell_type": "markdown",
   "metadata": {},
   "source": [
    "**The os library is used to perform operating system based functionalities:**"
   ]
  },
  {
   "cell_type": "code",
   "execution_count": 4,
   "metadata": {},
   "outputs": [
    {
     "name": "stdout",
     "output_type": "stream",
     "text": [
      "['cwurData.csv', 'educational_attainment_supplementary_data.csv', 'education_expenditure_supplementary_data.csv', 'school_and_country_table.csv', 'shanghaiData.csv', 'timesData.csv']\n"
     ]
    }
   ],
   "source": [
    "import os\n",
    "print(os.listdir(\"./input\"))"
   ]
  },
  {
   "cell_type": "markdown",
   "metadata": {},
   "source": [
    "**Load data that we will use:**"
   ]
  },
  {
   "cell_type": "code",
   "execution_count": 5,
   "metadata": {},
   "outputs": [],
   "source": [
    "timesData = pd.read_csv(\"./input/timesData.csv\")"
   ]
  },
  {
   "cell_type": "code",
   "execution_count": 6,
   "metadata": {},
   "outputs": [
    {
     "name": "stdout",
     "output_type": "stream",
     "text": [
      "<class 'pandas.core.frame.DataFrame'>\n",
      "RangeIndex: 2603 entries, 0 to 2602\n",
      "Data columns (total 14 columns):\n",
      " #   Column                  Non-Null Count  Dtype  \n",
      "---  ------                  --------------  -----  \n",
      " 0   world_rank              2603 non-null   object \n",
      " 1   university_name         2603 non-null   object \n",
      " 2   country                 2603 non-null   object \n",
      " 3   teaching                2603 non-null   float64\n",
      " 4   international           2603 non-null   object \n",
      " 5   research                2603 non-null   float64\n",
      " 6   citations               2603 non-null   float64\n",
      " 7   income                  2603 non-null   object \n",
      " 8   total_score             2603 non-null   object \n",
      " 9   num_students            2544 non-null   object \n",
      " 10  student_staff_ratio     2544 non-null   float64\n",
      " 11  international_students  2536 non-null   object \n",
      " 12  female_male_ratio       2370 non-null   object \n",
      " 13  year                    2603 non-null   int64  \n",
      "dtypes: float64(4), int64(1), object(9)\n",
      "memory usage: 284.8+ KB\n"
     ]
    }
   ],
   "source": [
    "timesData.info()"
   ]
  },
  {
   "cell_type": "code",
   "execution_count": 7,
   "metadata": {},
   "outputs": [
    {
     "data": {
      "text/html": [
       "<div>\n",
       "<style scoped>\n",
       "    .dataframe tbody tr th:only-of-type {\n",
       "        vertical-align: middle;\n",
       "    }\n",
       "\n",
       "    .dataframe tbody tr th {\n",
       "        vertical-align: top;\n",
       "    }\n",
       "\n",
       "    .dataframe thead th {\n",
       "        text-align: right;\n",
       "    }\n",
       "</style>\n",
       "<table border=\"1\" class=\"dataframe\">\n",
       "  <thead>\n",
       "    <tr style=\"text-align: right;\">\n",
       "      <th></th>\n",
       "      <th>world_rank</th>\n",
       "      <th>university_name</th>\n",
       "      <th>country</th>\n",
       "      <th>teaching</th>\n",
       "      <th>international</th>\n",
       "      <th>research</th>\n",
       "      <th>citations</th>\n",
       "      <th>income</th>\n",
       "      <th>total_score</th>\n",
       "      <th>num_students</th>\n",
       "      <th>student_staff_ratio</th>\n",
       "      <th>international_students</th>\n",
       "      <th>female_male_ratio</th>\n",
       "      <th>year</th>\n",
       "    </tr>\n",
       "  </thead>\n",
       "  <tbody>\n",
       "    <tr>\n",
       "      <th>0</th>\n",
       "      <td>1</td>\n",
       "      <td>Harvard University</td>\n",
       "      <td>United States of America</td>\n",
       "      <td>99.7</td>\n",
       "      <td>72.4</td>\n",
       "      <td>98.7</td>\n",
       "      <td>98.8</td>\n",
       "      <td>34.5</td>\n",
       "      <td>96.1</td>\n",
       "      <td>20,152</td>\n",
       "      <td>8.9</td>\n",
       "      <td>25%</td>\n",
       "      <td>NaN</td>\n",
       "      <td>2011</td>\n",
       "    </tr>\n",
       "    <tr>\n",
       "      <th>1</th>\n",
       "      <td>2</td>\n",
       "      <td>California Institute of Technology</td>\n",
       "      <td>United States of America</td>\n",
       "      <td>97.7</td>\n",
       "      <td>54.6</td>\n",
       "      <td>98.0</td>\n",
       "      <td>99.9</td>\n",
       "      <td>83.7</td>\n",
       "      <td>96.0</td>\n",
       "      <td>2,243</td>\n",
       "      <td>6.9</td>\n",
       "      <td>27%</td>\n",
       "      <td>33 : 67</td>\n",
       "      <td>2011</td>\n",
       "    </tr>\n",
       "    <tr>\n",
       "      <th>2</th>\n",
       "      <td>3</td>\n",
       "      <td>Massachusetts Institute of Technology</td>\n",
       "      <td>United States of America</td>\n",
       "      <td>97.8</td>\n",
       "      <td>82.3</td>\n",
       "      <td>91.4</td>\n",
       "      <td>99.9</td>\n",
       "      <td>87.5</td>\n",
       "      <td>95.6</td>\n",
       "      <td>11,074</td>\n",
       "      <td>9.0</td>\n",
       "      <td>33%</td>\n",
       "      <td>37 : 63</td>\n",
       "      <td>2011</td>\n",
       "    </tr>\n",
       "    <tr>\n",
       "      <th>3</th>\n",
       "      <td>4</td>\n",
       "      <td>Stanford University</td>\n",
       "      <td>United States of America</td>\n",
       "      <td>98.3</td>\n",
       "      <td>29.5</td>\n",
       "      <td>98.1</td>\n",
       "      <td>99.2</td>\n",
       "      <td>64.3</td>\n",
       "      <td>94.3</td>\n",
       "      <td>15,596</td>\n",
       "      <td>7.8</td>\n",
       "      <td>22%</td>\n",
       "      <td>42 : 58</td>\n",
       "      <td>2011</td>\n",
       "    </tr>\n",
       "    <tr>\n",
       "      <th>4</th>\n",
       "      <td>5</td>\n",
       "      <td>Princeton University</td>\n",
       "      <td>United States of America</td>\n",
       "      <td>90.9</td>\n",
       "      <td>70.3</td>\n",
       "      <td>95.4</td>\n",
       "      <td>99.9</td>\n",
       "      <td>-</td>\n",
       "      <td>94.2</td>\n",
       "      <td>7,929</td>\n",
       "      <td>8.4</td>\n",
       "      <td>27%</td>\n",
       "      <td>45 : 55</td>\n",
       "      <td>2011</td>\n",
       "    </tr>\n",
       "  </tbody>\n",
       "</table>\n",
       "</div>"
      ],
      "text/plain": [
       "  world_rank                        university_name                   country  \\\n",
       "0          1                     Harvard University  United States of America   \n",
       "1          2     California Institute of Technology  United States of America   \n",
       "2          3  Massachusetts Institute of Technology  United States of America   \n",
       "3          4                    Stanford University  United States of America   \n",
       "4          5                   Princeton University  United States of America   \n",
       "\n",
       "   teaching international  research  citations income total_score  \\\n",
       "0      99.7          72.4      98.7       98.8   34.5        96.1   \n",
       "1      97.7          54.6      98.0       99.9   83.7        96.0   \n",
       "2      97.8          82.3      91.4       99.9   87.5        95.6   \n",
       "3      98.3          29.5      98.1       99.2   64.3        94.3   \n",
       "4      90.9          70.3      95.4       99.9      -        94.2   \n",
       "\n",
       "  num_students  student_staff_ratio international_students female_male_ratio  \\\n",
       "0       20,152                  8.9                    25%               NaN   \n",
       "1        2,243                  6.9                    27%           33 : 67   \n",
       "2       11,074                  9.0                    33%           37 : 63   \n",
       "3       15,596                  7.8                    22%           42 : 58   \n",
       "4        7,929                  8.4                    27%           45 : 55   \n",
       "\n",
       "   year  \n",
       "0  2011  \n",
       "1  2011  \n",
       "2  2011  \n",
       "3  2011  \n",
       "4  2011  "
      ]
     },
     "execution_count": 7,
     "metadata": {},
     "output_type": "execute_result"
    }
   ],
   "source": [
    "timesData.head()"
   ]
  },
  {
   "cell_type": "markdown",
   "metadata": {},
   "source": [
    "## Line Chart:\n",
    "\n",
    "### Things to note:\n",
    "\n",
    "**1. mode = \"lines\"**\n",
    "\n",
    "**2. layout**\n"
   ]
  },
  {
   "cell_type": "code",
   "execution_count": 8,
   "metadata": {},
   "outputs": [
    {
     "data": {
      "application/vnd.plotly.v1+json": {
       "config": {
        "linkText": "Export to plot.ly",
        "plotlyServerURL": "https://plot.ly",
        "showLink": false
       },
       "data": [
        {
         "marker": {
          "color": "rgba(16, 112, 2, 0.8)"
         },
         "mode": "lines",
         "name": "citations",
         "text": [
          "Harvard University",
          "California Institute of Technology",
          "Massachusetts Institute of Technology",
          "Stanford University",
          "Princeton University",
          "University of Cambridge",
          "University of Oxford",
          "University of California, Berkeley",
          "Imperial College London",
          "Yale University",
          "University of California, Los Angeles",
          "University of Chicago",
          "Johns Hopkins University",
          "Cornell University",
          "ETH Zurich – Swiss Federal Institute of Technology Zurich",
          "University of Michigan",
          "University of Toronto",
          "Columbia University",
          "University of Pennsylvania",
          "Carnegie Mellon University",
          "University of Hong Kong",
          "University College London",
          "University of Washington",
          "Duke University",
          "Northwestern University",
          "University of Tokyo",
          "Georgia Institute of Technology",
          "Pohang University of Science and Technology",
          "University of California, Santa Barbara",
          "University of British Columbia",
          "University of North Carolina at Chapel Hill",
          "University of California, San Diego",
          "University of Illinois at Urbana-Champaign",
          "National University of Singapore",
          "McGill University",
          "University of Melbourne",
          "Peking University",
          "Washington University in St Louis",
          "École Polytechnique",
          "University of Edinburgh",
          "Hong Kong University of Science and Technology",
          "École Normale Supérieure",
          "Australian National University",
          "Karolinska Institute",
          "University of Göttingen",
          "University of Wisconsin",
          "Rice University",
          "École Polytechnique Fédérale de Lausanne",
          "University of California, Irvine",
          "University of Science and Technology of China",
          "Vanderbilt University",
          "University of Minnesota",
          "Tufts University",
          "University of California, Davis",
          "Brown University",
          "University of Massachusetts",
          "Kyoto University",
          "Tsinghua University",
          "Boston University",
          "New York University",
          "Emory University",
          "LMU Munich",
          "University of Notre Dame",
          "University of Pittsburgh",
          "Case Western Reserve University",
          "Ohio State University",
          "University of Colorado Boulder",
          "University of Bristol",
          "University of California, Santa Cruz",
          "Yeshiva University",
          "University of Sydney",
          "University of Virginia",
          "University of Adelaide",
          "University of Southern California",
          "William & Mary",
          "Trinity College Dublin",
          "King’s College London",
          "Stony Brook University",
          "Korea Advanced Institute of Science and Technology (KAIST)",
          "University of Sussex",
          "The University of Queensland",
          "University of York",
          "Heidelberg University",
          "University of Utah",
          "Durham University",
          "London School of Economics and Political Science",
          "University of Manchester",
          "Royal Holloway, University of London",
          "Lund University",
          "University of Southampton",
          "University of Zurich",
          "Wake Forest University",
          "McMaster University",
          "University College Dublin",
          "George Washington University",
          "University of Arizona",
          "University of Basel",
          "University of Maryland, College Park",
          "Dartmouth College",
          "École Normale Supérieure de Lyon"
         ],
         "type": "scatter",
         "x": [
          "1",
          "2",
          "3",
          "4",
          "5",
          "6",
          "6",
          "8",
          "9",
          "10",
          "11",
          "12",
          "13",
          "14",
          "15",
          "15",
          "17",
          "18",
          "19",
          "20",
          "21",
          "22",
          "23",
          "24",
          "25",
          "26",
          "27",
          "28",
          "29",
          "30",
          "30",
          "32",
          "33",
          "34",
          "35",
          "36",
          "37",
          "38",
          "39",
          "40",
          "41",
          "42",
          "43",
          "43",
          "43",
          "43",
          "47",
          "48",
          "49",
          "49",
          "51",
          "52",
          "53",
          "54",
          "55",
          "56",
          "57",
          "58",
          "59",
          "60",
          "61",
          "61",
          "63",
          "64",
          "65",
          "66",
          "67",
          "68",
          "68",
          "68",
          "71",
          "72",
          "73",
          "73",
          "75",
          "76",
          "77",
          "78",
          "79",
          "79",
          "81",
          "81",
          "83",
          "83",
          "85",
          "86",
          "87",
          "88",
          "89",
          "90",
          "90",
          "90",
          "93",
          "94",
          "95",
          "95",
          "95",
          "98",
          "99",
          "100"
         ],
         "y": [
          98.8,
          99.9,
          99.9,
          99.2,
          99.9,
          94,
          95.1,
          97.8,
          88.3,
          91.5,
          93.2,
          96.9,
          92.3,
          88.1,
          83.1,
          84.1,
          82.2,
          92.6,
          93.6,
          95.7,
          96.1,
          80.6,
          95.9,
          92.3,
          95.3,
          58.1,
          83.2,
          96.5,
          98.8,
          80.3,
          85,
          90.8,
          72.9,
          78.7,
          69,
          83.3,
          72.2,
          88.6,
          91.4,
          86.8,
          98.2,
          95.7,
          81,
          62.3,
          92.5,
          83.4,
          99.1,
          83.8,
          91.6,
          92.7,
          78.1,
          76.4,
          83.9,
          68.8,
          77.7,
          67.9,
          46.3,
          52.7,
          91.4,
          82.9,
          77.8,
          76.4,
          89.1,
          78.3,
          66,
          67.2,
          83.4,
          80.9,
          99.6,
          74.4,
          64.3,
          68.6,
          90.5,
          71.9,
          95.6,
          84.4,
          72.1,
          85.8,
          45.5,
          91.6,
          69,
          81.9,
          70.3,
          72,
          91,
          51.6,
          59.2,
          93.2,
          67.6,
          72.9,
          65,
          79.2,
          68.5,
          86.3,
          70.2,
          70.1,
          78.3,
          79.2,
          79.7,
          88.8
         ]
        },
        {
         "marker": {
          "color": "rgba(80, 26, 80, 0.8)"
         },
         "mode": "lines+markers",
         "name": "teaching",
         "text": [
          "Harvard University",
          "California Institute of Technology",
          "Massachusetts Institute of Technology",
          "Stanford University",
          "Princeton University",
          "University of Cambridge",
          "University of Oxford",
          "University of California, Berkeley",
          "Imperial College London",
          "Yale University",
          "University of California, Los Angeles",
          "University of Chicago",
          "Johns Hopkins University",
          "Cornell University",
          "ETH Zurich – Swiss Federal Institute of Technology Zurich",
          "University of Michigan",
          "University of Toronto",
          "Columbia University",
          "University of Pennsylvania",
          "Carnegie Mellon University",
          "University of Hong Kong",
          "University College London",
          "University of Washington",
          "Duke University",
          "Northwestern University",
          "University of Tokyo",
          "Georgia Institute of Technology",
          "Pohang University of Science and Technology",
          "University of California, Santa Barbara",
          "University of British Columbia",
          "University of North Carolina at Chapel Hill",
          "University of California, San Diego",
          "University of Illinois at Urbana-Champaign",
          "National University of Singapore",
          "McGill University",
          "University of Melbourne",
          "Peking University",
          "Washington University in St Louis",
          "École Polytechnique",
          "University of Edinburgh",
          "Hong Kong University of Science and Technology",
          "École Normale Supérieure",
          "Australian National University",
          "Karolinska Institute",
          "University of Göttingen",
          "University of Wisconsin",
          "Rice University",
          "École Polytechnique Fédérale de Lausanne",
          "University of California, Irvine",
          "University of Science and Technology of China",
          "Vanderbilt University",
          "University of Minnesota",
          "Tufts University",
          "University of California, Davis",
          "Brown University",
          "University of Massachusetts",
          "Kyoto University",
          "Tsinghua University",
          "Boston University",
          "New York University",
          "Emory University",
          "LMU Munich",
          "University of Notre Dame",
          "University of Pittsburgh",
          "Case Western Reserve University",
          "Ohio State University",
          "University of Colorado Boulder",
          "University of Bristol",
          "University of California, Santa Cruz",
          "Yeshiva University",
          "University of Sydney",
          "University of Virginia",
          "University of Adelaide",
          "University of Southern California",
          "William & Mary",
          "Trinity College Dublin",
          "King’s College London",
          "Stony Brook University",
          "Korea Advanced Institute of Science and Technology (KAIST)",
          "University of Sussex",
          "The University of Queensland",
          "University of York",
          "Heidelberg University",
          "University of Utah",
          "Durham University",
          "London School of Economics and Political Science",
          "University of Manchester",
          "Royal Holloway, University of London",
          "Lund University",
          "University of Southampton",
          "University of Zurich",
          "Wake Forest University",
          "McMaster University",
          "University College Dublin",
          "George Washington University",
          "University of Arizona",
          "University of Basel",
          "University of Maryland, College Park",
          "Dartmouth College",
          "École Normale Supérieure de Lyon"
         ],
         "type": "scatter",
         "x": [
          "1",
          "2",
          "3",
          "4",
          "5",
          "6",
          "6",
          "8",
          "9",
          "10",
          "11",
          "12",
          "13",
          "14",
          "15",
          "15",
          "17",
          "18",
          "19",
          "20",
          "21",
          "22",
          "23",
          "24",
          "25",
          "26",
          "27",
          "28",
          "29",
          "30",
          "30",
          "32",
          "33",
          "34",
          "35",
          "36",
          "37",
          "38",
          "39",
          "40",
          "41",
          "42",
          "43",
          "43",
          "43",
          "43",
          "47",
          "48",
          "49",
          "49",
          "51",
          "52",
          "53",
          "54",
          "55",
          "56",
          "57",
          "58",
          "59",
          "60",
          "61",
          "61",
          "63",
          "64",
          "65",
          "66",
          "67",
          "68",
          "68",
          "68",
          "71",
          "72",
          "73",
          "73",
          "75",
          "76",
          "77",
          "78",
          "79",
          "79",
          "81",
          "81",
          "83",
          "83",
          "85",
          "86",
          "87",
          "88",
          "89",
          "90",
          "90",
          "90",
          "93",
          "94",
          "95",
          "95",
          "95",
          "98",
          "99",
          "100"
         ],
         "y": [
          99.7,
          97.7,
          97.8,
          98.3,
          90.9,
          90.5,
          88.2,
          84.2,
          89.2,
          92.1,
          83,
          79.1,
          80.9,
          82.2,
          77.5,
          83.9,
          75.8,
          73.8,
          71.8,
          70.3,
          68.4,
          74,
          68.2,
          66.8,
          64.5,
          87.7,
          67.9,
          69.5,
          56.6,
          65.1,
          70.9,
          59.8,
          68.1,
          65.5,
          69,
          58.7,
          76.4,
          58.9,
          57.9,
          59.9,
          50.4,
          66.8,
          51.9,
          65.8,
          57.3,
          55.5,
          57.4,
          55,
          49.4,
          57.5,
          64.9,
          57.6,
          64.1,
          57.3,
          59.7,
          61.3,
          78.9,
          74.9,
          53.6,
          62,
          63.4,
          59.1,
          56.4,
          58.5,
          67.2,
          63.5,
          46.4,
          49.6,
          38.3,
          63.5,
          49.8,
          62,
          46.5,
          65.4,
          53.1,
          47.7,
          48.5,
          48.5,
          71.3,
          42.4,
          51.8,
          47.9,
          59.2,
          55.8,
          39.8,
          62.4,
          56.5,
          37.7,
          46.3,
          50.8,
          56.6,
          54.6,
          44.7,
          42.4,
          60.6,
          52.4,
          50.2,
          45.4,
          44.7,
          51.1
         ]
        }
       ],
       "layout": {
        "template": {
         "data": {
          "bar": [
           {
            "error_x": {
             "color": "#2a3f5f"
            },
            "error_y": {
             "color": "#2a3f5f"
            },
            "marker": {
             "line": {
              "color": "#E5ECF6",
              "width": 0.5
             }
            },
            "type": "bar"
           }
          ],
          "barpolar": [
           {
            "marker": {
             "line": {
              "color": "#E5ECF6",
              "width": 0.5
             }
            },
            "type": "barpolar"
           }
          ],
          "carpet": [
           {
            "aaxis": {
             "endlinecolor": "#2a3f5f",
             "gridcolor": "white",
             "linecolor": "white",
             "minorgridcolor": "white",
             "startlinecolor": "#2a3f5f"
            },
            "baxis": {
             "endlinecolor": "#2a3f5f",
             "gridcolor": "white",
             "linecolor": "white",
             "minorgridcolor": "white",
             "startlinecolor": "#2a3f5f"
            },
            "type": "carpet"
           }
          ],
          "choropleth": [
           {
            "colorbar": {
             "outlinewidth": 0,
             "ticks": ""
            },
            "type": "choropleth"
           }
          ],
          "contour": [
           {
            "colorbar": {
             "outlinewidth": 0,
             "ticks": ""
            },
            "colorscale": [
             [
              0,
              "#0d0887"
             ],
             [
              0.1111111111111111,
              "#46039f"
             ],
             [
              0.2222222222222222,
              "#7201a8"
             ],
             [
              0.3333333333333333,
              "#9c179e"
             ],
             [
              0.4444444444444444,
              "#bd3786"
             ],
             [
              0.5555555555555556,
              "#d8576b"
             ],
             [
              0.6666666666666666,
              "#ed7953"
             ],
             [
              0.7777777777777778,
              "#fb9f3a"
             ],
             [
              0.8888888888888888,
              "#fdca26"
             ],
             [
              1,
              "#f0f921"
             ]
            ],
            "type": "contour"
           }
          ],
          "contourcarpet": [
           {
            "colorbar": {
             "outlinewidth": 0,
             "ticks": ""
            },
            "type": "contourcarpet"
           }
          ],
          "heatmap": [
           {
            "colorbar": {
             "outlinewidth": 0,
             "ticks": ""
            },
            "colorscale": [
             [
              0,
              "#0d0887"
             ],
             [
              0.1111111111111111,
              "#46039f"
             ],
             [
              0.2222222222222222,
              "#7201a8"
             ],
             [
              0.3333333333333333,
              "#9c179e"
             ],
             [
              0.4444444444444444,
              "#bd3786"
             ],
             [
              0.5555555555555556,
              "#d8576b"
             ],
             [
              0.6666666666666666,
              "#ed7953"
             ],
             [
              0.7777777777777778,
              "#fb9f3a"
             ],
             [
              0.8888888888888888,
              "#fdca26"
             ],
             [
              1,
              "#f0f921"
             ]
            ],
            "type": "heatmap"
           }
          ],
          "heatmapgl": [
           {
            "colorbar": {
             "outlinewidth": 0,
             "ticks": ""
            },
            "colorscale": [
             [
              0,
              "#0d0887"
             ],
             [
              0.1111111111111111,
              "#46039f"
             ],
             [
              0.2222222222222222,
              "#7201a8"
             ],
             [
              0.3333333333333333,
              "#9c179e"
             ],
             [
              0.4444444444444444,
              "#bd3786"
             ],
             [
              0.5555555555555556,
              "#d8576b"
             ],
             [
              0.6666666666666666,
              "#ed7953"
             ],
             [
              0.7777777777777778,
              "#fb9f3a"
             ],
             [
              0.8888888888888888,
              "#fdca26"
             ],
             [
              1,
              "#f0f921"
             ]
            ],
            "type": "heatmapgl"
           }
          ],
          "histogram": [
           {
            "marker": {
             "colorbar": {
              "outlinewidth": 0,
              "ticks": ""
             }
            },
            "type": "histogram"
           }
          ],
          "histogram2d": [
           {
            "colorbar": {
             "outlinewidth": 0,
             "ticks": ""
            },
            "colorscale": [
             [
              0,
              "#0d0887"
             ],
             [
              0.1111111111111111,
              "#46039f"
             ],
             [
              0.2222222222222222,
              "#7201a8"
             ],
             [
              0.3333333333333333,
              "#9c179e"
             ],
             [
              0.4444444444444444,
              "#bd3786"
             ],
             [
              0.5555555555555556,
              "#d8576b"
             ],
             [
              0.6666666666666666,
              "#ed7953"
             ],
             [
              0.7777777777777778,
              "#fb9f3a"
             ],
             [
              0.8888888888888888,
              "#fdca26"
             ],
             [
              1,
              "#f0f921"
             ]
            ],
            "type": "histogram2d"
           }
          ],
          "histogram2dcontour": [
           {
            "colorbar": {
             "outlinewidth": 0,
             "ticks": ""
            },
            "colorscale": [
             [
              0,
              "#0d0887"
             ],
             [
              0.1111111111111111,
              "#46039f"
             ],
             [
              0.2222222222222222,
              "#7201a8"
             ],
             [
              0.3333333333333333,
              "#9c179e"
             ],
             [
              0.4444444444444444,
              "#bd3786"
             ],
             [
              0.5555555555555556,
              "#d8576b"
             ],
             [
              0.6666666666666666,
              "#ed7953"
             ],
             [
              0.7777777777777778,
              "#fb9f3a"
             ],
             [
              0.8888888888888888,
              "#fdca26"
             ],
             [
              1,
              "#f0f921"
             ]
            ],
            "type": "histogram2dcontour"
           }
          ],
          "mesh3d": [
           {
            "colorbar": {
             "outlinewidth": 0,
             "ticks": ""
            },
            "type": "mesh3d"
           }
          ],
          "parcoords": [
           {
            "line": {
             "colorbar": {
              "outlinewidth": 0,
              "ticks": ""
             }
            },
            "type": "parcoords"
           }
          ],
          "pie": [
           {
            "automargin": true,
            "type": "pie"
           }
          ],
          "scatter": [
           {
            "marker": {
             "colorbar": {
              "outlinewidth": 0,
              "ticks": ""
             }
            },
            "type": "scatter"
           }
          ],
          "scatter3d": [
           {
            "line": {
             "colorbar": {
              "outlinewidth": 0,
              "ticks": ""
             }
            },
            "marker": {
             "colorbar": {
              "outlinewidth": 0,
              "ticks": ""
             }
            },
            "type": "scatter3d"
           }
          ],
          "scattercarpet": [
           {
            "marker": {
             "colorbar": {
              "outlinewidth": 0,
              "ticks": ""
             }
            },
            "type": "scattercarpet"
           }
          ],
          "scattergeo": [
           {
            "marker": {
             "colorbar": {
              "outlinewidth": 0,
              "ticks": ""
             }
            },
            "type": "scattergeo"
           }
          ],
          "scattergl": [
           {
            "marker": {
             "colorbar": {
              "outlinewidth": 0,
              "ticks": ""
             }
            },
            "type": "scattergl"
           }
          ],
          "scattermapbox": [
           {
            "marker": {
             "colorbar": {
              "outlinewidth": 0,
              "ticks": ""
             }
            },
            "type": "scattermapbox"
           }
          ],
          "scatterpolar": [
           {
            "marker": {
             "colorbar": {
              "outlinewidth": 0,
              "ticks": ""
             }
            },
            "type": "scatterpolar"
           }
          ],
          "scatterpolargl": [
           {
            "marker": {
             "colorbar": {
              "outlinewidth": 0,
              "ticks": ""
             }
            },
            "type": "scatterpolargl"
           }
          ],
          "scatterternary": [
           {
            "marker": {
             "colorbar": {
              "outlinewidth": 0,
              "ticks": ""
             }
            },
            "type": "scatterternary"
           }
          ],
          "surface": [
           {
            "colorbar": {
             "outlinewidth": 0,
             "ticks": ""
            },
            "colorscale": [
             [
              0,
              "#0d0887"
             ],
             [
              0.1111111111111111,
              "#46039f"
             ],
             [
              0.2222222222222222,
              "#7201a8"
             ],
             [
              0.3333333333333333,
              "#9c179e"
             ],
             [
              0.4444444444444444,
              "#bd3786"
             ],
             [
              0.5555555555555556,
              "#d8576b"
             ],
             [
              0.6666666666666666,
              "#ed7953"
             ],
             [
              0.7777777777777778,
              "#fb9f3a"
             ],
             [
              0.8888888888888888,
              "#fdca26"
             ],
             [
              1,
              "#f0f921"
             ]
            ],
            "type": "surface"
           }
          ],
          "table": [
           {
            "cells": {
             "fill": {
              "color": "#EBF0F8"
             },
             "line": {
              "color": "white"
             }
            },
            "header": {
             "fill": {
              "color": "#C8D4E3"
             },
             "line": {
              "color": "white"
             }
            },
            "type": "table"
           }
          ]
         },
         "layout": {
          "annotationdefaults": {
           "arrowcolor": "#2a3f5f",
           "arrowhead": 0,
           "arrowwidth": 1
          },
          "autotypenumbers": "strict",
          "coloraxis": {
           "colorbar": {
            "outlinewidth": 0,
            "ticks": ""
           }
          },
          "colorscale": {
           "diverging": [
            [
             0,
             "#8e0152"
            ],
            [
             0.1,
             "#c51b7d"
            ],
            [
             0.2,
             "#de77ae"
            ],
            [
             0.3,
             "#f1b6da"
            ],
            [
             0.4,
             "#fde0ef"
            ],
            [
             0.5,
             "#f7f7f7"
            ],
            [
             0.6,
             "#e6f5d0"
            ],
            [
             0.7,
             "#b8e186"
            ],
            [
             0.8,
             "#7fbc41"
            ],
            [
             0.9,
             "#4d9221"
            ],
            [
             1,
             "#276419"
            ]
           ],
           "sequential": [
            [
             0,
             "#0d0887"
            ],
            [
             0.1111111111111111,
             "#46039f"
            ],
            [
             0.2222222222222222,
             "#7201a8"
            ],
            [
             0.3333333333333333,
             "#9c179e"
            ],
            [
             0.4444444444444444,
             "#bd3786"
            ],
            [
             0.5555555555555556,
             "#d8576b"
            ],
            [
             0.6666666666666666,
             "#ed7953"
            ],
            [
             0.7777777777777778,
             "#fb9f3a"
            ],
            [
             0.8888888888888888,
             "#fdca26"
            ],
            [
             1,
             "#f0f921"
            ]
           ],
           "sequentialminus": [
            [
             0,
             "#0d0887"
            ],
            [
             0.1111111111111111,
             "#46039f"
            ],
            [
             0.2222222222222222,
             "#7201a8"
            ],
            [
             0.3333333333333333,
             "#9c179e"
            ],
            [
             0.4444444444444444,
             "#bd3786"
            ],
            [
             0.5555555555555556,
             "#d8576b"
            ],
            [
             0.6666666666666666,
             "#ed7953"
            ],
            [
             0.7777777777777778,
             "#fb9f3a"
            ],
            [
             0.8888888888888888,
             "#fdca26"
            ],
            [
             1,
             "#f0f921"
            ]
           ]
          },
          "colorway": [
           "#636efa",
           "#EF553B",
           "#00cc96",
           "#ab63fa",
           "#FFA15A",
           "#19d3f3",
           "#FF6692",
           "#B6E880",
           "#FF97FF",
           "#FECB52"
          ],
          "font": {
           "color": "#2a3f5f"
          },
          "geo": {
           "bgcolor": "white",
           "lakecolor": "white",
           "landcolor": "#E5ECF6",
           "showlakes": true,
           "showland": true,
           "subunitcolor": "white"
          },
          "hoverlabel": {
           "align": "left"
          },
          "hovermode": "closest",
          "mapbox": {
           "style": "light"
          },
          "paper_bgcolor": "white",
          "plot_bgcolor": "#E5ECF6",
          "polar": {
           "angularaxis": {
            "gridcolor": "white",
            "linecolor": "white",
            "ticks": ""
           },
           "bgcolor": "#E5ECF6",
           "radialaxis": {
            "gridcolor": "white",
            "linecolor": "white",
            "ticks": ""
           }
          },
          "scene": {
           "xaxis": {
            "backgroundcolor": "#E5ECF6",
            "gridcolor": "white",
            "gridwidth": 2,
            "linecolor": "white",
            "showbackground": true,
            "ticks": "",
            "zerolinecolor": "white"
           },
           "yaxis": {
            "backgroundcolor": "#E5ECF6",
            "gridcolor": "white",
            "gridwidth": 2,
            "linecolor": "white",
            "showbackground": true,
            "ticks": "",
            "zerolinecolor": "white"
           },
           "zaxis": {
            "backgroundcolor": "#E5ECF6",
            "gridcolor": "white",
            "gridwidth": 2,
            "linecolor": "white",
            "showbackground": true,
            "ticks": "",
            "zerolinecolor": "white"
           }
          },
          "shapedefaults": {
           "line": {
            "color": "#2a3f5f"
           }
          },
          "ternary": {
           "aaxis": {
            "gridcolor": "white",
            "linecolor": "white",
            "ticks": ""
           },
           "baxis": {
            "gridcolor": "white",
            "linecolor": "white",
            "ticks": ""
           },
           "bgcolor": "#E5ECF6",
           "caxis": {
            "gridcolor": "white",
            "linecolor": "white",
            "ticks": ""
           }
          },
          "title": {
           "x": 0.05
          },
          "xaxis": {
           "automargin": true,
           "gridcolor": "white",
           "linecolor": "white",
           "ticks": "",
           "title": {
            "standoff": 15
           },
           "zerolinecolor": "white",
           "zerolinewidth": 2
          },
          "yaxis": {
           "automargin": true,
           "gridcolor": "white",
           "linecolor": "white",
           "ticks": "",
           "title": {
            "standoff": 15
           },
           "zerolinecolor": "white",
           "zerolinewidth": 2
          }
         }
        },
        "title": {
         "text": "Citation and Teaching vs World Rank of Top 100 Universities"
        },
        "xaxis": {
         "ticklen": 5,
         "title": {
          "text": "World Rank"
         },
         "zeroline": false
        }
       }
      },
      "text/html": [
       "<div>                            <div id=\"b8095354-a1ed-4dee-97fd-076b36b922c0\" class=\"plotly-graph-div\" style=\"height:525px; width:100%;\"></div>            <script type=\"text/javascript\">                require([\"plotly\"], function(Plotly) {                    window.PLOTLYENV=window.PLOTLYENV || {};                                    if (document.getElementById(\"b8095354-a1ed-4dee-97fd-076b36b922c0\")) {                    Plotly.newPlot(                        \"b8095354-a1ed-4dee-97fd-076b36b922c0\",                        [{\"marker\": {\"color\": \"rgba(16, 112, 2, 0.8)\"}, \"mode\": \"lines\", \"name\": \"citations\", \"text\": [\"Harvard University\", \"California Institute of Technology\", \"Massachusetts Institute of Technology\", \"Stanford University\", \"Princeton University\", \"University of Cambridge\", \"University of Oxford\", \"University of California, Berkeley\", \"Imperial College London\", \"Yale University\", \"University of California, Los Angeles\", \"University of Chicago\", \"Johns Hopkins University\", \"Cornell University\", \"ETH Zurich \\u2013 Swiss Federal Institute of Technology Zurich\", \"University of Michigan\", \"University of Toronto\", \"Columbia University\", \"University of Pennsylvania\", \"Carnegie Mellon University\", \"University of Hong Kong\", \"University College London\", \"University of Washington\", \"Duke University\", \"Northwestern University\", \"University of Tokyo\", \"Georgia Institute of Technology\", \"Pohang University of Science and Technology\", \"University of California, Santa Barbara\", \"University of British Columbia\", \"University of North Carolina at Chapel Hill\", \"University of California, San Diego\", \"University of Illinois at Urbana-Champaign\", \"National University of Singapore\", \"McGill University\", \"University of Melbourne\", \"Peking University\", \"Washington University in St Louis\", \"\\u00c9cole Polytechnique\", \"University of Edinburgh\", \"Hong Kong University of Science and Technology\", \"\\u00c9cole Normale Sup\\u00e9rieure\", \"Australian National University\", \"Karolinska Institute\", \"University of G\\u00f6ttingen\", \"University of Wisconsin\", \"Rice University\", \"\\u00c9cole Polytechnique F\\u00e9d\\u00e9rale de Lausanne\", \"University of California, Irvine\", \"University of Science and Technology of China\", \"Vanderbilt University\", \"University of Minnesota\", \"Tufts University\", \"University of California, Davis\", \"Brown University\", \"University of Massachusetts\", \"Kyoto University\", \"Tsinghua University\", \"Boston University\", \"New York University\", \"Emory University\", \"LMU Munich\", \"University of Notre Dame\", \"University of Pittsburgh\", \"Case Western Reserve University\", \"Ohio State University\", \"University of Colorado Boulder\", \"University of Bristol\", \"University of California, Santa Cruz\", \"Yeshiva University\", \"University of Sydney\", \"University of Virginia\", \"University of Adelaide\", \"University of Southern California\", \"William & Mary\", \"Trinity College Dublin\", \"King\\u2019s College London\", \"Stony Brook University\", \"Korea Advanced Institute of Science and Technology (KAIST)\", \"University of Sussex\", \"The University of Queensland\", \"University of York\", \"Heidelberg University\", \"University of Utah\", \"Durham University\", \"London School of Economics and Political Science\", \"University of Manchester\", \"Royal Holloway, University of London\", \"Lund University\", \"University of Southampton\", \"University of Zurich\", \"Wake Forest University\", \"McMaster University\", \"University College Dublin\", \"George Washington University\", \"University of Arizona\", \"University of Basel\", \"University of Maryland, College Park\", \"Dartmouth College\", \"\\u00c9cole Normale Sup\\u00e9rieure de Lyon\"], \"type\": \"scatter\", \"x\": [\"1\", \"2\", \"3\", \"4\", \"5\", \"6\", \"6\", \"8\", \"9\", \"10\", \"11\", \"12\", \"13\", \"14\", \"15\", \"15\", \"17\", \"18\", \"19\", \"20\", \"21\", \"22\", \"23\", \"24\", \"25\", \"26\", \"27\", \"28\", \"29\", \"30\", \"30\", \"32\", \"33\", \"34\", \"35\", \"36\", \"37\", \"38\", \"39\", \"40\", \"41\", \"42\", \"43\", \"43\", \"43\", \"43\", \"47\", \"48\", \"49\", \"49\", \"51\", \"52\", \"53\", \"54\", \"55\", \"56\", \"57\", \"58\", \"59\", \"60\", \"61\", \"61\", \"63\", \"64\", \"65\", \"66\", \"67\", \"68\", \"68\", \"68\", \"71\", \"72\", \"73\", \"73\", \"75\", \"76\", \"77\", \"78\", \"79\", \"79\", \"81\", \"81\", \"83\", \"83\", \"85\", \"86\", \"87\", \"88\", \"89\", \"90\", \"90\", \"90\", \"93\", \"94\", \"95\", \"95\", \"95\", \"98\", \"99\", \"100\"], \"y\": [98.8, 99.9, 99.9, 99.2, 99.9, 94.0, 95.1, 97.8, 88.3, 91.5, 93.2, 96.9, 92.3, 88.1, 83.1, 84.1, 82.2, 92.6, 93.6, 95.7, 96.1, 80.6, 95.9, 92.3, 95.3, 58.1, 83.2, 96.5, 98.8, 80.3, 85.0, 90.8, 72.9, 78.7, 69.0, 83.3, 72.2, 88.6, 91.4, 86.8, 98.2, 95.7, 81.0, 62.3, 92.5, 83.4, 99.1, 83.8, 91.6, 92.7, 78.1, 76.4, 83.9, 68.8, 77.7, 67.9, 46.3, 52.7, 91.4, 82.9, 77.8, 76.4, 89.1, 78.3, 66.0, 67.2, 83.4, 80.9, 99.6, 74.4, 64.3, 68.6, 90.5, 71.9, 95.6, 84.4, 72.1, 85.8, 45.5, 91.6, 69.0, 81.9, 70.3, 72.0, 91.0, 51.6, 59.2, 93.2, 67.6, 72.9, 65.0, 79.2, 68.5, 86.3, 70.2, 70.1, 78.3, 79.2, 79.7, 88.8]}, {\"marker\": {\"color\": \"rgba(80, 26, 80, 0.8)\"}, \"mode\": \"lines+markers\", \"name\": \"teaching\", \"text\": [\"Harvard University\", \"California Institute of Technology\", \"Massachusetts Institute of Technology\", \"Stanford University\", \"Princeton University\", \"University of Cambridge\", \"University of Oxford\", \"University of California, Berkeley\", \"Imperial College London\", \"Yale University\", \"University of California, Los Angeles\", \"University of Chicago\", \"Johns Hopkins University\", \"Cornell University\", \"ETH Zurich \\u2013 Swiss Federal Institute of Technology Zurich\", \"University of Michigan\", \"University of Toronto\", \"Columbia University\", \"University of Pennsylvania\", \"Carnegie Mellon University\", \"University of Hong Kong\", \"University College London\", \"University of Washington\", \"Duke University\", \"Northwestern University\", \"University of Tokyo\", \"Georgia Institute of Technology\", \"Pohang University of Science and Technology\", \"University of California, Santa Barbara\", \"University of British Columbia\", \"University of North Carolina at Chapel Hill\", \"University of California, San Diego\", \"University of Illinois at Urbana-Champaign\", \"National University of Singapore\", \"McGill University\", \"University of Melbourne\", \"Peking University\", \"Washington University in St Louis\", \"\\u00c9cole Polytechnique\", \"University of Edinburgh\", \"Hong Kong University of Science and Technology\", \"\\u00c9cole Normale Sup\\u00e9rieure\", \"Australian National University\", \"Karolinska Institute\", \"University of G\\u00f6ttingen\", \"University of Wisconsin\", \"Rice University\", \"\\u00c9cole Polytechnique F\\u00e9d\\u00e9rale de Lausanne\", \"University of California, Irvine\", \"University of Science and Technology of China\", \"Vanderbilt University\", \"University of Minnesota\", \"Tufts University\", \"University of California, Davis\", \"Brown University\", \"University of Massachusetts\", \"Kyoto University\", \"Tsinghua University\", \"Boston University\", \"New York University\", \"Emory University\", \"LMU Munich\", \"University of Notre Dame\", \"University of Pittsburgh\", \"Case Western Reserve University\", \"Ohio State University\", \"University of Colorado Boulder\", \"University of Bristol\", \"University of California, Santa Cruz\", \"Yeshiva University\", \"University of Sydney\", \"University of Virginia\", \"University of Adelaide\", \"University of Southern California\", \"William & Mary\", \"Trinity College Dublin\", \"King\\u2019s College London\", \"Stony Brook University\", \"Korea Advanced Institute of Science and Technology (KAIST)\", \"University of Sussex\", \"The University of Queensland\", \"University of York\", \"Heidelberg University\", \"University of Utah\", \"Durham University\", \"London School of Economics and Political Science\", \"University of Manchester\", \"Royal Holloway, University of London\", \"Lund University\", \"University of Southampton\", \"University of Zurich\", \"Wake Forest University\", \"McMaster University\", \"University College Dublin\", \"George Washington University\", \"University of Arizona\", \"University of Basel\", \"University of Maryland, College Park\", \"Dartmouth College\", \"\\u00c9cole Normale Sup\\u00e9rieure de Lyon\"], \"type\": \"scatter\", \"x\": [\"1\", \"2\", \"3\", \"4\", \"5\", \"6\", \"6\", \"8\", \"9\", \"10\", \"11\", \"12\", \"13\", \"14\", \"15\", \"15\", \"17\", \"18\", \"19\", \"20\", \"21\", \"22\", \"23\", \"24\", \"25\", \"26\", \"27\", \"28\", \"29\", \"30\", \"30\", \"32\", \"33\", \"34\", \"35\", \"36\", \"37\", \"38\", \"39\", \"40\", \"41\", \"42\", \"43\", \"43\", \"43\", \"43\", \"47\", \"48\", \"49\", \"49\", \"51\", \"52\", \"53\", \"54\", \"55\", \"56\", \"57\", \"58\", \"59\", \"60\", \"61\", \"61\", \"63\", \"64\", \"65\", \"66\", \"67\", \"68\", \"68\", \"68\", \"71\", \"72\", \"73\", \"73\", \"75\", \"76\", \"77\", \"78\", \"79\", \"79\", \"81\", \"81\", \"83\", \"83\", \"85\", \"86\", \"87\", \"88\", \"89\", \"90\", \"90\", \"90\", \"93\", \"94\", \"95\", \"95\", \"95\", \"98\", \"99\", \"100\"], \"y\": [99.7, 97.7, 97.8, 98.3, 90.9, 90.5, 88.2, 84.2, 89.2, 92.1, 83.0, 79.1, 80.9, 82.2, 77.5, 83.9, 75.8, 73.8, 71.8, 70.3, 68.4, 74.0, 68.2, 66.8, 64.5, 87.7, 67.9, 69.5, 56.6, 65.1, 70.9, 59.8, 68.1, 65.5, 69.0, 58.7, 76.4, 58.9, 57.9, 59.9, 50.4, 66.8, 51.9, 65.8, 57.3, 55.5, 57.4, 55.0, 49.4, 57.5, 64.9, 57.6, 64.1, 57.3, 59.7, 61.3, 78.9, 74.9, 53.6, 62.0, 63.4, 59.1, 56.4, 58.5, 67.2, 63.5, 46.4, 49.6, 38.3, 63.5, 49.8, 62.0, 46.5, 65.4, 53.1, 47.7, 48.5, 48.5, 71.3, 42.4, 51.8, 47.9, 59.2, 55.8, 39.8, 62.4, 56.5, 37.7, 46.3, 50.8, 56.6, 54.6, 44.7, 42.4, 60.6, 52.4, 50.2, 45.4, 44.7, 51.1]}],                        {\"template\": {\"data\": {\"bar\": [{\"error_x\": {\"color\": \"#2a3f5f\"}, \"error_y\": {\"color\": \"#2a3f5f\"}, \"marker\": {\"line\": {\"color\": \"#E5ECF6\", \"width\": 0.5}}, \"type\": \"bar\"}], \"barpolar\": [{\"marker\": {\"line\": {\"color\": \"#E5ECF6\", \"width\": 0.5}}, \"type\": \"barpolar\"}], \"carpet\": [{\"aaxis\": {\"endlinecolor\": \"#2a3f5f\", \"gridcolor\": \"white\", \"linecolor\": \"white\", \"minorgridcolor\": \"white\", \"startlinecolor\": \"#2a3f5f\"}, \"baxis\": {\"endlinecolor\": \"#2a3f5f\", \"gridcolor\": \"white\", \"linecolor\": \"white\", \"minorgridcolor\": \"white\", \"startlinecolor\": \"#2a3f5f\"}, \"type\": \"carpet\"}], \"choropleth\": [{\"colorbar\": {\"outlinewidth\": 0, \"ticks\": \"\"}, \"type\": \"choropleth\"}], \"contour\": [{\"colorbar\": {\"outlinewidth\": 0, \"ticks\": \"\"}, \"colorscale\": [[0.0, \"#0d0887\"], [0.1111111111111111, \"#46039f\"], [0.2222222222222222, \"#7201a8\"], [0.3333333333333333, \"#9c179e\"], [0.4444444444444444, \"#bd3786\"], [0.5555555555555556, \"#d8576b\"], [0.6666666666666666, \"#ed7953\"], [0.7777777777777778, \"#fb9f3a\"], [0.8888888888888888, \"#fdca26\"], [1.0, \"#f0f921\"]], \"type\": \"contour\"}], \"contourcarpet\": [{\"colorbar\": {\"outlinewidth\": 0, \"ticks\": \"\"}, \"type\": \"contourcarpet\"}], \"heatmap\": [{\"colorbar\": {\"outlinewidth\": 0, \"ticks\": \"\"}, \"colorscale\": [[0.0, \"#0d0887\"], [0.1111111111111111, \"#46039f\"], [0.2222222222222222, \"#7201a8\"], [0.3333333333333333, \"#9c179e\"], [0.4444444444444444, \"#bd3786\"], [0.5555555555555556, \"#d8576b\"], [0.6666666666666666, \"#ed7953\"], [0.7777777777777778, \"#fb9f3a\"], [0.8888888888888888, \"#fdca26\"], [1.0, \"#f0f921\"]], \"type\": \"heatmap\"}], \"heatmapgl\": [{\"colorbar\": {\"outlinewidth\": 0, \"ticks\": \"\"}, \"colorscale\": [[0.0, \"#0d0887\"], [0.1111111111111111, \"#46039f\"], [0.2222222222222222, \"#7201a8\"], [0.3333333333333333, \"#9c179e\"], [0.4444444444444444, \"#bd3786\"], [0.5555555555555556, \"#d8576b\"], [0.6666666666666666, \"#ed7953\"], [0.7777777777777778, \"#fb9f3a\"], [0.8888888888888888, \"#fdca26\"], [1.0, \"#f0f921\"]], \"type\": \"heatmapgl\"}], \"histogram\": [{\"marker\": {\"colorbar\": {\"outlinewidth\": 0, \"ticks\": \"\"}}, \"type\": \"histogram\"}], \"histogram2d\": [{\"colorbar\": {\"outlinewidth\": 0, \"ticks\": \"\"}, \"colorscale\": [[0.0, \"#0d0887\"], [0.1111111111111111, \"#46039f\"], [0.2222222222222222, \"#7201a8\"], [0.3333333333333333, \"#9c179e\"], [0.4444444444444444, \"#bd3786\"], [0.5555555555555556, \"#d8576b\"], [0.6666666666666666, \"#ed7953\"], [0.7777777777777778, \"#fb9f3a\"], [0.8888888888888888, \"#fdca26\"], [1.0, \"#f0f921\"]], \"type\": \"histogram2d\"}], \"histogram2dcontour\": [{\"colorbar\": {\"outlinewidth\": 0, \"ticks\": \"\"}, \"colorscale\": [[0.0, \"#0d0887\"], [0.1111111111111111, \"#46039f\"], [0.2222222222222222, \"#7201a8\"], [0.3333333333333333, \"#9c179e\"], [0.4444444444444444, \"#bd3786\"], [0.5555555555555556, \"#d8576b\"], [0.6666666666666666, \"#ed7953\"], [0.7777777777777778, \"#fb9f3a\"], [0.8888888888888888, \"#fdca26\"], [1.0, \"#f0f921\"]], \"type\": \"histogram2dcontour\"}], \"mesh3d\": [{\"colorbar\": {\"outlinewidth\": 0, \"ticks\": \"\"}, \"type\": \"mesh3d\"}], \"parcoords\": [{\"line\": {\"colorbar\": {\"outlinewidth\": 0, \"ticks\": \"\"}}, \"type\": \"parcoords\"}], \"pie\": [{\"automargin\": true, \"type\": \"pie\"}], \"scatter\": [{\"marker\": {\"colorbar\": {\"outlinewidth\": 0, \"ticks\": \"\"}}, \"type\": \"scatter\"}], \"scatter3d\": [{\"line\": {\"colorbar\": {\"outlinewidth\": 0, \"ticks\": \"\"}}, \"marker\": {\"colorbar\": {\"outlinewidth\": 0, \"ticks\": \"\"}}, \"type\": \"scatter3d\"}], \"scattercarpet\": [{\"marker\": {\"colorbar\": {\"outlinewidth\": 0, \"ticks\": \"\"}}, \"type\": \"scattercarpet\"}], \"scattergeo\": [{\"marker\": {\"colorbar\": {\"outlinewidth\": 0, \"ticks\": \"\"}}, \"type\": \"scattergeo\"}], \"scattergl\": [{\"marker\": {\"colorbar\": {\"outlinewidth\": 0, \"ticks\": \"\"}}, \"type\": \"scattergl\"}], \"scattermapbox\": [{\"marker\": {\"colorbar\": {\"outlinewidth\": 0, \"ticks\": \"\"}}, \"type\": \"scattermapbox\"}], \"scatterpolar\": [{\"marker\": {\"colorbar\": {\"outlinewidth\": 0, \"ticks\": \"\"}}, \"type\": \"scatterpolar\"}], \"scatterpolargl\": [{\"marker\": {\"colorbar\": {\"outlinewidth\": 0, \"ticks\": \"\"}}, \"type\": \"scatterpolargl\"}], \"scatterternary\": [{\"marker\": {\"colorbar\": {\"outlinewidth\": 0, \"ticks\": \"\"}}, \"type\": \"scatterternary\"}], \"surface\": [{\"colorbar\": {\"outlinewidth\": 0, \"ticks\": \"\"}, \"colorscale\": [[0.0, \"#0d0887\"], [0.1111111111111111, \"#46039f\"], [0.2222222222222222, \"#7201a8\"], [0.3333333333333333, \"#9c179e\"], [0.4444444444444444, \"#bd3786\"], [0.5555555555555556, \"#d8576b\"], [0.6666666666666666, \"#ed7953\"], [0.7777777777777778, \"#fb9f3a\"], [0.8888888888888888, \"#fdca26\"], [1.0, \"#f0f921\"]], \"type\": \"surface\"}], \"table\": [{\"cells\": {\"fill\": {\"color\": \"#EBF0F8\"}, \"line\": {\"color\": \"white\"}}, \"header\": {\"fill\": {\"color\": \"#C8D4E3\"}, \"line\": {\"color\": \"white\"}}, \"type\": \"table\"}]}, \"layout\": {\"annotationdefaults\": {\"arrowcolor\": \"#2a3f5f\", \"arrowhead\": 0, \"arrowwidth\": 1}, \"autotypenumbers\": \"strict\", \"coloraxis\": {\"colorbar\": {\"outlinewidth\": 0, \"ticks\": \"\"}}, \"colorscale\": {\"diverging\": [[0, \"#8e0152\"], [0.1, \"#c51b7d\"], [0.2, \"#de77ae\"], [0.3, \"#f1b6da\"], [0.4, \"#fde0ef\"], [0.5, \"#f7f7f7\"], [0.6, \"#e6f5d0\"], [0.7, \"#b8e186\"], [0.8, \"#7fbc41\"], [0.9, \"#4d9221\"], [1, \"#276419\"]], \"sequential\": [[0.0, \"#0d0887\"], [0.1111111111111111, \"#46039f\"], [0.2222222222222222, \"#7201a8\"], [0.3333333333333333, \"#9c179e\"], [0.4444444444444444, \"#bd3786\"], [0.5555555555555556, \"#d8576b\"], [0.6666666666666666, \"#ed7953\"], [0.7777777777777778, \"#fb9f3a\"], [0.8888888888888888, \"#fdca26\"], [1.0, \"#f0f921\"]], \"sequentialminus\": [[0.0, \"#0d0887\"], [0.1111111111111111, \"#46039f\"], [0.2222222222222222, \"#7201a8\"], [0.3333333333333333, \"#9c179e\"], [0.4444444444444444, \"#bd3786\"], [0.5555555555555556, \"#d8576b\"], [0.6666666666666666, \"#ed7953\"], [0.7777777777777778, \"#fb9f3a\"], [0.8888888888888888, \"#fdca26\"], [1.0, \"#f0f921\"]]}, \"colorway\": [\"#636efa\", \"#EF553B\", \"#00cc96\", \"#ab63fa\", \"#FFA15A\", \"#19d3f3\", \"#FF6692\", \"#B6E880\", \"#FF97FF\", \"#FECB52\"], \"font\": {\"color\": \"#2a3f5f\"}, \"geo\": {\"bgcolor\": \"white\", \"lakecolor\": \"white\", \"landcolor\": \"#E5ECF6\", \"showlakes\": true, \"showland\": true, \"subunitcolor\": \"white\"}, \"hoverlabel\": {\"align\": \"left\"}, \"hovermode\": \"closest\", \"mapbox\": {\"style\": \"light\"}, \"paper_bgcolor\": \"white\", \"plot_bgcolor\": \"#E5ECF6\", \"polar\": {\"angularaxis\": {\"gridcolor\": \"white\", \"linecolor\": \"white\", \"ticks\": \"\"}, \"bgcolor\": \"#E5ECF6\", \"radialaxis\": {\"gridcolor\": \"white\", \"linecolor\": \"white\", \"ticks\": \"\"}}, \"scene\": {\"xaxis\": {\"backgroundcolor\": \"#E5ECF6\", \"gridcolor\": \"white\", \"gridwidth\": 2, \"linecolor\": \"white\", \"showbackground\": true, \"ticks\": \"\", \"zerolinecolor\": \"white\"}, \"yaxis\": {\"backgroundcolor\": \"#E5ECF6\", \"gridcolor\": \"white\", \"gridwidth\": 2, \"linecolor\": \"white\", \"showbackground\": true, \"ticks\": \"\", \"zerolinecolor\": \"white\"}, \"zaxis\": {\"backgroundcolor\": \"#E5ECF6\", \"gridcolor\": \"white\", \"gridwidth\": 2, \"linecolor\": \"white\", \"showbackground\": true, \"ticks\": \"\", \"zerolinecolor\": \"white\"}}, \"shapedefaults\": {\"line\": {\"color\": \"#2a3f5f\"}}, \"ternary\": {\"aaxis\": {\"gridcolor\": \"white\", \"linecolor\": \"white\", \"ticks\": \"\"}, \"baxis\": {\"gridcolor\": \"white\", \"linecolor\": \"white\", \"ticks\": \"\"}, \"bgcolor\": \"#E5ECF6\", \"caxis\": {\"gridcolor\": \"white\", \"linecolor\": \"white\", \"ticks\": \"\"}}, \"title\": {\"x\": 0.05}, \"xaxis\": {\"automargin\": true, \"gridcolor\": \"white\", \"linecolor\": \"white\", \"ticks\": \"\", \"title\": {\"standoff\": 15}, \"zerolinecolor\": \"white\", \"zerolinewidth\": 2}, \"yaxis\": {\"automargin\": true, \"gridcolor\": \"white\", \"linecolor\": \"white\", \"ticks\": \"\", \"title\": {\"standoff\": 15}, \"zerolinecolor\": \"white\", \"zerolinewidth\": 2}}}, \"title\": {\"text\": \"Citation and Teaching vs World Rank of Top 100 Universities\"}, \"xaxis\": {\"ticklen\": 5, \"title\": {\"text\": \"World Rank\"}, \"zeroline\": false}},                        {\"responsive\": true}                    ).then(function(){\n",
       "                            \n",
       "var gd = document.getElementById('b8095354-a1ed-4dee-97fd-076b36b922c0');\n",
       "var x = new MutationObserver(function (mutations, observer) {{\n",
       "        var display = window.getComputedStyle(gd).display;\n",
       "        if (!display || display === 'none') {{\n",
       "            console.log([gd, 'removed!']);\n",
       "            Plotly.purge(gd);\n",
       "            observer.disconnect();\n",
       "        }}\n",
       "}});\n",
       "\n",
       "// Listen for the removal of the full notebook cells\n",
       "var notebookContainer = gd.closest('#notebook-container');\n",
       "if (notebookContainer) {{\n",
       "    x.observe(notebookContainer, {childList: true});\n",
       "}}\n",
       "\n",
       "// Listen for the clearing of the current output cell\n",
       "var outputEl = gd.closest('.output');\n",
       "if (outputEl) {{\n",
       "    x.observe(outputEl, {childList: true});\n",
       "}}\n",
       "\n",
       "                        })                };                });            </script>        </div>"
      ]
     },
     "metadata": {},
     "output_type": "display_data"
    }
   ],
   "source": [
    "# prepare data frame\n",
    "df = timesData.iloc[:100,:]\n",
    "\n",
    "# import graph objects as \"go\"\n",
    "import plotly.graph_objs as go\n",
    "\n",
    "# Creating trace1\n",
    "trace1 = go.Scatter(\n",
    "                    x = df.world_rank,\n",
    "                    y = df.citations,\n",
    "                    mode = \"lines\",\n",
    "                    name = \"citations\",\n",
    "                    marker = dict(color = 'rgba(16, 112, 2, 0.8)'),\n",
    "                    text= df.university_name)\n",
    "# Creating trace2\n",
    "trace2 = go.Scatter(\n",
    "                    x = df.world_rank,\n",
    "                    y = df.teaching,\n",
    "                    mode = \"lines+markers\",\n",
    "                    name = \"teaching\",\n",
    "                    marker = dict(color = 'rgba(80, 26, 80, 0.8)'),\n",
    "                    text= df.university_name)\n",
    "data = [trace1, trace2]\n",
    "layout = dict(title = 'Citation and Teaching vs World Rank of Top 100 Universities',\n",
    "              xaxis= dict(title= 'World Rank',ticklen= 5,zeroline= False)\n",
    "             )\n",
    "fig = dict(data = data, layout = layout)\n",
    "iplot(fig)"
   ]
  },
  {
   "cell_type": "markdown",
   "metadata": {},
   "source": [
    "## Scatterplot:\n",
    "\n",
    "### Things to note:\n",
    "\n",
    "**1. mode = \"lines\"**\n",
    "\n",
    "**2. layout**\n"
   ]
  },
  {
   "cell_type": "code",
   "execution_count": 9,
   "metadata": {},
   "outputs": [
    {
     "data": {
      "application/vnd.plotly.v1+json": {
       "config": {
        "linkText": "Export to plot.ly",
        "plotlyServerURL": "https://plot.ly",
        "showLink": false
       },
       "data": [
        {
         "marker": {
          "color": "rgba(255, 128, 255, 0.8)"
         },
         "mode": "markers",
         "name": "2014",
         "text": [
          "California Institute of Technology",
          "Harvard University",
          "University of Oxford",
          "Stanford University",
          "Massachusetts Institute of Technology",
          "Princeton University",
          "University of Cambridge",
          "University of California, Berkeley",
          "University of Chicago",
          "Imperial College London",
          "Yale University",
          "University of California, Los Angeles",
          "Columbia University",
          "ETH Zurich – Swiss Federal Institute of Technology Zurich",
          "Johns Hopkins University",
          "University of Pennsylvania",
          "Duke University",
          "University of Michigan",
          "Cornell University",
          "University of Toronto",
          "University College London",
          "Northwestern University",
          "University of Tokyo",
          "Carnegie Mellon University",
          "University of Washington",
          "National University of Singapore",
          "University of Texas at Austin",
          "Georgia Institute of Technology",
          "University of Illinois at Urbana-Champaign",
          "University of Wisconsin-Madison",
          "University of British Columbia",
          "London School of Economics and Political Science",
          "University of California, Santa Barbara",
          "University of Melbourne",
          "McGill University",
          "Karolinska Institute",
          "École Polytechnique Fédérale de Lausanne",
          "King’s College London",
          "University of Edinburgh",
          "New York University",
          "University of California, San Diego",
          "Washington University in St Louis",
          "University of Hong Kong",
          "Seoul National University",
          "Peking University",
          "University of Minnesota",
          "University of North Carolina at Chapel Hill",
          "Australian National University",
          "Pennsylvania State University",
          "Boston University",
          "Tsinghua University",
          "Brown University",
          "Kyoto University",
          "University of California, Davis",
          "LMU Munich",
          "Korea Advanced Institute of Science and Technology (KAIST)",
          "Hong Kong University of Science and Technology",
          "University of Manchester",
          "Ohio State University",
          "Pohang University of Science and Technology",
          "KU Leuven",
          "Purdue University",
          "The University of Queensland",
          "University of Göttingen",
          "Rice University",
          "École Normale Supérieure",
          "Leiden University",
          "Heidelberg University",
          "Delft University of Technology",
          "University of Southern California",
          "École Polytechnique",
          "University of Sydney",
          "Erasmus University Rotterdam",
          "University of Basel",
          "Utrecht University",
          "Nanyang Technological University",
          "Wageningen University and Research Center",
          "University of Pittsburgh",
          "University of Bristol",
          "Durham University",
          "Emory University",
          "Tufts University",
          "Michigan State University",
          "University of Amsterdam",
          "Ghent University",
          "Free University of Berlin",
          "Technical University of Munich",
          "Case Western Reserve University",
          "Vanderbilt University",
          "University of Notre Dame",
          "Monash University",
          "McMaster University",
          "University of California, Irvine",
          "Humboldt University of Berlin",
          "University of Rochester",
          "Pierre and Marie Curie University",
          "University of Colorado Boulder",
          "Maastricht University",
          "University of Groningen",
          "University of Helsinki"
         ],
         "type": "scatter",
         "x": [
          "1",
          "2",
          "2",
          "4",
          "5",
          "6",
          "7",
          "8",
          "9",
          "10",
          "11",
          "12",
          "13",
          "14",
          "15",
          "16",
          "17",
          "18",
          "19",
          "20",
          "21",
          "22",
          "23",
          "24",
          "25",
          "26",
          "27",
          "28",
          "29",
          "30",
          "31",
          "32",
          "33",
          "34",
          "35",
          "36",
          "37",
          "38",
          "39",
          "40",
          "40",
          "42",
          "43",
          "44",
          "45",
          "46",
          "47",
          "48",
          "49",
          "50",
          "50",
          "52",
          "52",
          "52",
          "55",
          "56",
          "57",
          "58",
          "59",
          "60",
          "61",
          "62",
          "63",
          "63",
          "65",
          "65",
          "67",
          "68",
          "69",
          "70",
          "70",
          "72",
          "73",
          "74",
          "74",
          "76",
          "77",
          "78",
          "79",
          "80",
          "80",
          "80",
          "83",
          "83",
          "85",
          "86",
          "87",
          "88",
          "88",
          "90",
          "91",
          "92",
          "93",
          "94",
          "95",
          "96",
          "97",
          "98",
          "98",
          "100"
         ],
         "y": [
          99.8,
          99.1,
          95.4,
          99.1,
          100,
          99.7,
          95.7,
          99.3,
          98,
          90,
          93.5,
          95.6,
          95.6,
          85,
          95,
          95,
          96.7,
          90.8,
          90.8,
          84.5,
          84.1,
          97.1,
          69.8,
          93.9,
          95.6,
          66.4,
          91.3,
          87.9,
          79.4,
          87.2,
          83.7,
          69.2,
          99.4,
          80.2,
          74.5,
          76,
          95.9,
          87.6,
          87.6,
          87.9,
          96.7,
          96.4,
          61.5,
          47.3,
          62.8,
          81.2,
          90.2,
          71.2,
          79.4,
          95.3,
          59.9,
          91.3,
          58.2,
          81.2,
          83.3,
          67,
          72.3,
          77.3,
          79.4,
          85.7,
          72.9,
          67,
          73.3,
          89.6,
          99.9,
          87,
          84.2,
          76,
          47.2,
          81.2,
          82.3,
          66.6,
          81.2,
          81.4,
          82,
          67.5,
          74.1,
          84.4,
          84.9,
          88.2,
          90.8,
          93.9,
          71.5,
          75,
          74.9,
          64.8,
          80.7,
          82.8,
          86.5,
          91.8,
          65.4,
          79.4,
          89.7,
          68.4,
          89.7,
          82.3,
          97.3,
          65.8,
          71.1,
          77.8
         ]
        },
        {
         "marker": {
          "color": "rgba(255, 128, 2, 0.8)"
         },
         "mode": "markers",
         "name": "2015",
         "text": [
          "California Institute of Technology",
          "Harvard University",
          "University of Oxford",
          "Stanford University",
          "University of Cambridge",
          "Massachusetts Institute of Technology",
          "Princeton University",
          "University of California, Berkeley",
          "Imperial College London",
          "Yale University",
          "University of Chicago",
          "University of California, Los Angeles",
          "ETH Zurich – Swiss Federal Institute of Technology Zurich",
          "Columbia University",
          "Johns Hopkins University",
          "University of Pennsylvania",
          "University of Michigan",
          "Duke University",
          "Cornell University",
          "University of Toronto",
          "Northwestern University",
          "University College London",
          "University of Tokyo",
          "Carnegie Mellon University",
          "National University of Singapore",
          "University of Washington",
          "Georgia Institute of Technology",
          "University of Texas at Austin",
          "LMU Munich",
          "University of Illinois at Urbana-Champaign",
          "University of Wisconsin-Madison",
          "University of British Columbia",
          "University of Melbourne",
          "London School of Economics and Political Science",
          "École Polytechnique Fédérale de Lausanne",
          "University of Edinburgh",
          "University of California, Santa Barbara",
          "New York University",
          "McGill University",
          "King’s College London",
          "University of California, San Diego",
          "Washington University in St Louis",
          "University of Hong Kong",
          "Karolinska Institute",
          "Australian National University",
          "University of Minnesota",
          "University of North Carolina at Chapel Hill",
          "Peking University",
          "Tsinghua University",
          "Seoul National University",
          "Hong Kong University of Science and Technology",
          "Korea Advanced Institute of Science and Technology (KAIST)",
          "University of Manchester",
          "Brown University",
          "KU Leuven",
          "University of California, Davis",
          "Boston University",
          "Pennsylvania State University",
          "Kyoto University",
          "University of Sydney",
          "Nanyang Technological University",
          "École Polytechnique",
          "Scuola Normale Superiore di Pisa",
          "Leiden University",
          "The University of Queensland",
          "Pohang University of Science and Technology",
          "University of Göttingen",
          "Ohio State University",
          "Rice University",
          "Heidelberg University",
          "Delft University of Technology",
          "Erasmus University Rotterdam",
          "Wageningen University and Research Center",
          "University of Bristol",
          "University of Basel",
          "University of Southern California",
          "University of Amsterdam",
          "École Normale Supérieure",
          "Utrecht University",
          "Humboldt University of Berlin",
          "Free University of Berlin",
          "Michigan State University",
          "Durham University",
          "Monash University",
          "Middle East Technical University",
          "University of Arizona",
          "University of Notre Dame",
          "Tufts University",
          "University of California, Irvine",
          "Ghent University",
          "University of Massachusetts",
          "University of Pittsburgh",
          "Emory University",
          "McMaster University",
          "University of Glasgow",
          "Vanderbilt University",
          "University of Colorado Boulder",
          "Stockholm University",
          "Technical University of Munich",
          "Uppsala University"
         ],
         "type": "scatter",
         "x": [
          "1",
          "2",
          "3",
          "4",
          "5",
          "6",
          "7",
          "8",
          "9",
          "9",
          "11",
          "12",
          "13",
          "14",
          "15",
          "16",
          "17",
          "18",
          "19",
          "20",
          "21",
          "22",
          "23",
          "24",
          "25",
          "26",
          "27",
          "28",
          "29",
          "29",
          "29",
          "32",
          "33",
          "34",
          "34",
          "36",
          "37",
          "38",
          "39",
          "40",
          "41",
          "42",
          "43",
          "44",
          "45",
          "46",
          "46",
          "48",
          "49",
          "50",
          "51",
          "52",
          "52",
          "54",
          "55",
          "55",
          "57",
          "58",
          "59",
          "60",
          "61",
          "61",
          "63",
          "64",
          "65",
          "66",
          "67",
          "68",
          "69",
          "70",
          "71",
          "72",
          "73",
          "74",
          "75",
          "75",
          "77",
          "78",
          "79",
          "80",
          "81",
          "82",
          "83",
          "83",
          "85",
          "86",
          "86",
          "88",
          "88",
          "90",
          "91",
          "91",
          "93",
          "94",
          "94",
          "96",
          "97",
          "98",
          "98",
          "98"
         ],
         "y": [
          99.7,
          98.9,
          95.5,
          99.1,
          95.2,
          100,
          99.6,
          99.1,
          89.4,
          94,
          97.3,
          95.3,
          83.5,
          95.3,
          93.6,
          94.4,
          88.9,
          96.6,
          91.5,
          83,
          96.9,
          85.1,
          74.7,
          92,
          66,
          95,
          85.8,
          91.5,
          83,
          77.8,
          87.7,
          85.3,
          80.6,
          71.3,
          95,
          88.3,
          99.2,
          89.5,
          76,
          88.3,
          96.4,
          97.1,
          65.1,
          76.8,
          71.1,
          82.9,
          91,
          63.7,
          65,
          48.7,
          72.9,
          71.4,
          74.3,
          92,
          71.8,
          80.4,
          94.4,
          76,
          57,
          69,
          75.9,
          79.9,
          96.4,
          82.3,
          74.2,
          84.4,
          92.3,
          80.4,
          99.9,
          81.4,
          42.6,
          82.3,
          77.5,
          85.1,
          81.4,
          81.3,
          76.6,
          84.8,
          80,
          71.9,
          67.6,
          74,
          88.9,
          65.7,
          92,
          74,
          90,
          92.9,
          89.5,
          73.8,
          78.7,
          84.4,
          89.5,
          78.8,
          83.7,
          87.7,
          97.4,
          90.9,
          78.8,
          70.9
         ]
        },
        {
         "marker": {
          "color": "rgba(0, 255, 200, 0.8)"
         },
         "mode": "markers",
         "name": "2016",
         "text": [
          "California Institute of Technology",
          "University of Oxford",
          "Stanford University",
          "University of Cambridge",
          "Massachusetts Institute of Technology",
          "Harvard University",
          "Princeton University",
          "Imperial College London",
          "ETH Zurich – Swiss Federal Institute of Technology Zurich",
          "University of Chicago",
          "Johns Hopkins University",
          "Yale University",
          "University of California, Berkeley",
          "University College London",
          "Columbia University",
          "University of California, Los Angeles",
          "University of Pennsylvania",
          "Cornell University",
          "University of Toronto",
          "Duke University",
          "University of Michigan",
          "Carnegie Mellon University",
          "London School of Economics and Political Science",
          "University of Edinburgh",
          "Northwestern University",
          "National University of Singapore",
          "King’s College London",
          "Karolinska Institute",
          "LMU Munich",
          "New York University",
          "École Polytechnique Fédérale de Lausanne",
          "University of Washington",
          "University of Melbourne",
          "University of British Columbia",
          "KU Leuven",
          "University of Illinois at Urbana-Champaign",
          "Heidelberg University",
          "McGill University",
          "University of California, San Diego",
          "University of California, Santa Barbara",
          "Georgia Institute of Technology",
          "Peking University",
          "University of Tokyo",
          "University of California, Davis",
          "University of Hong Kong",
          "University of Texas at Austin",
          "Tsinghua University",
          "Wageningen University and Research Center",
          "Humboldt University of Berlin",
          "University of Wisconsin-Madison",
          "Brown University",
          "Australian National University",
          "Technical University of Munich",
          "École Normale Supérieure",
          "Nanyang Technological University",
          "University of Manchester",
          "University of Sydney",
          "University of Amsterdam",
          "Hong Kong University of Science and Technology",
          "The University of Queensland",
          "Washington University in St Louis",
          "Utrecht University",
          "University of North Carolina at Chapel Hill",
          "Boston University",
          "Delft University of Technology",
          "University of Minnesota",
          "Leiden University",
          "University of Southern California",
          "University of Bristol",
          "Durham University",
          "Erasmus University Rotterdam",
          "Free University of Berlin",
          "Monash University",
          "University of Groningen",
          "Pennsylvania State University",
          "University of Glasgow",
          "University of Helsinki",
          "University of Tübingen",
          "University of Pittsburgh",
          "University of Warwick",
          "Uppsala University",
          "University of Copenhagen",
          "University of New South Wales",
          "University of Freiburg",
          "Seoul National University",
          "University of St Andrews",
          "Vanderbilt University",
          "Kyoto University",
          "Maastricht University",
          "Emory University",
          "Lund University",
          "Ohio State University",
          "University of Exeter",
          "University of Bonn",
          "Georgetown University",
          "McMaster University",
          "University of Sheffield",
          "Queen Mary University of London",
          "University of Göttingen",
          "Michigan State University"
         ],
         "type": "scatter",
         "x": [
          "1",
          "2",
          "3",
          "4",
          "5",
          "6",
          "7",
          "8",
          "9",
          "10",
          "11",
          "12",
          "13",
          "14",
          "15",
          "16",
          "17",
          "18",
          "19",
          "20",
          "21",
          "22",
          "23",
          "24",
          "25",
          "26",
          "27",
          "28",
          "29",
          "30",
          "31",
          "32",
          "33",
          "34",
          "35",
          "36",
          "37",
          "38",
          "=39",
          "=39",
          "41",
          "42",
          "43",
          "=44",
          "=44",
          "46",
          "=47",
          "=47",
          "49",
          "50",
          "51",
          "52",
          "53",
          "54",
          "55",
          "=56",
          "=56",
          "58",
          "59",
          "=60",
          "=60",
          "62",
          "63",
          "64",
          "=65",
          "=65",
          "67",
          "68",
          "69",
          "70",
          "71",
          "72",
          "73",
          "74",
          "75",
          "=76",
          "=76",
          "78",
          "79",
          "80",
          "81",
          "=82",
          "=82",
          "84",
          "85",
          "86",
          "87",
          "=88",
          "=88",
          "=90",
          "=90",
          "=90",
          "93",
          "=94",
          "=94",
          "=94",
          "97",
          "98",
          "=99",
          "=99"
         ],
         "y": [
          99.8,
          98.8,
          99.9,
          97,
          99.7,
          99.8,
          99.3,
          96.7,
          91.1,
          99.2,
          98.2,
          97.2,
          99.7,
          94.2,
          98.1,
          98.5,
          98.6,
          97.2,
          90.9,
          99,
          94.4,
          99.1,
          94.3,
          96.3,
          96.5,
          79.4,
          93.8,
          92.2,
          85.7,
          95.3,
          94.6,
          98.6,
          86.6,
          91.5,
          87.3,
          86.8,
          88.2,
          78.9,
          98.7,
          99.2,
          86,
          69.1,
          60.9,
          84.3,
          70.1,
          92.2,
          58.8,
          87.8,
          73.6,
          86.6,
          96.4,
          72.3,
          80.1,
          87.1,
          85.6,
          77.3,
          77.5,
          87.4,
          82.6,
          82.4,
          99.2,
          88.1,
          95.9,
          97.7,
          61.5,
          88,
          85.2,
          93,
          91.2,
          87.7,
          95.6,
          60.2,
          73.3,
          84,
          80.5,
          92.3,
          82.1,
          79.3,
          92.3,
          78.2,
          80.9,
          86.2,
          82.1,
          80.5,
          50,
          78.8,
          95.7,
          46.6,
          82.7,
          96.7,
          81.3,
          83.2,
          94.3,
          85.3,
          82.5,
          84.9,
          80.1,
          93.3,
          72.7,
          76.8
         ]
        }
       ],
       "layout": {
        "template": {
         "data": {
          "bar": [
           {
            "error_x": {
             "color": "#2a3f5f"
            },
            "error_y": {
             "color": "#2a3f5f"
            },
            "marker": {
             "line": {
              "color": "#E5ECF6",
              "width": 0.5
             }
            },
            "type": "bar"
           }
          ],
          "barpolar": [
           {
            "marker": {
             "line": {
              "color": "#E5ECF6",
              "width": 0.5
             }
            },
            "type": "barpolar"
           }
          ],
          "carpet": [
           {
            "aaxis": {
             "endlinecolor": "#2a3f5f",
             "gridcolor": "white",
             "linecolor": "white",
             "minorgridcolor": "white",
             "startlinecolor": "#2a3f5f"
            },
            "baxis": {
             "endlinecolor": "#2a3f5f",
             "gridcolor": "white",
             "linecolor": "white",
             "minorgridcolor": "white",
             "startlinecolor": "#2a3f5f"
            },
            "type": "carpet"
           }
          ],
          "choropleth": [
           {
            "colorbar": {
             "outlinewidth": 0,
             "ticks": ""
            },
            "type": "choropleth"
           }
          ],
          "contour": [
           {
            "colorbar": {
             "outlinewidth": 0,
             "ticks": ""
            },
            "colorscale": [
             [
              0,
              "#0d0887"
             ],
             [
              0.1111111111111111,
              "#46039f"
             ],
             [
              0.2222222222222222,
              "#7201a8"
             ],
             [
              0.3333333333333333,
              "#9c179e"
             ],
             [
              0.4444444444444444,
              "#bd3786"
             ],
             [
              0.5555555555555556,
              "#d8576b"
             ],
             [
              0.6666666666666666,
              "#ed7953"
             ],
             [
              0.7777777777777778,
              "#fb9f3a"
             ],
             [
              0.8888888888888888,
              "#fdca26"
             ],
             [
              1,
              "#f0f921"
             ]
            ],
            "type": "contour"
           }
          ],
          "contourcarpet": [
           {
            "colorbar": {
             "outlinewidth": 0,
             "ticks": ""
            },
            "type": "contourcarpet"
           }
          ],
          "heatmap": [
           {
            "colorbar": {
             "outlinewidth": 0,
             "ticks": ""
            },
            "colorscale": [
             [
              0,
              "#0d0887"
             ],
             [
              0.1111111111111111,
              "#46039f"
             ],
             [
              0.2222222222222222,
              "#7201a8"
             ],
             [
              0.3333333333333333,
              "#9c179e"
             ],
             [
              0.4444444444444444,
              "#bd3786"
             ],
             [
              0.5555555555555556,
              "#d8576b"
             ],
             [
              0.6666666666666666,
              "#ed7953"
             ],
             [
              0.7777777777777778,
              "#fb9f3a"
             ],
             [
              0.8888888888888888,
              "#fdca26"
             ],
             [
              1,
              "#f0f921"
             ]
            ],
            "type": "heatmap"
           }
          ],
          "heatmapgl": [
           {
            "colorbar": {
             "outlinewidth": 0,
             "ticks": ""
            },
            "colorscale": [
             [
              0,
              "#0d0887"
             ],
             [
              0.1111111111111111,
              "#46039f"
             ],
             [
              0.2222222222222222,
              "#7201a8"
             ],
             [
              0.3333333333333333,
              "#9c179e"
             ],
             [
              0.4444444444444444,
              "#bd3786"
             ],
             [
              0.5555555555555556,
              "#d8576b"
             ],
             [
              0.6666666666666666,
              "#ed7953"
             ],
             [
              0.7777777777777778,
              "#fb9f3a"
             ],
             [
              0.8888888888888888,
              "#fdca26"
             ],
             [
              1,
              "#f0f921"
             ]
            ],
            "type": "heatmapgl"
           }
          ],
          "histogram": [
           {
            "marker": {
             "colorbar": {
              "outlinewidth": 0,
              "ticks": ""
             }
            },
            "type": "histogram"
           }
          ],
          "histogram2d": [
           {
            "colorbar": {
             "outlinewidth": 0,
             "ticks": ""
            },
            "colorscale": [
             [
              0,
              "#0d0887"
             ],
             [
              0.1111111111111111,
              "#46039f"
             ],
             [
              0.2222222222222222,
              "#7201a8"
             ],
             [
              0.3333333333333333,
              "#9c179e"
             ],
             [
              0.4444444444444444,
              "#bd3786"
             ],
             [
              0.5555555555555556,
              "#d8576b"
             ],
             [
              0.6666666666666666,
              "#ed7953"
             ],
             [
              0.7777777777777778,
              "#fb9f3a"
             ],
             [
              0.8888888888888888,
              "#fdca26"
             ],
             [
              1,
              "#f0f921"
             ]
            ],
            "type": "histogram2d"
           }
          ],
          "histogram2dcontour": [
           {
            "colorbar": {
             "outlinewidth": 0,
             "ticks": ""
            },
            "colorscale": [
             [
              0,
              "#0d0887"
             ],
             [
              0.1111111111111111,
              "#46039f"
             ],
             [
              0.2222222222222222,
              "#7201a8"
             ],
             [
              0.3333333333333333,
              "#9c179e"
             ],
             [
              0.4444444444444444,
              "#bd3786"
             ],
             [
              0.5555555555555556,
              "#d8576b"
             ],
             [
              0.6666666666666666,
              "#ed7953"
             ],
             [
              0.7777777777777778,
              "#fb9f3a"
             ],
             [
              0.8888888888888888,
              "#fdca26"
             ],
             [
              1,
              "#f0f921"
             ]
            ],
            "type": "histogram2dcontour"
           }
          ],
          "mesh3d": [
           {
            "colorbar": {
             "outlinewidth": 0,
             "ticks": ""
            },
            "type": "mesh3d"
           }
          ],
          "parcoords": [
           {
            "line": {
             "colorbar": {
              "outlinewidth": 0,
              "ticks": ""
             }
            },
            "type": "parcoords"
           }
          ],
          "pie": [
           {
            "automargin": true,
            "type": "pie"
           }
          ],
          "scatter": [
           {
            "marker": {
             "colorbar": {
              "outlinewidth": 0,
              "ticks": ""
             }
            },
            "type": "scatter"
           }
          ],
          "scatter3d": [
           {
            "line": {
             "colorbar": {
              "outlinewidth": 0,
              "ticks": ""
             }
            },
            "marker": {
             "colorbar": {
              "outlinewidth": 0,
              "ticks": ""
             }
            },
            "type": "scatter3d"
           }
          ],
          "scattercarpet": [
           {
            "marker": {
             "colorbar": {
              "outlinewidth": 0,
              "ticks": ""
             }
            },
            "type": "scattercarpet"
           }
          ],
          "scattergeo": [
           {
            "marker": {
             "colorbar": {
              "outlinewidth": 0,
              "ticks": ""
             }
            },
            "type": "scattergeo"
           }
          ],
          "scattergl": [
           {
            "marker": {
             "colorbar": {
              "outlinewidth": 0,
              "ticks": ""
             }
            },
            "type": "scattergl"
           }
          ],
          "scattermapbox": [
           {
            "marker": {
             "colorbar": {
              "outlinewidth": 0,
              "ticks": ""
             }
            },
            "type": "scattermapbox"
           }
          ],
          "scatterpolar": [
           {
            "marker": {
             "colorbar": {
              "outlinewidth": 0,
              "ticks": ""
             }
            },
            "type": "scatterpolar"
           }
          ],
          "scatterpolargl": [
           {
            "marker": {
             "colorbar": {
              "outlinewidth": 0,
              "ticks": ""
             }
            },
            "type": "scatterpolargl"
           }
          ],
          "scatterternary": [
           {
            "marker": {
             "colorbar": {
              "outlinewidth": 0,
              "ticks": ""
             }
            },
            "type": "scatterternary"
           }
          ],
          "surface": [
           {
            "colorbar": {
             "outlinewidth": 0,
             "ticks": ""
            },
            "colorscale": [
             [
              0,
              "#0d0887"
             ],
             [
              0.1111111111111111,
              "#46039f"
             ],
             [
              0.2222222222222222,
              "#7201a8"
             ],
             [
              0.3333333333333333,
              "#9c179e"
             ],
             [
              0.4444444444444444,
              "#bd3786"
             ],
             [
              0.5555555555555556,
              "#d8576b"
             ],
             [
              0.6666666666666666,
              "#ed7953"
             ],
             [
              0.7777777777777778,
              "#fb9f3a"
             ],
             [
              0.8888888888888888,
              "#fdca26"
             ],
             [
              1,
              "#f0f921"
             ]
            ],
            "type": "surface"
           }
          ],
          "table": [
           {
            "cells": {
             "fill": {
              "color": "#EBF0F8"
             },
             "line": {
              "color": "white"
             }
            },
            "header": {
             "fill": {
              "color": "#C8D4E3"
             },
             "line": {
              "color": "white"
             }
            },
            "type": "table"
           }
          ]
         },
         "layout": {
          "annotationdefaults": {
           "arrowcolor": "#2a3f5f",
           "arrowhead": 0,
           "arrowwidth": 1
          },
          "autotypenumbers": "strict",
          "coloraxis": {
           "colorbar": {
            "outlinewidth": 0,
            "ticks": ""
           }
          },
          "colorscale": {
           "diverging": [
            [
             0,
             "#8e0152"
            ],
            [
             0.1,
             "#c51b7d"
            ],
            [
             0.2,
             "#de77ae"
            ],
            [
             0.3,
             "#f1b6da"
            ],
            [
             0.4,
             "#fde0ef"
            ],
            [
             0.5,
             "#f7f7f7"
            ],
            [
             0.6,
             "#e6f5d0"
            ],
            [
             0.7,
             "#b8e186"
            ],
            [
             0.8,
             "#7fbc41"
            ],
            [
             0.9,
             "#4d9221"
            ],
            [
             1,
             "#276419"
            ]
           ],
           "sequential": [
            [
             0,
             "#0d0887"
            ],
            [
             0.1111111111111111,
             "#46039f"
            ],
            [
             0.2222222222222222,
             "#7201a8"
            ],
            [
             0.3333333333333333,
             "#9c179e"
            ],
            [
             0.4444444444444444,
             "#bd3786"
            ],
            [
             0.5555555555555556,
             "#d8576b"
            ],
            [
             0.6666666666666666,
             "#ed7953"
            ],
            [
             0.7777777777777778,
             "#fb9f3a"
            ],
            [
             0.8888888888888888,
             "#fdca26"
            ],
            [
             1,
             "#f0f921"
            ]
           ],
           "sequentialminus": [
            [
             0,
             "#0d0887"
            ],
            [
             0.1111111111111111,
             "#46039f"
            ],
            [
             0.2222222222222222,
             "#7201a8"
            ],
            [
             0.3333333333333333,
             "#9c179e"
            ],
            [
             0.4444444444444444,
             "#bd3786"
            ],
            [
             0.5555555555555556,
             "#d8576b"
            ],
            [
             0.6666666666666666,
             "#ed7953"
            ],
            [
             0.7777777777777778,
             "#fb9f3a"
            ],
            [
             0.8888888888888888,
             "#fdca26"
            ],
            [
             1,
             "#f0f921"
            ]
           ]
          },
          "colorway": [
           "#636efa",
           "#EF553B",
           "#00cc96",
           "#ab63fa",
           "#FFA15A",
           "#19d3f3",
           "#FF6692",
           "#B6E880",
           "#FF97FF",
           "#FECB52"
          ],
          "font": {
           "color": "#2a3f5f"
          },
          "geo": {
           "bgcolor": "white",
           "lakecolor": "white",
           "landcolor": "#E5ECF6",
           "showlakes": true,
           "showland": true,
           "subunitcolor": "white"
          },
          "hoverlabel": {
           "align": "left"
          },
          "hovermode": "closest",
          "mapbox": {
           "style": "light"
          },
          "paper_bgcolor": "white",
          "plot_bgcolor": "#E5ECF6",
          "polar": {
           "angularaxis": {
            "gridcolor": "white",
            "linecolor": "white",
            "ticks": ""
           },
           "bgcolor": "#E5ECF6",
           "radialaxis": {
            "gridcolor": "white",
            "linecolor": "white",
            "ticks": ""
           }
          },
          "scene": {
           "xaxis": {
            "backgroundcolor": "#E5ECF6",
            "gridcolor": "white",
            "gridwidth": 2,
            "linecolor": "white",
            "showbackground": true,
            "ticks": "",
            "zerolinecolor": "white"
           },
           "yaxis": {
            "backgroundcolor": "#E5ECF6",
            "gridcolor": "white",
            "gridwidth": 2,
            "linecolor": "white",
            "showbackground": true,
            "ticks": "",
            "zerolinecolor": "white"
           },
           "zaxis": {
            "backgroundcolor": "#E5ECF6",
            "gridcolor": "white",
            "gridwidth": 2,
            "linecolor": "white",
            "showbackground": true,
            "ticks": "",
            "zerolinecolor": "white"
           }
          },
          "shapedefaults": {
           "line": {
            "color": "#2a3f5f"
           }
          },
          "ternary": {
           "aaxis": {
            "gridcolor": "white",
            "linecolor": "white",
            "ticks": ""
           },
           "baxis": {
            "gridcolor": "white",
            "linecolor": "white",
            "ticks": ""
           },
           "bgcolor": "#E5ECF6",
           "caxis": {
            "gridcolor": "white",
            "linecolor": "white",
            "ticks": ""
           }
          },
          "title": {
           "x": 0.05
          },
          "xaxis": {
           "automargin": true,
           "gridcolor": "white",
           "linecolor": "white",
           "ticks": "",
           "title": {
            "standoff": 15
           },
           "zerolinecolor": "white",
           "zerolinewidth": 2
          },
          "yaxis": {
           "automargin": true,
           "gridcolor": "white",
           "linecolor": "white",
           "ticks": "",
           "title": {
            "standoff": 15
           },
           "zerolinecolor": "white",
           "zerolinewidth": 2
          }
         }
        },
        "title": {
         "text": "Citation vs world rank of top 100 universities with 2014, 2015 and 2016 years"
        },
        "xaxis": {
         "ticklen": 5,
         "title": {
          "text": "World Rank"
         },
         "zeroline": false
        },
        "yaxis": {
         "ticklen": 5,
         "title": {
          "text": "Citation"
         },
         "zeroline": false
        }
       }
      },
      "text/html": [
       "<div>                            <div id=\"8244e794-59b8-4e5b-b092-e7f03b7bb20b\" class=\"plotly-graph-div\" style=\"height:525px; width:100%;\"></div>            <script type=\"text/javascript\">                require([\"plotly\"], function(Plotly) {                    window.PLOTLYENV=window.PLOTLYENV || {};                                    if (document.getElementById(\"8244e794-59b8-4e5b-b092-e7f03b7bb20b\")) {                    Plotly.newPlot(                        \"8244e794-59b8-4e5b-b092-e7f03b7bb20b\",                        [{\"marker\": {\"color\": \"rgba(255, 128, 255, 0.8)\"}, \"mode\": \"markers\", \"name\": \"2014\", \"text\": [\"California Institute of Technology\", \"Harvard University\", \"University of Oxford\", \"Stanford University\", \"Massachusetts Institute of Technology\", \"Princeton University\", \"University of Cambridge\", \"University of California, Berkeley\", \"University of Chicago\", \"Imperial College London\", \"Yale University\", \"University of California, Los Angeles\", \"Columbia University\", \"ETH Zurich \\u2013 Swiss Federal Institute of Technology Zurich\", \"Johns Hopkins University\", \"University of Pennsylvania\", \"Duke University\", \"University of Michigan\", \"Cornell University\", \"University of Toronto\", \"University College London\", \"Northwestern University\", \"University of Tokyo\", \"Carnegie Mellon University\", \"University of Washington\", \"National University of Singapore\", \"University of Texas at Austin\", \"Georgia Institute of Technology\", \"University of Illinois at Urbana-Champaign\", \"University of Wisconsin-Madison\", \"University of British Columbia\", \"London School of Economics and Political Science\", \"University of California, Santa Barbara\", \"University of Melbourne\", \"McGill University\", \"Karolinska Institute\", \"\\u00c9cole Polytechnique F\\u00e9d\\u00e9rale de Lausanne\", \"King\\u2019s College London\", \"University of Edinburgh\", \"New York University\", \"University of California, San Diego\", \"Washington University in St Louis\", \"University of Hong Kong\", \"Seoul National University\", \"Peking University\", \"University of Minnesota\", \"University of North Carolina at Chapel Hill\", \"Australian National University\", \"Pennsylvania State University\", \"Boston University\", \"Tsinghua University\", \"Brown University\", \"Kyoto University\", \"University of California, Davis\", \"LMU Munich\", \"Korea Advanced Institute of Science and Technology (KAIST)\", \"Hong Kong University of Science and Technology\", \"University of Manchester\", \"Ohio State University\", \"Pohang University of Science and Technology\", \"KU Leuven\", \"Purdue University\", \"The University of Queensland\", \"University of G\\u00f6ttingen\", \"Rice University\", \"\\u00c9cole Normale Sup\\u00e9rieure\", \"Leiden University\", \"Heidelberg University\", \"Delft University of Technology\", \"University of Southern California\", \"\\u00c9cole Polytechnique\", \"University of Sydney\", \"Erasmus University Rotterdam\", \"University of Basel\", \"Utrecht University\", \"Nanyang Technological University\", \"Wageningen University and Research Center\", \"University of Pittsburgh\", \"University of Bristol\", \"Durham University\", \"Emory University\", \"Tufts University\", \"Michigan State University\", \"University of Amsterdam\", \"Ghent University\", \"Free University of Berlin\", \"Technical University of Munich\", \"Case Western Reserve University\", \"Vanderbilt University\", \"University of Notre Dame\", \"Monash University\", \"McMaster University\", \"University of California, Irvine\", \"Humboldt University of Berlin\", \"University of Rochester\", \"Pierre and Marie Curie University\", \"University of Colorado Boulder\", \"Maastricht University\", \"University of Groningen\", \"University of Helsinki\"], \"type\": \"scatter\", \"x\": [\"1\", \"2\", \"2\", \"4\", \"5\", \"6\", \"7\", \"8\", \"9\", \"10\", \"11\", \"12\", \"13\", \"14\", \"15\", \"16\", \"17\", \"18\", \"19\", \"20\", \"21\", \"22\", \"23\", \"24\", \"25\", \"26\", \"27\", \"28\", \"29\", \"30\", \"31\", \"32\", \"33\", \"34\", \"35\", \"36\", \"37\", \"38\", \"39\", \"40\", \"40\", \"42\", \"43\", \"44\", \"45\", \"46\", \"47\", \"48\", \"49\", \"50\", \"50\", \"52\", \"52\", \"52\", \"55\", \"56\", \"57\", \"58\", \"59\", \"60\", \"61\", \"62\", \"63\", \"63\", \"65\", \"65\", \"67\", \"68\", \"69\", \"70\", \"70\", \"72\", \"73\", \"74\", \"74\", \"76\", \"77\", \"78\", \"79\", \"80\", \"80\", \"80\", \"83\", \"83\", \"85\", \"86\", \"87\", \"88\", \"88\", \"90\", \"91\", \"92\", \"93\", \"94\", \"95\", \"96\", \"97\", \"98\", \"98\", \"100\"], \"y\": [99.8, 99.1, 95.4, 99.1, 100.0, 99.7, 95.7, 99.3, 98.0, 90.0, 93.5, 95.6, 95.6, 85.0, 95.0, 95.0, 96.7, 90.8, 90.8, 84.5, 84.1, 97.1, 69.8, 93.9, 95.6, 66.4, 91.3, 87.9, 79.4, 87.2, 83.7, 69.2, 99.4, 80.2, 74.5, 76.0, 95.9, 87.6, 87.6, 87.9, 96.7, 96.4, 61.5, 47.3, 62.8, 81.2, 90.2, 71.2, 79.4, 95.3, 59.9, 91.3, 58.2, 81.2, 83.3, 67.0, 72.3, 77.3, 79.4, 85.7, 72.9, 67.0, 73.3, 89.6, 99.9, 87.0, 84.2, 76.0, 47.2, 81.2, 82.3, 66.6, 81.2, 81.4, 82.0, 67.5, 74.1, 84.4, 84.9, 88.2, 90.8, 93.9, 71.5, 75.0, 74.9, 64.8, 80.7, 82.8, 86.5, 91.8, 65.4, 79.4, 89.7, 68.4, 89.7, 82.3, 97.3, 65.8, 71.1, 77.8]}, {\"marker\": {\"color\": \"rgba(255, 128, 2, 0.8)\"}, \"mode\": \"markers\", \"name\": \"2015\", \"text\": [\"California Institute of Technology\", \"Harvard University\", \"University of Oxford\", \"Stanford University\", \"University of Cambridge\", \"Massachusetts Institute of Technology\", \"Princeton University\", \"University of California, Berkeley\", \"Imperial College London\", \"Yale University\", \"University of Chicago\", \"University of California, Los Angeles\", \"ETH Zurich \\u2013 Swiss Federal Institute of Technology Zurich\", \"Columbia University\", \"Johns Hopkins University\", \"University of Pennsylvania\", \"University of Michigan\", \"Duke University\", \"Cornell University\", \"University of Toronto\", \"Northwestern University\", \"University College London\", \"University of Tokyo\", \"Carnegie Mellon University\", \"National University of Singapore\", \"University of Washington\", \"Georgia Institute of Technology\", \"University of Texas at Austin\", \"LMU Munich\", \"University of Illinois at Urbana-Champaign\", \"University of Wisconsin-Madison\", \"University of British Columbia\", \"University of Melbourne\", \"London School of Economics and Political Science\", \"\\u00c9cole Polytechnique F\\u00e9d\\u00e9rale de Lausanne\", \"University of Edinburgh\", \"University of California, Santa Barbara\", \"New York University\", \"McGill University\", \"King\\u2019s College London\", \"University of California, San Diego\", \"Washington University in St Louis\", \"University of Hong Kong\", \"Karolinska Institute\", \"Australian National University\", \"University of Minnesota\", \"University of North Carolina at Chapel Hill\", \"Peking University\", \"Tsinghua University\", \"Seoul National University\", \"Hong Kong University of Science and Technology\", \"Korea Advanced Institute of Science and Technology (KAIST)\", \"University of Manchester\", \"Brown University\", \"KU Leuven\", \"University of California, Davis\", \"Boston University\", \"Pennsylvania State University\", \"Kyoto University\", \"University of Sydney\", \"Nanyang Technological University\", \"\\u00c9cole Polytechnique\", \"Scuola Normale Superiore di Pisa\", \"Leiden University\", \"The University of Queensland\", \"Pohang University of Science and Technology\", \"University of G\\u00f6ttingen\", \"Ohio State University\", \"Rice University\", \"Heidelberg University\", \"Delft University of Technology\", \"Erasmus University Rotterdam\", \"Wageningen University and Research Center\", \"University of Bristol\", \"University of Basel\", \"University of Southern California\", \"University of Amsterdam\", \"\\u00c9cole Normale Sup\\u00e9rieure\", \"Utrecht University\", \"Humboldt University of Berlin\", \"Free University of Berlin\", \"Michigan State University\", \"Durham University\", \"Monash University\", \"Middle East Technical University\", \"University of Arizona\", \"University of Notre Dame\", \"Tufts University\", \"University of California, Irvine\", \"Ghent University\", \"University of Massachusetts\", \"University of Pittsburgh\", \"Emory University\", \"McMaster University\", \"University of Glasgow\", \"Vanderbilt University\", \"University of Colorado Boulder\", \"Stockholm University\", \"Technical University of Munich\", \"Uppsala University\"], \"type\": \"scatter\", \"x\": [\"1\", \"2\", \"3\", \"4\", \"5\", \"6\", \"7\", \"8\", \"9\", \"9\", \"11\", \"12\", \"13\", \"14\", \"15\", \"16\", \"17\", \"18\", \"19\", \"20\", \"21\", \"22\", \"23\", \"24\", \"25\", \"26\", \"27\", \"28\", \"29\", \"29\", \"29\", \"32\", \"33\", \"34\", \"34\", \"36\", \"37\", \"38\", \"39\", \"40\", \"41\", \"42\", \"43\", \"44\", \"45\", \"46\", \"46\", \"48\", \"49\", \"50\", \"51\", \"52\", \"52\", \"54\", \"55\", \"55\", \"57\", \"58\", \"59\", \"60\", \"61\", \"61\", \"63\", \"64\", \"65\", \"66\", \"67\", \"68\", \"69\", \"70\", \"71\", \"72\", \"73\", \"74\", \"75\", \"75\", \"77\", \"78\", \"79\", \"80\", \"81\", \"82\", \"83\", \"83\", \"85\", \"86\", \"86\", \"88\", \"88\", \"90\", \"91\", \"91\", \"93\", \"94\", \"94\", \"96\", \"97\", \"98\", \"98\", \"98\"], \"y\": [99.7, 98.9, 95.5, 99.1, 95.2, 100.0, 99.6, 99.1, 89.4, 94.0, 97.3, 95.3, 83.5, 95.3, 93.6, 94.4, 88.9, 96.6, 91.5, 83.0, 96.9, 85.1, 74.7, 92.0, 66.0, 95.0, 85.8, 91.5, 83.0, 77.8, 87.7, 85.3, 80.6, 71.3, 95.0, 88.3, 99.2, 89.5, 76.0, 88.3, 96.4, 97.1, 65.1, 76.8, 71.1, 82.9, 91.0, 63.7, 65.0, 48.7, 72.9, 71.4, 74.3, 92.0, 71.8, 80.4, 94.4, 76.0, 57.0, 69.0, 75.9, 79.9, 96.4, 82.3, 74.2, 84.4, 92.3, 80.4, 99.9, 81.4, 42.6, 82.3, 77.5, 85.1, 81.4, 81.3, 76.6, 84.8, 80.0, 71.9, 67.6, 74.0, 88.9, 65.7, 92.0, 74.0, 90.0, 92.9, 89.5, 73.8, 78.7, 84.4, 89.5, 78.8, 83.7, 87.7, 97.4, 90.9, 78.8, 70.9]}, {\"marker\": {\"color\": \"rgba(0, 255, 200, 0.8)\"}, \"mode\": \"markers\", \"name\": \"2016\", \"text\": [\"California Institute of Technology\", \"University of Oxford\", \"Stanford University\", \"University of Cambridge\", \"Massachusetts Institute of Technology\", \"Harvard University\", \"Princeton University\", \"Imperial College London\", \"ETH Zurich \\u2013 Swiss Federal Institute of Technology Zurich\", \"University of Chicago\", \"Johns Hopkins University\", \"Yale University\", \"University of California, Berkeley\", \"University College London\", \"Columbia University\", \"University of California, Los Angeles\", \"University of Pennsylvania\", \"Cornell University\", \"University of Toronto\", \"Duke University\", \"University of Michigan\", \"Carnegie Mellon University\", \"London School of Economics and Political Science\", \"University of Edinburgh\", \"Northwestern University\", \"National University of Singapore\", \"King\\u2019s College London\", \"Karolinska Institute\", \"LMU Munich\", \"New York University\", \"\\u00c9cole Polytechnique F\\u00e9d\\u00e9rale de Lausanne\", \"University of Washington\", \"University of Melbourne\", \"University of British Columbia\", \"KU Leuven\", \"University of Illinois at Urbana-Champaign\", \"Heidelberg University\", \"McGill University\", \"University of California, San Diego\", \"University of California, Santa Barbara\", \"Georgia Institute of Technology\", \"Peking University\", \"University of Tokyo\", \"University of California, Davis\", \"University of Hong Kong\", \"University of Texas at Austin\", \"Tsinghua University\", \"Wageningen University and Research Center\", \"Humboldt University of Berlin\", \"University of Wisconsin-Madison\", \"Brown University\", \"Australian National University\", \"Technical University of Munich\", \"\\u00c9cole Normale Sup\\u00e9rieure\", \"Nanyang Technological University\", \"University of Manchester\", \"University of Sydney\", \"University of Amsterdam\", \"Hong Kong University of Science and Technology\", \"The University of Queensland\", \"Washington University in St Louis\", \"Utrecht University\", \"University of North Carolina at Chapel Hill\", \"Boston University\", \"Delft University of Technology\", \"University of Minnesota\", \"Leiden University\", \"University of Southern California\", \"University of Bristol\", \"Durham University\", \"Erasmus University Rotterdam\", \"Free University of Berlin\", \"Monash University\", \"University of Groningen\", \"Pennsylvania State University\", \"University of Glasgow\", \"University of Helsinki\", \"University of T\\u00fcbingen\", \"University of Pittsburgh\", \"University of Warwick\", \"Uppsala University\", \"University of Copenhagen\", \"University of New South Wales\", \"University of Freiburg\", \"Seoul National University\", \"University of St Andrews\", \"Vanderbilt University\", \"Kyoto University\", \"Maastricht University\", \"Emory University\", \"Lund University\", \"Ohio State University\", \"University of Exeter\", \"University of Bonn\", \"Georgetown University\", \"McMaster University\", \"University of Sheffield\", \"Queen Mary University of London\", \"University of G\\u00f6ttingen\", \"Michigan State University\"], \"type\": \"scatter\", \"x\": [\"1\", \"2\", \"3\", \"4\", \"5\", \"6\", \"7\", \"8\", \"9\", \"10\", \"11\", \"12\", \"13\", \"14\", \"15\", \"16\", \"17\", \"18\", \"19\", \"20\", \"21\", \"22\", \"23\", \"24\", \"25\", \"26\", \"27\", \"28\", \"29\", \"30\", \"31\", \"32\", \"33\", \"34\", \"35\", \"36\", \"37\", \"38\", \"=39\", \"=39\", \"41\", \"42\", \"43\", \"=44\", \"=44\", \"46\", \"=47\", \"=47\", \"49\", \"50\", \"51\", \"52\", \"53\", \"54\", \"55\", \"=56\", \"=56\", \"58\", \"59\", \"=60\", \"=60\", \"62\", \"63\", \"64\", \"=65\", \"=65\", \"67\", \"68\", \"69\", \"70\", \"71\", \"72\", \"73\", \"74\", \"75\", \"=76\", \"=76\", \"78\", \"79\", \"80\", \"81\", \"=82\", \"=82\", \"84\", \"85\", \"86\", \"87\", \"=88\", \"=88\", \"=90\", \"=90\", \"=90\", \"93\", \"=94\", \"=94\", \"=94\", \"97\", \"98\", \"=99\", \"=99\"], \"y\": [99.8, 98.8, 99.9, 97.0, 99.7, 99.8, 99.3, 96.7, 91.1, 99.2, 98.2, 97.2, 99.7, 94.2, 98.1, 98.5, 98.6, 97.2, 90.9, 99.0, 94.4, 99.1, 94.3, 96.3, 96.5, 79.4, 93.8, 92.2, 85.7, 95.3, 94.6, 98.6, 86.6, 91.5, 87.3, 86.8, 88.2, 78.9, 98.7, 99.2, 86.0, 69.1, 60.9, 84.3, 70.1, 92.2, 58.8, 87.8, 73.6, 86.6, 96.4, 72.3, 80.1, 87.1, 85.6, 77.3, 77.5, 87.4, 82.6, 82.4, 99.2, 88.1, 95.9, 97.7, 61.5, 88.0, 85.2, 93.0, 91.2, 87.7, 95.6, 60.2, 73.3, 84.0, 80.5, 92.3, 82.1, 79.3, 92.3, 78.2, 80.9, 86.2, 82.1, 80.5, 50.0, 78.8, 95.7, 46.6, 82.7, 96.7, 81.3, 83.2, 94.3, 85.3, 82.5, 84.9, 80.1, 93.3, 72.7, 76.8]}],                        {\"template\": {\"data\": {\"bar\": [{\"error_x\": {\"color\": \"#2a3f5f\"}, \"error_y\": {\"color\": \"#2a3f5f\"}, \"marker\": {\"line\": {\"color\": \"#E5ECF6\", \"width\": 0.5}}, \"type\": \"bar\"}], \"barpolar\": [{\"marker\": {\"line\": {\"color\": \"#E5ECF6\", \"width\": 0.5}}, \"type\": \"barpolar\"}], \"carpet\": [{\"aaxis\": {\"endlinecolor\": \"#2a3f5f\", \"gridcolor\": \"white\", \"linecolor\": \"white\", \"minorgridcolor\": \"white\", \"startlinecolor\": \"#2a3f5f\"}, \"baxis\": {\"endlinecolor\": \"#2a3f5f\", \"gridcolor\": \"white\", \"linecolor\": \"white\", \"minorgridcolor\": \"white\", \"startlinecolor\": \"#2a3f5f\"}, \"type\": \"carpet\"}], \"choropleth\": [{\"colorbar\": {\"outlinewidth\": 0, \"ticks\": \"\"}, \"type\": \"choropleth\"}], \"contour\": [{\"colorbar\": {\"outlinewidth\": 0, \"ticks\": \"\"}, \"colorscale\": [[0.0, \"#0d0887\"], [0.1111111111111111, \"#46039f\"], [0.2222222222222222, \"#7201a8\"], [0.3333333333333333, \"#9c179e\"], [0.4444444444444444, \"#bd3786\"], [0.5555555555555556, \"#d8576b\"], [0.6666666666666666, \"#ed7953\"], [0.7777777777777778, \"#fb9f3a\"], [0.8888888888888888, \"#fdca26\"], [1.0, \"#f0f921\"]], \"type\": \"contour\"}], \"contourcarpet\": [{\"colorbar\": {\"outlinewidth\": 0, \"ticks\": \"\"}, \"type\": \"contourcarpet\"}], \"heatmap\": [{\"colorbar\": {\"outlinewidth\": 0, \"ticks\": \"\"}, \"colorscale\": [[0.0, \"#0d0887\"], [0.1111111111111111, \"#46039f\"], [0.2222222222222222, \"#7201a8\"], [0.3333333333333333, \"#9c179e\"], [0.4444444444444444, \"#bd3786\"], [0.5555555555555556, \"#d8576b\"], [0.6666666666666666, \"#ed7953\"], [0.7777777777777778, \"#fb9f3a\"], [0.8888888888888888, \"#fdca26\"], [1.0, \"#f0f921\"]], \"type\": \"heatmap\"}], \"heatmapgl\": [{\"colorbar\": {\"outlinewidth\": 0, \"ticks\": \"\"}, \"colorscale\": [[0.0, \"#0d0887\"], [0.1111111111111111, \"#46039f\"], [0.2222222222222222, \"#7201a8\"], [0.3333333333333333, \"#9c179e\"], [0.4444444444444444, \"#bd3786\"], [0.5555555555555556, \"#d8576b\"], [0.6666666666666666, \"#ed7953\"], [0.7777777777777778, \"#fb9f3a\"], [0.8888888888888888, \"#fdca26\"], [1.0, \"#f0f921\"]], \"type\": \"heatmapgl\"}], \"histogram\": [{\"marker\": {\"colorbar\": {\"outlinewidth\": 0, \"ticks\": \"\"}}, \"type\": \"histogram\"}], \"histogram2d\": [{\"colorbar\": {\"outlinewidth\": 0, \"ticks\": \"\"}, \"colorscale\": [[0.0, \"#0d0887\"], [0.1111111111111111, \"#46039f\"], [0.2222222222222222, \"#7201a8\"], [0.3333333333333333, \"#9c179e\"], [0.4444444444444444, \"#bd3786\"], [0.5555555555555556, \"#d8576b\"], [0.6666666666666666, \"#ed7953\"], [0.7777777777777778, \"#fb9f3a\"], [0.8888888888888888, \"#fdca26\"], [1.0, \"#f0f921\"]], \"type\": \"histogram2d\"}], \"histogram2dcontour\": [{\"colorbar\": {\"outlinewidth\": 0, \"ticks\": \"\"}, \"colorscale\": [[0.0, \"#0d0887\"], [0.1111111111111111, \"#46039f\"], [0.2222222222222222, \"#7201a8\"], [0.3333333333333333, \"#9c179e\"], [0.4444444444444444, \"#bd3786\"], [0.5555555555555556, \"#d8576b\"], [0.6666666666666666, \"#ed7953\"], [0.7777777777777778, \"#fb9f3a\"], [0.8888888888888888, \"#fdca26\"], [1.0, \"#f0f921\"]], \"type\": \"histogram2dcontour\"}], \"mesh3d\": [{\"colorbar\": {\"outlinewidth\": 0, \"ticks\": \"\"}, \"type\": \"mesh3d\"}], \"parcoords\": [{\"line\": {\"colorbar\": {\"outlinewidth\": 0, \"ticks\": \"\"}}, \"type\": \"parcoords\"}], \"pie\": [{\"automargin\": true, \"type\": \"pie\"}], \"scatter\": [{\"marker\": {\"colorbar\": {\"outlinewidth\": 0, \"ticks\": \"\"}}, \"type\": \"scatter\"}], \"scatter3d\": [{\"line\": {\"colorbar\": {\"outlinewidth\": 0, \"ticks\": \"\"}}, \"marker\": {\"colorbar\": {\"outlinewidth\": 0, \"ticks\": \"\"}}, \"type\": \"scatter3d\"}], \"scattercarpet\": [{\"marker\": {\"colorbar\": {\"outlinewidth\": 0, \"ticks\": \"\"}}, \"type\": \"scattercarpet\"}], \"scattergeo\": [{\"marker\": {\"colorbar\": {\"outlinewidth\": 0, \"ticks\": \"\"}}, \"type\": \"scattergeo\"}], \"scattergl\": [{\"marker\": {\"colorbar\": {\"outlinewidth\": 0, \"ticks\": \"\"}}, \"type\": \"scattergl\"}], \"scattermapbox\": [{\"marker\": {\"colorbar\": {\"outlinewidth\": 0, \"ticks\": \"\"}}, \"type\": \"scattermapbox\"}], \"scatterpolar\": [{\"marker\": {\"colorbar\": {\"outlinewidth\": 0, \"ticks\": \"\"}}, \"type\": \"scatterpolar\"}], \"scatterpolargl\": [{\"marker\": {\"colorbar\": {\"outlinewidth\": 0, \"ticks\": \"\"}}, \"type\": \"scatterpolargl\"}], \"scatterternary\": [{\"marker\": {\"colorbar\": {\"outlinewidth\": 0, \"ticks\": \"\"}}, \"type\": \"scatterternary\"}], \"surface\": [{\"colorbar\": {\"outlinewidth\": 0, \"ticks\": \"\"}, \"colorscale\": [[0.0, \"#0d0887\"], [0.1111111111111111, \"#46039f\"], [0.2222222222222222, \"#7201a8\"], [0.3333333333333333, \"#9c179e\"], [0.4444444444444444, \"#bd3786\"], [0.5555555555555556, \"#d8576b\"], [0.6666666666666666, \"#ed7953\"], [0.7777777777777778, \"#fb9f3a\"], [0.8888888888888888, \"#fdca26\"], [1.0, \"#f0f921\"]], \"type\": \"surface\"}], \"table\": [{\"cells\": {\"fill\": {\"color\": \"#EBF0F8\"}, \"line\": {\"color\": \"white\"}}, \"header\": {\"fill\": {\"color\": \"#C8D4E3\"}, \"line\": {\"color\": \"white\"}}, \"type\": \"table\"}]}, \"layout\": {\"annotationdefaults\": {\"arrowcolor\": \"#2a3f5f\", \"arrowhead\": 0, \"arrowwidth\": 1}, \"autotypenumbers\": \"strict\", \"coloraxis\": {\"colorbar\": {\"outlinewidth\": 0, \"ticks\": \"\"}}, \"colorscale\": {\"diverging\": [[0, \"#8e0152\"], [0.1, \"#c51b7d\"], [0.2, \"#de77ae\"], [0.3, \"#f1b6da\"], [0.4, \"#fde0ef\"], [0.5, \"#f7f7f7\"], [0.6, \"#e6f5d0\"], [0.7, \"#b8e186\"], [0.8, \"#7fbc41\"], [0.9, \"#4d9221\"], [1, \"#276419\"]], \"sequential\": [[0.0, \"#0d0887\"], [0.1111111111111111, \"#46039f\"], [0.2222222222222222, \"#7201a8\"], [0.3333333333333333, \"#9c179e\"], [0.4444444444444444, \"#bd3786\"], [0.5555555555555556, \"#d8576b\"], [0.6666666666666666, \"#ed7953\"], [0.7777777777777778, \"#fb9f3a\"], [0.8888888888888888, \"#fdca26\"], [1.0, \"#f0f921\"]], \"sequentialminus\": [[0.0, \"#0d0887\"], [0.1111111111111111, \"#46039f\"], [0.2222222222222222, \"#7201a8\"], [0.3333333333333333, \"#9c179e\"], [0.4444444444444444, \"#bd3786\"], [0.5555555555555556, \"#d8576b\"], [0.6666666666666666, \"#ed7953\"], [0.7777777777777778, \"#fb9f3a\"], [0.8888888888888888, \"#fdca26\"], [1.0, \"#f0f921\"]]}, \"colorway\": [\"#636efa\", \"#EF553B\", \"#00cc96\", \"#ab63fa\", \"#FFA15A\", \"#19d3f3\", \"#FF6692\", \"#B6E880\", \"#FF97FF\", \"#FECB52\"], \"font\": {\"color\": \"#2a3f5f\"}, \"geo\": {\"bgcolor\": \"white\", \"lakecolor\": \"white\", \"landcolor\": \"#E5ECF6\", \"showlakes\": true, \"showland\": true, \"subunitcolor\": \"white\"}, \"hoverlabel\": {\"align\": \"left\"}, \"hovermode\": \"closest\", \"mapbox\": {\"style\": \"light\"}, \"paper_bgcolor\": \"white\", \"plot_bgcolor\": \"#E5ECF6\", \"polar\": {\"angularaxis\": {\"gridcolor\": \"white\", \"linecolor\": \"white\", \"ticks\": \"\"}, \"bgcolor\": \"#E5ECF6\", \"radialaxis\": {\"gridcolor\": \"white\", \"linecolor\": \"white\", \"ticks\": \"\"}}, \"scene\": {\"xaxis\": {\"backgroundcolor\": \"#E5ECF6\", \"gridcolor\": \"white\", \"gridwidth\": 2, \"linecolor\": \"white\", \"showbackground\": true, \"ticks\": \"\", \"zerolinecolor\": \"white\"}, \"yaxis\": {\"backgroundcolor\": \"#E5ECF6\", \"gridcolor\": \"white\", \"gridwidth\": 2, \"linecolor\": \"white\", \"showbackground\": true, \"ticks\": \"\", \"zerolinecolor\": \"white\"}, \"zaxis\": {\"backgroundcolor\": \"#E5ECF6\", \"gridcolor\": \"white\", \"gridwidth\": 2, \"linecolor\": \"white\", \"showbackground\": true, \"ticks\": \"\", \"zerolinecolor\": \"white\"}}, \"shapedefaults\": {\"line\": {\"color\": \"#2a3f5f\"}}, \"ternary\": {\"aaxis\": {\"gridcolor\": \"white\", \"linecolor\": \"white\", \"ticks\": \"\"}, \"baxis\": {\"gridcolor\": \"white\", \"linecolor\": \"white\", \"ticks\": \"\"}, \"bgcolor\": \"#E5ECF6\", \"caxis\": {\"gridcolor\": \"white\", \"linecolor\": \"white\", \"ticks\": \"\"}}, \"title\": {\"x\": 0.05}, \"xaxis\": {\"automargin\": true, \"gridcolor\": \"white\", \"linecolor\": \"white\", \"ticks\": \"\", \"title\": {\"standoff\": 15}, \"zerolinecolor\": \"white\", \"zerolinewidth\": 2}, \"yaxis\": {\"automargin\": true, \"gridcolor\": \"white\", \"linecolor\": \"white\", \"ticks\": \"\", \"title\": {\"standoff\": 15}, \"zerolinecolor\": \"white\", \"zerolinewidth\": 2}}}, \"title\": {\"text\": \"Citation vs world rank of top 100 universities with 2014, 2015 and 2016 years\"}, \"xaxis\": {\"ticklen\": 5, \"title\": {\"text\": \"World Rank\"}, \"zeroline\": false}, \"yaxis\": {\"ticklen\": 5, \"title\": {\"text\": \"Citation\"}, \"zeroline\": false}},                        {\"responsive\": true}                    ).then(function(){\n",
       "                            \n",
       "var gd = document.getElementById('8244e794-59b8-4e5b-b092-e7f03b7bb20b');\n",
       "var x = new MutationObserver(function (mutations, observer) {{\n",
       "        var display = window.getComputedStyle(gd).display;\n",
       "        if (!display || display === 'none') {{\n",
       "            console.log([gd, 'removed!']);\n",
       "            Plotly.purge(gd);\n",
       "            observer.disconnect();\n",
       "        }}\n",
       "}});\n",
       "\n",
       "// Listen for the removal of the full notebook cells\n",
       "var notebookContainer = gd.closest('#notebook-container');\n",
       "if (notebookContainer) {{\n",
       "    x.observe(notebookContainer, {childList: true});\n",
       "}}\n",
       "\n",
       "// Listen for the clearing of the current output cell\n",
       "var outputEl = gd.closest('.output');\n",
       "if (outputEl) {{\n",
       "    x.observe(outputEl, {childList: true});\n",
       "}}\n",
       "\n",
       "                        })                };                });            </script>        </div>"
      ]
     },
     "metadata": {},
     "output_type": "display_data"
    }
   ],
   "source": [
    "# prepare data frames\n",
    "df2014 = timesData[timesData.year == 2014].iloc[:100,:]\n",
    "df2015 = timesData[timesData.year == 2015].iloc[:100,:]\n",
    "df2016 = timesData[timesData.year == 2016].iloc[:100,:]\n",
    "# import graph objects as \"go\"\n",
    "import plotly.graph_objs as go\n",
    "# creating trace1\n",
    "trace1 =go.Scatter(\n",
    "                    x = df2014.world_rank,\n",
    "                    y = df2014.citations,\n",
    "                    mode = \"markers\",\n",
    "                    name = \"2014\",\n",
    "                    marker = dict(color = 'rgba(255, 128, 255, 0.8)'),\n",
    "                    text= df2014.university_name)\n",
    "# creating trace2\n",
    "trace2 =go.Scatter(\n",
    "                    x = df2015.world_rank,\n",
    "                    y = df2015.citations,\n",
    "                    mode = \"markers\",\n",
    "                    name = \"2015\",\n",
    "                    marker = dict(color = 'rgba(255, 128, 2, 0.8)'),\n",
    "                    text= df2015.university_name)\n",
    "# creating trace3\n",
    "trace3 =go.Scatter(\n",
    "                    x = df2016.world_rank,\n",
    "                    y = df2016.citations,\n",
    "                    mode = \"markers\",\n",
    "                    name = \"2016\",\n",
    "                    marker = dict(color = 'rgba(0, 255, 200, 0.8)'),\n",
    "                    text= df2016.university_name)\n",
    "data = [trace1, trace2, trace3]\n",
    "layout = dict(title = 'Citation vs world rank of top 100 universities with 2014, 2015 and 2016 years',\n",
    "              xaxis= dict(title= 'World Rank',ticklen= 5,zeroline= False),\n",
    "              yaxis= dict(title= 'Citation',ticklen= 5,zeroline= False)\n",
    "             )\n",
    "fig = dict(data = data, layout = layout)\n",
    "iplot(fig)"
   ]
  },
  {
   "cell_type": "markdown",
   "metadata": {},
   "source": [
    "## Bar Chart:\n",
    "\n",
    "### Things to note:\n",
    "\n",
    "**1. layout**\n"
   ]
  },
  {
   "cell_type": "code",
   "execution_count": 10,
   "metadata": {},
   "outputs": [
    {
     "data": {
      "text/html": [
       "<div>\n",
       "<style scoped>\n",
       "    .dataframe tbody tr th:only-of-type {\n",
       "        vertical-align: middle;\n",
       "    }\n",
       "\n",
       "    .dataframe tbody tr th {\n",
       "        vertical-align: top;\n",
       "    }\n",
       "\n",
       "    .dataframe thead th {\n",
       "        text-align: right;\n",
       "    }\n",
       "</style>\n",
       "<table border=\"1\" class=\"dataframe\">\n",
       "  <thead>\n",
       "    <tr style=\"text-align: right;\">\n",
       "      <th></th>\n",
       "      <th>world_rank</th>\n",
       "      <th>university_name</th>\n",
       "      <th>country</th>\n",
       "      <th>teaching</th>\n",
       "      <th>international</th>\n",
       "      <th>research</th>\n",
       "      <th>citations</th>\n",
       "      <th>income</th>\n",
       "      <th>total_score</th>\n",
       "      <th>num_students</th>\n",
       "      <th>student_staff_ratio</th>\n",
       "      <th>international_students</th>\n",
       "      <th>female_male_ratio</th>\n",
       "      <th>year</th>\n",
       "    </tr>\n",
       "  </thead>\n",
       "  <tbody>\n",
       "    <tr>\n",
       "      <th>1002</th>\n",
       "      <td>1</td>\n",
       "      <td>California Institute of Technology</td>\n",
       "      <td>United States of America</td>\n",
       "      <td>94.4</td>\n",
       "      <td>65.8</td>\n",
       "      <td>98.2</td>\n",
       "      <td>99.8</td>\n",
       "      <td>91.2</td>\n",
       "      <td>94.9</td>\n",
       "      <td>2,243</td>\n",
       "      <td>6.9</td>\n",
       "      <td>27%</td>\n",
       "      <td>33 : 67</td>\n",
       "      <td>2014</td>\n",
       "    </tr>\n",
       "    <tr>\n",
       "      <th>1003</th>\n",
       "      <td>2</td>\n",
       "      <td>Harvard University</td>\n",
       "      <td>United States of America</td>\n",
       "      <td>95.3</td>\n",
       "      <td>66.2</td>\n",
       "      <td>98.5</td>\n",
       "      <td>99.1</td>\n",
       "      <td>40.6</td>\n",
       "      <td>93.9</td>\n",
       "      <td>20,152</td>\n",
       "      <td>8.9</td>\n",
       "      <td>25%</td>\n",
       "      <td>NaN</td>\n",
       "      <td>2014</td>\n",
       "    </tr>\n",
       "    <tr>\n",
       "      <th>1004</th>\n",
       "      <td>2</td>\n",
       "      <td>University of Oxford</td>\n",
       "      <td>United Kingdom</td>\n",
       "      <td>89.0</td>\n",
       "      <td>90.2</td>\n",
       "      <td>98.5</td>\n",
       "      <td>95.4</td>\n",
       "      <td>90.3</td>\n",
       "      <td>93.9</td>\n",
       "      <td>19,919</td>\n",
       "      <td>11.6</td>\n",
       "      <td>34%</td>\n",
       "      <td>46 : 54</td>\n",
       "      <td>2014</td>\n",
       "    </tr>\n",
       "    <tr>\n",
       "      <th>1005</th>\n",
       "      <td>4</td>\n",
       "      <td>Stanford University</td>\n",
       "      <td>United States of America</td>\n",
       "      <td>94.7</td>\n",
       "      <td>68.0</td>\n",
       "      <td>96.8</td>\n",
       "      <td>99.1</td>\n",
       "      <td>61.3</td>\n",
       "      <td>93.8</td>\n",
       "      <td>15,596</td>\n",
       "      <td>7.8</td>\n",
       "      <td>22%</td>\n",
       "      <td>42 : 58</td>\n",
       "      <td>2014</td>\n",
       "    </tr>\n",
       "    <tr>\n",
       "      <th>1006</th>\n",
       "      <td>5</td>\n",
       "      <td>Massachusetts Institute of Technology</td>\n",
       "      <td>United States of America</td>\n",
       "      <td>92.9</td>\n",
       "      <td>82.0</td>\n",
       "      <td>89.0</td>\n",
       "      <td>100.0</td>\n",
       "      <td>94.3</td>\n",
       "      <td>93.0</td>\n",
       "      <td>11,074</td>\n",
       "      <td>9.0</td>\n",
       "      <td>33%</td>\n",
       "      <td>37 : 63</td>\n",
       "      <td>2014</td>\n",
       "    </tr>\n",
       "  </tbody>\n",
       "</table>\n",
       "</div>"
      ],
      "text/plain": [
       "     world_rank                        university_name  \\\n",
       "1002          1     California Institute of Technology   \n",
       "1003          2                     Harvard University   \n",
       "1004          2                   University of Oxford   \n",
       "1005          4                    Stanford University   \n",
       "1006          5  Massachusetts Institute of Technology   \n",
       "\n",
       "                       country  teaching international  research  citations  \\\n",
       "1002  United States of America      94.4          65.8      98.2       99.8   \n",
       "1003  United States of America      95.3          66.2      98.5       99.1   \n",
       "1004            United Kingdom      89.0          90.2      98.5       95.4   \n",
       "1005  United States of America      94.7          68.0      96.8       99.1   \n",
       "1006  United States of America      92.9          82.0      89.0      100.0   \n",
       "\n",
       "     income total_score num_students  student_staff_ratio  \\\n",
       "1002   91.2        94.9        2,243                  6.9   \n",
       "1003   40.6        93.9       20,152                  8.9   \n",
       "1004   90.3        93.9       19,919                 11.6   \n",
       "1005   61.3        93.8       15,596                  7.8   \n",
       "1006   94.3        93.0       11,074                  9.0   \n",
       "\n",
       "     international_students female_male_ratio  year  \n",
       "1002                    27%           33 : 67  2014  \n",
       "1003                    25%               NaN  2014  \n",
       "1004                    34%           46 : 54  2014  \n",
       "1005                    22%           42 : 58  2014  \n",
       "1006                    33%           37 : 63  2014  "
      ]
     },
     "execution_count": 10,
     "metadata": {},
     "output_type": "execute_result"
    }
   ],
   "source": [
    "# prepare data frames\n",
    "df2014 = timesData[timesData.year == 2014].iloc[:5,:]\n",
    "df2014"
   ]
  },
  {
   "cell_type": "code",
   "execution_count": 11,
   "metadata": {},
   "outputs": [
    {
     "data": {
      "application/vnd.plotly.v1+json": {
       "config": {
        "linkText": "Export to plot.ly",
        "plotlyServerURL": "https://plot.ly",
        "showLink": false
       },
       "data": [
        {
         "marker": {
          "color": "rgba(255, 174, 255, 0.5)",
          "line": {
           "color": "rgb(0,0,0)",
           "width": 1.5
          }
         },
         "name": "citations",
         "text": [
          "United States of America",
          "United States of America",
          "United Kingdom",
          "United States of America",
          "United States of America"
         ],
         "type": "bar",
         "x": [
          "California Institute of Technology",
          "Harvard University",
          "University of Oxford",
          "Stanford University",
          "Massachusetts Institute of Technology"
         ],
         "y": [
          99.8,
          99.1,
          95.4,
          99.1,
          100
         ]
        },
        {
         "marker": {
          "color": "rgba(255, 255, 128, 0.5)",
          "line": {
           "color": "rgb(0,0,0)",
           "width": 1.5
          }
         },
         "name": "teaching",
         "text": [
          "United States of America",
          "United States of America",
          "United Kingdom",
          "United States of America",
          "United States of America"
         ],
         "type": "bar",
         "x": [
          "California Institute of Technology",
          "Harvard University",
          "University of Oxford",
          "Stanford University",
          "Massachusetts Institute of Technology"
         ],
         "y": [
          94.4,
          95.3,
          89,
          94.7,
          92.9
         ]
        }
       ],
       "layout": {
        "barmode": "group",
        "template": {
         "data": {
          "bar": [
           {
            "error_x": {
             "color": "#2a3f5f"
            },
            "error_y": {
             "color": "#2a3f5f"
            },
            "marker": {
             "line": {
              "color": "#E5ECF6",
              "width": 0.5
             }
            },
            "type": "bar"
           }
          ],
          "barpolar": [
           {
            "marker": {
             "line": {
              "color": "#E5ECF6",
              "width": 0.5
             }
            },
            "type": "barpolar"
           }
          ],
          "carpet": [
           {
            "aaxis": {
             "endlinecolor": "#2a3f5f",
             "gridcolor": "white",
             "linecolor": "white",
             "minorgridcolor": "white",
             "startlinecolor": "#2a3f5f"
            },
            "baxis": {
             "endlinecolor": "#2a3f5f",
             "gridcolor": "white",
             "linecolor": "white",
             "minorgridcolor": "white",
             "startlinecolor": "#2a3f5f"
            },
            "type": "carpet"
           }
          ],
          "choropleth": [
           {
            "colorbar": {
             "outlinewidth": 0,
             "ticks": ""
            },
            "type": "choropleth"
           }
          ],
          "contour": [
           {
            "colorbar": {
             "outlinewidth": 0,
             "ticks": ""
            },
            "colorscale": [
             [
              0,
              "#0d0887"
             ],
             [
              0.1111111111111111,
              "#46039f"
             ],
             [
              0.2222222222222222,
              "#7201a8"
             ],
             [
              0.3333333333333333,
              "#9c179e"
             ],
             [
              0.4444444444444444,
              "#bd3786"
             ],
             [
              0.5555555555555556,
              "#d8576b"
             ],
             [
              0.6666666666666666,
              "#ed7953"
             ],
             [
              0.7777777777777778,
              "#fb9f3a"
             ],
             [
              0.8888888888888888,
              "#fdca26"
             ],
             [
              1,
              "#f0f921"
             ]
            ],
            "type": "contour"
           }
          ],
          "contourcarpet": [
           {
            "colorbar": {
             "outlinewidth": 0,
             "ticks": ""
            },
            "type": "contourcarpet"
           }
          ],
          "heatmap": [
           {
            "colorbar": {
             "outlinewidth": 0,
             "ticks": ""
            },
            "colorscale": [
             [
              0,
              "#0d0887"
             ],
             [
              0.1111111111111111,
              "#46039f"
             ],
             [
              0.2222222222222222,
              "#7201a8"
             ],
             [
              0.3333333333333333,
              "#9c179e"
             ],
             [
              0.4444444444444444,
              "#bd3786"
             ],
             [
              0.5555555555555556,
              "#d8576b"
             ],
             [
              0.6666666666666666,
              "#ed7953"
             ],
             [
              0.7777777777777778,
              "#fb9f3a"
             ],
             [
              0.8888888888888888,
              "#fdca26"
             ],
             [
              1,
              "#f0f921"
             ]
            ],
            "type": "heatmap"
           }
          ],
          "heatmapgl": [
           {
            "colorbar": {
             "outlinewidth": 0,
             "ticks": ""
            },
            "colorscale": [
             [
              0,
              "#0d0887"
             ],
             [
              0.1111111111111111,
              "#46039f"
             ],
             [
              0.2222222222222222,
              "#7201a8"
             ],
             [
              0.3333333333333333,
              "#9c179e"
             ],
             [
              0.4444444444444444,
              "#bd3786"
             ],
             [
              0.5555555555555556,
              "#d8576b"
             ],
             [
              0.6666666666666666,
              "#ed7953"
             ],
             [
              0.7777777777777778,
              "#fb9f3a"
             ],
             [
              0.8888888888888888,
              "#fdca26"
             ],
             [
              1,
              "#f0f921"
             ]
            ],
            "type": "heatmapgl"
           }
          ],
          "histogram": [
           {
            "marker": {
             "colorbar": {
              "outlinewidth": 0,
              "ticks": ""
             }
            },
            "type": "histogram"
           }
          ],
          "histogram2d": [
           {
            "colorbar": {
             "outlinewidth": 0,
             "ticks": ""
            },
            "colorscale": [
             [
              0,
              "#0d0887"
             ],
             [
              0.1111111111111111,
              "#46039f"
             ],
             [
              0.2222222222222222,
              "#7201a8"
             ],
             [
              0.3333333333333333,
              "#9c179e"
             ],
             [
              0.4444444444444444,
              "#bd3786"
             ],
             [
              0.5555555555555556,
              "#d8576b"
             ],
             [
              0.6666666666666666,
              "#ed7953"
             ],
             [
              0.7777777777777778,
              "#fb9f3a"
             ],
             [
              0.8888888888888888,
              "#fdca26"
             ],
             [
              1,
              "#f0f921"
             ]
            ],
            "type": "histogram2d"
           }
          ],
          "histogram2dcontour": [
           {
            "colorbar": {
             "outlinewidth": 0,
             "ticks": ""
            },
            "colorscale": [
             [
              0,
              "#0d0887"
             ],
             [
              0.1111111111111111,
              "#46039f"
             ],
             [
              0.2222222222222222,
              "#7201a8"
             ],
             [
              0.3333333333333333,
              "#9c179e"
             ],
             [
              0.4444444444444444,
              "#bd3786"
             ],
             [
              0.5555555555555556,
              "#d8576b"
             ],
             [
              0.6666666666666666,
              "#ed7953"
             ],
             [
              0.7777777777777778,
              "#fb9f3a"
             ],
             [
              0.8888888888888888,
              "#fdca26"
             ],
             [
              1,
              "#f0f921"
             ]
            ],
            "type": "histogram2dcontour"
           }
          ],
          "mesh3d": [
           {
            "colorbar": {
             "outlinewidth": 0,
             "ticks": ""
            },
            "type": "mesh3d"
           }
          ],
          "parcoords": [
           {
            "line": {
             "colorbar": {
              "outlinewidth": 0,
              "ticks": ""
             }
            },
            "type": "parcoords"
           }
          ],
          "pie": [
           {
            "automargin": true,
            "type": "pie"
           }
          ],
          "scatter": [
           {
            "marker": {
             "colorbar": {
              "outlinewidth": 0,
              "ticks": ""
             }
            },
            "type": "scatter"
           }
          ],
          "scatter3d": [
           {
            "line": {
             "colorbar": {
              "outlinewidth": 0,
              "ticks": ""
             }
            },
            "marker": {
             "colorbar": {
              "outlinewidth": 0,
              "ticks": ""
             }
            },
            "type": "scatter3d"
           }
          ],
          "scattercarpet": [
           {
            "marker": {
             "colorbar": {
              "outlinewidth": 0,
              "ticks": ""
             }
            },
            "type": "scattercarpet"
           }
          ],
          "scattergeo": [
           {
            "marker": {
             "colorbar": {
              "outlinewidth": 0,
              "ticks": ""
             }
            },
            "type": "scattergeo"
           }
          ],
          "scattergl": [
           {
            "marker": {
             "colorbar": {
              "outlinewidth": 0,
              "ticks": ""
             }
            },
            "type": "scattergl"
           }
          ],
          "scattermapbox": [
           {
            "marker": {
             "colorbar": {
              "outlinewidth": 0,
              "ticks": ""
             }
            },
            "type": "scattermapbox"
           }
          ],
          "scatterpolar": [
           {
            "marker": {
             "colorbar": {
              "outlinewidth": 0,
              "ticks": ""
             }
            },
            "type": "scatterpolar"
           }
          ],
          "scatterpolargl": [
           {
            "marker": {
             "colorbar": {
              "outlinewidth": 0,
              "ticks": ""
             }
            },
            "type": "scatterpolargl"
           }
          ],
          "scatterternary": [
           {
            "marker": {
             "colorbar": {
              "outlinewidth": 0,
              "ticks": ""
             }
            },
            "type": "scatterternary"
           }
          ],
          "surface": [
           {
            "colorbar": {
             "outlinewidth": 0,
             "ticks": ""
            },
            "colorscale": [
             [
              0,
              "#0d0887"
             ],
             [
              0.1111111111111111,
              "#46039f"
             ],
             [
              0.2222222222222222,
              "#7201a8"
             ],
             [
              0.3333333333333333,
              "#9c179e"
             ],
             [
              0.4444444444444444,
              "#bd3786"
             ],
             [
              0.5555555555555556,
              "#d8576b"
             ],
             [
              0.6666666666666666,
              "#ed7953"
             ],
             [
              0.7777777777777778,
              "#fb9f3a"
             ],
             [
              0.8888888888888888,
              "#fdca26"
             ],
             [
              1,
              "#f0f921"
             ]
            ],
            "type": "surface"
           }
          ],
          "table": [
           {
            "cells": {
             "fill": {
              "color": "#EBF0F8"
             },
             "line": {
              "color": "white"
             }
            },
            "header": {
             "fill": {
              "color": "#C8D4E3"
             },
             "line": {
              "color": "white"
             }
            },
            "type": "table"
           }
          ]
         },
         "layout": {
          "annotationdefaults": {
           "arrowcolor": "#2a3f5f",
           "arrowhead": 0,
           "arrowwidth": 1
          },
          "autotypenumbers": "strict",
          "coloraxis": {
           "colorbar": {
            "outlinewidth": 0,
            "ticks": ""
           }
          },
          "colorscale": {
           "diverging": [
            [
             0,
             "#8e0152"
            ],
            [
             0.1,
             "#c51b7d"
            ],
            [
             0.2,
             "#de77ae"
            ],
            [
             0.3,
             "#f1b6da"
            ],
            [
             0.4,
             "#fde0ef"
            ],
            [
             0.5,
             "#f7f7f7"
            ],
            [
             0.6,
             "#e6f5d0"
            ],
            [
             0.7,
             "#b8e186"
            ],
            [
             0.8,
             "#7fbc41"
            ],
            [
             0.9,
             "#4d9221"
            ],
            [
             1,
             "#276419"
            ]
           ],
           "sequential": [
            [
             0,
             "#0d0887"
            ],
            [
             0.1111111111111111,
             "#46039f"
            ],
            [
             0.2222222222222222,
             "#7201a8"
            ],
            [
             0.3333333333333333,
             "#9c179e"
            ],
            [
             0.4444444444444444,
             "#bd3786"
            ],
            [
             0.5555555555555556,
             "#d8576b"
            ],
            [
             0.6666666666666666,
             "#ed7953"
            ],
            [
             0.7777777777777778,
             "#fb9f3a"
            ],
            [
             0.8888888888888888,
             "#fdca26"
            ],
            [
             1,
             "#f0f921"
            ]
           ],
           "sequentialminus": [
            [
             0,
             "#0d0887"
            ],
            [
             0.1111111111111111,
             "#46039f"
            ],
            [
             0.2222222222222222,
             "#7201a8"
            ],
            [
             0.3333333333333333,
             "#9c179e"
            ],
            [
             0.4444444444444444,
             "#bd3786"
            ],
            [
             0.5555555555555556,
             "#d8576b"
            ],
            [
             0.6666666666666666,
             "#ed7953"
            ],
            [
             0.7777777777777778,
             "#fb9f3a"
            ],
            [
             0.8888888888888888,
             "#fdca26"
            ],
            [
             1,
             "#f0f921"
            ]
           ]
          },
          "colorway": [
           "#636efa",
           "#EF553B",
           "#00cc96",
           "#ab63fa",
           "#FFA15A",
           "#19d3f3",
           "#FF6692",
           "#B6E880",
           "#FF97FF",
           "#FECB52"
          ],
          "font": {
           "color": "#2a3f5f"
          },
          "geo": {
           "bgcolor": "white",
           "lakecolor": "white",
           "landcolor": "#E5ECF6",
           "showlakes": true,
           "showland": true,
           "subunitcolor": "white"
          },
          "hoverlabel": {
           "align": "left"
          },
          "hovermode": "closest",
          "mapbox": {
           "style": "light"
          },
          "paper_bgcolor": "white",
          "plot_bgcolor": "#E5ECF6",
          "polar": {
           "angularaxis": {
            "gridcolor": "white",
            "linecolor": "white",
            "ticks": ""
           },
           "bgcolor": "#E5ECF6",
           "radialaxis": {
            "gridcolor": "white",
            "linecolor": "white",
            "ticks": ""
           }
          },
          "scene": {
           "xaxis": {
            "backgroundcolor": "#E5ECF6",
            "gridcolor": "white",
            "gridwidth": 2,
            "linecolor": "white",
            "showbackground": true,
            "ticks": "",
            "zerolinecolor": "white"
           },
           "yaxis": {
            "backgroundcolor": "#E5ECF6",
            "gridcolor": "white",
            "gridwidth": 2,
            "linecolor": "white",
            "showbackground": true,
            "ticks": "",
            "zerolinecolor": "white"
           },
           "zaxis": {
            "backgroundcolor": "#E5ECF6",
            "gridcolor": "white",
            "gridwidth": 2,
            "linecolor": "white",
            "showbackground": true,
            "ticks": "",
            "zerolinecolor": "white"
           }
          },
          "shapedefaults": {
           "line": {
            "color": "#2a3f5f"
           }
          },
          "ternary": {
           "aaxis": {
            "gridcolor": "white",
            "linecolor": "white",
            "ticks": ""
           },
           "baxis": {
            "gridcolor": "white",
            "linecolor": "white",
            "ticks": ""
           },
           "bgcolor": "#E5ECF6",
           "caxis": {
            "gridcolor": "white",
            "linecolor": "white",
            "ticks": ""
           }
          },
          "title": {
           "x": 0.05
          },
          "xaxis": {
           "automargin": true,
           "gridcolor": "white",
           "linecolor": "white",
           "ticks": "",
           "title": {
            "standoff": 15
           },
           "zerolinecolor": "white",
           "zerolinewidth": 2
          },
          "yaxis": {
           "automargin": true,
           "gridcolor": "white",
           "linecolor": "white",
           "ticks": "",
           "title": {
            "standoff": 15
           },
           "zerolinecolor": "white",
           "zerolinewidth": 2
          }
         }
        }
       }
      },
      "text/html": [
       "<div>                            <div id=\"c9854e9f-2df9-491e-8d88-b4e092b439b3\" class=\"plotly-graph-div\" style=\"height:525px; width:100%;\"></div>            <script type=\"text/javascript\">                require([\"plotly\"], function(Plotly) {                    window.PLOTLYENV=window.PLOTLYENV || {};                                    if (document.getElementById(\"c9854e9f-2df9-491e-8d88-b4e092b439b3\")) {                    Plotly.newPlot(                        \"c9854e9f-2df9-491e-8d88-b4e092b439b3\",                        [{\"marker\": {\"color\": \"rgba(255, 174, 255, 0.5)\", \"line\": {\"color\": \"rgb(0,0,0)\", \"width\": 1.5}}, \"name\": \"citations\", \"text\": [\"United States of America\", \"United States of America\", \"United Kingdom\", \"United States of America\", \"United States of America\"], \"type\": \"bar\", \"x\": [\"California Institute of Technology\", \"Harvard University\", \"University of Oxford\", \"Stanford University\", \"Massachusetts Institute of Technology\"], \"y\": [99.8, 99.1, 95.4, 99.1, 100.0]}, {\"marker\": {\"color\": \"rgba(255, 255, 128, 0.5)\", \"line\": {\"color\": \"rgb(0,0,0)\", \"width\": 1.5}}, \"name\": \"teaching\", \"text\": [\"United States of America\", \"United States of America\", \"United Kingdom\", \"United States of America\", \"United States of America\"], \"type\": \"bar\", \"x\": [\"California Institute of Technology\", \"Harvard University\", \"University of Oxford\", \"Stanford University\", \"Massachusetts Institute of Technology\"], \"y\": [94.4, 95.3, 89.0, 94.7, 92.9]}],                        {\"barmode\": \"group\", \"template\": {\"data\": {\"bar\": [{\"error_x\": {\"color\": \"#2a3f5f\"}, \"error_y\": {\"color\": \"#2a3f5f\"}, \"marker\": {\"line\": {\"color\": \"#E5ECF6\", \"width\": 0.5}}, \"type\": \"bar\"}], \"barpolar\": [{\"marker\": {\"line\": {\"color\": \"#E5ECF6\", \"width\": 0.5}}, \"type\": \"barpolar\"}], \"carpet\": [{\"aaxis\": {\"endlinecolor\": \"#2a3f5f\", \"gridcolor\": \"white\", \"linecolor\": \"white\", \"minorgridcolor\": \"white\", \"startlinecolor\": \"#2a3f5f\"}, \"baxis\": {\"endlinecolor\": \"#2a3f5f\", \"gridcolor\": \"white\", \"linecolor\": \"white\", \"minorgridcolor\": \"white\", \"startlinecolor\": \"#2a3f5f\"}, \"type\": \"carpet\"}], \"choropleth\": [{\"colorbar\": {\"outlinewidth\": 0, \"ticks\": \"\"}, \"type\": \"choropleth\"}], \"contour\": [{\"colorbar\": {\"outlinewidth\": 0, \"ticks\": \"\"}, \"colorscale\": [[0.0, \"#0d0887\"], [0.1111111111111111, \"#46039f\"], [0.2222222222222222, \"#7201a8\"], [0.3333333333333333, \"#9c179e\"], [0.4444444444444444, \"#bd3786\"], [0.5555555555555556, \"#d8576b\"], [0.6666666666666666, \"#ed7953\"], [0.7777777777777778, \"#fb9f3a\"], [0.8888888888888888, \"#fdca26\"], [1.0, \"#f0f921\"]], \"type\": \"contour\"}], \"contourcarpet\": [{\"colorbar\": {\"outlinewidth\": 0, \"ticks\": \"\"}, \"type\": \"contourcarpet\"}], \"heatmap\": [{\"colorbar\": {\"outlinewidth\": 0, \"ticks\": \"\"}, \"colorscale\": [[0.0, \"#0d0887\"], [0.1111111111111111, \"#46039f\"], [0.2222222222222222, \"#7201a8\"], [0.3333333333333333, \"#9c179e\"], [0.4444444444444444, \"#bd3786\"], [0.5555555555555556, \"#d8576b\"], [0.6666666666666666, \"#ed7953\"], [0.7777777777777778, \"#fb9f3a\"], [0.8888888888888888, \"#fdca26\"], [1.0, \"#f0f921\"]], \"type\": \"heatmap\"}], \"heatmapgl\": [{\"colorbar\": {\"outlinewidth\": 0, \"ticks\": \"\"}, \"colorscale\": [[0.0, \"#0d0887\"], [0.1111111111111111, \"#46039f\"], [0.2222222222222222, \"#7201a8\"], [0.3333333333333333, \"#9c179e\"], [0.4444444444444444, \"#bd3786\"], [0.5555555555555556, \"#d8576b\"], [0.6666666666666666, \"#ed7953\"], [0.7777777777777778, \"#fb9f3a\"], [0.8888888888888888, \"#fdca26\"], [1.0, \"#f0f921\"]], \"type\": \"heatmapgl\"}], \"histogram\": [{\"marker\": {\"colorbar\": {\"outlinewidth\": 0, \"ticks\": \"\"}}, \"type\": \"histogram\"}], \"histogram2d\": [{\"colorbar\": {\"outlinewidth\": 0, \"ticks\": \"\"}, \"colorscale\": [[0.0, \"#0d0887\"], [0.1111111111111111, \"#46039f\"], [0.2222222222222222, \"#7201a8\"], [0.3333333333333333, \"#9c179e\"], [0.4444444444444444, \"#bd3786\"], [0.5555555555555556, \"#d8576b\"], [0.6666666666666666, \"#ed7953\"], [0.7777777777777778, \"#fb9f3a\"], [0.8888888888888888, \"#fdca26\"], [1.0, \"#f0f921\"]], \"type\": \"histogram2d\"}], \"histogram2dcontour\": [{\"colorbar\": {\"outlinewidth\": 0, \"ticks\": \"\"}, \"colorscale\": [[0.0, \"#0d0887\"], [0.1111111111111111, \"#46039f\"], [0.2222222222222222, \"#7201a8\"], [0.3333333333333333, \"#9c179e\"], [0.4444444444444444, \"#bd3786\"], [0.5555555555555556, \"#d8576b\"], [0.6666666666666666, \"#ed7953\"], [0.7777777777777778, \"#fb9f3a\"], [0.8888888888888888, \"#fdca26\"], [1.0, \"#f0f921\"]], \"type\": \"histogram2dcontour\"}], \"mesh3d\": [{\"colorbar\": {\"outlinewidth\": 0, \"ticks\": \"\"}, \"type\": \"mesh3d\"}], \"parcoords\": [{\"line\": {\"colorbar\": {\"outlinewidth\": 0, \"ticks\": \"\"}}, \"type\": \"parcoords\"}], \"pie\": [{\"automargin\": true, \"type\": \"pie\"}], \"scatter\": [{\"marker\": {\"colorbar\": {\"outlinewidth\": 0, \"ticks\": \"\"}}, \"type\": \"scatter\"}], \"scatter3d\": [{\"line\": {\"colorbar\": {\"outlinewidth\": 0, \"ticks\": \"\"}}, \"marker\": {\"colorbar\": {\"outlinewidth\": 0, \"ticks\": \"\"}}, \"type\": \"scatter3d\"}], \"scattercarpet\": [{\"marker\": {\"colorbar\": {\"outlinewidth\": 0, \"ticks\": \"\"}}, \"type\": \"scattercarpet\"}], \"scattergeo\": [{\"marker\": {\"colorbar\": {\"outlinewidth\": 0, \"ticks\": \"\"}}, \"type\": \"scattergeo\"}], \"scattergl\": [{\"marker\": {\"colorbar\": {\"outlinewidth\": 0, \"ticks\": \"\"}}, \"type\": \"scattergl\"}], \"scattermapbox\": [{\"marker\": {\"colorbar\": {\"outlinewidth\": 0, \"ticks\": \"\"}}, \"type\": \"scattermapbox\"}], \"scatterpolar\": [{\"marker\": {\"colorbar\": {\"outlinewidth\": 0, \"ticks\": \"\"}}, \"type\": \"scatterpolar\"}], \"scatterpolargl\": [{\"marker\": {\"colorbar\": {\"outlinewidth\": 0, \"ticks\": \"\"}}, \"type\": \"scatterpolargl\"}], \"scatterternary\": [{\"marker\": {\"colorbar\": {\"outlinewidth\": 0, \"ticks\": \"\"}}, \"type\": \"scatterternary\"}], \"surface\": [{\"colorbar\": {\"outlinewidth\": 0, \"ticks\": \"\"}, \"colorscale\": [[0.0, \"#0d0887\"], [0.1111111111111111, \"#46039f\"], [0.2222222222222222, \"#7201a8\"], [0.3333333333333333, \"#9c179e\"], [0.4444444444444444, \"#bd3786\"], [0.5555555555555556, \"#d8576b\"], [0.6666666666666666, \"#ed7953\"], [0.7777777777777778, \"#fb9f3a\"], [0.8888888888888888, \"#fdca26\"], [1.0, \"#f0f921\"]], \"type\": \"surface\"}], \"table\": [{\"cells\": {\"fill\": {\"color\": \"#EBF0F8\"}, \"line\": {\"color\": \"white\"}}, \"header\": {\"fill\": {\"color\": \"#C8D4E3\"}, \"line\": {\"color\": \"white\"}}, \"type\": \"table\"}]}, \"layout\": {\"annotationdefaults\": {\"arrowcolor\": \"#2a3f5f\", \"arrowhead\": 0, \"arrowwidth\": 1}, \"autotypenumbers\": \"strict\", \"coloraxis\": {\"colorbar\": {\"outlinewidth\": 0, \"ticks\": \"\"}}, \"colorscale\": {\"diverging\": [[0, \"#8e0152\"], [0.1, \"#c51b7d\"], [0.2, \"#de77ae\"], [0.3, \"#f1b6da\"], [0.4, \"#fde0ef\"], [0.5, \"#f7f7f7\"], [0.6, \"#e6f5d0\"], [0.7, \"#b8e186\"], [0.8, \"#7fbc41\"], [0.9, \"#4d9221\"], [1, \"#276419\"]], \"sequential\": [[0.0, \"#0d0887\"], [0.1111111111111111, \"#46039f\"], [0.2222222222222222, \"#7201a8\"], [0.3333333333333333, \"#9c179e\"], [0.4444444444444444, \"#bd3786\"], [0.5555555555555556, \"#d8576b\"], [0.6666666666666666, \"#ed7953\"], [0.7777777777777778, \"#fb9f3a\"], [0.8888888888888888, \"#fdca26\"], [1.0, \"#f0f921\"]], \"sequentialminus\": [[0.0, \"#0d0887\"], [0.1111111111111111, \"#46039f\"], [0.2222222222222222, \"#7201a8\"], [0.3333333333333333, \"#9c179e\"], [0.4444444444444444, \"#bd3786\"], [0.5555555555555556, \"#d8576b\"], [0.6666666666666666, \"#ed7953\"], [0.7777777777777778, \"#fb9f3a\"], [0.8888888888888888, \"#fdca26\"], [1.0, \"#f0f921\"]]}, \"colorway\": [\"#636efa\", \"#EF553B\", \"#00cc96\", \"#ab63fa\", \"#FFA15A\", \"#19d3f3\", \"#FF6692\", \"#B6E880\", \"#FF97FF\", \"#FECB52\"], \"font\": {\"color\": \"#2a3f5f\"}, \"geo\": {\"bgcolor\": \"white\", \"lakecolor\": \"white\", \"landcolor\": \"#E5ECF6\", \"showlakes\": true, \"showland\": true, \"subunitcolor\": \"white\"}, \"hoverlabel\": {\"align\": \"left\"}, \"hovermode\": \"closest\", \"mapbox\": {\"style\": \"light\"}, \"paper_bgcolor\": \"white\", \"plot_bgcolor\": \"#E5ECF6\", \"polar\": {\"angularaxis\": {\"gridcolor\": \"white\", \"linecolor\": \"white\", \"ticks\": \"\"}, \"bgcolor\": \"#E5ECF6\", \"radialaxis\": {\"gridcolor\": \"white\", \"linecolor\": \"white\", \"ticks\": \"\"}}, \"scene\": {\"xaxis\": {\"backgroundcolor\": \"#E5ECF6\", \"gridcolor\": \"white\", \"gridwidth\": 2, \"linecolor\": \"white\", \"showbackground\": true, \"ticks\": \"\", \"zerolinecolor\": \"white\"}, \"yaxis\": {\"backgroundcolor\": \"#E5ECF6\", \"gridcolor\": \"white\", \"gridwidth\": 2, \"linecolor\": \"white\", \"showbackground\": true, \"ticks\": \"\", \"zerolinecolor\": \"white\"}, \"zaxis\": {\"backgroundcolor\": \"#E5ECF6\", \"gridcolor\": \"white\", \"gridwidth\": 2, \"linecolor\": \"white\", \"showbackground\": true, \"ticks\": \"\", \"zerolinecolor\": \"white\"}}, \"shapedefaults\": {\"line\": {\"color\": \"#2a3f5f\"}}, \"ternary\": {\"aaxis\": {\"gridcolor\": \"white\", \"linecolor\": \"white\", \"ticks\": \"\"}, \"baxis\": {\"gridcolor\": \"white\", \"linecolor\": \"white\", \"ticks\": \"\"}, \"bgcolor\": \"#E5ECF6\", \"caxis\": {\"gridcolor\": \"white\", \"linecolor\": \"white\", \"ticks\": \"\"}}, \"title\": {\"x\": 0.05}, \"xaxis\": {\"automargin\": true, \"gridcolor\": \"white\", \"linecolor\": \"white\", \"ticks\": \"\", \"title\": {\"standoff\": 15}, \"zerolinecolor\": \"white\", \"zerolinewidth\": 2}, \"yaxis\": {\"automargin\": true, \"gridcolor\": \"white\", \"linecolor\": \"white\", \"ticks\": \"\", \"title\": {\"standoff\": 15}, \"zerolinecolor\": \"white\", \"zerolinewidth\": 2}}}},                        {\"responsive\": true}                    ).then(function(){\n",
       "                            \n",
       "var gd = document.getElementById('c9854e9f-2df9-491e-8d88-b4e092b439b3');\n",
       "var x = new MutationObserver(function (mutations, observer) {{\n",
       "        var display = window.getComputedStyle(gd).display;\n",
       "        if (!display || display === 'none') {{\n",
       "            console.log([gd, 'removed!']);\n",
       "            Plotly.purge(gd);\n",
       "            observer.disconnect();\n",
       "        }}\n",
       "}});\n",
       "\n",
       "// Listen for the removal of the full notebook cells\n",
       "var notebookContainer = gd.closest('#notebook-container');\n",
       "if (notebookContainer) {{\n",
       "    x.observe(notebookContainer, {childList: true});\n",
       "}}\n",
       "\n",
       "// Listen for the clearing of the current output cell\n",
       "var outputEl = gd.closest('.output');\n",
       "if (outputEl) {{\n",
       "    x.observe(outputEl, {childList: true});\n",
       "}}\n",
       "\n",
       "                        })                };                });            </script>        </div>"
      ]
     },
     "metadata": {},
     "output_type": "display_data"
    }
   ],
   "source": [
    "# prepare data frames\n",
    "df2014 = timesData[timesData.year == 2014].iloc[:5,:]\n",
    "# import graph objects as \"go\"\n",
    "import plotly.graph_objs as go\n",
    "# create trace1 \n",
    "trace1 = go.Bar(\n",
    "                x = df2014.university_name,\n",
    "                y = df2014.citations,\n",
    "                name = \"citations\",\n",
    "                marker = dict(color = 'rgba(255, 174, 255, 0.5)',\n",
    "                             line=dict(color='rgb(0,0,0)',width=1.5)),\n",
    "                text = df2014.country)\n",
    "# create trace2 \n",
    "trace2 = go.Bar(\n",
    "                x = df2014.university_name,\n",
    "                y = df2014.teaching,\n",
    "                name = \"teaching\",\n",
    "                marker = dict(color = 'rgba(255, 255, 128, 0.5)',\n",
    "                              line=dict(color='rgb(0,0,0)',width=1.5)),\n",
    "                text = df2014.country)\n",
    "data = [trace1, trace2]\n",
    "layout = go.Layout(barmode = \"group\")\n",
    "fig = go.Figure(data = data, layout = layout)\n",
    "iplot(fig)\n"
   ]
  },
  {
   "cell_type": "markdown",
   "metadata": {},
   "source": [
    "## Mixed Chart:"
   ]
  },
  {
   "cell_type": "code",
   "execution_count": 12,
   "metadata": {},
   "outputs": [
    {
     "name": "stderr",
     "output_type": "stream",
     "text": [
      "c:\\users\\adam\\appdata\\local\\programs\\python\\python39\\lib\\site-packages\\plotly\\tools.py:461: DeprecationWarning:\n",
      "\n",
      "plotly.tools.make_subplots is deprecated, please use plotly.subplots.make_subplots instead\n",
      "\n"
     ]
    },
    {
     "data": {
      "application/vnd.plotly.v1+json": {
       "config": {
        "linkText": "Export to plot.ly",
        "plotlyServerURL": "https://plot.ly",
        "showLink": false
       },
       "data": [
        {
         "marker": {
          "color": "rgba(171, 50, 96, 0.6)",
          "line": {
           "color": "rgba(171, 50, 96, 1.0)",
           "width": 1
          }
         },
         "name": "research",
         "orientation": "h",
         "type": "bar",
         "x": [
          97.6,
          98.9,
          96.2,
          96.7,
          88.6,
          99,
          91.9
         ],
         "xaxis": "x",
         "y": [
          "California Institute of Technology",
          "University of Oxford",
          "Stanford University",
          "University of Cambridge",
          "Massachusetts Institute of Technology",
          "Harvard University",
          "Princeton University"
         ],
         "yaxis": "y"
        },
        {
         "line": {
          "color": "rgb(63, 72, 204)"
         },
         "mode": "lines+markers",
         "name": "income",
         "type": "scatter",
         "x": [
          97.8,
          73.1,
          63.3,
          55,
          95.4,
          45.2,
          52.1
         ],
         "xaxis": "x2",
         "y": [
          "California Institute of Technology",
          "University of Oxford",
          "Stanford University",
          "University of Cambridge",
          "Massachusetts Institute of Technology",
          "Harvard University",
          "Princeton University"
         ],
         "yaxis": "y2"
        }
       ],
       "layout": {
        "annotations": [
         {
          "font": {
           "color": "rgb(63, 72, 204)",
           "family": "Arial",
           "size": 12
          },
          "showarrow": false,
          "text": "98.0",
          "x": 94,
          "xref": "x2",
          "y": "California Institute of Technology",
          "yref": "y2"
         },
         {
          "font": {
           "color": "rgb(171, 50, 96)",
           "family": "Arial",
           "size": 12
          },
          "showarrow": false,
          "text": "97.6",
          "x": 100.6,
          "xref": "x",
          "y": "California Institute of Technology",
          "yref": "y"
         },
         {
          "font": {
           "color": "rgb(63, 72, 204)",
           "family": "Arial",
           "size": 12
          },
          "showarrow": false,
          "text": "73.0",
          "x": 69,
          "xref": "x2",
          "y": "University of Oxford",
          "yref": "y2"
         },
         {
          "font": {
           "color": "rgb(171, 50, 96)",
           "family": "Arial",
           "size": 12
          },
          "showarrow": false,
          "text": "98.9",
          "x": 101.9,
          "xref": "x",
          "y": "University of Oxford",
          "yref": "y"
         },
         {
          "font": {
           "color": "rgb(63, 72, 204)",
           "family": "Arial",
           "size": 12
          },
          "showarrow": false,
          "text": "63.0",
          "x": 59,
          "xref": "x2",
          "y": "Stanford University",
          "yref": "y2"
         },
         {
          "font": {
           "color": "rgb(171, 50, 96)",
           "family": "Arial",
           "size": 12
          },
          "showarrow": false,
          "text": "96.2",
          "x": 99.2,
          "xref": "x",
          "y": "Stanford University",
          "yref": "y"
         },
         {
          "font": {
           "color": "rgb(63, 72, 204)",
           "family": "Arial",
           "size": 12
          },
          "showarrow": false,
          "text": "55.0",
          "x": 51,
          "xref": "x2",
          "y": "University of Cambridge",
          "yref": "y2"
         },
         {
          "font": {
           "color": "rgb(171, 50, 96)",
           "family": "Arial",
           "size": 12
          },
          "showarrow": false,
          "text": "96.7",
          "x": 99.7,
          "xref": "x",
          "y": "University of Cambridge",
          "yref": "y"
         },
         {
          "font": {
           "color": "rgb(63, 72, 204)",
           "family": "Arial",
           "size": 12
          },
          "showarrow": false,
          "text": "95.0",
          "x": 91,
          "xref": "x2",
          "y": "Massachusetts Institute of Technology",
          "yref": "y2"
         },
         {
          "font": {
           "color": "rgb(171, 50, 96)",
           "family": "Arial",
           "size": 12
          },
          "showarrow": false,
          "text": "88.6",
          "x": 91.6,
          "xref": "x",
          "y": "Massachusetts Institute of Technology",
          "yref": "y"
         },
         {
          "font": {
           "color": "rgb(63, 72, 204)",
           "family": "Arial",
           "size": 12
          },
          "showarrow": false,
          "text": "45.0",
          "x": 41,
          "xref": "x2",
          "y": "Harvard University",
          "yref": "y2"
         },
         {
          "font": {
           "color": "rgb(171, 50, 96)",
           "family": "Arial",
           "size": 12
          },
          "showarrow": false,
          "text": "99.0",
          "x": 102,
          "xref": "x",
          "y": "Harvard University",
          "yref": "y"
         },
         {
          "font": {
           "color": "rgb(63, 72, 204)",
           "family": "Arial",
           "size": 12
          },
          "showarrow": false,
          "text": "52.0",
          "x": 48,
          "xref": "x2",
          "y": "Princeton University",
          "yref": "y2"
         },
         {
          "font": {
           "color": "rgb(171, 50, 96)",
           "family": "Arial",
           "size": 12
          },
          "showarrow": false,
          "text": "91.9",
          "x": 94.9,
          "xref": "x",
          "y": "Princeton University",
          "yref": "y"
         }
        ],
        "legend": {
         "font": {
          "size": 10
         },
         "x": 0.029,
         "y": 1.038
        },
        "margin": {
         "b": 70,
         "l": 200,
         "r": 20,
         "t": 70
        },
        "paper_bgcolor": "rgb(248, 248, 255)",
        "plot_bgcolor": "rgb(248, 248, 255)",
        "template": {
         "data": {
          "bar": [
           {
            "error_x": {
             "color": "#2a3f5f"
            },
            "error_y": {
             "color": "#2a3f5f"
            },
            "marker": {
             "line": {
              "color": "#E5ECF6",
              "width": 0.5
             }
            },
            "type": "bar"
           }
          ],
          "barpolar": [
           {
            "marker": {
             "line": {
              "color": "#E5ECF6",
              "width": 0.5
             }
            },
            "type": "barpolar"
           }
          ],
          "carpet": [
           {
            "aaxis": {
             "endlinecolor": "#2a3f5f",
             "gridcolor": "white",
             "linecolor": "white",
             "minorgridcolor": "white",
             "startlinecolor": "#2a3f5f"
            },
            "baxis": {
             "endlinecolor": "#2a3f5f",
             "gridcolor": "white",
             "linecolor": "white",
             "minorgridcolor": "white",
             "startlinecolor": "#2a3f5f"
            },
            "type": "carpet"
           }
          ],
          "choropleth": [
           {
            "colorbar": {
             "outlinewidth": 0,
             "ticks": ""
            },
            "type": "choropleth"
           }
          ],
          "contour": [
           {
            "colorbar": {
             "outlinewidth": 0,
             "ticks": ""
            },
            "colorscale": [
             [
              0,
              "#0d0887"
             ],
             [
              0.1111111111111111,
              "#46039f"
             ],
             [
              0.2222222222222222,
              "#7201a8"
             ],
             [
              0.3333333333333333,
              "#9c179e"
             ],
             [
              0.4444444444444444,
              "#bd3786"
             ],
             [
              0.5555555555555556,
              "#d8576b"
             ],
             [
              0.6666666666666666,
              "#ed7953"
             ],
             [
              0.7777777777777778,
              "#fb9f3a"
             ],
             [
              0.8888888888888888,
              "#fdca26"
             ],
             [
              1,
              "#f0f921"
             ]
            ],
            "type": "contour"
           }
          ],
          "contourcarpet": [
           {
            "colorbar": {
             "outlinewidth": 0,
             "ticks": ""
            },
            "type": "contourcarpet"
           }
          ],
          "heatmap": [
           {
            "colorbar": {
             "outlinewidth": 0,
             "ticks": ""
            },
            "colorscale": [
             [
              0,
              "#0d0887"
             ],
             [
              0.1111111111111111,
              "#46039f"
             ],
             [
              0.2222222222222222,
              "#7201a8"
             ],
             [
              0.3333333333333333,
              "#9c179e"
             ],
             [
              0.4444444444444444,
              "#bd3786"
             ],
             [
              0.5555555555555556,
              "#d8576b"
             ],
             [
              0.6666666666666666,
              "#ed7953"
             ],
             [
              0.7777777777777778,
              "#fb9f3a"
             ],
             [
              0.8888888888888888,
              "#fdca26"
             ],
             [
              1,
              "#f0f921"
             ]
            ],
            "type": "heatmap"
           }
          ],
          "heatmapgl": [
           {
            "colorbar": {
             "outlinewidth": 0,
             "ticks": ""
            },
            "colorscale": [
             [
              0,
              "#0d0887"
             ],
             [
              0.1111111111111111,
              "#46039f"
             ],
             [
              0.2222222222222222,
              "#7201a8"
             ],
             [
              0.3333333333333333,
              "#9c179e"
             ],
             [
              0.4444444444444444,
              "#bd3786"
             ],
             [
              0.5555555555555556,
              "#d8576b"
             ],
             [
              0.6666666666666666,
              "#ed7953"
             ],
             [
              0.7777777777777778,
              "#fb9f3a"
             ],
             [
              0.8888888888888888,
              "#fdca26"
             ],
             [
              1,
              "#f0f921"
             ]
            ],
            "type": "heatmapgl"
           }
          ],
          "histogram": [
           {
            "marker": {
             "colorbar": {
              "outlinewidth": 0,
              "ticks": ""
             }
            },
            "type": "histogram"
           }
          ],
          "histogram2d": [
           {
            "colorbar": {
             "outlinewidth": 0,
             "ticks": ""
            },
            "colorscale": [
             [
              0,
              "#0d0887"
             ],
             [
              0.1111111111111111,
              "#46039f"
             ],
             [
              0.2222222222222222,
              "#7201a8"
             ],
             [
              0.3333333333333333,
              "#9c179e"
             ],
             [
              0.4444444444444444,
              "#bd3786"
             ],
             [
              0.5555555555555556,
              "#d8576b"
             ],
             [
              0.6666666666666666,
              "#ed7953"
             ],
             [
              0.7777777777777778,
              "#fb9f3a"
             ],
             [
              0.8888888888888888,
              "#fdca26"
             ],
             [
              1,
              "#f0f921"
             ]
            ],
            "type": "histogram2d"
           }
          ],
          "histogram2dcontour": [
           {
            "colorbar": {
             "outlinewidth": 0,
             "ticks": ""
            },
            "colorscale": [
             [
              0,
              "#0d0887"
             ],
             [
              0.1111111111111111,
              "#46039f"
             ],
             [
              0.2222222222222222,
              "#7201a8"
             ],
             [
              0.3333333333333333,
              "#9c179e"
             ],
             [
              0.4444444444444444,
              "#bd3786"
             ],
             [
              0.5555555555555556,
              "#d8576b"
             ],
             [
              0.6666666666666666,
              "#ed7953"
             ],
             [
              0.7777777777777778,
              "#fb9f3a"
             ],
             [
              0.8888888888888888,
              "#fdca26"
             ],
             [
              1,
              "#f0f921"
             ]
            ],
            "type": "histogram2dcontour"
           }
          ],
          "mesh3d": [
           {
            "colorbar": {
             "outlinewidth": 0,
             "ticks": ""
            },
            "type": "mesh3d"
           }
          ],
          "parcoords": [
           {
            "line": {
             "colorbar": {
              "outlinewidth": 0,
              "ticks": ""
             }
            },
            "type": "parcoords"
           }
          ],
          "pie": [
           {
            "automargin": true,
            "type": "pie"
           }
          ],
          "scatter": [
           {
            "marker": {
             "colorbar": {
              "outlinewidth": 0,
              "ticks": ""
             }
            },
            "type": "scatter"
           }
          ],
          "scatter3d": [
           {
            "line": {
             "colorbar": {
              "outlinewidth": 0,
              "ticks": ""
             }
            },
            "marker": {
             "colorbar": {
              "outlinewidth": 0,
              "ticks": ""
             }
            },
            "type": "scatter3d"
           }
          ],
          "scattercarpet": [
           {
            "marker": {
             "colorbar": {
              "outlinewidth": 0,
              "ticks": ""
             }
            },
            "type": "scattercarpet"
           }
          ],
          "scattergeo": [
           {
            "marker": {
             "colorbar": {
              "outlinewidth": 0,
              "ticks": ""
             }
            },
            "type": "scattergeo"
           }
          ],
          "scattergl": [
           {
            "marker": {
             "colorbar": {
              "outlinewidth": 0,
              "ticks": ""
             }
            },
            "type": "scattergl"
           }
          ],
          "scattermapbox": [
           {
            "marker": {
             "colorbar": {
              "outlinewidth": 0,
              "ticks": ""
             }
            },
            "type": "scattermapbox"
           }
          ],
          "scatterpolar": [
           {
            "marker": {
             "colorbar": {
              "outlinewidth": 0,
              "ticks": ""
             }
            },
            "type": "scatterpolar"
           }
          ],
          "scatterpolargl": [
           {
            "marker": {
             "colorbar": {
              "outlinewidth": 0,
              "ticks": ""
             }
            },
            "type": "scatterpolargl"
           }
          ],
          "scatterternary": [
           {
            "marker": {
             "colorbar": {
              "outlinewidth": 0,
              "ticks": ""
             }
            },
            "type": "scatterternary"
           }
          ],
          "surface": [
           {
            "colorbar": {
             "outlinewidth": 0,
             "ticks": ""
            },
            "colorscale": [
             [
              0,
              "#0d0887"
             ],
             [
              0.1111111111111111,
              "#46039f"
             ],
             [
              0.2222222222222222,
              "#7201a8"
             ],
             [
              0.3333333333333333,
              "#9c179e"
             ],
             [
              0.4444444444444444,
              "#bd3786"
             ],
             [
              0.5555555555555556,
              "#d8576b"
             ],
             [
              0.6666666666666666,
              "#ed7953"
             ],
             [
              0.7777777777777778,
              "#fb9f3a"
             ],
             [
              0.8888888888888888,
              "#fdca26"
             ],
             [
              1,
              "#f0f921"
             ]
            ],
            "type": "surface"
           }
          ],
          "table": [
           {
            "cells": {
             "fill": {
              "color": "#EBF0F8"
             },
             "line": {
              "color": "white"
             }
            },
            "header": {
             "fill": {
              "color": "#C8D4E3"
             },
             "line": {
              "color": "white"
             }
            },
            "type": "table"
           }
          ]
         },
         "layout": {
          "annotationdefaults": {
           "arrowcolor": "#2a3f5f",
           "arrowhead": 0,
           "arrowwidth": 1
          },
          "autotypenumbers": "strict",
          "coloraxis": {
           "colorbar": {
            "outlinewidth": 0,
            "ticks": ""
           }
          },
          "colorscale": {
           "diverging": [
            [
             0,
             "#8e0152"
            ],
            [
             0.1,
             "#c51b7d"
            ],
            [
             0.2,
             "#de77ae"
            ],
            [
             0.3,
             "#f1b6da"
            ],
            [
             0.4,
             "#fde0ef"
            ],
            [
             0.5,
             "#f7f7f7"
            ],
            [
             0.6,
             "#e6f5d0"
            ],
            [
             0.7,
             "#b8e186"
            ],
            [
             0.8,
             "#7fbc41"
            ],
            [
             0.9,
             "#4d9221"
            ],
            [
             1,
             "#276419"
            ]
           ],
           "sequential": [
            [
             0,
             "#0d0887"
            ],
            [
             0.1111111111111111,
             "#46039f"
            ],
            [
             0.2222222222222222,
             "#7201a8"
            ],
            [
             0.3333333333333333,
             "#9c179e"
            ],
            [
             0.4444444444444444,
             "#bd3786"
            ],
            [
             0.5555555555555556,
             "#d8576b"
            ],
            [
             0.6666666666666666,
             "#ed7953"
            ],
            [
             0.7777777777777778,
             "#fb9f3a"
            ],
            [
             0.8888888888888888,
             "#fdca26"
            ],
            [
             1,
             "#f0f921"
            ]
           ],
           "sequentialminus": [
            [
             0,
             "#0d0887"
            ],
            [
             0.1111111111111111,
             "#46039f"
            ],
            [
             0.2222222222222222,
             "#7201a8"
            ],
            [
             0.3333333333333333,
             "#9c179e"
            ],
            [
             0.4444444444444444,
             "#bd3786"
            ],
            [
             0.5555555555555556,
             "#d8576b"
            ],
            [
             0.6666666666666666,
             "#ed7953"
            ],
            [
             0.7777777777777778,
             "#fb9f3a"
            ],
            [
             0.8888888888888888,
             "#fdca26"
            ],
            [
             1,
             "#f0f921"
            ]
           ]
          },
          "colorway": [
           "#636efa",
           "#EF553B",
           "#00cc96",
           "#ab63fa",
           "#FFA15A",
           "#19d3f3",
           "#FF6692",
           "#B6E880",
           "#FF97FF",
           "#FECB52"
          ],
          "font": {
           "color": "#2a3f5f"
          },
          "geo": {
           "bgcolor": "white",
           "lakecolor": "white",
           "landcolor": "#E5ECF6",
           "showlakes": true,
           "showland": true,
           "subunitcolor": "white"
          },
          "hoverlabel": {
           "align": "left"
          },
          "hovermode": "closest",
          "mapbox": {
           "style": "light"
          },
          "paper_bgcolor": "white",
          "plot_bgcolor": "#E5ECF6",
          "polar": {
           "angularaxis": {
            "gridcolor": "white",
            "linecolor": "white",
            "ticks": ""
           },
           "bgcolor": "#E5ECF6",
           "radialaxis": {
            "gridcolor": "white",
            "linecolor": "white",
            "ticks": ""
           }
          },
          "scene": {
           "xaxis": {
            "backgroundcolor": "#E5ECF6",
            "gridcolor": "white",
            "gridwidth": 2,
            "linecolor": "white",
            "showbackground": true,
            "ticks": "",
            "zerolinecolor": "white"
           },
           "yaxis": {
            "backgroundcolor": "#E5ECF6",
            "gridcolor": "white",
            "gridwidth": 2,
            "linecolor": "white",
            "showbackground": true,
            "ticks": "",
            "zerolinecolor": "white"
           },
           "zaxis": {
            "backgroundcolor": "#E5ECF6",
            "gridcolor": "white",
            "gridwidth": 2,
            "linecolor": "white",
            "showbackground": true,
            "ticks": "",
            "zerolinecolor": "white"
           }
          },
          "shapedefaults": {
           "line": {
            "color": "#2a3f5f"
           }
          },
          "ternary": {
           "aaxis": {
            "gridcolor": "white",
            "linecolor": "white",
            "ticks": ""
           },
           "baxis": {
            "gridcolor": "white",
            "linecolor": "white",
            "ticks": ""
           },
           "bgcolor": "#E5ECF6",
           "caxis": {
            "gridcolor": "white",
            "linecolor": "white",
            "ticks": ""
           }
          },
          "title": {
           "x": 0.05
          },
          "xaxis": {
           "automargin": true,
           "gridcolor": "white",
           "linecolor": "white",
           "ticks": "",
           "title": {
            "standoff": 15
           },
           "zerolinecolor": "white",
           "zerolinewidth": 2
          },
          "yaxis": {
           "automargin": true,
           "gridcolor": "white",
           "linecolor": "white",
           "ticks": "",
           "title": {
            "standoff": 15
           },
           "zerolinecolor": "white",
           "zerolinewidth": 2
          }
         }
        },
        "title": {
         "text": "Citations and income"
        },
        "xaxis": {
         "anchor": "y",
         "domain": [
          0,
          0.42
         ],
         "showgrid": true,
         "showline": false,
         "showticklabels": true,
         "zeroline": false
        },
        "xaxis2": {
         "anchor": "y2",
         "domain": [
          0.47,
          1
         ],
         "dtick": 25,
         "showgrid": true,
         "showline": false,
         "showticklabels": true,
         "side": "top",
         "zeroline": false
        },
        "yaxis": {
         "anchor": "x",
         "domain": [
          0,
          0.85
         ],
         "showticklabels": true
        },
        "yaxis2": {
         "anchor": "x2",
         "domain": [
          0,
          0.85
         ],
         "linecolor": "rgba(102, 102, 102, 0.8)",
         "linewidth": 2,
         "showline": true,
         "showticklabels": false
        }
       }
      },
      "text/html": [
       "<div>                            <div id=\"5f572d10-13de-4e81-8236-21eb6a5df9b2\" class=\"plotly-graph-div\" style=\"height:525px; width:100%;\"></div>            <script type=\"text/javascript\">                require([\"plotly\"], function(Plotly) {                    window.PLOTLYENV=window.PLOTLYENV || {};                                    if (document.getElementById(\"5f572d10-13de-4e81-8236-21eb6a5df9b2\")) {                    Plotly.newPlot(                        \"5f572d10-13de-4e81-8236-21eb6a5df9b2\",                        [{\"marker\": {\"color\": \"rgba(171, 50, 96, 0.6)\", \"line\": {\"color\": \"rgba(171, 50, 96, 1.0)\", \"width\": 1}}, \"name\": \"research\", \"orientation\": \"h\", \"type\": \"bar\", \"x\": [97.6, 98.9, 96.2, 96.7, 88.6, 99.0, 91.9], \"xaxis\": \"x\", \"y\": [\"California Institute of Technology\", \"University of Oxford\", \"Stanford University\", \"University of Cambridge\", \"Massachusetts Institute of Technology\", \"Harvard University\", \"Princeton University\"], \"yaxis\": \"y\"}, {\"line\": {\"color\": \"rgb(63, 72, 204)\"}, \"mode\": \"lines+markers\", \"name\": \"income\", \"type\": \"scatter\", \"x\": [97.8, 73.1, 63.3, 55.0, 95.4, 45.2, 52.1], \"xaxis\": \"x2\", \"y\": [\"California Institute of Technology\", \"University of Oxford\", \"Stanford University\", \"University of Cambridge\", \"Massachusetts Institute of Technology\", \"Harvard University\", \"Princeton University\"], \"yaxis\": \"y2\"}],                        {\"annotations\": [{\"font\": {\"color\": \"rgb(63, 72, 204)\", \"family\": \"Arial\", \"size\": 12}, \"showarrow\": false, \"text\": \"98.0\", \"x\": 94.0, \"xref\": \"x2\", \"y\": \"California Institute of Technology\", \"yref\": \"y2\"}, {\"font\": {\"color\": \"rgb(171, 50, 96)\", \"family\": \"Arial\", \"size\": 12}, \"showarrow\": false, \"text\": \"97.6\", \"x\": 100.6, \"xref\": \"x\", \"y\": \"California Institute of Technology\", \"yref\": \"y\"}, {\"font\": {\"color\": \"rgb(63, 72, 204)\", \"family\": \"Arial\", \"size\": 12}, \"showarrow\": false, \"text\": \"73.0\", \"x\": 69.0, \"xref\": \"x2\", \"y\": \"University of Oxford\", \"yref\": \"y2\"}, {\"font\": {\"color\": \"rgb(171, 50, 96)\", \"family\": \"Arial\", \"size\": 12}, \"showarrow\": false, \"text\": \"98.9\", \"x\": 101.9, \"xref\": \"x\", \"y\": \"University of Oxford\", \"yref\": \"y\"}, {\"font\": {\"color\": \"rgb(63, 72, 204)\", \"family\": \"Arial\", \"size\": 12}, \"showarrow\": false, \"text\": \"63.0\", \"x\": 59.0, \"xref\": \"x2\", \"y\": \"Stanford University\", \"yref\": \"y2\"}, {\"font\": {\"color\": \"rgb(171, 50, 96)\", \"family\": \"Arial\", \"size\": 12}, \"showarrow\": false, \"text\": \"96.2\", \"x\": 99.2, \"xref\": \"x\", \"y\": \"Stanford University\", \"yref\": \"y\"}, {\"font\": {\"color\": \"rgb(63, 72, 204)\", \"family\": \"Arial\", \"size\": 12}, \"showarrow\": false, \"text\": \"55.0\", \"x\": 51.0, \"xref\": \"x2\", \"y\": \"University of Cambridge\", \"yref\": \"y2\"}, {\"font\": {\"color\": \"rgb(171, 50, 96)\", \"family\": \"Arial\", \"size\": 12}, \"showarrow\": false, \"text\": \"96.7\", \"x\": 99.7, \"xref\": \"x\", \"y\": \"University of Cambridge\", \"yref\": \"y\"}, {\"font\": {\"color\": \"rgb(63, 72, 204)\", \"family\": \"Arial\", \"size\": 12}, \"showarrow\": false, \"text\": \"95.0\", \"x\": 91.0, \"xref\": \"x2\", \"y\": \"Massachusetts Institute of Technology\", \"yref\": \"y2\"}, {\"font\": {\"color\": \"rgb(171, 50, 96)\", \"family\": \"Arial\", \"size\": 12}, \"showarrow\": false, \"text\": \"88.6\", \"x\": 91.6, \"xref\": \"x\", \"y\": \"Massachusetts Institute of Technology\", \"yref\": \"y\"}, {\"font\": {\"color\": \"rgb(63, 72, 204)\", \"family\": \"Arial\", \"size\": 12}, \"showarrow\": false, \"text\": \"45.0\", \"x\": 41.0, \"xref\": \"x2\", \"y\": \"Harvard University\", \"yref\": \"y2\"}, {\"font\": {\"color\": \"rgb(171, 50, 96)\", \"family\": \"Arial\", \"size\": 12}, \"showarrow\": false, \"text\": \"99.0\", \"x\": 102.0, \"xref\": \"x\", \"y\": \"Harvard University\", \"yref\": \"y\"}, {\"font\": {\"color\": \"rgb(63, 72, 204)\", \"family\": \"Arial\", \"size\": 12}, \"showarrow\": false, \"text\": \"52.0\", \"x\": 48.0, \"xref\": \"x2\", \"y\": \"Princeton University\", \"yref\": \"y2\"}, {\"font\": {\"color\": \"rgb(171, 50, 96)\", \"family\": \"Arial\", \"size\": 12}, \"showarrow\": false, \"text\": \"91.9\", \"x\": 94.9, \"xref\": \"x\", \"y\": \"Princeton University\", \"yref\": \"y\"}], \"legend\": {\"font\": {\"size\": 10}, \"x\": 0.029, \"y\": 1.038}, \"margin\": {\"b\": 70, \"l\": 200, \"r\": 20, \"t\": 70}, \"paper_bgcolor\": \"rgb(248, 248, 255)\", \"plot_bgcolor\": \"rgb(248, 248, 255)\", \"template\": {\"data\": {\"bar\": [{\"error_x\": {\"color\": \"#2a3f5f\"}, \"error_y\": {\"color\": \"#2a3f5f\"}, \"marker\": {\"line\": {\"color\": \"#E5ECF6\", \"width\": 0.5}}, \"type\": \"bar\"}], \"barpolar\": [{\"marker\": {\"line\": {\"color\": \"#E5ECF6\", \"width\": 0.5}}, \"type\": \"barpolar\"}], \"carpet\": [{\"aaxis\": {\"endlinecolor\": \"#2a3f5f\", \"gridcolor\": \"white\", \"linecolor\": \"white\", \"minorgridcolor\": \"white\", \"startlinecolor\": \"#2a3f5f\"}, \"baxis\": {\"endlinecolor\": \"#2a3f5f\", \"gridcolor\": \"white\", \"linecolor\": \"white\", \"minorgridcolor\": \"white\", \"startlinecolor\": \"#2a3f5f\"}, \"type\": \"carpet\"}], \"choropleth\": [{\"colorbar\": {\"outlinewidth\": 0, \"ticks\": \"\"}, \"type\": \"choropleth\"}], \"contour\": [{\"colorbar\": {\"outlinewidth\": 0, \"ticks\": \"\"}, \"colorscale\": [[0.0, \"#0d0887\"], [0.1111111111111111, \"#46039f\"], [0.2222222222222222, \"#7201a8\"], [0.3333333333333333, \"#9c179e\"], [0.4444444444444444, \"#bd3786\"], [0.5555555555555556, \"#d8576b\"], [0.6666666666666666, \"#ed7953\"], [0.7777777777777778, \"#fb9f3a\"], [0.8888888888888888, \"#fdca26\"], [1.0, \"#f0f921\"]], \"type\": \"contour\"}], \"contourcarpet\": [{\"colorbar\": {\"outlinewidth\": 0, \"ticks\": \"\"}, \"type\": \"contourcarpet\"}], \"heatmap\": [{\"colorbar\": {\"outlinewidth\": 0, \"ticks\": \"\"}, \"colorscale\": [[0.0, \"#0d0887\"], [0.1111111111111111, \"#46039f\"], [0.2222222222222222, \"#7201a8\"], [0.3333333333333333, \"#9c179e\"], [0.4444444444444444, \"#bd3786\"], [0.5555555555555556, \"#d8576b\"], [0.6666666666666666, \"#ed7953\"], [0.7777777777777778, \"#fb9f3a\"], [0.8888888888888888, \"#fdca26\"], [1.0, \"#f0f921\"]], \"type\": \"heatmap\"}], \"heatmapgl\": [{\"colorbar\": {\"outlinewidth\": 0, \"ticks\": \"\"}, \"colorscale\": [[0.0, \"#0d0887\"], [0.1111111111111111, \"#46039f\"], [0.2222222222222222, \"#7201a8\"], [0.3333333333333333, \"#9c179e\"], [0.4444444444444444, \"#bd3786\"], [0.5555555555555556, \"#d8576b\"], [0.6666666666666666, \"#ed7953\"], [0.7777777777777778, \"#fb9f3a\"], [0.8888888888888888, \"#fdca26\"], [1.0, \"#f0f921\"]], \"type\": \"heatmapgl\"}], \"histogram\": [{\"marker\": {\"colorbar\": {\"outlinewidth\": 0, \"ticks\": \"\"}}, \"type\": \"histogram\"}], \"histogram2d\": [{\"colorbar\": {\"outlinewidth\": 0, \"ticks\": \"\"}, \"colorscale\": [[0.0, \"#0d0887\"], [0.1111111111111111, \"#46039f\"], [0.2222222222222222, \"#7201a8\"], [0.3333333333333333, \"#9c179e\"], [0.4444444444444444, \"#bd3786\"], [0.5555555555555556, \"#d8576b\"], [0.6666666666666666, \"#ed7953\"], [0.7777777777777778, \"#fb9f3a\"], [0.8888888888888888, \"#fdca26\"], [1.0, \"#f0f921\"]], \"type\": \"histogram2d\"}], \"histogram2dcontour\": [{\"colorbar\": {\"outlinewidth\": 0, \"ticks\": \"\"}, \"colorscale\": [[0.0, \"#0d0887\"], [0.1111111111111111, \"#46039f\"], [0.2222222222222222, \"#7201a8\"], [0.3333333333333333, \"#9c179e\"], [0.4444444444444444, \"#bd3786\"], [0.5555555555555556, \"#d8576b\"], [0.6666666666666666, \"#ed7953\"], [0.7777777777777778, \"#fb9f3a\"], [0.8888888888888888, \"#fdca26\"], [1.0, \"#f0f921\"]], \"type\": \"histogram2dcontour\"}], \"mesh3d\": [{\"colorbar\": {\"outlinewidth\": 0, \"ticks\": \"\"}, \"type\": \"mesh3d\"}], \"parcoords\": [{\"line\": {\"colorbar\": {\"outlinewidth\": 0, \"ticks\": \"\"}}, \"type\": \"parcoords\"}], \"pie\": [{\"automargin\": true, \"type\": \"pie\"}], \"scatter\": [{\"marker\": {\"colorbar\": {\"outlinewidth\": 0, \"ticks\": \"\"}}, \"type\": \"scatter\"}], \"scatter3d\": [{\"line\": {\"colorbar\": {\"outlinewidth\": 0, \"ticks\": \"\"}}, \"marker\": {\"colorbar\": {\"outlinewidth\": 0, \"ticks\": \"\"}}, \"type\": \"scatter3d\"}], \"scattercarpet\": [{\"marker\": {\"colorbar\": {\"outlinewidth\": 0, \"ticks\": \"\"}}, \"type\": \"scattercarpet\"}], \"scattergeo\": [{\"marker\": {\"colorbar\": {\"outlinewidth\": 0, \"ticks\": \"\"}}, \"type\": \"scattergeo\"}], \"scattergl\": [{\"marker\": {\"colorbar\": {\"outlinewidth\": 0, \"ticks\": \"\"}}, \"type\": \"scattergl\"}], \"scattermapbox\": [{\"marker\": {\"colorbar\": {\"outlinewidth\": 0, \"ticks\": \"\"}}, \"type\": \"scattermapbox\"}], \"scatterpolar\": [{\"marker\": {\"colorbar\": {\"outlinewidth\": 0, \"ticks\": \"\"}}, \"type\": \"scatterpolar\"}], \"scatterpolargl\": [{\"marker\": {\"colorbar\": {\"outlinewidth\": 0, \"ticks\": \"\"}}, \"type\": \"scatterpolargl\"}], \"scatterternary\": [{\"marker\": {\"colorbar\": {\"outlinewidth\": 0, \"ticks\": \"\"}}, \"type\": \"scatterternary\"}], \"surface\": [{\"colorbar\": {\"outlinewidth\": 0, \"ticks\": \"\"}, \"colorscale\": [[0.0, \"#0d0887\"], [0.1111111111111111, \"#46039f\"], [0.2222222222222222, \"#7201a8\"], [0.3333333333333333, \"#9c179e\"], [0.4444444444444444, \"#bd3786\"], [0.5555555555555556, \"#d8576b\"], [0.6666666666666666, \"#ed7953\"], [0.7777777777777778, \"#fb9f3a\"], [0.8888888888888888, \"#fdca26\"], [1.0, \"#f0f921\"]], \"type\": \"surface\"}], \"table\": [{\"cells\": {\"fill\": {\"color\": \"#EBF0F8\"}, \"line\": {\"color\": \"white\"}}, \"header\": {\"fill\": {\"color\": \"#C8D4E3\"}, \"line\": {\"color\": \"white\"}}, \"type\": \"table\"}]}, \"layout\": {\"annotationdefaults\": {\"arrowcolor\": \"#2a3f5f\", \"arrowhead\": 0, \"arrowwidth\": 1}, \"autotypenumbers\": \"strict\", \"coloraxis\": {\"colorbar\": {\"outlinewidth\": 0, \"ticks\": \"\"}}, \"colorscale\": {\"diverging\": [[0, \"#8e0152\"], [0.1, \"#c51b7d\"], [0.2, \"#de77ae\"], [0.3, \"#f1b6da\"], [0.4, \"#fde0ef\"], [0.5, \"#f7f7f7\"], [0.6, \"#e6f5d0\"], [0.7, \"#b8e186\"], [0.8, \"#7fbc41\"], [0.9, \"#4d9221\"], [1, \"#276419\"]], \"sequential\": [[0.0, \"#0d0887\"], [0.1111111111111111, \"#46039f\"], [0.2222222222222222, \"#7201a8\"], [0.3333333333333333, \"#9c179e\"], [0.4444444444444444, \"#bd3786\"], [0.5555555555555556, \"#d8576b\"], [0.6666666666666666, \"#ed7953\"], [0.7777777777777778, \"#fb9f3a\"], [0.8888888888888888, \"#fdca26\"], [1.0, \"#f0f921\"]], \"sequentialminus\": [[0.0, \"#0d0887\"], [0.1111111111111111, \"#46039f\"], [0.2222222222222222, \"#7201a8\"], [0.3333333333333333, \"#9c179e\"], [0.4444444444444444, \"#bd3786\"], [0.5555555555555556, \"#d8576b\"], [0.6666666666666666, \"#ed7953\"], [0.7777777777777778, \"#fb9f3a\"], [0.8888888888888888, \"#fdca26\"], [1.0, \"#f0f921\"]]}, \"colorway\": [\"#636efa\", \"#EF553B\", \"#00cc96\", \"#ab63fa\", \"#FFA15A\", \"#19d3f3\", \"#FF6692\", \"#B6E880\", \"#FF97FF\", \"#FECB52\"], \"font\": {\"color\": \"#2a3f5f\"}, \"geo\": {\"bgcolor\": \"white\", \"lakecolor\": \"white\", \"landcolor\": \"#E5ECF6\", \"showlakes\": true, \"showland\": true, \"subunitcolor\": \"white\"}, \"hoverlabel\": {\"align\": \"left\"}, \"hovermode\": \"closest\", \"mapbox\": {\"style\": \"light\"}, \"paper_bgcolor\": \"white\", \"plot_bgcolor\": \"#E5ECF6\", \"polar\": {\"angularaxis\": {\"gridcolor\": \"white\", \"linecolor\": \"white\", \"ticks\": \"\"}, \"bgcolor\": \"#E5ECF6\", \"radialaxis\": {\"gridcolor\": \"white\", \"linecolor\": \"white\", \"ticks\": \"\"}}, \"scene\": {\"xaxis\": {\"backgroundcolor\": \"#E5ECF6\", \"gridcolor\": \"white\", \"gridwidth\": 2, \"linecolor\": \"white\", \"showbackground\": true, \"ticks\": \"\", \"zerolinecolor\": \"white\"}, \"yaxis\": {\"backgroundcolor\": \"#E5ECF6\", \"gridcolor\": \"white\", \"gridwidth\": 2, \"linecolor\": \"white\", \"showbackground\": true, \"ticks\": \"\", \"zerolinecolor\": \"white\"}, \"zaxis\": {\"backgroundcolor\": \"#E5ECF6\", \"gridcolor\": \"white\", \"gridwidth\": 2, \"linecolor\": \"white\", \"showbackground\": true, \"ticks\": \"\", \"zerolinecolor\": \"white\"}}, \"shapedefaults\": {\"line\": {\"color\": \"#2a3f5f\"}}, \"ternary\": {\"aaxis\": {\"gridcolor\": \"white\", \"linecolor\": \"white\", \"ticks\": \"\"}, \"baxis\": {\"gridcolor\": \"white\", \"linecolor\": \"white\", \"ticks\": \"\"}, \"bgcolor\": \"#E5ECF6\", \"caxis\": {\"gridcolor\": \"white\", \"linecolor\": \"white\", \"ticks\": \"\"}}, \"title\": {\"x\": 0.05}, \"xaxis\": {\"automargin\": true, \"gridcolor\": \"white\", \"linecolor\": \"white\", \"ticks\": \"\", \"title\": {\"standoff\": 15}, \"zerolinecolor\": \"white\", \"zerolinewidth\": 2}, \"yaxis\": {\"automargin\": true, \"gridcolor\": \"white\", \"linecolor\": \"white\", \"ticks\": \"\", \"title\": {\"standoff\": 15}, \"zerolinecolor\": \"white\", \"zerolinewidth\": 2}}}, \"title\": {\"text\": \"Citations and income\"}, \"xaxis\": {\"anchor\": \"y\", \"domain\": [0, 0.42], \"showgrid\": true, \"showline\": false, \"showticklabels\": true, \"zeroline\": false}, \"xaxis2\": {\"anchor\": \"y2\", \"domain\": [0.47, 1], \"dtick\": 25, \"showgrid\": true, \"showline\": false, \"showticklabels\": true, \"side\": \"top\", \"zeroline\": false}, \"yaxis\": {\"anchor\": \"x\", \"domain\": [0, 0.85], \"showticklabels\": true}, \"yaxis2\": {\"anchor\": \"x2\", \"domain\": [0, 0.85], \"linecolor\": \"rgba(102, 102, 102, 0.8)\", \"linewidth\": 2, \"showline\": true, \"showticklabels\": false}},                        {\"responsive\": true}                    ).then(function(){\n",
       "                            \n",
       "var gd = document.getElementById('5f572d10-13de-4e81-8236-21eb6a5df9b2');\n",
       "var x = new MutationObserver(function (mutations, observer) {{\n",
       "        var display = window.getComputedStyle(gd).display;\n",
       "        if (!display || display === 'none') {{\n",
       "            console.log([gd, 'removed!']);\n",
       "            Plotly.purge(gd);\n",
       "            observer.disconnect();\n",
       "        }}\n",
       "}});\n",
       "\n",
       "// Listen for the removal of the full notebook cells\n",
       "var notebookContainer = gd.closest('#notebook-container');\n",
       "if (notebookContainer) {{\n",
       "    x.observe(notebookContainer, {childList: true});\n",
       "}}\n",
       "\n",
       "// Listen for the clearing of the current output cell\n",
       "var outputEl = gd.closest('.output');\n",
       "if (outputEl) {{\n",
       "    x.observe(outputEl, {childList: true});\n",
       "}}\n",
       "\n",
       "                        })                };                });            </script>        </div>"
      ]
     },
     "metadata": {},
     "output_type": "display_data"
    }
   ],
   "source": [
    "import plotly.graph_objs as go\n",
    "from plotly import tools\n",
    "import matplotlib.pyplot as plt\n",
    "# prepare data frames\n",
    "df2016 = timesData[timesData.year == 2016].iloc[:7,:]\n",
    "\n",
    "y_saving = [each for each in df2016.research]\n",
    "y_net_worth  = [float(each) for each in df2016.income]\n",
    "x_saving = [each for each in df2016.university_name]\n",
    "x_net_worth  = [each for each in df2016.university_name]\n",
    "trace0 = go.Bar(\n",
    "                x=y_saving,\n",
    "                y=x_saving,\n",
    "                marker=dict(color='rgba(171, 50, 96, 0.6)',line=dict(color='rgba(171, 50, 96, 1.0)',width=1)),\n",
    "                name='research',\n",
    "                orientation='h',\n",
    ")\n",
    "trace1 = go.Scatter(\n",
    "                x=y_net_worth,\n",
    "                y=x_net_worth,\n",
    "                mode='lines+markers',\n",
    "                line=dict(color='rgb(63, 72, 204)'),\n",
    "                name='income',\n",
    ")\n",
    "layout = dict(\n",
    "                title='Citations and income',\n",
    "                yaxis=dict(showticklabels=True,domain=[0, 0.85]),\n",
    "                yaxis2=dict(showline=True,showticklabels=False,linecolor='rgba(102, 102, 102, 0.8)',linewidth=2,domain=[0, 0.85]),\n",
    "                xaxis=dict(zeroline=False,showline=False,showticklabels=True,showgrid=True,domain=[0, 0.42]),\n",
    "                xaxis2=dict(zeroline=False,showline=False,showticklabels=True,showgrid=True,domain=[0.47, 1],side='top',dtick=25),\n",
    "                legend=dict(x=0.029,y=1.038,font=dict(size=10) ),\n",
    "                margin=dict(l=200, r=20,t=70,b=70),\n",
    "                paper_bgcolor='rgb(248, 248, 255)',\n",
    "                plot_bgcolor='rgb(248, 248, 255)',\n",
    ")\n",
    "annotations = []\n",
    "y_s = np.round(y_saving, decimals=2)\n",
    "y_nw = np.rint(y_net_worth)\n",
    "# Adding labels\n",
    "for ydn, yd, xd in zip(y_nw, y_s, x_saving):\n",
    "    # labeling the scatter savings\n",
    "    annotations.append(dict(xref='x2', yref='y2', y=xd, x=ydn - 4,text='{:,}'.format(ydn),font=dict(family='Arial', size=12,color='rgb(63, 72, 204)'),showarrow=False))\n",
    "    # labeling the bar net worth\n",
    "    annotations.append(dict(xref='x1', yref='y1', y=xd, x=yd + 3,text=str(yd),font=dict(family='Arial', size=12,color='rgb(171, 50, 96)'),showarrow=False))\n",
    "\n",
    "layout['annotations'] = annotations\n",
    "\n",
    "# Creating two subplots\n",
    "fig = tools.make_subplots(rows=1, cols=2, specs=[[{}, {}]], shared_xaxes=True,\n",
    "                          shared_yaxes=False, vertical_spacing=0.001)\n",
    "\n",
    "fig.append_trace(trace0, 1, 1)\n",
    "fig.append_trace(trace1, 1, 2)\n",
    "\n",
    "fig['layout'].update(layout)\n",
    "iplot(fig)"
   ]
  },
  {
   "cell_type": "markdown",
   "metadata": {},
   "source": [
    "## Pie Chart:"
   ]
  },
  {
   "cell_type": "code",
   "execution_count": 13,
   "metadata": {},
   "outputs": [
    {
     "data": {
      "application/vnd.plotly.v1+json": {
       "config": {
        "linkText": "Export to plot.ly",
        "plotlyServerURL": "https://plot.ly",
        "showLink": false
       },
       "data": [
        {
         "domain": {
          "x": [
           0,
           0.5
          ]
         },
         "hole": 0.3,
         "hoverinfo": "label+percent+name",
         "labels": [
          "California Institute of Technology",
          "University of Oxford",
          "Stanford University",
          "University of Cambridge",
          "Massachusetts Institute of Technology",
          "Harvard University",
          "Princeton University"
         ],
         "name": "Number Of Students Rates",
         "type": "pie",
         "values": [
          2.243,
          19.919,
          15.596,
          18.812,
          11.074,
          20.152,
          7.929
         ]
        }
       ],
       "layout": {
        "annotations": [
         {
          "font": {
           "size": 20
          },
          "showarrow": false,
          "text": "Number of Students",
          "x": 0.2,
          "y": 1
         }
        ],
        "template": {
         "data": {
          "bar": [
           {
            "error_x": {
             "color": "#2a3f5f"
            },
            "error_y": {
             "color": "#2a3f5f"
            },
            "marker": {
             "line": {
              "color": "#E5ECF6",
              "width": 0.5
             }
            },
            "type": "bar"
           }
          ],
          "barpolar": [
           {
            "marker": {
             "line": {
              "color": "#E5ECF6",
              "width": 0.5
             }
            },
            "type": "barpolar"
           }
          ],
          "carpet": [
           {
            "aaxis": {
             "endlinecolor": "#2a3f5f",
             "gridcolor": "white",
             "linecolor": "white",
             "minorgridcolor": "white",
             "startlinecolor": "#2a3f5f"
            },
            "baxis": {
             "endlinecolor": "#2a3f5f",
             "gridcolor": "white",
             "linecolor": "white",
             "minorgridcolor": "white",
             "startlinecolor": "#2a3f5f"
            },
            "type": "carpet"
           }
          ],
          "choropleth": [
           {
            "colorbar": {
             "outlinewidth": 0,
             "ticks": ""
            },
            "type": "choropleth"
           }
          ],
          "contour": [
           {
            "colorbar": {
             "outlinewidth": 0,
             "ticks": ""
            },
            "colorscale": [
             [
              0,
              "#0d0887"
             ],
             [
              0.1111111111111111,
              "#46039f"
             ],
             [
              0.2222222222222222,
              "#7201a8"
             ],
             [
              0.3333333333333333,
              "#9c179e"
             ],
             [
              0.4444444444444444,
              "#bd3786"
             ],
             [
              0.5555555555555556,
              "#d8576b"
             ],
             [
              0.6666666666666666,
              "#ed7953"
             ],
             [
              0.7777777777777778,
              "#fb9f3a"
             ],
             [
              0.8888888888888888,
              "#fdca26"
             ],
             [
              1,
              "#f0f921"
             ]
            ],
            "type": "contour"
           }
          ],
          "contourcarpet": [
           {
            "colorbar": {
             "outlinewidth": 0,
             "ticks": ""
            },
            "type": "contourcarpet"
           }
          ],
          "heatmap": [
           {
            "colorbar": {
             "outlinewidth": 0,
             "ticks": ""
            },
            "colorscale": [
             [
              0,
              "#0d0887"
             ],
             [
              0.1111111111111111,
              "#46039f"
             ],
             [
              0.2222222222222222,
              "#7201a8"
             ],
             [
              0.3333333333333333,
              "#9c179e"
             ],
             [
              0.4444444444444444,
              "#bd3786"
             ],
             [
              0.5555555555555556,
              "#d8576b"
             ],
             [
              0.6666666666666666,
              "#ed7953"
             ],
             [
              0.7777777777777778,
              "#fb9f3a"
             ],
             [
              0.8888888888888888,
              "#fdca26"
             ],
             [
              1,
              "#f0f921"
             ]
            ],
            "type": "heatmap"
           }
          ],
          "heatmapgl": [
           {
            "colorbar": {
             "outlinewidth": 0,
             "ticks": ""
            },
            "colorscale": [
             [
              0,
              "#0d0887"
             ],
             [
              0.1111111111111111,
              "#46039f"
             ],
             [
              0.2222222222222222,
              "#7201a8"
             ],
             [
              0.3333333333333333,
              "#9c179e"
             ],
             [
              0.4444444444444444,
              "#bd3786"
             ],
             [
              0.5555555555555556,
              "#d8576b"
             ],
             [
              0.6666666666666666,
              "#ed7953"
             ],
             [
              0.7777777777777778,
              "#fb9f3a"
             ],
             [
              0.8888888888888888,
              "#fdca26"
             ],
             [
              1,
              "#f0f921"
             ]
            ],
            "type": "heatmapgl"
           }
          ],
          "histogram": [
           {
            "marker": {
             "colorbar": {
              "outlinewidth": 0,
              "ticks": ""
             }
            },
            "type": "histogram"
           }
          ],
          "histogram2d": [
           {
            "colorbar": {
             "outlinewidth": 0,
             "ticks": ""
            },
            "colorscale": [
             [
              0,
              "#0d0887"
             ],
             [
              0.1111111111111111,
              "#46039f"
             ],
             [
              0.2222222222222222,
              "#7201a8"
             ],
             [
              0.3333333333333333,
              "#9c179e"
             ],
             [
              0.4444444444444444,
              "#bd3786"
             ],
             [
              0.5555555555555556,
              "#d8576b"
             ],
             [
              0.6666666666666666,
              "#ed7953"
             ],
             [
              0.7777777777777778,
              "#fb9f3a"
             ],
             [
              0.8888888888888888,
              "#fdca26"
             ],
             [
              1,
              "#f0f921"
             ]
            ],
            "type": "histogram2d"
           }
          ],
          "histogram2dcontour": [
           {
            "colorbar": {
             "outlinewidth": 0,
             "ticks": ""
            },
            "colorscale": [
             [
              0,
              "#0d0887"
             ],
             [
              0.1111111111111111,
              "#46039f"
             ],
             [
              0.2222222222222222,
              "#7201a8"
             ],
             [
              0.3333333333333333,
              "#9c179e"
             ],
             [
              0.4444444444444444,
              "#bd3786"
             ],
             [
              0.5555555555555556,
              "#d8576b"
             ],
             [
              0.6666666666666666,
              "#ed7953"
             ],
             [
              0.7777777777777778,
              "#fb9f3a"
             ],
             [
              0.8888888888888888,
              "#fdca26"
             ],
             [
              1,
              "#f0f921"
             ]
            ],
            "type": "histogram2dcontour"
           }
          ],
          "mesh3d": [
           {
            "colorbar": {
             "outlinewidth": 0,
             "ticks": ""
            },
            "type": "mesh3d"
           }
          ],
          "parcoords": [
           {
            "line": {
             "colorbar": {
              "outlinewidth": 0,
              "ticks": ""
             }
            },
            "type": "parcoords"
           }
          ],
          "pie": [
           {
            "automargin": true,
            "type": "pie"
           }
          ],
          "scatter": [
           {
            "marker": {
             "colorbar": {
              "outlinewidth": 0,
              "ticks": ""
             }
            },
            "type": "scatter"
           }
          ],
          "scatter3d": [
           {
            "line": {
             "colorbar": {
              "outlinewidth": 0,
              "ticks": ""
             }
            },
            "marker": {
             "colorbar": {
              "outlinewidth": 0,
              "ticks": ""
             }
            },
            "type": "scatter3d"
           }
          ],
          "scattercarpet": [
           {
            "marker": {
             "colorbar": {
              "outlinewidth": 0,
              "ticks": ""
             }
            },
            "type": "scattercarpet"
           }
          ],
          "scattergeo": [
           {
            "marker": {
             "colorbar": {
              "outlinewidth": 0,
              "ticks": ""
             }
            },
            "type": "scattergeo"
           }
          ],
          "scattergl": [
           {
            "marker": {
             "colorbar": {
              "outlinewidth": 0,
              "ticks": ""
             }
            },
            "type": "scattergl"
           }
          ],
          "scattermapbox": [
           {
            "marker": {
             "colorbar": {
              "outlinewidth": 0,
              "ticks": ""
             }
            },
            "type": "scattermapbox"
           }
          ],
          "scatterpolar": [
           {
            "marker": {
             "colorbar": {
              "outlinewidth": 0,
              "ticks": ""
             }
            },
            "type": "scatterpolar"
           }
          ],
          "scatterpolargl": [
           {
            "marker": {
             "colorbar": {
              "outlinewidth": 0,
              "ticks": ""
             }
            },
            "type": "scatterpolargl"
           }
          ],
          "scatterternary": [
           {
            "marker": {
             "colorbar": {
              "outlinewidth": 0,
              "ticks": ""
             }
            },
            "type": "scatterternary"
           }
          ],
          "surface": [
           {
            "colorbar": {
             "outlinewidth": 0,
             "ticks": ""
            },
            "colorscale": [
             [
              0,
              "#0d0887"
             ],
             [
              0.1111111111111111,
              "#46039f"
             ],
             [
              0.2222222222222222,
              "#7201a8"
             ],
             [
              0.3333333333333333,
              "#9c179e"
             ],
             [
              0.4444444444444444,
              "#bd3786"
             ],
             [
              0.5555555555555556,
              "#d8576b"
             ],
             [
              0.6666666666666666,
              "#ed7953"
             ],
             [
              0.7777777777777778,
              "#fb9f3a"
             ],
             [
              0.8888888888888888,
              "#fdca26"
             ],
             [
              1,
              "#f0f921"
             ]
            ],
            "type": "surface"
           }
          ],
          "table": [
           {
            "cells": {
             "fill": {
              "color": "#EBF0F8"
             },
             "line": {
              "color": "white"
             }
            },
            "header": {
             "fill": {
              "color": "#C8D4E3"
             },
             "line": {
              "color": "white"
             }
            },
            "type": "table"
           }
          ]
         },
         "layout": {
          "annotationdefaults": {
           "arrowcolor": "#2a3f5f",
           "arrowhead": 0,
           "arrowwidth": 1
          },
          "autotypenumbers": "strict",
          "coloraxis": {
           "colorbar": {
            "outlinewidth": 0,
            "ticks": ""
           }
          },
          "colorscale": {
           "diverging": [
            [
             0,
             "#8e0152"
            ],
            [
             0.1,
             "#c51b7d"
            ],
            [
             0.2,
             "#de77ae"
            ],
            [
             0.3,
             "#f1b6da"
            ],
            [
             0.4,
             "#fde0ef"
            ],
            [
             0.5,
             "#f7f7f7"
            ],
            [
             0.6,
             "#e6f5d0"
            ],
            [
             0.7,
             "#b8e186"
            ],
            [
             0.8,
             "#7fbc41"
            ],
            [
             0.9,
             "#4d9221"
            ],
            [
             1,
             "#276419"
            ]
           ],
           "sequential": [
            [
             0,
             "#0d0887"
            ],
            [
             0.1111111111111111,
             "#46039f"
            ],
            [
             0.2222222222222222,
             "#7201a8"
            ],
            [
             0.3333333333333333,
             "#9c179e"
            ],
            [
             0.4444444444444444,
             "#bd3786"
            ],
            [
             0.5555555555555556,
             "#d8576b"
            ],
            [
             0.6666666666666666,
             "#ed7953"
            ],
            [
             0.7777777777777778,
             "#fb9f3a"
            ],
            [
             0.8888888888888888,
             "#fdca26"
            ],
            [
             1,
             "#f0f921"
            ]
           ],
           "sequentialminus": [
            [
             0,
             "#0d0887"
            ],
            [
             0.1111111111111111,
             "#46039f"
            ],
            [
             0.2222222222222222,
             "#7201a8"
            ],
            [
             0.3333333333333333,
             "#9c179e"
            ],
            [
             0.4444444444444444,
             "#bd3786"
            ],
            [
             0.5555555555555556,
             "#d8576b"
            ],
            [
             0.6666666666666666,
             "#ed7953"
            ],
            [
             0.7777777777777778,
             "#fb9f3a"
            ],
            [
             0.8888888888888888,
             "#fdca26"
            ],
            [
             1,
             "#f0f921"
            ]
           ]
          },
          "colorway": [
           "#636efa",
           "#EF553B",
           "#00cc96",
           "#ab63fa",
           "#FFA15A",
           "#19d3f3",
           "#FF6692",
           "#B6E880",
           "#FF97FF",
           "#FECB52"
          ],
          "font": {
           "color": "#2a3f5f"
          },
          "geo": {
           "bgcolor": "white",
           "lakecolor": "white",
           "landcolor": "#E5ECF6",
           "showlakes": true,
           "showland": true,
           "subunitcolor": "white"
          },
          "hoverlabel": {
           "align": "left"
          },
          "hovermode": "closest",
          "mapbox": {
           "style": "light"
          },
          "paper_bgcolor": "white",
          "plot_bgcolor": "#E5ECF6",
          "polar": {
           "angularaxis": {
            "gridcolor": "white",
            "linecolor": "white",
            "ticks": ""
           },
           "bgcolor": "#E5ECF6",
           "radialaxis": {
            "gridcolor": "white",
            "linecolor": "white",
            "ticks": ""
           }
          },
          "scene": {
           "xaxis": {
            "backgroundcolor": "#E5ECF6",
            "gridcolor": "white",
            "gridwidth": 2,
            "linecolor": "white",
            "showbackground": true,
            "ticks": "",
            "zerolinecolor": "white"
           },
           "yaxis": {
            "backgroundcolor": "#E5ECF6",
            "gridcolor": "white",
            "gridwidth": 2,
            "linecolor": "white",
            "showbackground": true,
            "ticks": "",
            "zerolinecolor": "white"
           },
           "zaxis": {
            "backgroundcolor": "#E5ECF6",
            "gridcolor": "white",
            "gridwidth": 2,
            "linecolor": "white",
            "showbackground": true,
            "ticks": "",
            "zerolinecolor": "white"
           }
          },
          "shapedefaults": {
           "line": {
            "color": "#2a3f5f"
           }
          },
          "ternary": {
           "aaxis": {
            "gridcolor": "white",
            "linecolor": "white",
            "ticks": ""
           },
           "baxis": {
            "gridcolor": "white",
            "linecolor": "white",
            "ticks": ""
           },
           "bgcolor": "#E5ECF6",
           "caxis": {
            "gridcolor": "white",
            "linecolor": "white",
            "ticks": ""
           }
          },
          "title": {
           "x": 0.05
          },
          "xaxis": {
           "automargin": true,
           "gridcolor": "white",
           "linecolor": "white",
           "ticks": "",
           "title": {
            "standoff": 15
           },
           "zerolinecolor": "white",
           "zerolinewidth": 2
          },
          "yaxis": {
           "automargin": true,
           "gridcolor": "white",
           "linecolor": "white",
           "ticks": "",
           "title": {
            "standoff": 15
           },
           "zerolinecolor": "white",
           "zerolinewidth": 2
          }
         }
        },
        "title": {
         "text": "Universities Number of Students rates"
        }
       }
      },
      "text/html": [
       "<div>                            <div id=\"419a612b-1ffa-4022-9507-d209e3e35450\" class=\"plotly-graph-div\" style=\"height:525px; width:100%;\"></div>            <script type=\"text/javascript\">                require([\"plotly\"], function(Plotly) {                    window.PLOTLYENV=window.PLOTLYENV || {};                                    if (document.getElementById(\"419a612b-1ffa-4022-9507-d209e3e35450\")) {                    Plotly.newPlot(                        \"419a612b-1ffa-4022-9507-d209e3e35450\",                        [{\"domain\": {\"x\": [0, 0.5]}, \"hole\": 0.3, \"hoverinfo\": \"label+percent+name\", \"labels\": [\"California Institute of Technology\", \"University of Oxford\", \"Stanford University\", \"University of Cambridge\", \"Massachusetts Institute of Technology\", \"Harvard University\", \"Princeton University\"], \"name\": \"Number Of Students Rates\", \"type\": \"pie\", \"values\": [2.243, 19.919, 15.596, 18.812, 11.074, 20.152, 7.929]}],                        {\"annotations\": [{\"font\": {\"size\": 20}, \"showarrow\": false, \"text\": \"Number of Students\", \"x\": 0.2, \"y\": 1}], \"template\": {\"data\": {\"bar\": [{\"error_x\": {\"color\": \"#2a3f5f\"}, \"error_y\": {\"color\": \"#2a3f5f\"}, \"marker\": {\"line\": {\"color\": \"#E5ECF6\", \"width\": 0.5}}, \"type\": \"bar\"}], \"barpolar\": [{\"marker\": {\"line\": {\"color\": \"#E5ECF6\", \"width\": 0.5}}, \"type\": \"barpolar\"}], \"carpet\": [{\"aaxis\": {\"endlinecolor\": \"#2a3f5f\", \"gridcolor\": \"white\", \"linecolor\": \"white\", \"minorgridcolor\": \"white\", \"startlinecolor\": \"#2a3f5f\"}, \"baxis\": {\"endlinecolor\": \"#2a3f5f\", \"gridcolor\": \"white\", \"linecolor\": \"white\", \"minorgridcolor\": \"white\", \"startlinecolor\": \"#2a3f5f\"}, \"type\": \"carpet\"}], \"choropleth\": [{\"colorbar\": {\"outlinewidth\": 0, \"ticks\": \"\"}, \"type\": \"choropleth\"}], \"contour\": [{\"colorbar\": {\"outlinewidth\": 0, \"ticks\": \"\"}, \"colorscale\": [[0.0, \"#0d0887\"], [0.1111111111111111, \"#46039f\"], [0.2222222222222222, \"#7201a8\"], [0.3333333333333333, \"#9c179e\"], [0.4444444444444444, \"#bd3786\"], [0.5555555555555556, \"#d8576b\"], [0.6666666666666666, \"#ed7953\"], [0.7777777777777778, \"#fb9f3a\"], [0.8888888888888888, \"#fdca26\"], [1.0, \"#f0f921\"]], \"type\": \"contour\"}], \"contourcarpet\": [{\"colorbar\": {\"outlinewidth\": 0, \"ticks\": \"\"}, \"type\": \"contourcarpet\"}], \"heatmap\": [{\"colorbar\": {\"outlinewidth\": 0, \"ticks\": \"\"}, \"colorscale\": [[0.0, \"#0d0887\"], [0.1111111111111111, \"#46039f\"], [0.2222222222222222, \"#7201a8\"], [0.3333333333333333, \"#9c179e\"], [0.4444444444444444, \"#bd3786\"], [0.5555555555555556, \"#d8576b\"], [0.6666666666666666, \"#ed7953\"], [0.7777777777777778, \"#fb9f3a\"], [0.8888888888888888, \"#fdca26\"], [1.0, \"#f0f921\"]], \"type\": \"heatmap\"}], \"heatmapgl\": [{\"colorbar\": {\"outlinewidth\": 0, \"ticks\": \"\"}, \"colorscale\": [[0.0, \"#0d0887\"], [0.1111111111111111, \"#46039f\"], [0.2222222222222222, \"#7201a8\"], [0.3333333333333333, \"#9c179e\"], [0.4444444444444444, \"#bd3786\"], [0.5555555555555556, \"#d8576b\"], [0.6666666666666666, \"#ed7953\"], [0.7777777777777778, \"#fb9f3a\"], [0.8888888888888888, \"#fdca26\"], [1.0, \"#f0f921\"]], \"type\": \"heatmapgl\"}], \"histogram\": [{\"marker\": {\"colorbar\": {\"outlinewidth\": 0, \"ticks\": \"\"}}, \"type\": \"histogram\"}], \"histogram2d\": [{\"colorbar\": {\"outlinewidth\": 0, \"ticks\": \"\"}, \"colorscale\": [[0.0, \"#0d0887\"], [0.1111111111111111, \"#46039f\"], [0.2222222222222222, \"#7201a8\"], [0.3333333333333333, \"#9c179e\"], [0.4444444444444444, \"#bd3786\"], [0.5555555555555556, \"#d8576b\"], [0.6666666666666666, \"#ed7953\"], [0.7777777777777778, \"#fb9f3a\"], [0.8888888888888888, \"#fdca26\"], [1.0, \"#f0f921\"]], \"type\": \"histogram2d\"}], \"histogram2dcontour\": [{\"colorbar\": {\"outlinewidth\": 0, \"ticks\": \"\"}, \"colorscale\": [[0.0, \"#0d0887\"], [0.1111111111111111, \"#46039f\"], [0.2222222222222222, \"#7201a8\"], [0.3333333333333333, \"#9c179e\"], [0.4444444444444444, \"#bd3786\"], [0.5555555555555556, \"#d8576b\"], [0.6666666666666666, \"#ed7953\"], [0.7777777777777778, \"#fb9f3a\"], [0.8888888888888888, \"#fdca26\"], [1.0, \"#f0f921\"]], \"type\": \"histogram2dcontour\"}], \"mesh3d\": [{\"colorbar\": {\"outlinewidth\": 0, \"ticks\": \"\"}, \"type\": \"mesh3d\"}], \"parcoords\": [{\"line\": {\"colorbar\": {\"outlinewidth\": 0, \"ticks\": \"\"}}, \"type\": \"parcoords\"}], \"pie\": [{\"automargin\": true, \"type\": \"pie\"}], \"scatter\": [{\"marker\": {\"colorbar\": {\"outlinewidth\": 0, \"ticks\": \"\"}}, \"type\": \"scatter\"}], \"scatter3d\": [{\"line\": {\"colorbar\": {\"outlinewidth\": 0, \"ticks\": \"\"}}, \"marker\": {\"colorbar\": {\"outlinewidth\": 0, \"ticks\": \"\"}}, \"type\": \"scatter3d\"}], \"scattercarpet\": [{\"marker\": {\"colorbar\": {\"outlinewidth\": 0, \"ticks\": \"\"}}, \"type\": \"scattercarpet\"}], \"scattergeo\": [{\"marker\": {\"colorbar\": {\"outlinewidth\": 0, \"ticks\": \"\"}}, \"type\": \"scattergeo\"}], \"scattergl\": [{\"marker\": {\"colorbar\": {\"outlinewidth\": 0, \"ticks\": \"\"}}, \"type\": \"scattergl\"}], \"scattermapbox\": [{\"marker\": {\"colorbar\": {\"outlinewidth\": 0, \"ticks\": \"\"}}, \"type\": \"scattermapbox\"}], \"scatterpolar\": [{\"marker\": {\"colorbar\": {\"outlinewidth\": 0, \"ticks\": \"\"}}, \"type\": \"scatterpolar\"}], \"scatterpolargl\": [{\"marker\": {\"colorbar\": {\"outlinewidth\": 0, \"ticks\": \"\"}}, \"type\": \"scatterpolargl\"}], \"scatterternary\": [{\"marker\": {\"colorbar\": {\"outlinewidth\": 0, \"ticks\": \"\"}}, \"type\": \"scatterternary\"}], \"surface\": [{\"colorbar\": {\"outlinewidth\": 0, \"ticks\": \"\"}, \"colorscale\": [[0.0, \"#0d0887\"], [0.1111111111111111, \"#46039f\"], [0.2222222222222222, \"#7201a8\"], [0.3333333333333333, \"#9c179e\"], [0.4444444444444444, \"#bd3786\"], [0.5555555555555556, \"#d8576b\"], [0.6666666666666666, \"#ed7953\"], [0.7777777777777778, \"#fb9f3a\"], [0.8888888888888888, \"#fdca26\"], [1.0, \"#f0f921\"]], \"type\": \"surface\"}], \"table\": [{\"cells\": {\"fill\": {\"color\": \"#EBF0F8\"}, \"line\": {\"color\": \"white\"}}, \"header\": {\"fill\": {\"color\": \"#C8D4E3\"}, \"line\": {\"color\": \"white\"}}, \"type\": \"table\"}]}, \"layout\": {\"annotationdefaults\": {\"arrowcolor\": \"#2a3f5f\", \"arrowhead\": 0, \"arrowwidth\": 1}, \"autotypenumbers\": \"strict\", \"coloraxis\": {\"colorbar\": {\"outlinewidth\": 0, \"ticks\": \"\"}}, \"colorscale\": {\"diverging\": [[0, \"#8e0152\"], [0.1, \"#c51b7d\"], [0.2, \"#de77ae\"], [0.3, \"#f1b6da\"], [0.4, \"#fde0ef\"], [0.5, \"#f7f7f7\"], [0.6, \"#e6f5d0\"], [0.7, \"#b8e186\"], [0.8, \"#7fbc41\"], [0.9, \"#4d9221\"], [1, \"#276419\"]], \"sequential\": [[0.0, \"#0d0887\"], [0.1111111111111111, \"#46039f\"], [0.2222222222222222, \"#7201a8\"], [0.3333333333333333, \"#9c179e\"], [0.4444444444444444, \"#bd3786\"], [0.5555555555555556, \"#d8576b\"], [0.6666666666666666, \"#ed7953\"], [0.7777777777777778, \"#fb9f3a\"], [0.8888888888888888, \"#fdca26\"], [1.0, \"#f0f921\"]], \"sequentialminus\": [[0.0, \"#0d0887\"], [0.1111111111111111, \"#46039f\"], [0.2222222222222222, \"#7201a8\"], [0.3333333333333333, \"#9c179e\"], [0.4444444444444444, \"#bd3786\"], [0.5555555555555556, \"#d8576b\"], [0.6666666666666666, \"#ed7953\"], [0.7777777777777778, \"#fb9f3a\"], [0.8888888888888888, \"#fdca26\"], [1.0, \"#f0f921\"]]}, \"colorway\": [\"#636efa\", \"#EF553B\", \"#00cc96\", \"#ab63fa\", \"#FFA15A\", \"#19d3f3\", \"#FF6692\", \"#B6E880\", \"#FF97FF\", \"#FECB52\"], \"font\": {\"color\": \"#2a3f5f\"}, \"geo\": {\"bgcolor\": \"white\", \"lakecolor\": \"white\", \"landcolor\": \"#E5ECF6\", \"showlakes\": true, \"showland\": true, \"subunitcolor\": \"white\"}, \"hoverlabel\": {\"align\": \"left\"}, \"hovermode\": \"closest\", \"mapbox\": {\"style\": \"light\"}, \"paper_bgcolor\": \"white\", \"plot_bgcolor\": \"#E5ECF6\", \"polar\": {\"angularaxis\": {\"gridcolor\": \"white\", \"linecolor\": \"white\", \"ticks\": \"\"}, \"bgcolor\": \"#E5ECF6\", \"radialaxis\": {\"gridcolor\": \"white\", \"linecolor\": \"white\", \"ticks\": \"\"}}, \"scene\": {\"xaxis\": {\"backgroundcolor\": \"#E5ECF6\", \"gridcolor\": \"white\", \"gridwidth\": 2, \"linecolor\": \"white\", \"showbackground\": true, \"ticks\": \"\", \"zerolinecolor\": \"white\"}, \"yaxis\": {\"backgroundcolor\": \"#E5ECF6\", \"gridcolor\": \"white\", \"gridwidth\": 2, \"linecolor\": \"white\", \"showbackground\": true, \"ticks\": \"\", \"zerolinecolor\": \"white\"}, \"zaxis\": {\"backgroundcolor\": \"#E5ECF6\", \"gridcolor\": \"white\", \"gridwidth\": 2, \"linecolor\": \"white\", \"showbackground\": true, \"ticks\": \"\", \"zerolinecolor\": \"white\"}}, \"shapedefaults\": {\"line\": {\"color\": \"#2a3f5f\"}}, \"ternary\": {\"aaxis\": {\"gridcolor\": \"white\", \"linecolor\": \"white\", \"ticks\": \"\"}, \"baxis\": {\"gridcolor\": \"white\", \"linecolor\": \"white\", \"ticks\": \"\"}, \"bgcolor\": \"#E5ECF6\", \"caxis\": {\"gridcolor\": \"white\", \"linecolor\": \"white\", \"ticks\": \"\"}}, \"title\": {\"x\": 0.05}, \"xaxis\": {\"automargin\": true, \"gridcolor\": \"white\", \"linecolor\": \"white\", \"ticks\": \"\", \"title\": {\"standoff\": 15}, \"zerolinecolor\": \"white\", \"zerolinewidth\": 2}, \"yaxis\": {\"automargin\": true, \"gridcolor\": \"white\", \"linecolor\": \"white\", \"ticks\": \"\", \"title\": {\"standoff\": 15}, \"zerolinecolor\": \"white\", \"zerolinewidth\": 2}}}, \"title\": {\"text\": \"Universities Number of Students rates\"}},                        {\"responsive\": true}                    ).then(function(){\n",
       "                            \n",
       "var gd = document.getElementById('419a612b-1ffa-4022-9507-d209e3e35450');\n",
       "var x = new MutationObserver(function (mutations, observer) {{\n",
       "        var display = window.getComputedStyle(gd).display;\n",
       "        if (!display || display === 'none') {{\n",
       "            console.log([gd, 'removed!']);\n",
       "            Plotly.purge(gd);\n",
       "            observer.disconnect();\n",
       "        }}\n",
       "}});\n",
       "\n",
       "// Listen for the removal of the full notebook cells\n",
       "var notebookContainer = gd.closest('#notebook-container');\n",
       "if (notebookContainer) {{\n",
       "    x.observe(notebookContainer, {childList: true});\n",
       "}}\n",
       "\n",
       "// Listen for the clearing of the current output cell\n",
       "var outputEl = gd.closest('.output');\n",
       "if (outputEl) {{\n",
       "    x.observe(outputEl, {childList: true});\n",
       "}}\n",
       "\n",
       "                        })                };                });            </script>        </div>"
      ]
     },
     "metadata": {},
     "output_type": "display_data"
    }
   ],
   "source": [
    "# data preparation\n",
    "df2016 = timesData[timesData.year == 2016].iloc[:7,:]\n",
    "pie1 = df2016.num_students\n",
    "pie1_list = [float(each.replace(',', '.')) for each in df2016.num_students]  # str(2,4) => str(2.4) = > float(2.4) = 2.4\n",
    "labels = df2016.university_name\n",
    "# figure\n",
    "fig = {\n",
    "  \"data\": [\n",
    "    {\n",
    "      \"values\": pie1_list,\n",
    "      \"labels\": labels,\n",
    "      \"domain\": {\"x\": [0, .5]},\n",
    "      \"name\": \"Number Of Students Rates\",\n",
    "      \"hoverinfo\":\"label+percent+name\",\n",
    "      \"hole\": .3,\n",
    "      \"type\": \"pie\"\n",
    "    },],\n",
    "  \"layout\": {\n",
    "        \"title\":\"Universities Number of Students rates\",\n",
    "        \"annotations\": [\n",
    "            { \"font\": { \"size\": 20},\n",
    "              \"showarrow\": False,\n",
    "              \"text\": \"Number of Students\",\n",
    "                \"x\": 0.20,\n",
    "                \"y\": 1\n",
    "            },\n",
    "        ]\n",
    "    }\n",
    "}\n",
    "iplot(fig)"
   ]
  },
  {
   "cell_type": "markdown",
   "metadata": {},
   "source": [
    "## Bubble Chart:"
   ]
  },
  {
   "cell_type": "code",
   "execution_count": 14,
   "metadata": {},
   "outputs": [
    {
     "data": {
      "application/vnd.plotly.v1+json": {
       "config": {
        "linkText": "Export to plot.ly",
        "plotlyServerURL": "https://plot.ly",
        "showLink": false
       },
       "data": [
        {
         "marker": {
          "color": [
           64,
           94.4,
           76.3,
           91.5,
           84,
           77.2,
           78.5,
           96,
           97.9,
           65,
           70,
           64.3,
           61.9,
           94.4,
           73.5,
           56.4,
           49.5,
           63.9,
           77.8,
           56.5
          ],
          "showscale": true,
          "size": [
           2.243,
           19.919,
           15.596,
           18.812,
           11.074,
           20.152,
           7.929,
           15.06,
           18.178,
           14.221,
           15.128,
           11.751,
           36.186,
           26.607,
           25.055,
           38.206,
           20.376,
           21.424,
           66.198,
           15.172
          ]
         },
         "mode": "markers",
         "text": [
          "California Institute of Technology",
          "University of Oxford",
          "Stanford University",
          "University of Cambridge",
          "Massachusetts Institute of Technology",
          "Harvard University",
          "Princeton University",
          "Imperial College London",
          "ETH Zurich – Swiss Federal Institute of Technology Zurich",
          "University of Chicago",
          "Johns Hopkins University",
          "Yale University",
          "University of California, Berkeley",
          "University College London",
          "Columbia University",
          "University of California, Los Angeles",
          "University of Pennsylvania",
          "Cornell University",
          "University of Toronto",
          "Duke University"
         ],
         "type": "scatter",
         "x": [
          "1",
          "2",
          "3",
          "4",
          "5",
          "6",
          "7",
          "8",
          "9",
          "10",
          "11",
          "12",
          "13",
          "14",
          "15",
          "16",
          "17",
          "18",
          "19",
          "20"
         ],
         "y": [
          95.6,
          86.5,
          92.5,
          88.2,
          89.4,
          83.6,
          85.1,
          83.3,
          77,
          85.7,
          77.6,
          86.5,
          80.4,
          78.1,
          85.9,
          80.8,
          82,
          77.9,
          75.9,
          76
         ]
        }
       ],
       "layout": {
        "template": {
         "data": {
          "bar": [
           {
            "error_x": {
             "color": "#2a3f5f"
            },
            "error_y": {
             "color": "#2a3f5f"
            },
            "marker": {
             "line": {
              "color": "#E5ECF6",
              "width": 0.5
             }
            },
            "type": "bar"
           }
          ],
          "barpolar": [
           {
            "marker": {
             "line": {
              "color": "#E5ECF6",
              "width": 0.5
             }
            },
            "type": "barpolar"
           }
          ],
          "carpet": [
           {
            "aaxis": {
             "endlinecolor": "#2a3f5f",
             "gridcolor": "white",
             "linecolor": "white",
             "minorgridcolor": "white",
             "startlinecolor": "#2a3f5f"
            },
            "baxis": {
             "endlinecolor": "#2a3f5f",
             "gridcolor": "white",
             "linecolor": "white",
             "minorgridcolor": "white",
             "startlinecolor": "#2a3f5f"
            },
            "type": "carpet"
           }
          ],
          "choropleth": [
           {
            "colorbar": {
             "outlinewidth": 0,
             "ticks": ""
            },
            "type": "choropleth"
           }
          ],
          "contour": [
           {
            "colorbar": {
             "outlinewidth": 0,
             "ticks": ""
            },
            "colorscale": [
             [
              0,
              "#0d0887"
             ],
             [
              0.1111111111111111,
              "#46039f"
             ],
             [
              0.2222222222222222,
              "#7201a8"
             ],
             [
              0.3333333333333333,
              "#9c179e"
             ],
             [
              0.4444444444444444,
              "#bd3786"
             ],
             [
              0.5555555555555556,
              "#d8576b"
             ],
             [
              0.6666666666666666,
              "#ed7953"
             ],
             [
              0.7777777777777778,
              "#fb9f3a"
             ],
             [
              0.8888888888888888,
              "#fdca26"
             ],
             [
              1,
              "#f0f921"
             ]
            ],
            "type": "contour"
           }
          ],
          "contourcarpet": [
           {
            "colorbar": {
             "outlinewidth": 0,
             "ticks": ""
            },
            "type": "contourcarpet"
           }
          ],
          "heatmap": [
           {
            "colorbar": {
             "outlinewidth": 0,
             "ticks": ""
            },
            "colorscale": [
             [
              0,
              "#0d0887"
             ],
             [
              0.1111111111111111,
              "#46039f"
             ],
             [
              0.2222222222222222,
              "#7201a8"
             ],
             [
              0.3333333333333333,
              "#9c179e"
             ],
             [
              0.4444444444444444,
              "#bd3786"
             ],
             [
              0.5555555555555556,
              "#d8576b"
             ],
             [
              0.6666666666666666,
              "#ed7953"
             ],
             [
              0.7777777777777778,
              "#fb9f3a"
             ],
             [
              0.8888888888888888,
              "#fdca26"
             ],
             [
              1,
              "#f0f921"
             ]
            ],
            "type": "heatmap"
           }
          ],
          "heatmapgl": [
           {
            "colorbar": {
             "outlinewidth": 0,
             "ticks": ""
            },
            "colorscale": [
             [
              0,
              "#0d0887"
             ],
             [
              0.1111111111111111,
              "#46039f"
             ],
             [
              0.2222222222222222,
              "#7201a8"
             ],
             [
              0.3333333333333333,
              "#9c179e"
             ],
             [
              0.4444444444444444,
              "#bd3786"
             ],
             [
              0.5555555555555556,
              "#d8576b"
             ],
             [
              0.6666666666666666,
              "#ed7953"
             ],
             [
              0.7777777777777778,
              "#fb9f3a"
             ],
             [
              0.8888888888888888,
              "#fdca26"
             ],
             [
              1,
              "#f0f921"
             ]
            ],
            "type": "heatmapgl"
           }
          ],
          "histogram": [
           {
            "marker": {
             "colorbar": {
              "outlinewidth": 0,
              "ticks": ""
             }
            },
            "type": "histogram"
           }
          ],
          "histogram2d": [
           {
            "colorbar": {
             "outlinewidth": 0,
             "ticks": ""
            },
            "colorscale": [
             [
              0,
              "#0d0887"
             ],
             [
              0.1111111111111111,
              "#46039f"
             ],
             [
              0.2222222222222222,
              "#7201a8"
             ],
             [
              0.3333333333333333,
              "#9c179e"
             ],
             [
              0.4444444444444444,
              "#bd3786"
             ],
             [
              0.5555555555555556,
              "#d8576b"
             ],
             [
              0.6666666666666666,
              "#ed7953"
             ],
             [
              0.7777777777777778,
              "#fb9f3a"
             ],
             [
              0.8888888888888888,
              "#fdca26"
             ],
             [
              1,
              "#f0f921"
             ]
            ],
            "type": "histogram2d"
           }
          ],
          "histogram2dcontour": [
           {
            "colorbar": {
             "outlinewidth": 0,
             "ticks": ""
            },
            "colorscale": [
             [
              0,
              "#0d0887"
             ],
             [
              0.1111111111111111,
              "#46039f"
             ],
             [
              0.2222222222222222,
              "#7201a8"
             ],
             [
              0.3333333333333333,
              "#9c179e"
             ],
             [
              0.4444444444444444,
              "#bd3786"
             ],
             [
              0.5555555555555556,
              "#d8576b"
             ],
             [
              0.6666666666666666,
              "#ed7953"
             ],
             [
              0.7777777777777778,
              "#fb9f3a"
             ],
             [
              0.8888888888888888,
              "#fdca26"
             ],
             [
              1,
              "#f0f921"
             ]
            ],
            "type": "histogram2dcontour"
           }
          ],
          "mesh3d": [
           {
            "colorbar": {
             "outlinewidth": 0,
             "ticks": ""
            },
            "type": "mesh3d"
           }
          ],
          "parcoords": [
           {
            "line": {
             "colorbar": {
              "outlinewidth": 0,
              "ticks": ""
             }
            },
            "type": "parcoords"
           }
          ],
          "pie": [
           {
            "automargin": true,
            "type": "pie"
           }
          ],
          "scatter": [
           {
            "marker": {
             "colorbar": {
              "outlinewidth": 0,
              "ticks": ""
             }
            },
            "type": "scatter"
           }
          ],
          "scatter3d": [
           {
            "line": {
             "colorbar": {
              "outlinewidth": 0,
              "ticks": ""
             }
            },
            "marker": {
             "colorbar": {
              "outlinewidth": 0,
              "ticks": ""
             }
            },
            "type": "scatter3d"
           }
          ],
          "scattercarpet": [
           {
            "marker": {
             "colorbar": {
              "outlinewidth": 0,
              "ticks": ""
             }
            },
            "type": "scattercarpet"
           }
          ],
          "scattergeo": [
           {
            "marker": {
             "colorbar": {
              "outlinewidth": 0,
              "ticks": ""
             }
            },
            "type": "scattergeo"
           }
          ],
          "scattergl": [
           {
            "marker": {
             "colorbar": {
              "outlinewidth": 0,
              "ticks": ""
             }
            },
            "type": "scattergl"
           }
          ],
          "scattermapbox": [
           {
            "marker": {
             "colorbar": {
              "outlinewidth": 0,
              "ticks": ""
             }
            },
            "type": "scattermapbox"
           }
          ],
          "scatterpolar": [
           {
            "marker": {
             "colorbar": {
              "outlinewidth": 0,
              "ticks": ""
             }
            },
            "type": "scatterpolar"
           }
          ],
          "scatterpolargl": [
           {
            "marker": {
             "colorbar": {
              "outlinewidth": 0,
              "ticks": ""
             }
            },
            "type": "scatterpolargl"
           }
          ],
          "scatterternary": [
           {
            "marker": {
             "colorbar": {
              "outlinewidth": 0,
              "ticks": ""
             }
            },
            "type": "scatterternary"
           }
          ],
          "surface": [
           {
            "colorbar": {
             "outlinewidth": 0,
             "ticks": ""
            },
            "colorscale": [
             [
              0,
              "#0d0887"
             ],
             [
              0.1111111111111111,
              "#46039f"
             ],
             [
              0.2222222222222222,
              "#7201a8"
             ],
             [
              0.3333333333333333,
              "#9c179e"
             ],
             [
              0.4444444444444444,
              "#bd3786"
             ],
             [
              0.5555555555555556,
              "#d8576b"
             ],
             [
              0.6666666666666666,
              "#ed7953"
             ],
             [
              0.7777777777777778,
              "#fb9f3a"
             ],
             [
              0.8888888888888888,
              "#fdca26"
             ],
             [
              1,
              "#f0f921"
             ]
            ],
            "type": "surface"
           }
          ],
          "table": [
           {
            "cells": {
             "fill": {
              "color": "#EBF0F8"
             },
             "line": {
              "color": "white"
             }
            },
            "header": {
             "fill": {
              "color": "#C8D4E3"
             },
             "line": {
              "color": "white"
             }
            },
            "type": "table"
           }
          ]
         },
         "layout": {
          "annotationdefaults": {
           "arrowcolor": "#2a3f5f",
           "arrowhead": 0,
           "arrowwidth": 1
          },
          "autotypenumbers": "strict",
          "coloraxis": {
           "colorbar": {
            "outlinewidth": 0,
            "ticks": ""
           }
          },
          "colorscale": {
           "diverging": [
            [
             0,
             "#8e0152"
            ],
            [
             0.1,
             "#c51b7d"
            ],
            [
             0.2,
             "#de77ae"
            ],
            [
             0.3,
             "#f1b6da"
            ],
            [
             0.4,
             "#fde0ef"
            ],
            [
             0.5,
             "#f7f7f7"
            ],
            [
             0.6,
             "#e6f5d0"
            ],
            [
             0.7,
             "#b8e186"
            ],
            [
             0.8,
             "#7fbc41"
            ],
            [
             0.9,
             "#4d9221"
            ],
            [
             1,
             "#276419"
            ]
           ],
           "sequential": [
            [
             0,
             "#0d0887"
            ],
            [
             0.1111111111111111,
             "#46039f"
            ],
            [
             0.2222222222222222,
             "#7201a8"
            ],
            [
             0.3333333333333333,
             "#9c179e"
            ],
            [
             0.4444444444444444,
             "#bd3786"
            ],
            [
             0.5555555555555556,
             "#d8576b"
            ],
            [
             0.6666666666666666,
             "#ed7953"
            ],
            [
             0.7777777777777778,
             "#fb9f3a"
            ],
            [
             0.8888888888888888,
             "#fdca26"
            ],
            [
             1,
             "#f0f921"
            ]
           ],
           "sequentialminus": [
            [
             0,
             "#0d0887"
            ],
            [
             0.1111111111111111,
             "#46039f"
            ],
            [
             0.2222222222222222,
             "#7201a8"
            ],
            [
             0.3333333333333333,
             "#9c179e"
            ],
            [
             0.4444444444444444,
             "#bd3786"
            ],
            [
             0.5555555555555556,
             "#d8576b"
            ],
            [
             0.6666666666666666,
             "#ed7953"
            ],
            [
             0.7777777777777778,
             "#fb9f3a"
            ],
            [
             0.8888888888888888,
             "#fdca26"
            ],
            [
             1,
             "#f0f921"
            ]
           ]
          },
          "colorway": [
           "#636efa",
           "#EF553B",
           "#00cc96",
           "#ab63fa",
           "#FFA15A",
           "#19d3f3",
           "#FF6692",
           "#B6E880",
           "#FF97FF",
           "#FECB52"
          ],
          "font": {
           "color": "#2a3f5f"
          },
          "geo": {
           "bgcolor": "white",
           "lakecolor": "white",
           "landcolor": "#E5ECF6",
           "showlakes": true,
           "showland": true,
           "subunitcolor": "white"
          },
          "hoverlabel": {
           "align": "left"
          },
          "hovermode": "closest",
          "mapbox": {
           "style": "light"
          },
          "paper_bgcolor": "white",
          "plot_bgcolor": "#E5ECF6",
          "polar": {
           "angularaxis": {
            "gridcolor": "white",
            "linecolor": "white",
            "ticks": ""
           },
           "bgcolor": "#E5ECF6",
           "radialaxis": {
            "gridcolor": "white",
            "linecolor": "white",
            "ticks": ""
           }
          },
          "scene": {
           "xaxis": {
            "backgroundcolor": "#E5ECF6",
            "gridcolor": "white",
            "gridwidth": 2,
            "linecolor": "white",
            "showbackground": true,
            "ticks": "",
            "zerolinecolor": "white"
           },
           "yaxis": {
            "backgroundcolor": "#E5ECF6",
            "gridcolor": "white",
            "gridwidth": 2,
            "linecolor": "white",
            "showbackground": true,
            "ticks": "",
            "zerolinecolor": "white"
           },
           "zaxis": {
            "backgroundcolor": "#E5ECF6",
            "gridcolor": "white",
            "gridwidth": 2,
            "linecolor": "white",
            "showbackground": true,
            "ticks": "",
            "zerolinecolor": "white"
           }
          },
          "shapedefaults": {
           "line": {
            "color": "#2a3f5f"
           }
          },
          "ternary": {
           "aaxis": {
            "gridcolor": "white",
            "linecolor": "white",
            "ticks": ""
           },
           "baxis": {
            "gridcolor": "white",
            "linecolor": "white",
            "ticks": ""
           },
           "bgcolor": "#E5ECF6",
           "caxis": {
            "gridcolor": "white",
            "linecolor": "white",
            "ticks": ""
           }
          },
          "title": {
           "x": 0.05
          },
          "xaxis": {
           "automargin": true,
           "gridcolor": "white",
           "linecolor": "white",
           "ticks": "",
           "title": {
            "standoff": 15
           },
           "zerolinecolor": "white",
           "zerolinewidth": 2
          },
          "yaxis": {
           "automargin": true,
           "gridcolor": "white",
           "linecolor": "white",
           "ticks": "",
           "title": {
            "standoff": 15
           },
           "zerolinecolor": "white",
           "zerolinewidth": 2
          }
         }
        }
       }
      },
      "text/html": [
       "<div>                            <div id=\"ff0334fc-c7c4-464b-bdc2-8e946e46c3da\" class=\"plotly-graph-div\" style=\"height:525px; width:100%;\"></div>            <script type=\"text/javascript\">                require([\"plotly\"], function(Plotly) {                    window.PLOTLYENV=window.PLOTLYENV || {};                                    if (document.getElementById(\"ff0334fc-c7c4-464b-bdc2-8e946e46c3da\")) {                    Plotly.newPlot(                        \"ff0334fc-c7c4-464b-bdc2-8e946e46c3da\",                        [{\"marker\": {\"color\": [64.0, 94.4, 76.3, 91.5, 84.0, 77.2, 78.5, 96.0, 97.9, 65.0, 70.0, 64.3, 61.9, 94.4, 73.5, 56.4, 49.5, 63.9, 77.8, 56.5], \"showscale\": true, \"size\": [2.243, 19.919, 15.596, 18.812, 11.074, 20.152, 7.929, 15.06, 18.178, 14.221, 15.128, 11.751, 36.186, 26.607, 25.055, 38.206, 20.376, 21.424, 66.198, 15.172]}, \"mode\": \"markers\", \"text\": [\"California Institute of Technology\", \"University of Oxford\", \"Stanford University\", \"University of Cambridge\", \"Massachusetts Institute of Technology\", \"Harvard University\", \"Princeton University\", \"Imperial College London\", \"ETH Zurich \\u2013 Swiss Federal Institute of Technology Zurich\", \"University of Chicago\", \"Johns Hopkins University\", \"Yale University\", \"University of California, Berkeley\", \"University College London\", \"Columbia University\", \"University of California, Los Angeles\", \"University of Pennsylvania\", \"Cornell University\", \"University of Toronto\", \"Duke University\"], \"type\": \"scatter\", \"x\": [\"1\", \"2\", \"3\", \"4\", \"5\", \"6\", \"7\", \"8\", \"9\", \"10\", \"11\", \"12\", \"13\", \"14\", \"15\", \"16\", \"17\", \"18\", \"19\", \"20\"], \"y\": [95.6, 86.5, 92.5, 88.2, 89.4, 83.6, 85.1, 83.3, 77.0, 85.7, 77.6, 86.5, 80.4, 78.1, 85.9, 80.8, 82.0, 77.9, 75.9, 76.0]}],                        {\"template\": {\"data\": {\"bar\": [{\"error_x\": {\"color\": \"#2a3f5f\"}, \"error_y\": {\"color\": \"#2a3f5f\"}, \"marker\": {\"line\": {\"color\": \"#E5ECF6\", \"width\": 0.5}}, \"type\": \"bar\"}], \"barpolar\": [{\"marker\": {\"line\": {\"color\": \"#E5ECF6\", \"width\": 0.5}}, \"type\": \"barpolar\"}], \"carpet\": [{\"aaxis\": {\"endlinecolor\": \"#2a3f5f\", \"gridcolor\": \"white\", \"linecolor\": \"white\", \"minorgridcolor\": \"white\", \"startlinecolor\": \"#2a3f5f\"}, \"baxis\": {\"endlinecolor\": \"#2a3f5f\", \"gridcolor\": \"white\", \"linecolor\": \"white\", \"minorgridcolor\": \"white\", \"startlinecolor\": \"#2a3f5f\"}, \"type\": \"carpet\"}], \"choropleth\": [{\"colorbar\": {\"outlinewidth\": 0, \"ticks\": \"\"}, \"type\": \"choropleth\"}], \"contour\": [{\"colorbar\": {\"outlinewidth\": 0, \"ticks\": \"\"}, \"colorscale\": [[0.0, \"#0d0887\"], [0.1111111111111111, \"#46039f\"], [0.2222222222222222, \"#7201a8\"], [0.3333333333333333, \"#9c179e\"], [0.4444444444444444, \"#bd3786\"], [0.5555555555555556, \"#d8576b\"], [0.6666666666666666, \"#ed7953\"], [0.7777777777777778, \"#fb9f3a\"], [0.8888888888888888, \"#fdca26\"], [1.0, \"#f0f921\"]], \"type\": \"contour\"}], \"contourcarpet\": [{\"colorbar\": {\"outlinewidth\": 0, \"ticks\": \"\"}, \"type\": \"contourcarpet\"}], \"heatmap\": [{\"colorbar\": {\"outlinewidth\": 0, \"ticks\": \"\"}, \"colorscale\": [[0.0, \"#0d0887\"], [0.1111111111111111, \"#46039f\"], [0.2222222222222222, \"#7201a8\"], [0.3333333333333333, \"#9c179e\"], [0.4444444444444444, \"#bd3786\"], [0.5555555555555556, \"#d8576b\"], [0.6666666666666666, \"#ed7953\"], [0.7777777777777778, \"#fb9f3a\"], [0.8888888888888888, \"#fdca26\"], [1.0, \"#f0f921\"]], \"type\": \"heatmap\"}], \"heatmapgl\": [{\"colorbar\": {\"outlinewidth\": 0, \"ticks\": \"\"}, \"colorscale\": [[0.0, \"#0d0887\"], [0.1111111111111111, \"#46039f\"], [0.2222222222222222, \"#7201a8\"], [0.3333333333333333, \"#9c179e\"], [0.4444444444444444, \"#bd3786\"], [0.5555555555555556, \"#d8576b\"], [0.6666666666666666, \"#ed7953\"], [0.7777777777777778, \"#fb9f3a\"], [0.8888888888888888, \"#fdca26\"], [1.0, \"#f0f921\"]], \"type\": \"heatmapgl\"}], \"histogram\": [{\"marker\": {\"colorbar\": {\"outlinewidth\": 0, \"ticks\": \"\"}}, \"type\": \"histogram\"}], \"histogram2d\": [{\"colorbar\": {\"outlinewidth\": 0, \"ticks\": \"\"}, \"colorscale\": [[0.0, \"#0d0887\"], [0.1111111111111111, \"#46039f\"], [0.2222222222222222, \"#7201a8\"], [0.3333333333333333, \"#9c179e\"], [0.4444444444444444, \"#bd3786\"], [0.5555555555555556, \"#d8576b\"], [0.6666666666666666, \"#ed7953\"], [0.7777777777777778, \"#fb9f3a\"], [0.8888888888888888, \"#fdca26\"], [1.0, \"#f0f921\"]], \"type\": \"histogram2d\"}], \"histogram2dcontour\": [{\"colorbar\": {\"outlinewidth\": 0, \"ticks\": \"\"}, \"colorscale\": [[0.0, \"#0d0887\"], [0.1111111111111111, \"#46039f\"], [0.2222222222222222, \"#7201a8\"], [0.3333333333333333, \"#9c179e\"], [0.4444444444444444, \"#bd3786\"], [0.5555555555555556, \"#d8576b\"], [0.6666666666666666, \"#ed7953\"], [0.7777777777777778, \"#fb9f3a\"], [0.8888888888888888, \"#fdca26\"], [1.0, \"#f0f921\"]], \"type\": \"histogram2dcontour\"}], \"mesh3d\": [{\"colorbar\": {\"outlinewidth\": 0, \"ticks\": \"\"}, \"type\": \"mesh3d\"}], \"parcoords\": [{\"line\": {\"colorbar\": {\"outlinewidth\": 0, \"ticks\": \"\"}}, \"type\": \"parcoords\"}], \"pie\": [{\"automargin\": true, \"type\": \"pie\"}], \"scatter\": [{\"marker\": {\"colorbar\": {\"outlinewidth\": 0, \"ticks\": \"\"}}, \"type\": \"scatter\"}], \"scatter3d\": [{\"line\": {\"colorbar\": {\"outlinewidth\": 0, \"ticks\": \"\"}}, \"marker\": {\"colorbar\": {\"outlinewidth\": 0, \"ticks\": \"\"}}, \"type\": \"scatter3d\"}], \"scattercarpet\": [{\"marker\": {\"colorbar\": {\"outlinewidth\": 0, \"ticks\": \"\"}}, \"type\": \"scattercarpet\"}], \"scattergeo\": [{\"marker\": {\"colorbar\": {\"outlinewidth\": 0, \"ticks\": \"\"}}, \"type\": \"scattergeo\"}], \"scattergl\": [{\"marker\": {\"colorbar\": {\"outlinewidth\": 0, \"ticks\": \"\"}}, \"type\": \"scattergl\"}], \"scattermapbox\": [{\"marker\": {\"colorbar\": {\"outlinewidth\": 0, \"ticks\": \"\"}}, \"type\": \"scattermapbox\"}], \"scatterpolar\": [{\"marker\": {\"colorbar\": {\"outlinewidth\": 0, \"ticks\": \"\"}}, \"type\": \"scatterpolar\"}], \"scatterpolargl\": [{\"marker\": {\"colorbar\": {\"outlinewidth\": 0, \"ticks\": \"\"}}, \"type\": \"scatterpolargl\"}], \"scatterternary\": [{\"marker\": {\"colorbar\": {\"outlinewidth\": 0, \"ticks\": \"\"}}, \"type\": \"scatterternary\"}], \"surface\": [{\"colorbar\": {\"outlinewidth\": 0, \"ticks\": \"\"}, \"colorscale\": [[0.0, \"#0d0887\"], [0.1111111111111111, \"#46039f\"], [0.2222222222222222, \"#7201a8\"], [0.3333333333333333, \"#9c179e\"], [0.4444444444444444, \"#bd3786\"], [0.5555555555555556, \"#d8576b\"], [0.6666666666666666, \"#ed7953\"], [0.7777777777777778, \"#fb9f3a\"], [0.8888888888888888, \"#fdca26\"], [1.0, \"#f0f921\"]], \"type\": \"surface\"}], \"table\": [{\"cells\": {\"fill\": {\"color\": \"#EBF0F8\"}, \"line\": {\"color\": \"white\"}}, \"header\": {\"fill\": {\"color\": \"#C8D4E3\"}, \"line\": {\"color\": \"white\"}}, \"type\": \"table\"}]}, \"layout\": {\"annotationdefaults\": {\"arrowcolor\": \"#2a3f5f\", \"arrowhead\": 0, \"arrowwidth\": 1}, \"autotypenumbers\": \"strict\", \"coloraxis\": {\"colorbar\": {\"outlinewidth\": 0, \"ticks\": \"\"}}, \"colorscale\": {\"diverging\": [[0, \"#8e0152\"], [0.1, \"#c51b7d\"], [0.2, \"#de77ae\"], [0.3, \"#f1b6da\"], [0.4, \"#fde0ef\"], [0.5, \"#f7f7f7\"], [0.6, \"#e6f5d0\"], [0.7, \"#b8e186\"], [0.8, \"#7fbc41\"], [0.9, \"#4d9221\"], [1, \"#276419\"]], \"sequential\": [[0.0, \"#0d0887\"], [0.1111111111111111, \"#46039f\"], [0.2222222222222222, \"#7201a8\"], [0.3333333333333333, \"#9c179e\"], [0.4444444444444444, \"#bd3786\"], [0.5555555555555556, \"#d8576b\"], [0.6666666666666666, \"#ed7953\"], [0.7777777777777778, \"#fb9f3a\"], [0.8888888888888888, \"#fdca26\"], [1.0, \"#f0f921\"]], \"sequentialminus\": [[0.0, \"#0d0887\"], [0.1111111111111111, \"#46039f\"], [0.2222222222222222, \"#7201a8\"], [0.3333333333333333, \"#9c179e\"], [0.4444444444444444, \"#bd3786\"], [0.5555555555555556, \"#d8576b\"], [0.6666666666666666, \"#ed7953\"], [0.7777777777777778, \"#fb9f3a\"], [0.8888888888888888, \"#fdca26\"], [1.0, \"#f0f921\"]]}, \"colorway\": [\"#636efa\", \"#EF553B\", \"#00cc96\", \"#ab63fa\", \"#FFA15A\", \"#19d3f3\", \"#FF6692\", \"#B6E880\", \"#FF97FF\", \"#FECB52\"], \"font\": {\"color\": \"#2a3f5f\"}, \"geo\": {\"bgcolor\": \"white\", \"lakecolor\": \"white\", \"landcolor\": \"#E5ECF6\", \"showlakes\": true, \"showland\": true, \"subunitcolor\": \"white\"}, \"hoverlabel\": {\"align\": \"left\"}, \"hovermode\": \"closest\", \"mapbox\": {\"style\": \"light\"}, \"paper_bgcolor\": \"white\", \"plot_bgcolor\": \"#E5ECF6\", \"polar\": {\"angularaxis\": {\"gridcolor\": \"white\", \"linecolor\": \"white\", \"ticks\": \"\"}, \"bgcolor\": \"#E5ECF6\", \"radialaxis\": {\"gridcolor\": \"white\", \"linecolor\": \"white\", \"ticks\": \"\"}}, \"scene\": {\"xaxis\": {\"backgroundcolor\": \"#E5ECF6\", \"gridcolor\": \"white\", \"gridwidth\": 2, \"linecolor\": \"white\", \"showbackground\": true, \"ticks\": \"\", \"zerolinecolor\": \"white\"}, \"yaxis\": {\"backgroundcolor\": \"#E5ECF6\", \"gridcolor\": \"white\", \"gridwidth\": 2, \"linecolor\": \"white\", \"showbackground\": true, \"ticks\": \"\", \"zerolinecolor\": \"white\"}, \"zaxis\": {\"backgroundcolor\": \"#E5ECF6\", \"gridcolor\": \"white\", \"gridwidth\": 2, \"linecolor\": \"white\", \"showbackground\": true, \"ticks\": \"\", \"zerolinecolor\": \"white\"}}, \"shapedefaults\": {\"line\": {\"color\": \"#2a3f5f\"}}, \"ternary\": {\"aaxis\": {\"gridcolor\": \"white\", \"linecolor\": \"white\", \"ticks\": \"\"}, \"baxis\": {\"gridcolor\": \"white\", \"linecolor\": \"white\", \"ticks\": \"\"}, \"bgcolor\": \"#E5ECF6\", \"caxis\": {\"gridcolor\": \"white\", \"linecolor\": \"white\", \"ticks\": \"\"}}, \"title\": {\"x\": 0.05}, \"xaxis\": {\"automargin\": true, \"gridcolor\": \"white\", \"linecolor\": \"white\", \"ticks\": \"\", \"title\": {\"standoff\": 15}, \"zerolinecolor\": \"white\", \"zerolinewidth\": 2}, \"yaxis\": {\"automargin\": true, \"gridcolor\": \"white\", \"linecolor\": \"white\", \"ticks\": \"\", \"title\": {\"standoff\": 15}, \"zerolinecolor\": \"white\", \"zerolinewidth\": 2}}}},                        {\"responsive\": true}                    ).then(function(){\n",
       "                            \n",
       "var gd = document.getElementById('ff0334fc-c7c4-464b-bdc2-8e946e46c3da');\n",
       "var x = new MutationObserver(function (mutations, observer) {{\n",
       "        var display = window.getComputedStyle(gd).display;\n",
       "        if (!display || display === 'none') {{\n",
       "            console.log([gd, 'removed!']);\n",
       "            Plotly.purge(gd);\n",
       "            observer.disconnect();\n",
       "        }}\n",
       "}});\n",
       "\n",
       "// Listen for the removal of the full notebook cells\n",
       "var notebookContainer = gd.closest('#notebook-container');\n",
       "if (notebookContainer) {{\n",
       "    x.observe(notebookContainer, {childList: true});\n",
       "}}\n",
       "\n",
       "// Listen for the clearing of the current output cell\n",
       "var outputEl = gd.closest('.output');\n",
       "if (outputEl) {{\n",
       "    x.observe(outputEl, {childList: true});\n",
       "}}\n",
       "\n",
       "                        })                };                });            </script>        </div>"
      ]
     },
     "metadata": {},
     "output_type": "display_data"
    }
   ],
   "source": [
    "# data preparation\n",
    "df2016 = timesData[timesData.year == 2016].iloc[:20,:]\n",
    "num_students_size  = [float(each.replace(',', '.')) for each in df2016.num_students]\n",
    "international_color = [float(each) for each in df2016.international]\n",
    "data = [\n",
    "    {\n",
    "        'y': df2016.teaching,\n",
    "        'x': df2016.world_rank,\n",
    "        'mode': 'markers',\n",
    "        'marker': {\n",
    "            'color': international_color,\n",
    "            'size': num_students_size,\n",
    "            'showscale': True\n",
    "        },\n",
    "        \"text\" :  df2016.university_name    \n",
    "    }\n",
    "]\n",
    "iplot(data)"
   ]
  },
  {
   "cell_type": "markdown",
   "metadata": {},
   "source": [
    "## Histogram:"
   ]
  },
  {
   "cell_type": "code",
   "execution_count": 15,
   "metadata": {},
   "outputs": [
    {
     "data": {
      "application/vnd.plotly.v1+json": {
       "config": {
        "linkText": "Export to plot.ly",
        "plotlyServerURL": "https://plot.ly",
        "showLink": false
       },
       "data": [
        {
         "marker": {
          "color": "rgba(171, 50, 96, 0.6)"
         },
         "name": "2011",
         "opacity": 0.75,
         "type": "histogram",
         "x": [
          8.9,
          6.9,
          9,
          7.8,
          8.4,
          11.8,
          11.6,
          16.4,
          11.7,
          4.4,
          10.3,
          6.9,
          3.6,
          10.2,
          14.7,
          9,
          19.5,
          5.9,
          6.5,
          13.1,
          17.6,
          10.7,
          11.8,
          4.8,
          13.8,
          5.7,
          20.1,
          10.1,
          27.3,
          17.6,
          7.3,
          6.5,
          18.7,
          15.5,
          13.7,
          23.7,
          8.3,
          5.7,
          4.8,
          14.1,
          23.8,
          7.9,
          19.2,
          11.5,
          25.6,
          null,
          9,
          10.5,
          16.1,
          7.9,
          3.6,
          18,
          10,
          13.9,
          10.1,
          13,
          5.6,
          13.7,
          8.6,
          6.8,
          4.5,
          15.5,
          13.8,
          5.8,
          6.4,
          13.4,
          16.1,
          14,
          22.7,
          5.5,
          20.2,
          10.2,
          30.1,
          12.9,
          11.8,
          18,
          11.4,
          10.9,
          10,
          17.4,
          32.7,
          null,
          24.5,
          16.9,
          15.7,
          null,
          15.3,
          15.9,
          11.5,
          13.5,
          6.5,
          4.6,
          19.3,
          24.5,
          12,
          12.7,
          17.3,
          8.4,
          6.6,
          8,
          31.5,
          15.1,
          12.7,
          15,
          17.3,
          18.1,
          13.5,
          12.1,
          12.4,
          13.9,
          11,
          null,
          7.3,
          16,
          11.9,
          null,
          22,
          15,
          41.9,
          13.3,
          14,
          15.7,
          5,
          34.1,
          14.9,
          17.1,
          21.6,
          16,
          23.7,
          7.8,
          21.5,
          5,
          31.2,
          11.6,
          11.1,
          13.1,
          15.5,
          20.3,
          16.3,
          8.7,
          15.3,
          12.2,
          15.4,
          17,
          18.9,
          16.4,
          23.3,
          18.2,
          25.9,
          15.8,
          19.4,
          17.2,
          15.2,
          25.9,
          18.3,
          13.6,
          17.4,
          null,
          18.9,
          15.9,
          29.9,
          17.4,
          19.6,
          8.5,
          14.4,
          13.6,
          13.6,
          14.7,
          38.4,
          25.6,
          16.6,
          9.3,
          67.8,
          16.2,
          14.7,
          15,
          4.1,
          52.5,
          40.5,
          70.4,
          16.6,
          27.6,
          22.2,
          18.8,
          12,
          59.1,
          24.6,
          16.9,
          38.9,
          10.8,
          15.7,
          11.6,
          14.4,
          14.6,
          20.5,
          19,
          9.2,
          15.9,
          28.3,
          4.6
         ]
        },
        {
         "marker": {
          "color": "rgba(12, 50, 196, 0.6)"
         },
         "name": "2012",
         "opacity": 0.75,
         "type": "histogram",
         "x": [
          6.9,
          8.9,
          7.8,
          11.6,
          8.4,
          11.8,
          9,
          11.7,
          6.9,
          16.4,
          4.4,
          5.9,
          10.3,
          3.6,
          14.7,
          6.5,
          10.7,
          9,
          19.5,
          10.2,
          13.1,
          4.8,
          17.6,
          20.1,
          11.8,
          13.8,
          10.8,
          13.7,
          17.4,
          5.7,
          18.7,
          11.5,
          6.5,
          17.6,
          27.3,
          14.1,
          23.7,
          19.2,
          13.9,
          15.5,
          5.7,
          18,
          7.3,
          6.8,
          15.5,
          10.5,
          null,
          15.3,
          10.1,
          8.3,
          12.4,
          5.6,
          10.1,
          8.6,
          12.9,
          11.4,
          13.4,
          20.2,
          5.8,
          7.9,
          6.5,
          23.8,
          4.8,
          13,
          19.3,
          14,
          41.9,
          15.4,
          25.6,
          3.6,
          13.7,
          9,
          24.5,
          32.7,
          4.5,
          17,
          10,
          16.1,
          17.1,
          11.5,
          17.3,
          4.5,
          15.7,
          8.7,
          12.7,
          16.1,
          18.2,
          31.5,
          13.8,
          6.6,
          15.1,
          14.4,
          6.4,
          10,
          8.4,
          15.7,
          12.7,
          18.1,
          17.4,
          21.6,
          15.5,
          16,
          12.1,
          19.4,
          20.3,
          34.1,
          15.9,
          7.3,
          52.5,
          22.7,
          17.3,
          22.5,
          16.9,
          10.9,
          16,
          13.1,
          40.5,
          18,
          7.8,
          5,
          10.7,
          null,
          13.6,
          13.9,
          13.6,
          18.7,
          29.9,
          14,
          13.5,
          15,
          14.9,
          23.7,
          14.7,
          25.6,
          12,
          4.1,
          10.2,
          8.5,
          20.5,
          15,
          11.6,
          8,
          22,
          15,
          14.7,
          15.2,
          11.8,
          16.4,
          17.2,
          12.6,
          10.2,
          39.3,
          15.8,
          11.9,
          5.5,
          18.8,
          18.9,
          16.6,
          13,
          24.5,
          16.3,
          null,
          4.6,
          21.4,
          14.8,
          24.4,
          9.2,
          27.6,
          16.2,
          14.8,
          42,
          5.7,
          22.1,
          18.9,
          25.9,
          15.3,
          21.5,
          5,
          14.6,
          15.9,
          9.3,
          13.6,
          18.8,
          17.4,
          26.3,
          18.3,
          14.6,
          38.9,
          31.2,
          20.7,
          11.1,
          7.9,
          7.1,
          59.1,
          17.4,
          24.6,
          null,
          18.9,
          13.4,
          12,
          12.3,
          null,
          13.1,
          18.2,
          7.9,
          13.5,
          15.1,
          19.4,
          8.4,
          11.2,
          11.9,
          19,
          30.1,
          12.2,
          15.7,
          19.8,
          19.9,
          16.4,
          16.9,
          null,
          20.3,
          16.3,
          17.8,
          24.2,
          20.7,
          38.4,
          26.1,
          29.8,
          11.6,
          19,
          8.3,
          14.4,
          10.8,
          12.2,
          15.8,
          20,
          16.6,
          28.3,
          18.5,
          4.6,
          9.9,
          22.9,
          16.5,
          null,
          24.3,
          72.5,
          14.1,
          18.3,
          25.8,
          11.6,
          19.5,
          67.8,
          17.6,
          25.9,
          29.1,
          6.7,
          13.3,
          19.6,
          13.9,
          17.9,
          46.3,
          23,
          22.4,
          37.4,
          18.8,
          26.8,
          null,
          23.8,
          12.7,
          22.8,
          18.6,
          12.6,
          25.4,
          21.1,
          18.6,
          10.7,
          19.2,
          13,
          8.2,
          11,
          16,
          7.7,
          22.2,
          18.4,
          35.8,
          15.3,
          16.6,
          53.6,
          3.3,
          12.2,
          30.3,
          26.9,
          28.3,
          25.9,
          null,
          null,
          46.1,
          21.9,
          26.9,
          43.2,
          39.4,
          15.9,
          24.2,
          23.3,
          16,
          23.3,
          25,
          25.4,
          13,
          17,
          14.9,
          11.5,
          15.7,
          11.9,
          19,
          11.3,
          7.7,
          17.4,
          25.9,
          22.2,
          32.3,
          12.8,
          18.7,
          20.3,
          22.3,
          17.8,
          16.5,
          17.3,
          30.2,
          19.4,
          43.7,
          18.7,
          25.9,
          27.8,
          18.1,
          25.3,
          null,
          18,
          18.8,
          21.5,
          15.9,
          16.6,
          9.5,
          23.8,
          15.4,
          17,
          14.1,
          52,
          17.1,
          18.3,
          15.9,
          null,
          17.6,
          17.1,
          17.1,
          30.4,
          22.6,
          20.4,
          22,
          10.8,
          17.8,
          8.2,
          15.1,
          8.4,
          17.4,
          29,
          62.7,
          19.8,
          15.9,
          7.5,
          16.8,
          null,
          9.8,
          20.9,
          26.8,
          28,
          26.2,
          17.9,
          null,
          11.7,
          19.6,
          13.6,
          15.3,
          5.2,
          17.1,
          36.5,
          14.4,
          65.1,
          19,
          21.5,
          14.4,
          23.4,
          58.4,
          26.2,
          20.2,
          13,
          14.6,
          null,
          11.8,
          16.9,
          14.4,
          20.6
         ]
        }
       ],
       "layout": {
        "barmode": "overlay",
        "template": {
         "data": {
          "bar": [
           {
            "error_x": {
             "color": "#2a3f5f"
            },
            "error_y": {
             "color": "#2a3f5f"
            },
            "marker": {
             "line": {
              "color": "#E5ECF6",
              "width": 0.5
             }
            },
            "type": "bar"
           }
          ],
          "barpolar": [
           {
            "marker": {
             "line": {
              "color": "#E5ECF6",
              "width": 0.5
             }
            },
            "type": "barpolar"
           }
          ],
          "carpet": [
           {
            "aaxis": {
             "endlinecolor": "#2a3f5f",
             "gridcolor": "white",
             "linecolor": "white",
             "minorgridcolor": "white",
             "startlinecolor": "#2a3f5f"
            },
            "baxis": {
             "endlinecolor": "#2a3f5f",
             "gridcolor": "white",
             "linecolor": "white",
             "minorgridcolor": "white",
             "startlinecolor": "#2a3f5f"
            },
            "type": "carpet"
           }
          ],
          "choropleth": [
           {
            "colorbar": {
             "outlinewidth": 0,
             "ticks": ""
            },
            "type": "choropleth"
           }
          ],
          "contour": [
           {
            "colorbar": {
             "outlinewidth": 0,
             "ticks": ""
            },
            "colorscale": [
             [
              0,
              "#0d0887"
             ],
             [
              0.1111111111111111,
              "#46039f"
             ],
             [
              0.2222222222222222,
              "#7201a8"
             ],
             [
              0.3333333333333333,
              "#9c179e"
             ],
             [
              0.4444444444444444,
              "#bd3786"
             ],
             [
              0.5555555555555556,
              "#d8576b"
             ],
             [
              0.6666666666666666,
              "#ed7953"
             ],
             [
              0.7777777777777778,
              "#fb9f3a"
             ],
             [
              0.8888888888888888,
              "#fdca26"
             ],
             [
              1,
              "#f0f921"
             ]
            ],
            "type": "contour"
           }
          ],
          "contourcarpet": [
           {
            "colorbar": {
             "outlinewidth": 0,
             "ticks": ""
            },
            "type": "contourcarpet"
           }
          ],
          "heatmap": [
           {
            "colorbar": {
             "outlinewidth": 0,
             "ticks": ""
            },
            "colorscale": [
             [
              0,
              "#0d0887"
             ],
             [
              0.1111111111111111,
              "#46039f"
             ],
             [
              0.2222222222222222,
              "#7201a8"
             ],
             [
              0.3333333333333333,
              "#9c179e"
             ],
             [
              0.4444444444444444,
              "#bd3786"
             ],
             [
              0.5555555555555556,
              "#d8576b"
             ],
             [
              0.6666666666666666,
              "#ed7953"
             ],
             [
              0.7777777777777778,
              "#fb9f3a"
             ],
             [
              0.8888888888888888,
              "#fdca26"
             ],
             [
              1,
              "#f0f921"
             ]
            ],
            "type": "heatmap"
           }
          ],
          "heatmapgl": [
           {
            "colorbar": {
             "outlinewidth": 0,
             "ticks": ""
            },
            "colorscale": [
             [
              0,
              "#0d0887"
             ],
             [
              0.1111111111111111,
              "#46039f"
             ],
             [
              0.2222222222222222,
              "#7201a8"
             ],
             [
              0.3333333333333333,
              "#9c179e"
             ],
             [
              0.4444444444444444,
              "#bd3786"
             ],
             [
              0.5555555555555556,
              "#d8576b"
             ],
             [
              0.6666666666666666,
              "#ed7953"
             ],
             [
              0.7777777777777778,
              "#fb9f3a"
             ],
             [
              0.8888888888888888,
              "#fdca26"
             ],
             [
              1,
              "#f0f921"
             ]
            ],
            "type": "heatmapgl"
           }
          ],
          "histogram": [
           {
            "marker": {
             "colorbar": {
              "outlinewidth": 0,
              "ticks": ""
             }
            },
            "type": "histogram"
           }
          ],
          "histogram2d": [
           {
            "colorbar": {
             "outlinewidth": 0,
             "ticks": ""
            },
            "colorscale": [
             [
              0,
              "#0d0887"
             ],
             [
              0.1111111111111111,
              "#46039f"
             ],
             [
              0.2222222222222222,
              "#7201a8"
             ],
             [
              0.3333333333333333,
              "#9c179e"
             ],
             [
              0.4444444444444444,
              "#bd3786"
             ],
             [
              0.5555555555555556,
              "#d8576b"
             ],
             [
              0.6666666666666666,
              "#ed7953"
             ],
             [
              0.7777777777777778,
              "#fb9f3a"
             ],
             [
              0.8888888888888888,
              "#fdca26"
             ],
             [
              1,
              "#f0f921"
             ]
            ],
            "type": "histogram2d"
           }
          ],
          "histogram2dcontour": [
           {
            "colorbar": {
             "outlinewidth": 0,
             "ticks": ""
            },
            "colorscale": [
             [
              0,
              "#0d0887"
             ],
             [
              0.1111111111111111,
              "#46039f"
             ],
             [
              0.2222222222222222,
              "#7201a8"
             ],
             [
              0.3333333333333333,
              "#9c179e"
             ],
             [
              0.4444444444444444,
              "#bd3786"
             ],
             [
              0.5555555555555556,
              "#d8576b"
             ],
             [
              0.6666666666666666,
              "#ed7953"
             ],
             [
              0.7777777777777778,
              "#fb9f3a"
             ],
             [
              0.8888888888888888,
              "#fdca26"
             ],
             [
              1,
              "#f0f921"
             ]
            ],
            "type": "histogram2dcontour"
           }
          ],
          "mesh3d": [
           {
            "colorbar": {
             "outlinewidth": 0,
             "ticks": ""
            },
            "type": "mesh3d"
           }
          ],
          "parcoords": [
           {
            "line": {
             "colorbar": {
              "outlinewidth": 0,
              "ticks": ""
             }
            },
            "type": "parcoords"
           }
          ],
          "pie": [
           {
            "automargin": true,
            "type": "pie"
           }
          ],
          "scatter": [
           {
            "marker": {
             "colorbar": {
              "outlinewidth": 0,
              "ticks": ""
             }
            },
            "type": "scatter"
           }
          ],
          "scatter3d": [
           {
            "line": {
             "colorbar": {
              "outlinewidth": 0,
              "ticks": ""
             }
            },
            "marker": {
             "colorbar": {
              "outlinewidth": 0,
              "ticks": ""
             }
            },
            "type": "scatter3d"
           }
          ],
          "scattercarpet": [
           {
            "marker": {
             "colorbar": {
              "outlinewidth": 0,
              "ticks": ""
             }
            },
            "type": "scattercarpet"
           }
          ],
          "scattergeo": [
           {
            "marker": {
             "colorbar": {
              "outlinewidth": 0,
              "ticks": ""
             }
            },
            "type": "scattergeo"
           }
          ],
          "scattergl": [
           {
            "marker": {
             "colorbar": {
              "outlinewidth": 0,
              "ticks": ""
             }
            },
            "type": "scattergl"
           }
          ],
          "scattermapbox": [
           {
            "marker": {
             "colorbar": {
              "outlinewidth": 0,
              "ticks": ""
             }
            },
            "type": "scattermapbox"
           }
          ],
          "scatterpolar": [
           {
            "marker": {
             "colorbar": {
              "outlinewidth": 0,
              "ticks": ""
             }
            },
            "type": "scatterpolar"
           }
          ],
          "scatterpolargl": [
           {
            "marker": {
             "colorbar": {
              "outlinewidth": 0,
              "ticks": ""
             }
            },
            "type": "scatterpolargl"
           }
          ],
          "scatterternary": [
           {
            "marker": {
             "colorbar": {
              "outlinewidth": 0,
              "ticks": ""
             }
            },
            "type": "scatterternary"
           }
          ],
          "surface": [
           {
            "colorbar": {
             "outlinewidth": 0,
             "ticks": ""
            },
            "colorscale": [
             [
              0,
              "#0d0887"
             ],
             [
              0.1111111111111111,
              "#46039f"
             ],
             [
              0.2222222222222222,
              "#7201a8"
             ],
             [
              0.3333333333333333,
              "#9c179e"
             ],
             [
              0.4444444444444444,
              "#bd3786"
             ],
             [
              0.5555555555555556,
              "#d8576b"
             ],
             [
              0.6666666666666666,
              "#ed7953"
             ],
             [
              0.7777777777777778,
              "#fb9f3a"
             ],
             [
              0.8888888888888888,
              "#fdca26"
             ],
             [
              1,
              "#f0f921"
             ]
            ],
            "type": "surface"
           }
          ],
          "table": [
           {
            "cells": {
             "fill": {
              "color": "#EBF0F8"
             },
             "line": {
              "color": "white"
             }
            },
            "header": {
             "fill": {
              "color": "#C8D4E3"
             },
             "line": {
              "color": "white"
             }
            },
            "type": "table"
           }
          ]
         },
         "layout": {
          "annotationdefaults": {
           "arrowcolor": "#2a3f5f",
           "arrowhead": 0,
           "arrowwidth": 1
          },
          "autotypenumbers": "strict",
          "coloraxis": {
           "colorbar": {
            "outlinewidth": 0,
            "ticks": ""
           }
          },
          "colorscale": {
           "diverging": [
            [
             0,
             "#8e0152"
            ],
            [
             0.1,
             "#c51b7d"
            ],
            [
             0.2,
             "#de77ae"
            ],
            [
             0.3,
             "#f1b6da"
            ],
            [
             0.4,
             "#fde0ef"
            ],
            [
             0.5,
             "#f7f7f7"
            ],
            [
             0.6,
             "#e6f5d0"
            ],
            [
             0.7,
             "#b8e186"
            ],
            [
             0.8,
             "#7fbc41"
            ],
            [
             0.9,
             "#4d9221"
            ],
            [
             1,
             "#276419"
            ]
           ],
           "sequential": [
            [
             0,
             "#0d0887"
            ],
            [
             0.1111111111111111,
             "#46039f"
            ],
            [
             0.2222222222222222,
             "#7201a8"
            ],
            [
             0.3333333333333333,
             "#9c179e"
            ],
            [
             0.4444444444444444,
             "#bd3786"
            ],
            [
             0.5555555555555556,
             "#d8576b"
            ],
            [
             0.6666666666666666,
             "#ed7953"
            ],
            [
             0.7777777777777778,
             "#fb9f3a"
            ],
            [
             0.8888888888888888,
             "#fdca26"
            ],
            [
             1,
             "#f0f921"
            ]
           ],
           "sequentialminus": [
            [
             0,
             "#0d0887"
            ],
            [
             0.1111111111111111,
             "#46039f"
            ],
            [
             0.2222222222222222,
             "#7201a8"
            ],
            [
             0.3333333333333333,
             "#9c179e"
            ],
            [
             0.4444444444444444,
             "#bd3786"
            ],
            [
             0.5555555555555556,
             "#d8576b"
            ],
            [
             0.6666666666666666,
             "#ed7953"
            ],
            [
             0.7777777777777778,
             "#fb9f3a"
            ],
            [
             0.8888888888888888,
             "#fdca26"
            ],
            [
             1,
             "#f0f921"
            ]
           ]
          },
          "colorway": [
           "#636efa",
           "#EF553B",
           "#00cc96",
           "#ab63fa",
           "#FFA15A",
           "#19d3f3",
           "#FF6692",
           "#B6E880",
           "#FF97FF",
           "#FECB52"
          ],
          "font": {
           "color": "#2a3f5f"
          },
          "geo": {
           "bgcolor": "white",
           "lakecolor": "white",
           "landcolor": "#E5ECF6",
           "showlakes": true,
           "showland": true,
           "subunitcolor": "white"
          },
          "hoverlabel": {
           "align": "left"
          },
          "hovermode": "closest",
          "mapbox": {
           "style": "light"
          },
          "paper_bgcolor": "white",
          "plot_bgcolor": "#E5ECF6",
          "polar": {
           "angularaxis": {
            "gridcolor": "white",
            "linecolor": "white",
            "ticks": ""
           },
           "bgcolor": "#E5ECF6",
           "radialaxis": {
            "gridcolor": "white",
            "linecolor": "white",
            "ticks": ""
           }
          },
          "scene": {
           "xaxis": {
            "backgroundcolor": "#E5ECF6",
            "gridcolor": "white",
            "gridwidth": 2,
            "linecolor": "white",
            "showbackground": true,
            "ticks": "",
            "zerolinecolor": "white"
           },
           "yaxis": {
            "backgroundcolor": "#E5ECF6",
            "gridcolor": "white",
            "gridwidth": 2,
            "linecolor": "white",
            "showbackground": true,
            "ticks": "",
            "zerolinecolor": "white"
           },
           "zaxis": {
            "backgroundcolor": "#E5ECF6",
            "gridcolor": "white",
            "gridwidth": 2,
            "linecolor": "white",
            "showbackground": true,
            "ticks": "",
            "zerolinecolor": "white"
           }
          },
          "shapedefaults": {
           "line": {
            "color": "#2a3f5f"
           }
          },
          "ternary": {
           "aaxis": {
            "gridcolor": "white",
            "linecolor": "white",
            "ticks": ""
           },
           "baxis": {
            "gridcolor": "white",
            "linecolor": "white",
            "ticks": ""
           },
           "bgcolor": "#E5ECF6",
           "caxis": {
            "gridcolor": "white",
            "linecolor": "white",
            "ticks": ""
           }
          },
          "title": {
           "x": 0.05
          },
          "xaxis": {
           "automargin": true,
           "gridcolor": "white",
           "linecolor": "white",
           "ticks": "",
           "title": {
            "standoff": 15
           },
           "zerolinecolor": "white",
           "zerolinewidth": 2
          },
          "yaxis": {
           "automargin": true,
           "gridcolor": "white",
           "linecolor": "white",
           "ticks": "",
           "title": {
            "standoff": 15
           },
           "zerolinecolor": "white",
           "zerolinewidth": 2
          }
         }
        },
        "title": {
         "text": " students-staff ratio in 2011 and 2012"
        },
        "xaxis": {
         "title": {
          "text": "students-staff ratio"
         }
        },
        "yaxis": {
         "title": {
          "text": "Count"
         }
        }
       }
      },
      "text/html": [
       "<div>                            <div id=\"e570edbf-e5e2-4ea9-a78b-54ed970031a6\" class=\"plotly-graph-div\" style=\"height:525px; width:100%;\"></div>            <script type=\"text/javascript\">                require([\"plotly\"], function(Plotly) {                    window.PLOTLYENV=window.PLOTLYENV || {};                                    if (document.getElementById(\"e570edbf-e5e2-4ea9-a78b-54ed970031a6\")) {                    Plotly.newPlot(                        \"e570edbf-e5e2-4ea9-a78b-54ed970031a6\",                        [{\"marker\": {\"color\": \"rgba(171, 50, 96, 0.6)\"}, \"name\": \"2011\", \"opacity\": 0.75, \"type\": \"histogram\", \"x\": [8.9, 6.9, 9.0, 7.8, 8.4, 11.8, 11.6, 16.4, 11.7, 4.4, 10.3, 6.9, 3.6, 10.2, 14.7, 9.0, 19.5, 5.9, 6.5, 13.1, 17.6, 10.7, 11.8, 4.8, 13.8, 5.7, 20.1, 10.1, 27.3, 17.6, 7.3, 6.5, 18.7, 15.5, 13.7, 23.7, 8.3, 5.7, 4.8, 14.1, 23.8, 7.9, 19.2, 11.5, 25.6, null, 9.0, 10.5, 16.1, 7.9, 3.6, 18.0, 10.0, 13.9, 10.1, 13.0, 5.6, 13.7, 8.6, 6.8, 4.5, 15.5, 13.8, 5.8, 6.4, 13.4, 16.1, 14.0, 22.7, 5.5, 20.2, 10.2, 30.1, 12.9, 11.8, 18.0, 11.4, 10.9, 10.0, 17.4, 32.7, null, 24.5, 16.9, 15.7, null, 15.3, 15.9, 11.5, 13.5, 6.5, 4.6, 19.3, 24.5, 12.0, 12.7, 17.3, 8.4, 6.6, 8.0, 31.5, 15.1, 12.7, 15.0, 17.3, 18.1, 13.5, 12.1, 12.4, 13.9, 11.0, null, 7.3, 16.0, 11.9, null, 22.0, 15.0, 41.9, 13.3, 14.0, 15.7, 5.0, 34.1, 14.9, 17.1, 21.6, 16.0, 23.7, 7.8, 21.5, 5.0, 31.2, 11.6, 11.1, 13.1, 15.5, 20.3, 16.3, 8.7, 15.3, 12.2, 15.4, 17.0, 18.9, 16.4, 23.3, 18.2, 25.9, 15.8, 19.4, 17.2, 15.2, 25.9, 18.3, 13.6, 17.4, null, 18.9, 15.9, 29.9, 17.4, 19.6, 8.5, 14.4, 13.6, 13.6, 14.7, 38.4, 25.6, 16.6, 9.3, 67.8, 16.2, 14.7, 15.0, 4.1, 52.5, 40.5, 70.4, 16.6, 27.6, 22.2, 18.8, 12.0, 59.1, 24.6, 16.9, 38.9, 10.8, 15.7, 11.6, 14.4, 14.6, 20.5, 19.0, 9.2, 15.9, 28.3, 4.6]}, {\"marker\": {\"color\": \"rgba(12, 50, 196, 0.6)\"}, \"name\": \"2012\", \"opacity\": 0.75, \"type\": \"histogram\", \"x\": [6.9, 8.9, 7.8, 11.6, 8.4, 11.8, 9.0, 11.7, 6.9, 16.4, 4.4, 5.9, 10.3, 3.6, 14.7, 6.5, 10.7, 9.0, 19.5, 10.2, 13.1, 4.8, 17.6, 20.1, 11.8, 13.8, 10.8, 13.7, 17.4, 5.7, 18.7, 11.5, 6.5, 17.6, 27.3, 14.1, 23.7, 19.2, 13.9, 15.5, 5.7, 18.0, 7.3, 6.8, 15.5, 10.5, null, 15.3, 10.1, 8.3, 12.4, 5.6, 10.1, 8.6, 12.9, 11.4, 13.4, 20.2, 5.8, 7.9, 6.5, 23.8, 4.8, 13.0, 19.3, 14.0, 41.9, 15.4, 25.6, 3.6, 13.7, 9.0, 24.5, 32.7, 4.5, 17.0, 10.0, 16.1, 17.1, 11.5, 17.3, 4.5, 15.7, 8.7, 12.7, 16.1, 18.2, 31.5, 13.8, 6.6, 15.1, 14.4, 6.4, 10.0, 8.4, 15.7, 12.7, 18.1, 17.4, 21.6, 15.5, 16.0, 12.1, 19.4, 20.3, 34.1, 15.9, 7.3, 52.5, 22.7, 17.3, 22.5, 16.9, 10.9, 16.0, 13.1, 40.5, 18.0, 7.8, 5.0, 10.7, null, 13.6, 13.9, 13.6, 18.7, 29.9, 14.0, 13.5, 15.0, 14.9, 23.7, 14.7, 25.6, 12.0, 4.1, 10.2, 8.5, 20.5, 15.0, 11.6, 8.0, 22.0, 15.0, 14.7, 15.2, 11.8, 16.4, 17.2, 12.6, 10.2, 39.3, 15.8, 11.9, 5.5, 18.8, 18.9, 16.6, 13.0, 24.5, 16.3, null, 4.6, 21.4, 14.8, 24.4, 9.2, 27.6, 16.2, 14.8, 42.0, 5.7, 22.1, 18.9, 25.9, 15.3, 21.5, 5.0, 14.6, 15.9, 9.3, 13.6, 18.8, 17.4, 26.3, 18.3, 14.6, 38.9, 31.2, 20.7, 11.1, 7.9, 7.1, 59.1, 17.4, 24.6, null, 18.9, 13.4, 12.0, 12.3, null, 13.1, 18.2, 7.9, 13.5, 15.1, 19.4, 8.4, 11.2, 11.9, 19.0, 30.1, 12.2, 15.7, 19.8, 19.9, 16.4, 16.9, null, 20.3, 16.3, 17.8, 24.2, 20.7, 38.4, 26.1, 29.8, 11.6, 19.0, 8.3, 14.4, 10.8, 12.2, 15.8, 20.0, 16.6, 28.3, 18.5, 4.6, 9.9, 22.9, 16.5, null, 24.3, 72.5, 14.1, 18.3, 25.8, 11.6, 19.5, 67.8, 17.6, 25.9, 29.1, 6.7, 13.3, 19.6, 13.9, 17.9, 46.3, 23.0, 22.4, 37.4, 18.8, 26.8, null, 23.8, 12.7, 22.8, 18.6, 12.6, 25.4, 21.1, 18.6, 10.7, 19.2, 13.0, 8.2, 11.0, 16.0, 7.7, 22.2, 18.4, 35.8, 15.3, 16.6, 53.6, 3.3, 12.2, 30.3, 26.9, 28.3, 25.9, null, null, 46.1, 21.9, 26.9, 43.2, 39.4, 15.9, 24.2, 23.3, 16.0, 23.3, 25.0, 25.4, 13.0, 17.0, 14.9, 11.5, 15.7, 11.9, 19.0, 11.3, 7.7, 17.4, 25.9, 22.2, 32.3, 12.8, 18.7, 20.3, 22.3, 17.8, 16.5, 17.3, 30.2, 19.4, 43.7, 18.7, 25.9, 27.8, 18.1, 25.3, null, 18.0, 18.8, 21.5, 15.9, 16.6, 9.5, 23.8, 15.4, 17.0, 14.1, 52.0, 17.1, 18.3, 15.9, null, 17.6, 17.1, 17.1, 30.4, 22.6, 20.4, 22.0, 10.8, 17.8, 8.2, 15.1, 8.4, 17.4, 29.0, 62.7, 19.8, 15.9, 7.5, 16.8, null, 9.8, 20.9, 26.8, 28.0, 26.2, 17.9, null, 11.7, 19.6, 13.6, 15.3, 5.2, 17.1, 36.5, 14.4, 65.1, 19.0, 21.5, 14.4, 23.4, 58.4, 26.2, 20.2, 13.0, 14.6, null, 11.8, 16.9, 14.4, 20.6]}],                        {\"barmode\": \"overlay\", \"template\": {\"data\": {\"bar\": [{\"error_x\": {\"color\": \"#2a3f5f\"}, \"error_y\": {\"color\": \"#2a3f5f\"}, \"marker\": {\"line\": {\"color\": \"#E5ECF6\", \"width\": 0.5}}, \"type\": \"bar\"}], \"barpolar\": [{\"marker\": {\"line\": {\"color\": \"#E5ECF6\", \"width\": 0.5}}, \"type\": \"barpolar\"}], \"carpet\": [{\"aaxis\": {\"endlinecolor\": \"#2a3f5f\", \"gridcolor\": \"white\", \"linecolor\": \"white\", \"minorgridcolor\": \"white\", \"startlinecolor\": \"#2a3f5f\"}, \"baxis\": {\"endlinecolor\": \"#2a3f5f\", \"gridcolor\": \"white\", \"linecolor\": \"white\", \"minorgridcolor\": \"white\", \"startlinecolor\": \"#2a3f5f\"}, \"type\": \"carpet\"}], \"choropleth\": [{\"colorbar\": {\"outlinewidth\": 0, \"ticks\": \"\"}, \"type\": \"choropleth\"}], \"contour\": [{\"colorbar\": {\"outlinewidth\": 0, \"ticks\": \"\"}, \"colorscale\": [[0.0, \"#0d0887\"], [0.1111111111111111, \"#46039f\"], [0.2222222222222222, \"#7201a8\"], [0.3333333333333333, \"#9c179e\"], [0.4444444444444444, \"#bd3786\"], [0.5555555555555556, \"#d8576b\"], [0.6666666666666666, \"#ed7953\"], [0.7777777777777778, \"#fb9f3a\"], [0.8888888888888888, \"#fdca26\"], [1.0, \"#f0f921\"]], \"type\": \"contour\"}], \"contourcarpet\": [{\"colorbar\": {\"outlinewidth\": 0, \"ticks\": \"\"}, \"type\": \"contourcarpet\"}], \"heatmap\": [{\"colorbar\": {\"outlinewidth\": 0, \"ticks\": \"\"}, \"colorscale\": [[0.0, \"#0d0887\"], [0.1111111111111111, \"#46039f\"], [0.2222222222222222, \"#7201a8\"], [0.3333333333333333, \"#9c179e\"], [0.4444444444444444, \"#bd3786\"], [0.5555555555555556, \"#d8576b\"], [0.6666666666666666, \"#ed7953\"], [0.7777777777777778, \"#fb9f3a\"], [0.8888888888888888, \"#fdca26\"], [1.0, \"#f0f921\"]], \"type\": \"heatmap\"}], \"heatmapgl\": [{\"colorbar\": {\"outlinewidth\": 0, \"ticks\": \"\"}, \"colorscale\": [[0.0, \"#0d0887\"], [0.1111111111111111, \"#46039f\"], [0.2222222222222222, \"#7201a8\"], [0.3333333333333333, \"#9c179e\"], [0.4444444444444444, \"#bd3786\"], [0.5555555555555556, \"#d8576b\"], [0.6666666666666666, \"#ed7953\"], [0.7777777777777778, \"#fb9f3a\"], [0.8888888888888888, \"#fdca26\"], [1.0, \"#f0f921\"]], \"type\": \"heatmapgl\"}], \"histogram\": [{\"marker\": {\"colorbar\": {\"outlinewidth\": 0, \"ticks\": \"\"}}, \"type\": \"histogram\"}], \"histogram2d\": [{\"colorbar\": {\"outlinewidth\": 0, \"ticks\": \"\"}, \"colorscale\": [[0.0, \"#0d0887\"], [0.1111111111111111, \"#46039f\"], [0.2222222222222222, \"#7201a8\"], [0.3333333333333333, \"#9c179e\"], [0.4444444444444444, \"#bd3786\"], [0.5555555555555556, \"#d8576b\"], [0.6666666666666666, \"#ed7953\"], [0.7777777777777778, \"#fb9f3a\"], [0.8888888888888888, \"#fdca26\"], [1.0, \"#f0f921\"]], \"type\": \"histogram2d\"}], \"histogram2dcontour\": [{\"colorbar\": {\"outlinewidth\": 0, \"ticks\": \"\"}, \"colorscale\": [[0.0, \"#0d0887\"], [0.1111111111111111, \"#46039f\"], [0.2222222222222222, \"#7201a8\"], [0.3333333333333333, \"#9c179e\"], [0.4444444444444444, \"#bd3786\"], [0.5555555555555556, \"#d8576b\"], [0.6666666666666666, \"#ed7953\"], [0.7777777777777778, \"#fb9f3a\"], [0.8888888888888888, \"#fdca26\"], [1.0, \"#f0f921\"]], \"type\": \"histogram2dcontour\"}], \"mesh3d\": [{\"colorbar\": {\"outlinewidth\": 0, \"ticks\": \"\"}, \"type\": \"mesh3d\"}], \"parcoords\": [{\"line\": {\"colorbar\": {\"outlinewidth\": 0, \"ticks\": \"\"}}, \"type\": \"parcoords\"}], \"pie\": [{\"automargin\": true, \"type\": \"pie\"}], \"scatter\": [{\"marker\": {\"colorbar\": {\"outlinewidth\": 0, \"ticks\": \"\"}}, \"type\": \"scatter\"}], \"scatter3d\": [{\"line\": {\"colorbar\": {\"outlinewidth\": 0, \"ticks\": \"\"}}, \"marker\": {\"colorbar\": {\"outlinewidth\": 0, \"ticks\": \"\"}}, \"type\": \"scatter3d\"}], \"scattercarpet\": [{\"marker\": {\"colorbar\": {\"outlinewidth\": 0, \"ticks\": \"\"}}, \"type\": \"scattercarpet\"}], \"scattergeo\": [{\"marker\": {\"colorbar\": {\"outlinewidth\": 0, \"ticks\": \"\"}}, \"type\": \"scattergeo\"}], \"scattergl\": [{\"marker\": {\"colorbar\": {\"outlinewidth\": 0, \"ticks\": \"\"}}, \"type\": \"scattergl\"}], \"scattermapbox\": [{\"marker\": {\"colorbar\": {\"outlinewidth\": 0, \"ticks\": \"\"}}, \"type\": \"scattermapbox\"}], \"scatterpolar\": [{\"marker\": {\"colorbar\": {\"outlinewidth\": 0, \"ticks\": \"\"}}, \"type\": \"scatterpolar\"}], \"scatterpolargl\": [{\"marker\": {\"colorbar\": {\"outlinewidth\": 0, \"ticks\": \"\"}}, \"type\": \"scatterpolargl\"}], \"scatterternary\": [{\"marker\": {\"colorbar\": {\"outlinewidth\": 0, \"ticks\": \"\"}}, \"type\": \"scatterternary\"}], \"surface\": [{\"colorbar\": {\"outlinewidth\": 0, \"ticks\": \"\"}, \"colorscale\": [[0.0, \"#0d0887\"], [0.1111111111111111, \"#46039f\"], [0.2222222222222222, \"#7201a8\"], [0.3333333333333333, \"#9c179e\"], [0.4444444444444444, \"#bd3786\"], [0.5555555555555556, \"#d8576b\"], [0.6666666666666666, \"#ed7953\"], [0.7777777777777778, \"#fb9f3a\"], [0.8888888888888888, \"#fdca26\"], [1.0, \"#f0f921\"]], \"type\": \"surface\"}], \"table\": [{\"cells\": {\"fill\": {\"color\": \"#EBF0F8\"}, \"line\": {\"color\": \"white\"}}, \"header\": {\"fill\": {\"color\": \"#C8D4E3\"}, \"line\": {\"color\": \"white\"}}, \"type\": \"table\"}]}, \"layout\": {\"annotationdefaults\": {\"arrowcolor\": \"#2a3f5f\", \"arrowhead\": 0, \"arrowwidth\": 1}, \"autotypenumbers\": \"strict\", \"coloraxis\": {\"colorbar\": {\"outlinewidth\": 0, \"ticks\": \"\"}}, \"colorscale\": {\"diverging\": [[0, \"#8e0152\"], [0.1, \"#c51b7d\"], [0.2, \"#de77ae\"], [0.3, \"#f1b6da\"], [0.4, \"#fde0ef\"], [0.5, \"#f7f7f7\"], [0.6, \"#e6f5d0\"], [0.7, \"#b8e186\"], [0.8, \"#7fbc41\"], [0.9, \"#4d9221\"], [1, \"#276419\"]], \"sequential\": [[0.0, \"#0d0887\"], [0.1111111111111111, \"#46039f\"], [0.2222222222222222, \"#7201a8\"], [0.3333333333333333, \"#9c179e\"], [0.4444444444444444, \"#bd3786\"], [0.5555555555555556, \"#d8576b\"], [0.6666666666666666, \"#ed7953\"], [0.7777777777777778, \"#fb9f3a\"], [0.8888888888888888, \"#fdca26\"], [1.0, \"#f0f921\"]], \"sequentialminus\": [[0.0, \"#0d0887\"], [0.1111111111111111, \"#46039f\"], [0.2222222222222222, \"#7201a8\"], [0.3333333333333333, \"#9c179e\"], [0.4444444444444444, \"#bd3786\"], [0.5555555555555556, \"#d8576b\"], [0.6666666666666666, \"#ed7953\"], [0.7777777777777778, \"#fb9f3a\"], [0.8888888888888888, \"#fdca26\"], [1.0, \"#f0f921\"]]}, \"colorway\": [\"#636efa\", \"#EF553B\", \"#00cc96\", \"#ab63fa\", \"#FFA15A\", \"#19d3f3\", \"#FF6692\", \"#B6E880\", \"#FF97FF\", \"#FECB52\"], \"font\": {\"color\": \"#2a3f5f\"}, \"geo\": {\"bgcolor\": \"white\", \"lakecolor\": \"white\", \"landcolor\": \"#E5ECF6\", \"showlakes\": true, \"showland\": true, \"subunitcolor\": \"white\"}, \"hoverlabel\": {\"align\": \"left\"}, \"hovermode\": \"closest\", \"mapbox\": {\"style\": \"light\"}, \"paper_bgcolor\": \"white\", \"plot_bgcolor\": \"#E5ECF6\", \"polar\": {\"angularaxis\": {\"gridcolor\": \"white\", \"linecolor\": \"white\", \"ticks\": \"\"}, \"bgcolor\": \"#E5ECF6\", \"radialaxis\": {\"gridcolor\": \"white\", \"linecolor\": \"white\", \"ticks\": \"\"}}, \"scene\": {\"xaxis\": {\"backgroundcolor\": \"#E5ECF6\", \"gridcolor\": \"white\", \"gridwidth\": 2, \"linecolor\": \"white\", \"showbackground\": true, \"ticks\": \"\", \"zerolinecolor\": \"white\"}, \"yaxis\": {\"backgroundcolor\": \"#E5ECF6\", \"gridcolor\": \"white\", \"gridwidth\": 2, \"linecolor\": \"white\", \"showbackground\": true, \"ticks\": \"\", \"zerolinecolor\": \"white\"}, \"zaxis\": {\"backgroundcolor\": \"#E5ECF6\", \"gridcolor\": \"white\", \"gridwidth\": 2, \"linecolor\": \"white\", \"showbackground\": true, \"ticks\": \"\", \"zerolinecolor\": \"white\"}}, \"shapedefaults\": {\"line\": {\"color\": \"#2a3f5f\"}}, \"ternary\": {\"aaxis\": {\"gridcolor\": \"white\", \"linecolor\": \"white\", \"ticks\": \"\"}, \"baxis\": {\"gridcolor\": \"white\", \"linecolor\": \"white\", \"ticks\": \"\"}, \"bgcolor\": \"#E5ECF6\", \"caxis\": {\"gridcolor\": \"white\", \"linecolor\": \"white\", \"ticks\": \"\"}}, \"title\": {\"x\": 0.05}, \"xaxis\": {\"automargin\": true, \"gridcolor\": \"white\", \"linecolor\": \"white\", \"ticks\": \"\", \"title\": {\"standoff\": 15}, \"zerolinecolor\": \"white\", \"zerolinewidth\": 2}, \"yaxis\": {\"automargin\": true, \"gridcolor\": \"white\", \"linecolor\": \"white\", \"ticks\": \"\", \"title\": {\"standoff\": 15}, \"zerolinecolor\": \"white\", \"zerolinewidth\": 2}}}, \"title\": {\"text\": \" students-staff ratio in 2011 and 2012\"}, \"xaxis\": {\"title\": {\"text\": \"students-staff ratio\"}}, \"yaxis\": {\"title\": {\"text\": \"Count\"}}},                        {\"responsive\": true}                    ).then(function(){\n",
       "                            \n",
       "var gd = document.getElementById('e570edbf-e5e2-4ea9-a78b-54ed970031a6');\n",
       "var x = new MutationObserver(function (mutations, observer) {{\n",
       "        var display = window.getComputedStyle(gd).display;\n",
       "        if (!display || display === 'none') {{\n",
       "            console.log([gd, 'removed!']);\n",
       "            Plotly.purge(gd);\n",
       "            observer.disconnect();\n",
       "        }}\n",
       "}});\n",
       "\n",
       "// Listen for the removal of the full notebook cells\n",
       "var notebookContainer = gd.closest('#notebook-container');\n",
       "if (notebookContainer) {{\n",
       "    x.observe(notebookContainer, {childList: true});\n",
       "}}\n",
       "\n",
       "// Listen for the clearing of the current output cell\n",
       "var outputEl = gd.closest('.output');\n",
       "if (outputEl) {{\n",
       "    x.observe(outputEl, {childList: true});\n",
       "}}\n",
       "\n",
       "                        })                };                });            </script>        </div>"
      ]
     },
     "metadata": {},
     "output_type": "display_data"
    }
   ],
   "source": [
    "# prepare data\n",
    "x2011 = timesData.student_staff_ratio[timesData.year == 2011]\n",
    "x2012 = timesData.student_staff_ratio[timesData.year == 2012]\n",
    "\n",
    "trace1 = go.Histogram(\n",
    "    x=x2011,\n",
    "    opacity=0.75,\n",
    "    name = \"2011\",\n",
    "    marker=dict(color='rgba(171, 50, 96, 0.6)'))\n",
    "trace2 = go.Histogram(\n",
    "    x=x2012,\n",
    "    opacity=0.75,\n",
    "    name = \"2012\",\n",
    "    marker=dict(color='rgba(12, 50, 196, 0.6)'))\n",
    "\n",
    "data = [trace1, trace2]\n",
    "layout = go.Layout(barmode='overlay',\n",
    "                   title=' students-staff ratio in 2011 and 2012',\n",
    "                   xaxis=dict(title='students-staff ratio'),\n",
    "                   yaxis=dict( title='Count'),\n",
    ")\n",
    "fig = go.Figure(data=data, layout=layout)\n",
    "iplot(fig)"
   ]
  },
  {
   "cell_type": "markdown",
   "metadata": {},
   "source": [
    "## Word Cloud:\n",
    "\n",
    "**Using word cloud to generate an image of the countries having the most top universities of the World and then exporting the image.**"
   ]
  },
  {
   "cell_type": "code",
   "execution_count": 16,
   "metadata": {},
   "outputs": [
    {
     "data": {
      "image/png": "[encoded data removed]",
      "text/plain": [
       "<Figure size 576x576 with 1 Axes>"
      ]
     },
     "metadata": {
      "needs_background": "light"
     },
     "output_type": "display_data"
    }
   ],
   "source": [
    "# data prepararion\n",
    "x2011 = timesData.country[timesData.year == 2011]\n",
    "plt.subplots(figsize=(8,8))\n",
    "wordcloud = WordCloud(\n",
    "                          background_color='white',\n",
    "                          width=512,\n",
    "                          height=384\n",
    "                         ).generate(\" \".join(x2011))\n",
    "plt.imshow(wordcloud)\n",
    "plt.axis('off')\n",
    "plt.savefig('graph.png')\n",
    "\n",
    "plt.show()"
   ]
  },
  {
   "cell_type": "markdown",
   "metadata": {},
   "source": [
    "## Box Plot:"
   ]
  },
  {
   "cell_type": "code",
   "execution_count": 17,
   "metadata": {},
   "outputs": [
    {
     "data": {
      "application/vnd.plotly.v1+json": {
       "config": {
        "linkText": "Export to plot.ly",
        "plotlyServerURL": "https://plot.ly",
        "showLink": false
       },
       "data": [
        {
         "marker": {
          "color": "rgb(12, 12, 140)"
         },
         "name": "total score of universities in 2015",
         "type": "box",
         "y": [
          "94.3",
          "93.3",
          "93.2",
          "92.9",
          "92.0",
          "91.9",
          "90.9",
          "89.5",
          "87.5",
          "87.5",
          "87.1",
          "85.5",
          "84.6",
          "84.4",
          "83.0",
          "81.0",
          "80.9",
          "79.9",
          "79.4",
          "79.3",
          "79.2",
          "78.7",
          "76.1",
          "74.3",
          "73.3",
          "73.2",
          "72.8",
          "72.3",
          "71.9",
          "71.9",
          "71.9",
          "71.8",
          "71.2",
          "70.9",
          "70.9",
          "70.4",
          "70.0",
          "69.9",
          "69.6",
          "69.4",
          "68.6",
          "67.8",
          "67.5",
          "66.8",
          "66.5",
          "65.9",
          "65.9",
          "65.2",
          "65.1",
          "64.8",
          "64.7",
          "64.5",
          "64.5",
          "64.1",
          "63.7",
          "63.7",
          "63.6",
          "62.9",
          "62.8",
          "62.7",
          "62.2",
          "62.2",
          "61.9",
          "61.3",
          "61.2",
          "61.1",
          "61.0",
          "60.7",
          "59.8",
          "59.6",
          "59.2",
          "59.1",
          "59.0",
          "58.9",
          "58.4",
          "58.4",
          "58.2",
          "58.1",
          "58.0",
          "57.9",
          "57.6",
          "57.3",
          "56.9",
          "56.9",
          "56.6",
          "56.5",
          "56.5",
          "56.4",
          "56.4",
          "56.2",
          "56.1",
          "56.1",
          "55.5",
          "55.3",
          "55.3",
          "55.2",
          "55.1",
          "54.6",
          "54.6",
          "54.6",
          "54.3",
          "54.0",
          "53.9",
          "53.9",
          "53.9",
          "53.9",
          "53.8",
          "53.8",
          "53.7",
          "53.7",
          "53.6",
          "53.6",
          "53.4",
          "53.4",
          "53.4",
          "53.2",
          "53.1",
          "53.0",
          "52.9",
          "52.8",
          "52.7",
          "52.7",
          "52.7",
          "52.6",
          "52.6",
          "52.5",
          "52.5",
          "52.5",
          "52.4",
          "52.1",
          "52.0",
          "51.9",
          "51.9",
          "51.9",
          "51.6",
          "51.4",
          "51.4",
          "51.2",
          "51.1",
          "51.0",
          "50.9",
          "50.9",
          "50.9",
          "50.5",
          "50.5",
          "50.4",
          "50.3",
          "50.2",
          "50.2",
          "50.1",
          "50.1",
          "50.0",
          "49.9",
          "49.7",
          "49.3",
          "49.2",
          "49.1",
          "49.1",
          "49.1",
          "49.0",
          "49.0",
          "48.6",
          "48.3",
          "48.2",
          "48.1",
          "48.1",
          "48.1",
          "48.1",
          "48.0",
          "47.9",
          "47.8",
          "47.8",
          "47.7",
          "47.7",
          "47.5",
          "47.5",
          "47.3",
          "47.1",
          "47.1",
          "47.0",
          "47.0",
          "46.9",
          "46.9",
          "46.9",
          "46.8",
          "46.7",
          "46.7",
          "46.6",
          "46.6",
          "46.6",
          "46.5",
          "46.3",
          "46.2",
          "46.2",
          "46.1",
          "46.0",
          "46.0",
          "45.9",
          "45.7",
          "45.6",
          "45.6",
          "-",
          "-",
          "-",
          "-",
          "-",
          "-",
          "-",
          "-",
          "-",
          "-",
          "-",
          "-",
          "-",
          "-",
          "-",
          "-",
          "-",
          "-",
          "-",
          "-",
          "-",
          "-",
          "-",
          "-",
          "-",
          "-",
          "-",
          "-",
          "-",
          "-",
          "-",
          "-",
          "-",
          "-",
          "-",
          "-",
          "-",
          "-",
          "-",
          "-",
          "-",
          "-",
          "-",
          "-",
          "-",
          "-",
          "-",
          "-",
          "-",
          "-",
          "-",
          "-",
          "-",
          "-",
          "-",
          "-",
          "-",
          "-",
          "-",
          "-",
          "-",
          "-",
          "-",
          "-",
          "-",
          "-",
          "-",
          "-",
          "-",
          "-",
          "-",
          "-",
          "-",
          "-",
          "-",
          "-",
          "-",
          "-",
          "-",
          "-",
          "-",
          "-",
          "-",
          "-",
          "-",
          "-",
          "-",
          "-",
          "-",
          "-",
          "-",
          "-",
          "-",
          "-",
          "-",
          "-",
          "-",
          "-",
          "-",
          "-",
          "-",
          "-",
          "-",
          "-",
          "-",
          "-",
          "-",
          "-",
          "-",
          "-",
          "-",
          "-",
          "-",
          "-",
          "-",
          "-",
          "-",
          "-",
          "-",
          "-",
          "-",
          "-",
          "-",
          "-",
          "-",
          "-",
          "-",
          "-",
          "-",
          "-",
          "-",
          "-",
          "-",
          "-",
          "-",
          "-",
          "-",
          "-",
          "-",
          "-",
          "-",
          "-",
          "-",
          "-",
          "-",
          "-",
          "-",
          "-",
          "-",
          "-",
          "-",
          "-",
          "-",
          "-",
          "-",
          "-",
          "-",
          "-",
          "-",
          "-",
          "-",
          "-",
          "-",
          "-",
          "-",
          "-",
          "-",
          "-",
          "-",
          "-",
          "-",
          "-",
          "-",
          "-",
          "-",
          "-",
          "-",
          "-",
          "-",
          "-",
          "-",
          "-",
          "-",
          "-",
          "-",
          "-",
          "-",
          "-",
          "-",
          "-",
          "-",
          "-",
          "-",
          "-",
          "-",
          "-",
          "-",
          "-",
          "-",
          "-"
         ]
        },
        {
         "marker": {
          "color": "rgb(12, 128, 128)"
         },
         "name": "research of universities in 2015",
         "type": "box",
         "y": [
          98.1,
          98.6,
          97.7,
          96.7,
          95.6,
          88.2,
          94.7,
          96.7,
          88.3,
          90.8,
          89.9,
          90.5,
          90.2,
          79.4,
          84.2,
          82,
          86.5,
          75.2,
          83.8,
          85.1,
          78.9,
          80.4,
          85.1,
          74.9,
          78.1,
          68.9,
          71.2,
          72,
          69.1,
          79,
          71.3,
          69,
          70.9,
          74.2,
          56.9,
          62.9,
          61.4,
          62.4,
          69.9,
          62.3,
          66.6,
          55.2,
          72.6,
          68,
          70.9,
          64.7,
          58.6,
          61.9,
          68.3,
          77.1,
          66.8,
          63.2,
          58.7,
          54.2,
          63.6,
          59.7,
          46.7,
          64.8,
          68.4,
          60.8,
          55.9,
          47.1,
          46,
          58.2,
          58.4,
          49.3,
          48,
          51.1,
          37.1,
          45.4,
          71.4,
          53.7,
          46.8,
          44.7,
          41.1,
          44.6,
          55.4,
          36.2,
          54.8,
          52.6,
          58,
          49.4,
          40.7,
          54.4,
          36.9,
          51.4,
          38.5,
          33.9,
          41.7,
          51.6,
          49.1,
          46.3,
          32.4,
          43.2,
          40.5,
          38.2,
          38.3,
          45,
          37.4,
          53,
          48.1,
          50.5,
          30,
          48.1,
          45.8,
          33.1,
          32.9,
          37.2,
          31.9,
          51.9,
          35.9,
          30.4,
          44.4,
          44.7,
          33.8,
          37.4,
          50.8,
          22.4,
          48.5,
          33.1,
          28.2,
          29.2,
          39.1,
          47.1,
          35.3,
          29.1,
          44.8,
          52.1,
          53.5,
          35.9,
          36.1,
          36.9,
          39.1,
          34.1,
          42,
          39.9,
          43.2,
          30.3,
          27.6,
          46.7,
          26.7,
          51.9,
          52.9,
          47.1,
          45.3,
          39.1,
          29.1,
          50.2,
          39.8,
          35.1,
          27.5,
          35.4,
          47.5,
          32.7,
          57.3,
          29.9,
          48,
          33.2,
          38.1,
          34.4,
          33.8,
          36.5,
          28.1,
          40.4,
          36.9,
          34.9,
          28.3,
          47.3,
          27.2,
          33.6,
          35.8,
          34.9,
          28.2,
          30.6,
          33.4,
          33.5,
          24.4,
          29.3,
          30.2,
          19.7,
          36.3,
          37.5,
          27.1,
          39.7,
          21.9,
          35.2,
          23.9,
          24.4,
          51.1,
          34.7,
          39.8,
          32.9,
          34,
          30.9,
          22.2,
          42.1,
          27.3,
          22.6,
          31.6,
          13.1,
          25.1,
          27.7,
          30.4,
          22.4,
          36.3,
          36.5,
          44.3,
          29.6,
          37.5,
          22,
          28.8,
          27.9,
          22.5,
          34.1,
          17.1,
          34,
          27.3,
          23.4,
          51.6,
          28.2,
          16,
          45.3,
          36.2,
          23.5,
          19.9,
          45.8,
          29.2,
          29.3,
          21.4,
          24.5,
          30,
          29.9,
          23.2,
          31.8,
          26.2,
          29.3,
          35,
          32.3,
          9.8,
          28.1,
          30.5,
          38.2,
          24.3,
          33.4,
          23,
          32.5,
          35.7,
          17.3,
          32.4,
          35.3,
          31.3,
          10.1,
          17,
          23.3,
          40.3,
          24.8,
          33.4,
          25.1,
          25.2,
          33.7,
          27.6,
          30.7,
          24.7,
          18.1,
          23.4,
          29.9,
          27.7,
          19.2,
          25.6,
          37.9,
          12.1,
          21.7,
          20.3,
          20.3,
          40.4,
          32.8,
          31.3,
          39.5,
          25.5,
          22.5,
          40.7,
          29.6,
          10.5,
          18.1,
          36,
          37.9,
          31.2,
          45.1,
          22.9,
          22.2,
          23.2,
          22.4,
          15.3,
          19.7,
          28.9,
          20.3,
          22.9,
          24.4,
          24,
          27.5,
          27.8,
          28.5,
          40,
          19.3,
          23,
          17.8,
          24.3,
          10.4,
          20.6,
          14.3,
          13.2,
          17.3,
          16.5,
          24.4,
          24.8,
          17.2,
          21.1,
          26.6,
          14.7,
          24.8,
          28.1,
          34.7,
          38.8,
          25.2,
          20.7,
          25.1,
          23.4,
          18.4,
          27.1,
          16.8,
          13.7,
          29,
          25.8,
          24,
          20.1,
          29.4,
          6.5,
          13.7,
          16.5,
          15.7,
          18.2,
          18.8,
          20.5,
          25.1,
          17.3,
          22.2,
          21.6,
          12,
          13.6,
          15.2,
          33.1,
          28.5,
          20.6,
          21.6,
          12.9,
          19.1,
          17.2,
          17.1,
          18,
          20.3,
          32.3,
          27.5,
          24.6,
          14.3,
          27.3,
          10,
          28.5,
          16.6,
          27.6,
          17.8,
          40.1,
          32.9,
          42.6,
          18.9,
          22.5,
          16.3,
          16.9,
          25.7,
          18.1,
          21.6,
          15.2,
          17.3,
          17.3,
          10.9,
          22.8,
          18.4,
          16.2,
          22,
          22.3,
          10.6,
          11.8,
          20.2,
          21.8,
          19.4,
          17,
          17.9,
          16.3,
          27.5,
          22.4,
          17.4,
          8
         ]
        }
       ],
       "layout": {
        "template": {
         "data": {
          "bar": [
           {
            "error_x": {
             "color": "#2a3f5f"
            },
            "error_y": {
             "color": "#2a3f5f"
            },
            "marker": {
             "line": {
              "color": "#E5ECF6",
              "width": 0.5
             }
            },
            "type": "bar"
           }
          ],
          "barpolar": [
           {
            "marker": {
             "line": {
              "color": "#E5ECF6",
              "width": 0.5
             }
            },
            "type": "barpolar"
           }
          ],
          "carpet": [
           {
            "aaxis": {
             "endlinecolor": "#2a3f5f",
             "gridcolor": "white",
             "linecolor": "white",
             "minorgridcolor": "white",
             "startlinecolor": "#2a3f5f"
            },
            "baxis": {
             "endlinecolor": "#2a3f5f",
             "gridcolor": "white",
             "linecolor": "white",
             "minorgridcolor": "white",
             "startlinecolor": "#2a3f5f"
            },
            "type": "carpet"
           }
          ],
          "choropleth": [
           {
            "colorbar": {
             "outlinewidth": 0,
             "ticks": ""
            },
            "type": "choropleth"
           }
          ],
          "contour": [
           {
            "colorbar": {
             "outlinewidth": 0,
             "ticks": ""
            },
            "colorscale": [
             [
              0,
              "#0d0887"
             ],
             [
              0.1111111111111111,
              "#46039f"
             ],
             [
              0.2222222222222222,
              "#7201a8"
             ],
             [
              0.3333333333333333,
              "#9c179e"
             ],
             [
              0.4444444444444444,
              "#bd3786"
             ],
             [
              0.5555555555555556,
              "#d8576b"
             ],
             [
              0.6666666666666666,
              "#ed7953"
             ],
             [
              0.7777777777777778,
              "#fb9f3a"
             ],
             [
              0.8888888888888888,
              "#fdca26"
             ],
             [
              1,
              "#f0f921"
             ]
            ],
            "type": "contour"
           }
          ],
          "contourcarpet": [
           {
            "colorbar": {
             "outlinewidth": 0,
             "ticks": ""
            },
            "type": "contourcarpet"
           }
          ],
          "heatmap": [
           {
            "colorbar": {
             "outlinewidth": 0,
             "ticks": ""
            },
            "colorscale": [
             [
              0,
              "#0d0887"
             ],
             [
              0.1111111111111111,
              "#46039f"
             ],
             [
              0.2222222222222222,
              "#7201a8"
             ],
             [
              0.3333333333333333,
              "#9c179e"
             ],
             [
              0.4444444444444444,
              "#bd3786"
             ],
             [
              0.5555555555555556,
              "#d8576b"
             ],
             [
              0.6666666666666666,
              "#ed7953"
             ],
             [
              0.7777777777777778,
              "#fb9f3a"
             ],
             [
              0.8888888888888888,
              "#fdca26"
             ],
             [
              1,
              "#f0f921"
             ]
            ],
            "type": "heatmap"
           }
          ],
          "heatmapgl": [
           {
            "colorbar": {
             "outlinewidth": 0,
             "ticks": ""
            },
            "colorscale": [
             [
              0,
              "#0d0887"
             ],
             [
              0.1111111111111111,
              "#46039f"
             ],
             [
              0.2222222222222222,
              "#7201a8"
             ],
             [
              0.3333333333333333,
              "#9c179e"
             ],
             [
              0.4444444444444444,
              "#bd3786"
             ],
             [
              0.5555555555555556,
              "#d8576b"
             ],
             [
              0.6666666666666666,
              "#ed7953"
             ],
             [
              0.7777777777777778,
              "#fb9f3a"
             ],
             [
              0.8888888888888888,
              "#fdca26"
             ],
             [
              1,
              "#f0f921"
             ]
            ],
            "type": "heatmapgl"
           }
          ],
          "histogram": [
           {
            "marker": {
             "colorbar": {
              "outlinewidth": 0,
              "ticks": ""
             }
            },
            "type": "histogram"
           }
          ],
          "histogram2d": [
           {
            "colorbar": {
             "outlinewidth": 0,
             "ticks": ""
            },
            "colorscale": [
             [
              0,
              "#0d0887"
             ],
             [
              0.1111111111111111,
              "#46039f"
             ],
             [
              0.2222222222222222,
              "#7201a8"
             ],
             [
              0.3333333333333333,
              "#9c179e"
             ],
             [
              0.4444444444444444,
              "#bd3786"
             ],
             [
              0.5555555555555556,
              "#d8576b"
             ],
             [
              0.6666666666666666,
              "#ed7953"
             ],
             [
              0.7777777777777778,
              "#fb9f3a"
             ],
             [
              0.8888888888888888,
              "#fdca26"
             ],
             [
              1,
              "#f0f921"
             ]
            ],
            "type": "histogram2d"
           }
          ],
          "histogram2dcontour": [
           {
            "colorbar": {
             "outlinewidth": 0,
             "ticks": ""
            },
            "colorscale": [
             [
              0,
              "#0d0887"
             ],
             [
              0.1111111111111111,
              "#46039f"
             ],
             [
              0.2222222222222222,
              "#7201a8"
             ],
             [
              0.3333333333333333,
              "#9c179e"
             ],
             [
              0.4444444444444444,
              "#bd3786"
             ],
             [
              0.5555555555555556,
              "#d8576b"
             ],
             [
              0.6666666666666666,
              "#ed7953"
             ],
             [
              0.7777777777777778,
              "#fb9f3a"
             ],
             [
              0.8888888888888888,
              "#fdca26"
             ],
             [
              1,
              "#f0f921"
             ]
            ],
            "type": "histogram2dcontour"
           }
          ],
          "mesh3d": [
           {
            "colorbar": {
             "outlinewidth": 0,
             "ticks": ""
            },
            "type": "mesh3d"
           }
          ],
          "parcoords": [
           {
            "line": {
             "colorbar": {
              "outlinewidth": 0,
              "ticks": ""
             }
            },
            "type": "parcoords"
           }
          ],
          "pie": [
           {
            "automargin": true,
            "type": "pie"
           }
          ],
          "scatter": [
           {
            "marker": {
             "colorbar": {
              "outlinewidth": 0,
              "ticks": ""
             }
            },
            "type": "scatter"
           }
          ],
          "scatter3d": [
           {
            "line": {
             "colorbar": {
              "outlinewidth": 0,
              "ticks": ""
             }
            },
            "marker": {
             "colorbar": {
              "outlinewidth": 0,
              "ticks": ""
             }
            },
            "type": "scatter3d"
           }
          ],
          "scattercarpet": [
           {
            "marker": {
             "colorbar": {
              "outlinewidth": 0,
              "ticks": ""
             }
            },
            "type": "scattercarpet"
           }
          ],
          "scattergeo": [
           {
            "marker": {
             "colorbar": {
              "outlinewidth": 0,
              "ticks": ""
             }
            },
            "type": "scattergeo"
           }
          ],
          "scattergl": [
           {
            "marker": {
             "colorbar": {
              "outlinewidth": 0,
              "ticks": ""
             }
            },
            "type": "scattergl"
           }
          ],
          "scattermapbox": [
           {
            "marker": {
             "colorbar": {
              "outlinewidth": 0,
              "ticks": ""
             }
            },
            "type": "scattermapbox"
           }
          ],
          "scatterpolar": [
           {
            "marker": {
             "colorbar": {
              "outlinewidth": 0,
              "ticks": ""
             }
            },
            "type": "scatterpolar"
           }
          ],
          "scatterpolargl": [
           {
            "marker": {
             "colorbar": {
              "outlinewidth": 0,
              "ticks": ""
             }
            },
            "type": "scatterpolargl"
           }
          ],
          "scatterternary": [
           {
            "marker": {
             "colorbar": {
              "outlinewidth": 0,
              "ticks": ""
             }
            },
            "type": "scatterternary"
           }
          ],
          "surface": [
           {
            "colorbar": {
             "outlinewidth": 0,
             "ticks": ""
            },
            "colorscale": [
             [
              0,
              "#0d0887"
             ],
             [
              0.1111111111111111,
              "#46039f"
             ],
             [
              0.2222222222222222,
              "#7201a8"
             ],
             [
              0.3333333333333333,
              "#9c179e"
             ],
             [
              0.4444444444444444,
              "#bd3786"
             ],
             [
              0.5555555555555556,
              "#d8576b"
             ],
             [
              0.6666666666666666,
              "#ed7953"
             ],
             [
              0.7777777777777778,
              "#fb9f3a"
             ],
             [
              0.8888888888888888,
              "#fdca26"
             ],
             [
              1,
              "#f0f921"
             ]
            ],
            "type": "surface"
           }
          ],
          "table": [
           {
            "cells": {
             "fill": {
              "color": "#EBF0F8"
             },
             "line": {
              "color": "white"
             }
            },
            "header": {
             "fill": {
              "color": "#C8D4E3"
             },
             "line": {
              "color": "white"
             }
            },
            "type": "table"
           }
          ]
         },
         "layout": {
          "annotationdefaults": {
           "arrowcolor": "#2a3f5f",
           "arrowhead": 0,
           "arrowwidth": 1
          },
          "autotypenumbers": "strict",
          "coloraxis": {
           "colorbar": {
            "outlinewidth": 0,
            "ticks": ""
           }
          },
          "colorscale": {
           "diverging": [
            [
             0,
             "#8e0152"
            ],
            [
             0.1,
             "#c51b7d"
            ],
            [
             0.2,
             "#de77ae"
            ],
            [
             0.3,
             "#f1b6da"
            ],
            [
             0.4,
             "#fde0ef"
            ],
            [
             0.5,
             "#f7f7f7"
            ],
            [
             0.6,
             "#e6f5d0"
            ],
            [
             0.7,
             "#b8e186"
            ],
            [
             0.8,
             "#7fbc41"
            ],
            [
             0.9,
             "#4d9221"
            ],
            [
             1,
             "#276419"
            ]
           ],
           "sequential": [
            [
             0,
             "#0d0887"
            ],
            [
             0.1111111111111111,
             "#46039f"
            ],
            [
             0.2222222222222222,
             "#7201a8"
            ],
            [
             0.3333333333333333,
             "#9c179e"
            ],
            [
             0.4444444444444444,
             "#bd3786"
            ],
            [
             0.5555555555555556,
             "#d8576b"
            ],
            [
             0.6666666666666666,
             "#ed7953"
            ],
            [
             0.7777777777777778,
             "#fb9f3a"
            ],
            [
             0.8888888888888888,
             "#fdca26"
            ],
            [
             1,
             "#f0f921"
            ]
           ],
           "sequentialminus": [
            [
             0,
             "#0d0887"
            ],
            [
             0.1111111111111111,
             "#46039f"
            ],
            [
             0.2222222222222222,
             "#7201a8"
            ],
            [
             0.3333333333333333,
             "#9c179e"
            ],
            [
             0.4444444444444444,
             "#bd3786"
            ],
            [
             0.5555555555555556,
             "#d8576b"
            ],
            [
             0.6666666666666666,
             "#ed7953"
            ],
            [
             0.7777777777777778,
             "#fb9f3a"
            ],
            [
             0.8888888888888888,
             "#fdca26"
            ],
            [
             1,
             "#f0f921"
            ]
           ]
          },
          "colorway": [
           "#636efa",
           "#EF553B",
           "#00cc96",
           "#ab63fa",
           "#FFA15A",
           "#19d3f3",
           "#FF6692",
           "#B6E880",
           "#FF97FF",
           "#FECB52"
          ],
          "font": {
           "color": "#2a3f5f"
          },
          "geo": {
           "bgcolor": "white",
           "lakecolor": "white",
           "landcolor": "#E5ECF6",
           "showlakes": true,
           "showland": true,
           "subunitcolor": "white"
          },
          "hoverlabel": {
           "align": "left"
          },
          "hovermode": "closest",
          "mapbox": {
           "style": "light"
          },
          "paper_bgcolor": "white",
          "plot_bgcolor": "#E5ECF6",
          "polar": {
           "angularaxis": {
            "gridcolor": "white",
            "linecolor": "white",
            "ticks": ""
           },
           "bgcolor": "#E5ECF6",
           "radialaxis": {
            "gridcolor": "white",
            "linecolor": "white",
            "ticks": ""
           }
          },
          "scene": {
           "xaxis": {
            "backgroundcolor": "#E5ECF6",
            "gridcolor": "white",
            "gridwidth": 2,
            "linecolor": "white",
            "showbackground": true,
            "ticks": "",
            "zerolinecolor": "white"
           },
           "yaxis": {
            "backgroundcolor": "#E5ECF6",
            "gridcolor": "white",
            "gridwidth": 2,
            "linecolor": "white",
            "showbackground": true,
            "ticks": "",
            "zerolinecolor": "white"
           },
           "zaxis": {
            "backgroundcolor": "#E5ECF6",
            "gridcolor": "white",
            "gridwidth": 2,
            "linecolor": "white",
            "showbackground": true,
            "ticks": "",
            "zerolinecolor": "white"
           }
          },
          "shapedefaults": {
           "line": {
            "color": "#2a3f5f"
           }
          },
          "ternary": {
           "aaxis": {
            "gridcolor": "white",
            "linecolor": "white",
            "ticks": ""
           },
           "baxis": {
            "gridcolor": "white",
            "linecolor": "white",
            "ticks": ""
           },
           "bgcolor": "#E5ECF6",
           "caxis": {
            "gridcolor": "white",
            "linecolor": "white",
            "ticks": ""
           }
          },
          "title": {
           "x": 0.05
          },
          "xaxis": {
           "automargin": true,
           "gridcolor": "white",
           "linecolor": "white",
           "ticks": "",
           "title": {
            "standoff": 15
           },
           "zerolinecolor": "white",
           "zerolinewidth": 2
          },
          "yaxis": {
           "automargin": true,
           "gridcolor": "white",
           "linecolor": "white",
           "ticks": "",
           "title": {
            "standoff": 15
           },
           "zerolinecolor": "white",
           "zerolinewidth": 2
          }
         }
        }
       }
      },
      "text/html": [
       "<div>                            <div id=\"2e129ed9-25a5-4cd6-9faf-43f4fd781661\" class=\"plotly-graph-div\" style=\"height:525px; width:100%;\"></div>            <script type=\"text/javascript\">                require([\"plotly\"], function(Plotly) {                    window.PLOTLYENV=window.PLOTLYENV || {};                                    if (document.getElementById(\"2e129ed9-25a5-4cd6-9faf-43f4fd781661\")) {                    Plotly.newPlot(                        \"2e129ed9-25a5-4cd6-9faf-43f4fd781661\",                        [{\"marker\": {\"color\": \"rgb(12, 12, 140)\"}, \"name\": \"total score of universities in 2015\", \"type\": \"box\", \"y\": [\"94.3\", \"93.3\", \"93.2\", \"92.9\", \"92.0\", \"91.9\", \"90.9\", \"89.5\", \"87.5\", \"87.5\", \"87.1\", \"85.5\", \"84.6\", \"84.4\", \"83.0\", \"81.0\", \"80.9\", \"79.9\", \"79.4\", \"79.3\", \"79.2\", \"78.7\", \"76.1\", \"74.3\", \"73.3\", \"73.2\", \"72.8\", \"72.3\", \"71.9\", \"71.9\", \"71.9\", \"71.8\", \"71.2\", \"70.9\", \"70.9\", \"70.4\", \"70.0\", \"69.9\", \"69.6\", \"69.4\", \"68.6\", \"67.8\", \"67.5\", \"66.8\", \"66.5\", \"65.9\", \"65.9\", \"65.2\", \"65.1\", \"64.8\", \"64.7\", \"64.5\", \"64.5\", \"64.1\", \"63.7\", \"63.7\", \"63.6\", \"62.9\", \"62.8\", \"62.7\", \"62.2\", \"62.2\", \"61.9\", \"61.3\", \"61.2\", \"61.1\", \"61.0\", \"60.7\", \"59.8\", \"59.6\", \"59.2\", \"59.1\", \"59.0\", \"58.9\", \"58.4\", \"58.4\", \"58.2\", \"58.1\", \"58.0\", \"57.9\", \"57.6\", \"57.3\", \"56.9\", \"56.9\", \"56.6\", \"56.5\", \"56.5\", \"56.4\", \"56.4\", \"56.2\", \"56.1\", \"56.1\", \"55.5\", \"55.3\", \"55.3\", \"55.2\", \"55.1\", \"54.6\", \"54.6\", \"54.6\", \"54.3\", \"54.0\", \"53.9\", \"53.9\", \"53.9\", \"53.9\", \"53.8\", \"53.8\", \"53.7\", \"53.7\", \"53.6\", \"53.6\", \"53.4\", \"53.4\", \"53.4\", \"53.2\", \"53.1\", \"53.0\", \"52.9\", \"52.8\", \"52.7\", \"52.7\", \"52.7\", \"52.6\", \"52.6\", \"52.5\", \"52.5\", \"52.5\", \"52.4\", \"52.1\", \"52.0\", \"51.9\", \"51.9\", \"51.9\", \"51.6\", \"51.4\", \"51.4\", \"51.2\", \"51.1\", \"51.0\", \"50.9\", \"50.9\", \"50.9\", \"50.5\", \"50.5\", \"50.4\", \"50.3\", \"50.2\", \"50.2\", \"50.1\", \"50.1\", \"50.0\", \"49.9\", \"49.7\", \"49.3\", \"49.2\", \"49.1\", \"49.1\", \"49.1\", \"49.0\", \"49.0\", \"48.6\", \"48.3\", \"48.2\", \"48.1\", \"48.1\", \"48.1\", \"48.1\", \"48.0\", \"47.9\", \"47.8\", \"47.8\", \"47.7\", \"47.7\", \"47.5\", \"47.5\", \"47.3\", \"47.1\", \"47.1\", \"47.0\", \"47.0\", \"46.9\", \"46.9\", \"46.9\", \"46.8\", \"46.7\", \"46.7\", \"46.6\", \"46.6\", \"46.6\", \"46.5\", \"46.3\", \"46.2\", \"46.2\", \"46.1\", \"46.0\", \"46.0\", \"45.9\", \"45.7\", \"45.6\", \"45.6\", \"-\", \"-\", \"-\", \"-\", \"-\", \"-\", \"-\", \"-\", \"-\", \"-\", \"-\", \"-\", \"-\", \"-\", \"-\", \"-\", \"-\", \"-\", \"-\", \"-\", \"-\", \"-\", \"-\", \"-\", \"-\", \"-\", \"-\", \"-\", \"-\", \"-\", \"-\", \"-\", \"-\", \"-\", \"-\", \"-\", \"-\", \"-\", \"-\", \"-\", \"-\", \"-\", \"-\", \"-\", \"-\", \"-\", \"-\", \"-\", \"-\", \"-\", \"-\", \"-\", \"-\", \"-\", \"-\", \"-\", \"-\", \"-\", \"-\", \"-\", \"-\", \"-\", \"-\", \"-\", \"-\", \"-\", \"-\", \"-\", \"-\", \"-\", \"-\", \"-\", \"-\", \"-\", \"-\", \"-\", \"-\", \"-\", \"-\", \"-\", \"-\", \"-\", \"-\", \"-\", \"-\", \"-\", \"-\", \"-\", \"-\", \"-\", \"-\", \"-\", \"-\", \"-\", \"-\", \"-\", \"-\", \"-\", \"-\", \"-\", \"-\", \"-\", \"-\", \"-\", \"-\", \"-\", \"-\", \"-\", \"-\", \"-\", \"-\", \"-\", \"-\", \"-\", \"-\", \"-\", \"-\", \"-\", \"-\", \"-\", \"-\", \"-\", \"-\", \"-\", \"-\", \"-\", \"-\", \"-\", \"-\", \"-\", \"-\", \"-\", \"-\", \"-\", \"-\", \"-\", \"-\", \"-\", \"-\", \"-\", \"-\", \"-\", \"-\", \"-\", \"-\", \"-\", \"-\", \"-\", \"-\", \"-\", \"-\", \"-\", \"-\", \"-\", \"-\", \"-\", \"-\", \"-\", \"-\", \"-\", \"-\", \"-\", \"-\", \"-\", \"-\", \"-\", \"-\", \"-\", \"-\", \"-\", \"-\", \"-\", \"-\", \"-\", \"-\", \"-\", \"-\", \"-\", \"-\", \"-\", \"-\", \"-\", \"-\", \"-\", \"-\", \"-\", \"-\", \"-\", \"-\", \"-\", \"-\", \"-\", \"-\", \"-\", \"-\", \"-\", \"-\", \"-\", \"-\", \"-\"]}, {\"marker\": {\"color\": \"rgb(12, 128, 128)\"}, \"name\": \"research of universities in 2015\", \"type\": \"box\", \"y\": [98.1, 98.6, 97.7, 96.7, 95.6, 88.2, 94.7, 96.7, 88.3, 90.8, 89.9, 90.5, 90.2, 79.4, 84.2, 82.0, 86.5, 75.2, 83.8, 85.1, 78.9, 80.4, 85.1, 74.9, 78.1, 68.9, 71.2, 72.0, 69.1, 79.0, 71.3, 69.0, 70.9, 74.2, 56.9, 62.9, 61.4, 62.4, 69.9, 62.3, 66.6, 55.2, 72.6, 68.0, 70.9, 64.7, 58.6, 61.9, 68.3, 77.1, 66.8, 63.2, 58.7, 54.2, 63.6, 59.7, 46.7, 64.8, 68.4, 60.8, 55.9, 47.1, 46.0, 58.2, 58.4, 49.3, 48.0, 51.1, 37.1, 45.4, 71.4, 53.7, 46.8, 44.7, 41.1, 44.6, 55.4, 36.2, 54.8, 52.6, 58.0, 49.4, 40.7, 54.4, 36.9, 51.4, 38.5, 33.9, 41.7, 51.6, 49.1, 46.3, 32.4, 43.2, 40.5, 38.2, 38.3, 45.0, 37.4, 53.0, 48.1, 50.5, 30.0, 48.1, 45.8, 33.1, 32.9, 37.2, 31.9, 51.9, 35.9, 30.4, 44.4, 44.7, 33.8, 37.4, 50.8, 22.4, 48.5, 33.1, 28.2, 29.2, 39.1, 47.1, 35.3, 29.1, 44.8, 52.1, 53.5, 35.9, 36.1, 36.9, 39.1, 34.1, 42.0, 39.9, 43.2, 30.3, 27.6, 46.7, 26.7, 51.9, 52.9, 47.1, 45.3, 39.1, 29.1, 50.2, 39.8, 35.1, 27.5, 35.4, 47.5, 32.7, 57.3, 29.9, 48.0, 33.2, 38.1, 34.4, 33.8, 36.5, 28.1, 40.4, 36.9, 34.9, 28.3, 47.3, 27.2, 33.6, 35.8, 34.9, 28.2, 30.6, 33.4, 33.5, 24.4, 29.3, 30.2, 19.7, 36.3, 37.5, 27.1, 39.7, 21.9, 35.2, 23.9, 24.4, 51.1, 34.7, 39.8, 32.9, 34.0, 30.9, 22.2, 42.1, 27.3, 22.6, 31.6, 13.1, 25.1, 27.7, 30.4, 22.4, 36.3, 36.5, 44.3, 29.6, 37.5, 22.0, 28.8, 27.9, 22.5, 34.1, 17.1, 34.0, 27.3, 23.4, 51.6, 28.2, 16.0, 45.3, 36.2, 23.5, 19.9, 45.8, 29.2, 29.3, 21.4, 24.5, 30.0, 29.9, 23.2, 31.8, 26.2, 29.3, 35.0, 32.3, 9.8, 28.1, 30.5, 38.2, 24.3, 33.4, 23.0, 32.5, 35.7, 17.3, 32.4, 35.3, 31.3, 10.1, 17.0, 23.3, 40.3, 24.8, 33.4, 25.1, 25.2, 33.7, 27.6, 30.7, 24.7, 18.1, 23.4, 29.9, 27.7, 19.2, 25.6, 37.9, 12.1, 21.7, 20.3, 20.3, 40.4, 32.8, 31.3, 39.5, 25.5, 22.5, 40.7, 29.6, 10.5, 18.1, 36.0, 37.9, 31.2, 45.1, 22.9, 22.2, 23.2, 22.4, 15.3, 19.7, 28.9, 20.3, 22.9, 24.4, 24.0, 27.5, 27.8, 28.5, 40.0, 19.3, 23.0, 17.8, 24.3, 10.4, 20.6, 14.3, 13.2, 17.3, 16.5, 24.4, 24.8, 17.2, 21.1, 26.6, 14.7, 24.8, 28.1, 34.7, 38.8, 25.2, 20.7, 25.1, 23.4, 18.4, 27.1, 16.8, 13.7, 29.0, 25.8, 24.0, 20.1, 29.4, 6.5, 13.7, 16.5, 15.7, 18.2, 18.8, 20.5, 25.1, 17.3, 22.2, 21.6, 12.0, 13.6, 15.2, 33.1, 28.5, 20.6, 21.6, 12.9, 19.1, 17.2, 17.1, 18.0, 20.3, 32.3, 27.5, 24.6, 14.3, 27.3, 10.0, 28.5, 16.6, 27.6, 17.8, 40.1, 32.9, 42.6, 18.9, 22.5, 16.3, 16.9, 25.7, 18.1, 21.6, 15.2, 17.3, 17.3, 10.9, 22.8, 18.4, 16.2, 22.0, 22.3, 10.6, 11.8, 20.2, 21.8, 19.4, 17.0, 17.9, 16.3, 27.5, 22.4, 17.4, 8.0]}],                        {\"template\": {\"data\": {\"bar\": [{\"error_x\": {\"color\": \"#2a3f5f\"}, \"error_y\": {\"color\": \"#2a3f5f\"}, \"marker\": {\"line\": {\"color\": \"#E5ECF6\", \"width\": 0.5}}, \"type\": \"bar\"}], \"barpolar\": [{\"marker\": {\"line\": {\"color\": \"#E5ECF6\", \"width\": 0.5}}, \"type\": \"barpolar\"}], \"carpet\": [{\"aaxis\": {\"endlinecolor\": \"#2a3f5f\", \"gridcolor\": \"white\", \"linecolor\": \"white\", \"minorgridcolor\": \"white\", \"startlinecolor\": \"#2a3f5f\"}, \"baxis\": {\"endlinecolor\": \"#2a3f5f\", \"gridcolor\": \"white\", \"linecolor\": \"white\", \"minorgridcolor\": \"white\", \"startlinecolor\": \"#2a3f5f\"}, \"type\": \"carpet\"}], \"choropleth\": [{\"colorbar\": {\"outlinewidth\": 0, \"ticks\": \"\"}, \"type\": \"choropleth\"}], \"contour\": [{\"colorbar\": {\"outlinewidth\": 0, \"ticks\": \"\"}, \"colorscale\": [[0.0, \"#0d0887\"], [0.1111111111111111, \"#46039f\"], [0.2222222222222222, \"#7201a8\"], [0.3333333333333333, \"#9c179e\"], [0.4444444444444444, \"#bd3786\"], [0.5555555555555556, \"#d8576b\"], [0.6666666666666666, \"#ed7953\"], [0.7777777777777778, \"#fb9f3a\"], [0.8888888888888888, \"#fdca26\"], [1.0, \"#f0f921\"]], \"type\": \"contour\"}], \"contourcarpet\": [{\"colorbar\": {\"outlinewidth\": 0, \"ticks\": \"\"}, \"type\": \"contourcarpet\"}], \"heatmap\": [{\"colorbar\": {\"outlinewidth\": 0, \"ticks\": \"\"}, \"colorscale\": [[0.0, \"#0d0887\"], [0.1111111111111111, \"#46039f\"], [0.2222222222222222, \"#7201a8\"], [0.3333333333333333, \"#9c179e\"], [0.4444444444444444, \"#bd3786\"], [0.5555555555555556, \"#d8576b\"], [0.6666666666666666, \"#ed7953\"], [0.7777777777777778, \"#fb9f3a\"], [0.8888888888888888, \"#fdca26\"], [1.0, \"#f0f921\"]], \"type\": \"heatmap\"}], \"heatmapgl\": [{\"colorbar\": {\"outlinewidth\": 0, \"ticks\": \"\"}, \"colorscale\": [[0.0, \"#0d0887\"], [0.1111111111111111, \"#46039f\"], [0.2222222222222222, \"#7201a8\"], [0.3333333333333333, \"#9c179e\"], [0.4444444444444444, \"#bd3786\"], [0.5555555555555556, \"#d8576b\"], [0.6666666666666666, \"#ed7953\"], [0.7777777777777778, \"#fb9f3a\"], [0.8888888888888888, \"#fdca26\"], [1.0, \"#f0f921\"]], \"type\": \"heatmapgl\"}], \"histogram\": [{\"marker\": {\"colorbar\": {\"outlinewidth\": 0, \"ticks\": \"\"}}, \"type\": \"histogram\"}], \"histogram2d\": [{\"colorbar\": {\"outlinewidth\": 0, \"ticks\": \"\"}, \"colorscale\": [[0.0, \"#0d0887\"], [0.1111111111111111, \"#46039f\"], [0.2222222222222222, \"#7201a8\"], [0.3333333333333333, \"#9c179e\"], [0.4444444444444444, \"#bd3786\"], [0.5555555555555556, \"#d8576b\"], [0.6666666666666666, \"#ed7953\"], [0.7777777777777778, \"#fb9f3a\"], [0.8888888888888888, \"#fdca26\"], [1.0, \"#f0f921\"]], \"type\": \"histogram2d\"}], \"histogram2dcontour\": [{\"colorbar\": {\"outlinewidth\": 0, \"ticks\": \"\"}, \"colorscale\": [[0.0, \"#0d0887\"], [0.1111111111111111, \"#46039f\"], [0.2222222222222222, \"#7201a8\"], [0.3333333333333333, \"#9c179e\"], [0.4444444444444444, \"#bd3786\"], [0.5555555555555556, \"#d8576b\"], [0.6666666666666666, \"#ed7953\"], [0.7777777777777778, \"#fb9f3a\"], [0.8888888888888888, \"#fdca26\"], [1.0, \"#f0f921\"]], \"type\": \"histogram2dcontour\"}], \"mesh3d\": [{\"colorbar\": {\"outlinewidth\": 0, \"ticks\": \"\"}, \"type\": \"mesh3d\"}], \"parcoords\": [{\"line\": {\"colorbar\": {\"outlinewidth\": 0, \"ticks\": \"\"}}, \"type\": \"parcoords\"}], \"pie\": [{\"automargin\": true, \"type\": \"pie\"}], \"scatter\": [{\"marker\": {\"colorbar\": {\"outlinewidth\": 0, \"ticks\": \"\"}}, \"type\": \"scatter\"}], \"scatter3d\": [{\"line\": {\"colorbar\": {\"outlinewidth\": 0, \"ticks\": \"\"}}, \"marker\": {\"colorbar\": {\"outlinewidth\": 0, \"ticks\": \"\"}}, \"type\": \"scatter3d\"}], \"scattercarpet\": [{\"marker\": {\"colorbar\": {\"outlinewidth\": 0, \"ticks\": \"\"}}, \"type\": \"scattercarpet\"}], \"scattergeo\": [{\"marker\": {\"colorbar\": {\"outlinewidth\": 0, \"ticks\": \"\"}}, \"type\": \"scattergeo\"}], \"scattergl\": [{\"marker\": {\"colorbar\": {\"outlinewidth\": 0, \"ticks\": \"\"}}, \"type\": \"scattergl\"}], \"scattermapbox\": [{\"marker\": {\"colorbar\": {\"outlinewidth\": 0, \"ticks\": \"\"}}, \"type\": \"scattermapbox\"}], \"scatterpolar\": [{\"marker\": {\"colorbar\": {\"outlinewidth\": 0, \"ticks\": \"\"}}, \"type\": \"scatterpolar\"}], \"scatterpolargl\": [{\"marker\": {\"colorbar\": {\"outlinewidth\": 0, \"ticks\": \"\"}}, \"type\": \"scatterpolargl\"}], \"scatterternary\": [{\"marker\": {\"colorbar\": {\"outlinewidth\": 0, \"ticks\": \"\"}}, \"type\": \"scatterternary\"}], \"surface\": [{\"colorbar\": {\"outlinewidth\": 0, \"ticks\": \"\"}, \"colorscale\": [[0.0, \"#0d0887\"], [0.1111111111111111, \"#46039f\"], [0.2222222222222222, \"#7201a8\"], [0.3333333333333333, \"#9c179e\"], [0.4444444444444444, \"#bd3786\"], [0.5555555555555556, \"#d8576b\"], [0.6666666666666666, \"#ed7953\"], [0.7777777777777778, \"#fb9f3a\"], [0.8888888888888888, \"#fdca26\"], [1.0, \"#f0f921\"]], \"type\": \"surface\"}], \"table\": [{\"cells\": {\"fill\": {\"color\": \"#EBF0F8\"}, \"line\": {\"color\": \"white\"}}, \"header\": {\"fill\": {\"color\": \"#C8D4E3\"}, \"line\": {\"color\": \"white\"}}, \"type\": \"table\"}]}, \"layout\": {\"annotationdefaults\": {\"arrowcolor\": \"#2a3f5f\", \"arrowhead\": 0, \"arrowwidth\": 1}, \"autotypenumbers\": \"strict\", \"coloraxis\": {\"colorbar\": {\"outlinewidth\": 0, \"ticks\": \"\"}}, \"colorscale\": {\"diverging\": [[0, \"#8e0152\"], [0.1, \"#c51b7d\"], [0.2, \"#de77ae\"], [0.3, \"#f1b6da\"], [0.4, \"#fde0ef\"], [0.5, \"#f7f7f7\"], [0.6, \"#e6f5d0\"], [0.7, \"#b8e186\"], [0.8, \"#7fbc41\"], [0.9, \"#4d9221\"], [1, \"#276419\"]], \"sequential\": [[0.0, \"#0d0887\"], [0.1111111111111111, \"#46039f\"], [0.2222222222222222, \"#7201a8\"], [0.3333333333333333, \"#9c179e\"], [0.4444444444444444, \"#bd3786\"], [0.5555555555555556, \"#d8576b\"], [0.6666666666666666, \"#ed7953\"], [0.7777777777777778, \"#fb9f3a\"], [0.8888888888888888, \"#fdca26\"], [1.0, \"#f0f921\"]], \"sequentialminus\": [[0.0, \"#0d0887\"], [0.1111111111111111, \"#46039f\"], [0.2222222222222222, \"#7201a8\"], [0.3333333333333333, \"#9c179e\"], [0.4444444444444444, \"#bd3786\"], [0.5555555555555556, \"#d8576b\"], [0.6666666666666666, \"#ed7953\"], [0.7777777777777778, \"#fb9f3a\"], [0.8888888888888888, \"#fdca26\"], [1.0, \"#f0f921\"]]}, \"colorway\": [\"#636efa\", \"#EF553B\", \"#00cc96\", \"#ab63fa\", \"#FFA15A\", \"#19d3f3\", \"#FF6692\", \"#B6E880\", \"#FF97FF\", \"#FECB52\"], \"font\": {\"color\": \"#2a3f5f\"}, \"geo\": {\"bgcolor\": \"white\", \"lakecolor\": \"white\", \"landcolor\": \"#E5ECF6\", \"showlakes\": true, \"showland\": true, \"subunitcolor\": \"white\"}, \"hoverlabel\": {\"align\": \"left\"}, \"hovermode\": \"closest\", \"mapbox\": {\"style\": \"light\"}, \"paper_bgcolor\": \"white\", \"plot_bgcolor\": \"#E5ECF6\", \"polar\": {\"angularaxis\": {\"gridcolor\": \"white\", \"linecolor\": \"white\", \"ticks\": \"\"}, \"bgcolor\": \"#E5ECF6\", \"radialaxis\": {\"gridcolor\": \"white\", \"linecolor\": \"white\", \"ticks\": \"\"}}, \"scene\": {\"xaxis\": {\"backgroundcolor\": \"#E5ECF6\", \"gridcolor\": \"white\", \"gridwidth\": 2, \"linecolor\": \"white\", \"showbackground\": true, \"ticks\": \"\", \"zerolinecolor\": \"white\"}, \"yaxis\": {\"backgroundcolor\": \"#E5ECF6\", \"gridcolor\": \"white\", \"gridwidth\": 2, \"linecolor\": \"white\", \"showbackground\": true, \"ticks\": \"\", \"zerolinecolor\": \"white\"}, \"zaxis\": {\"backgroundcolor\": \"#E5ECF6\", \"gridcolor\": \"white\", \"gridwidth\": 2, \"linecolor\": \"white\", \"showbackground\": true, \"ticks\": \"\", \"zerolinecolor\": \"white\"}}, \"shapedefaults\": {\"line\": {\"color\": \"#2a3f5f\"}}, \"ternary\": {\"aaxis\": {\"gridcolor\": \"white\", \"linecolor\": \"white\", \"ticks\": \"\"}, \"baxis\": {\"gridcolor\": \"white\", \"linecolor\": \"white\", \"ticks\": \"\"}, \"bgcolor\": \"#E5ECF6\", \"caxis\": {\"gridcolor\": \"white\", \"linecolor\": \"white\", \"ticks\": \"\"}}, \"title\": {\"x\": 0.05}, \"xaxis\": {\"automargin\": true, \"gridcolor\": \"white\", \"linecolor\": \"white\", \"ticks\": \"\", \"title\": {\"standoff\": 15}, \"zerolinecolor\": \"white\", \"zerolinewidth\": 2}, \"yaxis\": {\"automargin\": true, \"gridcolor\": \"white\", \"linecolor\": \"white\", \"ticks\": \"\", \"title\": {\"standoff\": 15}, \"zerolinecolor\": \"white\", \"zerolinewidth\": 2}}}},                        {\"responsive\": true}                    ).then(function(){\n",
       "                            \n",
       "var gd = document.getElementById('2e129ed9-25a5-4cd6-9faf-43f4fd781661');\n",
       "var x = new MutationObserver(function (mutations, observer) {{\n",
       "        var display = window.getComputedStyle(gd).display;\n",
       "        if (!display || display === 'none') {{\n",
       "            console.log([gd, 'removed!']);\n",
       "            Plotly.purge(gd);\n",
       "            observer.disconnect();\n",
       "        }}\n",
       "}});\n",
       "\n",
       "// Listen for the removal of the full notebook cells\n",
       "var notebookContainer = gd.closest('#notebook-container');\n",
       "if (notebookContainer) {{\n",
       "    x.observe(notebookContainer, {childList: true});\n",
       "}}\n",
       "\n",
       "// Listen for the clearing of the current output cell\n",
       "var outputEl = gd.closest('.output');\n",
       "if (outputEl) {{\n",
       "    x.observe(outputEl, {childList: true});\n",
       "}}\n",
       "\n",
       "                        })                };                });            </script>        </div>"
      ]
     },
     "metadata": {},
     "output_type": "display_data"
    }
   ],
   "source": [
    "# data preparation\n",
    "x2015 = timesData[timesData.year == 2015]\n",
    "\n",
    "trace0 = go.Box(\n",
    "    y=x2015.total_score,\n",
    "    name = 'total score of universities in 2015',\n",
    "    marker = dict(\n",
    "        color = 'rgb(12, 12, 140)',\n",
    "    )\n",
    ")\n",
    "trace1 = go.Box(\n",
    "    y=x2015.research,\n",
    "    name = 'research of universities in 2015',\n",
    "    marker = dict(\n",
    "        color = 'rgb(12, 128, 128)',\n",
    "    )\n",
    ")\n",
    "data = [trace0, trace1]\n",
    "iplot(data)"
   ]
  },
  {
   "cell_type": "markdown",
   "metadata": {},
   "source": [
    "## Scatter Matrix Plots:"
   ]
  },
  {
   "cell_type": "code",
   "execution_count": 18,
   "metadata": {},
   "outputs": [
    {
     "data": {
      "application/vnd.plotly.v1+json": {
       "config": {
        "linkText": "Export to plot.ly",
        "plotlyServerURL": "https://plot.ly",
        "showLink": false
       },
       "data": [
        {
         "marker": {
          "color": "rgb(12, 51, 131)"
         },
         "showlegend": false,
         "type": "box",
         "xaxis": "x",
         "y": [
          98.1,
          98.6,
          97.7,
          96.7,
          95.6,
          88.2,
          94.7,
          96.7,
          88.3,
          90.8,
          89.9,
          90.5,
          90.2,
          79.4,
          84.2,
          82,
          86.5,
          75.2,
          83.8,
          85.1,
          78.9,
          80.4,
          85.1,
          74.9,
          78.1,
          68.9,
          71.2,
          72,
          69.1,
          79,
          71.3,
          69,
          70.9,
          74.2,
          56.9,
          62.9,
          61.4,
          62.4,
          69.9,
          62.3,
          66.6,
          55.2,
          72.6,
          68,
          70.9,
          64.7,
          58.6,
          61.9,
          68.3,
          77.1,
          66.8,
          63.2,
          58.7,
          54.2,
          63.6,
          59.7,
          46.7,
          64.8,
          68.4,
          60.8,
          55.9,
          47.1,
          46,
          58.2,
          58.4,
          49.3,
          48,
          51.1,
          37.1,
          45.4,
          71.4,
          53.7,
          46.8,
          44.7,
          41.1,
          44.6,
          55.4,
          36.2,
          54.8,
          52.6,
          58,
          49.4,
          40.7,
          54.4,
          36.9,
          51.4,
          38.5,
          33.9,
          41.7,
          51.6,
          49.1,
          46.3,
          32.4,
          43.2,
          40.5,
          38.2,
          38.3,
          45,
          37.4,
          53,
          48.1,
          50.5,
          30,
          48.1,
          45.8,
          33.1,
          32.9,
          37.2,
          31.9,
          51.9,
          35.9,
          30.4,
          44.4,
          44.7,
          33.8,
          37.4,
          50.8,
          22.4,
          48.5,
          33.1,
          28.2,
          29.2,
          39.1,
          47.1,
          35.3,
          29.1,
          44.8,
          52.1,
          53.5,
          35.9,
          36.1,
          36.9,
          39.1,
          34.1,
          42,
          39.9,
          43.2,
          30.3,
          27.6,
          46.7,
          26.7,
          51.9,
          52.9,
          47.1,
          45.3,
          39.1,
          29.1,
          50.2,
          39.8,
          35.1,
          27.5,
          35.4,
          47.5,
          32.7,
          57.3,
          29.9,
          48,
          33.2,
          38.1,
          34.4,
          33.8,
          36.5,
          28.1,
          40.4,
          36.9,
          34.9,
          28.3,
          47.3,
          27.2,
          33.6,
          35.8,
          34.9,
          28.2,
          30.6,
          33.4,
          33.5,
          24.4,
          29.3,
          30.2,
          19.7,
          36.3,
          37.5,
          27.1,
          39.7,
          21.9,
          35.2,
          23.9,
          24.4,
          51.1,
          34.7,
          39.8,
          32.9,
          34,
          30.9,
          22.2,
          42.1,
          27.3,
          22.6,
          31.6,
          13.1,
          25.1,
          27.7,
          30.4,
          22.4,
          36.3,
          36.5,
          44.3,
          29.6,
          37.5,
          22,
          28.8,
          27.9,
          22.5,
          34.1,
          17.1,
          34,
          27.3,
          23.4,
          51.6,
          28.2,
          16,
          45.3,
          36.2,
          23.5,
          19.9,
          45.8,
          29.2,
          29.3,
          21.4,
          24.5,
          30,
          29.9,
          23.2,
          31.8,
          26.2,
          29.3,
          35,
          32.3,
          9.8,
          28.1,
          30.5,
          38.2,
          24.3,
          33.4,
          23,
          32.5,
          35.7,
          17.3,
          32.4,
          35.3,
          31.3,
          10.1,
          17,
          23.3,
          40.3,
          24.8,
          33.4,
          25.1,
          25.2,
          33.7,
          27.6,
          30.7,
          24.7,
          18.1,
          23.4,
          29.9,
          27.7,
          19.2,
          25.6,
          37.9,
          12.1,
          21.7,
          20.3,
          20.3,
          40.4,
          32.8,
          31.3,
          39.5,
          25.5,
          22.5,
          40.7,
          29.6,
          10.5,
          18.1,
          36,
          37.9,
          31.2,
          45.1,
          22.9,
          22.2,
          23.2,
          22.4,
          15.3,
          19.7,
          28.9,
          20.3,
          22.9,
          24.4,
          24,
          27.5,
          27.8,
          28.5,
          40,
          19.3,
          23,
          17.8,
          24.3,
          10.4,
          20.6,
          14.3,
          13.2,
          17.3,
          16.5,
          24.4,
          24.8,
          17.2,
          21.1,
          26.6,
          14.7,
          24.8,
          28.1,
          34.7,
          38.8,
          25.2,
          20.7,
          25.1,
          23.4,
          18.4,
          27.1,
          16.8,
          13.7,
          29,
          25.8,
          24,
          20.1,
          29.4,
          6.5,
          13.7,
          16.5,
          15.7,
          18.2,
          18.8,
          20.5,
          25.1,
          17.3,
          22.2,
          21.6,
          12,
          13.6,
          15.2,
          33.1,
          28.5,
          20.6,
          21.6,
          12.9,
          19.1,
          17.2,
          17.1,
          18,
          20.3,
          32.3,
          27.5,
          24.6,
          14.3,
          27.3,
          10,
          28.5,
          16.6,
          27.6,
          17.8,
          40.1,
          32.9,
          42.6,
          18.9,
          22.5,
          16.3,
          16.9,
          25.7,
          18.1,
          21.6,
          15.2,
          17.3,
          17.3,
          10.9,
          22.8,
          18.4,
          16.2,
          22,
          22.3,
          10.6,
          11.8,
          20.2,
          21.8,
          19.4,
          17,
          17.9,
          16.3,
          27.5,
          22.4,
          17.4,
          8
         ],
         "yaxis": "y"
        },
        {
         "marker": {
          "color": [
           1,
           2,
           3,
           4,
           5,
           6,
           7,
           8,
           9,
           10,
           11,
           12,
           13,
           14,
           15,
           16,
           17,
           18,
           19,
           20,
           21,
           22,
           23,
           24,
           25,
           26,
           27,
           28,
           29,
           30,
           31,
           32,
           33,
           34,
           35,
           36,
           37,
           38,
           39,
           40,
           41,
           42,
           43,
           44,
           45,
           46,
           47,
           48,
           49,
           50,
           51,
           52,
           53,
           54,
           55,
           56,
           57,
           58,
           59,
           60,
           61,
           62,
           63,
           64,
           65,
           66,
           67,
           68,
           69,
           70,
           71,
           72,
           73,
           74,
           75,
           76,
           77,
           78,
           79,
           80,
           81,
           82,
           83,
           84,
           85,
           86,
           87,
           88,
           89,
           90,
           91,
           92,
           93,
           94,
           95,
           96,
           97,
           98,
           99,
           100,
           101,
           102,
           103,
           104,
           105,
           106,
           107,
           108,
           109,
           110,
           111,
           112,
           113,
           114,
           115,
           116,
           117,
           118,
           119,
           120,
           121,
           122,
           123,
           124,
           125,
           126,
           127,
           128,
           129,
           130,
           131,
           132,
           133,
           134,
           135,
           136,
           137,
           138,
           139,
           140,
           141,
           142,
           143,
           144,
           145,
           146,
           147,
           148,
           149,
           150,
           151,
           152,
           153,
           154,
           155,
           156,
           157,
           158,
           159,
           160,
           161,
           162,
           163,
           164,
           165,
           166,
           167,
           168,
           169,
           170,
           171,
           172,
           173,
           174,
           175,
           176,
           177,
           178,
           179,
           180,
           181,
           182,
           183,
           184,
           185,
           186,
           187,
           188,
           189,
           190,
           191,
           192,
           193,
           194,
           195,
           196,
           197,
           198,
           199,
           200,
           201,
           202,
           203,
           204,
           205,
           206,
           207,
           208,
           209,
           210,
           211,
           212,
           213,
           214,
           215,
           216,
           217,
           218,
           219,
           220,
           221,
           222,
           223,
           224,
           225,
           226,
           227,
           228,
           229,
           230,
           231,
           232,
           233,
           234,
           235,
           236,
           237,
           238,
           239,
           240,
           241,
           242,
           243,
           244,
           245,
           246,
           247,
           248,
           249,
           250,
           251,
           252,
           253,
           254,
           255,
           256,
           257,
           258,
           259,
           260,
           261,
           262,
           263,
           264,
           265,
           266,
           267,
           268,
           269,
           270,
           271,
           272,
           273,
           274,
           275,
           276,
           277,
           278,
           279,
           280,
           281,
           282,
           283,
           284,
           285,
           286,
           287,
           288,
           289,
           290,
           291,
           292,
           293,
           294,
           295,
           296,
           297,
           298,
           299,
           300,
           301,
           302,
           303,
           304,
           305,
           306,
           307,
           308,
           309,
           310,
           311,
           312,
           313,
           314,
           315,
           316,
           317,
           318,
           319,
           320,
           321,
           322,
           323,
           324,
           325,
           326,
           327,
           328,
           329,
           330,
           331,
           332,
           333,
           334,
           335,
           336,
           337,
           338,
           339,
           340,
           341,
           342,
           343,
           344,
           345,
           346,
           347,
           348,
           349,
           350,
           351,
           352,
           353,
           354,
           355,
           356,
           357,
           358,
           359,
           360,
           361,
           362,
           363,
           364,
           365,
           366,
           367,
           368,
           369,
           370,
           371,
           372,
           373,
           374,
           375,
           376,
           377,
           378,
           379,
           380,
           381,
           382,
           383,
           384,
           385,
           386,
           387,
           388,
           389,
           390,
           391,
           392,
           393,
           394,
           395,
           396,
           397,
           398,
           399,
           400,
           401
          ],
          "colorscale": [
           [
            0,
            "rgb(12, 51, 131)"
           ],
           [
            1,
            "rgb(217, 30, 30)"
           ]
          ],
          "showscale": true,
          "size": 6
         },
         "mode": "markers",
         "showlegend": false,
         "type": "scatter",
         "x": [
          "67.0",
          "67.6",
          "90.7",
          "69.0",
          "87.8",
          "84.3",
          "61.2",
          "58.5",
          "92.7",
          "59.8",
          "65.2",
          "49.2",
          "96.6",
          "68.3",
          "59.7",
          "43.8",
          "49.8",
          "50.5",
          "59.0",
          "71.2",
          "36.7",
          "90.6",
          "32.4",
          "59.3",
          "94.9",
          "47.9",
          "68.9",
          "33.1",
          "56.4",
          "43.9",
          "33.6",
          "84.8",
          "81.3",
          "87.4",
          "98.8",
          "84.3",
          "64.3",
          "41.2",
          "79.0",
          "87.0",
          "37.0",
          "46.5",
          "81.9",
          "60.6",
          "91.3",
          "33.8",
          "35.3",
          "53.7",
          "44.6",
          "30.3",
          "77.8",
          "34.9",
          "82.0",
          "37.0",
          "62.3",
          "52.9",
          "47.8",
          "37.4",
          "29.0",
          "83.6",
          "92.5",
          "94.5",
          "50.1",
          "59.5",
          "80.4",
          "36.0",
          "53.9",
          "51.5",
          "70.8",
          "63.1",
          "77.9",
          "66.2",
          "78.7",
          "76.6",
          "91.2",
          "42.7",
          "60.5",
          "81.9",
          "52.9",
          "55.7",
          "56.6",
          "55.0",
          "80.4",
          "79.6",
          "38.7",
          "38.8",
          "51.4",
          "51.1",
          "56.1",
          "49.1",
          "40.3",
          "32.2",
          "42.9",
          "69.4",
          "78.8",
          "28.3",
          "39.1",
          "53.2",
          "64.0",
          "57.5",
          "89.7",
          "64.3",
          "64.7",
          "49.7",
          "85.7",
          "86.9",
          "88.6",
          "96.8",
          "54.6",
          "83.5",
          "90.5",
          "83.6",
          "76.7",
          "53.0",
          "75.0",
          "34.4",
          "56.1",
          "94.4",
          "70.1",
          "62.7",
          "79.7",
          "55.5",
          "74.8",
          "73.4",
          "76.7",
          "54.6",
          "84.0",
          "32.2",
          "64.0",
          "31.8",
          "84.7",
          "80.7",
          "44.8",
          "82.4",
          "44.7",
          "85.1",
          "50.6",
          "83.9",
          "54.1",
          "61.6",
          "52.6",
          "49.1",
          "37.0",
          "69.0",
          "34.3",
          "67.6",
          "54.7",
          "35.8",
          "75.8",
          "37.1",
          "61.6",
          "33.1",
          "66.3",
          "79.8",
          "27.5",
          "56.8",
          "29.1",
          "79.5",
          "87.3",
          "71.8",
          "64.4",
          "27.5",
          "56.7",
          "79.3",
          "37.3",
          "60.1",
          "63.2",
          "29.7",
          "56.7",
          "61.0",
          "70.6",
          "59.7",
          "43.3",
          "70.1",
          "87.3",
          "31.7",
          "41.2",
          "57.3",
          "84.1",
          "67.4",
          "40.6",
          "29.5",
          "44.6",
          "91.0",
          "54.7",
          "60.3",
          "27.6",
          "60.5",
          "46.1",
          "63.2",
          "57.0",
          "71.3",
          "37.4",
          "40.6",
          "54.8",
          "60.4",
          "55.8",
          "76.5",
          "83.9",
          "63.0",
          "39.9",
          "44.6",
          "69.3",
          "55.6",
          "53.3",
          "69.9",
          "35.9",
          "73.8",
          "60.6",
          "54.1",
          "47.8",
          "65.3",
          "64.5",
          "53.4",
          "93.4",
          "75.0",
          "26.3",
          "69.5",
          "25.3",
          "55.4",
          "50.7",
          "67.2",
          "79.4",
          "26.0",
          "26.5",
          "35.7",
          "46.4",
          "84.4",
          "88.8",
          "61.1",
          "71.6",
          "55.7",
          "58.7",
          "31.8",
          "42.8",
          "61.4",
          "39.6",
          "70.4",
          "39.5",
          "79.4",
          "63.1",
          "46.8",
          "44.2",
          "57.0",
          "40.6",
          "86.9",
          "63.7",
          "50.2",
          "75.9",
          "59.7",
          "59.4",
          "48.7",
          "73.1",
          "50.2",
          "24.8",
          "71.7",
          "55.4",
          "88.6",
          "49.6",
          "59.6",
          "53.0",
          "59.4",
          "59.1",
          "48.2",
          "32.2",
          "70.6",
          "81.5",
          "43.5",
          "40.3",
          "41.0",
          "54.6",
          "66.3",
          "57.3",
          "39.3",
          "63.1",
          "62.5",
          "30.4",
          "18.2",
          "59.1",
          "56.6",
          "30.7",
          "54.7",
          "29.2",
          "51.3",
          "69.8",
          "23.9",
          "47.8",
          "62.2",
          "21.8",
          "70.8",
          "43.1",
          "26.0",
          "49.0",
          "84.4",
          "35.3",
          "73.3",
          "37.4",
          "47.8",
          "80.8",
          "37.3",
          "80.4",
          "84.2",
          "28.9",
          "48.8",
          "73.1",
          "45.5",
          "53.9",
          "29.1",
          "71.8",
          "42.2",
          "62.3",
          "59.4",
          "41.5",
          "49.8",
          "89.2",
          "43.8",
          "36.7",
          "42.9",
          "44.4",
          "26.9",
          "37.5",
          "19.4",
          "20.7",
          "37.0",
          "29.7",
          "76.1",
          "88.2",
          "52.1",
          "38.8",
          "47.0",
          "49.2",
          "86.7",
          "33.1",
          "47.2",
          "32.2",
          "43.4",
          "45.1",
          "20.7",
          "34.8",
          "30.0",
          "40.4",
          "36.7",
          "67.1",
          "66.9",
          "59.3",
          "45.6",
          "36.1",
          "43.7",
          "41.6",
          "30.7",
          "21.5",
          "65.8",
          "66.5",
          "79.7",
          "53.9",
          "48.6",
          "52.1",
          "91.3",
          "36.0",
          "35.8",
          "48.4",
          "25.2",
          "19.5",
          "16.6",
          "20.0",
          "22.5",
          "26.1",
          "34.5",
          "50.9",
          "85.3",
          "26.7",
          "24.2",
          "26.7",
          "82.6",
          "53.6",
          "86.9",
          "60.0",
          "50.3",
          "38.1",
          "44.1",
          "42.1",
          "37.4",
          "64.8",
          "74.9",
          "46.8",
          "69.1",
          "49.7",
          "29.6",
          "46.2",
          "73.3",
          "48.0",
          "34.3",
          "46.3",
          "21.0",
          "80.3",
          "54.5",
          "43.1",
          "36.0",
          "50.1",
          "33.1",
          "21.4"
         ],
         "xaxis": "x2",
         "y": [
          98.1,
          98.6,
          97.7,
          96.7,
          95.6,
          88.2,
          94.7,
          96.7,
          88.3,
          90.8,
          89.9,
          90.5,
          90.2,
          79.4,
          84.2,
          82,
          86.5,
          75.2,
          83.8,
          85.1,
          78.9,
          80.4,
          85.1,
          74.9,
          78.1,
          68.9,
          71.2,
          72,
          69.1,
          79,
          71.3,
          69,
          70.9,
          74.2,
          56.9,
          62.9,
          61.4,
          62.4,
          69.9,
          62.3,
          66.6,
          55.2,
          72.6,
          68,
          70.9,
          64.7,
          58.6,
          61.9,
          68.3,
          77.1,
          66.8,
          63.2,
          58.7,
          54.2,
          63.6,
          59.7,
          46.7,
          64.8,
          68.4,
          60.8,
          55.9,
          47.1,
          46,
          58.2,
          58.4,
          49.3,
          48,
          51.1,
          37.1,
          45.4,
          71.4,
          53.7,
          46.8,
          44.7,
          41.1,
          44.6,
          55.4,
          36.2,
          54.8,
          52.6,
          58,
          49.4,
          40.7,
          54.4,
          36.9,
          51.4,
          38.5,
          33.9,
          41.7,
          51.6,
          49.1,
          46.3,
          32.4,
          43.2,
          40.5,
          38.2,
          38.3,
          45,
          37.4,
          53,
          48.1,
          50.5,
          30,
          48.1,
          45.8,
          33.1,
          32.9,
          37.2,
          31.9,
          51.9,
          35.9,
          30.4,
          44.4,
          44.7,
          33.8,
          37.4,
          50.8,
          22.4,
          48.5,
          33.1,
          28.2,
          29.2,
          39.1,
          47.1,
          35.3,
          29.1,
          44.8,
          52.1,
          53.5,
          35.9,
          36.1,
          36.9,
          39.1,
          34.1,
          42,
          39.9,
          43.2,
          30.3,
          27.6,
          46.7,
          26.7,
          51.9,
          52.9,
          47.1,
          45.3,
          39.1,
          29.1,
          50.2,
          39.8,
          35.1,
          27.5,
          35.4,
          47.5,
          32.7,
          57.3,
          29.9,
          48,
          33.2,
          38.1,
          34.4,
          33.8,
          36.5,
          28.1,
          40.4,
          36.9,
          34.9,
          28.3,
          47.3,
          27.2,
          33.6,
          35.8,
          34.9,
          28.2,
          30.6,
          33.4,
          33.5,
          24.4,
          29.3,
          30.2,
          19.7,
          36.3,
          37.5,
          27.1,
          39.7,
          21.9,
          35.2,
          23.9,
          24.4,
          51.1,
          34.7,
          39.8,
          32.9,
          34,
          30.9,
          22.2,
          42.1,
          27.3,
          22.6,
          31.6,
          13.1,
          25.1,
          27.7,
          30.4,
          22.4,
          36.3,
          36.5,
          44.3,
          29.6,
          37.5,
          22,
          28.8,
          27.9,
          22.5,
          34.1,
          17.1,
          34,
          27.3,
          23.4,
          51.6,
          28.2,
          16,
          45.3,
          36.2,
          23.5,
          19.9,
          45.8,
          29.2,
          29.3,
          21.4,
          24.5,
          30,
          29.9,
          23.2,
          31.8,
          26.2,
          29.3,
          35,
          32.3,
          9.8,
          28.1,
          30.5,
          38.2,
          24.3,
          33.4,
          23,
          32.5,
          35.7,
          17.3,
          32.4,
          35.3,
          31.3,
          10.1,
          17,
          23.3,
          40.3,
          24.8,
          33.4,
          25.1,
          25.2,
          33.7,
          27.6,
          30.7,
          24.7,
          18.1,
          23.4,
          29.9,
          27.7,
          19.2,
          25.6,
          37.9,
          12.1,
          21.7,
          20.3,
          20.3,
          40.4,
          32.8,
          31.3,
          39.5,
          25.5,
          22.5,
          40.7,
          29.6,
          10.5,
          18.1,
          36,
          37.9,
          31.2,
          45.1,
          22.9,
          22.2,
          23.2,
          22.4,
          15.3,
          19.7,
          28.9,
          20.3,
          22.9,
          24.4,
          24,
          27.5,
          27.8,
          28.5,
          40,
          19.3,
          23,
          17.8,
          24.3,
          10.4,
          20.6,
          14.3,
          13.2,
          17.3,
          16.5,
          24.4,
          24.8,
          17.2,
          21.1,
          26.6,
          14.7,
          24.8,
          28.1,
          34.7,
          38.8,
          25.2,
          20.7,
          25.1,
          23.4,
          18.4,
          27.1,
          16.8,
          13.7,
          29,
          25.8,
          24,
          20.1,
          29.4,
          6.5,
          13.7,
          16.5,
          15.7,
          18.2,
          18.8,
          20.5,
          25.1,
          17.3,
          22.2,
          21.6,
          12,
          13.6,
          15.2,
          33.1,
          28.5,
          20.6,
          21.6,
          12.9,
          19.1,
          17.2,
          17.1,
          18,
          20.3,
          32.3,
          27.5,
          24.6,
          14.3,
          27.3,
          10,
          28.5,
          16.6,
          27.6,
          17.8,
          40.1,
          32.9,
          42.6,
          18.9,
          22.5,
          16.3,
          16.9,
          25.7,
          18.1,
          21.6,
          15.2,
          17.3,
          17.3,
          10.9,
          22.8,
          18.4,
          16.2,
          22,
          22.3,
          10.6,
          11.8,
          20.2,
          21.8,
          19.4,
          17,
          17.9,
          16.3,
          27.5,
          22.4,
          17.4,
          8
         ],
         "yaxis": "y2"
        },
        {
         "marker": {
          "color": [
           1,
           2,
           3,
           4,
           5,
           6,
           7,
           8,
           9,
           10,
           11,
           12,
           13,
           14,
           15,
           16,
           17,
           18,
           19,
           20,
           21,
           22,
           23,
           24,
           25,
           26,
           27,
           28,
           29,
           30,
           31,
           32,
           33,
           34,
           35,
           36,
           37,
           38,
           39,
           40,
           41,
           42,
           43,
           44,
           45,
           46,
           47,
           48,
           49,
           50,
           51,
           52,
           53,
           54,
           55,
           56,
           57,
           58,
           59,
           60,
           61,
           62,
           63,
           64,
           65,
           66,
           67,
           68,
           69,
           70,
           71,
           72,
           73,
           74,
           75,
           76,
           77,
           78,
           79,
           80,
           81,
           82,
           83,
           84,
           85,
           86,
           87,
           88,
           89,
           90,
           91,
           92,
           93,
           94,
           95,
           96,
           97,
           98,
           99,
           100,
           101,
           102,
           103,
           104,
           105,
           106,
           107,
           108,
           109,
           110,
           111,
           112,
           113,
           114,
           115,
           116,
           117,
           118,
           119,
           120,
           121,
           122,
           123,
           124,
           125,
           126,
           127,
           128,
           129,
           130,
           131,
           132,
           133,
           134,
           135,
           136,
           137,
           138,
           139,
           140,
           141,
           142,
           143,
           144,
           145,
           146,
           147,
           148,
           149,
           150,
           151,
           152,
           153,
           154,
           155,
           156,
           157,
           158,
           159,
           160,
           161,
           162,
           163,
           164,
           165,
           166,
           167,
           168,
           169,
           170,
           171,
           172,
           173,
           174,
           175,
           176,
           177,
           178,
           179,
           180,
           181,
           182,
           183,
           184,
           185,
           186,
           187,
           188,
           189,
           190,
           191,
           192,
           193,
           194,
           195,
           196,
           197,
           198,
           199,
           200,
           201,
           202,
           203,
           204,
           205,
           206,
           207,
           208,
           209,
           210,
           211,
           212,
           213,
           214,
           215,
           216,
           217,
           218,
           219,
           220,
           221,
           222,
           223,
           224,
           225,
           226,
           227,
           228,
           229,
           230,
           231,
           232,
           233,
           234,
           235,
           236,
           237,
           238,
           239,
           240,
           241,
           242,
           243,
           244,
           245,
           246,
           247,
           248,
           249,
           250,
           251,
           252,
           253,
           254,
           255,
           256,
           257,
           258,
           259,
           260,
           261,
           262,
           263,
           264,
           265,
           266,
           267,
           268,
           269,
           270,
           271,
           272,
           273,
           274,
           275,
           276,
           277,
           278,
           279,
           280,
           281,
           282,
           283,
           284,
           285,
           286,
           287,
           288,
           289,
           290,
           291,
           292,
           293,
           294,
           295,
           296,
           297,
           298,
           299,
           300,
           301,
           302,
           303,
           304,
           305,
           306,
           307,
           308,
           309,
           310,
           311,
           312,
           313,
           314,
           315,
           316,
           317,
           318,
           319,
           320,
           321,
           322,
           323,
           324,
           325,
           326,
           327,
           328,
           329,
           330,
           331,
           332,
           333,
           334,
           335,
           336,
           337,
           338,
           339,
           340,
           341,
           342,
           343,
           344,
           345,
           346,
           347,
           348,
           349,
           350,
           351,
           352,
           353,
           354,
           355,
           356,
           357,
           358,
           359,
           360,
           361,
           362,
           363,
           364,
           365,
           366,
           367,
           368,
           369,
           370,
           371,
           372,
           373,
           374,
           375,
           376,
           377,
           378,
           379,
           380,
           381,
           382,
           383,
           384,
           385,
           386,
           387,
           388,
           389,
           390,
           391,
           392,
           393,
           394,
           395,
           396,
           397,
           398,
           399,
           400,
           401
          ],
          "colorscale": [
           [
            0,
            "rgb(12, 51, 131)"
           ],
           [
            1,
            "rgb(217, 30, 30)"
           ]
          ],
          "showscale": false,
          "size": 6
         },
         "mode": "markers",
         "showlegend": false,
         "type": "scatter",
         "x": [
          "94.3",
          "93.3",
          "93.2",
          "92.9",
          "92.0",
          "91.9",
          "90.9",
          "89.5",
          "87.5",
          "87.5",
          "87.1",
          "85.5",
          "84.6",
          "84.4",
          "83.0",
          "81.0",
          "80.9",
          "79.9",
          "79.4",
          "79.3",
          "79.2",
          "78.7",
          "76.1",
          "74.3",
          "73.3",
          "73.2",
          "72.8",
          "72.3",
          "71.9",
          "71.9",
          "71.9",
          "71.8",
          "71.2",
          "70.9",
          "70.9",
          "70.4",
          "70.0",
          "69.9",
          "69.6",
          "69.4",
          "68.6",
          "67.8",
          "67.5",
          "66.8",
          "66.5",
          "65.9",
          "65.9",
          "65.2",
          "65.1",
          "64.8",
          "64.7",
          "64.5",
          "64.5",
          "64.1",
          "63.7",
          "63.7",
          "63.6",
          "62.9",
          "62.8",
          "62.7",
          "62.2",
          "62.2",
          "61.9",
          "61.3",
          "61.2",
          "61.1",
          "61.0",
          "60.7",
          "59.8",
          "59.6",
          "59.2",
          "59.1",
          "59.0",
          "58.9",
          "58.4",
          "58.4",
          "58.2",
          "58.1",
          "58.0",
          "57.9",
          "57.6",
          "57.3",
          "56.9",
          "56.9",
          "56.6",
          "56.5",
          "56.5",
          "56.4",
          "56.4",
          "56.2",
          "56.1",
          "56.1",
          "55.5",
          "55.3",
          "55.3",
          "55.2",
          "55.1",
          "54.6",
          "54.6",
          "54.6",
          "54.3",
          "54.0",
          "53.9",
          "53.9",
          "53.9",
          "53.9",
          "53.8",
          "53.8",
          "53.7",
          "53.7",
          "53.6",
          "53.6",
          "53.4",
          "53.4",
          "53.4",
          "53.2",
          "53.1",
          "53.0",
          "52.9",
          "52.8",
          "52.7",
          "52.7",
          "52.7",
          "52.6",
          "52.6",
          "52.5",
          "52.5",
          "52.5",
          "52.4",
          "52.1",
          "52.0",
          "51.9",
          "51.9",
          "51.9",
          "51.6",
          "51.4",
          "51.4",
          "51.2",
          "51.1",
          "51.0",
          "50.9",
          "50.9",
          "50.9",
          "50.5",
          "50.5",
          "50.4",
          "50.3",
          "50.2",
          "50.2",
          "50.1",
          "50.1",
          "50.0",
          "49.9",
          "49.7",
          "49.3",
          "49.2",
          "49.1",
          "49.1",
          "49.1",
          "49.0",
          "49.0",
          "48.6",
          "48.3",
          "48.2",
          "48.1",
          "48.1",
          "48.1",
          "48.1",
          "48.0",
          "47.9",
          "47.8",
          "47.8",
          "47.7",
          "47.7",
          "47.5",
          "47.5",
          "47.3",
          "47.1",
          "47.1",
          "47.0",
          "47.0",
          "46.9",
          "46.9",
          "46.9",
          "46.8",
          "46.7",
          "46.7",
          "46.6",
          "46.6",
          "46.6",
          "46.5",
          "46.3",
          "46.2",
          "46.2",
          "46.1",
          "46.0",
          "46.0",
          "45.9",
          "45.7",
          "45.6",
          "45.6",
          "-",
          "-",
          "-",
          "-",
          "-",
          "-",
          "-",
          "-",
          "-",
          "-",
          "-",
          "-",
          "-",
          "-",
          "-",
          "-",
          "-",
          "-",
          "-",
          "-",
          "-",
          "-",
          "-",
          "-",
          "-",
          "-",
          "-",
          "-",
          "-",
          "-",
          "-",
          "-",
          "-",
          "-",
          "-",
          "-",
          "-",
          "-",
          "-",
          "-",
          "-",
          "-",
          "-",
          "-",
          "-",
          "-",
          "-",
          "-",
          "-",
          "-",
          "-",
          "-",
          "-",
          "-",
          "-",
          "-",
          "-",
          "-",
          "-",
          "-",
          "-",
          "-",
          "-",
          "-",
          "-",
          "-",
          "-",
          "-",
          "-",
          "-",
          "-",
          "-",
          "-",
          "-",
          "-",
          "-",
          "-",
          "-",
          "-",
          "-",
          "-",
          "-",
          "-",
          "-",
          "-",
          "-",
          "-",
          "-",
          "-",
          "-",
          "-",
          "-",
          "-",
          "-",
          "-",
          "-",
          "-",
          "-",
          "-",
          "-",
          "-",
          "-",
          "-",
          "-",
          "-",
          "-",
          "-",
          "-",
          "-",
          "-",
          "-",
          "-",
          "-",
          "-",
          "-",
          "-",
          "-",
          "-",
          "-",
          "-",
          "-",
          "-",
          "-",
          "-",
          "-",
          "-",
          "-",
          "-",
          "-",
          "-",
          "-",
          "-",
          "-",
          "-",
          "-",
          "-",
          "-",
          "-",
          "-",
          "-",
          "-",
          "-",
          "-",
          "-",
          "-",
          "-",
          "-",
          "-",
          "-",
          "-",
          "-",
          "-",
          "-",
          "-",
          "-",
          "-",
          "-",
          "-",
          "-",
          "-",
          "-",
          "-",
          "-",
          "-",
          "-",
          "-",
          "-",
          "-",
          "-",
          "-",
          "-",
          "-",
          "-",
          "-",
          "-",
          "-",
          "-",
          "-",
          "-",
          "-",
          "-",
          "-",
          "-",
          "-",
          "-",
          "-",
          "-",
          "-",
          "-",
          "-",
          "-",
          "-",
          "-",
          "-",
          "-",
          "-",
          "-",
          "-",
          "-",
          "-"
         ],
         "xaxis": "x3",
         "y": [
          98.1,
          98.6,
          97.7,
          96.7,
          95.6,
          88.2,
          94.7,
          96.7,
          88.3,
          90.8,
          89.9,
          90.5,
          90.2,
          79.4,
          84.2,
          82,
          86.5,
          75.2,
          83.8,
          85.1,
          78.9,
          80.4,
          85.1,
          74.9,
          78.1,
          68.9,
          71.2,
          72,
          69.1,
          79,
          71.3,
          69,
          70.9,
          74.2,
          56.9,
          62.9,
          61.4,
          62.4,
          69.9,
          62.3,
          66.6,
          55.2,
          72.6,
          68,
          70.9,
          64.7,
          58.6,
          61.9,
          68.3,
          77.1,
          66.8,
          63.2,
          58.7,
          54.2,
          63.6,
          59.7,
          46.7,
          64.8,
          68.4,
          60.8,
          55.9,
          47.1,
          46,
          58.2,
          58.4,
          49.3,
          48,
          51.1,
          37.1,
          45.4,
          71.4,
          53.7,
          46.8,
          44.7,
          41.1,
          44.6,
          55.4,
          36.2,
          54.8,
          52.6,
          58,
          49.4,
          40.7,
          54.4,
          36.9,
          51.4,
          38.5,
          33.9,
          41.7,
          51.6,
          49.1,
          46.3,
          32.4,
          43.2,
          40.5,
          38.2,
          38.3,
          45,
          37.4,
          53,
          48.1,
          50.5,
          30,
          48.1,
          45.8,
          33.1,
          32.9,
          37.2,
          31.9,
          51.9,
          35.9,
          30.4,
          44.4,
          44.7,
          33.8,
          37.4,
          50.8,
          22.4,
          48.5,
          33.1,
          28.2,
          29.2,
          39.1,
          47.1,
          35.3,
          29.1,
          44.8,
          52.1,
          53.5,
          35.9,
          36.1,
          36.9,
          39.1,
          34.1,
          42,
          39.9,
          43.2,
          30.3,
          27.6,
          46.7,
          26.7,
          51.9,
          52.9,
          47.1,
          45.3,
          39.1,
          29.1,
          50.2,
          39.8,
          35.1,
          27.5,
          35.4,
          47.5,
          32.7,
          57.3,
          29.9,
          48,
          33.2,
          38.1,
          34.4,
          33.8,
          36.5,
          28.1,
          40.4,
          36.9,
          34.9,
          28.3,
          47.3,
          27.2,
          33.6,
          35.8,
          34.9,
          28.2,
          30.6,
          33.4,
          33.5,
          24.4,
          29.3,
          30.2,
          19.7,
          36.3,
          37.5,
          27.1,
          39.7,
          21.9,
          35.2,
          23.9,
          24.4,
          51.1,
          34.7,
          39.8,
          32.9,
          34,
          30.9,
          22.2,
          42.1,
          27.3,
          22.6,
          31.6,
          13.1,
          25.1,
          27.7,
          30.4,
          22.4,
          36.3,
          36.5,
          44.3,
          29.6,
          37.5,
          22,
          28.8,
          27.9,
          22.5,
          34.1,
          17.1,
          34,
          27.3,
          23.4,
          51.6,
          28.2,
          16,
          45.3,
          36.2,
          23.5,
          19.9,
          45.8,
          29.2,
          29.3,
          21.4,
          24.5,
          30,
          29.9,
          23.2,
          31.8,
          26.2,
          29.3,
          35,
          32.3,
          9.8,
          28.1,
          30.5,
          38.2,
          24.3,
          33.4,
          23,
          32.5,
          35.7,
          17.3,
          32.4,
          35.3,
          31.3,
          10.1,
          17,
          23.3,
          40.3,
          24.8,
          33.4,
          25.1,
          25.2,
          33.7,
          27.6,
          30.7,
          24.7,
          18.1,
          23.4,
          29.9,
          27.7,
          19.2,
          25.6,
          37.9,
          12.1,
          21.7,
          20.3,
          20.3,
          40.4,
          32.8,
          31.3,
          39.5,
          25.5,
          22.5,
          40.7,
          29.6,
          10.5,
          18.1,
          36,
          37.9,
          31.2,
          45.1,
          22.9,
          22.2,
          23.2,
          22.4,
          15.3,
          19.7,
          28.9,
          20.3,
          22.9,
          24.4,
          24,
          27.5,
          27.8,
          28.5,
          40,
          19.3,
          23,
          17.8,
          24.3,
          10.4,
          20.6,
          14.3,
          13.2,
          17.3,
          16.5,
          24.4,
          24.8,
          17.2,
          21.1,
          26.6,
          14.7,
          24.8,
          28.1,
          34.7,
          38.8,
          25.2,
          20.7,
          25.1,
          23.4,
          18.4,
          27.1,
          16.8,
          13.7,
          29,
          25.8,
          24,
          20.1,
          29.4,
          6.5,
          13.7,
          16.5,
          15.7,
          18.2,
          18.8,
          20.5,
          25.1,
          17.3,
          22.2,
          21.6,
          12,
          13.6,
          15.2,
          33.1,
          28.5,
          20.6,
          21.6,
          12.9,
          19.1,
          17.2,
          17.1,
          18,
          20.3,
          32.3,
          27.5,
          24.6,
          14.3,
          27.3,
          10,
          28.5,
          16.6,
          27.6,
          17.8,
          40.1,
          32.9,
          42.6,
          18.9,
          22.5,
          16.3,
          16.9,
          25.7,
          18.1,
          21.6,
          15.2,
          17.3,
          17.3,
          10.9,
          22.8,
          18.4,
          16.2,
          22,
          22.3,
          10.6,
          11.8,
          20.2,
          21.8,
          19.4,
          17,
          17.9,
          16.3,
          27.5,
          22.4,
          17.4,
          8
         ],
         "yaxis": "y3"
        },
        {
         "marker": {
          "color": [
           1,
           2,
           3,
           4,
           5,
           6,
           7,
           8,
           9,
           10,
           11,
           12,
           13,
           14,
           15,
           16,
           17,
           18,
           19,
           20,
           21,
           22,
           23,
           24,
           25,
           26,
           27,
           28,
           29,
           30,
           31,
           32,
           33,
           34,
           35,
           36,
           37,
           38,
           39,
           40,
           41,
           42,
           43,
           44,
           45,
           46,
           47,
           48,
           49,
           50,
           51,
           52,
           53,
           54,
           55,
           56,
           57,
           58,
           59,
           60,
           61,
           62,
           63,
           64,
           65,
           66,
           67,
           68,
           69,
           70,
           71,
           72,
           73,
           74,
           75,
           76,
           77,
           78,
           79,
           80,
           81,
           82,
           83,
           84,
           85,
           86,
           87,
           88,
           89,
           90,
           91,
           92,
           93,
           94,
           95,
           96,
           97,
           98,
           99,
           100,
           101,
           102,
           103,
           104,
           105,
           106,
           107,
           108,
           109,
           110,
           111,
           112,
           113,
           114,
           115,
           116,
           117,
           118,
           119,
           120,
           121,
           122,
           123,
           124,
           125,
           126,
           127,
           128,
           129,
           130,
           131,
           132,
           133,
           134,
           135,
           136,
           137,
           138,
           139,
           140,
           141,
           142,
           143,
           144,
           145,
           146,
           147,
           148,
           149,
           150,
           151,
           152,
           153,
           154,
           155,
           156,
           157,
           158,
           159,
           160,
           161,
           162,
           163,
           164,
           165,
           166,
           167,
           168,
           169,
           170,
           171,
           172,
           173,
           174,
           175,
           176,
           177,
           178,
           179,
           180,
           181,
           182,
           183,
           184,
           185,
           186,
           187,
           188,
           189,
           190,
           191,
           192,
           193,
           194,
           195,
           196,
           197,
           198,
           199,
           200,
           201,
           202,
           203,
           204,
           205,
           206,
           207,
           208,
           209,
           210,
           211,
           212,
           213,
           214,
           215,
           216,
           217,
           218,
           219,
           220,
           221,
           222,
           223,
           224,
           225,
           226,
           227,
           228,
           229,
           230,
           231,
           232,
           233,
           234,
           235,
           236,
           237,
           238,
           239,
           240,
           241,
           242,
           243,
           244,
           245,
           246,
           247,
           248,
           249,
           250,
           251,
           252,
           253,
           254,
           255,
           256,
           257,
           258,
           259,
           260,
           261,
           262,
           263,
           264,
           265,
           266,
           267,
           268,
           269,
           270,
           271,
           272,
           273,
           274,
           275,
           276,
           277,
           278,
           279,
           280,
           281,
           282,
           283,
           284,
           285,
           286,
           287,
           288,
           289,
           290,
           291,
           292,
           293,
           294,
           295,
           296,
           297,
           298,
           299,
           300,
           301,
           302,
           303,
           304,
           305,
           306,
           307,
           308,
           309,
           310,
           311,
           312,
           313,
           314,
           315,
           316,
           317,
           318,
           319,
           320,
           321,
           322,
           323,
           324,
           325,
           326,
           327,
           328,
           329,
           330,
           331,
           332,
           333,
           334,
           335,
           336,
           337,
           338,
           339,
           340,
           341,
           342,
           343,
           344,
           345,
           346,
           347,
           348,
           349,
           350,
           351,
           352,
           353,
           354,
           355,
           356,
           357,
           358,
           359,
           360,
           361,
           362,
           363,
           364,
           365,
           366,
           367,
           368,
           369,
           370,
           371,
           372,
           373,
           374,
           375,
           376,
           377,
           378,
           379,
           380,
           381,
           382,
           383,
           384,
           385,
           386,
           387,
           388,
           389,
           390,
           391,
           392,
           393,
           394,
           395,
           396,
           397,
           398,
           399,
           400,
           401
          ],
          "colorscale": [
           [
            0,
            "rgb(12, 51, 131)"
           ],
           [
            1,
            "rgb(217, 30, 30)"
           ]
          ],
          "showscale": false,
          "size": 6
         },
         "mode": "markers",
         "showlegend": false,
         "type": "scatter",
         "x": [
          98.1,
          98.6,
          97.7,
          96.7,
          95.6,
          88.2,
          94.7,
          96.7,
          88.3,
          90.8,
          89.9,
          90.5,
          90.2,
          79.4,
          84.2,
          82,
          86.5,
          75.2,
          83.8,
          85.1,
          78.9,
          80.4,
          85.1,
          74.9,
          78.1,
          68.9,
          71.2,
          72,
          69.1,
          79,
          71.3,
          69,
          70.9,
          74.2,
          56.9,
          62.9,
          61.4,
          62.4,
          69.9,
          62.3,
          66.6,
          55.2,
          72.6,
          68,
          70.9,
          64.7,
          58.6,
          61.9,
          68.3,
          77.1,
          66.8,
          63.2,
          58.7,
          54.2,
          63.6,
          59.7,
          46.7,
          64.8,
          68.4,
          60.8,
          55.9,
          47.1,
          46,
          58.2,
          58.4,
          49.3,
          48,
          51.1,
          37.1,
          45.4,
          71.4,
          53.7,
          46.8,
          44.7,
          41.1,
          44.6,
          55.4,
          36.2,
          54.8,
          52.6,
          58,
          49.4,
          40.7,
          54.4,
          36.9,
          51.4,
          38.5,
          33.9,
          41.7,
          51.6,
          49.1,
          46.3,
          32.4,
          43.2,
          40.5,
          38.2,
          38.3,
          45,
          37.4,
          53,
          48.1,
          50.5,
          30,
          48.1,
          45.8,
          33.1,
          32.9,
          37.2,
          31.9,
          51.9,
          35.9,
          30.4,
          44.4,
          44.7,
          33.8,
          37.4,
          50.8,
          22.4,
          48.5,
          33.1,
          28.2,
          29.2,
          39.1,
          47.1,
          35.3,
          29.1,
          44.8,
          52.1,
          53.5,
          35.9,
          36.1,
          36.9,
          39.1,
          34.1,
          42,
          39.9,
          43.2,
          30.3,
          27.6,
          46.7,
          26.7,
          51.9,
          52.9,
          47.1,
          45.3,
          39.1,
          29.1,
          50.2,
          39.8,
          35.1,
          27.5,
          35.4,
          47.5,
          32.7,
          57.3,
          29.9,
          48,
          33.2,
          38.1,
          34.4,
          33.8,
          36.5,
          28.1,
          40.4,
          36.9,
          34.9,
          28.3,
          47.3,
          27.2,
          33.6,
          35.8,
          34.9,
          28.2,
          30.6,
          33.4,
          33.5,
          24.4,
          29.3,
          30.2,
          19.7,
          36.3,
          37.5,
          27.1,
          39.7,
          21.9,
          35.2,
          23.9,
          24.4,
          51.1,
          34.7,
          39.8,
          32.9,
          34,
          30.9,
          22.2,
          42.1,
          27.3,
          22.6,
          31.6,
          13.1,
          25.1,
          27.7,
          30.4,
          22.4,
          36.3,
          36.5,
          44.3,
          29.6,
          37.5,
          22,
          28.8,
          27.9,
          22.5,
          34.1,
          17.1,
          34,
          27.3,
          23.4,
          51.6,
          28.2,
          16,
          45.3,
          36.2,
          23.5,
          19.9,
          45.8,
          29.2,
          29.3,
          21.4,
          24.5,
          30,
          29.9,
          23.2,
          31.8,
          26.2,
          29.3,
          35,
          32.3,
          9.8,
          28.1,
          30.5,
          38.2,
          24.3,
          33.4,
          23,
          32.5,
          35.7,
          17.3,
          32.4,
          35.3,
          31.3,
          10.1,
          17,
          23.3,
          40.3,
          24.8,
          33.4,
          25.1,
          25.2,
          33.7,
          27.6,
          30.7,
          24.7,
          18.1,
          23.4,
          29.9,
          27.7,
          19.2,
          25.6,
          37.9,
          12.1,
          21.7,
          20.3,
          20.3,
          40.4,
          32.8,
          31.3,
          39.5,
          25.5,
          22.5,
          40.7,
          29.6,
          10.5,
          18.1,
          36,
          37.9,
          31.2,
          45.1,
          22.9,
          22.2,
          23.2,
          22.4,
          15.3,
          19.7,
          28.9,
          20.3,
          22.9,
          24.4,
          24,
          27.5,
          27.8,
          28.5,
          40,
          19.3,
          23,
          17.8,
          24.3,
          10.4,
          20.6,
          14.3,
          13.2,
          17.3,
          16.5,
          24.4,
          24.8,
          17.2,
          21.1,
          26.6,
          14.7,
          24.8,
          28.1,
          34.7,
          38.8,
          25.2,
          20.7,
          25.1,
          23.4,
          18.4,
          27.1,
          16.8,
          13.7,
          29,
          25.8,
          24,
          20.1,
          29.4,
          6.5,
          13.7,
          16.5,
          15.7,
          18.2,
          18.8,
          20.5,
          25.1,
          17.3,
          22.2,
          21.6,
          12,
          13.6,
          15.2,
          33.1,
          28.5,
          20.6,
          21.6,
          12.9,
          19.1,
          17.2,
          17.1,
          18,
          20.3,
          32.3,
          27.5,
          24.6,
          14.3,
          27.3,
          10,
          28.5,
          16.6,
          27.6,
          17.8,
          40.1,
          32.9,
          42.6,
          18.9,
          22.5,
          16.3,
          16.9,
          25.7,
          18.1,
          21.6,
          15.2,
          17.3,
          17.3,
          10.9,
          22.8,
          18.4,
          16.2,
          22,
          22.3,
          10.6,
          11.8,
          20.2,
          21.8,
          19.4,
          17,
          17.9,
          16.3,
          27.5,
          22.4,
          17.4,
          8
         ],
         "xaxis": "x4",
         "y": [
          "67.0",
          "67.6",
          "90.7",
          "69.0",
          "87.8",
          "84.3",
          "61.2",
          "58.5",
          "92.7",
          "59.8",
          "65.2",
          "49.2",
          "96.6",
          "68.3",
          "59.7",
          "43.8",
          "49.8",
          "50.5",
          "59.0",
          "71.2",
          "36.7",
          "90.6",
          "32.4",
          "59.3",
          "94.9",
          "47.9",
          "68.9",
          "33.1",
          "56.4",
          "43.9",
          "33.6",
          "84.8",
          "81.3",
          "87.4",
          "98.8",
          "84.3",
          "64.3",
          "41.2",
          "79.0",
          "87.0",
          "37.0",
          "46.5",
          "81.9",
          "60.6",
          "91.3",
          "33.8",
          "35.3",
          "53.7",
          "44.6",
          "30.3",
          "77.8",
          "34.9",
          "82.0",
          "37.0",
          "62.3",
          "52.9",
          "47.8",
          "37.4",
          "29.0",
          "83.6",
          "92.5",
          "94.5",
          "50.1",
          "59.5",
          "80.4",
          "36.0",
          "53.9",
          "51.5",
          "70.8",
          "63.1",
          "77.9",
          "66.2",
          "78.7",
          "76.6",
          "91.2",
          "42.7",
          "60.5",
          "81.9",
          "52.9",
          "55.7",
          "56.6",
          "55.0",
          "80.4",
          "79.6",
          "38.7",
          "38.8",
          "51.4",
          "51.1",
          "56.1",
          "49.1",
          "40.3",
          "32.2",
          "42.9",
          "69.4",
          "78.8",
          "28.3",
          "39.1",
          "53.2",
          "64.0",
          "57.5",
          "89.7",
          "64.3",
          "64.7",
          "49.7",
          "85.7",
          "86.9",
          "88.6",
          "96.8",
          "54.6",
          "83.5",
          "90.5",
          "83.6",
          "76.7",
          "53.0",
          "75.0",
          "34.4",
          "56.1",
          "94.4",
          "70.1",
          "62.7",
          "79.7",
          "55.5",
          "74.8",
          "73.4",
          "76.7",
          "54.6",
          "84.0",
          "32.2",
          "64.0",
          "31.8",
          "84.7",
          "80.7",
          "44.8",
          "82.4",
          "44.7",
          "85.1",
          "50.6",
          "83.9",
          "54.1",
          "61.6",
          "52.6",
          "49.1",
          "37.0",
          "69.0",
          "34.3",
          "67.6",
          "54.7",
          "35.8",
          "75.8",
          "37.1",
          "61.6",
          "33.1",
          "66.3",
          "79.8",
          "27.5",
          "56.8",
          "29.1",
          "79.5",
          "87.3",
          "71.8",
          "64.4",
          "27.5",
          "56.7",
          "79.3",
          "37.3",
          "60.1",
          "63.2",
          "29.7",
          "56.7",
          "61.0",
          "70.6",
          "59.7",
          "43.3",
          "70.1",
          "87.3",
          "31.7",
          "41.2",
          "57.3",
          "84.1",
          "67.4",
          "40.6",
          "29.5",
          "44.6",
          "91.0",
          "54.7",
          "60.3",
          "27.6",
          "60.5",
          "46.1",
          "63.2",
          "57.0",
          "71.3",
          "37.4",
          "40.6",
          "54.8",
          "60.4",
          "55.8",
          "76.5",
          "83.9",
          "63.0",
          "39.9",
          "44.6",
          "69.3",
          "55.6",
          "53.3",
          "69.9",
          "35.9",
          "73.8",
          "60.6",
          "54.1",
          "47.8",
          "65.3",
          "64.5",
          "53.4",
          "93.4",
          "75.0",
          "26.3",
          "69.5",
          "25.3",
          "55.4",
          "50.7",
          "67.2",
          "79.4",
          "26.0",
          "26.5",
          "35.7",
          "46.4",
          "84.4",
          "88.8",
          "61.1",
          "71.6",
          "55.7",
          "58.7",
          "31.8",
          "42.8",
          "61.4",
          "39.6",
          "70.4",
          "39.5",
          "79.4",
          "63.1",
          "46.8",
          "44.2",
          "57.0",
          "40.6",
          "86.9",
          "63.7",
          "50.2",
          "75.9",
          "59.7",
          "59.4",
          "48.7",
          "73.1",
          "50.2",
          "24.8",
          "71.7",
          "55.4",
          "88.6",
          "49.6",
          "59.6",
          "53.0",
          "59.4",
          "59.1",
          "48.2",
          "32.2",
          "70.6",
          "81.5",
          "43.5",
          "40.3",
          "41.0",
          "54.6",
          "66.3",
          "57.3",
          "39.3",
          "63.1",
          "62.5",
          "30.4",
          "18.2",
          "59.1",
          "56.6",
          "30.7",
          "54.7",
          "29.2",
          "51.3",
          "69.8",
          "23.9",
          "47.8",
          "62.2",
          "21.8",
          "70.8",
          "43.1",
          "26.0",
          "49.0",
          "84.4",
          "35.3",
          "73.3",
          "37.4",
          "47.8",
          "80.8",
          "37.3",
          "80.4",
          "84.2",
          "28.9",
          "48.8",
          "73.1",
          "45.5",
          "53.9",
          "29.1",
          "71.8",
          "42.2",
          "62.3",
          "59.4",
          "41.5",
          "49.8",
          "89.2",
          "43.8",
          "36.7",
          "42.9",
          "44.4",
          "26.9",
          "37.5",
          "19.4",
          "20.7",
          "37.0",
          "29.7",
          "76.1",
          "88.2",
          "52.1",
          "38.8",
          "47.0",
          "49.2",
          "86.7",
          "33.1",
          "47.2",
          "32.2",
          "43.4",
          "45.1",
          "20.7",
          "34.8",
          "30.0",
          "40.4",
          "36.7",
          "67.1",
          "66.9",
          "59.3",
          "45.6",
          "36.1",
          "43.7",
          "41.6",
          "30.7",
          "21.5",
          "65.8",
          "66.5",
          "79.7",
          "53.9",
          "48.6",
          "52.1",
          "91.3",
          "36.0",
          "35.8",
          "48.4",
          "25.2",
          "19.5",
          "16.6",
          "20.0",
          "22.5",
          "26.1",
          "34.5",
          "50.9",
          "85.3",
          "26.7",
          "24.2",
          "26.7",
          "82.6",
          "53.6",
          "86.9",
          "60.0",
          "50.3",
          "38.1",
          "44.1",
          "42.1",
          "37.4",
          "64.8",
          "74.9",
          "46.8",
          "69.1",
          "49.7",
          "29.6",
          "46.2",
          "73.3",
          "48.0",
          "34.3",
          "46.3",
          "21.0",
          "80.3",
          "54.5",
          "43.1",
          "36.0",
          "50.1",
          "33.1",
          "21.4"
         ],
         "yaxis": "y4"
        },
        {
         "marker": {
          "color": "rgb(12, 51, 131)"
         },
         "showlegend": false,
         "type": "box",
         "xaxis": "x5",
         "y": [
          "67.0",
          "67.6",
          "90.7",
          "69.0",
          "87.8",
          "84.3",
          "61.2",
          "58.5",
          "92.7",
          "59.8",
          "65.2",
          "49.2",
          "96.6",
          "68.3",
          "59.7",
          "43.8",
          "49.8",
          "50.5",
          "59.0",
          "71.2",
          "36.7",
          "90.6",
          "32.4",
          "59.3",
          "94.9",
          "47.9",
          "68.9",
          "33.1",
          "56.4",
          "43.9",
          "33.6",
          "84.8",
          "81.3",
          "87.4",
          "98.8",
          "84.3",
          "64.3",
          "41.2",
          "79.0",
          "87.0",
          "37.0",
          "46.5",
          "81.9",
          "60.6",
          "91.3",
          "33.8",
          "35.3",
          "53.7",
          "44.6",
          "30.3",
          "77.8",
          "34.9",
          "82.0",
          "37.0",
          "62.3",
          "52.9",
          "47.8",
          "37.4",
          "29.0",
          "83.6",
          "92.5",
          "94.5",
          "50.1",
          "59.5",
          "80.4",
          "36.0",
          "53.9",
          "51.5",
          "70.8",
          "63.1",
          "77.9",
          "66.2",
          "78.7",
          "76.6",
          "91.2",
          "42.7",
          "60.5",
          "81.9",
          "52.9",
          "55.7",
          "56.6",
          "55.0",
          "80.4",
          "79.6",
          "38.7",
          "38.8",
          "51.4",
          "51.1",
          "56.1",
          "49.1",
          "40.3",
          "32.2",
          "42.9",
          "69.4",
          "78.8",
          "28.3",
          "39.1",
          "53.2",
          "64.0",
          "57.5",
          "89.7",
          "64.3",
          "64.7",
          "49.7",
          "85.7",
          "86.9",
          "88.6",
          "96.8",
          "54.6",
          "83.5",
          "90.5",
          "83.6",
          "76.7",
          "53.0",
          "75.0",
          "34.4",
          "56.1",
          "94.4",
          "70.1",
          "62.7",
          "79.7",
          "55.5",
          "74.8",
          "73.4",
          "76.7",
          "54.6",
          "84.0",
          "32.2",
          "64.0",
          "31.8",
          "84.7",
          "80.7",
          "44.8",
          "82.4",
          "44.7",
          "85.1",
          "50.6",
          "83.9",
          "54.1",
          "61.6",
          "52.6",
          "49.1",
          "37.0",
          "69.0",
          "34.3",
          "67.6",
          "54.7",
          "35.8",
          "75.8",
          "37.1",
          "61.6",
          "33.1",
          "66.3",
          "79.8",
          "27.5",
          "56.8",
          "29.1",
          "79.5",
          "87.3",
          "71.8",
          "64.4",
          "27.5",
          "56.7",
          "79.3",
          "37.3",
          "60.1",
          "63.2",
          "29.7",
          "56.7",
          "61.0",
          "70.6",
          "59.7",
          "43.3",
          "70.1",
          "87.3",
          "31.7",
          "41.2",
          "57.3",
          "84.1",
          "67.4",
          "40.6",
          "29.5",
          "44.6",
          "91.0",
          "54.7",
          "60.3",
          "27.6",
          "60.5",
          "46.1",
          "63.2",
          "57.0",
          "71.3",
          "37.4",
          "40.6",
          "54.8",
          "60.4",
          "55.8",
          "76.5",
          "83.9",
          "63.0",
          "39.9",
          "44.6",
          "69.3",
          "55.6",
          "53.3",
          "69.9",
          "35.9",
          "73.8",
          "60.6",
          "54.1",
          "47.8",
          "65.3",
          "64.5",
          "53.4",
          "93.4",
          "75.0",
          "26.3",
          "69.5",
          "25.3",
          "55.4",
          "50.7",
          "67.2",
          "79.4",
          "26.0",
          "26.5",
          "35.7",
          "46.4",
          "84.4",
          "88.8",
          "61.1",
          "71.6",
          "55.7",
          "58.7",
          "31.8",
          "42.8",
          "61.4",
          "39.6",
          "70.4",
          "39.5",
          "79.4",
          "63.1",
          "46.8",
          "44.2",
          "57.0",
          "40.6",
          "86.9",
          "63.7",
          "50.2",
          "75.9",
          "59.7",
          "59.4",
          "48.7",
          "73.1",
          "50.2",
          "24.8",
          "71.7",
          "55.4",
          "88.6",
          "49.6",
          "59.6",
          "53.0",
          "59.4",
          "59.1",
          "48.2",
          "32.2",
          "70.6",
          "81.5",
          "43.5",
          "40.3",
          "41.0",
          "54.6",
          "66.3",
          "57.3",
          "39.3",
          "63.1",
          "62.5",
          "30.4",
          "18.2",
          "59.1",
          "56.6",
          "30.7",
          "54.7",
          "29.2",
          "51.3",
          "69.8",
          "23.9",
          "47.8",
          "62.2",
          "21.8",
          "70.8",
          "43.1",
          "26.0",
          "49.0",
          "84.4",
          "35.3",
          "73.3",
          "37.4",
          "47.8",
          "80.8",
          "37.3",
          "80.4",
          "84.2",
          "28.9",
          "48.8",
          "73.1",
          "45.5",
          "53.9",
          "29.1",
          "71.8",
          "42.2",
          "62.3",
          "59.4",
          "41.5",
          "49.8",
          "89.2",
          "43.8",
          "36.7",
          "42.9",
          "44.4",
          "26.9",
          "37.5",
          "19.4",
          "20.7",
          "37.0",
          "29.7",
          "76.1",
          "88.2",
          "52.1",
          "38.8",
          "47.0",
          "49.2",
          "86.7",
          "33.1",
          "47.2",
          "32.2",
          "43.4",
          "45.1",
          "20.7",
          "34.8",
          "30.0",
          "40.4",
          "36.7",
          "67.1",
          "66.9",
          "59.3",
          "45.6",
          "36.1",
          "43.7",
          "41.6",
          "30.7",
          "21.5",
          "65.8",
          "66.5",
          "79.7",
          "53.9",
          "48.6",
          "52.1",
          "91.3",
          "36.0",
          "35.8",
          "48.4",
          "25.2",
          "19.5",
          "16.6",
          "20.0",
          "22.5",
          "26.1",
          "34.5",
          "50.9",
          "85.3",
          "26.7",
          "24.2",
          "26.7",
          "82.6",
          "53.6",
          "86.9",
          "60.0",
          "50.3",
          "38.1",
          "44.1",
          "42.1",
          "37.4",
          "64.8",
          "74.9",
          "46.8",
          "69.1",
          "49.7",
          "29.6",
          "46.2",
          "73.3",
          "48.0",
          "34.3",
          "46.3",
          "21.0",
          "80.3",
          "54.5",
          "43.1",
          "36.0",
          "50.1",
          "33.1",
          "21.4"
         ],
         "yaxis": "y5"
        },
        {
         "marker": {
          "color": [
           1,
           2,
           3,
           4,
           5,
           6,
           7,
           8,
           9,
           10,
           11,
           12,
           13,
           14,
           15,
           16,
           17,
           18,
           19,
           20,
           21,
           22,
           23,
           24,
           25,
           26,
           27,
           28,
           29,
           30,
           31,
           32,
           33,
           34,
           35,
           36,
           37,
           38,
           39,
           40,
           41,
           42,
           43,
           44,
           45,
           46,
           47,
           48,
           49,
           50,
           51,
           52,
           53,
           54,
           55,
           56,
           57,
           58,
           59,
           60,
           61,
           62,
           63,
           64,
           65,
           66,
           67,
           68,
           69,
           70,
           71,
           72,
           73,
           74,
           75,
           76,
           77,
           78,
           79,
           80,
           81,
           82,
           83,
           84,
           85,
           86,
           87,
           88,
           89,
           90,
           91,
           92,
           93,
           94,
           95,
           96,
           97,
           98,
           99,
           100,
           101,
           102,
           103,
           104,
           105,
           106,
           107,
           108,
           109,
           110,
           111,
           112,
           113,
           114,
           115,
           116,
           117,
           118,
           119,
           120,
           121,
           122,
           123,
           124,
           125,
           126,
           127,
           128,
           129,
           130,
           131,
           132,
           133,
           134,
           135,
           136,
           137,
           138,
           139,
           140,
           141,
           142,
           143,
           144,
           145,
           146,
           147,
           148,
           149,
           150,
           151,
           152,
           153,
           154,
           155,
           156,
           157,
           158,
           159,
           160,
           161,
           162,
           163,
           164,
           165,
           166,
           167,
           168,
           169,
           170,
           171,
           172,
           173,
           174,
           175,
           176,
           177,
           178,
           179,
           180,
           181,
           182,
           183,
           184,
           185,
           186,
           187,
           188,
           189,
           190,
           191,
           192,
           193,
           194,
           195,
           196,
           197,
           198,
           199,
           200,
           201,
           202,
           203,
           204,
           205,
           206,
           207,
           208,
           209,
           210,
           211,
           212,
           213,
           214,
           215,
           216,
           217,
           218,
           219,
           220,
           221,
           222,
           223,
           224,
           225,
           226,
           227,
           228,
           229,
           230,
           231,
           232,
           233,
           234,
           235,
           236,
           237,
           238,
           239,
           240,
           241,
           242,
           243,
           244,
           245,
           246,
           247,
           248,
           249,
           250,
           251,
           252,
           253,
           254,
           255,
           256,
           257,
           258,
           259,
           260,
           261,
           262,
           263,
           264,
           265,
           266,
           267,
           268,
           269,
           270,
           271,
           272,
           273,
           274,
           275,
           276,
           277,
           278,
           279,
           280,
           281,
           282,
           283,
           284,
           285,
           286,
           287,
           288,
           289,
           290,
           291,
           292,
           293,
           294,
           295,
           296,
           297,
           298,
           299,
           300,
           301,
           302,
           303,
           304,
           305,
           306,
           307,
           308,
           309,
           310,
           311,
           312,
           313,
           314,
           315,
           316,
           317,
           318,
           319,
           320,
           321,
           322,
           323,
           324,
           325,
           326,
           327,
           328,
           329,
           330,
           331,
           332,
           333,
           334,
           335,
           336,
           337,
           338,
           339,
           340,
           341,
           342,
           343,
           344,
           345,
           346,
           347,
           348,
           349,
           350,
           351,
           352,
           353,
           354,
           355,
           356,
           357,
           358,
           359,
           360,
           361,
           362,
           363,
           364,
           365,
           366,
           367,
           368,
           369,
           370,
           371,
           372,
           373,
           374,
           375,
           376,
           377,
           378,
           379,
           380,
           381,
           382,
           383,
           384,
           385,
           386,
           387,
           388,
           389,
           390,
           391,
           392,
           393,
           394,
           395,
           396,
           397,
           398,
           399,
           400,
           401
          ],
          "colorscale": [
           [
            0,
            "rgb(12, 51, 131)"
           ],
           [
            1,
            "rgb(217, 30, 30)"
           ]
          ],
          "showscale": false,
          "size": 6
         },
         "mode": "markers",
         "showlegend": false,
         "type": "scatter",
         "x": [
          "94.3",
          "93.3",
          "93.2",
          "92.9",
          "92.0",
          "91.9",
          "90.9",
          "89.5",
          "87.5",
          "87.5",
          "87.1",
          "85.5",
          "84.6",
          "84.4",
          "83.0",
          "81.0",
          "80.9",
          "79.9",
          "79.4",
          "79.3",
          "79.2",
          "78.7",
          "76.1",
          "74.3",
          "73.3",
          "73.2",
          "72.8",
          "72.3",
          "71.9",
          "71.9",
          "71.9",
          "71.8",
          "71.2",
          "70.9",
          "70.9",
          "70.4",
          "70.0",
          "69.9",
          "69.6",
          "69.4",
          "68.6",
          "67.8",
          "67.5",
          "66.8",
          "66.5",
          "65.9",
          "65.9",
          "65.2",
          "65.1",
          "64.8",
          "64.7",
          "64.5",
          "64.5",
          "64.1",
          "63.7",
          "63.7",
          "63.6",
          "62.9",
          "62.8",
          "62.7",
          "62.2",
          "62.2",
          "61.9",
          "61.3",
          "61.2",
          "61.1",
          "61.0",
          "60.7",
          "59.8",
          "59.6",
          "59.2",
          "59.1",
          "59.0",
          "58.9",
          "58.4",
          "58.4",
          "58.2",
          "58.1",
          "58.0",
          "57.9",
          "57.6",
          "57.3",
          "56.9",
          "56.9",
          "56.6",
          "56.5",
          "56.5",
          "56.4",
          "56.4",
          "56.2",
          "56.1",
          "56.1",
          "55.5",
          "55.3",
          "55.3",
          "55.2",
          "55.1",
          "54.6",
          "54.6",
          "54.6",
          "54.3",
          "54.0",
          "53.9",
          "53.9",
          "53.9",
          "53.9",
          "53.8",
          "53.8",
          "53.7",
          "53.7",
          "53.6",
          "53.6",
          "53.4",
          "53.4",
          "53.4",
          "53.2",
          "53.1",
          "53.0",
          "52.9",
          "52.8",
          "52.7",
          "52.7",
          "52.7",
          "52.6",
          "52.6",
          "52.5",
          "52.5",
          "52.5",
          "52.4",
          "52.1",
          "52.0",
          "51.9",
          "51.9",
          "51.9",
          "51.6",
          "51.4",
          "51.4",
          "51.2",
          "51.1",
          "51.0",
          "50.9",
          "50.9",
          "50.9",
          "50.5",
          "50.5",
          "50.4",
          "50.3",
          "50.2",
          "50.2",
          "50.1",
          "50.1",
          "50.0",
          "49.9",
          "49.7",
          "49.3",
          "49.2",
          "49.1",
          "49.1",
          "49.1",
          "49.0",
          "49.0",
          "48.6",
          "48.3",
          "48.2",
          "48.1",
          "48.1",
          "48.1",
          "48.1",
          "48.0",
          "47.9",
          "47.8",
          "47.8",
          "47.7",
          "47.7",
          "47.5",
          "47.5",
          "47.3",
          "47.1",
          "47.1",
          "47.0",
          "47.0",
          "46.9",
          "46.9",
          "46.9",
          "46.8",
          "46.7",
          "46.7",
          "46.6",
          "46.6",
          "46.6",
          "46.5",
          "46.3",
          "46.2",
          "46.2",
          "46.1",
          "46.0",
          "46.0",
          "45.9",
          "45.7",
          "45.6",
          "45.6",
          "-",
          "-",
          "-",
          "-",
          "-",
          "-",
          "-",
          "-",
          "-",
          "-",
          "-",
          "-",
          "-",
          "-",
          "-",
          "-",
          "-",
          "-",
          "-",
          "-",
          "-",
          "-",
          "-",
          "-",
          "-",
          "-",
          "-",
          "-",
          "-",
          "-",
          "-",
          "-",
          "-",
          "-",
          "-",
          "-",
          "-",
          "-",
          "-",
          "-",
          "-",
          "-",
          "-",
          "-",
          "-",
          "-",
          "-",
          "-",
          "-",
          "-",
          "-",
          "-",
          "-",
          "-",
          "-",
          "-",
          "-",
          "-",
          "-",
          "-",
          "-",
          "-",
          "-",
          "-",
          "-",
          "-",
          "-",
          "-",
          "-",
          "-",
          "-",
          "-",
          "-",
          "-",
          "-",
          "-",
          "-",
          "-",
          "-",
          "-",
          "-",
          "-",
          "-",
          "-",
          "-",
          "-",
          "-",
          "-",
          "-",
          "-",
          "-",
          "-",
          "-",
          "-",
          "-",
          "-",
          "-",
          "-",
          "-",
          "-",
          "-",
          "-",
          "-",
          "-",
          "-",
          "-",
          "-",
          "-",
          "-",
          "-",
          "-",
          "-",
          "-",
          "-",
          "-",
          "-",
          "-",
          "-",
          "-",
          "-",
          "-",
          "-",
          "-",
          "-",
          "-",
          "-",
          "-",
          "-",
          "-",
          "-",
          "-",
          "-",
          "-",
          "-",
          "-",
          "-",
          "-",
          "-",
          "-",
          "-",
          "-",
          "-",
          "-",
          "-",
          "-",
          "-",
          "-",
          "-",
          "-",
          "-",
          "-",
          "-",
          "-",
          "-",
          "-",
          "-",
          "-",
          "-",
          "-",
          "-",
          "-",
          "-",
          "-",
          "-",
          "-",
          "-",
          "-",
          "-",
          "-",
          "-",
          "-",
          "-",
          "-",
          "-",
          "-",
          "-",
          "-",
          "-",
          "-",
          "-",
          "-",
          "-",
          "-",
          "-",
          "-",
          "-",
          "-",
          "-",
          "-",
          "-",
          "-",
          "-",
          "-",
          "-",
          "-",
          "-",
          "-",
          "-",
          "-",
          "-"
         ],
         "xaxis": "x6",
         "y": [
          "67.0",
          "67.6",
          "90.7",
          "69.0",
          "87.8",
          "84.3",
          "61.2",
          "58.5",
          "92.7",
          "59.8",
          "65.2",
          "49.2",
          "96.6",
          "68.3",
          "59.7",
          "43.8",
          "49.8",
          "50.5",
          "59.0",
          "71.2",
          "36.7",
          "90.6",
          "32.4",
          "59.3",
          "94.9",
          "47.9",
          "68.9",
          "33.1",
          "56.4",
          "43.9",
          "33.6",
          "84.8",
          "81.3",
          "87.4",
          "98.8",
          "84.3",
          "64.3",
          "41.2",
          "79.0",
          "87.0",
          "37.0",
          "46.5",
          "81.9",
          "60.6",
          "91.3",
          "33.8",
          "35.3",
          "53.7",
          "44.6",
          "30.3",
          "77.8",
          "34.9",
          "82.0",
          "37.0",
          "62.3",
          "52.9",
          "47.8",
          "37.4",
          "29.0",
          "83.6",
          "92.5",
          "94.5",
          "50.1",
          "59.5",
          "80.4",
          "36.0",
          "53.9",
          "51.5",
          "70.8",
          "63.1",
          "77.9",
          "66.2",
          "78.7",
          "76.6",
          "91.2",
          "42.7",
          "60.5",
          "81.9",
          "52.9",
          "55.7",
          "56.6",
          "55.0",
          "80.4",
          "79.6",
          "38.7",
          "38.8",
          "51.4",
          "51.1",
          "56.1",
          "49.1",
          "40.3",
          "32.2",
          "42.9",
          "69.4",
          "78.8",
          "28.3",
          "39.1",
          "53.2",
          "64.0",
          "57.5",
          "89.7",
          "64.3",
          "64.7",
          "49.7",
          "85.7",
          "86.9",
          "88.6",
          "96.8",
          "54.6",
          "83.5",
          "90.5",
          "83.6",
          "76.7",
          "53.0",
          "75.0",
          "34.4",
          "56.1",
          "94.4",
          "70.1",
          "62.7",
          "79.7",
          "55.5",
          "74.8",
          "73.4",
          "76.7",
          "54.6",
          "84.0",
          "32.2",
          "64.0",
          "31.8",
          "84.7",
          "80.7",
          "44.8",
          "82.4",
          "44.7",
          "85.1",
          "50.6",
          "83.9",
          "54.1",
          "61.6",
          "52.6",
          "49.1",
          "37.0",
          "69.0",
          "34.3",
          "67.6",
          "54.7",
          "35.8",
          "75.8",
          "37.1",
          "61.6",
          "33.1",
          "66.3",
          "79.8",
          "27.5",
          "56.8",
          "29.1",
          "79.5",
          "87.3",
          "71.8",
          "64.4",
          "27.5",
          "56.7",
          "79.3",
          "37.3",
          "60.1",
          "63.2",
          "29.7",
          "56.7",
          "61.0",
          "70.6",
          "59.7",
          "43.3",
          "70.1",
          "87.3",
          "31.7",
          "41.2",
          "57.3",
          "84.1",
          "67.4",
          "40.6",
          "29.5",
          "44.6",
          "91.0",
          "54.7",
          "60.3",
          "27.6",
          "60.5",
          "46.1",
          "63.2",
          "57.0",
          "71.3",
          "37.4",
          "40.6",
          "54.8",
          "60.4",
          "55.8",
          "76.5",
          "83.9",
          "63.0",
          "39.9",
          "44.6",
          "69.3",
          "55.6",
          "53.3",
          "69.9",
          "35.9",
          "73.8",
          "60.6",
          "54.1",
          "47.8",
          "65.3",
          "64.5",
          "53.4",
          "93.4",
          "75.0",
          "26.3",
          "69.5",
          "25.3",
          "55.4",
          "50.7",
          "67.2",
          "79.4",
          "26.0",
          "26.5",
          "35.7",
          "46.4",
          "84.4",
          "88.8",
          "61.1",
          "71.6",
          "55.7",
          "58.7",
          "31.8",
          "42.8",
          "61.4",
          "39.6",
          "70.4",
          "39.5",
          "79.4",
          "63.1",
          "46.8",
          "44.2",
          "57.0",
          "40.6",
          "86.9",
          "63.7",
          "50.2",
          "75.9",
          "59.7",
          "59.4",
          "48.7",
          "73.1",
          "50.2",
          "24.8",
          "71.7",
          "55.4",
          "88.6",
          "49.6",
          "59.6",
          "53.0",
          "59.4",
          "59.1",
          "48.2",
          "32.2",
          "70.6",
          "81.5",
          "43.5",
          "40.3",
          "41.0",
          "54.6",
          "66.3",
          "57.3",
          "39.3",
          "63.1",
          "62.5",
          "30.4",
          "18.2",
          "59.1",
          "56.6",
          "30.7",
          "54.7",
          "29.2",
          "51.3",
          "69.8",
          "23.9",
          "47.8",
          "62.2",
          "21.8",
          "70.8",
          "43.1",
          "26.0",
          "49.0",
          "84.4",
          "35.3",
          "73.3",
          "37.4",
          "47.8",
          "80.8",
          "37.3",
          "80.4",
          "84.2",
          "28.9",
          "48.8",
          "73.1",
          "45.5",
          "53.9",
          "29.1",
          "71.8",
          "42.2",
          "62.3",
          "59.4",
          "41.5",
          "49.8",
          "89.2",
          "43.8",
          "36.7",
          "42.9",
          "44.4",
          "26.9",
          "37.5",
          "19.4",
          "20.7",
          "37.0",
          "29.7",
          "76.1",
          "88.2",
          "52.1",
          "38.8",
          "47.0",
          "49.2",
          "86.7",
          "33.1",
          "47.2",
          "32.2",
          "43.4",
          "45.1",
          "20.7",
          "34.8",
          "30.0",
          "40.4",
          "36.7",
          "67.1",
          "66.9",
          "59.3",
          "45.6",
          "36.1",
          "43.7",
          "41.6",
          "30.7",
          "21.5",
          "65.8",
          "66.5",
          "79.7",
          "53.9",
          "48.6",
          "52.1",
          "91.3",
          "36.0",
          "35.8",
          "48.4",
          "25.2",
          "19.5",
          "16.6",
          "20.0",
          "22.5",
          "26.1",
          "34.5",
          "50.9",
          "85.3",
          "26.7",
          "24.2",
          "26.7",
          "82.6",
          "53.6",
          "86.9",
          "60.0",
          "50.3",
          "38.1",
          "44.1",
          "42.1",
          "37.4",
          "64.8",
          "74.9",
          "46.8",
          "69.1",
          "49.7",
          "29.6",
          "46.2",
          "73.3",
          "48.0",
          "34.3",
          "46.3",
          "21.0",
          "80.3",
          "54.5",
          "43.1",
          "36.0",
          "50.1",
          "33.1",
          "21.4"
         ],
         "yaxis": "y6"
        },
        {
         "marker": {
          "color": [
           1,
           2,
           3,
           4,
           5,
           6,
           7,
           8,
           9,
           10,
           11,
           12,
           13,
           14,
           15,
           16,
           17,
           18,
           19,
           20,
           21,
           22,
           23,
           24,
           25,
           26,
           27,
           28,
           29,
           30,
           31,
           32,
           33,
           34,
           35,
           36,
           37,
           38,
           39,
           40,
           41,
           42,
           43,
           44,
           45,
           46,
           47,
           48,
           49,
           50,
           51,
           52,
           53,
           54,
           55,
           56,
           57,
           58,
           59,
           60,
           61,
           62,
           63,
           64,
           65,
           66,
           67,
           68,
           69,
           70,
           71,
           72,
           73,
           74,
           75,
           76,
           77,
           78,
           79,
           80,
           81,
           82,
           83,
           84,
           85,
           86,
           87,
           88,
           89,
           90,
           91,
           92,
           93,
           94,
           95,
           96,
           97,
           98,
           99,
           100,
           101,
           102,
           103,
           104,
           105,
           106,
           107,
           108,
           109,
           110,
           111,
           112,
           113,
           114,
           115,
           116,
           117,
           118,
           119,
           120,
           121,
           122,
           123,
           124,
           125,
           126,
           127,
           128,
           129,
           130,
           131,
           132,
           133,
           134,
           135,
           136,
           137,
           138,
           139,
           140,
           141,
           142,
           143,
           144,
           145,
           146,
           147,
           148,
           149,
           150,
           151,
           152,
           153,
           154,
           155,
           156,
           157,
           158,
           159,
           160,
           161,
           162,
           163,
           164,
           165,
           166,
           167,
           168,
           169,
           170,
           171,
           172,
           173,
           174,
           175,
           176,
           177,
           178,
           179,
           180,
           181,
           182,
           183,
           184,
           185,
           186,
           187,
           188,
           189,
           190,
           191,
           192,
           193,
           194,
           195,
           196,
           197,
           198,
           199,
           200,
           201,
           202,
           203,
           204,
           205,
           206,
           207,
           208,
           209,
           210,
           211,
           212,
           213,
           214,
           215,
           216,
           217,
           218,
           219,
           220,
           221,
           222,
           223,
           224,
           225,
           226,
           227,
           228,
           229,
           230,
           231,
           232,
           233,
           234,
           235,
           236,
           237,
           238,
           239,
           240,
           241,
           242,
           243,
           244,
           245,
           246,
           247,
           248,
           249,
           250,
           251,
           252,
           253,
           254,
           255,
           256,
           257,
           258,
           259,
           260,
           261,
           262,
           263,
           264,
           265,
           266,
           267,
           268,
           269,
           270,
           271,
           272,
           273,
           274,
           275,
           276,
           277,
           278,
           279,
           280,
           281,
           282,
           283,
           284,
           285,
           286,
           287,
           288,
           289,
           290,
           291,
           292,
           293,
           294,
           295,
           296,
           297,
           298,
           299,
           300,
           301,
           302,
           303,
           304,
           305,
           306,
           307,
           308,
           309,
           310,
           311,
           312,
           313,
           314,
           315,
           316,
           317,
           318,
           319,
           320,
           321,
           322,
           323,
           324,
           325,
           326,
           327,
           328,
           329,
           330,
           331,
           332,
           333,
           334,
           335,
           336,
           337,
           338,
           339,
           340,
           341,
           342,
           343,
           344,
           345,
           346,
           347,
           348,
           349,
           350,
           351,
           352,
           353,
           354,
           355,
           356,
           357,
           358,
           359,
           360,
           361,
           362,
           363,
           364,
           365,
           366,
           367,
           368,
           369,
           370,
           371,
           372,
           373,
           374,
           375,
           376,
           377,
           378,
           379,
           380,
           381,
           382,
           383,
           384,
           385,
           386,
           387,
           388,
           389,
           390,
           391,
           392,
           393,
           394,
           395,
           396,
           397,
           398,
           399,
           400,
           401
          ],
          "colorscale": [
           [
            0,
            "rgb(12, 51, 131)"
           ],
           [
            1,
            "rgb(217, 30, 30)"
           ]
          ],
          "showscale": false,
          "size": 6
         },
         "mode": "markers",
         "showlegend": false,
         "type": "scatter",
         "x": [
          98.1,
          98.6,
          97.7,
          96.7,
          95.6,
          88.2,
          94.7,
          96.7,
          88.3,
          90.8,
          89.9,
          90.5,
          90.2,
          79.4,
          84.2,
          82,
          86.5,
          75.2,
          83.8,
          85.1,
          78.9,
          80.4,
          85.1,
          74.9,
          78.1,
          68.9,
          71.2,
          72,
          69.1,
          79,
          71.3,
          69,
          70.9,
          74.2,
          56.9,
          62.9,
          61.4,
          62.4,
          69.9,
          62.3,
          66.6,
          55.2,
          72.6,
          68,
          70.9,
          64.7,
          58.6,
          61.9,
          68.3,
          77.1,
          66.8,
          63.2,
          58.7,
          54.2,
          63.6,
          59.7,
          46.7,
          64.8,
          68.4,
          60.8,
          55.9,
          47.1,
          46,
          58.2,
          58.4,
          49.3,
          48,
          51.1,
          37.1,
          45.4,
          71.4,
          53.7,
          46.8,
          44.7,
          41.1,
          44.6,
          55.4,
          36.2,
          54.8,
          52.6,
          58,
          49.4,
          40.7,
          54.4,
          36.9,
          51.4,
          38.5,
          33.9,
          41.7,
          51.6,
          49.1,
          46.3,
          32.4,
          43.2,
          40.5,
          38.2,
          38.3,
          45,
          37.4,
          53,
          48.1,
          50.5,
          30,
          48.1,
          45.8,
          33.1,
          32.9,
          37.2,
          31.9,
          51.9,
          35.9,
          30.4,
          44.4,
          44.7,
          33.8,
          37.4,
          50.8,
          22.4,
          48.5,
          33.1,
          28.2,
          29.2,
          39.1,
          47.1,
          35.3,
          29.1,
          44.8,
          52.1,
          53.5,
          35.9,
          36.1,
          36.9,
          39.1,
          34.1,
          42,
          39.9,
          43.2,
          30.3,
          27.6,
          46.7,
          26.7,
          51.9,
          52.9,
          47.1,
          45.3,
          39.1,
          29.1,
          50.2,
          39.8,
          35.1,
          27.5,
          35.4,
          47.5,
          32.7,
          57.3,
          29.9,
          48,
          33.2,
          38.1,
          34.4,
          33.8,
          36.5,
          28.1,
          40.4,
          36.9,
          34.9,
          28.3,
          47.3,
          27.2,
          33.6,
          35.8,
          34.9,
          28.2,
          30.6,
          33.4,
          33.5,
          24.4,
          29.3,
          30.2,
          19.7,
          36.3,
          37.5,
          27.1,
          39.7,
          21.9,
          35.2,
          23.9,
          24.4,
          51.1,
          34.7,
          39.8,
          32.9,
          34,
          30.9,
          22.2,
          42.1,
          27.3,
          22.6,
          31.6,
          13.1,
          25.1,
          27.7,
          30.4,
          22.4,
          36.3,
          36.5,
          44.3,
          29.6,
          37.5,
          22,
          28.8,
          27.9,
          22.5,
          34.1,
          17.1,
          34,
          27.3,
          23.4,
          51.6,
          28.2,
          16,
          45.3,
          36.2,
          23.5,
          19.9,
          45.8,
          29.2,
          29.3,
          21.4,
          24.5,
          30,
          29.9,
          23.2,
          31.8,
          26.2,
          29.3,
          35,
          32.3,
          9.8,
          28.1,
          30.5,
          38.2,
          24.3,
          33.4,
          23,
          32.5,
          35.7,
          17.3,
          32.4,
          35.3,
          31.3,
          10.1,
          17,
          23.3,
          40.3,
          24.8,
          33.4,
          25.1,
          25.2,
          33.7,
          27.6,
          30.7,
          24.7,
          18.1,
          23.4,
          29.9,
          27.7,
          19.2,
          25.6,
          37.9,
          12.1,
          21.7,
          20.3,
          20.3,
          40.4,
          32.8,
          31.3,
          39.5,
          25.5,
          22.5,
          40.7,
          29.6,
          10.5,
          18.1,
          36,
          37.9,
          31.2,
          45.1,
          22.9,
          22.2,
          23.2,
          22.4,
          15.3,
          19.7,
          28.9,
          20.3,
          22.9,
          24.4,
          24,
          27.5,
          27.8,
          28.5,
          40,
          19.3,
          23,
          17.8,
          24.3,
          10.4,
          20.6,
          14.3,
          13.2,
          17.3,
          16.5,
          24.4,
          24.8,
          17.2,
          21.1,
          26.6,
          14.7,
          24.8,
          28.1,
          34.7,
          38.8,
          25.2,
          20.7,
          25.1,
          23.4,
          18.4,
          27.1,
          16.8,
          13.7,
          29,
          25.8,
          24,
          20.1,
          29.4,
          6.5,
          13.7,
          16.5,
          15.7,
          18.2,
          18.8,
          20.5,
          25.1,
          17.3,
          22.2,
          21.6,
          12,
          13.6,
          15.2,
          33.1,
          28.5,
          20.6,
          21.6,
          12.9,
          19.1,
          17.2,
          17.1,
          18,
          20.3,
          32.3,
          27.5,
          24.6,
          14.3,
          27.3,
          10,
          28.5,
          16.6,
          27.6,
          17.8,
          40.1,
          32.9,
          42.6,
          18.9,
          22.5,
          16.3,
          16.9,
          25.7,
          18.1,
          21.6,
          15.2,
          17.3,
          17.3,
          10.9,
          22.8,
          18.4,
          16.2,
          22,
          22.3,
          10.6,
          11.8,
          20.2,
          21.8,
          19.4,
          17,
          17.9,
          16.3,
          27.5,
          22.4,
          17.4,
          8
         ],
         "xaxis": "x7",
         "y": [
          "94.3",
          "93.3",
          "93.2",
          "92.9",
          "92.0",
          "91.9",
          "90.9",
          "89.5",
          "87.5",
          "87.5",
          "87.1",
          "85.5",
          "84.6",
          "84.4",
          "83.0",
          "81.0",
          "80.9",
          "79.9",
          "79.4",
          "79.3",
          "79.2",
          "78.7",
          "76.1",
          "74.3",
          "73.3",
          "73.2",
          "72.8",
          "72.3",
          "71.9",
          "71.9",
          "71.9",
          "71.8",
          "71.2",
          "70.9",
          "70.9",
          "70.4",
          "70.0",
          "69.9",
          "69.6",
          "69.4",
          "68.6",
          "67.8",
          "67.5",
          "66.8",
          "66.5",
          "65.9",
          "65.9",
          "65.2",
          "65.1",
          "64.8",
          "64.7",
          "64.5",
          "64.5",
          "64.1",
          "63.7",
          "63.7",
          "63.6",
          "62.9",
          "62.8",
          "62.7",
          "62.2",
          "62.2",
          "61.9",
          "61.3",
          "61.2",
          "61.1",
          "61.0",
          "60.7",
          "59.8",
          "59.6",
          "59.2",
          "59.1",
          "59.0",
          "58.9",
          "58.4",
          "58.4",
          "58.2",
          "58.1",
          "58.0",
          "57.9",
          "57.6",
          "57.3",
          "56.9",
          "56.9",
          "56.6",
          "56.5",
          "56.5",
          "56.4",
          "56.4",
          "56.2",
          "56.1",
          "56.1",
          "55.5",
          "55.3",
          "55.3",
          "55.2",
          "55.1",
          "54.6",
          "54.6",
          "54.6",
          "54.3",
          "54.0",
          "53.9",
          "53.9",
          "53.9",
          "53.9",
          "53.8",
          "53.8",
          "53.7",
          "53.7",
          "53.6",
          "53.6",
          "53.4",
          "53.4",
          "53.4",
          "53.2",
          "53.1",
          "53.0",
          "52.9",
          "52.8",
          "52.7",
          "52.7",
          "52.7",
          "52.6",
          "52.6",
          "52.5",
          "52.5",
          "52.5",
          "52.4",
          "52.1",
          "52.0",
          "51.9",
          "51.9",
          "51.9",
          "51.6",
          "51.4",
          "51.4",
          "51.2",
          "51.1",
          "51.0",
          "50.9",
          "50.9",
          "50.9",
          "50.5",
          "50.5",
          "50.4",
          "50.3",
          "50.2",
          "50.2",
          "50.1",
          "50.1",
          "50.0",
          "49.9",
          "49.7",
          "49.3",
          "49.2",
          "49.1",
          "49.1",
          "49.1",
          "49.0",
          "49.0",
          "48.6",
          "48.3",
          "48.2",
          "48.1",
          "48.1",
          "48.1",
          "48.1",
          "48.0",
          "47.9",
          "47.8",
          "47.8",
          "47.7",
          "47.7",
          "47.5",
          "47.5",
          "47.3",
          "47.1",
          "47.1",
          "47.0",
          "47.0",
          "46.9",
          "46.9",
          "46.9",
          "46.8",
          "46.7",
          "46.7",
          "46.6",
          "46.6",
          "46.6",
          "46.5",
          "46.3",
          "46.2",
          "46.2",
          "46.1",
          "46.0",
          "46.0",
          "45.9",
          "45.7",
          "45.6",
          "45.6",
          "-",
          "-",
          "-",
          "-",
          "-",
          "-",
          "-",
          "-",
          "-",
          "-",
          "-",
          "-",
          "-",
          "-",
          "-",
          "-",
          "-",
          "-",
          "-",
          "-",
          "-",
          "-",
          "-",
          "-",
          "-",
          "-",
          "-",
          "-",
          "-",
          "-",
          "-",
          "-",
          "-",
          "-",
          "-",
          "-",
          "-",
          "-",
          "-",
          "-",
          "-",
          "-",
          "-",
          "-",
          "-",
          "-",
          "-",
          "-",
          "-",
          "-",
          "-",
          "-",
          "-",
          "-",
          "-",
          "-",
          "-",
          "-",
          "-",
          "-",
          "-",
          "-",
          "-",
          "-",
          "-",
          "-",
          "-",
          "-",
          "-",
          "-",
          "-",
          "-",
          "-",
          "-",
          "-",
          "-",
          "-",
          "-",
          "-",
          "-",
          "-",
          "-",
          "-",
          "-",
          "-",
          "-",
          "-",
          "-",
          "-",
          "-",
          "-",
          "-",
          "-",
          "-",
          "-",
          "-",
          "-",
          "-",
          "-",
          "-",
          "-",
          "-",
          "-",
          "-",
          "-",
          "-",
          "-",
          "-",
          "-",
          "-",
          "-",
          "-",
          "-",
          "-",
          "-",
          "-",
          "-",
          "-",
          "-",
          "-",
          "-",
          "-",
          "-",
          "-",
          "-",
          "-",
          "-",
          "-",
          "-",
          "-",
          "-",
          "-",
          "-",
          "-",
          "-",
          "-",
          "-",
          "-",
          "-",
          "-",
          "-",
          "-",
          "-",
          "-",
          "-",
          "-",
          "-",
          "-",
          "-",
          "-",
          "-",
          "-",
          "-",
          "-",
          "-",
          "-",
          "-",
          "-",
          "-",
          "-",
          "-",
          "-",
          "-",
          "-",
          "-",
          "-",
          "-",
          "-",
          "-",
          "-",
          "-",
          "-",
          "-",
          "-",
          "-",
          "-",
          "-",
          "-",
          "-",
          "-",
          "-",
          "-",
          "-",
          "-",
          "-",
          "-",
          "-",
          "-",
          "-",
          "-",
          "-",
          "-",
          "-",
          "-",
          "-",
          "-",
          "-",
          "-",
          "-",
          "-"
         ],
         "yaxis": "y7"
        },
        {
         "marker": {
          "color": [
           1,
           2,
           3,
           4,
           5,
           6,
           7,
           8,
           9,
           10,
           11,
           12,
           13,
           14,
           15,
           16,
           17,
           18,
           19,
           20,
           21,
           22,
           23,
           24,
           25,
           26,
           27,
           28,
           29,
           30,
           31,
           32,
           33,
           34,
           35,
           36,
           37,
           38,
           39,
           40,
           41,
           42,
           43,
           44,
           45,
           46,
           47,
           48,
           49,
           50,
           51,
           52,
           53,
           54,
           55,
           56,
           57,
           58,
           59,
           60,
           61,
           62,
           63,
           64,
           65,
           66,
           67,
           68,
           69,
           70,
           71,
           72,
           73,
           74,
           75,
           76,
           77,
           78,
           79,
           80,
           81,
           82,
           83,
           84,
           85,
           86,
           87,
           88,
           89,
           90,
           91,
           92,
           93,
           94,
           95,
           96,
           97,
           98,
           99,
           100,
           101,
           102,
           103,
           104,
           105,
           106,
           107,
           108,
           109,
           110,
           111,
           112,
           113,
           114,
           115,
           116,
           117,
           118,
           119,
           120,
           121,
           122,
           123,
           124,
           125,
           126,
           127,
           128,
           129,
           130,
           131,
           132,
           133,
           134,
           135,
           136,
           137,
           138,
           139,
           140,
           141,
           142,
           143,
           144,
           145,
           146,
           147,
           148,
           149,
           150,
           151,
           152,
           153,
           154,
           155,
           156,
           157,
           158,
           159,
           160,
           161,
           162,
           163,
           164,
           165,
           166,
           167,
           168,
           169,
           170,
           171,
           172,
           173,
           174,
           175,
           176,
           177,
           178,
           179,
           180,
           181,
           182,
           183,
           184,
           185,
           186,
           187,
           188,
           189,
           190,
           191,
           192,
           193,
           194,
           195,
           196,
           197,
           198,
           199,
           200,
           201,
           202,
           203,
           204,
           205,
           206,
           207,
           208,
           209,
           210,
           211,
           212,
           213,
           214,
           215,
           216,
           217,
           218,
           219,
           220,
           221,
           222,
           223,
           224,
           225,
           226,
           227,
           228,
           229,
           230,
           231,
           232,
           233,
           234,
           235,
           236,
           237,
           238,
           239,
           240,
           241,
           242,
           243,
           244,
           245,
           246,
           247,
           248,
           249,
           250,
           251,
           252,
           253,
           254,
           255,
           256,
           257,
           258,
           259,
           260,
           261,
           262,
           263,
           264,
           265,
           266,
           267,
           268,
           269,
           270,
           271,
           272,
           273,
           274,
           275,
           276,
           277,
           278,
           279,
           280,
           281,
           282,
           283,
           284,
           285,
           286,
           287,
           288,
           289,
           290,
           291,
           292,
           293,
           294,
           295,
           296,
           297,
           298,
           299,
           300,
           301,
           302,
           303,
           304,
           305,
           306,
           307,
           308,
           309,
           310,
           311,
           312,
           313,
           314,
           315,
           316,
           317,
           318,
           319,
           320,
           321,
           322,
           323,
           324,
           325,
           326,
           327,
           328,
           329,
           330,
           331,
           332,
           333,
           334,
           335,
           336,
           337,
           338,
           339,
           340,
           341,
           342,
           343,
           344,
           345,
           346,
           347,
           348,
           349,
           350,
           351,
           352,
           353,
           354,
           355,
           356,
           357,
           358,
           359,
           360,
           361,
           362,
           363,
           364,
           365,
           366,
           367,
           368,
           369,
           370,
           371,
           372,
           373,
           374,
           375,
           376,
           377,
           378,
           379,
           380,
           381,
           382,
           383,
           384,
           385,
           386,
           387,
           388,
           389,
           390,
           391,
           392,
           393,
           394,
           395,
           396,
           397,
           398,
           399,
           400,
           401
          ],
          "colorscale": [
           [
            0,
            "rgb(12, 51, 131)"
           ],
           [
            1,
            "rgb(217, 30, 30)"
           ]
          ],
          "showscale": false,
          "size": 6
         },
         "mode": "markers",
         "showlegend": false,
         "type": "scatter",
         "x": [
          "67.0",
          "67.6",
          "90.7",
          "69.0",
          "87.8",
          "84.3",
          "61.2",
          "58.5",
          "92.7",
          "59.8",
          "65.2",
          "49.2",
          "96.6",
          "68.3",
          "59.7",
          "43.8",
          "49.8",
          "50.5",
          "59.0",
          "71.2",
          "36.7",
          "90.6",
          "32.4",
          "59.3",
          "94.9",
          "47.9",
          "68.9",
          "33.1",
          "56.4",
          "43.9",
          "33.6",
          "84.8",
          "81.3",
          "87.4",
          "98.8",
          "84.3",
          "64.3",
          "41.2",
          "79.0",
          "87.0",
          "37.0",
          "46.5",
          "81.9",
          "60.6",
          "91.3",
          "33.8",
          "35.3",
          "53.7",
          "44.6",
          "30.3",
          "77.8",
          "34.9",
          "82.0",
          "37.0",
          "62.3",
          "52.9",
          "47.8",
          "37.4",
          "29.0",
          "83.6",
          "92.5",
          "94.5",
          "50.1",
          "59.5",
          "80.4",
          "36.0",
          "53.9",
          "51.5",
          "70.8",
          "63.1",
          "77.9",
          "66.2",
          "78.7",
          "76.6",
          "91.2",
          "42.7",
          "60.5",
          "81.9",
          "52.9",
          "55.7",
          "56.6",
          "55.0",
          "80.4",
          "79.6",
          "38.7",
          "38.8",
          "51.4",
          "51.1",
          "56.1",
          "49.1",
          "40.3",
          "32.2",
          "42.9",
          "69.4",
          "78.8",
          "28.3",
          "39.1",
          "53.2",
          "64.0",
          "57.5",
          "89.7",
          "64.3",
          "64.7",
          "49.7",
          "85.7",
          "86.9",
          "88.6",
          "96.8",
          "54.6",
          "83.5",
          "90.5",
          "83.6",
          "76.7",
          "53.0",
          "75.0",
          "34.4",
          "56.1",
          "94.4",
          "70.1",
          "62.7",
          "79.7",
          "55.5",
          "74.8",
          "73.4",
          "76.7",
          "54.6",
          "84.0",
          "32.2",
          "64.0",
          "31.8",
          "84.7",
          "80.7",
          "44.8",
          "82.4",
          "44.7",
          "85.1",
          "50.6",
          "83.9",
          "54.1",
          "61.6",
          "52.6",
          "49.1",
          "37.0",
          "69.0",
          "34.3",
          "67.6",
          "54.7",
          "35.8",
          "75.8",
          "37.1",
          "61.6",
          "33.1",
          "66.3",
          "79.8",
          "27.5",
          "56.8",
          "29.1",
          "79.5",
          "87.3",
          "71.8",
          "64.4",
          "27.5",
          "56.7",
          "79.3",
          "37.3",
          "60.1",
          "63.2",
          "29.7",
          "56.7",
          "61.0",
          "70.6",
          "59.7",
          "43.3",
          "70.1",
          "87.3",
          "31.7",
          "41.2",
          "57.3",
          "84.1",
          "67.4",
          "40.6",
          "29.5",
          "44.6",
          "91.0",
          "54.7",
          "60.3",
          "27.6",
          "60.5",
          "46.1",
          "63.2",
          "57.0",
          "71.3",
          "37.4",
          "40.6",
          "54.8",
          "60.4",
          "55.8",
          "76.5",
          "83.9",
          "63.0",
          "39.9",
          "44.6",
          "69.3",
          "55.6",
          "53.3",
          "69.9",
          "35.9",
          "73.8",
          "60.6",
          "54.1",
          "47.8",
          "65.3",
          "64.5",
          "53.4",
          "93.4",
          "75.0",
          "26.3",
          "69.5",
          "25.3",
          "55.4",
          "50.7",
          "67.2",
          "79.4",
          "26.0",
          "26.5",
          "35.7",
          "46.4",
          "84.4",
          "88.8",
          "61.1",
          "71.6",
          "55.7",
          "58.7",
          "31.8",
          "42.8",
          "61.4",
          "39.6",
          "70.4",
          "39.5",
          "79.4",
          "63.1",
          "46.8",
          "44.2",
          "57.0",
          "40.6",
          "86.9",
          "63.7",
          "50.2",
          "75.9",
          "59.7",
          "59.4",
          "48.7",
          "73.1",
          "50.2",
          "24.8",
          "71.7",
          "55.4",
          "88.6",
          "49.6",
          "59.6",
          "53.0",
          "59.4",
          "59.1",
          "48.2",
          "32.2",
          "70.6",
          "81.5",
          "43.5",
          "40.3",
          "41.0",
          "54.6",
          "66.3",
          "57.3",
          "39.3",
          "63.1",
          "62.5",
          "30.4",
          "18.2",
          "59.1",
          "56.6",
          "30.7",
          "54.7",
          "29.2",
          "51.3",
          "69.8",
          "23.9",
          "47.8",
          "62.2",
          "21.8",
          "70.8",
          "43.1",
          "26.0",
          "49.0",
          "84.4",
          "35.3",
          "73.3",
          "37.4",
          "47.8",
          "80.8",
          "37.3",
          "80.4",
          "84.2",
          "28.9",
          "48.8",
          "73.1",
          "45.5",
          "53.9",
          "29.1",
          "71.8",
          "42.2",
          "62.3",
          "59.4",
          "41.5",
          "49.8",
          "89.2",
          "43.8",
          "36.7",
          "42.9",
          "44.4",
          "26.9",
          "37.5",
          "19.4",
          "20.7",
          "37.0",
          "29.7",
          "76.1",
          "88.2",
          "52.1",
          "38.8",
          "47.0",
          "49.2",
          "86.7",
          "33.1",
          "47.2",
          "32.2",
          "43.4",
          "45.1",
          "20.7",
          "34.8",
          "30.0",
          "40.4",
          "36.7",
          "67.1",
          "66.9",
          "59.3",
          "45.6",
          "36.1",
          "43.7",
          "41.6",
          "30.7",
          "21.5",
          "65.8",
          "66.5",
          "79.7",
          "53.9",
          "48.6",
          "52.1",
          "91.3",
          "36.0",
          "35.8",
          "48.4",
          "25.2",
          "19.5",
          "16.6",
          "20.0",
          "22.5",
          "26.1",
          "34.5",
          "50.9",
          "85.3",
          "26.7",
          "24.2",
          "26.7",
          "82.6",
          "53.6",
          "86.9",
          "60.0",
          "50.3",
          "38.1",
          "44.1",
          "42.1",
          "37.4",
          "64.8",
          "74.9",
          "46.8",
          "69.1",
          "49.7",
          "29.6",
          "46.2",
          "73.3",
          "48.0",
          "34.3",
          "46.3",
          "21.0",
          "80.3",
          "54.5",
          "43.1",
          "36.0",
          "50.1",
          "33.1",
          "21.4"
         ],
         "xaxis": "x8",
         "y": [
          "94.3",
          "93.3",
          "93.2",
          "92.9",
          "92.0",
          "91.9",
          "90.9",
          "89.5",
          "87.5",
          "87.5",
          "87.1",
          "85.5",
          "84.6",
          "84.4",
          "83.0",
          "81.0",
          "80.9",
          "79.9",
          "79.4",
          "79.3",
          "79.2",
          "78.7",
          "76.1",
          "74.3",
          "73.3",
          "73.2",
          "72.8",
          "72.3",
          "71.9",
          "71.9",
          "71.9",
          "71.8",
          "71.2",
          "70.9",
          "70.9",
          "70.4",
          "70.0",
          "69.9",
          "69.6",
          "69.4",
          "68.6",
          "67.8",
          "67.5",
          "66.8",
          "66.5",
          "65.9",
          "65.9",
          "65.2",
          "65.1",
          "64.8",
          "64.7",
          "64.5",
          "64.5",
          "64.1",
          "63.7",
          "63.7",
          "63.6",
          "62.9",
          "62.8",
          "62.7",
          "62.2",
          "62.2",
          "61.9",
          "61.3",
          "61.2",
          "61.1",
          "61.0",
          "60.7",
          "59.8",
          "59.6",
          "59.2",
          "59.1",
          "59.0",
          "58.9",
          "58.4",
          "58.4",
          "58.2",
          "58.1",
          "58.0",
          "57.9",
          "57.6",
          "57.3",
          "56.9",
          "56.9",
          "56.6",
          "56.5",
          "56.5",
          "56.4",
          "56.4",
          "56.2",
          "56.1",
          "56.1",
          "55.5",
          "55.3",
          "55.3",
          "55.2",
          "55.1",
          "54.6",
          "54.6",
          "54.6",
          "54.3",
          "54.0",
          "53.9",
          "53.9",
          "53.9",
          "53.9",
          "53.8",
          "53.8",
          "53.7",
          "53.7",
          "53.6",
          "53.6",
          "53.4",
          "53.4",
          "53.4",
          "53.2",
          "53.1",
          "53.0",
          "52.9",
          "52.8",
          "52.7",
          "52.7",
          "52.7",
          "52.6",
          "52.6",
          "52.5",
          "52.5",
          "52.5",
          "52.4",
          "52.1",
          "52.0",
          "51.9",
          "51.9",
          "51.9",
          "51.6",
          "51.4",
          "51.4",
          "51.2",
          "51.1",
          "51.0",
          "50.9",
          "50.9",
          "50.9",
          "50.5",
          "50.5",
          "50.4",
          "50.3",
          "50.2",
          "50.2",
          "50.1",
          "50.1",
          "50.0",
          "49.9",
          "49.7",
          "49.3",
          "49.2",
          "49.1",
          "49.1",
          "49.1",
          "49.0",
          "49.0",
          "48.6",
          "48.3",
          "48.2",
          "48.1",
          "48.1",
          "48.1",
          "48.1",
          "48.0",
          "47.9",
          "47.8",
          "47.8",
          "47.7",
          "47.7",
          "47.5",
          "47.5",
          "47.3",
          "47.1",
          "47.1",
          "47.0",
          "47.0",
          "46.9",
          "46.9",
          "46.9",
          "46.8",
          "46.7",
          "46.7",
          "46.6",
          "46.6",
          "46.6",
          "46.5",
          "46.3",
          "46.2",
          "46.2",
          "46.1",
          "46.0",
          "46.0",
          "45.9",
          "45.7",
          "45.6",
          "45.6",
          "-",
          "-",
          "-",
          "-",
          "-",
          "-",
          "-",
          "-",
          "-",
          "-",
          "-",
          "-",
          "-",
          "-",
          "-",
          "-",
          "-",
          "-",
          "-",
          "-",
          "-",
          "-",
          "-",
          "-",
          "-",
          "-",
          "-",
          "-",
          "-",
          "-",
          "-",
          "-",
          "-",
          "-",
          "-",
          "-",
          "-",
          "-",
          "-",
          "-",
          "-",
          "-",
          "-",
          "-",
          "-",
          "-",
          "-",
          "-",
          "-",
          "-",
          "-",
          "-",
          "-",
          "-",
          "-",
          "-",
          "-",
          "-",
          "-",
          "-",
          "-",
          "-",
          "-",
          "-",
          "-",
          "-",
          "-",
          "-",
          "-",
          "-",
          "-",
          "-",
          "-",
          "-",
          "-",
          "-",
          "-",
          "-",
          "-",
          "-",
          "-",
          "-",
          "-",
          "-",
          "-",
          "-",
          "-",
          "-",
          "-",
          "-",
          "-",
          "-",
          "-",
          "-",
          "-",
          "-",
          "-",
          "-",
          "-",
          "-",
          "-",
          "-",
          "-",
          "-",
          "-",
          "-",
          "-",
          "-",
          "-",
          "-",
          "-",
          "-",
          "-",
          "-",
          "-",
          "-",
          "-",
          "-",
          "-",
          "-",
          "-",
          "-",
          "-",
          "-",
          "-",
          "-",
          "-",
          "-",
          "-",
          "-",
          "-",
          "-",
          "-",
          "-",
          "-",
          "-",
          "-",
          "-",
          "-",
          "-",
          "-",
          "-",
          "-",
          "-",
          "-",
          "-",
          "-",
          "-",
          "-",
          "-",
          "-",
          "-",
          "-",
          "-",
          "-",
          "-",
          "-",
          "-",
          "-",
          "-",
          "-",
          "-",
          "-",
          "-",
          "-",
          "-",
          "-",
          "-",
          "-",
          "-",
          "-",
          "-",
          "-",
          "-",
          "-",
          "-",
          "-",
          "-",
          "-",
          "-",
          "-",
          "-",
          "-",
          "-",
          "-",
          "-",
          "-",
          "-",
          "-",
          "-",
          "-",
          "-",
          "-",
          "-",
          "-",
          "-",
          "-",
          "-",
          "-",
          "-"
         ],
         "yaxis": "y8"
        },
        {
         "marker": {
          "color": "rgb(12, 51, 131)"
         },
         "showlegend": false,
         "type": "box",
         "xaxis": "x9",
         "y": [
          "94.3",
          "93.3",
          "93.2",
          "92.9",
          "92.0",
          "91.9",
          "90.9",
          "89.5",
          "87.5",
          "87.5",
          "87.1",
          "85.5",
          "84.6",
          "84.4",
          "83.0",
          "81.0",
          "80.9",
          "79.9",
          "79.4",
          "79.3",
          "79.2",
          "78.7",
          "76.1",
          "74.3",
          "73.3",
          "73.2",
          "72.8",
          "72.3",
          "71.9",
          "71.9",
          "71.9",
          "71.8",
          "71.2",
          "70.9",
          "70.9",
          "70.4",
          "70.0",
          "69.9",
          "69.6",
          "69.4",
          "68.6",
          "67.8",
          "67.5",
          "66.8",
          "66.5",
          "65.9",
          "65.9",
          "65.2",
          "65.1",
          "64.8",
          "64.7",
          "64.5",
          "64.5",
          "64.1",
          "63.7",
          "63.7",
          "63.6",
          "62.9",
          "62.8",
          "62.7",
          "62.2",
          "62.2",
          "61.9",
          "61.3",
          "61.2",
          "61.1",
          "61.0",
          "60.7",
          "59.8",
          "59.6",
          "59.2",
          "59.1",
          "59.0",
          "58.9",
          "58.4",
          "58.4",
          "58.2",
          "58.1",
          "58.0",
          "57.9",
          "57.6",
          "57.3",
          "56.9",
          "56.9",
          "56.6",
          "56.5",
          "56.5",
          "56.4",
          "56.4",
          "56.2",
          "56.1",
          "56.1",
          "55.5",
          "55.3",
          "55.3",
          "55.2",
          "55.1",
          "54.6",
          "54.6",
          "54.6",
          "54.3",
          "54.0",
          "53.9",
          "53.9",
          "53.9",
          "53.9",
          "53.8",
          "53.8",
          "53.7",
          "53.7",
          "53.6",
          "53.6",
          "53.4",
          "53.4",
          "53.4",
          "53.2",
          "53.1",
          "53.0",
          "52.9",
          "52.8",
          "52.7",
          "52.7",
          "52.7",
          "52.6",
          "52.6",
          "52.5",
          "52.5",
          "52.5",
          "52.4",
          "52.1",
          "52.0",
          "51.9",
          "51.9",
          "51.9",
          "51.6",
          "51.4",
          "51.4",
          "51.2",
          "51.1",
          "51.0",
          "50.9",
          "50.9",
          "50.9",
          "50.5",
          "50.5",
          "50.4",
          "50.3",
          "50.2",
          "50.2",
          "50.1",
          "50.1",
          "50.0",
          "49.9",
          "49.7",
          "49.3",
          "49.2",
          "49.1",
          "49.1",
          "49.1",
          "49.0",
          "49.0",
          "48.6",
          "48.3",
          "48.2",
          "48.1",
          "48.1",
          "48.1",
          "48.1",
          "48.0",
          "47.9",
          "47.8",
          "47.8",
          "47.7",
          "47.7",
          "47.5",
          "47.5",
          "47.3",
          "47.1",
          "47.1",
          "47.0",
          "47.0",
          "46.9",
          "46.9",
          "46.9",
          "46.8",
          "46.7",
          "46.7",
          "46.6",
          "46.6",
          "46.6",
          "46.5",
          "46.3",
          "46.2",
          "46.2",
          "46.1",
          "46.0",
          "46.0",
          "45.9",
          "45.7",
          "45.6",
          "45.6",
          "-",
          "-",
          "-",
          "-",
          "-",
          "-",
          "-",
          "-",
          "-",
          "-",
          "-",
          "-",
          "-",
          "-",
          "-",
          "-",
          "-",
          "-",
          "-",
          "-",
          "-",
          "-",
          "-",
          "-",
          "-",
          "-",
          "-",
          "-",
          "-",
          "-",
          "-",
          "-",
          "-",
          "-",
          "-",
          "-",
          "-",
          "-",
          "-",
          "-",
          "-",
          "-",
          "-",
          "-",
          "-",
          "-",
          "-",
          "-",
          "-",
          "-",
          "-",
          "-",
          "-",
          "-",
          "-",
          "-",
          "-",
          "-",
          "-",
          "-",
          "-",
          "-",
          "-",
          "-",
          "-",
          "-",
          "-",
          "-",
          "-",
          "-",
          "-",
          "-",
          "-",
          "-",
          "-",
          "-",
          "-",
          "-",
          "-",
          "-",
          "-",
          "-",
          "-",
          "-",
          "-",
          "-",
          "-",
          "-",
          "-",
          "-",
          "-",
          "-",
          "-",
          "-",
          "-",
          "-",
          "-",
          "-",
          "-",
          "-",
          "-",
          "-",
          "-",
          "-",
          "-",
          "-",
          "-",
          "-",
          "-",
          "-",
          "-",
          "-",
          "-",
          "-",
          "-",
          "-",
          "-",
          "-",
          "-",
          "-",
          "-",
          "-",
          "-",
          "-",
          "-",
          "-",
          "-",
          "-",
          "-",
          "-",
          "-",
          "-",
          "-",
          "-",
          "-",
          "-",
          "-",
          "-",
          "-",
          "-",
          "-",
          "-",
          "-",
          "-",
          "-",
          "-",
          "-",
          "-",
          "-",
          "-",
          "-",
          "-",
          "-",
          "-",
          "-",
          "-",
          "-",
          "-",
          "-",
          "-",
          "-",
          "-",
          "-",
          "-",
          "-",
          "-",
          "-",
          "-",
          "-",
          "-",
          "-",
          "-",
          "-",
          "-",
          "-",
          "-",
          "-",
          "-",
          "-",
          "-",
          "-",
          "-",
          "-",
          "-",
          "-",
          "-",
          "-",
          "-",
          "-",
          "-",
          "-",
          "-",
          "-",
          "-",
          "-",
          "-",
          "-",
          "-",
          "-",
          "-"
         ],
         "yaxis": "y9"
        }
       ],
       "layout": {
        "height": 700,
        "showlegend": true,
        "template": {
         "data": {
          "bar": [
           {
            "error_x": {
             "color": "#2a3f5f"
            },
            "error_y": {
             "color": "#2a3f5f"
            },
            "marker": {
             "line": {
              "color": "#E5ECF6",
              "width": 0.5
             }
            },
            "type": "bar"
           }
          ],
          "barpolar": [
           {
            "marker": {
             "line": {
              "color": "#E5ECF6",
              "width": 0.5
             }
            },
            "type": "barpolar"
           }
          ],
          "carpet": [
           {
            "aaxis": {
             "endlinecolor": "#2a3f5f",
             "gridcolor": "white",
             "linecolor": "white",
             "minorgridcolor": "white",
             "startlinecolor": "#2a3f5f"
            },
            "baxis": {
             "endlinecolor": "#2a3f5f",
             "gridcolor": "white",
             "linecolor": "white",
             "minorgridcolor": "white",
             "startlinecolor": "#2a3f5f"
            },
            "type": "carpet"
           }
          ],
          "choropleth": [
           {
            "colorbar": {
             "outlinewidth": 0,
             "ticks": ""
            },
            "type": "choropleth"
           }
          ],
          "contour": [
           {
            "colorbar": {
             "outlinewidth": 0,
             "ticks": ""
            },
            "colorscale": [
             [
              0,
              "#0d0887"
             ],
             [
              0.1111111111111111,
              "#46039f"
             ],
             [
              0.2222222222222222,
              "#7201a8"
             ],
             [
              0.3333333333333333,
              "#9c179e"
             ],
             [
              0.4444444444444444,
              "#bd3786"
             ],
             [
              0.5555555555555556,
              "#d8576b"
             ],
             [
              0.6666666666666666,
              "#ed7953"
             ],
             [
              0.7777777777777778,
              "#fb9f3a"
             ],
             [
              0.8888888888888888,
              "#fdca26"
             ],
             [
              1,
              "#f0f921"
             ]
            ],
            "type": "contour"
           }
          ],
          "contourcarpet": [
           {
            "colorbar": {
             "outlinewidth": 0,
             "ticks": ""
            },
            "type": "contourcarpet"
           }
          ],
          "heatmap": [
           {
            "colorbar": {
             "outlinewidth": 0,
             "ticks": ""
            },
            "colorscale": [
             [
              0,
              "#0d0887"
             ],
             [
              0.1111111111111111,
              "#46039f"
             ],
             [
              0.2222222222222222,
              "#7201a8"
             ],
             [
              0.3333333333333333,
              "#9c179e"
             ],
             [
              0.4444444444444444,
              "#bd3786"
             ],
             [
              0.5555555555555556,
              "#d8576b"
             ],
             [
              0.6666666666666666,
              "#ed7953"
             ],
             [
              0.7777777777777778,
              "#fb9f3a"
             ],
             [
              0.8888888888888888,
              "#fdca26"
             ],
             [
              1,
              "#f0f921"
             ]
            ],
            "type": "heatmap"
           }
          ],
          "heatmapgl": [
           {
            "colorbar": {
             "outlinewidth": 0,
             "ticks": ""
            },
            "colorscale": [
             [
              0,
              "#0d0887"
             ],
             [
              0.1111111111111111,
              "#46039f"
             ],
             [
              0.2222222222222222,
              "#7201a8"
             ],
             [
              0.3333333333333333,
              "#9c179e"
             ],
             [
              0.4444444444444444,
              "#bd3786"
             ],
             [
              0.5555555555555556,
              "#d8576b"
             ],
             [
              0.6666666666666666,
              "#ed7953"
             ],
             [
              0.7777777777777778,
              "#fb9f3a"
             ],
             [
              0.8888888888888888,
              "#fdca26"
             ],
             [
              1,
              "#f0f921"
             ]
            ],
            "type": "heatmapgl"
           }
          ],
          "histogram": [
           {
            "marker": {
             "colorbar": {
              "outlinewidth": 0,
              "ticks": ""
             }
            },
            "type": "histogram"
           }
          ],
          "histogram2d": [
           {
            "colorbar": {
             "outlinewidth": 0,
             "ticks": ""
            },
            "colorscale": [
             [
              0,
              "#0d0887"
             ],
             [
              0.1111111111111111,
              "#46039f"
             ],
             [
              0.2222222222222222,
              "#7201a8"
             ],
             [
              0.3333333333333333,
              "#9c179e"
             ],
             [
              0.4444444444444444,
              "#bd3786"
             ],
             [
              0.5555555555555556,
              "#d8576b"
             ],
             [
              0.6666666666666666,
              "#ed7953"
             ],
             [
              0.7777777777777778,
              "#fb9f3a"
             ],
             [
              0.8888888888888888,
              "#fdca26"
             ],
             [
              1,
              "#f0f921"
             ]
            ],
            "type": "histogram2d"
           }
          ],
          "histogram2dcontour": [
           {
            "colorbar": {
             "outlinewidth": 0,
             "ticks": ""
            },
            "colorscale": [
             [
              0,
              "#0d0887"
             ],
             [
              0.1111111111111111,
              "#46039f"
             ],
             [
              0.2222222222222222,
              "#7201a8"
             ],
             [
              0.3333333333333333,
              "#9c179e"
             ],
             [
              0.4444444444444444,
              "#bd3786"
             ],
             [
              0.5555555555555556,
              "#d8576b"
             ],
             [
              0.6666666666666666,
              "#ed7953"
             ],
             [
              0.7777777777777778,
              "#fb9f3a"
             ],
             [
              0.8888888888888888,
              "#fdca26"
             ],
             [
              1,
              "#f0f921"
             ]
            ],
            "type": "histogram2dcontour"
           }
          ],
          "mesh3d": [
           {
            "colorbar": {
             "outlinewidth": 0,
             "ticks": ""
            },
            "type": "mesh3d"
           }
          ],
          "parcoords": [
           {
            "line": {
             "colorbar": {
              "outlinewidth": 0,
              "ticks": ""
             }
            },
            "type": "parcoords"
           }
          ],
          "pie": [
           {
            "automargin": true,
            "type": "pie"
           }
          ],
          "scatter": [
           {
            "marker": {
             "colorbar": {
              "outlinewidth": 0,
              "ticks": ""
             }
            },
            "type": "scatter"
           }
          ],
          "scatter3d": [
           {
            "line": {
             "colorbar": {
              "outlinewidth": 0,
              "ticks": ""
             }
            },
            "marker": {
             "colorbar": {
              "outlinewidth": 0,
              "ticks": ""
             }
            },
            "type": "scatter3d"
           }
          ],
          "scattercarpet": [
           {
            "marker": {
             "colorbar": {
              "outlinewidth": 0,
              "ticks": ""
             }
            },
            "type": "scattercarpet"
           }
          ],
          "scattergeo": [
           {
            "marker": {
             "colorbar": {
              "outlinewidth": 0,
              "ticks": ""
             }
            },
            "type": "scattergeo"
           }
          ],
          "scattergl": [
           {
            "marker": {
             "colorbar": {
              "outlinewidth": 0,
              "ticks": ""
             }
            },
            "type": "scattergl"
           }
          ],
          "scattermapbox": [
           {
            "marker": {
             "colorbar": {
              "outlinewidth": 0,
              "ticks": ""
             }
            },
            "type": "scattermapbox"
           }
          ],
          "scatterpolar": [
           {
            "marker": {
             "colorbar": {
              "outlinewidth": 0,
              "ticks": ""
             }
            },
            "type": "scatterpolar"
           }
          ],
          "scatterpolargl": [
           {
            "marker": {
             "colorbar": {
              "outlinewidth": 0,
              "ticks": ""
             }
            },
            "type": "scatterpolargl"
           }
          ],
          "scatterternary": [
           {
            "marker": {
             "colorbar": {
              "outlinewidth": 0,
              "ticks": ""
             }
            },
            "type": "scatterternary"
           }
          ],
          "surface": [
           {
            "colorbar": {
             "outlinewidth": 0,
             "ticks": ""
            },
            "colorscale": [
             [
              0,
              "#0d0887"
             ],
             [
              0.1111111111111111,
              "#46039f"
             ],
             [
              0.2222222222222222,
              "#7201a8"
             ],
             [
              0.3333333333333333,
              "#9c179e"
             ],
             [
              0.4444444444444444,
              "#bd3786"
             ],
             [
              0.5555555555555556,
              "#d8576b"
             ],
             [
              0.6666666666666666,
              "#ed7953"
             ],
             [
              0.7777777777777778,
              "#fb9f3a"
             ],
             [
              0.8888888888888888,
              "#fdca26"
             ],
             [
              1,
              "#f0f921"
             ]
            ],
            "type": "surface"
           }
          ],
          "table": [
           {
            "cells": {
             "fill": {
              "color": "#EBF0F8"
             },
             "line": {
              "color": "white"
             }
            },
            "header": {
             "fill": {
              "color": "#C8D4E3"
             },
             "line": {
              "color": "white"
             }
            },
            "type": "table"
           }
          ]
         },
         "layout": {
          "annotationdefaults": {
           "arrowcolor": "#2a3f5f",
           "arrowhead": 0,
           "arrowwidth": 1
          },
          "autotypenumbers": "strict",
          "coloraxis": {
           "colorbar": {
            "outlinewidth": 0,
            "ticks": ""
           }
          },
          "colorscale": {
           "diverging": [
            [
             0,
             "#8e0152"
            ],
            [
             0.1,
             "#c51b7d"
            ],
            [
             0.2,
             "#de77ae"
            ],
            [
             0.3,
             "#f1b6da"
            ],
            [
             0.4,
             "#fde0ef"
            ],
            [
             0.5,
             "#f7f7f7"
            ],
            [
             0.6,
             "#e6f5d0"
            ],
            [
             0.7,
             "#b8e186"
            ],
            [
             0.8,
             "#7fbc41"
            ],
            [
             0.9,
             "#4d9221"
            ],
            [
             1,
             "#276419"
            ]
           ],
           "sequential": [
            [
             0,
             "#0d0887"
            ],
            [
             0.1111111111111111,
             "#46039f"
            ],
            [
             0.2222222222222222,
             "#7201a8"
            ],
            [
             0.3333333333333333,
             "#9c179e"
            ],
            [
             0.4444444444444444,
             "#bd3786"
            ],
            [
             0.5555555555555556,
             "#d8576b"
            ],
            [
             0.6666666666666666,
             "#ed7953"
            ],
            [
             0.7777777777777778,
             "#fb9f3a"
            ],
            [
             0.8888888888888888,
             "#fdca26"
            ],
            [
             1,
             "#f0f921"
            ]
           ],
           "sequentialminus": [
            [
             0,
             "#0d0887"
            ],
            [
             0.1111111111111111,
             "#46039f"
            ],
            [
             0.2222222222222222,
             "#7201a8"
            ],
            [
             0.3333333333333333,
             "#9c179e"
            ],
            [
             0.4444444444444444,
             "#bd3786"
            ],
            [
             0.5555555555555556,
             "#d8576b"
            ],
            [
             0.6666666666666666,
             "#ed7953"
            ],
            [
             0.7777777777777778,
             "#fb9f3a"
            ],
            [
             0.8888888888888888,
             "#fdca26"
            ],
            [
             1,
             "#f0f921"
            ]
           ]
          },
          "colorway": [
           "#636efa",
           "#EF553B",
           "#00cc96",
           "#ab63fa",
           "#FFA15A",
           "#19d3f3",
           "#FF6692",
           "#B6E880",
           "#FF97FF",
           "#FECB52"
          ],
          "font": {
           "color": "#2a3f5f"
          },
          "geo": {
           "bgcolor": "white",
           "lakecolor": "white",
           "landcolor": "#E5ECF6",
           "showlakes": true,
           "showland": true,
           "subunitcolor": "white"
          },
          "hoverlabel": {
           "align": "left"
          },
          "hovermode": "closest",
          "mapbox": {
           "style": "light"
          },
          "paper_bgcolor": "white",
          "plot_bgcolor": "#E5ECF6",
          "polar": {
           "angularaxis": {
            "gridcolor": "white",
            "linecolor": "white",
            "ticks": ""
           },
           "bgcolor": "#E5ECF6",
           "radialaxis": {
            "gridcolor": "white",
            "linecolor": "white",
            "ticks": ""
           }
          },
          "scene": {
           "xaxis": {
            "backgroundcolor": "#E5ECF6",
            "gridcolor": "white",
            "gridwidth": 2,
            "linecolor": "white",
            "showbackground": true,
            "ticks": "",
            "zerolinecolor": "white"
           },
           "yaxis": {
            "backgroundcolor": "#E5ECF6",
            "gridcolor": "white",
            "gridwidth": 2,
            "linecolor": "white",
            "showbackground": true,
            "ticks": "",
            "zerolinecolor": "white"
           },
           "zaxis": {
            "backgroundcolor": "#E5ECF6",
            "gridcolor": "white",
            "gridwidth": 2,
            "linecolor": "white",
            "showbackground": true,
            "ticks": "",
            "zerolinecolor": "white"
           }
          },
          "shapedefaults": {
           "line": {
            "color": "#2a3f5f"
           }
          },
          "ternary": {
           "aaxis": {
            "gridcolor": "white",
            "linecolor": "white",
            "ticks": ""
           },
           "baxis": {
            "gridcolor": "white",
            "linecolor": "white",
            "ticks": ""
           },
           "bgcolor": "#E5ECF6",
           "caxis": {
            "gridcolor": "white",
            "linecolor": "white",
            "ticks": ""
           }
          },
          "title": {
           "x": 0.05
          },
          "xaxis": {
           "automargin": true,
           "gridcolor": "white",
           "linecolor": "white",
           "ticks": "",
           "title": {
            "standoff": 15
           },
           "zerolinecolor": "white",
           "zerolinewidth": 2
          },
          "yaxis": {
           "automargin": true,
           "gridcolor": "white",
           "linecolor": "white",
           "ticks": "",
           "title": {
            "standoff": 15
           },
           "zerolinecolor": "white",
           "zerolinewidth": 2
          }
         }
        },
        "title": {
         "text": "Scatterplot Matrix"
        },
        "width": 700,
        "xaxis": {
         "anchor": "y",
         "domain": [
          0,
          0.2888888888888889
         ],
         "showticklabels": false
        },
        "xaxis2": {
         "anchor": "y2",
         "domain": [
          0.35555555555555557,
          0.6444444444444445
         ]
        },
        "xaxis3": {
         "anchor": "y3",
         "domain": [
          0.7111111111111111,
          1
         ]
        },
        "xaxis4": {
         "anchor": "y4",
         "domain": [
          0,
          0.2888888888888889
         ]
        },
        "xaxis5": {
         "anchor": "y5",
         "domain": [
          0.35555555555555557,
          0.6444444444444445
         ],
         "showticklabels": false
        },
        "xaxis6": {
         "anchor": "y6",
         "domain": [
          0.7111111111111111,
          1
         ]
        },
        "xaxis7": {
         "anchor": "y7",
         "domain": [
          0,
          0.2888888888888889
         ],
         "title": {
          "text": "research"
         }
        },
        "xaxis8": {
         "anchor": "y8",
         "domain": [
          0.35555555555555557,
          0.6444444444444445
         ],
         "title": {
          "text": "international"
         }
        },
        "xaxis9": {
         "anchor": "y9",
         "domain": [
          0.7111111111111111,
          1
         ],
         "showticklabels": false,
         "title": {
          "text": "total_score"
         }
        },
        "yaxis": {
         "anchor": "x",
         "domain": [
          0.7333333333333333,
          1
         ],
         "title": {
          "text": "research"
         }
        },
        "yaxis2": {
         "anchor": "x2",
         "domain": [
          0.7333333333333333,
          1
         ]
        },
        "yaxis3": {
         "anchor": "x3",
         "domain": [
          0.7333333333333333,
          1
         ]
        },
        "yaxis4": {
         "anchor": "x4",
         "domain": [
          0.36666666666666664,
          0.6333333333333333
         ],
         "title": {
          "text": "international"
         }
        },
        "yaxis5": {
         "anchor": "x5",
         "domain": [
          0.36666666666666664,
          0.6333333333333333
         ]
        },
        "yaxis6": {
         "anchor": "x6",
         "domain": [
          0.36666666666666664,
          0.6333333333333333
         ]
        },
        "yaxis7": {
         "anchor": "x7",
         "domain": [
          0,
          0.26666666666666666
         ],
         "title": {
          "text": "total_score"
         }
        },
        "yaxis8": {
         "anchor": "x8",
         "domain": [
          0,
          0.26666666666666666
         ]
        },
        "yaxis9": {
         "anchor": "x9",
         "domain": [
          0,
          0.26666666666666666
         ]
        }
       }
      },
      "text/html": [
       "<div>                            <div id=\"c6e6f7af-85a0-427b-825d-5a7334660e80\" class=\"plotly-graph-div\" style=\"height:700px; width:700px;\"></div>            <script type=\"text/javascript\">                require([\"plotly\"], function(Plotly) {                    window.PLOTLYENV=window.PLOTLYENV || {};                                    if (document.getElementById(\"c6e6f7af-85a0-427b-825d-5a7334660e80\")) {                    Plotly.newPlot(                        \"c6e6f7af-85a0-427b-825d-5a7334660e80\",                        [{\"marker\": {\"color\": \"rgb(12, 51, 131)\"}, \"showlegend\": false, \"type\": \"box\", \"xaxis\": \"x\", \"y\": [98.1, 98.6, 97.7, 96.7, 95.6, 88.2, 94.7, 96.7, 88.3, 90.8, 89.9, 90.5, 90.2, 79.4, 84.2, 82.0, 86.5, 75.2, 83.8, 85.1, 78.9, 80.4, 85.1, 74.9, 78.1, 68.9, 71.2, 72.0, 69.1, 79.0, 71.3, 69.0, 70.9, 74.2, 56.9, 62.9, 61.4, 62.4, 69.9, 62.3, 66.6, 55.2, 72.6, 68.0, 70.9, 64.7, 58.6, 61.9, 68.3, 77.1, 66.8, 63.2, 58.7, 54.2, 63.6, 59.7, 46.7, 64.8, 68.4, 60.8, 55.9, 47.1, 46.0, 58.2, 58.4, 49.3, 48.0, 51.1, 37.1, 45.4, 71.4, 53.7, 46.8, 44.7, 41.1, 44.6, 55.4, 36.2, 54.8, 52.6, 58.0, 49.4, 40.7, 54.4, 36.9, 51.4, 38.5, 33.9, 41.7, 51.6, 49.1, 46.3, 32.4, 43.2, 40.5, 38.2, 38.3, 45.0, 37.4, 53.0, 48.1, 50.5, 30.0, 48.1, 45.8, 33.1, 32.9, 37.2, 31.9, 51.9, 35.9, 30.4, 44.4, 44.7, 33.8, 37.4, 50.8, 22.4, 48.5, 33.1, 28.2, 29.2, 39.1, 47.1, 35.3, 29.1, 44.8, 52.1, 53.5, 35.9, 36.1, 36.9, 39.1, 34.1, 42.0, 39.9, 43.2, 30.3, 27.6, 46.7, 26.7, 51.9, 52.9, 47.1, 45.3, 39.1, 29.1, 50.2, 39.8, 35.1, 27.5, 35.4, 47.5, 32.7, 57.3, 29.9, 48.0, 33.2, 38.1, 34.4, 33.8, 36.5, 28.1, 40.4, 36.9, 34.9, 28.3, 47.3, 27.2, 33.6, 35.8, 34.9, 28.2, 30.6, 33.4, 33.5, 24.4, 29.3, 30.2, 19.7, 36.3, 37.5, 27.1, 39.7, 21.9, 35.2, 23.9, 24.4, 51.1, 34.7, 39.8, 32.9, 34.0, 30.9, 22.2, 42.1, 27.3, 22.6, 31.6, 13.1, 25.1, 27.7, 30.4, 22.4, 36.3, 36.5, 44.3, 29.6, 37.5, 22.0, 28.8, 27.9, 22.5, 34.1, 17.1, 34.0, 27.3, 23.4, 51.6, 28.2, 16.0, 45.3, 36.2, 23.5, 19.9, 45.8, 29.2, 29.3, 21.4, 24.5, 30.0, 29.9, 23.2, 31.8, 26.2, 29.3, 35.0, 32.3, 9.8, 28.1, 30.5, 38.2, 24.3, 33.4, 23.0, 32.5, 35.7, 17.3, 32.4, 35.3, 31.3, 10.1, 17.0, 23.3, 40.3, 24.8, 33.4, 25.1, 25.2, 33.7, 27.6, 30.7, 24.7, 18.1, 23.4, 29.9, 27.7, 19.2, 25.6, 37.9, 12.1, 21.7, 20.3, 20.3, 40.4, 32.8, 31.3, 39.5, 25.5, 22.5, 40.7, 29.6, 10.5, 18.1, 36.0, 37.9, 31.2, 45.1, 22.9, 22.2, 23.2, 22.4, 15.3, 19.7, 28.9, 20.3, 22.9, 24.4, 24.0, 27.5, 27.8, 28.5, 40.0, 19.3, 23.0, 17.8, 24.3, 10.4, 20.6, 14.3, 13.2, 17.3, 16.5, 24.4, 24.8, 17.2, 21.1, 26.6, 14.7, 24.8, 28.1, 34.7, 38.8, 25.2, 20.7, 25.1, 23.4, 18.4, 27.1, 16.8, 13.7, 29.0, 25.8, 24.0, 20.1, 29.4, 6.5, 13.7, 16.5, 15.7, 18.2, 18.8, 20.5, 25.1, 17.3, 22.2, 21.6, 12.0, 13.6, 15.2, 33.1, 28.5, 20.6, 21.6, 12.9, 19.1, 17.2, 17.1, 18.0, 20.3, 32.3, 27.5, 24.6, 14.3, 27.3, 10.0, 28.5, 16.6, 27.6, 17.8, 40.1, 32.9, 42.6, 18.9, 22.5, 16.3, 16.9, 25.7, 18.1, 21.6, 15.2, 17.3, 17.3, 10.9, 22.8, 18.4, 16.2, 22.0, 22.3, 10.6, 11.8, 20.2, 21.8, 19.4, 17.0, 17.9, 16.3, 27.5, 22.4, 17.4, 8.0], \"yaxis\": \"y\"}, {\"marker\": {\"color\": [1, 2, 3, 4, 5, 6, 7, 8, 9, 10, 11, 12, 13, 14, 15, 16, 17, 18, 19, 20, 21, 22, 23, 24, 25, 26, 27, 28, 29, 30, 31, 32, 33, 34, 35, 36, 37, 38, 39, 40, 41, 42, 43, 44, 45, 46, 47, 48, 49, 50, 51, 52, 53, 54, 55, 56, 57, 58, 59, 60, 61, 62, 63, 64, 65, 66, 67, 68, 69, 70, 71, 72, 73, 74, 75, 76, 77, 78, 79, 80, 81, 82, 83, 84, 85, 86, 87, 88, 89, 90, 91, 92, 93, 94, 95, 96, 97, 98, 99, 100, 101, 102, 103, 104, 105, 106, 107, 108, 109, 110, 111, 112, 113, 114, 115, 116, 117, 118, 119, 120, 121, 122, 123, 124, 125, 126, 127, 128, 129, 130, 131, 132, 133, 134, 135, 136, 137, 138, 139, 140, 141, 142, 143, 144, 145, 146, 147, 148, 149, 150, 151, 152, 153, 154, 155, 156, 157, 158, 159, 160, 161, 162, 163, 164, 165, 166, 167, 168, 169, 170, 171, 172, 173, 174, 175, 176, 177, 178, 179, 180, 181, 182, 183, 184, 185, 186, 187, 188, 189, 190, 191, 192, 193, 194, 195, 196, 197, 198, 199, 200, 201, 202, 203, 204, 205, 206, 207, 208, 209, 210, 211, 212, 213, 214, 215, 216, 217, 218, 219, 220, 221, 222, 223, 224, 225, 226, 227, 228, 229, 230, 231, 232, 233, 234, 235, 236, 237, 238, 239, 240, 241, 242, 243, 244, 245, 246, 247, 248, 249, 250, 251, 252, 253, 254, 255, 256, 257, 258, 259, 260, 261, 262, 263, 264, 265, 266, 267, 268, 269, 270, 271, 272, 273, 274, 275, 276, 277, 278, 279, 280, 281, 282, 283, 284, 285, 286, 287, 288, 289, 290, 291, 292, 293, 294, 295, 296, 297, 298, 299, 300, 301, 302, 303, 304, 305, 306, 307, 308, 309, 310, 311, 312, 313, 314, 315, 316, 317, 318, 319, 320, 321, 322, 323, 324, 325, 326, 327, 328, 329, 330, 331, 332, 333, 334, 335, 336, 337, 338, 339, 340, 341, 342, 343, 344, 345, 346, 347, 348, 349, 350, 351, 352, 353, 354, 355, 356, 357, 358, 359, 360, 361, 362, 363, 364, 365, 366, 367, 368, 369, 370, 371, 372, 373, 374, 375, 376, 377, 378, 379, 380, 381, 382, 383, 384, 385, 386, 387, 388, 389, 390, 391, 392, 393, 394, 395, 396, 397, 398, 399, 400, 401], \"colorscale\": [[0.0, \"rgb(12, 51, 131)\"], [1.0, \"rgb(217, 30, 30)\"]], \"showscale\": true, \"size\": 6}, \"mode\": \"markers\", \"showlegend\": false, \"type\": \"scatter\", \"x\": [\"67.0\", \"67.6\", \"90.7\", \"69.0\", \"87.8\", \"84.3\", \"61.2\", \"58.5\", \"92.7\", \"59.8\", \"65.2\", \"49.2\", \"96.6\", \"68.3\", \"59.7\", \"43.8\", \"49.8\", \"50.5\", \"59.0\", \"71.2\", \"36.7\", \"90.6\", \"32.4\", \"59.3\", \"94.9\", \"47.9\", \"68.9\", \"33.1\", \"56.4\", \"43.9\", \"33.6\", \"84.8\", \"81.3\", \"87.4\", \"98.8\", \"84.3\", \"64.3\", \"41.2\", \"79.0\", \"87.0\", \"37.0\", \"46.5\", \"81.9\", \"60.6\", \"91.3\", \"33.8\", \"35.3\", \"53.7\", \"44.6\", \"30.3\", \"77.8\", \"34.9\", \"82.0\", \"37.0\", \"62.3\", \"52.9\", \"47.8\", \"37.4\", \"29.0\", \"83.6\", \"92.5\", \"94.5\", \"50.1\", \"59.5\", \"80.4\", \"36.0\", \"53.9\", \"51.5\", \"70.8\", \"63.1\", \"77.9\", \"66.2\", \"78.7\", \"76.6\", \"91.2\", \"42.7\", \"60.5\", \"81.9\", \"52.9\", \"55.7\", \"56.6\", \"55.0\", \"80.4\", \"79.6\", \"38.7\", \"38.8\", \"51.4\", \"51.1\", \"56.1\", \"49.1\", \"40.3\", \"32.2\", \"42.9\", \"69.4\", \"78.8\", \"28.3\", \"39.1\", \"53.2\", \"64.0\", \"57.5\", \"89.7\", \"64.3\", \"64.7\", \"49.7\", \"85.7\", \"86.9\", \"88.6\", \"96.8\", \"54.6\", \"83.5\", \"90.5\", \"83.6\", \"76.7\", \"53.0\", \"75.0\", \"34.4\", \"56.1\", \"94.4\", \"70.1\", \"62.7\", \"79.7\", \"55.5\", \"74.8\", \"73.4\", \"76.7\", \"54.6\", \"84.0\", \"32.2\", \"64.0\", \"31.8\", \"84.7\", \"80.7\", \"44.8\", \"82.4\", \"44.7\", \"85.1\", \"50.6\", \"83.9\", \"54.1\", \"61.6\", \"52.6\", \"49.1\", \"37.0\", \"69.0\", \"34.3\", \"67.6\", \"54.7\", \"35.8\", \"75.8\", \"37.1\", \"61.6\", \"33.1\", \"66.3\", \"79.8\", \"27.5\", \"56.8\", \"29.1\", \"79.5\", \"87.3\", \"71.8\", \"64.4\", \"27.5\", \"56.7\", \"79.3\", \"37.3\", \"60.1\", \"63.2\", \"29.7\", \"56.7\", \"61.0\", \"70.6\", \"59.7\", \"43.3\", \"70.1\", \"87.3\", \"31.7\", \"41.2\", \"57.3\", \"84.1\", \"67.4\", \"40.6\", \"29.5\", \"44.6\", \"91.0\", \"54.7\", \"60.3\", \"27.6\", \"60.5\", \"46.1\", \"63.2\", \"57.0\", \"71.3\", \"37.4\", \"40.6\", \"54.8\", \"60.4\", \"55.8\", \"76.5\", \"83.9\", \"63.0\", \"39.9\", \"44.6\", \"69.3\", \"55.6\", \"53.3\", \"69.9\", \"35.9\", \"73.8\", \"60.6\", \"54.1\", \"47.8\", \"65.3\", \"64.5\", \"53.4\", \"93.4\", \"75.0\", \"26.3\", \"69.5\", \"25.3\", \"55.4\", \"50.7\", \"67.2\", \"79.4\", \"26.0\", \"26.5\", \"35.7\", \"46.4\", \"84.4\", \"88.8\", \"61.1\", \"71.6\", \"55.7\", \"58.7\", \"31.8\", \"42.8\", \"61.4\", \"39.6\", \"70.4\", \"39.5\", \"79.4\", \"63.1\", \"46.8\", \"44.2\", \"57.0\", \"40.6\", \"86.9\", \"63.7\", \"50.2\", \"75.9\", \"59.7\", \"59.4\", \"48.7\", \"73.1\", \"50.2\", \"24.8\", \"71.7\", \"55.4\", \"88.6\", \"49.6\", \"59.6\", \"53.0\", \"59.4\", \"59.1\", \"48.2\", \"32.2\", \"70.6\", \"81.5\", \"43.5\", \"40.3\", \"41.0\", \"54.6\", \"66.3\", \"57.3\", \"39.3\", \"63.1\", \"62.5\", \"30.4\", \"18.2\", \"59.1\", \"56.6\", \"30.7\", \"54.7\", \"29.2\", \"51.3\", \"69.8\", \"23.9\", \"47.8\", \"62.2\", \"21.8\", \"70.8\", \"43.1\", \"26.0\", \"49.0\", \"84.4\", \"35.3\", \"73.3\", \"37.4\", \"47.8\", \"80.8\", \"37.3\", \"80.4\", \"84.2\", \"28.9\", \"48.8\", \"73.1\", \"45.5\", \"53.9\", \"29.1\", \"71.8\", \"42.2\", \"62.3\", \"59.4\", \"41.5\", \"49.8\", \"89.2\", \"43.8\", \"36.7\", \"42.9\", \"44.4\", \"26.9\", \"37.5\", \"19.4\", \"20.7\", \"37.0\", \"29.7\", \"76.1\", \"88.2\", \"52.1\", \"38.8\", \"47.0\", \"49.2\", \"86.7\", \"33.1\", \"47.2\", \"32.2\", \"43.4\", \"45.1\", \"20.7\", \"34.8\", \"30.0\", \"40.4\", \"36.7\", \"67.1\", \"66.9\", \"59.3\", \"45.6\", \"36.1\", \"43.7\", \"41.6\", \"30.7\", \"21.5\", \"65.8\", \"66.5\", \"79.7\", \"53.9\", \"48.6\", \"52.1\", \"91.3\", \"36.0\", \"35.8\", \"48.4\", \"25.2\", \"19.5\", \"16.6\", \"20.0\", \"22.5\", \"26.1\", \"34.5\", \"50.9\", \"85.3\", \"26.7\", \"24.2\", \"26.7\", \"82.6\", \"53.6\", \"86.9\", \"60.0\", \"50.3\", \"38.1\", \"44.1\", \"42.1\", \"37.4\", \"64.8\", \"74.9\", \"46.8\", \"69.1\", \"49.7\", \"29.6\", \"46.2\", \"73.3\", \"48.0\", \"34.3\", \"46.3\", \"21.0\", \"80.3\", \"54.5\", \"43.1\", \"36.0\", \"50.1\", \"33.1\", \"21.4\"], \"xaxis\": \"x2\", \"y\": [98.1, 98.6, 97.7, 96.7, 95.6, 88.2, 94.7, 96.7, 88.3, 90.8, 89.9, 90.5, 90.2, 79.4, 84.2, 82.0, 86.5, 75.2, 83.8, 85.1, 78.9, 80.4, 85.1, 74.9, 78.1, 68.9, 71.2, 72.0, 69.1, 79.0, 71.3, 69.0, 70.9, 74.2, 56.9, 62.9, 61.4, 62.4, 69.9, 62.3, 66.6, 55.2, 72.6, 68.0, 70.9, 64.7, 58.6, 61.9, 68.3, 77.1, 66.8, 63.2, 58.7, 54.2, 63.6, 59.7, 46.7, 64.8, 68.4, 60.8, 55.9, 47.1, 46.0, 58.2, 58.4, 49.3, 48.0, 51.1, 37.1, 45.4, 71.4, 53.7, 46.8, 44.7, 41.1, 44.6, 55.4, 36.2, 54.8, 52.6, 58.0, 49.4, 40.7, 54.4, 36.9, 51.4, 38.5, 33.9, 41.7, 51.6, 49.1, 46.3, 32.4, 43.2, 40.5, 38.2, 38.3, 45.0, 37.4, 53.0, 48.1, 50.5, 30.0, 48.1, 45.8, 33.1, 32.9, 37.2, 31.9, 51.9, 35.9, 30.4, 44.4, 44.7, 33.8, 37.4, 50.8, 22.4, 48.5, 33.1, 28.2, 29.2, 39.1, 47.1, 35.3, 29.1, 44.8, 52.1, 53.5, 35.9, 36.1, 36.9, 39.1, 34.1, 42.0, 39.9, 43.2, 30.3, 27.6, 46.7, 26.7, 51.9, 52.9, 47.1, 45.3, 39.1, 29.1, 50.2, 39.8, 35.1, 27.5, 35.4, 47.5, 32.7, 57.3, 29.9, 48.0, 33.2, 38.1, 34.4, 33.8, 36.5, 28.1, 40.4, 36.9, 34.9, 28.3, 47.3, 27.2, 33.6, 35.8, 34.9, 28.2, 30.6, 33.4, 33.5, 24.4, 29.3, 30.2, 19.7, 36.3, 37.5, 27.1, 39.7, 21.9, 35.2, 23.9, 24.4, 51.1, 34.7, 39.8, 32.9, 34.0, 30.9, 22.2, 42.1, 27.3, 22.6, 31.6, 13.1, 25.1, 27.7, 30.4, 22.4, 36.3, 36.5, 44.3, 29.6, 37.5, 22.0, 28.8, 27.9, 22.5, 34.1, 17.1, 34.0, 27.3, 23.4, 51.6, 28.2, 16.0, 45.3, 36.2, 23.5, 19.9, 45.8, 29.2, 29.3, 21.4, 24.5, 30.0, 29.9, 23.2, 31.8, 26.2, 29.3, 35.0, 32.3, 9.8, 28.1, 30.5, 38.2, 24.3, 33.4, 23.0, 32.5, 35.7, 17.3, 32.4, 35.3, 31.3, 10.1, 17.0, 23.3, 40.3, 24.8, 33.4, 25.1, 25.2, 33.7, 27.6, 30.7, 24.7, 18.1, 23.4, 29.9, 27.7, 19.2, 25.6, 37.9, 12.1, 21.7, 20.3, 20.3, 40.4, 32.8, 31.3, 39.5, 25.5, 22.5, 40.7, 29.6, 10.5, 18.1, 36.0, 37.9, 31.2, 45.1, 22.9, 22.2, 23.2, 22.4, 15.3, 19.7, 28.9, 20.3, 22.9, 24.4, 24.0, 27.5, 27.8, 28.5, 40.0, 19.3, 23.0, 17.8, 24.3, 10.4, 20.6, 14.3, 13.2, 17.3, 16.5, 24.4, 24.8, 17.2, 21.1, 26.6, 14.7, 24.8, 28.1, 34.7, 38.8, 25.2, 20.7, 25.1, 23.4, 18.4, 27.1, 16.8, 13.7, 29.0, 25.8, 24.0, 20.1, 29.4, 6.5, 13.7, 16.5, 15.7, 18.2, 18.8, 20.5, 25.1, 17.3, 22.2, 21.6, 12.0, 13.6, 15.2, 33.1, 28.5, 20.6, 21.6, 12.9, 19.1, 17.2, 17.1, 18.0, 20.3, 32.3, 27.5, 24.6, 14.3, 27.3, 10.0, 28.5, 16.6, 27.6, 17.8, 40.1, 32.9, 42.6, 18.9, 22.5, 16.3, 16.9, 25.7, 18.1, 21.6, 15.2, 17.3, 17.3, 10.9, 22.8, 18.4, 16.2, 22.0, 22.3, 10.6, 11.8, 20.2, 21.8, 19.4, 17.0, 17.9, 16.3, 27.5, 22.4, 17.4, 8.0], \"yaxis\": \"y2\"}, {\"marker\": {\"color\": [1, 2, 3, 4, 5, 6, 7, 8, 9, 10, 11, 12, 13, 14, 15, 16, 17, 18, 19, 20, 21, 22, 23, 24, 25, 26, 27, 28, 29, 30, 31, 32, 33, 34, 35, 36, 37, 38, 39, 40, 41, 42, 43, 44, 45, 46, 47, 48, 49, 50, 51, 52, 53, 54, 55, 56, 57, 58, 59, 60, 61, 62, 63, 64, 65, 66, 67, 68, 69, 70, 71, 72, 73, 74, 75, 76, 77, 78, 79, 80, 81, 82, 83, 84, 85, 86, 87, 88, 89, 90, 91, 92, 93, 94, 95, 96, 97, 98, 99, 100, 101, 102, 103, 104, 105, 106, 107, 108, 109, 110, 111, 112, 113, 114, 115, 116, 117, 118, 119, 120, 121, 122, 123, 124, 125, 126, 127, 128, 129, 130, 131, 132, 133, 134, 135, 136, 137, 138, 139, 140, 141, 142, 143, 144, 145, 146, 147, 148, 149, 150, 151, 152, 153, 154, 155, 156, 157, 158, 159, 160, 161, 162, 163, 164, 165, 166, 167, 168, 169, 170, 171, 172, 173, 174, 175, 176, 177, 178, 179, 180, 181, 182, 183, 184, 185, 186, 187, 188, 189, 190, 191, 192, 193, 194, 195, 196, 197, 198, 199, 200, 201, 202, 203, 204, 205, 206, 207, 208, 209, 210, 211, 212, 213, 214, 215, 216, 217, 218, 219, 220, 221, 222, 223, 224, 225, 226, 227, 228, 229, 230, 231, 232, 233, 234, 235, 236, 237, 238, 239, 240, 241, 242, 243, 244, 245, 246, 247, 248, 249, 250, 251, 252, 253, 254, 255, 256, 257, 258, 259, 260, 261, 262, 263, 264, 265, 266, 267, 268, 269, 270, 271, 272, 273, 274, 275, 276, 277, 278, 279, 280, 281, 282, 283, 284, 285, 286, 287, 288, 289, 290, 291, 292, 293, 294, 295, 296, 297, 298, 299, 300, 301, 302, 303, 304, 305, 306, 307, 308, 309, 310, 311, 312, 313, 314, 315, 316, 317, 318, 319, 320, 321, 322, 323, 324, 325, 326, 327, 328, 329, 330, 331, 332, 333, 334, 335, 336, 337, 338, 339, 340, 341, 342, 343, 344, 345, 346, 347, 348, 349, 350, 351, 352, 353, 354, 355, 356, 357, 358, 359, 360, 361, 362, 363, 364, 365, 366, 367, 368, 369, 370, 371, 372, 373, 374, 375, 376, 377, 378, 379, 380, 381, 382, 383, 384, 385, 386, 387, 388, 389, 390, 391, 392, 393, 394, 395, 396, 397, 398, 399, 400, 401], \"colorscale\": [[0.0, \"rgb(12, 51, 131)\"], [1.0, \"rgb(217, 30, 30)\"]], \"showscale\": false, \"size\": 6}, \"mode\": \"markers\", \"showlegend\": false, \"type\": \"scatter\", \"x\": [\"94.3\", \"93.3\", \"93.2\", \"92.9\", \"92.0\", \"91.9\", \"90.9\", \"89.5\", \"87.5\", \"87.5\", \"87.1\", \"85.5\", \"84.6\", \"84.4\", \"83.0\", \"81.0\", \"80.9\", \"79.9\", \"79.4\", \"79.3\", \"79.2\", \"78.7\", \"76.1\", \"74.3\", \"73.3\", \"73.2\", \"72.8\", \"72.3\", \"71.9\", \"71.9\", \"71.9\", \"71.8\", \"71.2\", \"70.9\", \"70.9\", \"70.4\", \"70.0\", \"69.9\", \"69.6\", \"69.4\", \"68.6\", \"67.8\", \"67.5\", \"66.8\", \"66.5\", \"65.9\", \"65.9\", \"65.2\", \"65.1\", \"64.8\", \"64.7\", \"64.5\", \"64.5\", \"64.1\", \"63.7\", \"63.7\", \"63.6\", \"62.9\", \"62.8\", \"62.7\", \"62.2\", \"62.2\", \"61.9\", \"61.3\", \"61.2\", \"61.1\", \"61.0\", \"60.7\", \"59.8\", \"59.6\", \"59.2\", \"59.1\", \"59.0\", \"58.9\", \"58.4\", \"58.4\", \"58.2\", \"58.1\", \"58.0\", \"57.9\", \"57.6\", \"57.3\", \"56.9\", \"56.9\", \"56.6\", \"56.5\", \"56.5\", \"56.4\", \"56.4\", \"56.2\", \"56.1\", \"56.1\", \"55.5\", \"55.3\", \"55.3\", \"55.2\", \"55.1\", \"54.6\", \"54.6\", \"54.6\", \"54.3\", \"54.0\", \"53.9\", \"53.9\", \"53.9\", \"53.9\", \"53.8\", \"53.8\", \"53.7\", \"53.7\", \"53.6\", \"53.6\", \"53.4\", \"53.4\", \"53.4\", \"53.2\", \"53.1\", \"53.0\", \"52.9\", \"52.8\", \"52.7\", \"52.7\", \"52.7\", \"52.6\", \"52.6\", \"52.5\", \"52.5\", \"52.5\", \"52.4\", \"52.1\", \"52.0\", \"51.9\", \"51.9\", \"51.9\", \"51.6\", \"51.4\", \"51.4\", \"51.2\", \"51.1\", \"51.0\", \"50.9\", \"50.9\", \"50.9\", \"50.5\", \"50.5\", \"50.4\", \"50.3\", \"50.2\", \"50.2\", \"50.1\", \"50.1\", \"50.0\", \"49.9\", \"49.7\", \"49.3\", \"49.2\", \"49.1\", \"49.1\", \"49.1\", \"49.0\", \"49.0\", \"48.6\", \"48.3\", \"48.2\", \"48.1\", \"48.1\", \"48.1\", \"48.1\", \"48.0\", \"47.9\", \"47.8\", \"47.8\", \"47.7\", \"47.7\", \"47.5\", \"47.5\", \"47.3\", \"47.1\", \"47.1\", \"47.0\", \"47.0\", \"46.9\", \"46.9\", \"46.9\", \"46.8\", \"46.7\", \"46.7\", \"46.6\", \"46.6\", \"46.6\", \"46.5\", \"46.3\", \"46.2\", \"46.2\", \"46.1\", \"46.0\", \"46.0\", \"45.9\", \"45.7\", \"45.6\", \"45.6\", \"-\", \"-\", \"-\", \"-\", \"-\", \"-\", \"-\", \"-\", \"-\", \"-\", \"-\", \"-\", \"-\", \"-\", \"-\", \"-\", \"-\", \"-\", \"-\", \"-\", \"-\", \"-\", \"-\", \"-\", \"-\", \"-\", \"-\", \"-\", \"-\", \"-\", \"-\", \"-\", \"-\", \"-\", \"-\", \"-\", \"-\", \"-\", \"-\", \"-\", \"-\", \"-\", \"-\", \"-\", \"-\", \"-\", \"-\", \"-\", \"-\", \"-\", \"-\", \"-\", \"-\", \"-\", \"-\", \"-\", \"-\", \"-\", \"-\", \"-\", \"-\", \"-\", \"-\", \"-\", \"-\", \"-\", \"-\", \"-\", \"-\", \"-\", \"-\", \"-\", \"-\", \"-\", \"-\", \"-\", \"-\", \"-\", \"-\", \"-\", \"-\", \"-\", \"-\", \"-\", \"-\", \"-\", \"-\", \"-\", \"-\", \"-\", \"-\", \"-\", \"-\", \"-\", \"-\", \"-\", \"-\", \"-\", \"-\", \"-\", \"-\", \"-\", \"-\", \"-\", \"-\", \"-\", \"-\", \"-\", \"-\", \"-\", \"-\", \"-\", \"-\", \"-\", \"-\", \"-\", \"-\", \"-\", \"-\", \"-\", \"-\", \"-\", \"-\", \"-\", \"-\", \"-\", \"-\", \"-\", \"-\", \"-\", \"-\", \"-\", \"-\", \"-\", \"-\", \"-\", \"-\", \"-\", \"-\", \"-\", \"-\", \"-\", \"-\", \"-\", \"-\", \"-\", \"-\", \"-\", \"-\", \"-\", \"-\", \"-\", \"-\", \"-\", \"-\", \"-\", \"-\", \"-\", \"-\", \"-\", \"-\", \"-\", \"-\", \"-\", \"-\", \"-\", \"-\", \"-\", \"-\", \"-\", \"-\", \"-\", \"-\", \"-\", \"-\", \"-\", \"-\", \"-\", \"-\", \"-\", \"-\", \"-\", \"-\", \"-\", \"-\", \"-\", \"-\", \"-\", \"-\", \"-\", \"-\", \"-\", \"-\", \"-\", \"-\", \"-\", \"-\", \"-\", \"-\", \"-\"], \"xaxis\": \"x3\", \"y\": [98.1, 98.6, 97.7, 96.7, 95.6, 88.2, 94.7, 96.7, 88.3, 90.8, 89.9, 90.5, 90.2, 79.4, 84.2, 82.0, 86.5, 75.2, 83.8, 85.1, 78.9, 80.4, 85.1, 74.9, 78.1, 68.9, 71.2, 72.0, 69.1, 79.0, 71.3, 69.0, 70.9, 74.2, 56.9, 62.9, 61.4, 62.4, 69.9, 62.3, 66.6, 55.2, 72.6, 68.0, 70.9, 64.7, 58.6, 61.9, 68.3, 77.1, 66.8, 63.2, 58.7, 54.2, 63.6, 59.7, 46.7, 64.8, 68.4, 60.8, 55.9, 47.1, 46.0, 58.2, 58.4, 49.3, 48.0, 51.1, 37.1, 45.4, 71.4, 53.7, 46.8, 44.7, 41.1, 44.6, 55.4, 36.2, 54.8, 52.6, 58.0, 49.4, 40.7, 54.4, 36.9, 51.4, 38.5, 33.9, 41.7, 51.6, 49.1, 46.3, 32.4, 43.2, 40.5, 38.2, 38.3, 45.0, 37.4, 53.0, 48.1, 50.5, 30.0, 48.1, 45.8, 33.1, 32.9, 37.2, 31.9, 51.9, 35.9, 30.4, 44.4, 44.7, 33.8, 37.4, 50.8, 22.4, 48.5, 33.1, 28.2, 29.2, 39.1, 47.1, 35.3, 29.1, 44.8, 52.1, 53.5, 35.9, 36.1, 36.9, 39.1, 34.1, 42.0, 39.9, 43.2, 30.3, 27.6, 46.7, 26.7, 51.9, 52.9, 47.1, 45.3, 39.1, 29.1, 50.2, 39.8, 35.1, 27.5, 35.4, 47.5, 32.7, 57.3, 29.9, 48.0, 33.2, 38.1, 34.4, 33.8, 36.5, 28.1, 40.4, 36.9, 34.9, 28.3, 47.3, 27.2, 33.6, 35.8, 34.9, 28.2, 30.6, 33.4, 33.5, 24.4, 29.3, 30.2, 19.7, 36.3, 37.5, 27.1, 39.7, 21.9, 35.2, 23.9, 24.4, 51.1, 34.7, 39.8, 32.9, 34.0, 30.9, 22.2, 42.1, 27.3, 22.6, 31.6, 13.1, 25.1, 27.7, 30.4, 22.4, 36.3, 36.5, 44.3, 29.6, 37.5, 22.0, 28.8, 27.9, 22.5, 34.1, 17.1, 34.0, 27.3, 23.4, 51.6, 28.2, 16.0, 45.3, 36.2, 23.5, 19.9, 45.8, 29.2, 29.3, 21.4, 24.5, 30.0, 29.9, 23.2, 31.8, 26.2, 29.3, 35.0, 32.3, 9.8, 28.1, 30.5, 38.2, 24.3, 33.4, 23.0, 32.5, 35.7, 17.3, 32.4, 35.3, 31.3, 10.1, 17.0, 23.3, 40.3, 24.8, 33.4, 25.1, 25.2, 33.7, 27.6, 30.7, 24.7, 18.1, 23.4, 29.9, 27.7, 19.2, 25.6, 37.9, 12.1, 21.7, 20.3, 20.3, 40.4, 32.8, 31.3, 39.5, 25.5, 22.5, 40.7, 29.6, 10.5, 18.1, 36.0, 37.9, 31.2, 45.1, 22.9, 22.2, 23.2, 22.4, 15.3, 19.7, 28.9, 20.3, 22.9, 24.4, 24.0, 27.5, 27.8, 28.5, 40.0, 19.3, 23.0, 17.8, 24.3, 10.4, 20.6, 14.3, 13.2, 17.3, 16.5, 24.4, 24.8, 17.2, 21.1, 26.6, 14.7, 24.8, 28.1, 34.7, 38.8, 25.2, 20.7, 25.1, 23.4, 18.4, 27.1, 16.8, 13.7, 29.0, 25.8, 24.0, 20.1, 29.4, 6.5, 13.7, 16.5, 15.7, 18.2, 18.8, 20.5, 25.1, 17.3, 22.2, 21.6, 12.0, 13.6, 15.2, 33.1, 28.5, 20.6, 21.6, 12.9, 19.1, 17.2, 17.1, 18.0, 20.3, 32.3, 27.5, 24.6, 14.3, 27.3, 10.0, 28.5, 16.6, 27.6, 17.8, 40.1, 32.9, 42.6, 18.9, 22.5, 16.3, 16.9, 25.7, 18.1, 21.6, 15.2, 17.3, 17.3, 10.9, 22.8, 18.4, 16.2, 22.0, 22.3, 10.6, 11.8, 20.2, 21.8, 19.4, 17.0, 17.9, 16.3, 27.5, 22.4, 17.4, 8.0], \"yaxis\": \"y3\"}, {\"marker\": {\"color\": [1, 2, 3, 4, 5, 6, 7, 8, 9, 10, 11, 12, 13, 14, 15, 16, 17, 18, 19, 20, 21, 22, 23, 24, 25, 26, 27, 28, 29, 30, 31, 32, 33, 34, 35, 36, 37, 38, 39, 40, 41, 42, 43, 44, 45, 46, 47, 48, 49, 50, 51, 52, 53, 54, 55, 56, 57, 58, 59, 60, 61, 62, 63, 64, 65, 66, 67, 68, 69, 70, 71, 72, 73, 74, 75, 76, 77, 78, 79, 80, 81, 82, 83, 84, 85, 86, 87, 88, 89, 90, 91, 92, 93, 94, 95, 96, 97, 98, 99, 100, 101, 102, 103, 104, 105, 106, 107, 108, 109, 110, 111, 112, 113, 114, 115, 116, 117, 118, 119, 120, 121, 122, 123, 124, 125, 126, 127, 128, 129, 130, 131, 132, 133, 134, 135, 136, 137, 138, 139, 140, 141, 142, 143, 144, 145, 146, 147, 148, 149, 150, 151, 152, 153, 154, 155, 156, 157, 158, 159, 160, 161, 162, 163, 164, 165, 166, 167, 168, 169, 170, 171, 172, 173, 174, 175, 176, 177, 178, 179, 180, 181, 182, 183, 184, 185, 186, 187, 188, 189, 190, 191, 192, 193, 194, 195, 196, 197, 198, 199, 200, 201, 202, 203, 204, 205, 206, 207, 208, 209, 210, 211, 212, 213, 214, 215, 216, 217, 218, 219, 220, 221, 222, 223, 224, 225, 226, 227, 228, 229, 230, 231, 232, 233, 234, 235, 236, 237, 238, 239, 240, 241, 242, 243, 244, 245, 246, 247, 248, 249, 250, 251, 252, 253, 254, 255, 256, 257, 258, 259, 260, 261, 262, 263, 264, 265, 266, 267, 268, 269, 270, 271, 272, 273, 274, 275, 276, 277, 278, 279, 280, 281, 282, 283, 284, 285, 286, 287, 288, 289, 290, 291, 292, 293, 294, 295, 296, 297, 298, 299, 300, 301, 302, 303, 304, 305, 306, 307, 308, 309, 310, 311, 312, 313, 314, 315, 316, 317, 318, 319, 320, 321, 322, 323, 324, 325, 326, 327, 328, 329, 330, 331, 332, 333, 334, 335, 336, 337, 338, 339, 340, 341, 342, 343, 344, 345, 346, 347, 348, 349, 350, 351, 352, 353, 354, 355, 356, 357, 358, 359, 360, 361, 362, 363, 364, 365, 366, 367, 368, 369, 370, 371, 372, 373, 374, 375, 376, 377, 378, 379, 380, 381, 382, 383, 384, 385, 386, 387, 388, 389, 390, 391, 392, 393, 394, 395, 396, 397, 398, 399, 400, 401], \"colorscale\": [[0.0, \"rgb(12, 51, 131)\"], [1.0, \"rgb(217, 30, 30)\"]], \"showscale\": false, \"size\": 6}, \"mode\": \"markers\", \"showlegend\": false, \"type\": \"scatter\", \"x\": [98.1, 98.6, 97.7, 96.7, 95.6, 88.2, 94.7, 96.7, 88.3, 90.8, 89.9, 90.5, 90.2, 79.4, 84.2, 82.0, 86.5, 75.2, 83.8, 85.1, 78.9, 80.4, 85.1, 74.9, 78.1, 68.9, 71.2, 72.0, 69.1, 79.0, 71.3, 69.0, 70.9, 74.2, 56.9, 62.9, 61.4, 62.4, 69.9, 62.3, 66.6, 55.2, 72.6, 68.0, 70.9, 64.7, 58.6, 61.9, 68.3, 77.1, 66.8, 63.2, 58.7, 54.2, 63.6, 59.7, 46.7, 64.8, 68.4, 60.8, 55.9, 47.1, 46.0, 58.2, 58.4, 49.3, 48.0, 51.1, 37.1, 45.4, 71.4, 53.7, 46.8, 44.7, 41.1, 44.6, 55.4, 36.2, 54.8, 52.6, 58.0, 49.4, 40.7, 54.4, 36.9, 51.4, 38.5, 33.9, 41.7, 51.6, 49.1, 46.3, 32.4, 43.2, 40.5, 38.2, 38.3, 45.0, 37.4, 53.0, 48.1, 50.5, 30.0, 48.1, 45.8, 33.1, 32.9, 37.2, 31.9, 51.9, 35.9, 30.4, 44.4, 44.7, 33.8, 37.4, 50.8, 22.4, 48.5, 33.1, 28.2, 29.2, 39.1, 47.1, 35.3, 29.1, 44.8, 52.1, 53.5, 35.9, 36.1, 36.9, 39.1, 34.1, 42.0, 39.9, 43.2, 30.3, 27.6, 46.7, 26.7, 51.9, 52.9, 47.1, 45.3, 39.1, 29.1, 50.2, 39.8, 35.1, 27.5, 35.4, 47.5, 32.7, 57.3, 29.9, 48.0, 33.2, 38.1, 34.4, 33.8, 36.5, 28.1, 40.4, 36.9, 34.9, 28.3, 47.3, 27.2, 33.6, 35.8, 34.9, 28.2, 30.6, 33.4, 33.5, 24.4, 29.3, 30.2, 19.7, 36.3, 37.5, 27.1, 39.7, 21.9, 35.2, 23.9, 24.4, 51.1, 34.7, 39.8, 32.9, 34.0, 30.9, 22.2, 42.1, 27.3, 22.6, 31.6, 13.1, 25.1, 27.7, 30.4, 22.4, 36.3, 36.5, 44.3, 29.6, 37.5, 22.0, 28.8, 27.9, 22.5, 34.1, 17.1, 34.0, 27.3, 23.4, 51.6, 28.2, 16.0, 45.3, 36.2, 23.5, 19.9, 45.8, 29.2, 29.3, 21.4, 24.5, 30.0, 29.9, 23.2, 31.8, 26.2, 29.3, 35.0, 32.3, 9.8, 28.1, 30.5, 38.2, 24.3, 33.4, 23.0, 32.5, 35.7, 17.3, 32.4, 35.3, 31.3, 10.1, 17.0, 23.3, 40.3, 24.8, 33.4, 25.1, 25.2, 33.7, 27.6, 30.7, 24.7, 18.1, 23.4, 29.9, 27.7, 19.2, 25.6, 37.9, 12.1, 21.7, 20.3, 20.3, 40.4, 32.8, 31.3, 39.5, 25.5, 22.5, 40.7, 29.6, 10.5, 18.1, 36.0, 37.9, 31.2, 45.1, 22.9, 22.2, 23.2, 22.4, 15.3, 19.7, 28.9, 20.3, 22.9, 24.4, 24.0, 27.5, 27.8, 28.5, 40.0, 19.3, 23.0, 17.8, 24.3, 10.4, 20.6, 14.3, 13.2, 17.3, 16.5, 24.4, 24.8, 17.2, 21.1, 26.6, 14.7, 24.8, 28.1, 34.7, 38.8, 25.2, 20.7, 25.1, 23.4, 18.4, 27.1, 16.8, 13.7, 29.0, 25.8, 24.0, 20.1, 29.4, 6.5, 13.7, 16.5, 15.7, 18.2, 18.8, 20.5, 25.1, 17.3, 22.2, 21.6, 12.0, 13.6, 15.2, 33.1, 28.5, 20.6, 21.6, 12.9, 19.1, 17.2, 17.1, 18.0, 20.3, 32.3, 27.5, 24.6, 14.3, 27.3, 10.0, 28.5, 16.6, 27.6, 17.8, 40.1, 32.9, 42.6, 18.9, 22.5, 16.3, 16.9, 25.7, 18.1, 21.6, 15.2, 17.3, 17.3, 10.9, 22.8, 18.4, 16.2, 22.0, 22.3, 10.6, 11.8, 20.2, 21.8, 19.4, 17.0, 17.9, 16.3, 27.5, 22.4, 17.4, 8.0], \"xaxis\": \"x4\", \"y\": [\"67.0\", \"67.6\", \"90.7\", \"69.0\", \"87.8\", \"84.3\", \"61.2\", \"58.5\", \"92.7\", \"59.8\", \"65.2\", \"49.2\", \"96.6\", \"68.3\", \"59.7\", \"43.8\", \"49.8\", \"50.5\", \"59.0\", \"71.2\", \"36.7\", \"90.6\", \"32.4\", \"59.3\", \"94.9\", \"47.9\", \"68.9\", \"33.1\", \"56.4\", \"43.9\", \"33.6\", \"84.8\", \"81.3\", \"87.4\", \"98.8\", \"84.3\", \"64.3\", \"41.2\", \"79.0\", \"87.0\", \"37.0\", \"46.5\", \"81.9\", \"60.6\", \"91.3\", \"33.8\", \"35.3\", \"53.7\", \"44.6\", \"30.3\", \"77.8\", \"34.9\", \"82.0\", \"37.0\", \"62.3\", \"52.9\", \"47.8\", \"37.4\", \"29.0\", \"83.6\", \"92.5\", \"94.5\", \"50.1\", \"59.5\", \"80.4\", \"36.0\", \"53.9\", \"51.5\", \"70.8\", \"63.1\", \"77.9\", \"66.2\", \"78.7\", \"76.6\", \"91.2\", \"42.7\", \"60.5\", \"81.9\", \"52.9\", \"55.7\", \"56.6\", \"55.0\", \"80.4\", \"79.6\", \"38.7\", \"38.8\", \"51.4\", \"51.1\", \"56.1\", \"49.1\", \"40.3\", \"32.2\", \"42.9\", \"69.4\", \"78.8\", \"28.3\", \"39.1\", \"53.2\", \"64.0\", \"57.5\", \"89.7\", \"64.3\", \"64.7\", \"49.7\", \"85.7\", \"86.9\", \"88.6\", \"96.8\", \"54.6\", \"83.5\", \"90.5\", \"83.6\", \"76.7\", \"53.0\", \"75.0\", \"34.4\", \"56.1\", \"94.4\", \"70.1\", \"62.7\", \"79.7\", \"55.5\", \"74.8\", \"73.4\", \"76.7\", \"54.6\", \"84.0\", \"32.2\", \"64.0\", \"31.8\", \"84.7\", \"80.7\", \"44.8\", \"82.4\", \"44.7\", \"85.1\", \"50.6\", \"83.9\", \"54.1\", \"61.6\", \"52.6\", \"49.1\", \"37.0\", \"69.0\", \"34.3\", \"67.6\", \"54.7\", \"35.8\", \"75.8\", \"37.1\", \"61.6\", \"33.1\", \"66.3\", \"79.8\", \"27.5\", \"56.8\", \"29.1\", \"79.5\", \"87.3\", \"71.8\", \"64.4\", \"27.5\", \"56.7\", \"79.3\", \"37.3\", \"60.1\", \"63.2\", \"29.7\", \"56.7\", \"61.0\", \"70.6\", \"59.7\", \"43.3\", \"70.1\", \"87.3\", \"31.7\", \"41.2\", \"57.3\", \"84.1\", \"67.4\", \"40.6\", \"29.5\", \"44.6\", \"91.0\", \"54.7\", \"60.3\", \"27.6\", \"60.5\", \"46.1\", \"63.2\", \"57.0\", \"71.3\", \"37.4\", \"40.6\", \"54.8\", \"60.4\", \"55.8\", \"76.5\", \"83.9\", \"63.0\", \"39.9\", \"44.6\", \"69.3\", \"55.6\", \"53.3\", \"69.9\", \"35.9\", \"73.8\", \"60.6\", \"54.1\", \"47.8\", \"65.3\", \"64.5\", \"53.4\", \"93.4\", \"75.0\", \"26.3\", \"69.5\", \"25.3\", \"55.4\", \"50.7\", \"67.2\", \"79.4\", \"26.0\", \"26.5\", \"35.7\", \"46.4\", \"84.4\", \"88.8\", \"61.1\", \"71.6\", \"55.7\", \"58.7\", \"31.8\", \"42.8\", \"61.4\", \"39.6\", \"70.4\", \"39.5\", \"79.4\", \"63.1\", \"46.8\", \"44.2\", \"57.0\", \"40.6\", \"86.9\", \"63.7\", \"50.2\", \"75.9\", \"59.7\", \"59.4\", \"48.7\", \"73.1\", \"50.2\", \"24.8\", \"71.7\", \"55.4\", \"88.6\", \"49.6\", \"59.6\", \"53.0\", \"59.4\", \"59.1\", \"48.2\", \"32.2\", \"70.6\", \"81.5\", \"43.5\", \"40.3\", \"41.0\", \"54.6\", \"66.3\", \"57.3\", \"39.3\", \"63.1\", \"62.5\", \"30.4\", \"18.2\", \"59.1\", \"56.6\", \"30.7\", \"54.7\", \"29.2\", \"51.3\", \"69.8\", \"23.9\", \"47.8\", \"62.2\", \"21.8\", \"70.8\", \"43.1\", \"26.0\", \"49.0\", \"84.4\", \"35.3\", \"73.3\", \"37.4\", \"47.8\", \"80.8\", \"37.3\", \"80.4\", \"84.2\", \"28.9\", \"48.8\", \"73.1\", \"45.5\", \"53.9\", \"29.1\", \"71.8\", \"42.2\", \"62.3\", \"59.4\", \"41.5\", \"49.8\", \"89.2\", \"43.8\", \"36.7\", \"42.9\", \"44.4\", \"26.9\", \"37.5\", \"19.4\", \"20.7\", \"37.0\", \"29.7\", \"76.1\", \"88.2\", \"52.1\", \"38.8\", \"47.0\", \"49.2\", \"86.7\", \"33.1\", \"47.2\", \"32.2\", \"43.4\", \"45.1\", \"20.7\", \"34.8\", \"30.0\", \"40.4\", \"36.7\", \"67.1\", \"66.9\", \"59.3\", \"45.6\", \"36.1\", \"43.7\", \"41.6\", \"30.7\", \"21.5\", \"65.8\", \"66.5\", \"79.7\", \"53.9\", \"48.6\", \"52.1\", \"91.3\", \"36.0\", \"35.8\", \"48.4\", \"25.2\", \"19.5\", \"16.6\", \"20.0\", \"22.5\", \"26.1\", \"34.5\", \"50.9\", \"85.3\", \"26.7\", \"24.2\", \"26.7\", \"82.6\", \"53.6\", \"86.9\", \"60.0\", \"50.3\", \"38.1\", \"44.1\", \"42.1\", \"37.4\", \"64.8\", \"74.9\", \"46.8\", \"69.1\", \"49.7\", \"29.6\", \"46.2\", \"73.3\", \"48.0\", \"34.3\", \"46.3\", \"21.0\", \"80.3\", \"54.5\", \"43.1\", \"36.0\", \"50.1\", \"33.1\", \"21.4\"], \"yaxis\": \"y4\"}, {\"marker\": {\"color\": \"rgb(12, 51, 131)\"}, \"showlegend\": false, \"type\": \"box\", \"xaxis\": \"x5\", \"y\": [\"67.0\", \"67.6\", \"90.7\", \"69.0\", \"87.8\", \"84.3\", \"61.2\", \"58.5\", \"92.7\", \"59.8\", \"65.2\", \"49.2\", \"96.6\", \"68.3\", \"59.7\", \"43.8\", \"49.8\", \"50.5\", \"59.0\", \"71.2\", \"36.7\", \"90.6\", \"32.4\", \"59.3\", \"94.9\", \"47.9\", \"68.9\", \"33.1\", \"56.4\", \"43.9\", \"33.6\", \"84.8\", \"81.3\", \"87.4\", \"98.8\", \"84.3\", \"64.3\", \"41.2\", \"79.0\", \"87.0\", \"37.0\", \"46.5\", \"81.9\", \"60.6\", \"91.3\", \"33.8\", \"35.3\", \"53.7\", \"44.6\", \"30.3\", \"77.8\", \"34.9\", \"82.0\", \"37.0\", \"62.3\", \"52.9\", \"47.8\", \"37.4\", \"29.0\", \"83.6\", \"92.5\", \"94.5\", \"50.1\", \"59.5\", \"80.4\", \"36.0\", \"53.9\", \"51.5\", \"70.8\", \"63.1\", \"77.9\", \"66.2\", \"78.7\", \"76.6\", \"91.2\", \"42.7\", \"60.5\", \"81.9\", \"52.9\", \"55.7\", \"56.6\", \"55.0\", \"80.4\", \"79.6\", \"38.7\", \"38.8\", \"51.4\", \"51.1\", \"56.1\", \"49.1\", \"40.3\", \"32.2\", \"42.9\", \"69.4\", \"78.8\", \"28.3\", \"39.1\", \"53.2\", \"64.0\", \"57.5\", \"89.7\", \"64.3\", \"64.7\", \"49.7\", \"85.7\", \"86.9\", \"88.6\", \"96.8\", \"54.6\", \"83.5\", \"90.5\", \"83.6\", \"76.7\", \"53.0\", \"75.0\", \"34.4\", \"56.1\", \"94.4\", \"70.1\", \"62.7\", \"79.7\", \"55.5\", \"74.8\", \"73.4\", \"76.7\", \"54.6\", \"84.0\", \"32.2\", \"64.0\", \"31.8\", \"84.7\", \"80.7\", \"44.8\", \"82.4\", \"44.7\", \"85.1\", \"50.6\", \"83.9\", \"54.1\", \"61.6\", \"52.6\", \"49.1\", \"37.0\", \"69.0\", \"34.3\", \"67.6\", \"54.7\", \"35.8\", \"75.8\", \"37.1\", \"61.6\", \"33.1\", \"66.3\", \"79.8\", \"27.5\", \"56.8\", \"29.1\", \"79.5\", \"87.3\", \"71.8\", \"64.4\", \"27.5\", \"56.7\", \"79.3\", \"37.3\", \"60.1\", \"63.2\", \"29.7\", \"56.7\", \"61.0\", \"70.6\", \"59.7\", \"43.3\", \"70.1\", \"87.3\", \"31.7\", \"41.2\", \"57.3\", \"84.1\", \"67.4\", \"40.6\", \"29.5\", \"44.6\", \"91.0\", \"54.7\", \"60.3\", \"27.6\", \"60.5\", \"46.1\", \"63.2\", \"57.0\", \"71.3\", \"37.4\", \"40.6\", \"54.8\", \"60.4\", \"55.8\", \"76.5\", \"83.9\", \"63.0\", \"39.9\", \"44.6\", \"69.3\", \"55.6\", \"53.3\", \"69.9\", \"35.9\", \"73.8\", \"60.6\", \"54.1\", \"47.8\", \"65.3\", \"64.5\", \"53.4\", \"93.4\", \"75.0\", \"26.3\", \"69.5\", \"25.3\", \"55.4\", \"50.7\", \"67.2\", \"79.4\", \"26.0\", \"26.5\", \"35.7\", \"46.4\", \"84.4\", \"88.8\", \"61.1\", \"71.6\", \"55.7\", \"58.7\", \"31.8\", \"42.8\", \"61.4\", \"39.6\", \"70.4\", \"39.5\", \"79.4\", \"63.1\", \"46.8\", \"44.2\", \"57.0\", \"40.6\", \"86.9\", \"63.7\", \"50.2\", \"75.9\", \"59.7\", \"59.4\", \"48.7\", \"73.1\", \"50.2\", \"24.8\", \"71.7\", \"55.4\", \"88.6\", \"49.6\", \"59.6\", \"53.0\", \"59.4\", \"59.1\", \"48.2\", \"32.2\", \"70.6\", \"81.5\", \"43.5\", \"40.3\", \"41.0\", \"54.6\", \"66.3\", \"57.3\", \"39.3\", \"63.1\", \"62.5\", \"30.4\", \"18.2\", \"59.1\", \"56.6\", \"30.7\", \"54.7\", \"29.2\", \"51.3\", \"69.8\", \"23.9\", \"47.8\", \"62.2\", \"21.8\", \"70.8\", \"43.1\", \"26.0\", \"49.0\", \"84.4\", \"35.3\", \"73.3\", \"37.4\", \"47.8\", \"80.8\", \"37.3\", \"80.4\", \"84.2\", \"28.9\", \"48.8\", \"73.1\", \"45.5\", \"53.9\", \"29.1\", \"71.8\", \"42.2\", \"62.3\", \"59.4\", \"41.5\", \"49.8\", \"89.2\", \"43.8\", \"36.7\", \"42.9\", \"44.4\", \"26.9\", \"37.5\", \"19.4\", \"20.7\", \"37.0\", \"29.7\", \"76.1\", \"88.2\", \"52.1\", \"38.8\", \"47.0\", \"49.2\", \"86.7\", \"33.1\", \"47.2\", \"32.2\", \"43.4\", \"45.1\", \"20.7\", \"34.8\", \"30.0\", \"40.4\", \"36.7\", \"67.1\", \"66.9\", \"59.3\", \"45.6\", \"36.1\", \"43.7\", \"41.6\", \"30.7\", \"21.5\", \"65.8\", \"66.5\", \"79.7\", \"53.9\", \"48.6\", \"52.1\", \"91.3\", \"36.0\", \"35.8\", \"48.4\", \"25.2\", \"19.5\", \"16.6\", \"20.0\", \"22.5\", \"26.1\", \"34.5\", \"50.9\", \"85.3\", \"26.7\", \"24.2\", \"26.7\", \"82.6\", \"53.6\", \"86.9\", \"60.0\", \"50.3\", \"38.1\", \"44.1\", \"42.1\", \"37.4\", \"64.8\", \"74.9\", \"46.8\", \"69.1\", \"49.7\", \"29.6\", \"46.2\", \"73.3\", \"48.0\", \"34.3\", \"46.3\", \"21.0\", \"80.3\", \"54.5\", \"43.1\", \"36.0\", \"50.1\", \"33.1\", \"21.4\"], \"yaxis\": \"y5\"}, {\"marker\": {\"color\": [1, 2, 3, 4, 5, 6, 7, 8, 9, 10, 11, 12, 13, 14, 15, 16, 17, 18, 19, 20, 21, 22, 23, 24, 25, 26, 27, 28, 29, 30, 31, 32, 33, 34, 35, 36, 37, 38, 39, 40, 41, 42, 43, 44, 45, 46, 47, 48, 49, 50, 51, 52, 53, 54, 55, 56, 57, 58, 59, 60, 61, 62, 63, 64, 65, 66, 67, 68, 69, 70, 71, 72, 73, 74, 75, 76, 77, 78, 79, 80, 81, 82, 83, 84, 85, 86, 87, 88, 89, 90, 91, 92, 93, 94, 95, 96, 97, 98, 99, 100, 101, 102, 103, 104, 105, 106, 107, 108, 109, 110, 111, 112, 113, 114, 115, 116, 117, 118, 119, 120, 121, 122, 123, 124, 125, 126, 127, 128, 129, 130, 131, 132, 133, 134, 135, 136, 137, 138, 139, 140, 141, 142, 143, 144, 145, 146, 147, 148, 149, 150, 151, 152, 153, 154, 155, 156, 157, 158, 159, 160, 161, 162, 163, 164, 165, 166, 167, 168, 169, 170, 171, 172, 173, 174, 175, 176, 177, 178, 179, 180, 181, 182, 183, 184, 185, 186, 187, 188, 189, 190, 191, 192, 193, 194, 195, 196, 197, 198, 199, 200, 201, 202, 203, 204, 205, 206, 207, 208, 209, 210, 211, 212, 213, 214, 215, 216, 217, 218, 219, 220, 221, 222, 223, 224, 225, 226, 227, 228, 229, 230, 231, 232, 233, 234, 235, 236, 237, 238, 239, 240, 241, 242, 243, 244, 245, 246, 247, 248, 249, 250, 251, 252, 253, 254, 255, 256, 257, 258, 259, 260, 261, 262, 263, 264, 265, 266, 267, 268, 269, 270, 271, 272, 273, 274, 275, 276, 277, 278, 279, 280, 281, 282, 283, 284, 285, 286, 287, 288, 289, 290, 291, 292, 293, 294, 295, 296, 297, 298, 299, 300, 301, 302, 303, 304, 305, 306, 307, 308, 309, 310, 311, 312, 313, 314, 315, 316, 317, 318, 319, 320, 321, 322, 323, 324, 325, 326, 327, 328, 329, 330, 331, 332, 333, 334, 335, 336, 337, 338, 339, 340, 341, 342, 343, 344, 345, 346, 347, 348, 349, 350, 351, 352, 353, 354, 355, 356, 357, 358, 359, 360, 361, 362, 363, 364, 365, 366, 367, 368, 369, 370, 371, 372, 373, 374, 375, 376, 377, 378, 379, 380, 381, 382, 383, 384, 385, 386, 387, 388, 389, 390, 391, 392, 393, 394, 395, 396, 397, 398, 399, 400, 401], \"colorscale\": [[0.0, \"rgb(12, 51, 131)\"], [1.0, \"rgb(217, 30, 30)\"]], \"showscale\": false, \"size\": 6}, \"mode\": \"markers\", \"showlegend\": false, \"type\": \"scatter\", \"x\": [\"94.3\", \"93.3\", \"93.2\", \"92.9\", \"92.0\", \"91.9\", \"90.9\", \"89.5\", \"87.5\", \"87.5\", \"87.1\", \"85.5\", \"84.6\", \"84.4\", \"83.0\", \"81.0\", \"80.9\", \"79.9\", \"79.4\", \"79.3\", \"79.2\", \"78.7\", \"76.1\", \"74.3\", \"73.3\", \"73.2\", \"72.8\", \"72.3\", \"71.9\", \"71.9\", \"71.9\", \"71.8\", \"71.2\", \"70.9\", \"70.9\", \"70.4\", \"70.0\", \"69.9\", \"69.6\", \"69.4\", \"68.6\", \"67.8\", \"67.5\", \"66.8\", \"66.5\", \"65.9\", \"65.9\", \"65.2\", \"65.1\", \"64.8\", \"64.7\", \"64.5\", \"64.5\", \"64.1\", \"63.7\", \"63.7\", \"63.6\", \"62.9\", \"62.8\", \"62.7\", \"62.2\", \"62.2\", \"61.9\", \"61.3\", \"61.2\", \"61.1\", \"61.0\", \"60.7\", \"59.8\", \"59.6\", \"59.2\", \"59.1\", \"59.0\", \"58.9\", \"58.4\", \"58.4\", \"58.2\", \"58.1\", \"58.0\", \"57.9\", \"57.6\", \"57.3\", \"56.9\", \"56.9\", \"56.6\", \"56.5\", \"56.5\", \"56.4\", \"56.4\", \"56.2\", \"56.1\", \"56.1\", \"55.5\", \"55.3\", \"55.3\", \"55.2\", \"55.1\", \"54.6\", \"54.6\", \"54.6\", \"54.3\", \"54.0\", \"53.9\", \"53.9\", \"53.9\", \"53.9\", \"53.8\", \"53.8\", \"53.7\", \"53.7\", \"53.6\", \"53.6\", \"53.4\", \"53.4\", \"53.4\", \"53.2\", \"53.1\", \"53.0\", \"52.9\", \"52.8\", \"52.7\", \"52.7\", \"52.7\", \"52.6\", \"52.6\", \"52.5\", \"52.5\", \"52.5\", \"52.4\", \"52.1\", \"52.0\", \"51.9\", \"51.9\", \"51.9\", \"51.6\", \"51.4\", \"51.4\", \"51.2\", \"51.1\", \"51.0\", \"50.9\", \"50.9\", \"50.9\", \"50.5\", \"50.5\", \"50.4\", \"50.3\", \"50.2\", \"50.2\", \"50.1\", \"50.1\", \"50.0\", \"49.9\", \"49.7\", \"49.3\", \"49.2\", \"49.1\", \"49.1\", \"49.1\", \"49.0\", \"49.0\", \"48.6\", \"48.3\", \"48.2\", \"48.1\", \"48.1\", \"48.1\", \"48.1\", \"48.0\", \"47.9\", \"47.8\", \"47.8\", \"47.7\", \"47.7\", \"47.5\", \"47.5\", \"47.3\", \"47.1\", \"47.1\", \"47.0\", \"47.0\", \"46.9\", \"46.9\", \"46.9\", \"46.8\", \"46.7\", \"46.7\", \"46.6\", \"46.6\", \"46.6\", \"46.5\", \"46.3\", \"46.2\", \"46.2\", \"46.1\", \"46.0\", \"46.0\", \"45.9\", \"45.7\", \"45.6\", \"45.6\", \"-\", \"-\", \"-\", \"-\", \"-\", \"-\", \"-\", \"-\", \"-\", \"-\", \"-\", \"-\", \"-\", \"-\", \"-\", \"-\", \"-\", \"-\", \"-\", \"-\", \"-\", \"-\", \"-\", \"-\", \"-\", \"-\", \"-\", \"-\", \"-\", \"-\", \"-\", \"-\", \"-\", \"-\", \"-\", \"-\", \"-\", \"-\", \"-\", \"-\", \"-\", \"-\", \"-\", \"-\", \"-\", \"-\", \"-\", \"-\", \"-\", \"-\", \"-\", \"-\", \"-\", \"-\", \"-\", \"-\", \"-\", \"-\", \"-\", \"-\", \"-\", \"-\", \"-\", \"-\", \"-\", \"-\", \"-\", \"-\", \"-\", \"-\", \"-\", \"-\", \"-\", \"-\", \"-\", \"-\", \"-\", \"-\", \"-\", \"-\", \"-\", \"-\", \"-\", \"-\", \"-\", \"-\", \"-\", \"-\", \"-\", \"-\", \"-\", \"-\", \"-\", \"-\", \"-\", \"-\", \"-\", \"-\", \"-\", \"-\", \"-\", \"-\", \"-\", \"-\", \"-\", \"-\", \"-\", \"-\", \"-\", \"-\", \"-\", \"-\", \"-\", \"-\", \"-\", \"-\", \"-\", \"-\", \"-\", \"-\", \"-\", \"-\", \"-\", \"-\", \"-\", \"-\", \"-\", \"-\", \"-\", \"-\", \"-\", \"-\", \"-\", \"-\", \"-\", \"-\", \"-\", \"-\", \"-\", \"-\", \"-\", \"-\", \"-\", \"-\", \"-\", \"-\", \"-\", \"-\", \"-\", \"-\", \"-\", \"-\", \"-\", \"-\", \"-\", \"-\", \"-\", \"-\", \"-\", \"-\", \"-\", \"-\", \"-\", \"-\", \"-\", \"-\", \"-\", \"-\", \"-\", \"-\", \"-\", \"-\", \"-\", \"-\", \"-\", \"-\", \"-\", \"-\", \"-\", \"-\", \"-\", \"-\", \"-\", \"-\", \"-\", \"-\", \"-\", \"-\", \"-\", \"-\", \"-\", \"-\", \"-\", \"-\", \"-\", \"-\", \"-\", \"-\", \"-\", \"-\"], \"xaxis\": \"x6\", \"y\": [\"67.0\", \"67.6\", \"90.7\", \"69.0\", \"87.8\", \"84.3\", \"61.2\", \"58.5\", \"92.7\", \"59.8\", \"65.2\", \"49.2\", \"96.6\", \"68.3\", \"59.7\", \"43.8\", \"49.8\", \"50.5\", \"59.0\", \"71.2\", \"36.7\", \"90.6\", \"32.4\", \"59.3\", \"94.9\", \"47.9\", \"68.9\", \"33.1\", \"56.4\", \"43.9\", \"33.6\", \"84.8\", \"81.3\", \"87.4\", \"98.8\", \"84.3\", \"64.3\", \"41.2\", \"79.0\", \"87.0\", \"37.0\", \"46.5\", \"81.9\", \"60.6\", \"91.3\", \"33.8\", \"35.3\", \"53.7\", \"44.6\", \"30.3\", \"77.8\", \"34.9\", \"82.0\", \"37.0\", \"62.3\", \"52.9\", \"47.8\", \"37.4\", \"29.0\", \"83.6\", \"92.5\", \"94.5\", \"50.1\", \"59.5\", \"80.4\", \"36.0\", \"53.9\", \"51.5\", \"70.8\", \"63.1\", \"77.9\", \"66.2\", \"78.7\", \"76.6\", \"91.2\", \"42.7\", \"60.5\", \"81.9\", \"52.9\", \"55.7\", \"56.6\", \"55.0\", \"80.4\", \"79.6\", \"38.7\", \"38.8\", \"51.4\", \"51.1\", \"56.1\", \"49.1\", \"40.3\", \"32.2\", \"42.9\", \"69.4\", \"78.8\", \"28.3\", \"39.1\", \"53.2\", \"64.0\", \"57.5\", \"89.7\", \"64.3\", \"64.7\", \"49.7\", \"85.7\", \"86.9\", \"88.6\", \"96.8\", \"54.6\", \"83.5\", \"90.5\", \"83.6\", \"76.7\", \"53.0\", \"75.0\", \"34.4\", \"56.1\", \"94.4\", \"70.1\", \"62.7\", \"79.7\", \"55.5\", \"74.8\", \"73.4\", \"76.7\", \"54.6\", \"84.0\", \"32.2\", \"64.0\", \"31.8\", \"84.7\", \"80.7\", \"44.8\", \"82.4\", \"44.7\", \"85.1\", \"50.6\", \"83.9\", \"54.1\", \"61.6\", \"52.6\", \"49.1\", \"37.0\", \"69.0\", \"34.3\", \"67.6\", \"54.7\", \"35.8\", \"75.8\", \"37.1\", \"61.6\", \"33.1\", \"66.3\", \"79.8\", \"27.5\", \"56.8\", \"29.1\", \"79.5\", \"87.3\", \"71.8\", \"64.4\", \"27.5\", \"56.7\", \"79.3\", \"37.3\", \"60.1\", \"63.2\", \"29.7\", \"56.7\", \"61.0\", \"70.6\", \"59.7\", \"43.3\", \"70.1\", \"87.3\", \"31.7\", \"41.2\", \"57.3\", \"84.1\", \"67.4\", \"40.6\", \"29.5\", \"44.6\", \"91.0\", \"54.7\", \"60.3\", \"27.6\", \"60.5\", \"46.1\", \"63.2\", \"57.0\", \"71.3\", \"37.4\", \"40.6\", \"54.8\", \"60.4\", \"55.8\", \"76.5\", \"83.9\", \"63.0\", \"39.9\", \"44.6\", \"69.3\", \"55.6\", \"53.3\", \"69.9\", \"35.9\", \"73.8\", \"60.6\", \"54.1\", \"47.8\", \"65.3\", \"64.5\", \"53.4\", \"93.4\", \"75.0\", \"26.3\", \"69.5\", \"25.3\", \"55.4\", \"50.7\", \"67.2\", \"79.4\", \"26.0\", \"26.5\", \"35.7\", \"46.4\", \"84.4\", \"88.8\", \"61.1\", \"71.6\", \"55.7\", \"58.7\", \"31.8\", \"42.8\", \"61.4\", \"39.6\", \"70.4\", \"39.5\", \"79.4\", \"63.1\", \"46.8\", \"44.2\", \"57.0\", \"40.6\", \"86.9\", \"63.7\", \"50.2\", \"75.9\", \"59.7\", \"59.4\", \"48.7\", \"73.1\", \"50.2\", \"24.8\", \"71.7\", \"55.4\", \"88.6\", \"49.6\", \"59.6\", \"53.0\", \"59.4\", \"59.1\", \"48.2\", \"32.2\", \"70.6\", \"81.5\", \"43.5\", \"40.3\", \"41.0\", \"54.6\", \"66.3\", \"57.3\", \"39.3\", \"63.1\", \"62.5\", \"30.4\", \"18.2\", \"59.1\", \"56.6\", \"30.7\", \"54.7\", \"29.2\", \"51.3\", \"69.8\", \"23.9\", \"47.8\", \"62.2\", \"21.8\", \"70.8\", \"43.1\", \"26.0\", \"49.0\", \"84.4\", \"35.3\", \"73.3\", \"37.4\", \"47.8\", \"80.8\", \"37.3\", \"80.4\", \"84.2\", \"28.9\", \"48.8\", \"73.1\", \"45.5\", \"53.9\", \"29.1\", \"71.8\", \"42.2\", \"62.3\", \"59.4\", \"41.5\", \"49.8\", \"89.2\", \"43.8\", \"36.7\", \"42.9\", \"44.4\", \"26.9\", \"37.5\", \"19.4\", \"20.7\", \"37.0\", \"29.7\", \"76.1\", \"88.2\", \"52.1\", \"38.8\", \"47.0\", \"49.2\", \"86.7\", \"33.1\", \"47.2\", \"32.2\", \"43.4\", \"45.1\", \"20.7\", \"34.8\", \"30.0\", \"40.4\", \"36.7\", \"67.1\", \"66.9\", \"59.3\", \"45.6\", \"36.1\", \"43.7\", \"41.6\", \"30.7\", \"21.5\", \"65.8\", \"66.5\", \"79.7\", \"53.9\", \"48.6\", \"52.1\", \"91.3\", \"36.0\", \"35.8\", \"48.4\", \"25.2\", \"19.5\", \"16.6\", \"20.0\", \"22.5\", \"26.1\", \"34.5\", \"50.9\", \"85.3\", \"26.7\", \"24.2\", \"26.7\", \"82.6\", \"53.6\", \"86.9\", \"60.0\", \"50.3\", \"38.1\", \"44.1\", \"42.1\", \"37.4\", \"64.8\", \"74.9\", \"46.8\", \"69.1\", \"49.7\", \"29.6\", \"46.2\", \"73.3\", \"48.0\", \"34.3\", \"46.3\", \"21.0\", \"80.3\", \"54.5\", \"43.1\", \"36.0\", \"50.1\", \"33.1\", \"21.4\"], \"yaxis\": \"y6\"}, {\"marker\": {\"color\": [1, 2, 3, 4, 5, 6, 7, 8, 9, 10, 11, 12, 13, 14, 15, 16, 17, 18, 19, 20, 21, 22, 23, 24, 25, 26, 27, 28, 29, 30, 31, 32, 33, 34, 35, 36, 37, 38, 39, 40, 41, 42, 43, 44, 45, 46, 47, 48, 49, 50, 51, 52, 53, 54, 55, 56, 57, 58, 59, 60, 61, 62, 63, 64, 65, 66, 67, 68, 69, 70, 71, 72, 73, 74, 75, 76, 77, 78, 79, 80, 81, 82, 83, 84, 85, 86, 87, 88, 89, 90, 91, 92, 93, 94, 95, 96, 97, 98, 99, 100, 101, 102, 103, 104, 105, 106, 107, 108, 109, 110, 111, 112, 113, 114, 115, 116, 117, 118, 119, 120, 121, 122, 123, 124, 125, 126, 127, 128, 129, 130, 131, 132, 133, 134, 135, 136, 137, 138, 139, 140, 141, 142, 143, 144, 145, 146, 147, 148, 149, 150, 151, 152, 153, 154, 155, 156, 157, 158, 159, 160, 161, 162, 163, 164, 165, 166, 167, 168, 169, 170, 171, 172, 173, 174, 175, 176, 177, 178, 179, 180, 181, 182, 183, 184, 185, 186, 187, 188, 189, 190, 191, 192, 193, 194, 195, 196, 197, 198, 199, 200, 201, 202, 203, 204, 205, 206, 207, 208, 209, 210, 211, 212, 213, 214, 215, 216, 217, 218, 219, 220, 221, 222, 223, 224, 225, 226, 227, 228, 229, 230, 231, 232, 233, 234, 235, 236, 237, 238, 239, 240, 241, 242, 243, 244, 245, 246, 247, 248, 249, 250, 251, 252, 253, 254, 255, 256, 257, 258, 259, 260, 261, 262, 263, 264, 265, 266, 267, 268, 269, 270, 271, 272, 273, 274, 275, 276, 277, 278, 279, 280, 281, 282, 283, 284, 285, 286, 287, 288, 289, 290, 291, 292, 293, 294, 295, 296, 297, 298, 299, 300, 301, 302, 303, 304, 305, 306, 307, 308, 309, 310, 311, 312, 313, 314, 315, 316, 317, 318, 319, 320, 321, 322, 323, 324, 325, 326, 327, 328, 329, 330, 331, 332, 333, 334, 335, 336, 337, 338, 339, 340, 341, 342, 343, 344, 345, 346, 347, 348, 349, 350, 351, 352, 353, 354, 355, 356, 357, 358, 359, 360, 361, 362, 363, 364, 365, 366, 367, 368, 369, 370, 371, 372, 373, 374, 375, 376, 377, 378, 379, 380, 381, 382, 383, 384, 385, 386, 387, 388, 389, 390, 391, 392, 393, 394, 395, 396, 397, 398, 399, 400, 401], \"colorscale\": [[0.0, \"rgb(12, 51, 131)\"], [1.0, \"rgb(217, 30, 30)\"]], \"showscale\": false, \"size\": 6}, \"mode\": \"markers\", \"showlegend\": false, \"type\": \"scatter\", \"x\": [98.1, 98.6, 97.7, 96.7, 95.6, 88.2, 94.7, 96.7, 88.3, 90.8, 89.9, 90.5, 90.2, 79.4, 84.2, 82.0, 86.5, 75.2, 83.8, 85.1, 78.9, 80.4, 85.1, 74.9, 78.1, 68.9, 71.2, 72.0, 69.1, 79.0, 71.3, 69.0, 70.9, 74.2, 56.9, 62.9, 61.4, 62.4, 69.9, 62.3, 66.6, 55.2, 72.6, 68.0, 70.9, 64.7, 58.6, 61.9, 68.3, 77.1, 66.8, 63.2, 58.7, 54.2, 63.6, 59.7, 46.7, 64.8, 68.4, 60.8, 55.9, 47.1, 46.0, 58.2, 58.4, 49.3, 48.0, 51.1, 37.1, 45.4, 71.4, 53.7, 46.8, 44.7, 41.1, 44.6, 55.4, 36.2, 54.8, 52.6, 58.0, 49.4, 40.7, 54.4, 36.9, 51.4, 38.5, 33.9, 41.7, 51.6, 49.1, 46.3, 32.4, 43.2, 40.5, 38.2, 38.3, 45.0, 37.4, 53.0, 48.1, 50.5, 30.0, 48.1, 45.8, 33.1, 32.9, 37.2, 31.9, 51.9, 35.9, 30.4, 44.4, 44.7, 33.8, 37.4, 50.8, 22.4, 48.5, 33.1, 28.2, 29.2, 39.1, 47.1, 35.3, 29.1, 44.8, 52.1, 53.5, 35.9, 36.1, 36.9, 39.1, 34.1, 42.0, 39.9, 43.2, 30.3, 27.6, 46.7, 26.7, 51.9, 52.9, 47.1, 45.3, 39.1, 29.1, 50.2, 39.8, 35.1, 27.5, 35.4, 47.5, 32.7, 57.3, 29.9, 48.0, 33.2, 38.1, 34.4, 33.8, 36.5, 28.1, 40.4, 36.9, 34.9, 28.3, 47.3, 27.2, 33.6, 35.8, 34.9, 28.2, 30.6, 33.4, 33.5, 24.4, 29.3, 30.2, 19.7, 36.3, 37.5, 27.1, 39.7, 21.9, 35.2, 23.9, 24.4, 51.1, 34.7, 39.8, 32.9, 34.0, 30.9, 22.2, 42.1, 27.3, 22.6, 31.6, 13.1, 25.1, 27.7, 30.4, 22.4, 36.3, 36.5, 44.3, 29.6, 37.5, 22.0, 28.8, 27.9, 22.5, 34.1, 17.1, 34.0, 27.3, 23.4, 51.6, 28.2, 16.0, 45.3, 36.2, 23.5, 19.9, 45.8, 29.2, 29.3, 21.4, 24.5, 30.0, 29.9, 23.2, 31.8, 26.2, 29.3, 35.0, 32.3, 9.8, 28.1, 30.5, 38.2, 24.3, 33.4, 23.0, 32.5, 35.7, 17.3, 32.4, 35.3, 31.3, 10.1, 17.0, 23.3, 40.3, 24.8, 33.4, 25.1, 25.2, 33.7, 27.6, 30.7, 24.7, 18.1, 23.4, 29.9, 27.7, 19.2, 25.6, 37.9, 12.1, 21.7, 20.3, 20.3, 40.4, 32.8, 31.3, 39.5, 25.5, 22.5, 40.7, 29.6, 10.5, 18.1, 36.0, 37.9, 31.2, 45.1, 22.9, 22.2, 23.2, 22.4, 15.3, 19.7, 28.9, 20.3, 22.9, 24.4, 24.0, 27.5, 27.8, 28.5, 40.0, 19.3, 23.0, 17.8, 24.3, 10.4, 20.6, 14.3, 13.2, 17.3, 16.5, 24.4, 24.8, 17.2, 21.1, 26.6, 14.7, 24.8, 28.1, 34.7, 38.8, 25.2, 20.7, 25.1, 23.4, 18.4, 27.1, 16.8, 13.7, 29.0, 25.8, 24.0, 20.1, 29.4, 6.5, 13.7, 16.5, 15.7, 18.2, 18.8, 20.5, 25.1, 17.3, 22.2, 21.6, 12.0, 13.6, 15.2, 33.1, 28.5, 20.6, 21.6, 12.9, 19.1, 17.2, 17.1, 18.0, 20.3, 32.3, 27.5, 24.6, 14.3, 27.3, 10.0, 28.5, 16.6, 27.6, 17.8, 40.1, 32.9, 42.6, 18.9, 22.5, 16.3, 16.9, 25.7, 18.1, 21.6, 15.2, 17.3, 17.3, 10.9, 22.8, 18.4, 16.2, 22.0, 22.3, 10.6, 11.8, 20.2, 21.8, 19.4, 17.0, 17.9, 16.3, 27.5, 22.4, 17.4, 8.0], \"xaxis\": \"x7\", \"y\": [\"94.3\", \"93.3\", \"93.2\", \"92.9\", \"92.0\", \"91.9\", \"90.9\", \"89.5\", \"87.5\", \"87.5\", \"87.1\", \"85.5\", \"84.6\", \"84.4\", \"83.0\", \"81.0\", \"80.9\", \"79.9\", \"79.4\", \"79.3\", \"79.2\", \"78.7\", \"76.1\", \"74.3\", \"73.3\", \"73.2\", \"72.8\", \"72.3\", \"71.9\", \"71.9\", \"71.9\", \"71.8\", \"71.2\", \"70.9\", \"70.9\", \"70.4\", \"70.0\", \"69.9\", \"69.6\", \"69.4\", \"68.6\", \"67.8\", \"67.5\", \"66.8\", \"66.5\", \"65.9\", \"65.9\", \"65.2\", \"65.1\", \"64.8\", \"64.7\", \"64.5\", \"64.5\", \"64.1\", \"63.7\", \"63.7\", \"63.6\", \"62.9\", \"62.8\", \"62.7\", \"62.2\", \"62.2\", \"61.9\", \"61.3\", \"61.2\", \"61.1\", \"61.0\", \"60.7\", \"59.8\", \"59.6\", \"59.2\", \"59.1\", \"59.0\", \"58.9\", \"58.4\", \"58.4\", \"58.2\", \"58.1\", \"58.0\", \"57.9\", \"57.6\", \"57.3\", \"56.9\", \"56.9\", \"56.6\", \"56.5\", \"56.5\", \"56.4\", \"56.4\", \"56.2\", \"56.1\", \"56.1\", \"55.5\", \"55.3\", \"55.3\", \"55.2\", \"55.1\", \"54.6\", \"54.6\", \"54.6\", \"54.3\", \"54.0\", \"53.9\", \"53.9\", \"53.9\", \"53.9\", \"53.8\", \"53.8\", \"53.7\", \"53.7\", \"53.6\", \"53.6\", \"53.4\", \"53.4\", \"53.4\", \"53.2\", \"53.1\", \"53.0\", \"52.9\", \"52.8\", \"52.7\", \"52.7\", \"52.7\", \"52.6\", \"52.6\", \"52.5\", \"52.5\", \"52.5\", \"52.4\", \"52.1\", \"52.0\", \"51.9\", \"51.9\", \"51.9\", \"51.6\", \"51.4\", \"51.4\", \"51.2\", \"51.1\", \"51.0\", \"50.9\", \"50.9\", \"50.9\", \"50.5\", \"50.5\", \"50.4\", \"50.3\", \"50.2\", \"50.2\", \"50.1\", \"50.1\", \"50.0\", \"49.9\", \"49.7\", \"49.3\", \"49.2\", \"49.1\", \"49.1\", \"49.1\", \"49.0\", \"49.0\", \"48.6\", \"48.3\", \"48.2\", \"48.1\", \"48.1\", \"48.1\", \"48.1\", \"48.0\", \"47.9\", \"47.8\", \"47.8\", \"47.7\", \"47.7\", \"47.5\", \"47.5\", \"47.3\", \"47.1\", \"47.1\", \"47.0\", \"47.0\", \"46.9\", \"46.9\", \"46.9\", \"46.8\", \"46.7\", \"46.7\", \"46.6\", \"46.6\", \"46.6\", \"46.5\", \"46.3\", \"46.2\", \"46.2\", \"46.1\", \"46.0\", \"46.0\", \"45.9\", \"45.7\", \"45.6\", \"45.6\", \"-\", \"-\", \"-\", \"-\", \"-\", \"-\", \"-\", \"-\", \"-\", \"-\", \"-\", \"-\", \"-\", \"-\", \"-\", \"-\", \"-\", \"-\", \"-\", \"-\", \"-\", \"-\", \"-\", \"-\", \"-\", \"-\", \"-\", \"-\", \"-\", \"-\", \"-\", \"-\", \"-\", \"-\", \"-\", \"-\", \"-\", \"-\", \"-\", \"-\", \"-\", \"-\", \"-\", \"-\", \"-\", \"-\", \"-\", \"-\", \"-\", \"-\", \"-\", \"-\", \"-\", \"-\", \"-\", \"-\", \"-\", \"-\", \"-\", \"-\", \"-\", \"-\", \"-\", \"-\", \"-\", \"-\", \"-\", \"-\", \"-\", \"-\", \"-\", \"-\", \"-\", \"-\", \"-\", \"-\", \"-\", \"-\", \"-\", \"-\", \"-\", \"-\", \"-\", \"-\", \"-\", \"-\", \"-\", \"-\", \"-\", \"-\", \"-\", \"-\", \"-\", \"-\", \"-\", \"-\", \"-\", \"-\", \"-\", \"-\", \"-\", \"-\", \"-\", \"-\", \"-\", \"-\", \"-\", \"-\", \"-\", \"-\", \"-\", \"-\", \"-\", \"-\", \"-\", \"-\", \"-\", \"-\", \"-\", \"-\", \"-\", \"-\", \"-\", \"-\", \"-\", \"-\", \"-\", \"-\", \"-\", \"-\", \"-\", \"-\", \"-\", \"-\", \"-\", \"-\", \"-\", \"-\", \"-\", \"-\", \"-\", \"-\", \"-\", \"-\", \"-\", \"-\", \"-\", \"-\", \"-\", \"-\", \"-\", \"-\", \"-\", \"-\", \"-\", \"-\", \"-\", \"-\", \"-\", \"-\", \"-\", \"-\", \"-\", \"-\", \"-\", \"-\", \"-\", \"-\", \"-\", \"-\", \"-\", \"-\", \"-\", \"-\", \"-\", \"-\", \"-\", \"-\", \"-\", \"-\", \"-\", \"-\", \"-\", \"-\", \"-\", \"-\", \"-\", \"-\", \"-\", \"-\", \"-\", \"-\", \"-\", \"-\", \"-\", \"-\", \"-\", \"-\", \"-\", \"-\"], \"yaxis\": \"y7\"}, {\"marker\": {\"color\": [1, 2, 3, 4, 5, 6, 7, 8, 9, 10, 11, 12, 13, 14, 15, 16, 17, 18, 19, 20, 21, 22, 23, 24, 25, 26, 27, 28, 29, 30, 31, 32, 33, 34, 35, 36, 37, 38, 39, 40, 41, 42, 43, 44, 45, 46, 47, 48, 49, 50, 51, 52, 53, 54, 55, 56, 57, 58, 59, 60, 61, 62, 63, 64, 65, 66, 67, 68, 69, 70, 71, 72, 73, 74, 75, 76, 77, 78, 79, 80, 81, 82, 83, 84, 85, 86, 87, 88, 89, 90, 91, 92, 93, 94, 95, 96, 97, 98, 99, 100, 101, 102, 103, 104, 105, 106, 107, 108, 109, 110, 111, 112, 113, 114, 115, 116, 117, 118, 119, 120, 121, 122, 123, 124, 125, 126, 127, 128, 129, 130, 131, 132, 133, 134, 135, 136, 137, 138, 139, 140, 141, 142, 143, 144, 145, 146, 147, 148, 149, 150, 151, 152, 153, 154, 155, 156, 157, 158, 159, 160, 161, 162, 163, 164, 165, 166, 167, 168, 169, 170, 171, 172, 173, 174, 175, 176, 177, 178, 179, 180, 181, 182, 183, 184, 185, 186, 187, 188, 189, 190, 191, 192, 193, 194, 195, 196, 197, 198, 199, 200, 201, 202, 203, 204, 205, 206, 207, 208, 209, 210, 211, 212, 213, 214, 215, 216, 217, 218, 219, 220, 221, 222, 223, 224, 225, 226, 227, 228, 229, 230, 231, 232, 233, 234, 235, 236, 237, 238, 239, 240, 241, 242, 243, 244, 245, 246, 247, 248, 249, 250, 251, 252, 253, 254, 255, 256, 257, 258, 259, 260, 261, 262, 263, 264, 265, 266, 267, 268, 269, 270, 271, 272, 273, 274, 275, 276, 277, 278, 279, 280, 281, 282, 283, 284, 285, 286, 287, 288, 289, 290, 291, 292, 293, 294, 295, 296, 297, 298, 299, 300, 301, 302, 303, 304, 305, 306, 307, 308, 309, 310, 311, 312, 313, 314, 315, 316, 317, 318, 319, 320, 321, 322, 323, 324, 325, 326, 327, 328, 329, 330, 331, 332, 333, 334, 335, 336, 337, 338, 339, 340, 341, 342, 343, 344, 345, 346, 347, 348, 349, 350, 351, 352, 353, 354, 355, 356, 357, 358, 359, 360, 361, 362, 363, 364, 365, 366, 367, 368, 369, 370, 371, 372, 373, 374, 375, 376, 377, 378, 379, 380, 381, 382, 383, 384, 385, 386, 387, 388, 389, 390, 391, 392, 393, 394, 395, 396, 397, 398, 399, 400, 401], \"colorscale\": [[0.0, \"rgb(12, 51, 131)\"], [1.0, \"rgb(217, 30, 30)\"]], \"showscale\": false, \"size\": 6}, \"mode\": \"markers\", \"showlegend\": false, \"type\": \"scatter\", \"x\": [\"67.0\", \"67.6\", \"90.7\", \"69.0\", \"87.8\", \"84.3\", \"61.2\", \"58.5\", \"92.7\", \"59.8\", \"65.2\", \"49.2\", \"96.6\", \"68.3\", \"59.7\", \"43.8\", \"49.8\", \"50.5\", \"59.0\", \"71.2\", \"36.7\", \"90.6\", \"32.4\", \"59.3\", \"94.9\", \"47.9\", \"68.9\", \"33.1\", \"56.4\", \"43.9\", \"33.6\", \"84.8\", \"81.3\", \"87.4\", \"98.8\", \"84.3\", \"64.3\", \"41.2\", \"79.0\", \"87.0\", \"37.0\", \"46.5\", \"81.9\", \"60.6\", \"91.3\", \"33.8\", \"35.3\", \"53.7\", \"44.6\", \"30.3\", \"77.8\", \"34.9\", \"82.0\", \"37.0\", \"62.3\", \"52.9\", \"47.8\", \"37.4\", \"29.0\", \"83.6\", \"92.5\", \"94.5\", \"50.1\", \"59.5\", \"80.4\", \"36.0\", \"53.9\", \"51.5\", \"70.8\", \"63.1\", \"77.9\", \"66.2\", \"78.7\", \"76.6\", \"91.2\", \"42.7\", \"60.5\", \"81.9\", \"52.9\", \"55.7\", \"56.6\", \"55.0\", \"80.4\", \"79.6\", \"38.7\", \"38.8\", \"51.4\", \"51.1\", \"56.1\", \"49.1\", \"40.3\", \"32.2\", \"42.9\", \"69.4\", \"78.8\", \"28.3\", \"39.1\", \"53.2\", \"64.0\", \"57.5\", \"89.7\", \"64.3\", \"64.7\", \"49.7\", \"85.7\", \"86.9\", \"88.6\", \"96.8\", \"54.6\", \"83.5\", \"90.5\", \"83.6\", \"76.7\", \"53.0\", \"75.0\", \"34.4\", \"56.1\", \"94.4\", \"70.1\", \"62.7\", \"79.7\", \"55.5\", \"74.8\", \"73.4\", \"76.7\", \"54.6\", \"84.0\", \"32.2\", \"64.0\", \"31.8\", \"84.7\", \"80.7\", \"44.8\", \"82.4\", \"44.7\", \"85.1\", \"50.6\", \"83.9\", \"54.1\", \"61.6\", \"52.6\", \"49.1\", \"37.0\", \"69.0\", \"34.3\", \"67.6\", \"54.7\", \"35.8\", \"75.8\", \"37.1\", \"61.6\", \"33.1\", \"66.3\", \"79.8\", \"27.5\", \"56.8\", \"29.1\", \"79.5\", \"87.3\", \"71.8\", \"64.4\", \"27.5\", \"56.7\", \"79.3\", \"37.3\", \"60.1\", \"63.2\", \"29.7\", \"56.7\", \"61.0\", \"70.6\", \"59.7\", \"43.3\", \"70.1\", \"87.3\", \"31.7\", \"41.2\", \"57.3\", \"84.1\", \"67.4\", \"40.6\", \"29.5\", \"44.6\", \"91.0\", \"54.7\", \"60.3\", \"27.6\", \"60.5\", \"46.1\", \"63.2\", \"57.0\", \"71.3\", \"37.4\", \"40.6\", \"54.8\", \"60.4\", \"55.8\", \"76.5\", \"83.9\", \"63.0\", \"39.9\", \"44.6\", \"69.3\", \"55.6\", \"53.3\", \"69.9\", \"35.9\", \"73.8\", \"60.6\", \"54.1\", \"47.8\", \"65.3\", \"64.5\", \"53.4\", \"93.4\", \"75.0\", \"26.3\", \"69.5\", \"25.3\", \"55.4\", \"50.7\", \"67.2\", \"79.4\", \"26.0\", \"26.5\", \"35.7\", \"46.4\", \"84.4\", \"88.8\", \"61.1\", \"71.6\", \"55.7\", \"58.7\", \"31.8\", \"42.8\", \"61.4\", \"39.6\", \"70.4\", \"39.5\", \"79.4\", \"63.1\", \"46.8\", \"44.2\", \"57.0\", \"40.6\", \"86.9\", \"63.7\", \"50.2\", \"75.9\", \"59.7\", \"59.4\", \"48.7\", \"73.1\", \"50.2\", \"24.8\", \"71.7\", \"55.4\", \"88.6\", \"49.6\", \"59.6\", \"53.0\", \"59.4\", \"59.1\", \"48.2\", \"32.2\", \"70.6\", \"81.5\", \"43.5\", \"40.3\", \"41.0\", \"54.6\", \"66.3\", \"57.3\", \"39.3\", \"63.1\", \"62.5\", \"30.4\", \"18.2\", \"59.1\", \"56.6\", \"30.7\", \"54.7\", \"29.2\", \"51.3\", \"69.8\", \"23.9\", \"47.8\", \"62.2\", \"21.8\", \"70.8\", \"43.1\", \"26.0\", \"49.0\", \"84.4\", \"35.3\", \"73.3\", \"37.4\", \"47.8\", \"80.8\", \"37.3\", \"80.4\", \"84.2\", \"28.9\", \"48.8\", \"73.1\", \"45.5\", \"53.9\", \"29.1\", \"71.8\", \"42.2\", \"62.3\", \"59.4\", \"41.5\", \"49.8\", \"89.2\", \"43.8\", \"36.7\", \"42.9\", \"44.4\", \"26.9\", \"37.5\", \"19.4\", \"20.7\", \"37.0\", \"29.7\", \"76.1\", \"88.2\", \"52.1\", \"38.8\", \"47.0\", \"49.2\", \"86.7\", \"33.1\", \"47.2\", \"32.2\", \"43.4\", \"45.1\", \"20.7\", \"34.8\", \"30.0\", \"40.4\", \"36.7\", \"67.1\", \"66.9\", \"59.3\", \"45.6\", \"36.1\", \"43.7\", \"41.6\", \"30.7\", \"21.5\", \"65.8\", \"66.5\", \"79.7\", \"53.9\", \"48.6\", \"52.1\", \"91.3\", \"36.0\", \"35.8\", \"48.4\", \"25.2\", \"19.5\", \"16.6\", \"20.0\", \"22.5\", \"26.1\", \"34.5\", \"50.9\", \"85.3\", \"26.7\", \"24.2\", \"26.7\", \"82.6\", \"53.6\", \"86.9\", \"60.0\", \"50.3\", \"38.1\", \"44.1\", \"42.1\", \"37.4\", \"64.8\", \"74.9\", \"46.8\", \"69.1\", \"49.7\", \"29.6\", \"46.2\", \"73.3\", \"48.0\", \"34.3\", \"46.3\", \"21.0\", \"80.3\", \"54.5\", \"43.1\", \"36.0\", \"50.1\", \"33.1\", \"21.4\"], \"xaxis\": \"x8\", \"y\": [\"94.3\", \"93.3\", \"93.2\", \"92.9\", \"92.0\", \"91.9\", \"90.9\", \"89.5\", \"87.5\", \"87.5\", \"87.1\", \"85.5\", \"84.6\", \"84.4\", \"83.0\", \"81.0\", \"80.9\", \"79.9\", \"79.4\", \"79.3\", \"79.2\", \"78.7\", \"76.1\", \"74.3\", \"73.3\", \"73.2\", \"72.8\", \"72.3\", \"71.9\", \"71.9\", \"71.9\", \"71.8\", \"71.2\", \"70.9\", \"70.9\", \"70.4\", \"70.0\", \"69.9\", \"69.6\", \"69.4\", \"68.6\", \"67.8\", \"67.5\", \"66.8\", \"66.5\", \"65.9\", \"65.9\", \"65.2\", \"65.1\", \"64.8\", \"64.7\", \"64.5\", \"64.5\", \"64.1\", \"63.7\", \"63.7\", \"63.6\", \"62.9\", \"62.8\", \"62.7\", \"62.2\", \"62.2\", \"61.9\", \"61.3\", \"61.2\", \"61.1\", \"61.0\", \"60.7\", \"59.8\", \"59.6\", \"59.2\", \"59.1\", \"59.0\", \"58.9\", \"58.4\", \"58.4\", \"58.2\", \"58.1\", \"58.0\", \"57.9\", \"57.6\", \"57.3\", \"56.9\", \"56.9\", \"56.6\", \"56.5\", \"56.5\", \"56.4\", \"56.4\", \"56.2\", \"56.1\", \"56.1\", \"55.5\", \"55.3\", \"55.3\", \"55.2\", \"55.1\", \"54.6\", \"54.6\", \"54.6\", \"54.3\", \"54.0\", \"53.9\", \"53.9\", \"53.9\", \"53.9\", \"53.8\", \"53.8\", \"53.7\", \"53.7\", \"53.6\", \"53.6\", \"53.4\", \"53.4\", \"53.4\", \"53.2\", \"53.1\", \"53.0\", \"52.9\", \"52.8\", \"52.7\", \"52.7\", \"52.7\", \"52.6\", \"52.6\", \"52.5\", \"52.5\", \"52.5\", \"52.4\", \"52.1\", \"52.0\", \"51.9\", \"51.9\", \"51.9\", \"51.6\", \"51.4\", \"51.4\", \"51.2\", \"51.1\", \"51.0\", \"50.9\", \"50.9\", \"50.9\", \"50.5\", \"50.5\", \"50.4\", \"50.3\", \"50.2\", \"50.2\", \"50.1\", \"50.1\", \"50.0\", \"49.9\", \"49.7\", \"49.3\", \"49.2\", \"49.1\", \"49.1\", \"49.1\", \"49.0\", \"49.0\", \"48.6\", \"48.3\", \"48.2\", \"48.1\", \"48.1\", \"48.1\", \"48.1\", \"48.0\", \"47.9\", \"47.8\", \"47.8\", \"47.7\", \"47.7\", \"47.5\", \"47.5\", \"47.3\", \"47.1\", \"47.1\", \"47.0\", \"47.0\", \"46.9\", \"46.9\", \"46.9\", \"46.8\", \"46.7\", \"46.7\", \"46.6\", \"46.6\", \"46.6\", \"46.5\", \"46.3\", \"46.2\", \"46.2\", \"46.1\", \"46.0\", \"46.0\", \"45.9\", \"45.7\", \"45.6\", \"45.6\", \"-\", \"-\", \"-\", \"-\", \"-\", \"-\", \"-\", \"-\", \"-\", \"-\", \"-\", \"-\", \"-\", \"-\", \"-\", \"-\", \"-\", \"-\", \"-\", \"-\", \"-\", \"-\", \"-\", \"-\", \"-\", \"-\", \"-\", \"-\", \"-\", \"-\", \"-\", \"-\", \"-\", \"-\", \"-\", \"-\", \"-\", \"-\", \"-\", \"-\", \"-\", \"-\", \"-\", \"-\", \"-\", \"-\", \"-\", \"-\", \"-\", \"-\", \"-\", \"-\", \"-\", \"-\", \"-\", \"-\", \"-\", \"-\", \"-\", \"-\", \"-\", \"-\", \"-\", \"-\", \"-\", \"-\", \"-\", \"-\", \"-\", \"-\", \"-\", \"-\", \"-\", \"-\", \"-\", \"-\", \"-\", \"-\", \"-\", \"-\", \"-\", \"-\", \"-\", \"-\", \"-\", \"-\", \"-\", \"-\", \"-\", \"-\", \"-\", \"-\", \"-\", \"-\", \"-\", \"-\", \"-\", \"-\", \"-\", \"-\", \"-\", \"-\", \"-\", \"-\", \"-\", \"-\", \"-\", \"-\", \"-\", \"-\", \"-\", \"-\", \"-\", \"-\", \"-\", \"-\", \"-\", \"-\", \"-\", \"-\", \"-\", \"-\", \"-\", \"-\", \"-\", \"-\", \"-\", \"-\", \"-\", \"-\", \"-\", \"-\", \"-\", \"-\", \"-\", \"-\", \"-\", \"-\", \"-\", \"-\", \"-\", \"-\", \"-\", \"-\", \"-\", \"-\", \"-\", \"-\", \"-\", \"-\", \"-\", \"-\", \"-\", \"-\", \"-\", \"-\", \"-\", \"-\", \"-\", \"-\", \"-\", \"-\", \"-\", \"-\", \"-\", \"-\", \"-\", \"-\", \"-\", \"-\", \"-\", \"-\", \"-\", \"-\", \"-\", \"-\", \"-\", \"-\", \"-\", \"-\", \"-\", \"-\", \"-\", \"-\", \"-\", \"-\", \"-\", \"-\", \"-\", \"-\", \"-\", \"-\", \"-\", \"-\", \"-\", \"-\", \"-\", \"-\", \"-\", \"-\"], \"yaxis\": \"y8\"}, {\"marker\": {\"color\": \"rgb(12, 51, 131)\"}, \"showlegend\": false, \"type\": \"box\", \"xaxis\": \"x9\", \"y\": [\"94.3\", \"93.3\", \"93.2\", \"92.9\", \"92.0\", \"91.9\", \"90.9\", \"89.5\", \"87.5\", \"87.5\", \"87.1\", \"85.5\", \"84.6\", \"84.4\", \"83.0\", \"81.0\", \"80.9\", \"79.9\", \"79.4\", \"79.3\", \"79.2\", \"78.7\", \"76.1\", \"74.3\", \"73.3\", \"73.2\", \"72.8\", \"72.3\", \"71.9\", \"71.9\", \"71.9\", \"71.8\", \"71.2\", \"70.9\", \"70.9\", \"70.4\", \"70.0\", \"69.9\", \"69.6\", \"69.4\", \"68.6\", \"67.8\", \"67.5\", \"66.8\", \"66.5\", \"65.9\", \"65.9\", \"65.2\", \"65.1\", \"64.8\", \"64.7\", \"64.5\", \"64.5\", \"64.1\", \"63.7\", \"63.7\", \"63.6\", \"62.9\", \"62.8\", \"62.7\", \"62.2\", \"62.2\", \"61.9\", \"61.3\", \"61.2\", \"61.1\", \"61.0\", \"60.7\", \"59.8\", \"59.6\", \"59.2\", \"59.1\", \"59.0\", \"58.9\", \"58.4\", \"58.4\", \"58.2\", \"58.1\", \"58.0\", \"57.9\", \"57.6\", \"57.3\", \"56.9\", \"56.9\", \"56.6\", \"56.5\", \"56.5\", \"56.4\", \"56.4\", \"56.2\", \"56.1\", \"56.1\", \"55.5\", \"55.3\", \"55.3\", \"55.2\", \"55.1\", \"54.6\", \"54.6\", \"54.6\", \"54.3\", \"54.0\", \"53.9\", \"53.9\", \"53.9\", \"53.9\", \"53.8\", \"53.8\", \"53.7\", \"53.7\", \"53.6\", \"53.6\", \"53.4\", \"53.4\", \"53.4\", \"53.2\", \"53.1\", \"53.0\", \"52.9\", \"52.8\", \"52.7\", \"52.7\", \"52.7\", \"52.6\", \"52.6\", \"52.5\", \"52.5\", \"52.5\", \"52.4\", \"52.1\", \"52.0\", \"51.9\", \"51.9\", \"51.9\", \"51.6\", \"51.4\", \"51.4\", \"51.2\", \"51.1\", \"51.0\", \"50.9\", \"50.9\", \"50.9\", \"50.5\", \"50.5\", \"50.4\", \"50.3\", \"50.2\", \"50.2\", \"50.1\", \"50.1\", \"50.0\", \"49.9\", \"49.7\", \"49.3\", \"49.2\", \"49.1\", \"49.1\", \"49.1\", \"49.0\", \"49.0\", \"48.6\", \"48.3\", \"48.2\", \"48.1\", \"48.1\", \"48.1\", \"48.1\", \"48.0\", \"47.9\", \"47.8\", \"47.8\", \"47.7\", \"47.7\", \"47.5\", \"47.5\", \"47.3\", \"47.1\", \"47.1\", \"47.0\", \"47.0\", \"46.9\", \"46.9\", \"46.9\", \"46.8\", \"46.7\", \"46.7\", \"46.6\", \"46.6\", \"46.6\", \"46.5\", \"46.3\", \"46.2\", \"46.2\", \"46.1\", \"46.0\", \"46.0\", \"45.9\", \"45.7\", \"45.6\", \"45.6\", \"-\", \"-\", \"-\", \"-\", \"-\", \"-\", \"-\", \"-\", \"-\", \"-\", \"-\", \"-\", \"-\", \"-\", \"-\", \"-\", \"-\", \"-\", \"-\", \"-\", \"-\", \"-\", \"-\", \"-\", \"-\", \"-\", \"-\", \"-\", \"-\", \"-\", \"-\", \"-\", \"-\", \"-\", \"-\", \"-\", \"-\", \"-\", \"-\", \"-\", \"-\", \"-\", \"-\", \"-\", \"-\", \"-\", \"-\", \"-\", \"-\", \"-\", \"-\", \"-\", \"-\", \"-\", \"-\", \"-\", \"-\", \"-\", \"-\", \"-\", \"-\", \"-\", \"-\", \"-\", \"-\", \"-\", \"-\", \"-\", \"-\", \"-\", \"-\", \"-\", \"-\", \"-\", \"-\", \"-\", \"-\", \"-\", \"-\", \"-\", \"-\", \"-\", \"-\", \"-\", \"-\", \"-\", \"-\", \"-\", \"-\", \"-\", \"-\", \"-\", \"-\", \"-\", \"-\", \"-\", \"-\", \"-\", \"-\", \"-\", \"-\", \"-\", \"-\", \"-\", \"-\", \"-\", \"-\", \"-\", \"-\", \"-\", \"-\", \"-\", \"-\", \"-\", \"-\", \"-\", \"-\", \"-\", \"-\", \"-\", \"-\", \"-\", \"-\", \"-\", \"-\", \"-\", \"-\", \"-\", \"-\", \"-\", \"-\", \"-\", \"-\", \"-\", \"-\", \"-\", \"-\", \"-\", \"-\", \"-\", \"-\", \"-\", \"-\", \"-\", \"-\", \"-\", \"-\", \"-\", \"-\", \"-\", \"-\", \"-\", \"-\", \"-\", \"-\", \"-\", \"-\", \"-\", \"-\", \"-\", \"-\", \"-\", \"-\", \"-\", \"-\", \"-\", \"-\", \"-\", \"-\", \"-\", \"-\", \"-\", \"-\", \"-\", \"-\", \"-\", \"-\", \"-\", \"-\", \"-\", \"-\", \"-\", \"-\", \"-\", \"-\", \"-\", \"-\", \"-\", \"-\", \"-\", \"-\", \"-\", \"-\", \"-\", \"-\", \"-\", \"-\", \"-\", \"-\", \"-\"], \"yaxis\": \"y9\"}],                        {\"height\": 700, \"showlegend\": true, \"template\": {\"data\": {\"bar\": [{\"error_x\": {\"color\": \"#2a3f5f\"}, \"error_y\": {\"color\": \"#2a3f5f\"}, \"marker\": {\"line\": {\"color\": \"#E5ECF6\", \"width\": 0.5}}, \"type\": \"bar\"}], \"barpolar\": [{\"marker\": {\"line\": {\"color\": \"#E5ECF6\", \"width\": 0.5}}, \"type\": \"barpolar\"}], \"carpet\": [{\"aaxis\": {\"endlinecolor\": \"#2a3f5f\", \"gridcolor\": \"white\", \"linecolor\": \"white\", \"minorgridcolor\": \"white\", \"startlinecolor\": \"#2a3f5f\"}, \"baxis\": {\"endlinecolor\": \"#2a3f5f\", \"gridcolor\": \"white\", \"linecolor\": \"white\", \"minorgridcolor\": \"white\", \"startlinecolor\": \"#2a3f5f\"}, \"type\": \"carpet\"}], \"choropleth\": [{\"colorbar\": {\"outlinewidth\": 0, \"ticks\": \"\"}, \"type\": \"choropleth\"}], \"contour\": [{\"colorbar\": {\"outlinewidth\": 0, \"ticks\": \"\"}, \"colorscale\": [[0.0, \"#0d0887\"], [0.1111111111111111, \"#46039f\"], [0.2222222222222222, \"#7201a8\"], [0.3333333333333333, \"#9c179e\"], [0.4444444444444444, \"#bd3786\"], [0.5555555555555556, \"#d8576b\"], [0.6666666666666666, \"#ed7953\"], [0.7777777777777778, \"#fb9f3a\"], [0.8888888888888888, \"#fdca26\"], [1.0, \"#f0f921\"]], \"type\": \"contour\"}], \"contourcarpet\": [{\"colorbar\": {\"outlinewidth\": 0, \"ticks\": \"\"}, \"type\": \"contourcarpet\"}], \"heatmap\": [{\"colorbar\": {\"outlinewidth\": 0, \"ticks\": \"\"}, \"colorscale\": [[0.0, \"#0d0887\"], [0.1111111111111111, \"#46039f\"], [0.2222222222222222, \"#7201a8\"], [0.3333333333333333, \"#9c179e\"], [0.4444444444444444, \"#bd3786\"], [0.5555555555555556, \"#d8576b\"], [0.6666666666666666, \"#ed7953\"], [0.7777777777777778, \"#fb9f3a\"], [0.8888888888888888, \"#fdca26\"], [1.0, \"#f0f921\"]], \"type\": \"heatmap\"}], \"heatmapgl\": [{\"colorbar\": {\"outlinewidth\": 0, \"ticks\": \"\"}, \"colorscale\": [[0.0, \"#0d0887\"], [0.1111111111111111, \"#46039f\"], [0.2222222222222222, \"#7201a8\"], [0.3333333333333333, \"#9c179e\"], [0.4444444444444444, \"#bd3786\"], [0.5555555555555556, \"#d8576b\"], [0.6666666666666666, \"#ed7953\"], [0.7777777777777778, \"#fb9f3a\"], [0.8888888888888888, \"#fdca26\"], [1.0, \"#f0f921\"]], \"type\": \"heatmapgl\"}], \"histogram\": [{\"marker\": {\"colorbar\": {\"outlinewidth\": 0, \"ticks\": \"\"}}, \"type\": \"histogram\"}], \"histogram2d\": [{\"colorbar\": {\"outlinewidth\": 0, \"ticks\": \"\"}, \"colorscale\": [[0.0, \"#0d0887\"], [0.1111111111111111, \"#46039f\"], [0.2222222222222222, \"#7201a8\"], [0.3333333333333333, \"#9c179e\"], [0.4444444444444444, \"#bd3786\"], [0.5555555555555556, \"#d8576b\"], [0.6666666666666666, \"#ed7953\"], [0.7777777777777778, \"#fb9f3a\"], [0.8888888888888888, \"#fdca26\"], [1.0, \"#f0f921\"]], \"type\": \"histogram2d\"}], \"histogram2dcontour\": [{\"colorbar\": {\"outlinewidth\": 0, \"ticks\": \"\"}, \"colorscale\": [[0.0, \"#0d0887\"], [0.1111111111111111, \"#46039f\"], [0.2222222222222222, \"#7201a8\"], [0.3333333333333333, \"#9c179e\"], [0.4444444444444444, \"#bd3786\"], [0.5555555555555556, \"#d8576b\"], [0.6666666666666666, \"#ed7953\"], [0.7777777777777778, \"#fb9f3a\"], [0.8888888888888888, \"#fdca26\"], [1.0, \"#f0f921\"]], \"type\": \"histogram2dcontour\"}], \"mesh3d\": [{\"colorbar\": {\"outlinewidth\": 0, \"ticks\": \"\"}, \"type\": \"mesh3d\"}], \"parcoords\": [{\"line\": {\"colorbar\": {\"outlinewidth\": 0, \"ticks\": \"\"}}, \"type\": \"parcoords\"}], \"pie\": [{\"automargin\": true, \"type\": \"pie\"}], \"scatter\": [{\"marker\": {\"colorbar\": {\"outlinewidth\": 0, \"ticks\": \"\"}}, \"type\": \"scatter\"}], \"scatter3d\": [{\"line\": {\"colorbar\": {\"outlinewidth\": 0, \"ticks\": \"\"}}, \"marker\": {\"colorbar\": {\"outlinewidth\": 0, \"ticks\": \"\"}}, \"type\": \"scatter3d\"}], \"scattercarpet\": [{\"marker\": {\"colorbar\": {\"outlinewidth\": 0, \"ticks\": \"\"}}, \"type\": \"scattercarpet\"}], \"scattergeo\": [{\"marker\": {\"colorbar\": {\"outlinewidth\": 0, \"ticks\": \"\"}}, \"type\": \"scattergeo\"}], \"scattergl\": [{\"marker\": {\"colorbar\": {\"outlinewidth\": 0, \"ticks\": \"\"}}, \"type\": \"scattergl\"}], \"scattermapbox\": [{\"marker\": {\"colorbar\": {\"outlinewidth\": 0, \"ticks\": \"\"}}, \"type\": \"scattermapbox\"}], \"scatterpolar\": [{\"marker\": {\"colorbar\": {\"outlinewidth\": 0, \"ticks\": \"\"}}, \"type\": \"scatterpolar\"}], \"scatterpolargl\": [{\"marker\": {\"colorbar\": {\"outlinewidth\": 0, \"ticks\": \"\"}}, \"type\": \"scatterpolargl\"}], \"scatterternary\": [{\"marker\": {\"colorbar\": {\"outlinewidth\": 0, \"ticks\": \"\"}}, \"type\": \"scatterternary\"}], \"surface\": [{\"colorbar\": {\"outlinewidth\": 0, \"ticks\": \"\"}, \"colorscale\": [[0.0, \"#0d0887\"], [0.1111111111111111, \"#46039f\"], [0.2222222222222222, \"#7201a8\"], [0.3333333333333333, \"#9c179e\"], [0.4444444444444444, \"#bd3786\"], [0.5555555555555556, \"#d8576b\"], [0.6666666666666666, \"#ed7953\"], [0.7777777777777778, \"#fb9f3a\"], [0.8888888888888888, \"#fdca26\"], [1.0, \"#f0f921\"]], \"type\": \"surface\"}], \"table\": [{\"cells\": {\"fill\": {\"color\": \"#EBF0F8\"}, \"line\": {\"color\": \"white\"}}, \"header\": {\"fill\": {\"color\": \"#C8D4E3\"}, \"line\": {\"color\": \"white\"}}, \"type\": \"table\"}]}, \"layout\": {\"annotationdefaults\": {\"arrowcolor\": \"#2a3f5f\", \"arrowhead\": 0, \"arrowwidth\": 1}, \"autotypenumbers\": \"strict\", \"coloraxis\": {\"colorbar\": {\"outlinewidth\": 0, \"ticks\": \"\"}}, \"colorscale\": {\"diverging\": [[0, \"#8e0152\"], [0.1, \"#c51b7d\"], [0.2, \"#de77ae\"], [0.3, \"#f1b6da\"], [0.4, \"#fde0ef\"], [0.5, \"#f7f7f7\"], [0.6, \"#e6f5d0\"], [0.7, \"#b8e186\"], [0.8, \"#7fbc41\"], [0.9, \"#4d9221\"], [1, \"#276419\"]], \"sequential\": [[0.0, \"#0d0887\"], [0.1111111111111111, \"#46039f\"], [0.2222222222222222, \"#7201a8\"], [0.3333333333333333, \"#9c179e\"], [0.4444444444444444, \"#bd3786\"], [0.5555555555555556, \"#d8576b\"], [0.6666666666666666, \"#ed7953\"], [0.7777777777777778, \"#fb9f3a\"], [0.8888888888888888, \"#fdca26\"], [1.0, \"#f0f921\"]], \"sequentialminus\": [[0.0, \"#0d0887\"], [0.1111111111111111, \"#46039f\"], [0.2222222222222222, \"#7201a8\"], [0.3333333333333333, \"#9c179e\"], [0.4444444444444444, \"#bd3786\"], [0.5555555555555556, \"#d8576b\"], [0.6666666666666666, \"#ed7953\"], [0.7777777777777778, \"#fb9f3a\"], [0.8888888888888888, \"#fdca26\"], [1.0, \"#f0f921\"]]}, \"colorway\": [\"#636efa\", \"#EF553B\", \"#00cc96\", \"#ab63fa\", \"#FFA15A\", \"#19d3f3\", \"#FF6692\", \"#B6E880\", \"#FF97FF\", \"#FECB52\"], \"font\": {\"color\": \"#2a3f5f\"}, \"geo\": {\"bgcolor\": \"white\", \"lakecolor\": \"white\", \"landcolor\": \"#E5ECF6\", \"showlakes\": true, \"showland\": true, \"subunitcolor\": \"white\"}, \"hoverlabel\": {\"align\": \"left\"}, \"hovermode\": \"closest\", \"mapbox\": {\"style\": \"light\"}, \"paper_bgcolor\": \"white\", \"plot_bgcolor\": \"#E5ECF6\", \"polar\": {\"angularaxis\": {\"gridcolor\": \"white\", \"linecolor\": \"white\", \"ticks\": \"\"}, \"bgcolor\": \"#E5ECF6\", \"radialaxis\": {\"gridcolor\": \"white\", \"linecolor\": \"white\", \"ticks\": \"\"}}, \"scene\": {\"xaxis\": {\"backgroundcolor\": \"#E5ECF6\", \"gridcolor\": \"white\", \"gridwidth\": 2, \"linecolor\": \"white\", \"showbackground\": true, \"ticks\": \"\", \"zerolinecolor\": \"white\"}, \"yaxis\": {\"backgroundcolor\": \"#E5ECF6\", \"gridcolor\": \"white\", \"gridwidth\": 2, \"linecolor\": \"white\", \"showbackground\": true, \"ticks\": \"\", \"zerolinecolor\": \"white\"}, \"zaxis\": {\"backgroundcolor\": \"#E5ECF6\", \"gridcolor\": \"white\", \"gridwidth\": 2, \"linecolor\": \"white\", \"showbackground\": true, \"ticks\": \"\", \"zerolinecolor\": \"white\"}}, \"shapedefaults\": {\"line\": {\"color\": \"#2a3f5f\"}}, \"ternary\": {\"aaxis\": {\"gridcolor\": \"white\", \"linecolor\": \"white\", \"ticks\": \"\"}, \"baxis\": {\"gridcolor\": \"white\", \"linecolor\": \"white\", \"ticks\": \"\"}, \"bgcolor\": \"#E5ECF6\", \"caxis\": {\"gridcolor\": \"white\", \"linecolor\": \"white\", \"ticks\": \"\"}}, \"title\": {\"x\": 0.05}, \"xaxis\": {\"automargin\": true, \"gridcolor\": \"white\", \"linecolor\": \"white\", \"ticks\": \"\", \"title\": {\"standoff\": 15}, \"zerolinecolor\": \"white\", \"zerolinewidth\": 2}, \"yaxis\": {\"automargin\": true, \"gridcolor\": \"white\", \"linecolor\": \"white\", \"ticks\": \"\", \"title\": {\"standoff\": 15}, \"zerolinecolor\": \"white\", \"zerolinewidth\": 2}}}, \"title\": {\"text\": \"Scatterplot Matrix\"}, \"width\": 700, \"xaxis\": {\"anchor\": \"y\", \"domain\": [0.0, 0.2888888888888889], \"showticklabels\": false}, \"xaxis2\": {\"anchor\": \"y2\", \"domain\": [0.35555555555555557, 0.6444444444444445]}, \"xaxis3\": {\"anchor\": \"y3\", \"domain\": [0.7111111111111111, 1.0]}, \"xaxis4\": {\"anchor\": \"y4\", \"domain\": [0.0, 0.2888888888888889]}, \"xaxis5\": {\"anchor\": \"y5\", \"domain\": [0.35555555555555557, 0.6444444444444445], \"showticklabels\": false}, \"xaxis6\": {\"anchor\": \"y6\", \"domain\": [0.7111111111111111, 1.0]}, \"xaxis7\": {\"anchor\": \"y7\", \"domain\": [0.0, 0.2888888888888889], \"title\": {\"text\": \"research\"}}, \"xaxis8\": {\"anchor\": \"y8\", \"domain\": [0.35555555555555557, 0.6444444444444445], \"title\": {\"text\": \"international\"}}, \"xaxis9\": {\"anchor\": \"y9\", \"domain\": [0.7111111111111111, 1.0], \"showticklabels\": false, \"title\": {\"text\": \"total_score\"}}, \"yaxis\": {\"anchor\": \"x\", \"domain\": [0.7333333333333333, 1.0], \"title\": {\"text\": \"research\"}}, \"yaxis2\": {\"anchor\": \"x2\", \"domain\": [0.7333333333333333, 1.0]}, \"yaxis3\": {\"anchor\": \"x3\", \"domain\": [0.7333333333333333, 1.0]}, \"yaxis4\": {\"anchor\": \"x4\", \"domain\": [0.36666666666666664, 0.6333333333333333], \"title\": {\"text\": \"international\"}}, \"yaxis5\": {\"anchor\": \"x5\", \"domain\": [0.36666666666666664, 0.6333333333333333]}, \"yaxis6\": {\"anchor\": \"x6\", \"domain\": [0.36666666666666664, 0.6333333333333333]}, \"yaxis7\": {\"anchor\": \"x7\", \"domain\": [0.0, 0.26666666666666666], \"title\": {\"text\": \"total_score\"}}, \"yaxis8\": {\"anchor\": \"x8\", \"domain\": [0.0, 0.26666666666666666]}, \"yaxis9\": {\"anchor\": \"x9\", \"domain\": [0.0, 0.26666666666666666]}},                        {\"responsive\": true}                    ).then(function(){\n",
       "                            \n",
       "var gd = document.getElementById('c6e6f7af-85a0-427b-825d-5a7334660e80');\n",
       "var x = new MutationObserver(function (mutations, observer) {{\n",
       "        var display = window.getComputedStyle(gd).display;\n",
       "        if (!display || display === 'none') {{\n",
       "            console.log([gd, 'removed!']);\n",
       "            Plotly.purge(gd);\n",
       "            observer.disconnect();\n",
       "        }}\n",
       "}});\n",
       "\n",
       "// Listen for the removal of the full notebook cells\n",
       "var notebookContainer = gd.closest('#notebook-container');\n",
       "if (notebookContainer) {{\n",
       "    x.observe(notebookContainer, {childList: true});\n",
       "}}\n",
       "\n",
       "// Listen for the clearing of the current output cell\n",
       "var outputEl = gd.closest('.output');\n",
       "if (outputEl) {{\n",
       "    x.observe(outputEl, {childList: true});\n",
       "}}\n",
       "\n",
       "                        })                };                });            </script>        </div>"
      ]
     },
     "metadata": {},
     "output_type": "display_data"
    }
   ],
   "source": [
    "# import figure factory\n",
    "import plotly.figure_factory as ff\n",
    "# prepare data\n",
    "dataframe = timesData[timesData.year == 2015]\n",
    "data2015 = dataframe.loc[:,[\"research\",\"international\", \"total_score\"]]\n",
    "data2015[\"index\"] = np.arange(1,len(data2015)+1)\n",
    "# scatter matrix\n",
    "fig = ff.create_scatterplotmatrix(data2015, diag='box', index='index',colormap='Portland',\n",
    "                                  colormap_type='cat',\n",
    "                                  height=700, width=700)\n",
    "iplot(fig)"
   ]
  },
  {
   "cell_type": "markdown",
   "metadata": {},
   "source": [
    "## Inset Plots:"
   ]
  },
  {
   "cell_type": "code",
   "execution_count": 19,
   "metadata": {},
   "outputs": [
    {
     "data": {
      "application/vnd.plotly.v1+json": {
       "config": {
        "linkText": "Export to plot.ly",
        "plotlyServerURL": "https://plot.ly",
        "showLink": false
       },
       "data": [
        {
         "marker": {
          "color": "rgba(16, 112, 2, 0.8)"
         },
         "name": "teaching",
         "type": "scatter",
         "x": [
          "1",
          "2",
          "3",
          "4",
          "5",
          "6",
          "7",
          "8",
          "9",
          "9",
          "11",
          "12",
          "13",
          "14",
          "15",
          "16",
          "17",
          "18",
          "19",
          "20",
          "21",
          "22",
          "23",
          "24",
          "25",
          "26",
          "27",
          "28",
          "29",
          "29",
          "29",
          "32",
          "33",
          "34",
          "34",
          "36",
          "37",
          "38",
          "39",
          "40",
          "41",
          "42",
          "43",
          "44",
          "45",
          "46",
          "46",
          "48",
          "49",
          "50",
          "51",
          "52",
          "52",
          "54",
          "55",
          "55",
          "57",
          "58",
          "59",
          "60",
          "61",
          "61",
          "63",
          "64",
          "65",
          "66",
          "67",
          "68",
          "69",
          "70",
          "71",
          "72",
          "73",
          "74",
          "75",
          "75",
          "77",
          "78",
          "79",
          "80",
          "81",
          "82",
          "83",
          "83",
          "85",
          "86",
          "86",
          "88",
          "88",
          "90",
          "91",
          "91",
          "93",
          "94",
          "94",
          "96",
          "97",
          "98",
          "98",
          "98",
          "101",
          "102",
          "103",
          "103",
          "103",
          "103",
          "107",
          "107",
          "109",
          "109",
          "111",
          "111",
          "113",
          "113",
          "113",
          "116",
          "117",
          "118",
          "119",
          "120",
          "121",
          "121",
          "121",
          "124",
          "124",
          "126",
          "126",
          "126",
          "129",
          "130",
          "131",
          "132",
          "132",
          "132",
          "135",
          "136",
          "136",
          "138",
          "139",
          "140",
          "141",
          "141",
          "141",
          "144",
          "144",
          "146",
          "147",
          "148",
          "148",
          "150",
          "150",
          "152",
          "153",
          "154",
          "155",
          "156",
          "157",
          "157",
          "157",
          "160",
          "160",
          "162",
          "163",
          "164",
          "165",
          "165",
          "165",
          "165",
          "169",
          "170",
          "171",
          "171",
          "173",
          "173",
          "175",
          "175",
          "177",
          "178",
          "178",
          "180",
          "180",
          "182",
          "182",
          "182",
          "185",
          "186",
          "186",
          "188",
          "188",
          "188",
          "191",
          "192",
          "193",
          "193",
          "195",
          "196",
          "196",
          "198",
          "199",
          "200",
          "200",
          "201-225",
          "201-225",
          "201-225",
          "201-225",
          "201-225",
          "201-225",
          "201-225",
          "201-225",
          "201-225",
          "201-225",
          "201-225",
          "201-225",
          "201-225",
          "201-225",
          "201-225",
          "201-225",
          "201-225",
          "201-225",
          "201-225",
          "201-225",
          "201-225",
          "201-225",
          "201-225",
          "201-225",
          "201-225",
          "226-250",
          "226-250",
          "226-250",
          "226-250",
          "226-250",
          "226-250",
          "226-250",
          "226-250",
          "226-250",
          "226-250",
          "226-250",
          "226-250",
          "226-250",
          "226-250",
          "226-250",
          "226-250",
          "226-250",
          "226-250",
          "226-250",
          "226-250",
          "226-250",
          "226-250",
          "226-250",
          "226-250",
          "251-275",
          "251-275",
          "251-275",
          "251-275",
          "251-275",
          "251-275",
          "251-275",
          "251-275",
          "251-275",
          "251-275",
          "251-275",
          "251-275",
          "251-275",
          "251-275",
          "251-275",
          "251-275",
          "251-275",
          "251-275",
          "251-275",
          "251-275",
          "251-275",
          "251-275",
          "251-275",
          "251-275",
          "251-275",
          "276-300",
          "276-300",
          "276-300",
          "276-300",
          "276-300",
          "276-300",
          "276-300",
          "276-300",
          "276-300",
          "276-300",
          "276-300",
          "276-300",
          "276-300",
          "276-300",
          "276-300",
          "276-300",
          "276-300",
          "276-300",
          "276-300",
          "276-300",
          "276-300",
          "276-300",
          "276-300",
          "276-300",
          "276-300",
          "276-300",
          "276-300",
          "276-300",
          "301-350",
          "301-350",
          "301-350",
          "301-350",
          "301-350",
          "301-350",
          "301-350",
          "301-350",
          "301-350",
          "301-350",
          "301-350",
          "301-350",
          "301-350",
          "301-350",
          "301-350",
          "301-350",
          "301-350",
          "301-350",
          "301-350",
          "301-350",
          "301-350",
          "301-350",
          "301-350",
          "301-350",
          "301-350",
          "301-350",
          "301-350",
          "301-350",
          "301-350",
          "301-350",
          "301-350",
          "301-350",
          "301-350",
          "301-350",
          "301-350",
          "301-350",
          "301-350",
          "301-350",
          "301-350",
          "301-350",
          "301-350",
          "301-350",
          "301-350",
          "301-350",
          "301-350",
          "301-350",
          "301-350",
          "301-350",
          "351-400",
          "351-400",
          "351-400",
          "351-400",
          "351-400",
          "351-400",
          "351-400",
          "351-400",
          "351-400",
          "351-400",
          "351-400",
          "351-400",
          "351-400",
          "351-400",
          "351-400",
          "351-400",
          "351-400",
          "351-400",
          "351-400",
          "351-400",
          "351-400",
          "351-400",
          "351-400",
          "351-400",
          "351-400",
          "351-400",
          "351-400",
          "351-400",
          "351-400",
          "351-400",
          "351-400",
          "351-400",
          "351-400",
          "351-400",
          "351-400",
          "351-400",
          "351-400",
          "351-400",
          "351-400",
          "351-400",
          "351-400",
          "351-400",
          "351-400",
          "351-400",
          "351-400",
          "351-400",
          "351-400",
          "351-400",
          "351-400",
          "351-400"
         ],
         "y": [
          92.2,
          92.9,
          88.6,
          91.5,
          89.7,
          89.1,
          86.6,
          84.2,
          84.6,
          88.5,
          83.9,
          82.4,
          78.2,
          83.9,
          75.6,
          79,
          77,
          73.5,
          71.6,
          74.4,
          72.7,
          70.4,
          81.4,
          61.6,
          72,
          64.5,
          62.5,
          64.3,
          65.1,
          67.7,
          67.7,
          60.5,
          60.4,
          65.4,
          54.7,
          58.9,
          49.4,
          68.3,
          63.3,
          55.6,
          52,
          57.6,
          62.1,
          57.1,
          53.7,
          59.9,
          57.9,
          70,
          64.1,
          75.5,
          51.8,
          63.5,
          58.1,
          55.5,
          53,
          54.4,
          56.4,
          54.6,
          70.4,
          52.8,
          43.9,
          50.5,
          48.2,
          45,
          45.8,
          52.7,
          46.9,
          54,
          41.7,
          52.6,
          55.5,
          39.8,
          44.3,
          43.7,
          41.2,
          55.2,
          42,
          48.7,
          38.2,
          51.9,
          49.4,
          51.1,
          37.2,
          43.7,
          45.5,
          44.9,
          43.3,
          43.6,
          39.5,
          42.5,
          44.8,
          45.2,
          49,
          38.1,
          37,
          46,
          35,
          30.1,
          45.6,
          40.2,
          32.4,
          47.8,
          47.3,
          37.5,
          41.1,
          40.2,
          32.4,
          34.5,
          30.6,
          41.1,
          35.7,
          31.9,
          43.8,
          41.5,
          32.2,
          46.5,
          36.9,
          29.1,
          32.6,
          37.3,
          39.9,
          41.9,
          40,
          43.8,
          26.8,
          32.4,
          45.7,
          49.8,
          43.9,
          48.7,
          35.4,
          42,
          36.5,
          35.2,
          39.8,
          29.4,
          35.5,
          39.4,
          28.5,
          30.5,
          26.1,
          46.2,
          53.5,
          38.3,
          40.5,
          39.4,
          25.8,
          48.1,
          42.8,
          46.5,
          29.4,
          38.3,
          30.9,
          32,
          48.8,
          39,
          51.3,
          31.3,
          36.3,
          34,
          38.1,
          38.8,
          38,
          33.8,
          30.2,
          40.5,
          25.1,
          49.7,
          42.7,
          34.6,
          39.9,
          37.9,
          51.1,
          21.6,
          28.6,
          41.9,
          32.4,
          38,
          28,
          25.6,
          29,
          35.7,
          26,
          35.2,
          36.4,
          36.1,
          45.2,
          32.8,
          43.5,
          37.9,
          40.1,
          31,
          45.6,
          36.4,
          32.2,
          55.9,
          23.1,
          25.2,
          29.8,
          19.7,
          44.6,
          28,
          30.5,
          28.1,
          41.5,
          33.7,
          48.9,
          30.3,
          36.9,
          35,
          28.4,
          29.5,
          24.4,
          43,
          23.9,
          32.8,
          36.9,
          28.6,
          51.6,
          26,
          28.7,
          32.3,
          26.7,
          33.3,
          36.8,
          44.5,
          30.4,
          28.3,
          22.1,
          24.3,
          33.6,
          35.8,
          39.6,
          37.5,
          30.9,
          24.6,
          25.7,
          42.2,
          19.6,
          31.7,
          34.4,
          24.1,
          31.1,
          30.5,
          27.1,
          27.8,
          38.3,
          28.6,
          43.3,
          27.5,
          31.8,
          13,
          28.6,
          34.6,
          39.4,
          26.7,
          37.3,
          30.1,
          27.9,
          36.9,
          33.9,
          35.1,
          14.9,
          30.6,
          29.6,
          26.5,
          27.1,
          26.3,
          32.3,
          27.7,
          17.3,
          22.3,
          26.8,
          29.4,
          30.9,
          35.7,
          27.6,
          32.6,
          25.2,
          23.7,
          35,
          33.5,
          23.7,
          18.4,
          29.9,
          37.9,
          30,
          33,
          42.7,
          26.7,
          31,
          32,
          28.4,
          29.2,
          39.7,
          17.1,
          25.3,
          31,
          25.7,
          34.5,
          25.2,
          21.6,
          40.1,
          28.6,
          22.4,
          20.3,
          31.5,
          40.7,
          20.1,
          31.8,
          21.2,
          40.2,
          27,
          21.6,
          24,
          24.6,
          27.8,
          27.6,
          34.9,
          19.7,
          32.3,
          28.7,
          43.4,
          32.5,
          40.7,
          29.2,
          21.1,
          25.6,
          37.6,
          19,
          21.9,
          31.6,
          39.3,
          27.6,
          30.6,
          31.6,
          16.3,
          29.1,
          36.4,
          32.6,
          20.7,
          22.4,
          19.5,
          21.5,
          30.6,
          22.9,
          33.4,
          17.9,
          20.8,
          32,
          36,
          23.8,
          20.7,
          19.4,
          21.3,
          27.5,
          19.1,
          20.1,
          23.5,
          26.3,
          31.5,
          38.4,
          34.2,
          25.2,
          20.7,
          16.7,
          36.5,
          25.4,
          20.2,
          21.2,
          31.8,
          26.4,
          27.7,
          24.7,
          31.5,
          20.2,
          20.7,
          21.2,
          29.1,
          24.3,
          19.5,
          18.1,
          23.7,
          16.2,
          30.1,
          25.9,
          20.2,
          31.7,
          29.5,
          16.1,
          19.3,
          21,
          24.3,
          26.8,
          18.6,
          31.2,
          25.5,
          28.5,
          17.8,
          34.1,
          16.2
         ]
        },
        {
         "marker": {
          "color": "rgba(160, 112, 20, 0.8)"
         },
         "name": "income",
         "type": "scatter",
         "x": [
          "1",
          "2",
          "3",
          "4",
          "5",
          "6",
          "7",
          "8",
          "9",
          "9",
          "11",
          "12",
          "13",
          "14",
          "15",
          "16",
          "17",
          "18",
          "19",
          "20",
          "21",
          "22",
          "23",
          "24",
          "25",
          "26",
          "27",
          "28",
          "29",
          "29",
          "29",
          "32",
          "33",
          "34",
          "34",
          "36",
          "37",
          "38",
          "39",
          "40",
          "41",
          "42",
          "43",
          "44",
          "45",
          "46",
          "46",
          "48",
          "49",
          "50",
          "51",
          "52",
          "52",
          "54",
          "55",
          "55",
          "57",
          "58",
          "59",
          "60",
          "61",
          "61",
          "63",
          "64",
          "65",
          "66",
          "67",
          "68",
          "69",
          "70",
          "71",
          "72",
          "73",
          "74",
          "75",
          "75",
          "77",
          "78",
          "79",
          "80",
          "81",
          "82",
          "83",
          "83",
          "85",
          "86",
          "86",
          "88",
          "88",
          "90",
          "91",
          "91",
          "93",
          "94",
          "94",
          "96",
          "97",
          "98",
          "98",
          "98",
          "101",
          "102",
          "103",
          "103",
          "103",
          "103",
          "107",
          "107",
          "109",
          "109",
          "111",
          "111",
          "113",
          "113",
          "113",
          "116",
          "117",
          "118",
          "119",
          "120",
          "121",
          "121",
          "121",
          "124",
          "124",
          "126",
          "126",
          "126",
          "129",
          "130",
          "131",
          "132",
          "132",
          "132",
          "135",
          "136",
          "136",
          "138",
          "139",
          "140",
          "141",
          "141",
          "141",
          "144",
          "144",
          "146",
          "147",
          "148",
          "148",
          "150",
          "150",
          "152",
          "153",
          "154",
          "155",
          "156",
          "157",
          "157",
          "157",
          "160",
          "160",
          "162",
          "163",
          "164",
          "165",
          "165",
          "165",
          "165",
          "169",
          "170",
          "171",
          "171",
          "173",
          "173",
          "175",
          "175",
          "177",
          "178",
          "178",
          "180",
          "180",
          "182",
          "182",
          "182",
          "185",
          "186",
          "186",
          "188",
          "188",
          "188",
          "191",
          "192",
          "193",
          "193",
          "195",
          "196",
          "196",
          "198",
          "199",
          "200",
          "200",
          "201-225",
          "201-225",
          "201-225",
          "201-225",
          "201-225",
          "201-225",
          "201-225",
          "201-225",
          "201-225",
          "201-225",
          "201-225",
          "201-225",
          "201-225",
          "201-225",
          "201-225",
          "201-225",
          "201-225",
          "201-225",
          "201-225",
          "201-225",
          "201-225",
          "201-225",
          "201-225",
          "201-225",
          "201-225",
          "226-250",
          "226-250",
          "226-250",
          "226-250",
          "226-250",
          "226-250",
          "226-250",
          "226-250",
          "226-250",
          "226-250",
          "226-250",
          "226-250",
          "226-250",
          "226-250",
          "226-250",
          "226-250",
          "226-250",
          "226-250",
          "226-250",
          "226-250",
          "226-250",
          "226-250",
          "226-250",
          "226-250",
          "251-275",
          "251-275",
          "251-275",
          "251-275",
          "251-275",
          "251-275",
          "251-275",
          "251-275",
          "251-275",
          "251-275",
          "251-275",
          "251-275",
          "251-275",
          "251-275",
          "251-275",
          "251-275",
          "251-275",
          "251-275",
          "251-275",
          "251-275",
          "251-275",
          "251-275",
          "251-275",
          "251-275",
          "251-275",
          "276-300",
          "276-300",
          "276-300",
          "276-300",
          "276-300",
          "276-300",
          "276-300",
          "276-300",
          "276-300",
          "276-300",
          "276-300",
          "276-300",
          "276-300",
          "276-300",
          "276-300",
          "276-300",
          "276-300",
          "276-300",
          "276-300",
          "276-300",
          "276-300",
          "276-300",
          "276-300",
          "276-300",
          "276-300",
          "276-300",
          "276-300",
          "276-300",
          "301-350",
          "301-350",
          "301-350",
          "301-350",
          "301-350",
          "301-350",
          "301-350",
          "301-350",
          "301-350",
          "301-350",
          "301-350",
          "301-350",
          "301-350",
          "301-350",
          "301-350",
          "301-350",
          "301-350",
          "301-350",
          "301-350",
          "301-350",
          "301-350",
          "301-350",
          "301-350",
          "301-350",
          "301-350",
          "301-350",
          "301-350",
          "301-350",
          "301-350",
          "301-350",
          "301-350",
          "301-350",
          "301-350",
          "301-350",
          "301-350",
          "301-350",
          "301-350",
          "301-350",
          "301-350",
          "301-350",
          "301-350",
          "301-350",
          "301-350",
          "301-350",
          "301-350",
          "301-350",
          "301-350",
          "301-350",
          "351-400",
          "351-400",
          "351-400",
          "351-400",
          "351-400",
          "351-400",
          "351-400",
          "351-400",
          "351-400",
          "351-400",
          "351-400",
          "351-400",
          "351-400",
          "351-400",
          "351-400",
          "351-400",
          "351-400",
          "351-400",
          "351-400",
          "351-400",
          "351-400",
          "351-400",
          "351-400",
          "351-400",
          "351-400",
          "351-400",
          "351-400",
          "351-400",
          "351-400",
          "351-400",
          "351-400",
          "351-400",
          "351-400",
          "351-400",
          "351-400",
          "351-400",
          "351-400",
          "351-400",
          "351-400",
          "351-400",
          "351-400",
          "351-400",
          "351-400",
          "351-400",
          "351-400",
          "351-400",
          "351-400",
          "351-400",
          "351-400",
          "351-400"
         ],
         "xaxis": "x2",
         "y": [
          "89.1",
          "44.0",
          "72.9",
          "63.1",
          "51.1",
          "95.7",
          "82.7",
          "44.8",
          "72.7",
          "42.0",
          "36.8",
          "-",
          "73.2",
          "-",
          "100.0",
          "43.0",
          "55.7",
          "100.0",
          "33.7",
          "46.1",
          "77.0",
          "46.2",
          "51.2",
          "53.0",
          "53.4",
          "44.7",
          "72.3",
          "58.1",
          "100.0",
          "51.7",
          "53.3",
          "40.1",
          "61.2",
          "40.6",
          "61.9",
          "41.2",
          "87.1",
          "30.2",
          "38.6",
          "39.0",
          "54.2",
          "-",
          "56.0",
          "65.5",
          "38.9",
          "-",
          "40.5",
          "100.0",
          "99.7",
          "86.3",
          "57.6",
          "100.0",
          "39.4",
          "32.7",
          "99.9",
          "55.4",
          "30.3",
          "60.4",
          "73.3",
          "67.3",
          "100.0",
          "76.8",
          "40.1",
          "47.3",
          "66.2",
          "100.0",
          "32.8",
          "46.8",
          "34.6",
          "41.6",
          "100.0",
          "54.4",
          "100.0",
          "42.1",
          "97.7",
          "34.4",
          "56.7",
          "39.4",
          "84.1",
          "31.9",
          "33.5",
          "31.7",
          "34.8",
          "73.4",
          "55.2",
          "99.6",
          "-",
          "58.7",
          "40.0",
          "85.3",
          "52.8",
          "38.5",
          "42.3",
          "85.0",
          "39.9",
          "59.4",
          "-",
          "32.4",
          "49.0",
          "39.6",
          "96.1",
          "-",
          "33.4",
          "31.5",
          "35.6",
          "40.1",
          "37.1",
          "65.1",
          "33.8",
          "47.8",
          "39.8",
          "31.2",
          "91.8",
          "54.7",
          "32.2",
          "-",
          "88.9",
          "32.8",
          "32.6",
          "28.9",
          "98.6",
          "36.4",
          "43.8",
          "51.8",
          "88.0",
          "46.5",
          "100.0",
          "-",
          "42.8",
          "49.8",
          "34.1",
          "47.4",
          "33.2",
          "38.9",
          "99.5",
          "50.9",
          "60.0",
          "30.6",
          "47.7",
          "42.8",
          "79.4",
          "49.6",
          "69.4",
          "99.9",
          "35.2",
          "39.4",
          "43.9",
          "98.5",
          "36.0",
          "-",
          "39.5",
          "49.1",
          "59.8",
          "35.8",
          "43.8",
          "69.8",
          "73.6",
          "40.0",
          "63.3",
          "44.4",
          "29.3",
          "58.1",
          "81.4",
          "65.3",
          "51.1",
          "82.7",
          "35.9",
          "76.8",
          "-",
          "100.0",
          "39.6",
          "46.1",
          "80.0",
          "31.6",
          "74.2",
          "49.3",
          "40.6",
          "31.3",
          "42.1",
          "29.1",
          "99.3",
          "32.6",
          "42.9",
          "29.4",
          "34.0",
          "36.6",
          "-",
          "31.3",
          "42.6",
          "45.9",
          "39.6",
          "49.8",
          "49.4",
          "54.4",
          "-",
          "78.5",
          "32.4",
          "29.2",
          "34.8",
          "53.7",
          "29.3",
          "46.4",
          "34.8",
          "38.8",
          "31.5",
          "42.6",
          "98.5",
          "35.0",
          "36.5",
          "56.7",
          "31.0",
          "34.2",
          "47.7",
          "40.7",
          "42.0",
          "34.9",
          "71.6",
          "32.0",
          "40.1",
          "41.6",
          "33.3",
          "89.2",
          "50.7",
          "38.2",
          "30.0",
          "69.7",
          "34.6",
          "28.7",
          "31.9",
          "30.7",
          "68.9",
          "62.7",
          "99.0",
          "86.3",
          "49.9",
          "41.8",
          "-",
          "63.4",
          "31.0",
          "33.8",
          "41.5",
          "37.0",
          "42.0",
          "52.5",
          "45.0",
          "40.1",
          "50.7",
          "30.0",
          "64.1",
          "34.1",
          "64.5",
          "28.1",
          "33.7",
          "51.7",
          "49.4",
          "43.1",
          "59.0",
          "43.7",
          "99.8",
          "88.9",
          "46.3",
          "38.3",
          "64.0",
          "38.2",
          "44.5",
          "75.6",
          "31.9",
          "64.4",
          "38.4",
          "99.8",
          "36.5",
          "94.8",
          "46.0",
          "40.8",
          "41.7",
          "75.8",
          "38.8",
          "37.9",
          "73.8",
          "33.6",
          "98.2",
          "45.0",
          "28.3",
          "28.8",
          "71.9",
          "88.4",
          "94.7",
          "55.1",
          "56.9",
          "45.9",
          "34.9",
          "35.6",
          "46.8",
          "48.2",
          "31.1",
          "33.6",
          "40.1",
          "35.0",
          "83.9",
          "31.8",
          "44.7",
          "49.7",
          "42.6",
          "32.2",
          "31.1",
          "32.7",
          "29.4",
          "32.4",
          "30.6",
          "34.6",
          "29.1",
          "-",
          "39.2",
          "50.6",
          "36.2",
          "33.4",
          "32.0",
          "67.8",
          "42.8",
          "29.2",
          "34.2",
          "86.2",
          "44.5",
          "58.9",
          "-",
          "36.7",
          "49.5",
          "28.8",
          "31.1",
          "36.0",
          "44.2",
          "29.1",
          "43.2",
          "-",
          "36.2",
          "43.5",
          "28.6",
          "34.4",
          "34.5",
          "34.5",
          "32.9",
          "37.7",
          "72.6",
          "30.7",
          "48.2",
          "42.5",
          "36.9",
          "30.8",
          "28.5",
          "-",
          "88.6",
          "43.9",
          "33.0",
          "35.7",
          "34.8",
          "37.4",
          "33.6",
          "36.1",
          "61.3",
          "28.7",
          "88.7",
          "43.4",
          "49.7",
          "69.0",
          "84.1",
          "56.5",
          "68.7",
          "39.2",
          "-",
          "40.5",
          "100.0",
          "47.0",
          "82.0",
          "28.4",
          "47.4",
          "38.8",
          "38.8",
          "31.3",
          "35.2",
          "32.8",
          "40.4",
          "35.4",
          "30.2",
          "29.6",
          "33.9",
          "70.4",
          "44.5",
          "31.2",
          "90.2",
          "29.2",
          "37.7",
          "29.1",
          "32.1",
          "-",
          "50.0",
          "44.8",
          "32.6",
          "54.5",
          "30.4",
          "85.9",
          "57.8"
         ],
         "yaxis": "y2"
        }
       ],
       "layout": {
        "template": {
         "data": {
          "bar": [
           {
            "error_x": {
             "color": "#2a3f5f"
            },
            "error_y": {
             "color": "#2a3f5f"
            },
            "marker": {
             "line": {
              "color": "#E5ECF6",
              "width": 0.5
             }
            },
            "type": "bar"
           }
          ],
          "barpolar": [
           {
            "marker": {
             "line": {
              "color": "#E5ECF6",
              "width": 0.5
             }
            },
            "type": "barpolar"
           }
          ],
          "carpet": [
           {
            "aaxis": {
             "endlinecolor": "#2a3f5f",
             "gridcolor": "white",
             "linecolor": "white",
             "minorgridcolor": "white",
             "startlinecolor": "#2a3f5f"
            },
            "baxis": {
             "endlinecolor": "#2a3f5f",
             "gridcolor": "white",
             "linecolor": "white",
             "minorgridcolor": "white",
             "startlinecolor": "#2a3f5f"
            },
            "type": "carpet"
           }
          ],
          "choropleth": [
           {
            "colorbar": {
             "outlinewidth": 0,
             "ticks": ""
            },
            "type": "choropleth"
           }
          ],
          "contour": [
           {
            "colorbar": {
             "outlinewidth": 0,
             "ticks": ""
            },
            "colorscale": [
             [
              0,
              "#0d0887"
             ],
             [
              0.1111111111111111,
              "#46039f"
             ],
             [
              0.2222222222222222,
              "#7201a8"
             ],
             [
              0.3333333333333333,
              "#9c179e"
             ],
             [
              0.4444444444444444,
              "#bd3786"
             ],
             [
              0.5555555555555556,
              "#d8576b"
             ],
             [
              0.6666666666666666,
              "#ed7953"
             ],
             [
              0.7777777777777778,
              "#fb9f3a"
             ],
             [
              0.8888888888888888,
              "#fdca26"
             ],
             [
              1,
              "#f0f921"
             ]
            ],
            "type": "contour"
           }
          ],
          "contourcarpet": [
           {
            "colorbar": {
             "outlinewidth": 0,
             "ticks": ""
            },
            "type": "contourcarpet"
           }
          ],
          "heatmap": [
           {
            "colorbar": {
             "outlinewidth": 0,
             "ticks": ""
            },
            "colorscale": [
             [
              0,
              "#0d0887"
             ],
             [
              0.1111111111111111,
              "#46039f"
             ],
             [
              0.2222222222222222,
              "#7201a8"
             ],
             [
              0.3333333333333333,
              "#9c179e"
             ],
             [
              0.4444444444444444,
              "#bd3786"
             ],
             [
              0.5555555555555556,
              "#d8576b"
             ],
             [
              0.6666666666666666,
              "#ed7953"
             ],
             [
              0.7777777777777778,
              "#fb9f3a"
             ],
             [
              0.8888888888888888,
              "#fdca26"
             ],
             [
              1,
              "#f0f921"
             ]
            ],
            "type": "heatmap"
           }
          ],
          "heatmapgl": [
           {
            "colorbar": {
             "outlinewidth": 0,
             "ticks": ""
            },
            "colorscale": [
             [
              0,
              "#0d0887"
             ],
             [
              0.1111111111111111,
              "#46039f"
             ],
             [
              0.2222222222222222,
              "#7201a8"
             ],
             [
              0.3333333333333333,
              "#9c179e"
             ],
             [
              0.4444444444444444,
              "#bd3786"
             ],
             [
              0.5555555555555556,
              "#d8576b"
             ],
             [
              0.6666666666666666,
              "#ed7953"
             ],
             [
              0.7777777777777778,
              "#fb9f3a"
             ],
             [
              0.8888888888888888,
              "#fdca26"
             ],
             [
              1,
              "#f0f921"
             ]
            ],
            "type": "heatmapgl"
           }
          ],
          "histogram": [
           {
            "marker": {
             "colorbar": {
              "outlinewidth": 0,
              "ticks": ""
             }
            },
            "type": "histogram"
           }
          ],
          "histogram2d": [
           {
            "colorbar": {
             "outlinewidth": 0,
             "ticks": ""
            },
            "colorscale": [
             [
              0,
              "#0d0887"
             ],
             [
              0.1111111111111111,
              "#46039f"
             ],
             [
              0.2222222222222222,
              "#7201a8"
             ],
             [
              0.3333333333333333,
              "#9c179e"
             ],
             [
              0.4444444444444444,
              "#bd3786"
             ],
             [
              0.5555555555555556,
              "#d8576b"
             ],
             [
              0.6666666666666666,
              "#ed7953"
             ],
             [
              0.7777777777777778,
              "#fb9f3a"
             ],
             [
              0.8888888888888888,
              "#fdca26"
             ],
             [
              1,
              "#f0f921"
             ]
            ],
            "type": "histogram2d"
           }
          ],
          "histogram2dcontour": [
           {
            "colorbar": {
             "outlinewidth": 0,
             "ticks": ""
            },
            "colorscale": [
             [
              0,
              "#0d0887"
             ],
             [
              0.1111111111111111,
              "#46039f"
             ],
             [
              0.2222222222222222,
              "#7201a8"
             ],
             [
              0.3333333333333333,
              "#9c179e"
             ],
             [
              0.4444444444444444,
              "#bd3786"
             ],
             [
              0.5555555555555556,
              "#d8576b"
             ],
             [
              0.6666666666666666,
              "#ed7953"
             ],
             [
              0.7777777777777778,
              "#fb9f3a"
             ],
             [
              0.8888888888888888,
              "#fdca26"
             ],
             [
              1,
              "#f0f921"
             ]
            ],
            "type": "histogram2dcontour"
           }
          ],
          "mesh3d": [
           {
            "colorbar": {
             "outlinewidth": 0,
             "ticks": ""
            },
            "type": "mesh3d"
           }
          ],
          "parcoords": [
           {
            "line": {
             "colorbar": {
              "outlinewidth": 0,
              "ticks": ""
             }
            },
            "type": "parcoords"
           }
          ],
          "pie": [
           {
            "automargin": true,
            "type": "pie"
           }
          ],
          "scatter": [
           {
            "marker": {
             "colorbar": {
              "outlinewidth": 0,
              "ticks": ""
             }
            },
            "type": "scatter"
           }
          ],
          "scatter3d": [
           {
            "line": {
             "colorbar": {
              "outlinewidth": 0,
              "ticks": ""
             }
            },
            "marker": {
             "colorbar": {
              "outlinewidth": 0,
              "ticks": ""
             }
            },
            "type": "scatter3d"
           }
          ],
          "scattercarpet": [
           {
            "marker": {
             "colorbar": {
              "outlinewidth": 0,
              "ticks": ""
             }
            },
            "type": "scattercarpet"
           }
          ],
          "scattergeo": [
           {
            "marker": {
             "colorbar": {
              "outlinewidth": 0,
              "ticks": ""
             }
            },
            "type": "scattergeo"
           }
          ],
          "scattergl": [
           {
            "marker": {
             "colorbar": {
              "outlinewidth": 0,
              "ticks": ""
             }
            },
            "type": "scattergl"
           }
          ],
          "scattermapbox": [
           {
            "marker": {
             "colorbar": {
              "outlinewidth": 0,
              "ticks": ""
             }
            },
            "type": "scattermapbox"
           }
          ],
          "scatterpolar": [
           {
            "marker": {
             "colorbar": {
              "outlinewidth": 0,
              "ticks": ""
             }
            },
            "type": "scatterpolar"
           }
          ],
          "scatterpolargl": [
           {
            "marker": {
             "colorbar": {
              "outlinewidth": 0,
              "ticks": ""
             }
            },
            "type": "scatterpolargl"
           }
          ],
          "scatterternary": [
           {
            "marker": {
             "colorbar": {
              "outlinewidth": 0,
              "ticks": ""
             }
            },
            "type": "scatterternary"
           }
          ],
          "surface": [
           {
            "colorbar": {
             "outlinewidth": 0,
             "ticks": ""
            },
            "colorscale": [
             [
              0,
              "#0d0887"
             ],
             [
              0.1111111111111111,
              "#46039f"
             ],
             [
              0.2222222222222222,
              "#7201a8"
             ],
             [
              0.3333333333333333,
              "#9c179e"
             ],
             [
              0.4444444444444444,
              "#bd3786"
             ],
             [
              0.5555555555555556,
              "#d8576b"
             ],
             [
              0.6666666666666666,
              "#ed7953"
             ],
             [
              0.7777777777777778,
              "#fb9f3a"
             ],
             [
              0.8888888888888888,
              "#fdca26"
             ],
             [
              1,
              "#f0f921"
             ]
            ],
            "type": "surface"
           }
          ],
          "table": [
           {
            "cells": {
             "fill": {
              "color": "#EBF0F8"
             },
             "line": {
              "color": "white"
             }
            },
            "header": {
             "fill": {
              "color": "#C8D4E3"
             },
             "line": {
              "color": "white"
             }
            },
            "type": "table"
           }
          ]
         },
         "layout": {
          "annotationdefaults": {
           "arrowcolor": "#2a3f5f",
           "arrowhead": 0,
           "arrowwidth": 1
          },
          "autotypenumbers": "strict",
          "coloraxis": {
           "colorbar": {
            "outlinewidth": 0,
            "ticks": ""
           }
          },
          "colorscale": {
           "diverging": [
            [
             0,
             "#8e0152"
            ],
            [
             0.1,
             "#c51b7d"
            ],
            [
             0.2,
             "#de77ae"
            ],
            [
             0.3,
             "#f1b6da"
            ],
            [
             0.4,
             "#fde0ef"
            ],
            [
             0.5,
             "#f7f7f7"
            ],
            [
             0.6,
             "#e6f5d0"
            ],
            [
             0.7,
             "#b8e186"
            ],
            [
             0.8,
             "#7fbc41"
            ],
            [
             0.9,
             "#4d9221"
            ],
            [
             1,
             "#276419"
            ]
           ],
           "sequential": [
            [
             0,
             "#0d0887"
            ],
            [
             0.1111111111111111,
             "#46039f"
            ],
            [
             0.2222222222222222,
             "#7201a8"
            ],
            [
             0.3333333333333333,
             "#9c179e"
            ],
            [
             0.4444444444444444,
             "#bd3786"
            ],
            [
             0.5555555555555556,
             "#d8576b"
            ],
            [
             0.6666666666666666,
             "#ed7953"
            ],
            [
             0.7777777777777778,
             "#fb9f3a"
            ],
            [
             0.8888888888888888,
             "#fdca26"
            ],
            [
             1,
             "#f0f921"
            ]
           ],
           "sequentialminus": [
            [
             0,
             "#0d0887"
            ],
            [
             0.1111111111111111,
             "#46039f"
            ],
            [
             0.2222222222222222,
             "#7201a8"
            ],
            [
             0.3333333333333333,
             "#9c179e"
            ],
            [
             0.4444444444444444,
             "#bd3786"
            ],
            [
             0.5555555555555556,
             "#d8576b"
            ],
            [
             0.6666666666666666,
             "#ed7953"
            ],
            [
             0.7777777777777778,
             "#fb9f3a"
            ],
            [
             0.8888888888888888,
             "#fdca26"
            ],
            [
             1,
             "#f0f921"
            ]
           ]
          },
          "colorway": [
           "#636efa",
           "#EF553B",
           "#00cc96",
           "#ab63fa",
           "#FFA15A",
           "#19d3f3",
           "#FF6692",
           "#B6E880",
           "#FF97FF",
           "#FECB52"
          ],
          "font": {
           "color": "#2a3f5f"
          },
          "geo": {
           "bgcolor": "white",
           "lakecolor": "white",
           "landcolor": "#E5ECF6",
           "showlakes": true,
           "showland": true,
           "subunitcolor": "white"
          },
          "hoverlabel": {
           "align": "left"
          },
          "hovermode": "closest",
          "mapbox": {
           "style": "light"
          },
          "paper_bgcolor": "white",
          "plot_bgcolor": "#E5ECF6",
          "polar": {
           "angularaxis": {
            "gridcolor": "white",
            "linecolor": "white",
            "ticks": ""
           },
           "bgcolor": "#E5ECF6",
           "radialaxis": {
            "gridcolor": "white",
            "linecolor": "white",
            "ticks": ""
           }
          },
          "scene": {
           "xaxis": {
            "backgroundcolor": "#E5ECF6",
            "gridcolor": "white",
            "gridwidth": 2,
            "linecolor": "white",
            "showbackground": true,
            "ticks": "",
            "zerolinecolor": "white"
           },
           "yaxis": {
            "backgroundcolor": "#E5ECF6",
            "gridcolor": "white",
            "gridwidth": 2,
            "linecolor": "white",
            "showbackground": true,
            "ticks": "",
            "zerolinecolor": "white"
           },
           "zaxis": {
            "backgroundcolor": "#E5ECF6",
            "gridcolor": "white",
            "gridwidth": 2,
            "linecolor": "white",
            "showbackground": true,
            "ticks": "",
            "zerolinecolor": "white"
           }
          },
          "shapedefaults": {
           "line": {
            "color": "#2a3f5f"
           }
          },
          "ternary": {
           "aaxis": {
            "gridcolor": "white",
            "linecolor": "white",
            "ticks": ""
           },
           "baxis": {
            "gridcolor": "white",
            "linecolor": "white",
            "ticks": ""
           },
           "bgcolor": "#E5ECF6",
           "caxis": {
            "gridcolor": "white",
            "linecolor": "white",
            "ticks": ""
           }
          },
          "title": {
           "x": 0.05
          },
          "xaxis": {
           "automargin": true,
           "gridcolor": "white",
           "linecolor": "white",
           "ticks": "",
           "title": {
            "standoff": 15
           },
           "zerolinecolor": "white",
           "zerolinewidth": 2
          },
          "yaxis": {
           "automargin": true,
           "gridcolor": "white",
           "linecolor": "white",
           "ticks": "",
           "title": {
            "standoff": 15
           },
           "zerolinecolor": "white",
           "zerolinewidth": 2
          }
         }
        },
        "title": {
         "text": "Income and Teaching vs World Rank of Universities"
        },
        "xaxis2": {
         "anchor": "y2",
         "domain": [
          0.6,
          0.95
         ]
        },
        "yaxis2": {
         "anchor": "x2",
         "domain": [
          0.6,
          0.95
         ]
        }
       }
      },
      "text/html": [
       "<div>                            <div id=\"fe225ff7-060b-4477-b110-e99ec135e6a9\" class=\"plotly-graph-div\" style=\"height:525px; width:100%;\"></div>            <script type=\"text/javascript\">                require([\"plotly\"], function(Plotly) {                    window.PLOTLYENV=window.PLOTLYENV || {};                                    if (document.getElementById(\"fe225ff7-060b-4477-b110-e99ec135e6a9\")) {                    Plotly.newPlot(                        \"fe225ff7-060b-4477-b110-e99ec135e6a9\",                        [{\"marker\": {\"color\": \"rgba(16, 112, 2, 0.8)\"}, \"name\": \"teaching\", \"type\": \"scatter\", \"x\": [\"1\", \"2\", \"3\", \"4\", \"5\", \"6\", \"7\", \"8\", \"9\", \"9\", \"11\", \"12\", \"13\", \"14\", \"15\", \"16\", \"17\", \"18\", \"19\", \"20\", \"21\", \"22\", \"23\", \"24\", \"25\", \"26\", \"27\", \"28\", \"29\", \"29\", \"29\", \"32\", \"33\", \"34\", \"34\", \"36\", \"37\", \"38\", \"39\", \"40\", \"41\", \"42\", \"43\", \"44\", \"45\", \"46\", \"46\", \"48\", \"49\", \"50\", \"51\", \"52\", \"52\", \"54\", \"55\", \"55\", \"57\", \"58\", \"59\", \"60\", \"61\", \"61\", \"63\", \"64\", \"65\", \"66\", \"67\", \"68\", \"69\", \"70\", \"71\", \"72\", \"73\", \"74\", \"75\", \"75\", \"77\", \"78\", \"79\", \"80\", \"81\", \"82\", \"83\", \"83\", \"85\", \"86\", \"86\", \"88\", \"88\", \"90\", \"91\", \"91\", \"93\", \"94\", \"94\", \"96\", \"97\", \"98\", \"98\", \"98\", \"101\", \"102\", \"103\", \"103\", \"103\", \"103\", \"107\", \"107\", \"109\", \"109\", \"111\", \"111\", \"113\", \"113\", \"113\", \"116\", \"117\", \"118\", \"119\", \"120\", \"121\", \"121\", \"121\", \"124\", \"124\", \"126\", \"126\", \"126\", \"129\", \"130\", \"131\", \"132\", \"132\", \"132\", \"135\", \"136\", \"136\", \"138\", \"139\", \"140\", \"141\", \"141\", \"141\", \"144\", \"144\", \"146\", \"147\", \"148\", \"148\", \"150\", \"150\", \"152\", \"153\", \"154\", \"155\", \"156\", \"157\", \"157\", \"157\", \"160\", \"160\", \"162\", \"163\", \"164\", \"165\", \"165\", \"165\", \"165\", \"169\", \"170\", \"171\", \"171\", \"173\", \"173\", \"175\", \"175\", \"177\", \"178\", \"178\", \"180\", \"180\", \"182\", \"182\", \"182\", \"185\", \"186\", \"186\", \"188\", \"188\", \"188\", \"191\", \"192\", \"193\", \"193\", \"195\", \"196\", \"196\", \"198\", \"199\", \"200\", \"200\", \"201-225\", \"201-225\", \"201-225\", \"201-225\", \"201-225\", \"201-225\", \"201-225\", \"201-225\", \"201-225\", \"201-225\", \"201-225\", \"201-225\", \"201-225\", \"201-225\", \"201-225\", \"201-225\", \"201-225\", \"201-225\", \"201-225\", \"201-225\", \"201-225\", \"201-225\", \"201-225\", \"201-225\", \"201-225\", \"226-250\", \"226-250\", \"226-250\", \"226-250\", \"226-250\", \"226-250\", \"226-250\", \"226-250\", \"226-250\", \"226-250\", \"226-250\", \"226-250\", \"226-250\", \"226-250\", \"226-250\", \"226-250\", \"226-250\", \"226-250\", \"226-250\", \"226-250\", \"226-250\", \"226-250\", \"226-250\", \"226-250\", \"251-275\", \"251-275\", \"251-275\", \"251-275\", \"251-275\", \"251-275\", \"251-275\", \"251-275\", \"251-275\", \"251-275\", \"251-275\", \"251-275\", \"251-275\", \"251-275\", \"251-275\", \"251-275\", \"251-275\", \"251-275\", \"251-275\", \"251-275\", \"251-275\", \"251-275\", \"251-275\", \"251-275\", \"251-275\", \"276-300\", \"276-300\", \"276-300\", \"276-300\", \"276-300\", \"276-300\", \"276-300\", \"276-300\", \"276-300\", \"276-300\", \"276-300\", \"276-300\", \"276-300\", \"276-300\", \"276-300\", \"276-300\", \"276-300\", \"276-300\", \"276-300\", \"276-300\", \"276-300\", \"276-300\", \"276-300\", \"276-300\", \"276-300\", \"276-300\", \"276-300\", \"276-300\", \"301-350\", \"301-350\", \"301-350\", \"301-350\", \"301-350\", \"301-350\", \"301-350\", \"301-350\", \"301-350\", \"301-350\", \"301-350\", \"301-350\", \"301-350\", \"301-350\", \"301-350\", \"301-350\", \"301-350\", \"301-350\", \"301-350\", \"301-350\", \"301-350\", \"301-350\", \"301-350\", \"301-350\", \"301-350\", \"301-350\", \"301-350\", \"301-350\", \"301-350\", \"301-350\", \"301-350\", \"301-350\", \"301-350\", \"301-350\", \"301-350\", \"301-350\", \"301-350\", \"301-350\", \"301-350\", \"301-350\", \"301-350\", \"301-350\", \"301-350\", \"301-350\", \"301-350\", \"301-350\", \"301-350\", \"301-350\", \"351-400\", \"351-400\", \"351-400\", \"351-400\", \"351-400\", \"351-400\", \"351-400\", \"351-400\", \"351-400\", \"351-400\", \"351-400\", \"351-400\", \"351-400\", \"351-400\", \"351-400\", \"351-400\", \"351-400\", \"351-400\", \"351-400\", \"351-400\", \"351-400\", \"351-400\", \"351-400\", \"351-400\", \"351-400\", \"351-400\", \"351-400\", \"351-400\", \"351-400\", \"351-400\", \"351-400\", \"351-400\", \"351-400\", \"351-400\", \"351-400\", \"351-400\", \"351-400\", \"351-400\", \"351-400\", \"351-400\", \"351-400\", \"351-400\", \"351-400\", \"351-400\", \"351-400\", \"351-400\", \"351-400\", \"351-400\", \"351-400\", \"351-400\"], \"y\": [92.2, 92.9, 88.6, 91.5, 89.7, 89.1, 86.6, 84.2, 84.6, 88.5, 83.9, 82.4, 78.2, 83.9, 75.6, 79.0, 77.0, 73.5, 71.6, 74.4, 72.7, 70.4, 81.4, 61.6, 72.0, 64.5, 62.5, 64.3, 65.1, 67.7, 67.7, 60.5, 60.4, 65.4, 54.7, 58.9, 49.4, 68.3, 63.3, 55.6, 52.0, 57.6, 62.1, 57.1, 53.7, 59.9, 57.9, 70.0, 64.1, 75.5, 51.8, 63.5, 58.1, 55.5, 53.0, 54.4, 56.4, 54.6, 70.4, 52.8, 43.9, 50.5, 48.2, 45.0, 45.8, 52.7, 46.9, 54.0, 41.7, 52.6, 55.5, 39.8, 44.3, 43.7, 41.2, 55.2, 42.0, 48.7, 38.2, 51.9, 49.4, 51.1, 37.2, 43.7, 45.5, 44.9, 43.3, 43.6, 39.5, 42.5, 44.8, 45.2, 49.0, 38.1, 37.0, 46.0, 35.0, 30.1, 45.6, 40.2, 32.4, 47.8, 47.3, 37.5, 41.1, 40.2, 32.4, 34.5, 30.6, 41.1, 35.7, 31.9, 43.8, 41.5, 32.2, 46.5, 36.9, 29.1, 32.6, 37.3, 39.9, 41.9, 40.0, 43.8, 26.8, 32.4, 45.7, 49.8, 43.9, 48.7, 35.4, 42.0, 36.5, 35.2, 39.8, 29.4, 35.5, 39.4, 28.5, 30.5, 26.1, 46.2, 53.5, 38.3, 40.5, 39.4, 25.8, 48.1, 42.8, 46.5, 29.4, 38.3, 30.9, 32.0, 48.8, 39.0, 51.3, 31.3, 36.3, 34.0, 38.1, 38.8, 38.0, 33.8, 30.2, 40.5, 25.1, 49.7, 42.7, 34.6, 39.9, 37.9, 51.1, 21.6, 28.6, 41.9, 32.4, 38.0, 28.0, 25.6, 29.0, 35.7, 26.0, 35.2, 36.4, 36.1, 45.2, 32.8, 43.5, 37.9, 40.1, 31.0, 45.6, 36.4, 32.2, 55.9, 23.1, 25.2, 29.8, 19.7, 44.6, 28.0, 30.5, 28.1, 41.5, 33.7, 48.9, 30.3, 36.9, 35.0, 28.4, 29.5, 24.4, 43.0, 23.9, 32.8, 36.9, 28.6, 51.6, 26.0, 28.7, 32.3, 26.7, 33.3, 36.8, 44.5, 30.4, 28.3, 22.1, 24.3, 33.6, 35.8, 39.6, 37.5, 30.9, 24.6, 25.7, 42.2, 19.6, 31.7, 34.4, 24.1, 31.1, 30.5, 27.1, 27.8, 38.3, 28.6, 43.3, 27.5, 31.8, 13.0, 28.6, 34.6, 39.4, 26.7, 37.3, 30.1, 27.9, 36.9, 33.9, 35.1, 14.9, 30.6, 29.6, 26.5, 27.1, 26.3, 32.3, 27.7, 17.3, 22.3, 26.8, 29.4, 30.9, 35.7, 27.6, 32.6, 25.2, 23.7, 35.0, 33.5, 23.7, 18.4, 29.9, 37.9, 30.0, 33.0, 42.7, 26.7, 31.0, 32.0, 28.4, 29.2, 39.7, 17.1, 25.3, 31.0, 25.7, 34.5, 25.2, 21.6, 40.1, 28.6, 22.4, 20.3, 31.5, 40.7, 20.1, 31.8, 21.2, 40.2, 27.0, 21.6, 24.0, 24.6, 27.8, 27.6, 34.9, 19.7, 32.3, 28.7, 43.4, 32.5, 40.7, 29.2, 21.1, 25.6, 37.6, 19.0, 21.9, 31.6, 39.3, 27.6, 30.6, 31.6, 16.3, 29.1, 36.4, 32.6, 20.7, 22.4, 19.5, 21.5, 30.6, 22.9, 33.4, 17.9, 20.8, 32.0, 36.0, 23.8, 20.7, 19.4, 21.3, 27.5, 19.1, 20.1, 23.5, 26.3, 31.5, 38.4, 34.2, 25.2, 20.7, 16.7, 36.5, 25.4, 20.2, 21.2, 31.8, 26.4, 27.7, 24.7, 31.5, 20.2, 20.7, 21.2, 29.1, 24.3, 19.5, 18.1, 23.7, 16.2, 30.1, 25.9, 20.2, 31.7, 29.5, 16.1, 19.3, 21.0, 24.3, 26.8, 18.6, 31.2, 25.5, 28.5, 17.8, 34.1, 16.2]}, {\"marker\": {\"color\": \"rgba(160, 112, 20, 0.8)\"}, \"name\": \"income\", \"type\": \"scatter\", \"x\": [\"1\", \"2\", \"3\", \"4\", \"5\", \"6\", \"7\", \"8\", \"9\", \"9\", \"11\", \"12\", \"13\", \"14\", \"15\", \"16\", \"17\", \"18\", \"19\", \"20\", \"21\", \"22\", \"23\", \"24\", \"25\", \"26\", \"27\", \"28\", \"29\", \"29\", \"29\", \"32\", \"33\", \"34\", \"34\", \"36\", \"37\", \"38\", \"39\", \"40\", \"41\", \"42\", \"43\", \"44\", \"45\", \"46\", \"46\", \"48\", \"49\", \"50\", \"51\", \"52\", \"52\", \"54\", \"55\", \"55\", \"57\", \"58\", \"59\", \"60\", \"61\", \"61\", \"63\", \"64\", \"65\", \"66\", \"67\", \"68\", \"69\", \"70\", \"71\", \"72\", \"73\", \"74\", \"75\", \"75\", \"77\", \"78\", \"79\", \"80\", \"81\", \"82\", \"83\", \"83\", \"85\", \"86\", \"86\", \"88\", \"88\", \"90\", \"91\", \"91\", \"93\", \"94\", \"94\", \"96\", \"97\", \"98\", \"98\", \"98\", \"101\", \"102\", \"103\", \"103\", \"103\", \"103\", \"107\", \"107\", \"109\", \"109\", \"111\", \"111\", \"113\", \"113\", \"113\", \"116\", \"117\", \"118\", \"119\", \"120\", \"121\", \"121\", \"121\", \"124\", \"124\", \"126\", \"126\", \"126\", \"129\", \"130\", \"131\", \"132\", \"132\", \"132\", \"135\", \"136\", \"136\", \"138\", \"139\", \"140\", \"141\", \"141\", \"141\", \"144\", \"144\", \"146\", \"147\", \"148\", \"148\", \"150\", \"150\", \"152\", \"153\", \"154\", \"155\", \"156\", \"157\", \"157\", \"157\", \"160\", \"160\", \"162\", \"163\", \"164\", \"165\", \"165\", \"165\", \"165\", \"169\", \"170\", \"171\", \"171\", \"173\", \"173\", \"175\", \"175\", \"177\", \"178\", \"178\", \"180\", \"180\", \"182\", \"182\", \"182\", \"185\", \"186\", \"186\", \"188\", \"188\", \"188\", \"191\", \"192\", \"193\", \"193\", \"195\", \"196\", \"196\", \"198\", \"199\", \"200\", \"200\", \"201-225\", \"201-225\", \"201-225\", \"201-225\", \"201-225\", \"201-225\", \"201-225\", \"201-225\", \"201-225\", \"201-225\", \"201-225\", \"201-225\", \"201-225\", \"201-225\", \"201-225\", \"201-225\", \"201-225\", \"201-225\", \"201-225\", \"201-225\", \"201-225\", \"201-225\", \"201-225\", \"201-225\", \"201-225\", \"226-250\", \"226-250\", \"226-250\", \"226-250\", \"226-250\", \"226-250\", \"226-250\", \"226-250\", \"226-250\", \"226-250\", \"226-250\", \"226-250\", \"226-250\", \"226-250\", \"226-250\", \"226-250\", \"226-250\", \"226-250\", \"226-250\", \"226-250\", \"226-250\", \"226-250\", \"226-250\", \"226-250\", \"251-275\", \"251-275\", \"251-275\", \"251-275\", \"251-275\", \"251-275\", \"251-275\", \"251-275\", \"251-275\", \"251-275\", \"251-275\", \"251-275\", \"251-275\", \"251-275\", \"251-275\", \"251-275\", \"251-275\", \"251-275\", \"251-275\", \"251-275\", \"251-275\", \"251-275\", \"251-275\", \"251-275\", \"251-275\", \"276-300\", \"276-300\", \"276-300\", \"276-300\", \"276-300\", \"276-300\", \"276-300\", \"276-300\", \"276-300\", \"276-300\", \"276-300\", \"276-300\", \"276-300\", \"276-300\", \"276-300\", \"276-300\", \"276-300\", \"276-300\", \"276-300\", \"276-300\", \"276-300\", \"276-300\", \"276-300\", \"276-300\", \"276-300\", \"276-300\", \"276-300\", \"276-300\", \"301-350\", \"301-350\", \"301-350\", \"301-350\", \"301-350\", \"301-350\", \"301-350\", \"301-350\", \"301-350\", \"301-350\", \"301-350\", \"301-350\", \"301-350\", \"301-350\", \"301-350\", \"301-350\", \"301-350\", \"301-350\", \"301-350\", \"301-350\", \"301-350\", \"301-350\", \"301-350\", \"301-350\", \"301-350\", \"301-350\", \"301-350\", \"301-350\", \"301-350\", \"301-350\", \"301-350\", \"301-350\", \"301-350\", \"301-350\", \"301-350\", \"301-350\", \"301-350\", \"301-350\", \"301-350\", \"301-350\", \"301-350\", \"301-350\", \"301-350\", \"301-350\", \"301-350\", \"301-350\", \"301-350\", \"301-350\", \"351-400\", \"351-400\", \"351-400\", \"351-400\", \"351-400\", \"351-400\", \"351-400\", \"351-400\", \"351-400\", \"351-400\", \"351-400\", \"351-400\", \"351-400\", \"351-400\", \"351-400\", \"351-400\", \"351-400\", \"351-400\", \"351-400\", \"351-400\", \"351-400\", \"351-400\", \"351-400\", \"351-400\", \"351-400\", \"351-400\", \"351-400\", \"351-400\", \"351-400\", \"351-400\", \"351-400\", \"351-400\", \"351-400\", \"351-400\", \"351-400\", \"351-400\", \"351-400\", \"351-400\", \"351-400\", \"351-400\", \"351-400\", \"351-400\", \"351-400\", \"351-400\", \"351-400\", \"351-400\", \"351-400\", \"351-400\", \"351-400\", \"351-400\"], \"xaxis\": \"x2\", \"y\": [\"89.1\", \"44.0\", \"72.9\", \"63.1\", \"51.1\", \"95.7\", \"82.7\", \"44.8\", \"72.7\", \"42.0\", \"36.8\", \"-\", \"73.2\", \"-\", \"100.0\", \"43.0\", \"55.7\", \"100.0\", \"33.7\", \"46.1\", \"77.0\", \"46.2\", \"51.2\", \"53.0\", \"53.4\", \"44.7\", \"72.3\", \"58.1\", \"100.0\", \"51.7\", \"53.3\", \"40.1\", \"61.2\", \"40.6\", \"61.9\", \"41.2\", \"87.1\", \"30.2\", \"38.6\", \"39.0\", \"54.2\", \"-\", \"56.0\", \"65.5\", \"38.9\", \"-\", \"40.5\", \"100.0\", \"99.7\", \"86.3\", \"57.6\", \"100.0\", \"39.4\", \"32.7\", \"99.9\", \"55.4\", \"30.3\", \"60.4\", \"73.3\", \"67.3\", \"100.0\", \"76.8\", \"40.1\", \"47.3\", \"66.2\", \"100.0\", \"32.8\", \"46.8\", \"34.6\", \"41.6\", \"100.0\", \"54.4\", \"100.0\", \"42.1\", \"97.7\", \"34.4\", \"56.7\", \"39.4\", \"84.1\", \"31.9\", \"33.5\", \"31.7\", \"34.8\", \"73.4\", \"55.2\", \"99.6\", \"-\", \"58.7\", \"40.0\", \"85.3\", \"52.8\", \"38.5\", \"42.3\", \"85.0\", \"39.9\", \"59.4\", \"-\", \"32.4\", \"49.0\", \"39.6\", \"96.1\", \"-\", \"33.4\", \"31.5\", \"35.6\", \"40.1\", \"37.1\", \"65.1\", \"33.8\", \"47.8\", \"39.8\", \"31.2\", \"91.8\", \"54.7\", \"32.2\", \"-\", \"88.9\", \"32.8\", \"32.6\", \"28.9\", \"98.6\", \"36.4\", \"43.8\", \"51.8\", \"88.0\", \"46.5\", \"100.0\", \"-\", \"42.8\", \"49.8\", \"34.1\", \"47.4\", \"33.2\", \"38.9\", \"99.5\", \"50.9\", \"60.0\", \"30.6\", \"47.7\", \"42.8\", \"79.4\", \"49.6\", \"69.4\", \"99.9\", \"35.2\", \"39.4\", \"43.9\", \"98.5\", \"36.0\", \"-\", \"39.5\", \"49.1\", \"59.8\", \"35.8\", \"43.8\", \"69.8\", \"73.6\", \"40.0\", \"63.3\", \"44.4\", \"29.3\", \"58.1\", \"81.4\", \"65.3\", \"51.1\", \"82.7\", \"35.9\", \"76.8\", \"-\", \"100.0\", \"39.6\", \"46.1\", \"80.0\", \"31.6\", \"74.2\", \"49.3\", \"40.6\", \"31.3\", \"42.1\", \"29.1\", \"99.3\", \"32.6\", \"42.9\", \"29.4\", \"34.0\", \"36.6\", \"-\", \"31.3\", \"42.6\", \"45.9\", \"39.6\", \"49.8\", \"49.4\", \"54.4\", \"-\", \"78.5\", \"32.4\", \"29.2\", \"34.8\", \"53.7\", \"29.3\", \"46.4\", \"34.8\", \"38.8\", \"31.5\", \"42.6\", \"98.5\", \"35.0\", \"36.5\", \"56.7\", \"31.0\", \"34.2\", \"47.7\", \"40.7\", \"42.0\", \"34.9\", \"71.6\", \"32.0\", \"40.1\", \"41.6\", \"33.3\", \"89.2\", \"50.7\", \"38.2\", \"30.0\", \"69.7\", \"34.6\", \"28.7\", \"31.9\", \"30.7\", \"68.9\", \"62.7\", \"99.0\", \"86.3\", \"49.9\", \"41.8\", \"-\", \"63.4\", \"31.0\", \"33.8\", \"41.5\", \"37.0\", \"42.0\", \"52.5\", \"45.0\", \"40.1\", \"50.7\", \"30.0\", \"64.1\", \"34.1\", \"64.5\", \"28.1\", \"33.7\", \"51.7\", \"49.4\", \"43.1\", \"59.0\", \"43.7\", \"99.8\", \"88.9\", \"46.3\", \"38.3\", \"64.0\", \"38.2\", \"44.5\", \"75.6\", \"31.9\", \"64.4\", \"38.4\", \"99.8\", \"36.5\", \"94.8\", \"46.0\", \"40.8\", \"41.7\", \"75.8\", \"38.8\", \"37.9\", \"73.8\", \"33.6\", \"98.2\", \"45.0\", \"28.3\", \"28.8\", \"71.9\", \"88.4\", \"94.7\", \"55.1\", \"56.9\", \"45.9\", \"34.9\", \"35.6\", \"46.8\", \"48.2\", \"31.1\", \"33.6\", \"40.1\", \"35.0\", \"83.9\", \"31.8\", \"44.7\", \"49.7\", \"42.6\", \"32.2\", \"31.1\", \"32.7\", \"29.4\", \"32.4\", \"30.6\", \"34.6\", \"29.1\", \"-\", \"39.2\", \"50.6\", \"36.2\", \"33.4\", \"32.0\", \"67.8\", \"42.8\", \"29.2\", \"34.2\", \"86.2\", \"44.5\", \"58.9\", \"-\", \"36.7\", \"49.5\", \"28.8\", \"31.1\", \"36.0\", \"44.2\", \"29.1\", \"43.2\", \"-\", \"36.2\", \"43.5\", \"28.6\", \"34.4\", \"34.5\", \"34.5\", \"32.9\", \"37.7\", \"72.6\", \"30.7\", \"48.2\", \"42.5\", \"36.9\", \"30.8\", \"28.5\", \"-\", \"88.6\", \"43.9\", \"33.0\", \"35.7\", \"34.8\", \"37.4\", \"33.6\", \"36.1\", \"61.3\", \"28.7\", \"88.7\", \"43.4\", \"49.7\", \"69.0\", \"84.1\", \"56.5\", \"68.7\", \"39.2\", \"-\", \"40.5\", \"100.0\", \"47.0\", \"82.0\", \"28.4\", \"47.4\", \"38.8\", \"38.8\", \"31.3\", \"35.2\", \"32.8\", \"40.4\", \"35.4\", \"30.2\", \"29.6\", \"33.9\", \"70.4\", \"44.5\", \"31.2\", \"90.2\", \"29.2\", \"37.7\", \"29.1\", \"32.1\", \"-\", \"50.0\", \"44.8\", \"32.6\", \"54.5\", \"30.4\", \"85.9\", \"57.8\"], \"yaxis\": \"y2\"}],                        {\"template\": {\"data\": {\"bar\": [{\"error_x\": {\"color\": \"#2a3f5f\"}, \"error_y\": {\"color\": \"#2a3f5f\"}, \"marker\": {\"line\": {\"color\": \"#E5ECF6\", \"width\": 0.5}}, \"type\": \"bar\"}], \"barpolar\": [{\"marker\": {\"line\": {\"color\": \"#E5ECF6\", \"width\": 0.5}}, \"type\": \"barpolar\"}], \"carpet\": [{\"aaxis\": {\"endlinecolor\": \"#2a3f5f\", \"gridcolor\": \"white\", \"linecolor\": \"white\", \"minorgridcolor\": \"white\", \"startlinecolor\": \"#2a3f5f\"}, \"baxis\": {\"endlinecolor\": \"#2a3f5f\", \"gridcolor\": \"white\", \"linecolor\": \"white\", \"minorgridcolor\": \"white\", \"startlinecolor\": \"#2a3f5f\"}, \"type\": \"carpet\"}], \"choropleth\": [{\"colorbar\": {\"outlinewidth\": 0, \"ticks\": \"\"}, \"type\": \"choropleth\"}], \"contour\": [{\"colorbar\": {\"outlinewidth\": 0, \"ticks\": \"\"}, \"colorscale\": [[0.0, \"#0d0887\"], [0.1111111111111111, \"#46039f\"], [0.2222222222222222, \"#7201a8\"], [0.3333333333333333, \"#9c179e\"], [0.4444444444444444, \"#bd3786\"], [0.5555555555555556, \"#d8576b\"], [0.6666666666666666, \"#ed7953\"], [0.7777777777777778, \"#fb9f3a\"], [0.8888888888888888, \"#fdca26\"], [1.0, \"#f0f921\"]], \"type\": \"contour\"}], \"contourcarpet\": [{\"colorbar\": {\"outlinewidth\": 0, \"ticks\": \"\"}, \"type\": \"contourcarpet\"}], \"heatmap\": [{\"colorbar\": {\"outlinewidth\": 0, \"ticks\": \"\"}, \"colorscale\": [[0.0, \"#0d0887\"], [0.1111111111111111, \"#46039f\"], [0.2222222222222222, \"#7201a8\"], [0.3333333333333333, \"#9c179e\"], [0.4444444444444444, \"#bd3786\"], [0.5555555555555556, \"#d8576b\"], [0.6666666666666666, \"#ed7953\"], [0.7777777777777778, \"#fb9f3a\"], [0.8888888888888888, \"#fdca26\"], [1.0, \"#f0f921\"]], \"type\": \"heatmap\"}], \"heatmapgl\": [{\"colorbar\": {\"outlinewidth\": 0, \"ticks\": \"\"}, \"colorscale\": [[0.0, \"#0d0887\"], [0.1111111111111111, \"#46039f\"], [0.2222222222222222, \"#7201a8\"], [0.3333333333333333, \"#9c179e\"], [0.4444444444444444, \"#bd3786\"], [0.5555555555555556, \"#d8576b\"], [0.6666666666666666, \"#ed7953\"], [0.7777777777777778, \"#fb9f3a\"], [0.8888888888888888, \"#fdca26\"], [1.0, \"#f0f921\"]], \"type\": \"heatmapgl\"}], \"histogram\": [{\"marker\": {\"colorbar\": {\"outlinewidth\": 0, \"ticks\": \"\"}}, \"type\": \"histogram\"}], \"histogram2d\": [{\"colorbar\": {\"outlinewidth\": 0, \"ticks\": \"\"}, \"colorscale\": [[0.0, \"#0d0887\"], [0.1111111111111111, \"#46039f\"], [0.2222222222222222, \"#7201a8\"], [0.3333333333333333, \"#9c179e\"], [0.4444444444444444, \"#bd3786\"], [0.5555555555555556, \"#d8576b\"], [0.6666666666666666, \"#ed7953\"], [0.7777777777777778, \"#fb9f3a\"], [0.8888888888888888, \"#fdca26\"], [1.0, \"#f0f921\"]], \"type\": \"histogram2d\"}], \"histogram2dcontour\": [{\"colorbar\": {\"outlinewidth\": 0, \"ticks\": \"\"}, \"colorscale\": [[0.0, \"#0d0887\"], [0.1111111111111111, \"#46039f\"], [0.2222222222222222, \"#7201a8\"], [0.3333333333333333, \"#9c179e\"], [0.4444444444444444, \"#bd3786\"], [0.5555555555555556, \"#d8576b\"], [0.6666666666666666, \"#ed7953\"], [0.7777777777777778, \"#fb9f3a\"], [0.8888888888888888, \"#fdca26\"], [1.0, \"#f0f921\"]], \"type\": \"histogram2dcontour\"}], \"mesh3d\": [{\"colorbar\": {\"outlinewidth\": 0, \"ticks\": \"\"}, \"type\": \"mesh3d\"}], \"parcoords\": [{\"line\": {\"colorbar\": {\"outlinewidth\": 0, \"ticks\": \"\"}}, \"type\": \"parcoords\"}], \"pie\": [{\"automargin\": true, \"type\": \"pie\"}], \"scatter\": [{\"marker\": {\"colorbar\": {\"outlinewidth\": 0, \"ticks\": \"\"}}, \"type\": \"scatter\"}], \"scatter3d\": [{\"line\": {\"colorbar\": {\"outlinewidth\": 0, \"ticks\": \"\"}}, \"marker\": {\"colorbar\": {\"outlinewidth\": 0, \"ticks\": \"\"}}, \"type\": \"scatter3d\"}], \"scattercarpet\": [{\"marker\": {\"colorbar\": {\"outlinewidth\": 0, \"ticks\": \"\"}}, \"type\": \"scattercarpet\"}], \"scattergeo\": [{\"marker\": {\"colorbar\": {\"outlinewidth\": 0, \"ticks\": \"\"}}, \"type\": \"scattergeo\"}], \"scattergl\": [{\"marker\": {\"colorbar\": {\"outlinewidth\": 0, \"ticks\": \"\"}}, \"type\": \"scattergl\"}], \"scattermapbox\": [{\"marker\": {\"colorbar\": {\"outlinewidth\": 0, \"ticks\": \"\"}}, \"type\": \"scattermapbox\"}], \"scatterpolar\": [{\"marker\": {\"colorbar\": {\"outlinewidth\": 0, \"ticks\": \"\"}}, \"type\": \"scatterpolar\"}], \"scatterpolargl\": [{\"marker\": {\"colorbar\": {\"outlinewidth\": 0, \"ticks\": \"\"}}, \"type\": \"scatterpolargl\"}], \"scatterternary\": [{\"marker\": {\"colorbar\": {\"outlinewidth\": 0, \"ticks\": \"\"}}, \"type\": \"scatterternary\"}], \"surface\": [{\"colorbar\": {\"outlinewidth\": 0, \"ticks\": \"\"}, \"colorscale\": [[0.0, \"#0d0887\"], [0.1111111111111111, \"#46039f\"], [0.2222222222222222, \"#7201a8\"], [0.3333333333333333, \"#9c179e\"], [0.4444444444444444, \"#bd3786\"], [0.5555555555555556, \"#d8576b\"], [0.6666666666666666, \"#ed7953\"], [0.7777777777777778, \"#fb9f3a\"], [0.8888888888888888, \"#fdca26\"], [1.0, \"#f0f921\"]], \"type\": \"surface\"}], \"table\": [{\"cells\": {\"fill\": {\"color\": \"#EBF0F8\"}, \"line\": {\"color\": \"white\"}}, \"header\": {\"fill\": {\"color\": \"#C8D4E3\"}, \"line\": {\"color\": \"white\"}}, \"type\": \"table\"}]}, \"layout\": {\"annotationdefaults\": {\"arrowcolor\": \"#2a3f5f\", \"arrowhead\": 0, \"arrowwidth\": 1}, \"autotypenumbers\": \"strict\", \"coloraxis\": {\"colorbar\": {\"outlinewidth\": 0, \"ticks\": \"\"}}, \"colorscale\": {\"diverging\": [[0, \"#8e0152\"], [0.1, \"#c51b7d\"], [0.2, \"#de77ae\"], [0.3, \"#f1b6da\"], [0.4, \"#fde0ef\"], [0.5, \"#f7f7f7\"], [0.6, \"#e6f5d0\"], [0.7, \"#b8e186\"], [0.8, \"#7fbc41\"], [0.9, \"#4d9221\"], [1, \"#276419\"]], \"sequential\": [[0.0, \"#0d0887\"], [0.1111111111111111, \"#46039f\"], [0.2222222222222222, \"#7201a8\"], [0.3333333333333333, \"#9c179e\"], [0.4444444444444444, \"#bd3786\"], [0.5555555555555556, \"#d8576b\"], [0.6666666666666666, \"#ed7953\"], [0.7777777777777778, \"#fb9f3a\"], [0.8888888888888888, \"#fdca26\"], [1.0, \"#f0f921\"]], \"sequentialminus\": [[0.0, \"#0d0887\"], [0.1111111111111111, \"#46039f\"], [0.2222222222222222, \"#7201a8\"], [0.3333333333333333, \"#9c179e\"], [0.4444444444444444, \"#bd3786\"], [0.5555555555555556, \"#d8576b\"], [0.6666666666666666, \"#ed7953\"], [0.7777777777777778, \"#fb9f3a\"], [0.8888888888888888, \"#fdca26\"], [1.0, \"#f0f921\"]]}, \"colorway\": [\"#636efa\", \"#EF553B\", \"#00cc96\", \"#ab63fa\", \"#FFA15A\", \"#19d3f3\", \"#FF6692\", \"#B6E880\", \"#FF97FF\", \"#FECB52\"], \"font\": {\"color\": \"#2a3f5f\"}, \"geo\": {\"bgcolor\": \"white\", \"lakecolor\": \"white\", \"landcolor\": \"#E5ECF6\", \"showlakes\": true, \"showland\": true, \"subunitcolor\": \"white\"}, \"hoverlabel\": {\"align\": \"left\"}, \"hovermode\": \"closest\", \"mapbox\": {\"style\": \"light\"}, \"paper_bgcolor\": \"white\", \"plot_bgcolor\": \"#E5ECF6\", \"polar\": {\"angularaxis\": {\"gridcolor\": \"white\", \"linecolor\": \"white\", \"ticks\": \"\"}, \"bgcolor\": \"#E5ECF6\", \"radialaxis\": {\"gridcolor\": \"white\", \"linecolor\": \"white\", \"ticks\": \"\"}}, \"scene\": {\"xaxis\": {\"backgroundcolor\": \"#E5ECF6\", \"gridcolor\": \"white\", \"gridwidth\": 2, \"linecolor\": \"white\", \"showbackground\": true, \"ticks\": \"\", \"zerolinecolor\": \"white\"}, \"yaxis\": {\"backgroundcolor\": \"#E5ECF6\", \"gridcolor\": \"white\", \"gridwidth\": 2, \"linecolor\": \"white\", \"showbackground\": true, \"ticks\": \"\", \"zerolinecolor\": \"white\"}, \"zaxis\": {\"backgroundcolor\": \"#E5ECF6\", \"gridcolor\": \"white\", \"gridwidth\": 2, \"linecolor\": \"white\", \"showbackground\": true, \"ticks\": \"\", \"zerolinecolor\": \"white\"}}, \"shapedefaults\": {\"line\": {\"color\": \"#2a3f5f\"}}, \"ternary\": {\"aaxis\": {\"gridcolor\": \"white\", \"linecolor\": \"white\", \"ticks\": \"\"}, \"baxis\": {\"gridcolor\": \"white\", \"linecolor\": \"white\", \"ticks\": \"\"}, \"bgcolor\": \"#E5ECF6\", \"caxis\": {\"gridcolor\": \"white\", \"linecolor\": \"white\", \"ticks\": \"\"}}, \"title\": {\"x\": 0.05}, \"xaxis\": {\"automargin\": true, \"gridcolor\": \"white\", \"linecolor\": \"white\", \"ticks\": \"\", \"title\": {\"standoff\": 15}, \"zerolinecolor\": \"white\", \"zerolinewidth\": 2}, \"yaxis\": {\"automargin\": true, \"gridcolor\": \"white\", \"linecolor\": \"white\", \"ticks\": \"\", \"title\": {\"standoff\": 15}, \"zerolinecolor\": \"white\", \"zerolinewidth\": 2}}}, \"title\": {\"text\": \"Income and Teaching vs World Rank of Universities\"}, \"xaxis2\": {\"anchor\": \"y2\", \"domain\": [0.6, 0.95]}, \"yaxis2\": {\"anchor\": \"x2\", \"domain\": [0.6, 0.95]}},                        {\"responsive\": true}                    ).then(function(){\n",
       "                            \n",
       "var gd = document.getElementById('fe225ff7-060b-4477-b110-e99ec135e6a9');\n",
       "var x = new MutationObserver(function (mutations, observer) {{\n",
       "        var display = window.getComputedStyle(gd).display;\n",
       "        if (!display || display === 'none') {{\n",
       "            console.log([gd, 'removed!']);\n",
       "            Plotly.purge(gd);\n",
       "            observer.disconnect();\n",
       "        }}\n",
       "}});\n",
       "\n",
       "// Listen for the removal of the full notebook cells\n",
       "var notebookContainer = gd.closest('#notebook-container');\n",
       "if (notebookContainer) {{\n",
       "    x.observe(notebookContainer, {childList: true});\n",
       "}}\n",
       "\n",
       "// Listen for the clearing of the current output cell\n",
       "var outputEl = gd.closest('.output');\n",
       "if (outputEl) {{\n",
       "    x.observe(outputEl, {childList: true});\n",
       "}}\n",
       "\n",
       "                        })                };                });            </script>        </div>"
      ]
     },
     "metadata": {},
     "output_type": "display_data"
    }
   ],
   "source": [
    "# first line plot\n",
    "trace1 = go.Scatter(\n",
    "    x=dataframe.world_rank,\n",
    "    y=dataframe.teaching,\n",
    "    name = \"teaching\",\n",
    "    marker = dict(color = 'rgba(16, 112, 2, 0.8)'),\n",
    ")\n",
    "# second line plot\n",
    "trace2 = go.Scatter(\n",
    "    x=dataframe.world_rank,\n",
    "    y=dataframe.income,\n",
    "    xaxis='x2',\n",
    "    yaxis='y2',\n",
    "    name = \"income\",\n",
    "    marker = dict(color = 'rgba(160, 112, 20, 0.8)'),\n",
    ")\n",
    "data = [trace1, trace2]\n",
    "layout = go.Layout(\n",
    "    xaxis2=dict(\n",
    "        domain=[0.6, 0.95],\n",
    "        anchor='y2',        \n",
    "    ),\n",
    "    yaxis2=dict(\n",
    "        domain=[0.6, 0.95],\n",
    "        anchor='x2',\n",
    "    ),\n",
    "    title = 'Income and Teaching vs World Rank of Universities'\n",
    "\n",
    ")\n",
    "\n",
    "fig = go.Figure(data=data, layout=layout)\n",
    "iplot(fig)"
   ]
  },
  {
   "cell_type": "markdown",
   "metadata": {},
   "source": [
    "## 3D Scatter Plot with Colorscaling:"
   ]
  },
  {
   "cell_type": "code",
   "execution_count": 20,
   "metadata": {},
   "outputs": [
    {
     "data": {
      "application/vnd.plotly.v1+json": {
       "config": {
        "linkText": "Export to plot.ly",
        "plotlyServerURL": "https://plot.ly",
        "showLink": false
       },
       "data": [
        {
         "marker": {
          "color": "rgb(255,0,0)",
          "size": 10
         },
         "mode": "markers",
         "type": "scatter3d",
         "x": [
          "1",
          "2",
          "3",
          "4",
          "5",
          "6",
          "7",
          "8",
          "9",
          "9",
          "11",
          "12",
          "13",
          "14",
          "15",
          "16",
          "17",
          "18",
          "19",
          "20",
          "21",
          "22",
          "23",
          "24",
          "25",
          "26",
          "27",
          "28",
          "29",
          "29",
          "29",
          "32",
          "33",
          "34",
          "34",
          "36",
          "37",
          "38",
          "39",
          "40",
          "41",
          "42",
          "43",
          "44",
          "45",
          "46",
          "46",
          "48",
          "49",
          "50",
          "51",
          "52",
          "52",
          "54",
          "55",
          "55",
          "57",
          "58",
          "59",
          "60",
          "61",
          "61",
          "63",
          "64",
          "65",
          "66",
          "67",
          "68",
          "69",
          "70",
          "71",
          "72",
          "73",
          "74",
          "75",
          "75",
          "77",
          "78",
          "79",
          "80",
          "81",
          "82",
          "83",
          "83",
          "85",
          "86",
          "86",
          "88",
          "88",
          "90",
          "91",
          "91",
          "93",
          "94",
          "94",
          "96",
          "97",
          "98",
          "98",
          "98",
          "101",
          "102",
          "103",
          "103",
          "103",
          "103",
          "107",
          "107",
          "109",
          "109",
          "111",
          "111",
          "113",
          "113",
          "113",
          "116",
          "117",
          "118",
          "119",
          "120",
          "121",
          "121",
          "121",
          "124",
          "124",
          "126",
          "126",
          "126",
          "129",
          "130",
          "131",
          "132",
          "132",
          "132",
          "135",
          "136",
          "136",
          "138",
          "139",
          "140",
          "141",
          "141",
          "141",
          "144",
          "144",
          "146",
          "147",
          "148",
          "148",
          "150",
          "150",
          "152",
          "153",
          "154",
          "155",
          "156",
          "157",
          "157",
          "157",
          "160",
          "160",
          "162",
          "163",
          "164",
          "165",
          "165",
          "165",
          "165",
          "169",
          "170",
          "171",
          "171",
          "173",
          "173",
          "175",
          "175",
          "177",
          "178",
          "178",
          "180",
          "180",
          "182",
          "182",
          "182",
          "185",
          "186",
          "186",
          "188",
          "188",
          "188",
          "191",
          "192",
          "193",
          "193",
          "195",
          "196",
          "196",
          "198",
          "199",
          "200",
          "200",
          "201-225",
          "201-225",
          "201-225",
          "201-225",
          "201-225",
          "201-225",
          "201-225",
          "201-225",
          "201-225",
          "201-225",
          "201-225",
          "201-225",
          "201-225",
          "201-225",
          "201-225",
          "201-225",
          "201-225",
          "201-225",
          "201-225",
          "201-225",
          "201-225",
          "201-225",
          "201-225",
          "201-225",
          "201-225",
          "226-250",
          "226-250",
          "226-250",
          "226-250",
          "226-250",
          "226-250",
          "226-250",
          "226-250",
          "226-250",
          "226-250",
          "226-250",
          "226-250",
          "226-250",
          "226-250",
          "226-250",
          "226-250",
          "226-250",
          "226-250",
          "226-250",
          "226-250",
          "226-250",
          "226-250",
          "226-250",
          "226-250",
          "251-275",
          "251-275",
          "251-275",
          "251-275",
          "251-275",
          "251-275",
          "251-275",
          "251-275",
          "251-275",
          "251-275",
          "251-275",
          "251-275",
          "251-275",
          "251-275",
          "251-275",
          "251-275",
          "251-275",
          "251-275",
          "251-275",
          "251-275",
          "251-275",
          "251-275",
          "251-275",
          "251-275",
          "251-275",
          "276-300",
          "276-300",
          "276-300",
          "276-300",
          "276-300",
          "276-300",
          "276-300",
          "276-300",
          "276-300",
          "276-300",
          "276-300",
          "276-300",
          "276-300",
          "276-300",
          "276-300",
          "276-300",
          "276-300",
          "276-300",
          "276-300",
          "276-300",
          "276-300",
          "276-300",
          "276-300",
          "276-300",
          "276-300",
          "276-300",
          "276-300",
          "276-300",
          "301-350",
          "301-350",
          "301-350",
          "301-350",
          "301-350",
          "301-350",
          "301-350",
          "301-350",
          "301-350",
          "301-350",
          "301-350",
          "301-350",
          "301-350",
          "301-350",
          "301-350",
          "301-350",
          "301-350",
          "301-350",
          "301-350",
          "301-350",
          "301-350",
          "301-350",
          "301-350",
          "301-350",
          "301-350",
          "301-350",
          "301-350",
          "301-350",
          "301-350",
          "301-350",
          "301-350",
          "301-350",
          "301-350",
          "301-350",
          "301-350",
          "301-350",
          "301-350",
          "301-350",
          "301-350",
          "301-350",
          "301-350",
          "301-350",
          "301-350",
          "301-350",
          "301-350",
          "301-350",
          "301-350",
          "301-350",
          "351-400",
          "351-400",
          "351-400",
          "351-400",
          "351-400",
          "351-400",
          "351-400",
          "351-400",
          "351-400",
          "351-400",
          "351-400",
          "351-400",
          "351-400",
          "351-400",
          "351-400",
          "351-400",
          "351-400",
          "351-400",
          "351-400",
          "351-400",
          "351-400",
          "351-400",
          "351-400",
          "351-400",
          "351-400",
          "351-400",
          "351-400",
          "351-400",
          "351-400",
          "351-400",
          "351-400",
          "351-400",
          "351-400",
          "351-400",
          "351-400",
          "351-400",
          "351-400",
          "351-400",
          "351-400",
          "351-400",
          "351-400",
          "351-400",
          "351-400",
          "351-400",
          "351-400",
          "351-400",
          "351-400",
          "351-400",
          "351-400",
          "351-400"
         ],
         "y": [
          98.1,
          98.6,
          97.7,
          96.7,
          95.6,
          88.2,
          94.7,
          96.7,
          88.3,
          90.8,
          89.9,
          90.5,
          90.2,
          79.4,
          84.2,
          82,
          86.5,
          75.2,
          83.8,
          85.1,
          78.9,
          80.4,
          85.1,
          74.9,
          78.1,
          68.9,
          71.2,
          72,
          69.1,
          79,
          71.3,
          69,
          70.9,
          74.2,
          56.9,
          62.9,
          61.4,
          62.4,
          69.9,
          62.3,
          66.6,
          55.2,
          72.6,
          68,
          70.9,
          64.7,
          58.6,
          61.9,
          68.3,
          77.1,
          66.8,
          63.2,
          58.7,
          54.2,
          63.6,
          59.7,
          46.7,
          64.8,
          68.4,
          60.8,
          55.9,
          47.1,
          46,
          58.2,
          58.4,
          49.3,
          48,
          51.1,
          37.1,
          45.4,
          71.4,
          53.7,
          46.8,
          44.7,
          41.1,
          44.6,
          55.4,
          36.2,
          54.8,
          52.6,
          58,
          49.4,
          40.7,
          54.4,
          36.9,
          51.4,
          38.5,
          33.9,
          41.7,
          51.6,
          49.1,
          46.3,
          32.4,
          43.2,
          40.5,
          38.2,
          38.3,
          45,
          37.4,
          53,
          48.1,
          50.5,
          30,
          48.1,
          45.8,
          33.1,
          32.9,
          37.2,
          31.9,
          51.9,
          35.9,
          30.4,
          44.4,
          44.7,
          33.8,
          37.4,
          50.8,
          22.4,
          48.5,
          33.1,
          28.2,
          29.2,
          39.1,
          47.1,
          35.3,
          29.1,
          44.8,
          52.1,
          53.5,
          35.9,
          36.1,
          36.9,
          39.1,
          34.1,
          42,
          39.9,
          43.2,
          30.3,
          27.6,
          46.7,
          26.7,
          51.9,
          52.9,
          47.1,
          45.3,
          39.1,
          29.1,
          50.2,
          39.8,
          35.1,
          27.5,
          35.4,
          47.5,
          32.7,
          57.3,
          29.9,
          48,
          33.2,
          38.1,
          34.4,
          33.8,
          36.5,
          28.1,
          40.4,
          36.9,
          34.9,
          28.3,
          47.3,
          27.2,
          33.6,
          35.8,
          34.9,
          28.2,
          30.6,
          33.4,
          33.5,
          24.4,
          29.3,
          30.2,
          19.7,
          36.3,
          37.5,
          27.1,
          39.7,
          21.9,
          35.2,
          23.9,
          24.4,
          51.1,
          34.7,
          39.8,
          32.9,
          34,
          30.9,
          22.2,
          42.1,
          27.3,
          22.6,
          31.6,
          13.1,
          25.1,
          27.7,
          30.4,
          22.4,
          36.3,
          36.5,
          44.3,
          29.6,
          37.5,
          22,
          28.8,
          27.9,
          22.5,
          34.1,
          17.1,
          34,
          27.3,
          23.4,
          51.6,
          28.2,
          16,
          45.3,
          36.2,
          23.5,
          19.9,
          45.8,
          29.2,
          29.3,
          21.4,
          24.5,
          30,
          29.9,
          23.2,
          31.8,
          26.2,
          29.3,
          35,
          32.3,
          9.8,
          28.1,
          30.5,
          38.2,
          24.3,
          33.4,
          23,
          32.5,
          35.7,
          17.3,
          32.4,
          35.3,
          31.3,
          10.1,
          17,
          23.3,
          40.3,
          24.8,
          33.4,
          25.1,
          25.2,
          33.7,
          27.6,
          30.7,
          24.7,
          18.1,
          23.4,
          29.9,
          27.7,
          19.2,
          25.6,
          37.9,
          12.1,
          21.7,
          20.3,
          20.3,
          40.4,
          32.8,
          31.3,
          39.5,
          25.5,
          22.5,
          40.7,
          29.6,
          10.5,
          18.1,
          36,
          37.9,
          31.2,
          45.1,
          22.9,
          22.2,
          23.2,
          22.4,
          15.3,
          19.7,
          28.9,
          20.3,
          22.9,
          24.4,
          24,
          27.5,
          27.8,
          28.5,
          40,
          19.3,
          23,
          17.8,
          24.3,
          10.4,
          20.6,
          14.3,
          13.2,
          17.3,
          16.5,
          24.4,
          24.8,
          17.2,
          21.1,
          26.6,
          14.7,
          24.8,
          28.1,
          34.7,
          38.8,
          25.2,
          20.7,
          25.1,
          23.4,
          18.4,
          27.1,
          16.8,
          13.7,
          29,
          25.8,
          24,
          20.1,
          29.4,
          6.5,
          13.7,
          16.5,
          15.7,
          18.2,
          18.8,
          20.5,
          25.1,
          17.3,
          22.2,
          21.6,
          12,
          13.6,
          15.2,
          33.1,
          28.5,
          20.6,
          21.6,
          12.9,
          19.1,
          17.2,
          17.1,
          18,
          20.3,
          32.3,
          27.5,
          24.6,
          14.3,
          27.3,
          10,
          28.5,
          16.6,
          27.6,
          17.8,
          40.1,
          32.9,
          42.6,
          18.9,
          22.5,
          16.3,
          16.9,
          25.7,
          18.1,
          21.6,
          15.2,
          17.3,
          17.3,
          10.9,
          22.8,
          18.4,
          16.2,
          22,
          22.3,
          10.6,
          11.8,
          20.2,
          21.8,
          19.4,
          17,
          17.9,
          16.3,
          27.5,
          22.4,
          17.4,
          8
         ],
         "z": [
          99.7,
          98.9,
          95.5,
          99.1,
          95.2,
          100,
          99.6,
          99.1,
          89.4,
          94,
          97.3,
          95.3,
          83.5,
          95.3,
          93.6,
          94.4,
          88.9,
          96.6,
          91.5,
          83,
          96.9,
          85.1,
          74.7,
          92,
          66,
          95,
          85.8,
          91.5,
          83,
          77.8,
          87.7,
          85.3,
          80.6,
          71.3,
          95,
          88.3,
          99.2,
          89.5,
          76,
          88.3,
          96.4,
          97.1,
          65.1,
          76.8,
          71.1,
          82.9,
          91,
          63.7,
          65,
          48.7,
          72.9,
          71.4,
          74.3,
          92,
          71.8,
          80.4,
          94.4,
          76,
          57,
          69,
          75.9,
          79.9,
          96.4,
          82.3,
          74.2,
          84.4,
          92.3,
          80.4,
          99.9,
          81.4,
          42.6,
          82.3,
          77.5,
          85.1,
          81.4,
          81.3,
          76.6,
          84.8,
          80,
          71.9,
          67.6,
          74,
          88.9,
          65.7,
          92,
          74,
          90,
          92.9,
          89.5,
          73.8,
          78.7,
          84.4,
          89.5,
          78.8,
          83.7,
          87.7,
          97.4,
          90.9,
          78.8,
          70.9,
          70.1,
          62.2,
          83.3,
          79,
          68.2,
          81.4,
          88.9,
          78.2,
          100,
          61.1,
          81.4,
          92.8,
          62.9,
          74,
          90.5,
          82.9,
          68.1,
          98.9,
          74.9,
          87.7,
          79.6,
          87.7,
          74.3,
          61.8,
          86.6,
          95.9,
          55.1,
          62.2,
          57.8,
          76.9,
          78,
          70.1,
          83.6,
          79.7,
          70.8,
          76.5,
          74.9,
          77.6,
          96.8,
          73.9,
          97.1,
          55.1,
          48.1,
          57.3,
          71,
          69.3,
          95.3,
          51.7,
          62.7,
          73.1,
          91.5,
          80.4,
          66.5,
          78,
          47.7,
          75,
          51.1,
          76.2,
          62.2,
          73.5,
          73,
          75,
          74,
          61.1,
          79.7,
          62.9,
          88.3,
          49.6,
          73.1,
          67.7,
          62.7,
          67.7,
          62.2,
          86.7,
          68.4,
          71,
          87.1,
          73,
          74.3,
          92.2,
          73.1,
          73.1,
          88.5,
          56.3,
          81.3,
          66.3,
          77.8,
          80.4,
          45.5,
          62.9,
          57.5,
          68.6,
          61,
          72,
          83.8,
          33.8,
          86.4,
          83.7,
          67.1,
          99.2,
          70,
          76,
          69.3,
          78.8,
          57.2,
          56.5,
          39.9,
          70.3,
          52,
          73,
          79.7,
          68.5,
          84.4,
          55.1,
          77,
          58.1,
          73.6,
          74,
          32.3,
          77.8,
          88.1,
          49.4,
          64.4,
          81.3,
          78.7,
          44.3,
          67,
          60.4,
          75.3,
          76.9,
          54.4,
          58.1,
          55.1,
          59.9,
          67.8,
          67.6,
          68.9,
          47,
          100,
          61.7,
          59.4,
          64.4,
          70.8,
          59.4,
          76.6,
          58.7,
          47,
          81.4,
          41.7,
          62.9,
          50.2,
          99.7,
          71.1,
          59.6,
          49.1,
          62.8,
          48.2,
          52.2,
          59.9,
          42,
          55.7,
          51.5,
          74.8,
          73,
          73.1,
          57.5,
          57.6,
          75.6,
          64.5,
          55.1,
          89.8,
          67.3,
          70.3,
          72.5,
          47,
          40.8,
          59.9,
          51.6,
          59.9,
          67.4,
          40.4,
          49.6,
          84.4,
          80.5,
          42.9,
          38.9,
          45.6,
          34.9,
          51.1,
          56.9,
          64.5,
          67.8,
          68.7,
          58.6,
          46.6,
          68.1,
          66.9,
          57.5,
          52.7,
          55.1,
          55.1,
          53.8,
          40.7,
          59.7,
          55.8,
          64.5,
          50.1,
          63.3,
          57.5,
          57.5,
          70.8,
          50.3,
          61,
          58.5,
          50.2,
          70.5,
          63.3,
          55.8,
          59.6,
          65.6,
          50.7,
          50.4,
          28,
          54.1,
          53.9,
          47.5,
          53.8,
          65.3,
          45.4,
          67,
          64.1,
          39.3,
          44.2,
          50.2,
          62.2,
          48.2,
          83,
          75,
          51.5,
          57.5,
          68,
          69.2,
          61.2,
          49.9,
          56.9,
          58.7,
          51.1,
          72.7,
          70,
          61,
          40.2,
          39.9,
          52.2,
          45.1,
          61.8,
          52,
          62.6,
          45.3,
          57.6,
          53.9,
          29,
          32.2,
          43.5,
          62.6,
          48.9,
          75,
          33.6,
          56.3,
          51.5,
          46.5,
          28.4,
          39,
          30.9,
          43.5,
          42,
          50.2,
          53.2,
          52.7,
          52,
          53.8,
          64.5,
          60.8,
          55.1,
          65,
          44.8,
          44.6,
          60.6,
          46.6,
          41.7,
          61.6,
          62.1,
          63.3,
          47.7,
          57.5,
          50,
          48.1,
          55.5,
          44.2,
          58.7,
          48.5,
          75.8
         ]
        }
       ],
       "layout": {
        "margin": {
         "b": 0,
         "l": 0,
         "r": 0,
         "t": 0
        },
        "template": {
         "data": {
          "bar": [
           {
            "error_x": {
             "color": "#2a3f5f"
            },
            "error_y": {
             "color": "#2a3f5f"
            },
            "marker": {
             "line": {
              "color": "#E5ECF6",
              "width": 0.5
             }
            },
            "type": "bar"
           }
          ],
          "barpolar": [
           {
            "marker": {
             "line": {
              "color": "#E5ECF6",
              "width": 0.5
             }
            },
            "type": "barpolar"
           }
          ],
          "carpet": [
           {
            "aaxis": {
             "endlinecolor": "#2a3f5f",
             "gridcolor": "white",
             "linecolor": "white",
             "minorgridcolor": "white",
             "startlinecolor": "#2a3f5f"
            },
            "baxis": {
             "endlinecolor": "#2a3f5f",
             "gridcolor": "white",
             "linecolor": "white",
             "minorgridcolor": "white",
             "startlinecolor": "#2a3f5f"
            },
            "type": "carpet"
           }
          ],
          "choropleth": [
           {
            "colorbar": {
             "outlinewidth": 0,
             "ticks": ""
            },
            "type": "choropleth"
           }
          ],
          "contour": [
           {
            "colorbar": {
             "outlinewidth": 0,
             "ticks": ""
            },
            "colorscale": [
             [
              0,
              "#0d0887"
             ],
             [
              0.1111111111111111,
              "#46039f"
             ],
             [
              0.2222222222222222,
              "#7201a8"
             ],
             [
              0.3333333333333333,
              "#9c179e"
             ],
             [
              0.4444444444444444,
              "#bd3786"
             ],
             [
              0.5555555555555556,
              "#d8576b"
             ],
             [
              0.6666666666666666,
              "#ed7953"
             ],
             [
              0.7777777777777778,
              "#fb9f3a"
             ],
             [
              0.8888888888888888,
              "#fdca26"
             ],
             [
              1,
              "#f0f921"
             ]
            ],
            "type": "contour"
           }
          ],
          "contourcarpet": [
           {
            "colorbar": {
             "outlinewidth": 0,
             "ticks": ""
            },
            "type": "contourcarpet"
           }
          ],
          "heatmap": [
           {
            "colorbar": {
             "outlinewidth": 0,
             "ticks": ""
            },
            "colorscale": [
             [
              0,
              "#0d0887"
             ],
             [
              0.1111111111111111,
              "#46039f"
             ],
             [
              0.2222222222222222,
              "#7201a8"
             ],
             [
              0.3333333333333333,
              "#9c179e"
             ],
             [
              0.4444444444444444,
              "#bd3786"
             ],
             [
              0.5555555555555556,
              "#d8576b"
             ],
             [
              0.6666666666666666,
              "#ed7953"
             ],
             [
              0.7777777777777778,
              "#fb9f3a"
             ],
             [
              0.8888888888888888,
              "#fdca26"
             ],
             [
              1,
              "#f0f921"
             ]
            ],
            "type": "heatmap"
           }
          ],
          "heatmapgl": [
           {
            "colorbar": {
             "outlinewidth": 0,
             "ticks": ""
            },
            "colorscale": [
             [
              0,
              "#0d0887"
             ],
             [
              0.1111111111111111,
              "#46039f"
             ],
             [
              0.2222222222222222,
              "#7201a8"
             ],
             [
              0.3333333333333333,
              "#9c179e"
             ],
             [
              0.4444444444444444,
              "#bd3786"
             ],
             [
              0.5555555555555556,
              "#d8576b"
             ],
             [
              0.6666666666666666,
              "#ed7953"
             ],
             [
              0.7777777777777778,
              "#fb9f3a"
             ],
             [
              0.8888888888888888,
              "#fdca26"
             ],
             [
              1,
              "#f0f921"
             ]
            ],
            "type": "heatmapgl"
           }
          ],
          "histogram": [
           {
            "marker": {
             "colorbar": {
              "outlinewidth": 0,
              "ticks": ""
             }
            },
            "type": "histogram"
           }
          ],
          "histogram2d": [
           {
            "colorbar": {
             "outlinewidth": 0,
             "ticks": ""
            },
            "colorscale": [
             [
              0,
              "#0d0887"
             ],
             [
              0.1111111111111111,
              "#46039f"
             ],
             [
              0.2222222222222222,
              "#7201a8"
             ],
             [
              0.3333333333333333,
              "#9c179e"
             ],
             [
              0.4444444444444444,
              "#bd3786"
             ],
             [
              0.5555555555555556,
              "#d8576b"
             ],
             [
              0.6666666666666666,
              "#ed7953"
             ],
             [
              0.7777777777777778,
              "#fb9f3a"
             ],
             [
              0.8888888888888888,
              "#fdca26"
             ],
             [
              1,
              "#f0f921"
             ]
            ],
            "type": "histogram2d"
           }
          ],
          "histogram2dcontour": [
           {
            "colorbar": {
             "outlinewidth": 0,
             "ticks": ""
            },
            "colorscale": [
             [
              0,
              "#0d0887"
             ],
             [
              0.1111111111111111,
              "#46039f"
             ],
             [
              0.2222222222222222,
              "#7201a8"
             ],
             [
              0.3333333333333333,
              "#9c179e"
             ],
             [
              0.4444444444444444,
              "#bd3786"
             ],
             [
              0.5555555555555556,
              "#d8576b"
             ],
             [
              0.6666666666666666,
              "#ed7953"
             ],
             [
              0.7777777777777778,
              "#fb9f3a"
             ],
             [
              0.8888888888888888,
              "#fdca26"
             ],
             [
              1,
              "#f0f921"
             ]
            ],
            "type": "histogram2dcontour"
           }
          ],
          "mesh3d": [
           {
            "colorbar": {
             "outlinewidth": 0,
             "ticks": ""
            },
            "type": "mesh3d"
           }
          ],
          "parcoords": [
           {
            "line": {
             "colorbar": {
              "outlinewidth": 0,
              "ticks": ""
             }
            },
            "type": "parcoords"
           }
          ],
          "pie": [
           {
            "automargin": true,
            "type": "pie"
           }
          ],
          "scatter": [
           {
            "marker": {
             "colorbar": {
              "outlinewidth": 0,
              "ticks": ""
             }
            },
            "type": "scatter"
           }
          ],
          "scatter3d": [
           {
            "line": {
             "colorbar": {
              "outlinewidth": 0,
              "ticks": ""
             }
            },
            "marker": {
             "colorbar": {
              "outlinewidth": 0,
              "ticks": ""
             }
            },
            "type": "scatter3d"
           }
          ],
          "scattercarpet": [
           {
            "marker": {
             "colorbar": {
              "outlinewidth": 0,
              "ticks": ""
             }
            },
            "type": "scattercarpet"
           }
          ],
          "scattergeo": [
           {
            "marker": {
             "colorbar": {
              "outlinewidth": 0,
              "ticks": ""
             }
            },
            "type": "scattergeo"
           }
          ],
          "scattergl": [
           {
            "marker": {
             "colorbar": {
              "outlinewidth": 0,
              "ticks": ""
             }
            },
            "type": "scattergl"
           }
          ],
          "scattermapbox": [
           {
            "marker": {
             "colorbar": {
              "outlinewidth": 0,
              "ticks": ""
             }
            },
            "type": "scattermapbox"
           }
          ],
          "scatterpolar": [
           {
            "marker": {
             "colorbar": {
              "outlinewidth": 0,
              "ticks": ""
             }
            },
            "type": "scatterpolar"
           }
          ],
          "scatterpolargl": [
           {
            "marker": {
             "colorbar": {
              "outlinewidth": 0,
              "ticks": ""
             }
            },
            "type": "scatterpolargl"
           }
          ],
          "scatterternary": [
           {
            "marker": {
             "colorbar": {
              "outlinewidth": 0,
              "ticks": ""
             }
            },
            "type": "scatterternary"
           }
          ],
          "surface": [
           {
            "colorbar": {
             "outlinewidth": 0,
             "ticks": ""
            },
            "colorscale": [
             [
              0,
              "#0d0887"
             ],
             [
              0.1111111111111111,
              "#46039f"
             ],
             [
              0.2222222222222222,
              "#7201a8"
             ],
             [
              0.3333333333333333,
              "#9c179e"
             ],
             [
              0.4444444444444444,
              "#bd3786"
             ],
             [
              0.5555555555555556,
              "#d8576b"
             ],
             [
              0.6666666666666666,
              "#ed7953"
             ],
             [
              0.7777777777777778,
              "#fb9f3a"
             ],
             [
              0.8888888888888888,
              "#fdca26"
             ],
             [
              1,
              "#f0f921"
             ]
            ],
            "type": "surface"
           }
          ],
          "table": [
           {
            "cells": {
             "fill": {
              "color": "#EBF0F8"
             },
             "line": {
              "color": "white"
             }
            },
            "header": {
             "fill": {
              "color": "#C8D4E3"
             },
             "line": {
              "color": "white"
             }
            },
            "type": "table"
           }
          ]
         },
         "layout": {
          "annotationdefaults": {
           "arrowcolor": "#2a3f5f",
           "arrowhead": 0,
           "arrowwidth": 1
          },
          "autotypenumbers": "strict",
          "coloraxis": {
           "colorbar": {
            "outlinewidth": 0,
            "ticks": ""
           }
          },
          "colorscale": {
           "diverging": [
            [
             0,
             "#8e0152"
            ],
            [
             0.1,
             "#c51b7d"
            ],
            [
             0.2,
             "#de77ae"
            ],
            [
             0.3,
             "#f1b6da"
            ],
            [
             0.4,
             "#fde0ef"
            ],
            [
             0.5,
             "#f7f7f7"
            ],
            [
             0.6,
             "#e6f5d0"
            ],
            [
             0.7,
             "#b8e186"
            ],
            [
             0.8,
             "#7fbc41"
            ],
            [
             0.9,
             "#4d9221"
            ],
            [
             1,
             "#276419"
            ]
           ],
           "sequential": [
            [
             0,
             "#0d0887"
            ],
            [
             0.1111111111111111,
             "#46039f"
            ],
            [
             0.2222222222222222,
             "#7201a8"
            ],
            [
             0.3333333333333333,
             "#9c179e"
            ],
            [
             0.4444444444444444,
             "#bd3786"
            ],
            [
             0.5555555555555556,
             "#d8576b"
            ],
            [
             0.6666666666666666,
             "#ed7953"
            ],
            [
             0.7777777777777778,
             "#fb9f3a"
            ],
            [
             0.8888888888888888,
             "#fdca26"
            ],
            [
             1,
             "#f0f921"
            ]
           ],
           "sequentialminus": [
            [
             0,
             "#0d0887"
            ],
            [
             0.1111111111111111,
             "#46039f"
            ],
            [
             0.2222222222222222,
             "#7201a8"
            ],
            [
             0.3333333333333333,
             "#9c179e"
            ],
            [
             0.4444444444444444,
             "#bd3786"
            ],
            [
             0.5555555555555556,
             "#d8576b"
            ],
            [
             0.6666666666666666,
             "#ed7953"
            ],
            [
             0.7777777777777778,
             "#fb9f3a"
            ],
            [
             0.8888888888888888,
             "#fdca26"
            ],
            [
             1,
             "#f0f921"
            ]
           ]
          },
          "colorway": [
           "#636efa",
           "#EF553B",
           "#00cc96",
           "#ab63fa",
           "#FFA15A",
           "#19d3f3",
           "#FF6692",
           "#B6E880",
           "#FF97FF",
           "#FECB52"
          ],
          "font": {
           "color": "#2a3f5f"
          },
          "geo": {
           "bgcolor": "white",
           "lakecolor": "white",
           "landcolor": "#E5ECF6",
           "showlakes": true,
           "showland": true,
           "subunitcolor": "white"
          },
          "hoverlabel": {
           "align": "left"
          },
          "hovermode": "closest",
          "mapbox": {
           "style": "light"
          },
          "paper_bgcolor": "white",
          "plot_bgcolor": "#E5ECF6",
          "polar": {
           "angularaxis": {
            "gridcolor": "white",
            "linecolor": "white",
            "ticks": ""
           },
           "bgcolor": "#E5ECF6",
           "radialaxis": {
            "gridcolor": "white",
            "linecolor": "white",
            "ticks": ""
           }
          },
          "scene": {
           "xaxis": {
            "backgroundcolor": "#E5ECF6",
            "gridcolor": "white",
            "gridwidth": 2,
            "linecolor": "white",
            "showbackground": true,
            "ticks": "",
            "zerolinecolor": "white"
           },
           "yaxis": {
            "backgroundcolor": "#E5ECF6",
            "gridcolor": "white",
            "gridwidth": 2,
            "linecolor": "white",
            "showbackground": true,
            "ticks": "",
            "zerolinecolor": "white"
           },
           "zaxis": {
            "backgroundcolor": "#E5ECF6",
            "gridcolor": "white",
            "gridwidth": 2,
            "linecolor": "white",
            "showbackground": true,
            "ticks": "",
            "zerolinecolor": "white"
           }
          },
          "shapedefaults": {
           "line": {
            "color": "#2a3f5f"
           }
          },
          "ternary": {
           "aaxis": {
            "gridcolor": "white",
            "linecolor": "white",
            "ticks": ""
           },
           "baxis": {
            "gridcolor": "white",
            "linecolor": "white",
            "ticks": ""
           },
           "bgcolor": "#E5ECF6",
           "caxis": {
            "gridcolor": "white",
            "linecolor": "white",
            "ticks": ""
           }
          },
          "title": {
           "x": 0.05
          },
          "xaxis": {
           "automargin": true,
           "gridcolor": "white",
           "linecolor": "white",
           "ticks": "",
           "title": {
            "standoff": 15
           },
           "zerolinecolor": "white",
           "zerolinewidth": 2
          },
          "yaxis": {
           "automargin": true,
           "gridcolor": "white",
           "linecolor": "white",
           "ticks": "",
           "title": {
            "standoff": 15
           },
           "zerolinecolor": "white",
           "zerolinewidth": 2
          }
         }
        }
       }
      },
      "text/html": [
       "<div>                            <div id=\"0ea6179b-3a1d-4294-8c37-8a6ffc1e9457\" class=\"plotly-graph-div\" style=\"height:525px; width:100%;\"></div>            <script type=\"text/javascript\">                require([\"plotly\"], function(Plotly) {                    window.PLOTLYENV=window.PLOTLYENV || {};                                    if (document.getElementById(\"0ea6179b-3a1d-4294-8c37-8a6ffc1e9457\")) {                    Plotly.newPlot(                        \"0ea6179b-3a1d-4294-8c37-8a6ffc1e9457\",                        [{\"marker\": {\"color\": \"rgb(255,0,0)\", \"size\": 10}, \"mode\": \"markers\", \"type\": \"scatter3d\", \"x\": [\"1\", \"2\", \"3\", \"4\", \"5\", \"6\", \"7\", \"8\", \"9\", \"9\", \"11\", \"12\", \"13\", \"14\", \"15\", \"16\", \"17\", \"18\", \"19\", \"20\", \"21\", \"22\", \"23\", \"24\", \"25\", \"26\", \"27\", \"28\", \"29\", \"29\", \"29\", \"32\", \"33\", \"34\", \"34\", \"36\", \"37\", \"38\", \"39\", \"40\", \"41\", \"42\", \"43\", \"44\", \"45\", \"46\", \"46\", \"48\", \"49\", \"50\", \"51\", \"52\", \"52\", \"54\", \"55\", \"55\", \"57\", \"58\", \"59\", \"60\", \"61\", \"61\", \"63\", \"64\", \"65\", \"66\", \"67\", \"68\", \"69\", \"70\", \"71\", \"72\", \"73\", \"74\", \"75\", \"75\", \"77\", \"78\", \"79\", \"80\", \"81\", \"82\", \"83\", \"83\", \"85\", \"86\", \"86\", \"88\", \"88\", \"90\", \"91\", \"91\", \"93\", \"94\", \"94\", \"96\", \"97\", \"98\", \"98\", \"98\", \"101\", \"102\", \"103\", \"103\", \"103\", \"103\", \"107\", \"107\", \"109\", \"109\", \"111\", \"111\", \"113\", \"113\", \"113\", \"116\", \"117\", \"118\", \"119\", \"120\", \"121\", \"121\", \"121\", \"124\", \"124\", \"126\", \"126\", \"126\", \"129\", \"130\", \"131\", \"132\", \"132\", \"132\", \"135\", \"136\", \"136\", \"138\", \"139\", \"140\", \"141\", \"141\", \"141\", \"144\", \"144\", \"146\", \"147\", \"148\", \"148\", \"150\", \"150\", \"152\", \"153\", \"154\", \"155\", \"156\", \"157\", \"157\", \"157\", \"160\", \"160\", \"162\", \"163\", \"164\", \"165\", \"165\", \"165\", \"165\", \"169\", \"170\", \"171\", \"171\", \"173\", \"173\", \"175\", \"175\", \"177\", \"178\", \"178\", \"180\", \"180\", \"182\", \"182\", \"182\", \"185\", \"186\", \"186\", \"188\", \"188\", \"188\", \"191\", \"192\", \"193\", \"193\", \"195\", \"196\", \"196\", \"198\", \"199\", \"200\", \"200\", \"201-225\", \"201-225\", \"201-225\", \"201-225\", \"201-225\", \"201-225\", \"201-225\", \"201-225\", \"201-225\", \"201-225\", \"201-225\", \"201-225\", \"201-225\", \"201-225\", \"201-225\", \"201-225\", \"201-225\", \"201-225\", \"201-225\", \"201-225\", \"201-225\", \"201-225\", \"201-225\", \"201-225\", \"201-225\", \"226-250\", \"226-250\", \"226-250\", \"226-250\", \"226-250\", \"226-250\", \"226-250\", \"226-250\", \"226-250\", \"226-250\", \"226-250\", \"226-250\", \"226-250\", \"226-250\", \"226-250\", \"226-250\", \"226-250\", \"226-250\", \"226-250\", \"226-250\", \"226-250\", \"226-250\", \"226-250\", \"226-250\", \"251-275\", \"251-275\", \"251-275\", \"251-275\", \"251-275\", \"251-275\", \"251-275\", \"251-275\", \"251-275\", \"251-275\", \"251-275\", \"251-275\", \"251-275\", \"251-275\", \"251-275\", \"251-275\", \"251-275\", \"251-275\", \"251-275\", \"251-275\", \"251-275\", \"251-275\", \"251-275\", \"251-275\", \"251-275\", \"276-300\", \"276-300\", \"276-300\", \"276-300\", \"276-300\", \"276-300\", \"276-300\", \"276-300\", \"276-300\", \"276-300\", \"276-300\", \"276-300\", \"276-300\", \"276-300\", \"276-300\", \"276-300\", \"276-300\", \"276-300\", \"276-300\", \"276-300\", \"276-300\", \"276-300\", \"276-300\", \"276-300\", \"276-300\", \"276-300\", \"276-300\", \"276-300\", \"301-350\", \"301-350\", \"301-350\", \"301-350\", \"301-350\", \"301-350\", \"301-350\", \"301-350\", \"301-350\", \"301-350\", \"301-350\", \"301-350\", \"301-350\", \"301-350\", \"301-350\", \"301-350\", \"301-350\", \"301-350\", \"301-350\", \"301-350\", \"301-350\", \"301-350\", \"301-350\", \"301-350\", \"301-350\", \"301-350\", \"301-350\", \"301-350\", \"301-350\", \"301-350\", \"301-350\", \"301-350\", \"301-350\", \"301-350\", \"301-350\", \"301-350\", \"301-350\", \"301-350\", \"301-350\", \"301-350\", \"301-350\", \"301-350\", \"301-350\", \"301-350\", \"301-350\", \"301-350\", \"301-350\", \"301-350\", \"351-400\", \"351-400\", \"351-400\", \"351-400\", \"351-400\", \"351-400\", \"351-400\", \"351-400\", \"351-400\", \"351-400\", \"351-400\", \"351-400\", \"351-400\", \"351-400\", \"351-400\", \"351-400\", \"351-400\", \"351-400\", \"351-400\", \"351-400\", \"351-400\", \"351-400\", \"351-400\", \"351-400\", \"351-400\", \"351-400\", \"351-400\", \"351-400\", \"351-400\", \"351-400\", \"351-400\", \"351-400\", \"351-400\", \"351-400\", \"351-400\", \"351-400\", \"351-400\", \"351-400\", \"351-400\", \"351-400\", \"351-400\", \"351-400\", \"351-400\", \"351-400\", \"351-400\", \"351-400\", \"351-400\", \"351-400\", \"351-400\", \"351-400\"], \"y\": [98.1, 98.6, 97.7, 96.7, 95.6, 88.2, 94.7, 96.7, 88.3, 90.8, 89.9, 90.5, 90.2, 79.4, 84.2, 82.0, 86.5, 75.2, 83.8, 85.1, 78.9, 80.4, 85.1, 74.9, 78.1, 68.9, 71.2, 72.0, 69.1, 79.0, 71.3, 69.0, 70.9, 74.2, 56.9, 62.9, 61.4, 62.4, 69.9, 62.3, 66.6, 55.2, 72.6, 68.0, 70.9, 64.7, 58.6, 61.9, 68.3, 77.1, 66.8, 63.2, 58.7, 54.2, 63.6, 59.7, 46.7, 64.8, 68.4, 60.8, 55.9, 47.1, 46.0, 58.2, 58.4, 49.3, 48.0, 51.1, 37.1, 45.4, 71.4, 53.7, 46.8, 44.7, 41.1, 44.6, 55.4, 36.2, 54.8, 52.6, 58.0, 49.4, 40.7, 54.4, 36.9, 51.4, 38.5, 33.9, 41.7, 51.6, 49.1, 46.3, 32.4, 43.2, 40.5, 38.2, 38.3, 45.0, 37.4, 53.0, 48.1, 50.5, 30.0, 48.1, 45.8, 33.1, 32.9, 37.2, 31.9, 51.9, 35.9, 30.4, 44.4, 44.7, 33.8, 37.4, 50.8, 22.4, 48.5, 33.1, 28.2, 29.2, 39.1, 47.1, 35.3, 29.1, 44.8, 52.1, 53.5, 35.9, 36.1, 36.9, 39.1, 34.1, 42.0, 39.9, 43.2, 30.3, 27.6, 46.7, 26.7, 51.9, 52.9, 47.1, 45.3, 39.1, 29.1, 50.2, 39.8, 35.1, 27.5, 35.4, 47.5, 32.7, 57.3, 29.9, 48.0, 33.2, 38.1, 34.4, 33.8, 36.5, 28.1, 40.4, 36.9, 34.9, 28.3, 47.3, 27.2, 33.6, 35.8, 34.9, 28.2, 30.6, 33.4, 33.5, 24.4, 29.3, 30.2, 19.7, 36.3, 37.5, 27.1, 39.7, 21.9, 35.2, 23.9, 24.4, 51.1, 34.7, 39.8, 32.9, 34.0, 30.9, 22.2, 42.1, 27.3, 22.6, 31.6, 13.1, 25.1, 27.7, 30.4, 22.4, 36.3, 36.5, 44.3, 29.6, 37.5, 22.0, 28.8, 27.9, 22.5, 34.1, 17.1, 34.0, 27.3, 23.4, 51.6, 28.2, 16.0, 45.3, 36.2, 23.5, 19.9, 45.8, 29.2, 29.3, 21.4, 24.5, 30.0, 29.9, 23.2, 31.8, 26.2, 29.3, 35.0, 32.3, 9.8, 28.1, 30.5, 38.2, 24.3, 33.4, 23.0, 32.5, 35.7, 17.3, 32.4, 35.3, 31.3, 10.1, 17.0, 23.3, 40.3, 24.8, 33.4, 25.1, 25.2, 33.7, 27.6, 30.7, 24.7, 18.1, 23.4, 29.9, 27.7, 19.2, 25.6, 37.9, 12.1, 21.7, 20.3, 20.3, 40.4, 32.8, 31.3, 39.5, 25.5, 22.5, 40.7, 29.6, 10.5, 18.1, 36.0, 37.9, 31.2, 45.1, 22.9, 22.2, 23.2, 22.4, 15.3, 19.7, 28.9, 20.3, 22.9, 24.4, 24.0, 27.5, 27.8, 28.5, 40.0, 19.3, 23.0, 17.8, 24.3, 10.4, 20.6, 14.3, 13.2, 17.3, 16.5, 24.4, 24.8, 17.2, 21.1, 26.6, 14.7, 24.8, 28.1, 34.7, 38.8, 25.2, 20.7, 25.1, 23.4, 18.4, 27.1, 16.8, 13.7, 29.0, 25.8, 24.0, 20.1, 29.4, 6.5, 13.7, 16.5, 15.7, 18.2, 18.8, 20.5, 25.1, 17.3, 22.2, 21.6, 12.0, 13.6, 15.2, 33.1, 28.5, 20.6, 21.6, 12.9, 19.1, 17.2, 17.1, 18.0, 20.3, 32.3, 27.5, 24.6, 14.3, 27.3, 10.0, 28.5, 16.6, 27.6, 17.8, 40.1, 32.9, 42.6, 18.9, 22.5, 16.3, 16.9, 25.7, 18.1, 21.6, 15.2, 17.3, 17.3, 10.9, 22.8, 18.4, 16.2, 22.0, 22.3, 10.6, 11.8, 20.2, 21.8, 19.4, 17.0, 17.9, 16.3, 27.5, 22.4, 17.4, 8.0], \"z\": [99.7, 98.9, 95.5, 99.1, 95.2, 100.0, 99.6, 99.1, 89.4, 94.0, 97.3, 95.3, 83.5, 95.3, 93.6, 94.4, 88.9, 96.6, 91.5, 83.0, 96.9, 85.1, 74.7, 92.0, 66.0, 95.0, 85.8, 91.5, 83.0, 77.8, 87.7, 85.3, 80.6, 71.3, 95.0, 88.3, 99.2, 89.5, 76.0, 88.3, 96.4, 97.1, 65.1, 76.8, 71.1, 82.9, 91.0, 63.7, 65.0, 48.7, 72.9, 71.4, 74.3, 92.0, 71.8, 80.4, 94.4, 76.0, 57.0, 69.0, 75.9, 79.9, 96.4, 82.3, 74.2, 84.4, 92.3, 80.4, 99.9, 81.4, 42.6, 82.3, 77.5, 85.1, 81.4, 81.3, 76.6, 84.8, 80.0, 71.9, 67.6, 74.0, 88.9, 65.7, 92.0, 74.0, 90.0, 92.9, 89.5, 73.8, 78.7, 84.4, 89.5, 78.8, 83.7, 87.7, 97.4, 90.9, 78.8, 70.9, 70.1, 62.2, 83.3, 79.0, 68.2, 81.4, 88.9, 78.2, 100.0, 61.1, 81.4, 92.8, 62.9, 74.0, 90.5, 82.9, 68.1, 98.9, 74.9, 87.7, 79.6, 87.7, 74.3, 61.8, 86.6, 95.9, 55.1, 62.2, 57.8, 76.9, 78.0, 70.1, 83.6, 79.7, 70.8, 76.5, 74.9, 77.6, 96.8, 73.9, 97.1, 55.1, 48.1, 57.3, 71.0, 69.3, 95.3, 51.7, 62.7, 73.1, 91.5, 80.4, 66.5, 78.0, 47.7, 75.0, 51.1, 76.2, 62.2, 73.5, 73.0, 75.0, 74.0, 61.1, 79.7, 62.9, 88.3, 49.6, 73.1, 67.7, 62.7, 67.7, 62.2, 86.7, 68.4, 71.0, 87.1, 73.0, 74.3, 92.2, 73.1, 73.1, 88.5, 56.3, 81.3, 66.3, 77.8, 80.4, 45.5, 62.9, 57.5, 68.6, 61.0, 72.0, 83.8, 33.8, 86.4, 83.7, 67.1, 99.2, 70.0, 76.0, 69.3, 78.8, 57.2, 56.5, 39.9, 70.3, 52.0, 73.0, 79.7, 68.5, 84.4, 55.1, 77.0, 58.1, 73.6, 74.0, 32.3, 77.8, 88.1, 49.4, 64.4, 81.3, 78.7, 44.3, 67.0, 60.4, 75.3, 76.9, 54.4, 58.1, 55.1, 59.9, 67.8, 67.6, 68.9, 47.0, 100.0, 61.7, 59.4, 64.4, 70.8, 59.4, 76.6, 58.7, 47.0, 81.4, 41.7, 62.9, 50.2, 99.7, 71.1, 59.6, 49.1, 62.8, 48.2, 52.2, 59.9, 42.0, 55.7, 51.5, 74.8, 73.0, 73.1, 57.5, 57.6, 75.6, 64.5, 55.1, 89.8, 67.3, 70.3, 72.5, 47.0, 40.8, 59.9, 51.6, 59.9, 67.4, 40.4, 49.6, 84.4, 80.5, 42.9, 38.9, 45.6, 34.9, 51.1, 56.9, 64.5, 67.8, 68.7, 58.6, 46.6, 68.1, 66.9, 57.5, 52.7, 55.1, 55.1, 53.8, 40.7, 59.7, 55.8, 64.5, 50.1, 63.3, 57.5, 57.5, 70.8, 50.3, 61.0, 58.5, 50.2, 70.5, 63.3, 55.8, 59.6, 65.6, 50.7, 50.4, 28.0, 54.1, 53.9, 47.5, 53.8, 65.3, 45.4, 67.0, 64.1, 39.3, 44.2, 50.2, 62.2, 48.2, 83.0, 75.0, 51.5, 57.5, 68.0, 69.2, 61.2, 49.9, 56.9, 58.7, 51.1, 72.7, 70.0, 61.0, 40.2, 39.9, 52.2, 45.1, 61.8, 52.0, 62.6, 45.3, 57.6, 53.9, 29.0, 32.2, 43.5, 62.6, 48.9, 75.0, 33.6, 56.3, 51.5, 46.5, 28.4, 39.0, 30.9, 43.5, 42.0, 50.2, 53.2, 52.7, 52.0, 53.8, 64.5, 60.8, 55.1, 65.0, 44.8, 44.6, 60.6, 46.6, 41.7, 61.6, 62.1, 63.3, 47.7, 57.5, 50.0, 48.1, 55.5, 44.2, 58.7, 48.5, 75.8]}],                        {\"margin\": {\"b\": 0, \"l\": 0, \"r\": 0, \"t\": 0}, \"template\": {\"data\": {\"bar\": [{\"error_x\": {\"color\": \"#2a3f5f\"}, \"error_y\": {\"color\": \"#2a3f5f\"}, \"marker\": {\"line\": {\"color\": \"#E5ECF6\", \"width\": 0.5}}, \"type\": \"bar\"}], \"barpolar\": [{\"marker\": {\"line\": {\"color\": \"#E5ECF6\", \"width\": 0.5}}, \"type\": \"barpolar\"}], \"carpet\": [{\"aaxis\": {\"endlinecolor\": \"#2a3f5f\", \"gridcolor\": \"white\", \"linecolor\": \"white\", \"minorgridcolor\": \"white\", \"startlinecolor\": \"#2a3f5f\"}, \"baxis\": {\"endlinecolor\": \"#2a3f5f\", \"gridcolor\": \"white\", \"linecolor\": \"white\", \"minorgridcolor\": \"white\", \"startlinecolor\": \"#2a3f5f\"}, \"type\": \"carpet\"}], \"choropleth\": [{\"colorbar\": {\"outlinewidth\": 0, \"ticks\": \"\"}, \"type\": \"choropleth\"}], \"contour\": [{\"colorbar\": {\"outlinewidth\": 0, \"ticks\": \"\"}, \"colorscale\": [[0.0, \"#0d0887\"], [0.1111111111111111, \"#46039f\"], [0.2222222222222222, \"#7201a8\"], [0.3333333333333333, \"#9c179e\"], [0.4444444444444444, \"#bd3786\"], [0.5555555555555556, \"#d8576b\"], [0.6666666666666666, \"#ed7953\"], [0.7777777777777778, \"#fb9f3a\"], [0.8888888888888888, \"#fdca26\"], [1.0, \"#f0f921\"]], \"type\": \"contour\"}], \"contourcarpet\": [{\"colorbar\": {\"outlinewidth\": 0, \"ticks\": \"\"}, \"type\": \"contourcarpet\"}], \"heatmap\": [{\"colorbar\": {\"outlinewidth\": 0, \"ticks\": \"\"}, \"colorscale\": [[0.0, \"#0d0887\"], [0.1111111111111111, \"#46039f\"], [0.2222222222222222, \"#7201a8\"], [0.3333333333333333, \"#9c179e\"], [0.4444444444444444, \"#bd3786\"], [0.5555555555555556, \"#d8576b\"], [0.6666666666666666, \"#ed7953\"], [0.7777777777777778, \"#fb9f3a\"], [0.8888888888888888, \"#fdca26\"], [1.0, \"#f0f921\"]], \"type\": \"heatmap\"}], \"heatmapgl\": [{\"colorbar\": {\"outlinewidth\": 0, \"ticks\": \"\"}, \"colorscale\": [[0.0, \"#0d0887\"], [0.1111111111111111, \"#46039f\"], [0.2222222222222222, \"#7201a8\"], [0.3333333333333333, \"#9c179e\"], [0.4444444444444444, \"#bd3786\"], [0.5555555555555556, \"#d8576b\"], [0.6666666666666666, \"#ed7953\"], [0.7777777777777778, \"#fb9f3a\"], [0.8888888888888888, \"#fdca26\"], [1.0, \"#f0f921\"]], \"type\": \"heatmapgl\"}], \"histogram\": [{\"marker\": {\"colorbar\": {\"outlinewidth\": 0, \"ticks\": \"\"}}, \"type\": \"histogram\"}], \"histogram2d\": [{\"colorbar\": {\"outlinewidth\": 0, \"ticks\": \"\"}, \"colorscale\": [[0.0, \"#0d0887\"], [0.1111111111111111, \"#46039f\"], [0.2222222222222222, \"#7201a8\"], [0.3333333333333333, \"#9c179e\"], [0.4444444444444444, \"#bd3786\"], [0.5555555555555556, \"#d8576b\"], [0.6666666666666666, \"#ed7953\"], [0.7777777777777778, \"#fb9f3a\"], [0.8888888888888888, \"#fdca26\"], [1.0, \"#f0f921\"]], \"type\": \"histogram2d\"}], \"histogram2dcontour\": [{\"colorbar\": {\"outlinewidth\": 0, \"ticks\": \"\"}, \"colorscale\": [[0.0, \"#0d0887\"], [0.1111111111111111, \"#46039f\"], [0.2222222222222222, \"#7201a8\"], [0.3333333333333333, \"#9c179e\"], [0.4444444444444444, \"#bd3786\"], [0.5555555555555556, \"#d8576b\"], [0.6666666666666666, \"#ed7953\"], [0.7777777777777778, \"#fb9f3a\"], [0.8888888888888888, \"#fdca26\"], [1.0, \"#f0f921\"]], \"type\": \"histogram2dcontour\"}], \"mesh3d\": [{\"colorbar\": {\"outlinewidth\": 0, \"ticks\": \"\"}, \"type\": \"mesh3d\"}], \"parcoords\": [{\"line\": {\"colorbar\": {\"outlinewidth\": 0, \"ticks\": \"\"}}, \"type\": \"parcoords\"}], \"pie\": [{\"automargin\": true, \"type\": \"pie\"}], \"scatter\": [{\"marker\": {\"colorbar\": {\"outlinewidth\": 0, \"ticks\": \"\"}}, \"type\": \"scatter\"}], \"scatter3d\": [{\"line\": {\"colorbar\": {\"outlinewidth\": 0, \"ticks\": \"\"}}, \"marker\": {\"colorbar\": {\"outlinewidth\": 0, \"ticks\": \"\"}}, \"type\": \"scatter3d\"}], \"scattercarpet\": [{\"marker\": {\"colorbar\": {\"outlinewidth\": 0, \"ticks\": \"\"}}, \"type\": \"scattercarpet\"}], \"scattergeo\": [{\"marker\": {\"colorbar\": {\"outlinewidth\": 0, \"ticks\": \"\"}}, \"type\": \"scattergeo\"}], \"scattergl\": [{\"marker\": {\"colorbar\": {\"outlinewidth\": 0, \"ticks\": \"\"}}, \"type\": \"scattergl\"}], \"scattermapbox\": [{\"marker\": {\"colorbar\": {\"outlinewidth\": 0, \"ticks\": \"\"}}, \"type\": \"scattermapbox\"}], \"scatterpolar\": [{\"marker\": {\"colorbar\": {\"outlinewidth\": 0, \"ticks\": \"\"}}, \"type\": \"scatterpolar\"}], \"scatterpolargl\": [{\"marker\": {\"colorbar\": {\"outlinewidth\": 0, \"ticks\": \"\"}}, \"type\": \"scatterpolargl\"}], \"scatterternary\": [{\"marker\": {\"colorbar\": {\"outlinewidth\": 0, \"ticks\": \"\"}}, \"type\": \"scatterternary\"}], \"surface\": [{\"colorbar\": {\"outlinewidth\": 0, \"ticks\": \"\"}, \"colorscale\": [[0.0, \"#0d0887\"], [0.1111111111111111, \"#46039f\"], [0.2222222222222222, \"#7201a8\"], [0.3333333333333333, \"#9c179e\"], [0.4444444444444444, \"#bd3786\"], [0.5555555555555556, \"#d8576b\"], [0.6666666666666666, \"#ed7953\"], [0.7777777777777778, \"#fb9f3a\"], [0.8888888888888888, \"#fdca26\"], [1.0, \"#f0f921\"]], \"type\": \"surface\"}], \"table\": [{\"cells\": {\"fill\": {\"color\": \"#EBF0F8\"}, \"line\": {\"color\": \"white\"}}, \"header\": {\"fill\": {\"color\": \"#C8D4E3\"}, \"line\": {\"color\": \"white\"}}, \"type\": \"table\"}]}, \"layout\": {\"annotationdefaults\": {\"arrowcolor\": \"#2a3f5f\", \"arrowhead\": 0, \"arrowwidth\": 1}, \"autotypenumbers\": \"strict\", \"coloraxis\": {\"colorbar\": {\"outlinewidth\": 0, \"ticks\": \"\"}}, \"colorscale\": {\"diverging\": [[0, \"#8e0152\"], [0.1, \"#c51b7d\"], [0.2, \"#de77ae\"], [0.3, \"#f1b6da\"], [0.4, \"#fde0ef\"], [0.5, \"#f7f7f7\"], [0.6, \"#e6f5d0\"], [0.7, \"#b8e186\"], [0.8, \"#7fbc41\"], [0.9, \"#4d9221\"], [1, \"#276419\"]], \"sequential\": [[0.0, \"#0d0887\"], [0.1111111111111111, \"#46039f\"], [0.2222222222222222, \"#7201a8\"], [0.3333333333333333, \"#9c179e\"], [0.4444444444444444, \"#bd3786\"], [0.5555555555555556, \"#d8576b\"], [0.6666666666666666, \"#ed7953\"], [0.7777777777777778, \"#fb9f3a\"], [0.8888888888888888, \"#fdca26\"], [1.0, \"#f0f921\"]], \"sequentialminus\": [[0.0, \"#0d0887\"], [0.1111111111111111, \"#46039f\"], [0.2222222222222222, \"#7201a8\"], [0.3333333333333333, \"#9c179e\"], [0.4444444444444444, \"#bd3786\"], [0.5555555555555556, \"#d8576b\"], [0.6666666666666666, \"#ed7953\"], [0.7777777777777778, \"#fb9f3a\"], [0.8888888888888888, \"#fdca26\"], [1.0, \"#f0f921\"]]}, \"colorway\": [\"#636efa\", \"#EF553B\", \"#00cc96\", \"#ab63fa\", \"#FFA15A\", \"#19d3f3\", \"#FF6692\", \"#B6E880\", \"#FF97FF\", \"#FECB52\"], \"font\": {\"color\": \"#2a3f5f\"}, \"geo\": {\"bgcolor\": \"white\", \"lakecolor\": \"white\", \"landcolor\": \"#E5ECF6\", \"showlakes\": true, \"showland\": true, \"subunitcolor\": \"white\"}, \"hoverlabel\": {\"align\": \"left\"}, \"hovermode\": \"closest\", \"mapbox\": {\"style\": \"light\"}, \"paper_bgcolor\": \"white\", \"plot_bgcolor\": \"#E5ECF6\", \"polar\": {\"angularaxis\": {\"gridcolor\": \"white\", \"linecolor\": \"white\", \"ticks\": \"\"}, \"bgcolor\": \"#E5ECF6\", \"radialaxis\": {\"gridcolor\": \"white\", \"linecolor\": \"white\", \"ticks\": \"\"}}, \"scene\": {\"xaxis\": {\"backgroundcolor\": \"#E5ECF6\", \"gridcolor\": \"white\", \"gridwidth\": 2, \"linecolor\": \"white\", \"showbackground\": true, \"ticks\": \"\", \"zerolinecolor\": \"white\"}, \"yaxis\": {\"backgroundcolor\": \"#E5ECF6\", \"gridcolor\": \"white\", \"gridwidth\": 2, \"linecolor\": \"white\", \"showbackground\": true, \"ticks\": \"\", \"zerolinecolor\": \"white\"}, \"zaxis\": {\"backgroundcolor\": \"#E5ECF6\", \"gridcolor\": \"white\", \"gridwidth\": 2, \"linecolor\": \"white\", \"showbackground\": true, \"ticks\": \"\", \"zerolinecolor\": \"white\"}}, \"shapedefaults\": {\"line\": {\"color\": \"#2a3f5f\"}}, \"ternary\": {\"aaxis\": {\"gridcolor\": \"white\", \"linecolor\": \"white\", \"ticks\": \"\"}, \"baxis\": {\"gridcolor\": \"white\", \"linecolor\": \"white\", \"ticks\": \"\"}, \"bgcolor\": \"#E5ECF6\", \"caxis\": {\"gridcolor\": \"white\", \"linecolor\": \"white\", \"ticks\": \"\"}}, \"title\": {\"x\": 0.05}, \"xaxis\": {\"automargin\": true, \"gridcolor\": \"white\", \"linecolor\": \"white\", \"ticks\": \"\", \"title\": {\"standoff\": 15}, \"zerolinecolor\": \"white\", \"zerolinewidth\": 2}, \"yaxis\": {\"automargin\": true, \"gridcolor\": \"white\", \"linecolor\": \"white\", \"ticks\": \"\", \"title\": {\"standoff\": 15}, \"zerolinecolor\": \"white\", \"zerolinewidth\": 2}}}},                        {\"responsive\": true}                    ).then(function(){\n",
       "                            \n",
       "var gd = document.getElementById('0ea6179b-3a1d-4294-8c37-8a6ffc1e9457');\n",
       "var x = new MutationObserver(function (mutations, observer) {{\n",
       "        var display = window.getComputedStyle(gd).display;\n",
       "        if (!display || display === 'none') {{\n",
       "            console.log([gd, 'removed!']);\n",
       "            Plotly.purge(gd);\n",
       "            observer.disconnect();\n",
       "        }}\n",
       "}});\n",
       "\n",
       "// Listen for the removal of the full notebook cells\n",
       "var notebookContainer = gd.closest('#notebook-container');\n",
       "if (notebookContainer) {{\n",
       "    x.observe(notebookContainer, {childList: true});\n",
       "}}\n",
       "\n",
       "// Listen for the clearing of the current output cell\n",
       "var outputEl = gd.closest('.output');\n",
       "if (outputEl) {{\n",
       "    x.observe(outputEl, {childList: true});\n",
       "}}\n",
       "\n",
       "                        })                };                });            </script>        </div>"
      ]
     },
     "metadata": {},
     "output_type": "display_data"
    }
   ],
   "source": [
    "# create trace 1 that is 3d scatter\n",
    "trace1 = go.Scatter3d(\n",
    "    x=dataframe.world_rank,\n",
    "    y=dataframe.research,\n",
    "    z=dataframe.citations,\n",
    "    mode='markers',\n",
    "    marker=dict(\n",
    "        size=10,\n",
    "        color='rgb(255,0,0)',                # set color to an array/list of desired values      \n",
    "    )\n",
    ")\n",
    "\n",
    "data = [trace1]\n",
    "layout = go.Layout(\n",
    "    margin=dict(\n",
    "        l=0,\n",
    "        r=0,\n",
    "        b=0,\n",
    "        t=0  \n",
    "    )\n",
    "    \n",
    ")\n",
    "fig = go.Figure(data=data, layout=layout)\n",
    "iplot(fig)"
   ]
  },
  {
   "cell_type": "markdown",
   "metadata": {},
   "source": [
    "## Multiple Subplots:"
   ]
  },
  {
   "cell_type": "code",
   "execution_count": 21,
   "metadata": {},
   "outputs": [
    {
     "data": {
      "application/vnd.plotly.v1+json": {
       "config": {
        "linkText": "Export to plot.ly",
        "plotlyServerURL": "https://plot.ly",
        "showLink": false
       },
       "data": [
        {
         "name": "research",
         "type": "scatter",
         "x": [
          "1",
          "2",
          "3",
          "4",
          "5",
          "6",
          "7",
          "8",
          "9",
          "9",
          "11",
          "12",
          "13",
          "14",
          "15",
          "16",
          "17",
          "18",
          "19",
          "20",
          "21",
          "22",
          "23",
          "24",
          "25",
          "26",
          "27",
          "28",
          "29",
          "29",
          "29",
          "32",
          "33",
          "34",
          "34",
          "36",
          "37",
          "38",
          "39",
          "40",
          "41",
          "42",
          "43",
          "44",
          "45",
          "46",
          "46",
          "48",
          "49",
          "50",
          "51",
          "52",
          "52",
          "54",
          "55",
          "55",
          "57",
          "58",
          "59",
          "60",
          "61",
          "61",
          "63",
          "64",
          "65",
          "66",
          "67",
          "68",
          "69",
          "70",
          "71",
          "72",
          "73",
          "74",
          "75",
          "75",
          "77",
          "78",
          "79",
          "80",
          "81",
          "82",
          "83",
          "83",
          "85",
          "86",
          "86",
          "88",
          "88",
          "90",
          "91",
          "91",
          "93",
          "94",
          "94",
          "96",
          "97",
          "98",
          "98",
          "98",
          "101",
          "102",
          "103",
          "103",
          "103",
          "103",
          "107",
          "107",
          "109",
          "109",
          "111",
          "111",
          "113",
          "113",
          "113",
          "116",
          "117",
          "118",
          "119",
          "120",
          "121",
          "121",
          "121",
          "124",
          "124",
          "126",
          "126",
          "126",
          "129",
          "130",
          "131",
          "132",
          "132",
          "132",
          "135",
          "136",
          "136",
          "138",
          "139",
          "140",
          "141",
          "141",
          "141",
          "144",
          "144",
          "146",
          "147",
          "148",
          "148",
          "150",
          "150",
          "152",
          "153",
          "154",
          "155",
          "156",
          "157",
          "157",
          "157",
          "160",
          "160",
          "162",
          "163",
          "164",
          "165",
          "165",
          "165",
          "165",
          "169",
          "170",
          "171",
          "171",
          "173",
          "173",
          "175",
          "175",
          "177",
          "178",
          "178",
          "180",
          "180",
          "182",
          "182",
          "182",
          "185",
          "186",
          "186",
          "188",
          "188",
          "188",
          "191",
          "192",
          "193",
          "193",
          "195",
          "196",
          "196",
          "198",
          "199",
          "200",
          "200",
          "201-225",
          "201-225",
          "201-225",
          "201-225",
          "201-225",
          "201-225",
          "201-225",
          "201-225",
          "201-225",
          "201-225",
          "201-225",
          "201-225",
          "201-225",
          "201-225",
          "201-225",
          "201-225",
          "201-225",
          "201-225",
          "201-225",
          "201-225",
          "201-225",
          "201-225",
          "201-225",
          "201-225",
          "201-225",
          "226-250",
          "226-250",
          "226-250",
          "226-250",
          "226-250",
          "226-250",
          "226-250",
          "226-250",
          "226-250",
          "226-250",
          "226-250",
          "226-250",
          "226-250",
          "226-250",
          "226-250",
          "226-250",
          "226-250",
          "226-250",
          "226-250",
          "226-250",
          "226-250",
          "226-250",
          "226-250",
          "226-250",
          "251-275",
          "251-275",
          "251-275",
          "251-275",
          "251-275",
          "251-275",
          "251-275",
          "251-275",
          "251-275",
          "251-275",
          "251-275",
          "251-275",
          "251-275",
          "251-275",
          "251-275",
          "251-275",
          "251-275",
          "251-275",
          "251-275",
          "251-275",
          "251-275",
          "251-275",
          "251-275",
          "251-275",
          "251-275",
          "276-300",
          "276-300",
          "276-300",
          "276-300",
          "276-300",
          "276-300",
          "276-300",
          "276-300",
          "276-300",
          "276-300",
          "276-300",
          "276-300",
          "276-300",
          "276-300",
          "276-300",
          "276-300",
          "276-300",
          "276-300",
          "276-300",
          "276-300",
          "276-300",
          "276-300",
          "276-300",
          "276-300",
          "276-300",
          "276-300",
          "276-300",
          "276-300",
          "301-350",
          "301-350",
          "301-350",
          "301-350",
          "301-350",
          "301-350",
          "301-350",
          "301-350",
          "301-350",
          "301-350",
          "301-350",
          "301-350",
          "301-350",
          "301-350",
          "301-350",
          "301-350",
          "301-350",
          "301-350",
          "301-350",
          "301-350",
          "301-350",
          "301-350",
          "301-350",
          "301-350",
          "301-350",
          "301-350",
          "301-350",
          "301-350",
          "301-350",
          "301-350",
          "301-350",
          "301-350",
          "301-350",
          "301-350",
          "301-350",
          "301-350",
          "301-350",
          "301-350",
          "301-350",
          "301-350",
          "301-350",
          "301-350",
          "301-350",
          "301-350",
          "301-350",
          "301-350",
          "301-350",
          "301-350",
          "351-400",
          "351-400",
          "351-400",
          "351-400",
          "351-400",
          "351-400",
          "351-400",
          "351-400",
          "351-400",
          "351-400",
          "351-400",
          "351-400",
          "351-400",
          "351-400",
          "351-400",
          "351-400",
          "351-400",
          "351-400",
          "351-400",
          "351-400",
          "351-400",
          "351-400",
          "351-400",
          "351-400",
          "351-400",
          "351-400",
          "351-400",
          "351-400",
          "351-400",
          "351-400",
          "351-400",
          "351-400",
          "351-400",
          "351-400",
          "351-400",
          "351-400",
          "351-400",
          "351-400",
          "351-400",
          "351-400",
          "351-400",
          "351-400",
          "351-400",
          "351-400",
          "351-400",
          "351-400",
          "351-400",
          "351-400",
          "351-400",
          "351-400"
         ],
         "y": [
          98.1,
          98.6,
          97.7,
          96.7,
          95.6,
          88.2,
          94.7,
          96.7,
          88.3,
          90.8,
          89.9,
          90.5,
          90.2,
          79.4,
          84.2,
          82,
          86.5,
          75.2,
          83.8,
          85.1,
          78.9,
          80.4,
          85.1,
          74.9,
          78.1,
          68.9,
          71.2,
          72,
          69.1,
          79,
          71.3,
          69,
          70.9,
          74.2,
          56.9,
          62.9,
          61.4,
          62.4,
          69.9,
          62.3,
          66.6,
          55.2,
          72.6,
          68,
          70.9,
          64.7,
          58.6,
          61.9,
          68.3,
          77.1,
          66.8,
          63.2,
          58.7,
          54.2,
          63.6,
          59.7,
          46.7,
          64.8,
          68.4,
          60.8,
          55.9,
          47.1,
          46,
          58.2,
          58.4,
          49.3,
          48,
          51.1,
          37.1,
          45.4,
          71.4,
          53.7,
          46.8,
          44.7,
          41.1,
          44.6,
          55.4,
          36.2,
          54.8,
          52.6,
          58,
          49.4,
          40.7,
          54.4,
          36.9,
          51.4,
          38.5,
          33.9,
          41.7,
          51.6,
          49.1,
          46.3,
          32.4,
          43.2,
          40.5,
          38.2,
          38.3,
          45,
          37.4,
          53,
          48.1,
          50.5,
          30,
          48.1,
          45.8,
          33.1,
          32.9,
          37.2,
          31.9,
          51.9,
          35.9,
          30.4,
          44.4,
          44.7,
          33.8,
          37.4,
          50.8,
          22.4,
          48.5,
          33.1,
          28.2,
          29.2,
          39.1,
          47.1,
          35.3,
          29.1,
          44.8,
          52.1,
          53.5,
          35.9,
          36.1,
          36.9,
          39.1,
          34.1,
          42,
          39.9,
          43.2,
          30.3,
          27.6,
          46.7,
          26.7,
          51.9,
          52.9,
          47.1,
          45.3,
          39.1,
          29.1,
          50.2,
          39.8,
          35.1,
          27.5,
          35.4,
          47.5,
          32.7,
          57.3,
          29.9,
          48,
          33.2,
          38.1,
          34.4,
          33.8,
          36.5,
          28.1,
          40.4,
          36.9,
          34.9,
          28.3,
          47.3,
          27.2,
          33.6,
          35.8,
          34.9,
          28.2,
          30.6,
          33.4,
          33.5,
          24.4,
          29.3,
          30.2,
          19.7,
          36.3,
          37.5,
          27.1,
          39.7,
          21.9,
          35.2,
          23.9,
          24.4,
          51.1,
          34.7,
          39.8,
          32.9,
          34,
          30.9,
          22.2,
          42.1,
          27.3,
          22.6,
          31.6,
          13.1,
          25.1,
          27.7,
          30.4,
          22.4,
          36.3,
          36.5,
          44.3,
          29.6,
          37.5,
          22,
          28.8,
          27.9,
          22.5,
          34.1,
          17.1,
          34,
          27.3,
          23.4,
          51.6,
          28.2,
          16,
          45.3,
          36.2,
          23.5,
          19.9,
          45.8,
          29.2,
          29.3,
          21.4,
          24.5,
          30,
          29.9,
          23.2,
          31.8,
          26.2,
          29.3,
          35,
          32.3,
          9.8,
          28.1,
          30.5,
          38.2,
          24.3,
          33.4,
          23,
          32.5,
          35.7,
          17.3,
          32.4,
          35.3,
          31.3,
          10.1,
          17,
          23.3,
          40.3,
          24.8,
          33.4,
          25.1,
          25.2,
          33.7,
          27.6,
          30.7,
          24.7,
          18.1,
          23.4,
          29.9,
          27.7,
          19.2,
          25.6,
          37.9,
          12.1,
          21.7,
          20.3,
          20.3,
          40.4,
          32.8,
          31.3,
          39.5,
          25.5,
          22.5,
          40.7,
          29.6,
          10.5,
          18.1,
          36,
          37.9,
          31.2,
          45.1,
          22.9,
          22.2,
          23.2,
          22.4,
          15.3,
          19.7,
          28.9,
          20.3,
          22.9,
          24.4,
          24,
          27.5,
          27.8,
          28.5,
          40,
          19.3,
          23,
          17.8,
          24.3,
          10.4,
          20.6,
          14.3,
          13.2,
          17.3,
          16.5,
          24.4,
          24.8,
          17.2,
          21.1,
          26.6,
          14.7,
          24.8,
          28.1,
          34.7,
          38.8,
          25.2,
          20.7,
          25.1,
          23.4,
          18.4,
          27.1,
          16.8,
          13.7,
          29,
          25.8,
          24,
          20.1,
          29.4,
          6.5,
          13.7,
          16.5,
          15.7,
          18.2,
          18.8,
          20.5,
          25.1,
          17.3,
          22.2,
          21.6,
          12,
          13.6,
          15.2,
          33.1,
          28.5,
          20.6,
          21.6,
          12.9,
          19.1,
          17.2,
          17.1,
          18,
          20.3,
          32.3,
          27.5,
          24.6,
          14.3,
          27.3,
          10,
          28.5,
          16.6,
          27.6,
          17.8,
          40.1,
          32.9,
          42.6,
          18.9,
          22.5,
          16.3,
          16.9,
          25.7,
          18.1,
          21.6,
          15.2,
          17.3,
          17.3,
          10.9,
          22.8,
          18.4,
          16.2,
          22,
          22.3,
          10.6,
          11.8,
          20.2,
          21.8,
          19.4,
          17,
          17.9,
          16.3,
          27.5,
          22.4,
          17.4,
          8
         ]
        },
        {
         "name": "citations",
         "type": "scatter",
         "x": [
          "1",
          "2",
          "3",
          "4",
          "5",
          "6",
          "7",
          "8",
          "9",
          "9",
          "11",
          "12",
          "13",
          "14",
          "15",
          "16",
          "17",
          "18",
          "19",
          "20",
          "21",
          "22",
          "23",
          "24",
          "25",
          "26",
          "27",
          "28",
          "29",
          "29",
          "29",
          "32",
          "33",
          "34",
          "34",
          "36",
          "37",
          "38",
          "39",
          "40",
          "41",
          "42",
          "43",
          "44",
          "45",
          "46",
          "46",
          "48",
          "49",
          "50",
          "51",
          "52",
          "52",
          "54",
          "55",
          "55",
          "57",
          "58",
          "59",
          "60",
          "61",
          "61",
          "63",
          "64",
          "65",
          "66",
          "67",
          "68",
          "69",
          "70",
          "71",
          "72",
          "73",
          "74",
          "75",
          "75",
          "77",
          "78",
          "79",
          "80",
          "81",
          "82",
          "83",
          "83",
          "85",
          "86",
          "86",
          "88",
          "88",
          "90",
          "91",
          "91",
          "93",
          "94",
          "94",
          "96",
          "97",
          "98",
          "98",
          "98",
          "101",
          "102",
          "103",
          "103",
          "103",
          "103",
          "107",
          "107",
          "109",
          "109",
          "111",
          "111",
          "113",
          "113",
          "113",
          "116",
          "117",
          "118",
          "119",
          "120",
          "121",
          "121",
          "121",
          "124",
          "124",
          "126",
          "126",
          "126",
          "129",
          "130",
          "131",
          "132",
          "132",
          "132",
          "135",
          "136",
          "136",
          "138",
          "139",
          "140",
          "141",
          "141",
          "141",
          "144",
          "144",
          "146",
          "147",
          "148",
          "148",
          "150",
          "150",
          "152",
          "153",
          "154",
          "155",
          "156",
          "157",
          "157",
          "157",
          "160",
          "160",
          "162",
          "163",
          "164",
          "165",
          "165",
          "165",
          "165",
          "169",
          "170",
          "171",
          "171",
          "173",
          "173",
          "175",
          "175",
          "177",
          "178",
          "178",
          "180",
          "180",
          "182",
          "182",
          "182",
          "185",
          "186",
          "186",
          "188",
          "188",
          "188",
          "191",
          "192",
          "193",
          "193",
          "195",
          "196",
          "196",
          "198",
          "199",
          "200",
          "200",
          "201-225",
          "201-225",
          "201-225",
          "201-225",
          "201-225",
          "201-225",
          "201-225",
          "201-225",
          "201-225",
          "201-225",
          "201-225",
          "201-225",
          "201-225",
          "201-225",
          "201-225",
          "201-225",
          "201-225",
          "201-225",
          "201-225",
          "201-225",
          "201-225",
          "201-225",
          "201-225",
          "201-225",
          "201-225",
          "226-250",
          "226-250",
          "226-250",
          "226-250",
          "226-250",
          "226-250",
          "226-250",
          "226-250",
          "226-250",
          "226-250",
          "226-250",
          "226-250",
          "226-250",
          "226-250",
          "226-250",
          "226-250",
          "226-250",
          "226-250",
          "226-250",
          "226-250",
          "226-250",
          "226-250",
          "226-250",
          "226-250",
          "251-275",
          "251-275",
          "251-275",
          "251-275",
          "251-275",
          "251-275",
          "251-275",
          "251-275",
          "251-275",
          "251-275",
          "251-275",
          "251-275",
          "251-275",
          "251-275",
          "251-275",
          "251-275",
          "251-275",
          "251-275",
          "251-275",
          "251-275",
          "251-275",
          "251-275",
          "251-275",
          "251-275",
          "251-275",
          "276-300",
          "276-300",
          "276-300",
          "276-300",
          "276-300",
          "276-300",
          "276-300",
          "276-300",
          "276-300",
          "276-300",
          "276-300",
          "276-300",
          "276-300",
          "276-300",
          "276-300",
          "276-300",
          "276-300",
          "276-300",
          "276-300",
          "276-300",
          "276-300",
          "276-300",
          "276-300",
          "276-300",
          "276-300",
          "276-300",
          "276-300",
          "276-300",
          "301-350",
          "301-350",
          "301-350",
          "301-350",
          "301-350",
          "301-350",
          "301-350",
          "301-350",
          "301-350",
          "301-350",
          "301-350",
          "301-350",
          "301-350",
          "301-350",
          "301-350",
          "301-350",
          "301-350",
          "301-350",
          "301-350",
          "301-350",
          "301-350",
          "301-350",
          "301-350",
          "301-350",
          "301-350",
          "301-350",
          "301-350",
          "301-350",
          "301-350",
          "301-350",
          "301-350",
          "301-350",
          "301-350",
          "301-350",
          "301-350",
          "301-350",
          "301-350",
          "301-350",
          "301-350",
          "301-350",
          "301-350",
          "301-350",
          "301-350",
          "301-350",
          "301-350",
          "301-350",
          "301-350",
          "301-350",
          "351-400",
          "351-400",
          "351-400",
          "351-400",
          "351-400",
          "351-400",
          "351-400",
          "351-400",
          "351-400",
          "351-400",
          "351-400",
          "351-400",
          "351-400",
          "351-400",
          "351-400",
          "351-400",
          "351-400",
          "351-400",
          "351-400",
          "351-400",
          "351-400",
          "351-400",
          "351-400",
          "351-400",
          "351-400",
          "351-400",
          "351-400",
          "351-400",
          "351-400",
          "351-400",
          "351-400",
          "351-400",
          "351-400",
          "351-400",
          "351-400",
          "351-400",
          "351-400",
          "351-400",
          "351-400",
          "351-400",
          "351-400",
          "351-400",
          "351-400",
          "351-400",
          "351-400",
          "351-400",
          "351-400",
          "351-400",
          "351-400",
          "351-400"
         ],
         "xaxis": "x2",
         "y": [
          99.7,
          98.9,
          95.5,
          99.1,
          95.2,
          100,
          99.6,
          99.1,
          89.4,
          94,
          97.3,
          95.3,
          83.5,
          95.3,
          93.6,
          94.4,
          88.9,
          96.6,
          91.5,
          83,
          96.9,
          85.1,
          74.7,
          92,
          66,
          95,
          85.8,
          91.5,
          83,
          77.8,
          87.7,
          85.3,
          80.6,
          71.3,
          95,
          88.3,
          99.2,
          89.5,
          76,
          88.3,
          96.4,
          97.1,
          65.1,
          76.8,
          71.1,
          82.9,
          91,
          63.7,
          65,
          48.7,
          72.9,
          71.4,
          74.3,
          92,
          71.8,
          80.4,
          94.4,
          76,
          57,
          69,
          75.9,
          79.9,
          96.4,
          82.3,
          74.2,
          84.4,
          92.3,
          80.4,
          99.9,
          81.4,
          42.6,
          82.3,
          77.5,
          85.1,
          81.4,
          81.3,
          76.6,
          84.8,
          80,
          71.9,
          67.6,
          74,
          88.9,
          65.7,
          92,
          74,
          90,
          92.9,
          89.5,
          73.8,
          78.7,
          84.4,
          89.5,
          78.8,
          83.7,
          87.7,
          97.4,
          90.9,
          78.8,
          70.9,
          70.1,
          62.2,
          83.3,
          79,
          68.2,
          81.4,
          88.9,
          78.2,
          100,
          61.1,
          81.4,
          92.8,
          62.9,
          74,
          90.5,
          82.9,
          68.1,
          98.9,
          74.9,
          87.7,
          79.6,
          87.7,
          74.3,
          61.8,
          86.6,
          95.9,
          55.1,
          62.2,
          57.8,
          76.9,
          78,
          70.1,
          83.6,
          79.7,
          70.8,
          76.5,
          74.9,
          77.6,
          96.8,
          73.9,
          97.1,
          55.1,
          48.1,
          57.3,
          71,
          69.3,
          95.3,
          51.7,
          62.7,
          73.1,
          91.5,
          80.4,
          66.5,
          78,
          47.7,
          75,
          51.1,
          76.2,
          62.2,
          73.5,
          73,
          75,
          74,
          61.1,
          79.7,
          62.9,
          88.3,
          49.6,
          73.1,
          67.7,
          62.7,
          67.7,
          62.2,
          86.7,
          68.4,
          71,
          87.1,
          73,
          74.3,
          92.2,
          73.1,
          73.1,
          88.5,
          56.3,
          81.3,
          66.3,
          77.8,
          80.4,
          45.5,
          62.9,
          57.5,
          68.6,
          61,
          72,
          83.8,
          33.8,
          86.4,
          83.7,
          67.1,
          99.2,
          70,
          76,
          69.3,
          78.8,
          57.2,
          56.5,
          39.9,
          70.3,
          52,
          73,
          79.7,
          68.5,
          84.4,
          55.1,
          77,
          58.1,
          73.6,
          74,
          32.3,
          77.8,
          88.1,
          49.4,
          64.4,
          81.3,
          78.7,
          44.3,
          67,
          60.4,
          75.3,
          76.9,
          54.4,
          58.1,
          55.1,
          59.9,
          67.8,
          67.6,
          68.9,
          47,
          100,
          61.7,
          59.4,
          64.4,
          70.8,
          59.4,
          76.6,
          58.7,
          47,
          81.4,
          41.7,
          62.9,
          50.2,
          99.7,
          71.1,
          59.6,
          49.1,
          62.8,
          48.2,
          52.2,
          59.9,
          42,
          55.7,
          51.5,
          74.8,
          73,
          73.1,
          57.5,
          57.6,
          75.6,
          64.5,
          55.1,
          89.8,
          67.3,
          70.3,
          72.5,
          47,
          40.8,
          59.9,
          51.6,
          59.9,
          67.4,
          40.4,
          49.6,
          84.4,
          80.5,
          42.9,
          38.9,
          45.6,
          34.9,
          51.1,
          56.9,
          64.5,
          67.8,
          68.7,
          58.6,
          46.6,
          68.1,
          66.9,
          57.5,
          52.7,
          55.1,
          55.1,
          53.8,
          40.7,
          59.7,
          55.8,
          64.5,
          50.1,
          63.3,
          57.5,
          57.5,
          70.8,
          50.3,
          61,
          58.5,
          50.2,
          70.5,
          63.3,
          55.8,
          59.6,
          65.6,
          50.7,
          50.4,
          28,
          54.1,
          53.9,
          47.5,
          53.8,
          65.3,
          45.4,
          67,
          64.1,
          39.3,
          44.2,
          50.2,
          62.2,
          48.2,
          83,
          75,
          51.5,
          57.5,
          68,
          69.2,
          61.2,
          49.9,
          56.9,
          58.7,
          51.1,
          72.7,
          70,
          61,
          40.2,
          39.9,
          52.2,
          45.1,
          61.8,
          52,
          62.6,
          45.3,
          57.6,
          53.9,
          29,
          32.2,
          43.5,
          62.6,
          48.9,
          75,
          33.6,
          56.3,
          51.5,
          46.5,
          28.4,
          39,
          30.9,
          43.5,
          42,
          50.2,
          53.2,
          52.7,
          52,
          53.8,
          64.5,
          60.8,
          55.1,
          65,
          44.8,
          44.6,
          60.6,
          46.6,
          41.7,
          61.6,
          62.1,
          63.3,
          47.7,
          57.5,
          50,
          48.1,
          55.5,
          44.2,
          58.7,
          48.5,
          75.8
         ],
         "yaxis": "y2"
        },
        {
         "name": "income",
         "type": "scatter",
         "x": [
          "1",
          "2",
          "3",
          "4",
          "5",
          "6",
          "7",
          "8",
          "9",
          "9",
          "11",
          "12",
          "13",
          "14",
          "15",
          "16",
          "17",
          "18",
          "19",
          "20",
          "21",
          "22",
          "23",
          "24",
          "25",
          "26",
          "27",
          "28",
          "29",
          "29",
          "29",
          "32",
          "33",
          "34",
          "34",
          "36",
          "37",
          "38",
          "39",
          "40",
          "41",
          "42",
          "43",
          "44",
          "45",
          "46",
          "46",
          "48",
          "49",
          "50",
          "51",
          "52",
          "52",
          "54",
          "55",
          "55",
          "57",
          "58",
          "59",
          "60",
          "61",
          "61",
          "63",
          "64",
          "65",
          "66",
          "67",
          "68",
          "69",
          "70",
          "71",
          "72",
          "73",
          "74",
          "75",
          "75",
          "77",
          "78",
          "79",
          "80",
          "81",
          "82",
          "83",
          "83",
          "85",
          "86",
          "86",
          "88",
          "88",
          "90",
          "91",
          "91",
          "93",
          "94",
          "94",
          "96",
          "97",
          "98",
          "98",
          "98",
          "101",
          "102",
          "103",
          "103",
          "103",
          "103",
          "107",
          "107",
          "109",
          "109",
          "111",
          "111",
          "113",
          "113",
          "113",
          "116",
          "117",
          "118",
          "119",
          "120",
          "121",
          "121",
          "121",
          "124",
          "124",
          "126",
          "126",
          "126",
          "129",
          "130",
          "131",
          "132",
          "132",
          "132",
          "135",
          "136",
          "136",
          "138",
          "139",
          "140",
          "141",
          "141",
          "141",
          "144",
          "144",
          "146",
          "147",
          "148",
          "148",
          "150",
          "150",
          "152",
          "153",
          "154",
          "155",
          "156",
          "157",
          "157",
          "157",
          "160",
          "160",
          "162",
          "163",
          "164",
          "165",
          "165",
          "165",
          "165",
          "169",
          "170",
          "171",
          "171",
          "173",
          "173",
          "175",
          "175",
          "177",
          "178",
          "178",
          "180",
          "180",
          "182",
          "182",
          "182",
          "185",
          "186",
          "186",
          "188",
          "188",
          "188",
          "191",
          "192",
          "193",
          "193",
          "195",
          "196",
          "196",
          "198",
          "199",
          "200",
          "200",
          "201-225",
          "201-225",
          "201-225",
          "201-225",
          "201-225",
          "201-225",
          "201-225",
          "201-225",
          "201-225",
          "201-225",
          "201-225",
          "201-225",
          "201-225",
          "201-225",
          "201-225",
          "201-225",
          "201-225",
          "201-225",
          "201-225",
          "201-225",
          "201-225",
          "201-225",
          "201-225",
          "201-225",
          "201-225",
          "226-250",
          "226-250",
          "226-250",
          "226-250",
          "226-250",
          "226-250",
          "226-250",
          "226-250",
          "226-250",
          "226-250",
          "226-250",
          "226-250",
          "226-250",
          "226-250",
          "226-250",
          "226-250",
          "226-250",
          "226-250",
          "226-250",
          "226-250",
          "226-250",
          "226-250",
          "226-250",
          "226-250",
          "251-275",
          "251-275",
          "251-275",
          "251-275",
          "251-275",
          "251-275",
          "251-275",
          "251-275",
          "251-275",
          "251-275",
          "251-275",
          "251-275",
          "251-275",
          "251-275",
          "251-275",
          "251-275",
          "251-275",
          "251-275",
          "251-275",
          "251-275",
          "251-275",
          "251-275",
          "251-275",
          "251-275",
          "251-275",
          "276-300",
          "276-300",
          "276-300",
          "276-300",
          "276-300",
          "276-300",
          "276-300",
          "276-300",
          "276-300",
          "276-300",
          "276-300",
          "276-300",
          "276-300",
          "276-300",
          "276-300",
          "276-300",
          "276-300",
          "276-300",
          "276-300",
          "276-300",
          "276-300",
          "276-300",
          "276-300",
          "276-300",
          "276-300",
          "276-300",
          "276-300",
          "276-300",
          "301-350",
          "301-350",
          "301-350",
          "301-350",
          "301-350",
          "301-350",
          "301-350",
          "301-350",
          "301-350",
          "301-350",
          "301-350",
          "301-350",
          "301-350",
          "301-350",
          "301-350",
          "301-350",
          "301-350",
          "301-350",
          "301-350",
          "301-350",
          "301-350",
          "301-350",
          "301-350",
          "301-350",
          "301-350",
          "301-350",
          "301-350",
          "301-350",
          "301-350",
          "301-350",
          "301-350",
          "301-350",
          "301-350",
          "301-350",
          "301-350",
          "301-350",
          "301-350",
          "301-350",
          "301-350",
          "301-350",
          "301-350",
          "301-350",
          "301-350",
          "301-350",
          "301-350",
          "301-350",
          "301-350",
          "301-350",
          "351-400",
          "351-400",
          "351-400",
          "351-400",
          "351-400",
          "351-400",
          "351-400",
          "351-400",
          "351-400",
          "351-400",
          "351-400",
          "351-400",
          "351-400",
          "351-400",
          "351-400",
          "351-400",
          "351-400",
          "351-400",
          "351-400",
          "351-400",
          "351-400",
          "351-400",
          "351-400",
          "351-400",
          "351-400",
          "351-400",
          "351-400",
          "351-400",
          "351-400",
          "351-400",
          "351-400",
          "351-400",
          "351-400",
          "351-400",
          "351-400",
          "351-400",
          "351-400",
          "351-400",
          "351-400",
          "351-400",
          "351-400",
          "351-400",
          "351-400",
          "351-400",
          "351-400",
          "351-400",
          "351-400",
          "351-400",
          "351-400",
          "351-400"
         ],
         "xaxis": "x3",
         "y": [
          "89.1",
          "44.0",
          "72.9",
          "63.1",
          "51.1",
          "95.7",
          "82.7",
          "44.8",
          "72.7",
          "42.0",
          "36.8",
          "-",
          "73.2",
          "-",
          "100.0",
          "43.0",
          "55.7",
          "100.0",
          "33.7",
          "46.1",
          "77.0",
          "46.2",
          "51.2",
          "53.0",
          "53.4",
          "44.7",
          "72.3",
          "58.1",
          "100.0",
          "51.7",
          "53.3",
          "40.1",
          "61.2",
          "40.6",
          "61.9",
          "41.2",
          "87.1",
          "30.2",
          "38.6",
          "39.0",
          "54.2",
          "-",
          "56.0",
          "65.5",
          "38.9",
          "-",
          "40.5",
          "100.0",
          "99.7",
          "86.3",
          "57.6",
          "100.0",
          "39.4",
          "32.7",
          "99.9",
          "55.4",
          "30.3",
          "60.4",
          "73.3",
          "67.3",
          "100.0",
          "76.8",
          "40.1",
          "47.3",
          "66.2",
          "100.0",
          "32.8",
          "46.8",
          "34.6",
          "41.6",
          "100.0",
          "54.4",
          "100.0",
          "42.1",
          "97.7",
          "34.4",
          "56.7",
          "39.4",
          "84.1",
          "31.9",
          "33.5",
          "31.7",
          "34.8",
          "73.4",
          "55.2",
          "99.6",
          "-",
          "58.7",
          "40.0",
          "85.3",
          "52.8",
          "38.5",
          "42.3",
          "85.0",
          "39.9",
          "59.4",
          "-",
          "32.4",
          "49.0",
          "39.6",
          "96.1",
          "-",
          "33.4",
          "31.5",
          "35.6",
          "40.1",
          "37.1",
          "65.1",
          "33.8",
          "47.8",
          "39.8",
          "31.2",
          "91.8",
          "54.7",
          "32.2",
          "-",
          "88.9",
          "32.8",
          "32.6",
          "28.9",
          "98.6",
          "36.4",
          "43.8",
          "51.8",
          "88.0",
          "46.5",
          "100.0",
          "-",
          "42.8",
          "49.8",
          "34.1",
          "47.4",
          "33.2",
          "38.9",
          "99.5",
          "50.9",
          "60.0",
          "30.6",
          "47.7",
          "42.8",
          "79.4",
          "49.6",
          "69.4",
          "99.9",
          "35.2",
          "39.4",
          "43.9",
          "98.5",
          "36.0",
          "-",
          "39.5",
          "49.1",
          "59.8",
          "35.8",
          "43.8",
          "69.8",
          "73.6",
          "40.0",
          "63.3",
          "44.4",
          "29.3",
          "58.1",
          "81.4",
          "65.3",
          "51.1",
          "82.7",
          "35.9",
          "76.8",
          "-",
          "100.0",
          "39.6",
          "46.1",
          "80.0",
          "31.6",
          "74.2",
          "49.3",
          "40.6",
          "31.3",
          "42.1",
          "29.1",
          "99.3",
          "32.6",
          "42.9",
          "29.4",
          "34.0",
          "36.6",
          "-",
          "31.3",
          "42.6",
          "45.9",
          "39.6",
          "49.8",
          "49.4",
          "54.4",
          "-",
          "78.5",
          "32.4",
          "29.2",
          "34.8",
          "53.7",
          "29.3",
          "46.4",
          "34.8",
          "38.8",
          "31.5",
          "42.6",
          "98.5",
          "35.0",
          "36.5",
          "56.7",
          "31.0",
          "34.2",
          "47.7",
          "40.7",
          "42.0",
          "34.9",
          "71.6",
          "32.0",
          "40.1",
          "41.6",
          "33.3",
          "89.2",
          "50.7",
          "38.2",
          "30.0",
          "69.7",
          "34.6",
          "28.7",
          "31.9",
          "30.7",
          "68.9",
          "62.7",
          "99.0",
          "86.3",
          "49.9",
          "41.8",
          "-",
          "63.4",
          "31.0",
          "33.8",
          "41.5",
          "37.0",
          "42.0",
          "52.5",
          "45.0",
          "40.1",
          "50.7",
          "30.0",
          "64.1",
          "34.1",
          "64.5",
          "28.1",
          "33.7",
          "51.7",
          "49.4",
          "43.1",
          "59.0",
          "43.7",
          "99.8",
          "88.9",
          "46.3",
          "38.3",
          "64.0",
          "38.2",
          "44.5",
          "75.6",
          "31.9",
          "64.4",
          "38.4",
          "99.8",
          "36.5",
          "94.8",
          "46.0",
          "40.8",
          "41.7",
          "75.8",
          "38.8",
          "37.9",
          "73.8",
          "33.6",
          "98.2",
          "45.0",
          "28.3",
          "28.8",
          "71.9",
          "88.4",
          "94.7",
          "55.1",
          "56.9",
          "45.9",
          "34.9",
          "35.6",
          "46.8",
          "48.2",
          "31.1",
          "33.6",
          "40.1",
          "35.0",
          "83.9",
          "31.8",
          "44.7",
          "49.7",
          "42.6",
          "32.2",
          "31.1",
          "32.7",
          "29.4",
          "32.4",
          "30.6",
          "34.6",
          "29.1",
          "-",
          "39.2",
          "50.6",
          "36.2",
          "33.4",
          "32.0",
          "67.8",
          "42.8",
          "29.2",
          "34.2",
          "86.2",
          "44.5",
          "58.9",
          "-",
          "36.7",
          "49.5",
          "28.8",
          "31.1",
          "36.0",
          "44.2",
          "29.1",
          "43.2",
          "-",
          "36.2",
          "43.5",
          "28.6",
          "34.4",
          "34.5",
          "34.5",
          "32.9",
          "37.7",
          "72.6",
          "30.7",
          "48.2",
          "42.5",
          "36.9",
          "30.8",
          "28.5",
          "-",
          "88.6",
          "43.9",
          "33.0",
          "35.7",
          "34.8",
          "37.4",
          "33.6",
          "36.1",
          "61.3",
          "28.7",
          "88.7",
          "43.4",
          "49.7",
          "69.0",
          "84.1",
          "56.5",
          "68.7",
          "39.2",
          "-",
          "40.5",
          "100.0",
          "47.0",
          "82.0",
          "28.4",
          "47.4",
          "38.8",
          "38.8",
          "31.3",
          "35.2",
          "32.8",
          "40.4",
          "35.4",
          "30.2",
          "29.6",
          "33.9",
          "70.4",
          "44.5",
          "31.2",
          "90.2",
          "29.2",
          "37.7",
          "29.1",
          "32.1",
          "-",
          "50.0",
          "44.8",
          "32.6",
          "54.5",
          "30.4",
          "85.9",
          "57.8"
         ],
         "yaxis": "y3"
        },
        {
         "name": "total_score",
         "type": "scatter",
         "x": [
          "1",
          "2",
          "3",
          "4",
          "5",
          "6",
          "7",
          "8",
          "9",
          "9",
          "11",
          "12",
          "13",
          "14",
          "15",
          "16",
          "17",
          "18",
          "19",
          "20",
          "21",
          "22",
          "23",
          "24",
          "25",
          "26",
          "27",
          "28",
          "29",
          "29",
          "29",
          "32",
          "33",
          "34",
          "34",
          "36",
          "37",
          "38",
          "39",
          "40",
          "41",
          "42",
          "43",
          "44",
          "45",
          "46",
          "46",
          "48",
          "49",
          "50",
          "51",
          "52",
          "52",
          "54",
          "55",
          "55",
          "57",
          "58",
          "59",
          "60",
          "61",
          "61",
          "63",
          "64",
          "65",
          "66",
          "67",
          "68",
          "69",
          "70",
          "71",
          "72",
          "73",
          "74",
          "75",
          "75",
          "77",
          "78",
          "79",
          "80",
          "81",
          "82",
          "83",
          "83",
          "85",
          "86",
          "86",
          "88",
          "88",
          "90",
          "91",
          "91",
          "93",
          "94",
          "94",
          "96",
          "97",
          "98",
          "98",
          "98",
          "101",
          "102",
          "103",
          "103",
          "103",
          "103",
          "107",
          "107",
          "109",
          "109",
          "111",
          "111",
          "113",
          "113",
          "113",
          "116",
          "117",
          "118",
          "119",
          "120",
          "121",
          "121",
          "121",
          "124",
          "124",
          "126",
          "126",
          "126",
          "129",
          "130",
          "131",
          "132",
          "132",
          "132",
          "135",
          "136",
          "136",
          "138",
          "139",
          "140",
          "141",
          "141",
          "141",
          "144",
          "144",
          "146",
          "147",
          "148",
          "148",
          "150",
          "150",
          "152",
          "153",
          "154",
          "155",
          "156",
          "157",
          "157",
          "157",
          "160",
          "160",
          "162",
          "163",
          "164",
          "165",
          "165",
          "165",
          "165",
          "169",
          "170",
          "171",
          "171",
          "173",
          "173",
          "175",
          "175",
          "177",
          "178",
          "178",
          "180",
          "180",
          "182",
          "182",
          "182",
          "185",
          "186",
          "186",
          "188",
          "188",
          "188",
          "191",
          "192",
          "193",
          "193",
          "195",
          "196",
          "196",
          "198",
          "199",
          "200",
          "200",
          "201-225",
          "201-225",
          "201-225",
          "201-225",
          "201-225",
          "201-225",
          "201-225",
          "201-225",
          "201-225",
          "201-225",
          "201-225",
          "201-225",
          "201-225",
          "201-225",
          "201-225",
          "201-225",
          "201-225",
          "201-225",
          "201-225",
          "201-225",
          "201-225",
          "201-225",
          "201-225",
          "201-225",
          "201-225",
          "226-250",
          "226-250",
          "226-250",
          "226-250",
          "226-250",
          "226-250",
          "226-250",
          "226-250",
          "226-250",
          "226-250",
          "226-250",
          "226-250",
          "226-250",
          "226-250",
          "226-250",
          "226-250",
          "226-250",
          "226-250",
          "226-250",
          "226-250",
          "226-250",
          "226-250",
          "226-250",
          "226-250",
          "251-275",
          "251-275",
          "251-275",
          "251-275",
          "251-275",
          "251-275",
          "251-275",
          "251-275",
          "251-275",
          "251-275",
          "251-275",
          "251-275",
          "251-275",
          "251-275",
          "251-275",
          "251-275",
          "251-275",
          "251-275",
          "251-275",
          "251-275",
          "251-275",
          "251-275",
          "251-275",
          "251-275",
          "251-275",
          "276-300",
          "276-300",
          "276-300",
          "276-300",
          "276-300",
          "276-300",
          "276-300",
          "276-300",
          "276-300",
          "276-300",
          "276-300",
          "276-300",
          "276-300",
          "276-300",
          "276-300",
          "276-300",
          "276-300",
          "276-300",
          "276-300",
          "276-300",
          "276-300",
          "276-300",
          "276-300",
          "276-300",
          "276-300",
          "276-300",
          "276-300",
          "276-300",
          "301-350",
          "301-350",
          "301-350",
          "301-350",
          "301-350",
          "301-350",
          "301-350",
          "301-350",
          "301-350",
          "301-350",
          "301-350",
          "301-350",
          "301-350",
          "301-350",
          "301-350",
          "301-350",
          "301-350",
          "301-350",
          "301-350",
          "301-350",
          "301-350",
          "301-350",
          "301-350",
          "301-350",
          "301-350",
          "301-350",
          "301-350",
          "301-350",
          "301-350",
          "301-350",
          "301-350",
          "301-350",
          "301-350",
          "301-350",
          "301-350",
          "301-350",
          "301-350",
          "301-350",
          "301-350",
          "301-350",
          "301-350",
          "301-350",
          "301-350",
          "301-350",
          "301-350",
          "301-350",
          "301-350",
          "301-350",
          "351-400",
          "351-400",
          "351-400",
          "351-400",
          "351-400",
          "351-400",
          "351-400",
          "351-400",
          "351-400",
          "351-400",
          "351-400",
          "351-400",
          "351-400",
          "351-400",
          "351-400",
          "351-400",
          "351-400",
          "351-400",
          "351-400",
          "351-400",
          "351-400",
          "351-400",
          "351-400",
          "351-400",
          "351-400",
          "351-400",
          "351-400",
          "351-400",
          "351-400",
          "351-400",
          "351-400",
          "351-400",
          "351-400",
          "351-400",
          "351-400",
          "351-400",
          "351-400",
          "351-400",
          "351-400",
          "351-400",
          "351-400",
          "351-400",
          "351-400",
          "351-400",
          "351-400",
          "351-400",
          "351-400",
          "351-400",
          "351-400",
          "351-400"
         ],
         "xaxis": "x4",
         "y": [
          "94.3",
          "93.3",
          "93.2",
          "92.9",
          "92.0",
          "91.9",
          "90.9",
          "89.5",
          "87.5",
          "87.5",
          "87.1",
          "85.5",
          "84.6",
          "84.4",
          "83.0",
          "81.0",
          "80.9",
          "79.9",
          "79.4",
          "79.3",
          "79.2",
          "78.7",
          "76.1",
          "74.3",
          "73.3",
          "73.2",
          "72.8",
          "72.3",
          "71.9",
          "71.9",
          "71.9",
          "71.8",
          "71.2",
          "70.9",
          "70.9",
          "70.4",
          "70.0",
          "69.9",
          "69.6",
          "69.4",
          "68.6",
          "67.8",
          "67.5",
          "66.8",
          "66.5",
          "65.9",
          "65.9",
          "65.2",
          "65.1",
          "64.8",
          "64.7",
          "64.5",
          "64.5",
          "64.1",
          "63.7",
          "63.7",
          "63.6",
          "62.9",
          "62.8",
          "62.7",
          "62.2",
          "62.2",
          "61.9",
          "61.3",
          "61.2",
          "61.1",
          "61.0",
          "60.7",
          "59.8",
          "59.6",
          "59.2",
          "59.1",
          "59.0",
          "58.9",
          "58.4",
          "58.4",
          "58.2",
          "58.1",
          "58.0",
          "57.9",
          "57.6",
          "57.3",
          "56.9",
          "56.9",
          "56.6",
          "56.5",
          "56.5",
          "56.4",
          "56.4",
          "56.2",
          "56.1",
          "56.1",
          "55.5",
          "55.3",
          "55.3",
          "55.2",
          "55.1",
          "54.6",
          "54.6",
          "54.6",
          "54.3",
          "54.0",
          "53.9",
          "53.9",
          "53.9",
          "53.9",
          "53.8",
          "53.8",
          "53.7",
          "53.7",
          "53.6",
          "53.6",
          "53.4",
          "53.4",
          "53.4",
          "53.2",
          "53.1",
          "53.0",
          "52.9",
          "52.8",
          "52.7",
          "52.7",
          "52.7",
          "52.6",
          "52.6",
          "52.5",
          "52.5",
          "52.5",
          "52.4",
          "52.1",
          "52.0",
          "51.9",
          "51.9",
          "51.9",
          "51.6",
          "51.4",
          "51.4",
          "51.2",
          "51.1",
          "51.0",
          "50.9",
          "50.9",
          "50.9",
          "50.5",
          "50.5",
          "50.4",
          "50.3",
          "50.2",
          "50.2",
          "50.1",
          "50.1",
          "50.0",
          "49.9",
          "49.7",
          "49.3",
          "49.2",
          "49.1",
          "49.1",
          "49.1",
          "49.0",
          "49.0",
          "48.6",
          "48.3",
          "48.2",
          "48.1",
          "48.1",
          "48.1",
          "48.1",
          "48.0",
          "47.9",
          "47.8",
          "47.8",
          "47.7",
          "47.7",
          "47.5",
          "47.5",
          "47.3",
          "47.1",
          "47.1",
          "47.0",
          "47.0",
          "46.9",
          "46.9",
          "46.9",
          "46.8",
          "46.7",
          "46.7",
          "46.6",
          "46.6",
          "46.6",
          "46.5",
          "46.3",
          "46.2",
          "46.2",
          "46.1",
          "46.0",
          "46.0",
          "45.9",
          "45.7",
          "45.6",
          "45.6",
          "-",
          "-",
          "-",
          "-",
          "-",
          "-",
          "-",
          "-",
          "-",
          "-",
          "-",
          "-",
          "-",
          "-",
          "-",
          "-",
          "-",
          "-",
          "-",
          "-",
          "-",
          "-",
          "-",
          "-",
          "-",
          "-",
          "-",
          "-",
          "-",
          "-",
          "-",
          "-",
          "-",
          "-",
          "-",
          "-",
          "-",
          "-",
          "-",
          "-",
          "-",
          "-",
          "-",
          "-",
          "-",
          "-",
          "-",
          "-",
          "-",
          "-",
          "-",
          "-",
          "-",
          "-",
          "-",
          "-",
          "-",
          "-",
          "-",
          "-",
          "-",
          "-",
          "-",
          "-",
          "-",
          "-",
          "-",
          "-",
          "-",
          "-",
          "-",
          "-",
          "-",
          "-",
          "-",
          "-",
          "-",
          "-",
          "-",
          "-",
          "-",
          "-",
          "-",
          "-",
          "-",
          "-",
          "-",
          "-",
          "-",
          "-",
          "-",
          "-",
          "-",
          "-",
          "-",
          "-",
          "-",
          "-",
          "-",
          "-",
          "-",
          "-",
          "-",
          "-",
          "-",
          "-",
          "-",
          "-",
          "-",
          "-",
          "-",
          "-",
          "-",
          "-",
          "-",
          "-",
          "-",
          "-",
          "-",
          "-",
          "-",
          "-",
          "-",
          "-",
          "-",
          "-",
          "-",
          "-",
          "-",
          "-",
          "-",
          "-",
          "-",
          "-",
          "-",
          "-",
          "-",
          "-",
          "-",
          "-",
          "-",
          "-",
          "-",
          "-",
          "-",
          "-",
          "-",
          "-",
          "-",
          "-",
          "-",
          "-",
          "-",
          "-",
          "-",
          "-",
          "-",
          "-",
          "-",
          "-",
          "-",
          "-",
          "-",
          "-",
          "-",
          "-",
          "-",
          "-",
          "-",
          "-",
          "-",
          "-",
          "-",
          "-",
          "-",
          "-",
          "-",
          "-",
          "-",
          "-",
          "-",
          "-",
          "-",
          "-",
          "-",
          "-",
          "-",
          "-",
          "-",
          "-",
          "-",
          "-",
          "-",
          "-",
          "-",
          "-",
          "-",
          "-",
          "-",
          "-"
         ],
         "yaxis": "y4"
        }
       ],
       "layout": {
        "template": {
         "data": {
          "bar": [
           {
            "error_x": {
             "color": "#2a3f5f"
            },
            "error_y": {
             "color": "#2a3f5f"
            },
            "marker": {
             "line": {
              "color": "#E5ECF6",
              "width": 0.5
             }
            },
            "type": "bar"
           }
          ],
          "barpolar": [
           {
            "marker": {
             "line": {
              "color": "#E5ECF6",
              "width": 0.5
             }
            },
            "type": "barpolar"
           }
          ],
          "carpet": [
           {
            "aaxis": {
             "endlinecolor": "#2a3f5f",
             "gridcolor": "white",
             "linecolor": "white",
             "minorgridcolor": "white",
             "startlinecolor": "#2a3f5f"
            },
            "baxis": {
             "endlinecolor": "#2a3f5f",
             "gridcolor": "white",
             "linecolor": "white",
             "minorgridcolor": "white",
             "startlinecolor": "#2a3f5f"
            },
            "type": "carpet"
           }
          ],
          "choropleth": [
           {
            "colorbar": {
             "outlinewidth": 0,
             "ticks": ""
            },
            "type": "choropleth"
           }
          ],
          "contour": [
           {
            "colorbar": {
             "outlinewidth": 0,
             "ticks": ""
            },
            "colorscale": [
             [
              0,
              "#0d0887"
             ],
             [
              0.1111111111111111,
              "#46039f"
             ],
             [
              0.2222222222222222,
              "#7201a8"
             ],
             [
              0.3333333333333333,
              "#9c179e"
             ],
             [
              0.4444444444444444,
              "#bd3786"
             ],
             [
              0.5555555555555556,
              "#d8576b"
             ],
             [
              0.6666666666666666,
              "#ed7953"
             ],
             [
              0.7777777777777778,
              "#fb9f3a"
             ],
             [
              0.8888888888888888,
              "#fdca26"
             ],
             [
              1,
              "#f0f921"
             ]
            ],
            "type": "contour"
           }
          ],
          "contourcarpet": [
           {
            "colorbar": {
             "outlinewidth": 0,
             "ticks": ""
            },
            "type": "contourcarpet"
           }
          ],
          "heatmap": [
           {
            "colorbar": {
             "outlinewidth": 0,
             "ticks": ""
            },
            "colorscale": [
             [
              0,
              "#0d0887"
             ],
             [
              0.1111111111111111,
              "#46039f"
             ],
             [
              0.2222222222222222,
              "#7201a8"
             ],
             [
              0.3333333333333333,
              "#9c179e"
             ],
             [
              0.4444444444444444,
              "#bd3786"
             ],
             [
              0.5555555555555556,
              "#d8576b"
             ],
             [
              0.6666666666666666,
              "#ed7953"
             ],
             [
              0.7777777777777778,
              "#fb9f3a"
             ],
             [
              0.8888888888888888,
              "#fdca26"
             ],
             [
              1,
              "#f0f921"
             ]
            ],
            "type": "heatmap"
           }
          ],
          "heatmapgl": [
           {
            "colorbar": {
             "outlinewidth": 0,
             "ticks": ""
            },
            "colorscale": [
             [
              0,
              "#0d0887"
             ],
             [
              0.1111111111111111,
              "#46039f"
             ],
             [
              0.2222222222222222,
              "#7201a8"
             ],
             [
              0.3333333333333333,
              "#9c179e"
             ],
             [
              0.4444444444444444,
              "#bd3786"
             ],
             [
              0.5555555555555556,
              "#d8576b"
             ],
             [
              0.6666666666666666,
              "#ed7953"
             ],
             [
              0.7777777777777778,
              "#fb9f3a"
             ],
             [
              0.8888888888888888,
              "#fdca26"
             ],
             [
              1,
              "#f0f921"
             ]
            ],
            "type": "heatmapgl"
           }
          ],
          "histogram": [
           {
            "marker": {
             "colorbar": {
              "outlinewidth": 0,
              "ticks": ""
             }
            },
            "type": "histogram"
           }
          ],
          "histogram2d": [
           {
            "colorbar": {
             "outlinewidth": 0,
             "ticks": ""
            },
            "colorscale": [
             [
              0,
              "#0d0887"
             ],
             [
              0.1111111111111111,
              "#46039f"
             ],
             [
              0.2222222222222222,
              "#7201a8"
             ],
             [
              0.3333333333333333,
              "#9c179e"
             ],
             [
              0.4444444444444444,
              "#bd3786"
             ],
             [
              0.5555555555555556,
              "#d8576b"
             ],
             [
              0.6666666666666666,
              "#ed7953"
             ],
             [
              0.7777777777777778,
              "#fb9f3a"
             ],
             [
              0.8888888888888888,
              "#fdca26"
             ],
             [
              1,
              "#f0f921"
             ]
            ],
            "type": "histogram2d"
           }
          ],
          "histogram2dcontour": [
           {
            "colorbar": {
             "outlinewidth": 0,
             "ticks": ""
            },
            "colorscale": [
             [
              0,
              "#0d0887"
             ],
             [
              0.1111111111111111,
              "#46039f"
             ],
             [
              0.2222222222222222,
              "#7201a8"
             ],
             [
              0.3333333333333333,
              "#9c179e"
             ],
             [
              0.4444444444444444,
              "#bd3786"
             ],
             [
              0.5555555555555556,
              "#d8576b"
             ],
             [
              0.6666666666666666,
              "#ed7953"
             ],
             [
              0.7777777777777778,
              "#fb9f3a"
             ],
             [
              0.8888888888888888,
              "#fdca26"
             ],
             [
              1,
              "#f0f921"
             ]
            ],
            "type": "histogram2dcontour"
           }
          ],
          "mesh3d": [
           {
            "colorbar": {
             "outlinewidth": 0,
             "ticks": ""
            },
            "type": "mesh3d"
           }
          ],
          "parcoords": [
           {
            "line": {
             "colorbar": {
              "outlinewidth": 0,
              "ticks": ""
             }
            },
            "type": "parcoords"
           }
          ],
          "pie": [
           {
            "automargin": true,
            "type": "pie"
           }
          ],
          "scatter": [
           {
            "marker": {
             "colorbar": {
              "outlinewidth": 0,
              "ticks": ""
             }
            },
            "type": "scatter"
           }
          ],
          "scatter3d": [
           {
            "line": {
             "colorbar": {
              "outlinewidth": 0,
              "ticks": ""
             }
            },
            "marker": {
             "colorbar": {
              "outlinewidth": 0,
              "ticks": ""
             }
            },
            "type": "scatter3d"
           }
          ],
          "scattercarpet": [
           {
            "marker": {
             "colorbar": {
              "outlinewidth": 0,
              "ticks": ""
             }
            },
            "type": "scattercarpet"
           }
          ],
          "scattergeo": [
           {
            "marker": {
             "colorbar": {
              "outlinewidth": 0,
              "ticks": ""
             }
            },
            "type": "scattergeo"
           }
          ],
          "scattergl": [
           {
            "marker": {
             "colorbar": {
              "outlinewidth": 0,
              "ticks": ""
             }
            },
            "type": "scattergl"
           }
          ],
          "scattermapbox": [
           {
            "marker": {
             "colorbar": {
              "outlinewidth": 0,
              "ticks": ""
             }
            },
            "type": "scattermapbox"
           }
          ],
          "scatterpolar": [
           {
            "marker": {
             "colorbar": {
              "outlinewidth": 0,
              "ticks": ""
             }
            },
            "type": "scatterpolar"
           }
          ],
          "scatterpolargl": [
           {
            "marker": {
             "colorbar": {
              "outlinewidth": 0,
              "ticks": ""
             }
            },
            "type": "scatterpolargl"
           }
          ],
          "scatterternary": [
           {
            "marker": {
             "colorbar": {
              "outlinewidth": 0,
              "ticks": ""
             }
            },
            "type": "scatterternary"
           }
          ],
          "surface": [
           {
            "colorbar": {
             "outlinewidth": 0,
             "ticks": ""
            },
            "colorscale": [
             [
              0,
              "#0d0887"
             ],
             [
              0.1111111111111111,
              "#46039f"
             ],
             [
              0.2222222222222222,
              "#7201a8"
             ],
             [
              0.3333333333333333,
              "#9c179e"
             ],
             [
              0.4444444444444444,
              "#bd3786"
             ],
             [
              0.5555555555555556,
              "#d8576b"
             ],
             [
              0.6666666666666666,
              "#ed7953"
             ],
             [
              0.7777777777777778,
              "#fb9f3a"
             ],
             [
              0.8888888888888888,
              "#fdca26"
             ],
             [
              1,
              "#f0f921"
             ]
            ],
            "type": "surface"
           }
          ],
          "table": [
           {
            "cells": {
             "fill": {
              "color": "#EBF0F8"
             },
             "line": {
              "color": "white"
             }
            },
            "header": {
             "fill": {
              "color": "#C8D4E3"
             },
             "line": {
              "color": "white"
             }
            },
            "type": "table"
           }
          ]
         },
         "layout": {
          "annotationdefaults": {
           "arrowcolor": "#2a3f5f",
           "arrowhead": 0,
           "arrowwidth": 1
          },
          "autotypenumbers": "strict",
          "coloraxis": {
           "colorbar": {
            "outlinewidth": 0,
            "ticks": ""
           }
          },
          "colorscale": {
           "diverging": [
            [
             0,
             "#8e0152"
            ],
            [
             0.1,
             "#c51b7d"
            ],
            [
             0.2,
             "#de77ae"
            ],
            [
             0.3,
             "#f1b6da"
            ],
            [
             0.4,
             "#fde0ef"
            ],
            [
             0.5,
             "#f7f7f7"
            ],
            [
             0.6,
             "#e6f5d0"
            ],
            [
             0.7,
             "#b8e186"
            ],
            [
             0.8,
             "#7fbc41"
            ],
            [
             0.9,
             "#4d9221"
            ],
            [
             1,
             "#276419"
            ]
           ],
           "sequential": [
            [
             0,
             "#0d0887"
            ],
            [
             0.1111111111111111,
             "#46039f"
            ],
            [
             0.2222222222222222,
             "#7201a8"
            ],
            [
             0.3333333333333333,
             "#9c179e"
            ],
            [
             0.4444444444444444,
             "#bd3786"
            ],
            [
             0.5555555555555556,
             "#d8576b"
            ],
            [
             0.6666666666666666,
             "#ed7953"
            ],
            [
             0.7777777777777778,
             "#fb9f3a"
            ],
            [
             0.8888888888888888,
             "#fdca26"
            ],
            [
             1,
             "#f0f921"
            ]
           ],
           "sequentialminus": [
            [
             0,
             "#0d0887"
            ],
            [
             0.1111111111111111,
             "#46039f"
            ],
            [
             0.2222222222222222,
             "#7201a8"
            ],
            [
             0.3333333333333333,
             "#9c179e"
            ],
            [
             0.4444444444444444,
             "#bd3786"
            ],
            [
             0.5555555555555556,
             "#d8576b"
            ],
            [
             0.6666666666666666,
             "#ed7953"
            ],
            [
             0.7777777777777778,
             "#fb9f3a"
            ],
            [
             0.8888888888888888,
             "#fdca26"
            ],
            [
             1,
             "#f0f921"
            ]
           ]
          },
          "colorway": [
           "#636efa",
           "#EF553B",
           "#00cc96",
           "#ab63fa",
           "#FFA15A",
           "#19d3f3",
           "#FF6692",
           "#B6E880",
           "#FF97FF",
           "#FECB52"
          ],
          "font": {
           "color": "#2a3f5f"
          },
          "geo": {
           "bgcolor": "white",
           "lakecolor": "white",
           "landcolor": "#E5ECF6",
           "showlakes": true,
           "showland": true,
           "subunitcolor": "white"
          },
          "hoverlabel": {
           "align": "left"
          },
          "hovermode": "closest",
          "mapbox": {
           "style": "light"
          },
          "paper_bgcolor": "white",
          "plot_bgcolor": "#E5ECF6",
          "polar": {
           "angularaxis": {
            "gridcolor": "white",
            "linecolor": "white",
            "ticks": ""
           },
           "bgcolor": "#E5ECF6",
           "radialaxis": {
            "gridcolor": "white",
            "linecolor": "white",
            "ticks": ""
           }
          },
          "scene": {
           "xaxis": {
            "backgroundcolor": "#E5ECF6",
            "gridcolor": "white",
            "gridwidth": 2,
            "linecolor": "white",
            "showbackground": true,
            "ticks": "",
            "zerolinecolor": "white"
           },
           "yaxis": {
            "backgroundcolor": "#E5ECF6",
            "gridcolor": "white",
            "gridwidth": 2,
            "linecolor": "white",
            "showbackground": true,
            "ticks": "",
            "zerolinecolor": "white"
           },
           "zaxis": {
            "backgroundcolor": "#E5ECF6",
            "gridcolor": "white",
            "gridwidth": 2,
            "linecolor": "white",
            "showbackground": true,
            "ticks": "",
            "zerolinecolor": "white"
           }
          },
          "shapedefaults": {
           "line": {
            "color": "#2a3f5f"
           }
          },
          "ternary": {
           "aaxis": {
            "gridcolor": "white",
            "linecolor": "white",
            "ticks": ""
           },
           "baxis": {
            "gridcolor": "white",
            "linecolor": "white",
            "ticks": ""
           },
           "bgcolor": "#E5ECF6",
           "caxis": {
            "gridcolor": "white",
            "linecolor": "white",
            "ticks": ""
           }
          },
          "title": {
           "x": 0.05
          },
          "xaxis": {
           "automargin": true,
           "gridcolor": "white",
           "linecolor": "white",
           "ticks": "",
           "title": {
            "standoff": 15
           },
           "zerolinecolor": "white",
           "zerolinewidth": 2
          },
          "yaxis": {
           "automargin": true,
           "gridcolor": "white",
           "linecolor": "white",
           "ticks": "",
           "title": {
            "standoff": 15
           },
           "zerolinecolor": "white",
           "zerolinewidth": 2
          }
         }
        },
        "title": {
         "text": "Research, citation, income and total score VS World Rank of Universities"
        },
        "xaxis": {
         "domain": [
          0,
          0.45
         ]
        },
        "xaxis2": {
         "domain": [
          0.55,
          1
         ]
        },
        "xaxis3": {
         "anchor": "y3",
         "domain": [
          0,
          0.45
         ]
        },
        "xaxis4": {
         "anchor": "y4",
         "domain": [
          0.55,
          1
         ]
        },
        "yaxis": {
         "domain": [
          0,
          0.45
         ]
        },
        "yaxis2": {
         "anchor": "x2",
         "domain": [
          0,
          0.45
         ]
        },
        "yaxis3": {
         "domain": [
          0.55,
          1
         ]
        },
        "yaxis4": {
         "anchor": "x4",
         "domain": [
          0.55,
          1
         ]
        }
       }
      },
      "text/html": [
       "<div>                            <div id=\"53feb2f7-e289-429d-9f38-c9cafe0b63e3\" class=\"plotly-graph-div\" style=\"height:525px; width:100%;\"></div>            <script type=\"text/javascript\">                require([\"plotly\"], function(Plotly) {                    window.PLOTLYENV=window.PLOTLYENV || {};                                    if (document.getElementById(\"53feb2f7-e289-429d-9f38-c9cafe0b63e3\")) {                    Plotly.newPlot(                        \"53feb2f7-e289-429d-9f38-c9cafe0b63e3\",                        [{\"name\": \"research\", \"type\": \"scatter\", \"x\": [\"1\", \"2\", \"3\", \"4\", \"5\", \"6\", \"7\", \"8\", \"9\", \"9\", \"11\", \"12\", \"13\", \"14\", \"15\", \"16\", \"17\", \"18\", \"19\", \"20\", \"21\", \"22\", \"23\", \"24\", \"25\", \"26\", \"27\", \"28\", \"29\", \"29\", \"29\", \"32\", \"33\", \"34\", \"34\", \"36\", \"37\", \"38\", \"39\", \"40\", \"41\", \"42\", \"43\", \"44\", \"45\", \"46\", \"46\", \"48\", \"49\", \"50\", \"51\", \"52\", \"52\", \"54\", \"55\", \"55\", \"57\", \"58\", \"59\", \"60\", \"61\", \"61\", \"63\", \"64\", \"65\", \"66\", \"67\", \"68\", \"69\", \"70\", \"71\", \"72\", \"73\", \"74\", \"75\", \"75\", \"77\", \"78\", \"79\", \"80\", \"81\", \"82\", \"83\", \"83\", \"85\", \"86\", \"86\", \"88\", \"88\", \"90\", \"91\", \"91\", \"93\", \"94\", \"94\", \"96\", \"97\", \"98\", \"98\", \"98\", \"101\", \"102\", \"103\", \"103\", \"103\", \"103\", \"107\", \"107\", \"109\", \"109\", \"111\", \"111\", \"113\", \"113\", \"113\", \"116\", \"117\", \"118\", \"119\", \"120\", \"121\", \"121\", \"121\", \"124\", \"124\", \"126\", \"126\", \"126\", \"129\", \"130\", \"131\", \"132\", \"132\", \"132\", \"135\", \"136\", \"136\", \"138\", \"139\", \"140\", \"141\", \"141\", \"141\", \"144\", \"144\", \"146\", \"147\", \"148\", \"148\", \"150\", \"150\", \"152\", \"153\", \"154\", \"155\", \"156\", \"157\", \"157\", \"157\", \"160\", \"160\", \"162\", \"163\", \"164\", \"165\", \"165\", \"165\", \"165\", \"169\", \"170\", \"171\", \"171\", \"173\", \"173\", \"175\", \"175\", \"177\", \"178\", \"178\", \"180\", \"180\", \"182\", \"182\", \"182\", \"185\", \"186\", \"186\", \"188\", \"188\", \"188\", \"191\", \"192\", \"193\", \"193\", \"195\", \"196\", \"196\", \"198\", \"199\", \"200\", \"200\", \"201-225\", \"201-225\", \"201-225\", \"201-225\", \"201-225\", \"201-225\", \"201-225\", \"201-225\", \"201-225\", \"201-225\", \"201-225\", \"201-225\", \"201-225\", \"201-225\", \"201-225\", \"201-225\", \"201-225\", \"201-225\", \"201-225\", \"201-225\", \"201-225\", \"201-225\", \"201-225\", \"201-225\", \"201-225\", \"226-250\", \"226-250\", \"226-250\", \"226-250\", \"226-250\", \"226-250\", \"226-250\", \"226-250\", \"226-250\", \"226-250\", \"226-250\", \"226-250\", \"226-250\", \"226-250\", \"226-250\", \"226-250\", \"226-250\", \"226-250\", \"226-250\", \"226-250\", \"226-250\", \"226-250\", \"226-250\", \"226-250\", \"251-275\", \"251-275\", \"251-275\", \"251-275\", \"251-275\", \"251-275\", \"251-275\", \"251-275\", \"251-275\", \"251-275\", \"251-275\", \"251-275\", \"251-275\", \"251-275\", \"251-275\", \"251-275\", \"251-275\", \"251-275\", \"251-275\", \"251-275\", \"251-275\", \"251-275\", \"251-275\", \"251-275\", \"251-275\", \"276-300\", \"276-300\", \"276-300\", \"276-300\", \"276-300\", \"276-300\", \"276-300\", \"276-300\", \"276-300\", \"276-300\", \"276-300\", \"276-300\", \"276-300\", \"276-300\", \"276-300\", \"276-300\", \"276-300\", \"276-300\", \"276-300\", \"276-300\", \"276-300\", \"276-300\", \"276-300\", \"276-300\", \"276-300\", \"276-300\", \"276-300\", \"276-300\", \"301-350\", \"301-350\", \"301-350\", \"301-350\", \"301-350\", \"301-350\", \"301-350\", \"301-350\", \"301-350\", \"301-350\", \"301-350\", \"301-350\", \"301-350\", \"301-350\", \"301-350\", \"301-350\", \"301-350\", \"301-350\", \"301-350\", \"301-350\", \"301-350\", \"301-350\", \"301-350\", \"301-350\", \"301-350\", \"301-350\", \"301-350\", \"301-350\", \"301-350\", \"301-350\", \"301-350\", \"301-350\", \"301-350\", \"301-350\", \"301-350\", \"301-350\", \"301-350\", \"301-350\", \"301-350\", \"301-350\", \"301-350\", \"301-350\", \"301-350\", \"301-350\", \"301-350\", \"301-350\", \"301-350\", \"301-350\", \"351-400\", \"351-400\", \"351-400\", \"351-400\", \"351-400\", \"351-400\", \"351-400\", \"351-400\", \"351-400\", \"351-400\", \"351-400\", \"351-400\", \"351-400\", \"351-400\", \"351-400\", \"351-400\", \"351-400\", \"351-400\", \"351-400\", \"351-400\", \"351-400\", \"351-400\", \"351-400\", \"351-400\", \"351-400\", \"351-400\", \"351-400\", \"351-400\", \"351-400\", \"351-400\", \"351-400\", \"351-400\", \"351-400\", \"351-400\", \"351-400\", \"351-400\", \"351-400\", \"351-400\", \"351-400\", \"351-400\", \"351-400\", \"351-400\", \"351-400\", \"351-400\", \"351-400\", \"351-400\", \"351-400\", \"351-400\", \"351-400\", \"351-400\"], \"y\": [98.1, 98.6, 97.7, 96.7, 95.6, 88.2, 94.7, 96.7, 88.3, 90.8, 89.9, 90.5, 90.2, 79.4, 84.2, 82.0, 86.5, 75.2, 83.8, 85.1, 78.9, 80.4, 85.1, 74.9, 78.1, 68.9, 71.2, 72.0, 69.1, 79.0, 71.3, 69.0, 70.9, 74.2, 56.9, 62.9, 61.4, 62.4, 69.9, 62.3, 66.6, 55.2, 72.6, 68.0, 70.9, 64.7, 58.6, 61.9, 68.3, 77.1, 66.8, 63.2, 58.7, 54.2, 63.6, 59.7, 46.7, 64.8, 68.4, 60.8, 55.9, 47.1, 46.0, 58.2, 58.4, 49.3, 48.0, 51.1, 37.1, 45.4, 71.4, 53.7, 46.8, 44.7, 41.1, 44.6, 55.4, 36.2, 54.8, 52.6, 58.0, 49.4, 40.7, 54.4, 36.9, 51.4, 38.5, 33.9, 41.7, 51.6, 49.1, 46.3, 32.4, 43.2, 40.5, 38.2, 38.3, 45.0, 37.4, 53.0, 48.1, 50.5, 30.0, 48.1, 45.8, 33.1, 32.9, 37.2, 31.9, 51.9, 35.9, 30.4, 44.4, 44.7, 33.8, 37.4, 50.8, 22.4, 48.5, 33.1, 28.2, 29.2, 39.1, 47.1, 35.3, 29.1, 44.8, 52.1, 53.5, 35.9, 36.1, 36.9, 39.1, 34.1, 42.0, 39.9, 43.2, 30.3, 27.6, 46.7, 26.7, 51.9, 52.9, 47.1, 45.3, 39.1, 29.1, 50.2, 39.8, 35.1, 27.5, 35.4, 47.5, 32.7, 57.3, 29.9, 48.0, 33.2, 38.1, 34.4, 33.8, 36.5, 28.1, 40.4, 36.9, 34.9, 28.3, 47.3, 27.2, 33.6, 35.8, 34.9, 28.2, 30.6, 33.4, 33.5, 24.4, 29.3, 30.2, 19.7, 36.3, 37.5, 27.1, 39.7, 21.9, 35.2, 23.9, 24.4, 51.1, 34.7, 39.8, 32.9, 34.0, 30.9, 22.2, 42.1, 27.3, 22.6, 31.6, 13.1, 25.1, 27.7, 30.4, 22.4, 36.3, 36.5, 44.3, 29.6, 37.5, 22.0, 28.8, 27.9, 22.5, 34.1, 17.1, 34.0, 27.3, 23.4, 51.6, 28.2, 16.0, 45.3, 36.2, 23.5, 19.9, 45.8, 29.2, 29.3, 21.4, 24.5, 30.0, 29.9, 23.2, 31.8, 26.2, 29.3, 35.0, 32.3, 9.8, 28.1, 30.5, 38.2, 24.3, 33.4, 23.0, 32.5, 35.7, 17.3, 32.4, 35.3, 31.3, 10.1, 17.0, 23.3, 40.3, 24.8, 33.4, 25.1, 25.2, 33.7, 27.6, 30.7, 24.7, 18.1, 23.4, 29.9, 27.7, 19.2, 25.6, 37.9, 12.1, 21.7, 20.3, 20.3, 40.4, 32.8, 31.3, 39.5, 25.5, 22.5, 40.7, 29.6, 10.5, 18.1, 36.0, 37.9, 31.2, 45.1, 22.9, 22.2, 23.2, 22.4, 15.3, 19.7, 28.9, 20.3, 22.9, 24.4, 24.0, 27.5, 27.8, 28.5, 40.0, 19.3, 23.0, 17.8, 24.3, 10.4, 20.6, 14.3, 13.2, 17.3, 16.5, 24.4, 24.8, 17.2, 21.1, 26.6, 14.7, 24.8, 28.1, 34.7, 38.8, 25.2, 20.7, 25.1, 23.4, 18.4, 27.1, 16.8, 13.7, 29.0, 25.8, 24.0, 20.1, 29.4, 6.5, 13.7, 16.5, 15.7, 18.2, 18.8, 20.5, 25.1, 17.3, 22.2, 21.6, 12.0, 13.6, 15.2, 33.1, 28.5, 20.6, 21.6, 12.9, 19.1, 17.2, 17.1, 18.0, 20.3, 32.3, 27.5, 24.6, 14.3, 27.3, 10.0, 28.5, 16.6, 27.6, 17.8, 40.1, 32.9, 42.6, 18.9, 22.5, 16.3, 16.9, 25.7, 18.1, 21.6, 15.2, 17.3, 17.3, 10.9, 22.8, 18.4, 16.2, 22.0, 22.3, 10.6, 11.8, 20.2, 21.8, 19.4, 17.0, 17.9, 16.3, 27.5, 22.4, 17.4, 8.0]}, {\"name\": \"citations\", \"type\": \"scatter\", \"x\": [\"1\", \"2\", \"3\", \"4\", \"5\", \"6\", \"7\", \"8\", \"9\", \"9\", \"11\", \"12\", \"13\", \"14\", \"15\", \"16\", \"17\", \"18\", \"19\", \"20\", \"21\", \"22\", \"23\", \"24\", \"25\", \"26\", \"27\", \"28\", \"29\", \"29\", \"29\", \"32\", \"33\", \"34\", \"34\", \"36\", \"37\", \"38\", \"39\", \"40\", \"41\", \"42\", \"43\", \"44\", \"45\", \"46\", \"46\", \"48\", \"49\", \"50\", \"51\", \"52\", \"52\", \"54\", \"55\", \"55\", \"57\", \"58\", \"59\", \"60\", \"61\", \"61\", \"63\", \"64\", \"65\", \"66\", \"67\", \"68\", \"69\", \"70\", \"71\", \"72\", \"73\", \"74\", \"75\", \"75\", \"77\", \"78\", \"79\", \"80\", \"81\", \"82\", \"83\", \"83\", \"85\", \"86\", \"86\", \"88\", \"88\", \"90\", \"91\", \"91\", \"93\", \"94\", \"94\", \"96\", \"97\", \"98\", \"98\", \"98\", \"101\", \"102\", \"103\", \"103\", \"103\", \"103\", \"107\", \"107\", \"109\", \"109\", \"111\", \"111\", \"113\", \"113\", \"113\", \"116\", \"117\", \"118\", \"119\", \"120\", \"121\", \"121\", \"121\", \"124\", \"124\", \"126\", \"126\", \"126\", \"129\", \"130\", \"131\", \"132\", \"132\", \"132\", \"135\", \"136\", \"136\", \"138\", \"139\", \"140\", \"141\", \"141\", \"141\", \"144\", \"144\", \"146\", \"147\", \"148\", \"148\", \"150\", \"150\", \"152\", \"153\", \"154\", \"155\", \"156\", \"157\", \"157\", \"157\", \"160\", \"160\", \"162\", \"163\", \"164\", \"165\", \"165\", \"165\", \"165\", \"169\", \"170\", \"171\", \"171\", \"173\", \"173\", \"175\", \"175\", \"177\", \"178\", \"178\", \"180\", \"180\", \"182\", \"182\", \"182\", \"185\", \"186\", \"186\", \"188\", \"188\", \"188\", \"191\", \"192\", \"193\", \"193\", \"195\", \"196\", \"196\", \"198\", \"199\", \"200\", \"200\", \"201-225\", \"201-225\", \"201-225\", \"201-225\", \"201-225\", \"201-225\", \"201-225\", \"201-225\", \"201-225\", \"201-225\", \"201-225\", \"201-225\", \"201-225\", \"201-225\", \"201-225\", \"201-225\", \"201-225\", \"201-225\", \"201-225\", \"201-225\", \"201-225\", \"201-225\", \"201-225\", \"201-225\", \"201-225\", \"226-250\", \"226-250\", \"226-250\", \"226-250\", \"226-250\", \"226-250\", \"226-250\", \"226-250\", \"226-250\", \"226-250\", \"226-250\", \"226-250\", \"226-250\", \"226-250\", \"226-250\", \"226-250\", \"226-250\", \"226-250\", \"226-250\", \"226-250\", \"226-250\", \"226-250\", \"226-250\", \"226-250\", \"251-275\", \"251-275\", \"251-275\", \"251-275\", \"251-275\", \"251-275\", \"251-275\", \"251-275\", \"251-275\", \"251-275\", \"251-275\", \"251-275\", \"251-275\", \"251-275\", \"251-275\", \"251-275\", \"251-275\", \"251-275\", \"251-275\", \"251-275\", \"251-275\", \"251-275\", \"251-275\", \"251-275\", \"251-275\", \"276-300\", \"276-300\", \"276-300\", \"276-300\", \"276-300\", \"276-300\", \"276-300\", \"276-300\", \"276-300\", \"276-300\", \"276-300\", \"276-300\", \"276-300\", \"276-300\", \"276-300\", \"276-300\", \"276-300\", \"276-300\", \"276-300\", \"276-300\", \"276-300\", \"276-300\", \"276-300\", \"276-300\", \"276-300\", \"276-300\", \"276-300\", \"276-300\", \"301-350\", \"301-350\", \"301-350\", \"301-350\", \"301-350\", \"301-350\", \"301-350\", \"301-350\", \"301-350\", \"301-350\", \"301-350\", \"301-350\", \"301-350\", \"301-350\", \"301-350\", \"301-350\", \"301-350\", \"301-350\", \"301-350\", \"301-350\", \"301-350\", \"301-350\", \"301-350\", \"301-350\", \"301-350\", \"301-350\", \"301-350\", \"301-350\", \"301-350\", \"301-350\", \"301-350\", \"301-350\", \"301-350\", \"301-350\", \"301-350\", \"301-350\", \"301-350\", \"301-350\", \"301-350\", \"301-350\", \"301-350\", \"301-350\", \"301-350\", \"301-350\", \"301-350\", \"301-350\", \"301-350\", \"301-350\", \"351-400\", \"351-400\", \"351-400\", \"351-400\", \"351-400\", \"351-400\", \"351-400\", \"351-400\", \"351-400\", \"351-400\", \"351-400\", \"351-400\", \"351-400\", \"351-400\", \"351-400\", \"351-400\", \"351-400\", \"351-400\", \"351-400\", \"351-400\", \"351-400\", \"351-400\", \"351-400\", \"351-400\", \"351-400\", \"351-400\", \"351-400\", \"351-400\", \"351-400\", \"351-400\", \"351-400\", \"351-400\", \"351-400\", \"351-400\", \"351-400\", \"351-400\", \"351-400\", \"351-400\", \"351-400\", \"351-400\", \"351-400\", \"351-400\", \"351-400\", \"351-400\", \"351-400\", \"351-400\", \"351-400\", \"351-400\", \"351-400\", \"351-400\"], \"xaxis\": \"x2\", \"y\": [99.7, 98.9, 95.5, 99.1, 95.2, 100.0, 99.6, 99.1, 89.4, 94.0, 97.3, 95.3, 83.5, 95.3, 93.6, 94.4, 88.9, 96.6, 91.5, 83.0, 96.9, 85.1, 74.7, 92.0, 66.0, 95.0, 85.8, 91.5, 83.0, 77.8, 87.7, 85.3, 80.6, 71.3, 95.0, 88.3, 99.2, 89.5, 76.0, 88.3, 96.4, 97.1, 65.1, 76.8, 71.1, 82.9, 91.0, 63.7, 65.0, 48.7, 72.9, 71.4, 74.3, 92.0, 71.8, 80.4, 94.4, 76.0, 57.0, 69.0, 75.9, 79.9, 96.4, 82.3, 74.2, 84.4, 92.3, 80.4, 99.9, 81.4, 42.6, 82.3, 77.5, 85.1, 81.4, 81.3, 76.6, 84.8, 80.0, 71.9, 67.6, 74.0, 88.9, 65.7, 92.0, 74.0, 90.0, 92.9, 89.5, 73.8, 78.7, 84.4, 89.5, 78.8, 83.7, 87.7, 97.4, 90.9, 78.8, 70.9, 70.1, 62.2, 83.3, 79.0, 68.2, 81.4, 88.9, 78.2, 100.0, 61.1, 81.4, 92.8, 62.9, 74.0, 90.5, 82.9, 68.1, 98.9, 74.9, 87.7, 79.6, 87.7, 74.3, 61.8, 86.6, 95.9, 55.1, 62.2, 57.8, 76.9, 78.0, 70.1, 83.6, 79.7, 70.8, 76.5, 74.9, 77.6, 96.8, 73.9, 97.1, 55.1, 48.1, 57.3, 71.0, 69.3, 95.3, 51.7, 62.7, 73.1, 91.5, 80.4, 66.5, 78.0, 47.7, 75.0, 51.1, 76.2, 62.2, 73.5, 73.0, 75.0, 74.0, 61.1, 79.7, 62.9, 88.3, 49.6, 73.1, 67.7, 62.7, 67.7, 62.2, 86.7, 68.4, 71.0, 87.1, 73.0, 74.3, 92.2, 73.1, 73.1, 88.5, 56.3, 81.3, 66.3, 77.8, 80.4, 45.5, 62.9, 57.5, 68.6, 61.0, 72.0, 83.8, 33.8, 86.4, 83.7, 67.1, 99.2, 70.0, 76.0, 69.3, 78.8, 57.2, 56.5, 39.9, 70.3, 52.0, 73.0, 79.7, 68.5, 84.4, 55.1, 77.0, 58.1, 73.6, 74.0, 32.3, 77.8, 88.1, 49.4, 64.4, 81.3, 78.7, 44.3, 67.0, 60.4, 75.3, 76.9, 54.4, 58.1, 55.1, 59.9, 67.8, 67.6, 68.9, 47.0, 100.0, 61.7, 59.4, 64.4, 70.8, 59.4, 76.6, 58.7, 47.0, 81.4, 41.7, 62.9, 50.2, 99.7, 71.1, 59.6, 49.1, 62.8, 48.2, 52.2, 59.9, 42.0, 55.7, 51.5, 74.8, 73.0, 73.1, 57.5, 57.6, 75.6, 64.5, 55.1, 89.8, 67.3, 70.3, 72.5, 47.0, 40.8, 59.9, 51.6, 59.9, 67.4, 40.4, 49.6, 84.4, 80.5, 42.9, 38.9, 45.6, 34.9, 51.1, 56.9, 64.5, 67.8, 68.7, 58.6, 46.6, 68.1, 66.9, 57.5, 52.7, 55.1, 55.1, 53.8, 40.7, 59.7, 55.8, 64.5, 50.1, 63.3, 57.5, 57.5, 70.8, 50.3, 61.0, 58.5, 50.2, 70.5, 63.3, 55.8, 59.6, 65.6, 50.7, 50.4, 28.0, 54.1, 53.9, 47.5, 53.8, 65.3, 45.4, 67.0, 64.1, 39.3, 44.2, 50.2, 62.2, 48.2, 83.0, 75.0, 51.5, 57.5, 68.0, 69.2, 61.2, 49.9, 56.9, 58.7, 51.1, 72.7, 70.0, 61.0, 40.2, 39.9, 52.2, 45.1, 61.8, 52.0, 62.6, 45.3, 57.6, 53.9, 29.0, 32.2, 43.5, 62.6, 48.9, 75.0, 33.6, 56.3, 51.5, 46.5, 28.4, 39.0, 30.9, 43.5, 42.0, 50.2, 53.2, 52.7, 52.0, 53.8, 64.5, 60.8, 55.1, 65.0, 44.8, 44.6, 60.6, 46.6, 41.7, 61.6, 62.1, 63.3, 47.7, 57.5, 50.0, 48.1, 55.5, 44.2, 58.7, 48.5, 75.8], \"yaxis\": \"y2\"}, {\"name\": \"income\", \"type\": \"scatter\", \"x\": [\"1\", \"2\", \"3\", \"4\", \"5\", \"6\", \"7\", \"8\", \"9\", \"9\", \"11\", \"12\", \"13\", \"14\", \"15\", \"16\", \"17\", \"18\", \"19\", \"20\", \"21\", \"22\", \"23\", \"24\", \"25\", \"26\", \"27\", \"28\", \"29\", \"29\", \"29\", \"32\", \"33\", \"34\", \"34\", \"36\", \"37\", \"38\", \"39\", \"40\", \"41\", \"42\", \"43\", \"44\", \"45\", \"46\", \"46\", \"48\", \"49\", \"50\", \"51\", \"52\", \"52\", \"54\", \"55\", \"55\", \"57\", \"58\", \"59\", \"60\", \"61\", \"61\", \"63\", \"64\", \"65\", \"66\", \"67\", \"68\", \"69\", \"70\", \"71\", \"72\", \"73\", \"74\", \"75\", \"75\", \"77\", \"78\", \"79\", \"80\", \"81\", \"82\", \"83\", \"83\", \"85\", \"86\", \"86\", \"88\", \"88\", \"90\", \"91\", \"91\", \"93\", \"94\", \"94\", \"96\", \"97\", \"98\", \"98\", \"98\", \"101\", \"102\", \"103\", \"103\", \"103\", \"103\", \"107\", \"107\", \"109\", \"109\", \"111\", \"111\", \"113\", \"113\", \"113\", \"116\", \"117\", \"118\", \"119\", \"120\", \"121\", \"121\", \"121\", \"124\", \"124\", \"126\", \"126\", \"126\", \"129\", \"130\", \"131\", \"132\", \"132\", \"132\", \"135\", \"136\", \"136\", \"138\", \"139\", \"140\", \"141\", \"141\", \"141\", \"144\", \"144\", \"146\", \"147\", \"148\", \"148\", \"150\", \"150\", \"152\", \"153\", \"154\", \"155\", \"156\", \"157\", \"157\", \"157\", \"160\", \"160\", \"162\", \"163\", \"164\", \"165\", \"165\", \"165\", \"165\", \"169\", \"170\", \"171\", \"171\", \"173\", \"173\", \"175\", \"175\", \"177\", \"178\", \"178\", \"180\", \"180\", \"182\", \"182\", \"182\", \"185\", \"186\", \"186\", \"188\", \"188\", \"188\", \"191\", \"192\", \"193\", \"193\", \"195\", \"196\", \"196\", \"198\", \"199\", \"200\", \"200\", \"201-225\", \"201-225\", \"201-225\", \"201-225\", \"201-225\", \"201-225\", \"201-225\", \"201-225\", \"201-225\", \"201-225\", \"201-225\", \"201-225\", \"201-225\", \"201-225\", \"201-225\", \"201-225\", \"201-225\", \"201-225\", \"201-225\", \"201-225\", \"201-225\", \"201-225\", \"201-225\", \"201-225\", \"201-225\", \"226-250\", \"226-250\", \"226-250\", \"226-250\", \"226-250\", \"226-250\", \"226-250\", \"226-250\", \"226-250\", \"226-250\", \"226-250\", \"226-250\", \"226-250\", \"226-250\", \"226-250\", \"226-250\", \"226-250\", \"226-250\", \"226-250\", \"226-250\", \"226-250\", \"226-250\", \"226-250\", \"226-250\", \"251-275\", \"251-275\", \"251-275\", \"251-275\", \"251-275\", \"251-275\", \"251-275\", \"251-275\", \"251-275\", \"251-275\", \"251-275\", \"251-275\", \"251-275\", \"251-275\", \"251-275\", \"251-275\", \"251-275\", \"251-275\", \"251-275\", \"251-275\", \"251-275\", \"251-275\", \"251-275\", \"251-275\", \"251-275\", \"276-300\", \"276-300\", \"276-300\", \"276-300\", \"276-300\", \"276-300\", \"276-300\", \"276-300\", \"276-300\", \"276-300\", \"276-300\", \"276-300\", \"276-300\", \"276-300\", \"276-300\", \"276-300\", \"276-300\", \"276-300\", \"276-300\", \"276-300\", \"276-300\", \"276-300\", \"276-300\", \"276-300\", \"276-300\", \"276-300\", \"276-300\", \"276-300\", \"301-350\", \"301-350\", \"301-350\", \"301-350\", \"301-350\", \"301-350\", \"301-350\", \"301-350\", \"301-350\", \"301-350\", \"301-350\", \"301-350\", \"301-350\", \"301-350\", \"301-350\", \"301-350\", \"301-350\", \"301-350\", \"301-350\", \"301-350\", \"301-350\", \"301-350\", \"301-350\", \"301-350\", \"301-350\", \"301-350\", \"301-350\", \"301-350\", \"301-350\", \"301-350\", \"301-350\", \"301-350\", \"301-350\", \"301-350\", \"301-350\", \"301-350\", \"301-350\", \"301-350\", \"301-350\", \"301-350\", \"301-350\", \"301-350\", \"301-350\", \"301-350\", \"301-350\", \"301-350\", \"301-350\", \"301-350\", \"351-400\", \"351-400\", \"351-400\", \"351-400\", \"351-400\", \"351-400\", \"351-400\", \"351-400\", \"351-400\", \"351-400\", \"351-400\", \"351-400\", \"351-400\", \"351-400\", \"351-400\", \"351-400\", \"351-400\", \"351-400\", \"351-400\", \"351-400\", \"351-400\", \"351-400\", \"351-400\", \"351-400\", \"351-400\", \"351-400\", \"351-400\", \"351-400\", \"351-400\", \"351-400\", \"351-400\", \"351-400\", \"351-400\", \"351-400\", \"351-400\", \"351-400\", \"351-400\", \"351-400\", \"351-400\", \"351-400\", \"351-400\", \"351-400\", \"351-400\", \"351-400\", \"351-400\", \"351-400\", \"351-400\", \"351-400\", \"351-400\", \"351-400\"], \"xaxis\": \"x3\", \"y\": [\"89.1\", \"44.0\", \"72.9\", \"63.1\", \"51.1\", \"95.7\", \"82.7\", \"44.8\", \"72.7\", \"42.0\", \"36.8\", \"-\", \"73.2\", \"-\", \"100.0\", \"43.0\", \"55.7\", \"100.0\", \"33.7\", \"46.1\", \"77.0\", \"46.2\", \"51.2\", \"53.0\", \"53.4\", \"44.7\", \"72.3\", \"58.1\", \"100.0\", \"51.7\", \"53.3\", \"40.1\", \"61.2\", \"40.6\", \"61.9\", \"41.2\", \"87.1\", \"30.2\", \"38.6\", \"39.0\", \"54.2\", \"-\", \"56.0\", \"65.5\", \"38.9\", \"-\", \"40.5\", \"100.0\", \"99.7\", \"86.3\", \"57.6\", \"100.0\", \"39.4\", \"32.7\", \"99.9\", \"55.4\", \"30.3\", \"60.4\", \"73.3\", \"67.3\", \"100.0\", \"76.8\", \"40.1\", \"47.3\", \"66.2\", \"100.0\", \"32.8\", \"46.8\", \"34.6\", \"41.6\", \"100.0\", \"54.4\", \"100.0\", \"42.1\", \"97.7\", \"34.4\", \"56.7\", \"39.4\", \"84.1\", \"31.9\", \"33.5\", \"31.7\", \"34.8\", \"73.4\", \"55.2\", \"99.6\", \"-\", \"58.7\", \"40.0\", \"85.3\", \"52.8\", \"38.5\", \"42.3\", \"85.0\", \"39.9\", \"59.4\", \"-\", \"32.4\", \"49.0\", \"39.6\", \"96.1\", \"-\", \"33.4\", \"31.5\", \"35.6\", \"40.1\", \"37.1\", \"65.1\", \"33.8\", \"47.8\", \"39.8\", \"31.2\", \"91.8\", \"54.7\", \"32.2\", \"-\", \"88.9\", \"32.8\", \"32.6\", \"28.9\", \"98.6\", \"36.4\", \"43.8\", \"51.8\", \"88.0\", \"46.5\", \"100.0\", \"-\", \"42.8\", \"49.8\", \"34.1\", \"47.4\", \"33.2\", \"38.9\", \"99.5\", \"50.9\", \"60.0\", \"30.6\", \"47.7\", \"42.8\", \"79.4\", \"49.6\", \"69.4\", \"99.9\", \"35.2\", \"39.4\", \"43.9\", \"98.5\", \"36.0\", \"-\", \"39.5\", \"49.1\", \"59.8\", \"35.8\", \"43.8\", \"69.8\", \"73.6\", \"40.0\", \"63.3\", \"44.4\", \"29.3\", \"58.1\", \"81.4\", \"65.3\", \"51.1\", \"82.7\", \"35.9\", \"76.8\", \"-\", \"100.0\", \"39.6\", \"46.1\", \"80.0\", \"31.6\", \"74.2\", \"49.3\", \"40.6\", \"31.3\", \"42.1\", \"29.1\", \"99.3\", \"32.6\", \"42.9\", \"29.4\", \"34.0\", \"36.6\", \"-\", \"31.3\", \"42.6\", \"45.9\", \"39.6\", \"49.8\", \"49.4\", \"54.4\", \"-\", \"78.5\", \"32.4\", \"29.2\", \"34.8\", \"53.7\", \"29.3\", \"46.4\", \"34.8\", \"38.8\", \"31.5\", \"42.6\", \"98.5\", \"35.0\", \"36.5\", \"56.7\", \"31.0\", \"34.2\", \"47.7\", \"40.7\", \"42.0\", \"34.9\", \"71.6\", \"32.0\", \"40.1\", \"41.6\", \"33.3\", \"89.2\", \"50.7\", \"38.2\", \"30.0\", \"69.7\", \"34.6\", \"28.7\", \"31.9\", \"30.7\", \"68.9\", \"62.7\", \"99.0\", \"86.3\", \"49.9\", \"41.8\", \"-\", \"63.4\", \"31.0\", \"33.8\", \"41.5\", \"37.0\", \"42.0\", \"52.5\", \"45.0\", \"40.1\", \"50.7\", \"30.0\", \"64.1\", \"34.1\", \"64.5\", \"28.1\", \"33.7\", \"51.7\", \"49.4\", \"43.1\", \"59.0\", \"43.7\", \"99.8\", \"88.9\", \"46.3\", \"38.3\", \"64.0\", \"38.2\", \"44.5\", \"75.6\", \"31.9\", \"64.4\", \"38.4\", \"99.8\", \"36.5\", \"94.8\", \"46.0\", \"40.8\", \"41.7\", \"75.8\", \"38.8\", \"37.9\", \"73.8\", \"33.6\", \"98.2\", \"45.0\", \"28.3\", \"28.8\", \"71.9\", \"88.4\", \"94.7\", \"55.1\", \"56.9\", \"45.9\", \"34.9\", \"35.6\", \"46.8\", \"48.2\", \"31.1\", \"33.6\", \"40.1\", \"35.0\", \"83.9\", \"31.8\", \"44.7\", \"49.7\", \"42.6\", \"32.2\", \"31.1\", \"32.7\", \"29.4\", \"32.4\", \"30.6\", \"34.6\", \"29.1\", \"-\", \"39.2\", \"50.6\", \"36.2\", \"33.4\", \"32.0\", \"67.8\", \"42.8\", \"29.2\", \"34.2\", \"86.2\", \"44.5\", \"58.9\", \"-\", \"36.7\", \"49.5\", \"28.8\", \"31.1\", \"36.0\", \"44.2\", \"29.1\", \"43.2\", \"-\", \"36.2\", \"43.5\", \"28.6\", \"34.4\", \"34.5\", \"34.5\", \"32.9\", \"37.7\", \"72.6\", \"30.7\", \"48.2\", \"42.5\", \"36.9\", \"30.8\", \"28.5\", \"-\", \"88.6\", \"43.9\", \"33.0\", \"35.7\", \"34.8\", \"37.4\", \"33.6\", \"36.1\", \"61.3\", \"28.7\", \"88.7\", \"43.4\", \"49.7\", \"69.0\", \"84.1\", \"56.5\", \"68.7\", \"39.2\", \"-\", \"40.5\", \"100.0\", \"47.0\", \"82.0\", \"28.4\", \"47.4\", \"38.8\", \"38.8\", \"31.3\", \"35.2\", \"32.8\", \"40.4\", \"35.4\", \"30.2\", \"29.6\", \"33.9\", \"70.4\", \"44.5\", \"31.2\", \"90.2\", \"29.2\", \"37.7\", \"29.1\", \"32.1\", \"-\", \"50.0\", \"44.8\", \"32.6\", \"54.5\", \"30.4\", \"85.9\", \"57.8\"], \"yaxis\": \"y3\"}, {\"name\": \"total_score\", \"type\": \"scatter\", \"x\": [\"1\", \"2\", \"3\", \"4\", \"5\", \"6\", \"7\", \"8\", \"9\", \"9\", \"11\", \"12\", \"13\", \"14\", \"15\", \"16\", \"17\", \"18\", \"19\", \"20\", \"21\", \"22\", \"23\", \"24\", \"25\", \"26\", \"27\", \"28\", \"29\", \"29\", \"29\", \"32\", \"33\", \"34\", \"34\", \"36\", \"37\", \"38\", \"39\", \"40\", \"41\", \"42\", \"43\", \"44\", \"45\", \"46\", \"46\", \"48\", \"49\", \"50\", \"51\", \"52\", \"52\", \"54\", \"55\", \"55\", \"57\", \"58\", \"59\", \"60\", \"61\", \"61\", \"63\", \"64\", \"65\", \"66\", \"67\", \"68\", \"69\", \"70\", \"71\", \"72\", \"73\", \"74\", \"75\", \"75\", \"77\", \"78\", \"79\", \"80\", \"81\", \"82\", \"83\", \"83\", \"85\", \"86\", \"86\", \"88\", \"88\", \"90\", \"91\", \"91\", \"93\", \"94\", \"94\", \"96\", \"97\", \"98\", \"98\", \"98\", \"101\", \"102\", \"103\", \"103\", \"103\", \"103\", \"107\", \"107\", \"109\", \"109\", \"111\", \"111\", \"113\", \"113\", \"113\", \"116\", \"117\", \"118\", \"119\", \"120\", \"121\", \"121\", \"121\", \"124\", \"124\", \"126\", \"126\", \"126\", \"129\", \"130\", \"131\", \"132\", \"132\", \"132\", \"135\", \"136\", \"136\", \"138\", \"139\", \"140\", \"141\", \"141\", \"141\", \"144\", \"144\", \"146\", \"147\", \"148\", \"148\", \"150\", \"150\", \"152\", \"153\", \"154\", \"155\", \"156\", \"157\", \"157\", \"157\", \"160\", \"160\", \"162\", \"163\", \"164\", \"165\", \"165\", \"165\", \"165\", \"169\", \"170\", \"171\", \"171\", \"173\", \"173\", \"175\", \"175\", \"177\", \"178\", \"178\", \"180\", \"180\", \"182\", \"182\", \"182\", \"185\", \"186\", \"186\", \"188\", \"188\", \"188\", \"191\", \"192\", \"193\", \"193\", \"195\", \"196\", \"196\", \"198\", \"199\", \"200\", \"200\", \"201-225\", \"201-225\", \"201-225\", \"201-225\", \"201-225\", \"201-225\", \"201-225\", \"201-225\", \"201-225\", \"201-225\", \"201-225\", \"201-225\", \"201-225\", \"201-225\", \"201-225\", \"201-225\", \"201-225\", \"201-225\", \"201-225\", \"201-225\", \"201-225\", \"201-225\", \"201-225\", \"201-225\", \"201-225\", \"226-250\", \"226-250\", \"226-250\", \"226-250\", \"226-250\", \"226-250\", \"226-250\", \"226-250\", \"226-250\", \"226-250\", \"226-250\", \"226-250\", \"226-250\", \"226-250\", \"226-250\", \"226-250\", \"226-250\", \"226-250\", \"226-250\", \"226-250\", \"226-250\", \"226-250\", \"226-250\", \"226-250\", \"251-275\", \"251-275\", \"251-275\", \"251-275\", \"251-275\", \"251-275\", \"251-275\", \"251-275\", \"251-275\", \"251-275\", \"251-275\", \"251-275\", \"251-275\", \"251-275\", \"251-275\", \"251-275\", \"251-275\", \"251-275\", \"251-275\", \"251-275\", \"251-275\", \"251-275\", \"251-275\", \"251-275\", \"251-275\", \"276-300\", \"276-300\", \"276-300\", \"276-300\", \"276-300\", \"276-300\", \"276-300\", \"276-300\", \"276-300\", \"276-300\", \"276-300\", \"276-300\", \"276-300\", \"276-300\", \"276-300\", \"276-300\", \"276-300\", \"276-300\", \"276-300\", \"276-300\", \"276-300\", \"276-300\", \"276-300\", \"276-300\", \"276-300\", \"276-300\", \"276-300\", \"276-300\", \"301-350\", \"301-350\", \"301-350\", \"301-350\", \"301-350\", \"301-350\", \"301-350\", \"301-350\", \"301-350\", \"301-350\", \"301-350\", \"301-350\", \"301-350\", \"301-350\", \"301-350\", \"301-350\", \"301-350\", \"301-350\", \"301-350\", \"301-350\", \"301-350\", \"301-350\", \"301-350\", \"301-350\", \"301-350\", \"301-350\", \"301-350\", \"301-350\", \"301-350\", \"301-350\", \"301-350\", \"301-350\", \"301-350\", \"301-350\", \"301-350\", \"301-350\", \"301-350\", \"301-350\", \"301-350\", \"301-350\", \"301-350\", \"301-350\", \"301-350\", \"301-350\", \"301-350\", \"301-350\", \"301-350\", \"301-350\", \"351-400\", \"351-400\", \"351-400\", \"351-400\", \"351-400\", \"351-400\", \"351-400\", \"351-400\", \"351-400\", \"351-400\", \"351-400\", \"351-400\", \"351-400\", \"351-400\", \"351-400\", \"351-400\", \"351-400\", \"351-400\", \"351-400\", \"351-400\", \"351-400\", \"351-400\", \"351-400\", \"351-400\", \"351-400\", \"351-400\", \"351-400\", \"351-400\", \"351-400\", \"351-400\", \"351-400\", \"351-400\", \"351-400\", \"351-400\", \"351-400\", \"351-400\", \"351-400\", \"351-400\", \"351-400\", \"351-400\", \"351-400\", \"351-400\", \"351-400\", \"351-400\", \"351-400\", \"351-400\", \"351-400\", \"351-400\", \"351-400\", \"351-400\"], \"xaxis\": \"x4\", \"y\": [\"94.3\", \"93.3\", \"93.2\", \"92.9\", \"92.0\", \"91.9\", \"90.9\", \"89.5\", \"87.5\", \"87.5\", \"87.1\", \"85.5\", \"84.6\", \"84.4\", \"83.0\", \"81.0\", \"80.9\", \"79.9\", \"79.4\", \"79.3\", \"79.2\", \"78.7\", \"76.1\", \"74.3\", \"73.3\", \"73.2\", \"72.8\", \"72.3\", \"71.9\", \"71.9\", \"71.9\", \"71.8\", \"71.2\", \"70.9\", \"70.9\", \"70.4\", \"70.0\", \"69.9\", \"69.6\", \"69.4\", \"68.6\", \"67.8\", \"67.5\", \"66.8\", \"66.5\", \"65.9\", \"65.9\", \"65.2\", \"65.1\", \"64.8\", \"64.7\", \"64.5\", \"64.5\", \"64.1\", \"63.7\", \"63.7\", \"63.6\", \"62.9\", \"62.8\", \"62.7\", \"62.2\", \"62.2\", \"61.9\", \"61.3\", \"61.2\", \"61.1\", \"61.0\", \"60.7\", \"59.8\", \"59.6\", \"59.2\", \"59.1\", \"59.0\", \"58.9\", \"58.4\", \"58.4\", \"58.2\", \"58.1\", \"58.0\", \"57.9\", \"57.6\", \"57.3\", \"56.9\", \"56.9\", \"56.6\", \"56.5\", \"56.5\", \"56.4\", \"56.4\", \"56.2\", \"56.1\", \"56.1\", \"55.5\", \"55.3\", \"55.3\", \"55.2\", \"55.1\", \"54.6\", \"54.6\", \"54.6\", \"54.3\", \"54.0\", \"53.9\", \"53.9\", \"53.9\", \"53.9\", \"53.8\", \"53.8\", \"53.7\", \"53.7\", \"53.6\", \"53.6\", \"53.4\", \"53.4\", \"53.4\", \"53.2\", \"53.1\", \"53.0\", \"52.9\", \"52.8\", \"52.7\", \"52.7\", \"52.7\", \"52.6\", \"52.6\", \"52.5\", \"52.5\", \"52.5\", \"52.4\", \"52.1\", \"52.0\", \"51.9\", \"51.9\", \"51.9\", \"51.6\", \"51.4\", \"51.4\", \"51.2\", \"51.1\", \"51.0\", \"50.9\", \"50.9\", \"50.9\", \"50.5\", \"50.5\", \"50.4\", \"50.3\", \"50.2\", \"50.2\", \"50.1\", \"50.1\", \"50.0\", \"49.9\", \"49.7\", \"49.3\", \"49.2\", \"49.1\", \"49.1\", \"49.1\", \"49.0\", \"49.0\", \"48.6\", \"48.3\", \"48.2\", \"48.1\", \"48.1\", \"48.1\", \"48.1\", \"48.0\", \"47.9\", \"47.8\", \"47.8\", \"47.7\", \"47.7\", \"47.5\", \"47.5\", \"47.3\", \"47.1\", \"47.1\", \"47.0\", \"47.0\", \"46.9\", \"46.9\", \"46.9\", \"46.8\", \"46.7\", \"46.7\", \"46.6\", \"46.6\", \"46.6\", \"46.5\", \"46.3\", \"46.2\", \"46.2\", \"46.1\", \"46.0\", \"46.0\", \"45.9\", \"45.7\", \"45.6\", \"45.6\", \"-\", \"-\", \"-\", \"-\", \"-\", \"-\", \"-\", \"-\", \"-\", \"-\", \"-\", \"-\", \"-\", \"-\", \"-\", \"-\", \"-\", \"-\", \"-\", \"-\", \"-\", \"-\", \"-\", \"-\", \"-\", \"-\", \"-\", \"-\", \"-\", \"-\", \"-\", \"-\", \"-\", \"-\", \"-\", \"-\", \"-\", \"-\", \"-\", \"-\", \"-\", \"-\", \"-\", \"-\", \"-\", \"-\", \"-\", \"-\", \"-\", \"-\", \"-\", \"-\", \"-\", \"-\", \"-\", \"-\", \"-\", \"-\", \"-\", \"-\", \"-\", \"-\", \"-\", \"-\", \"-\", \"-\", \"-\", \"-\", \"-\", \"-\", \"-\", \"-\", \"-\", \"-\", \"-\", \"-\", \"-\", \"-\", \"-\", \"-\", \"-\", \"-\", \"-\", \"-\", \"-\", \"-\", \"-\", \"-\", \"-\", \"-\", \"-\", \"-\", \"-\", \"-\", \"-\", \"-\", \"-\", \"-\", \"-\", \"-\", \"-\", \"-\", \"-\", \"-\", \"-\", \"-\", \"-\", \"-\", \"-\", \"-\", \"-\", \"-\", \"-\", \"-\", \"-\", \"-\", \"-\", \"-\", \"-\", \"-\", \"-\", \"-\", \"-\", \"-\", \"-\", \"-\", \"-\", \"-\", \"-\", \"-\", \"-\", \"-\", \"-\", \"-\", \"-\", \"-\", \"-\", \"-\", \"-\", \"-\", \"-\", \"-\", \"-\", \"-\", \"-\", \"-\", \"-\", \"-\", \"-\", \"-\", \"-\", \"-\", \"-\", \"-\", \"-\", \"-\", \"-\", \"-\", \"-\", \"-\", \"-\", \"-\", \"-\", \"-\", \"-\", \"-\", \"-\", \"-\", \"-\", \"-\", \"-\", \"-\", \"-\", \"-\", \"-\", \"-\", \"-\", \"-\", \"-\", \"-\", \"-\", \"-\", \"-\", \"-\", \"-\", \"-\", \"-\", \"-\", \"-\", \"-\", \"-\", \"-\", \"-\", \"-\", \"-\", \"-\", \"-\", \"-\", \"-\", \"-\"], \"yaxis\": \"y4\"}],                        {\"template\": {\"data\": {\"bar\": [{\"error_x\": {\"color\": \"#2a3f5f\"}, \"error_y\": {\"color\": \"#2a3f5f\"}, \"marker\": {\"line\": {\"color\": \"#E5ECF6\", \"width\": 0.5}}, \"type\": \"bar\"}], \"barpolar\": [{\"marker\": {\"line\": {\"color\": \"#E5ECF6\", \"width\": 0.5}}, \"type\": \"barpolar\"}], \"carpet\": [{\"aaxis\": {\"endlinecolor\": \"#2a3f5f\", \"gridcolor\": \"white\", \"linecolor\": \"white\", \"minorgridcolor\": \"white\", \"startlinecolor\": \"#2a3f5f\"}, \"baxis\": {\"endlinecolor\": \"#2a3f5f\", \"gridcolor\": \"white\", \"linecolor\": \"white\", \"minorgridcolor\": \"white\", \"startlinecolor\": \"#2a3f5f\"}, \"type\": \"carpet\"}], \"choropleth\": [{\"colorbar\": {\"outlinewidth\": 0, \"ticks\": \"\"}, \"type\": \"choropleth\"}], \"contour\": [{\"colorbar\": {\"outlinewidth\": 0, \"ticks\": \"\"}, \"colorscale\": [[0.0, \"#0d0887\"], [0.1111111111111111, \"#46039f\"], [0.2222222222222222, \"#7201a8\"], [0.3333333333333333, \"#9c179e\"], [0.4444444444444444, \"#bd3786\"], [0.5555555555555556, \"#d8576b\"], [0.6666666666666666, \"#ed7953\"], [0.7777777777777778, \"#fb9f3a\"], [0.8888888888888888, \"#fdca26\"], [1.0, \"#f0f921\"]], \"type\": \"contour\"}], \"contourcarpet\": [{\"colorbar\": {\"outlinewidth\": 0, \"ticks\": \"\"}, \"type\": \"contourcarpet\"}], \"heatmap\": [{\"colorbar\": {\"outlinewidth\": 0, \"ticks\": \"\"}, \"colorscale\": [[0.0, \"#0d0887\"], [0.1111111111111111, \"#46039f\"], [0.2222222222222222, \"#7201a8\"], [0.3333333333333333, \"#9c179e\"], [0.4444444444444444, \"#bd3786\"], [0.5555555555555556, \"#d8576b\"], [0.6666666666666666, \"#ed7953\"], [0.7777777777777778, \"#fb9f3a\"], [0.8888888888888888, \"#fdca26\"], [1.0, \"#f0f921\"]], \"type\": \"heatmap\"}], \"heatmapgl\": [{\"colorbar\": {\"outlinewidth\": 0, \"ticks\": \"\"}, \"colorscale\": [[0.0, \"#0d0887\"], [0.1111111111111111, \"#46039f\"], [0.2222222222222222, \"#7201a8\"], [0.3333333333333333, \"#9c179e\"], [0.4444444444444444, \"#bd3786\"], [0.5555555555555556, \"#d8576b\"], [0.6666666666666666, \"#ed7953\"], [0.7777777777777778, \"#fb9f3a\"], [0.8888888888888888, \"#fdca26\"], [1.0, \"#f0f921\"]], \"type\": \"heatmapgl\"}], \"histogram\": [{\"marker\": {\"colorbar\": {\"outlinewidth\": 0, \"ticks\": \"\"}}, \"type\": \"histogram\"}], \"histogram2d\": [{\"colorbar\": {\"outlinewidth\": 0, \"ticks\": \"\"}, \"colorscale\": [[0.0, \"#0d0887\"], [0.1111111111111111, \"#46039f\"], [0.2222222222222222, \"#7201a8\"], [0.3333333333333333, \"#9c179e\"], [0.4444444444444444, \"#bd3786\"], [0.5555555555555556, \"#d8576b\"], [0.6666666666666666, \"#ed7953\"], [0.7777777777777778, \"#fb9f3a\"], [0.8888888888888888, \"#fdca26\"], [1.0, \"#f0f921\"]], \"type\": \"histogram2d\"}], \"histogram2dcontour\": [{\"colorbar\": {\"outlinewidth\": 0, \"ticks\": \"\"}, \"colorscale\": [[0.0, \"#0d0887\"], [0.1111111111111111, \"#46039f\"], [0.2222222222222222, \"#7201a8\"], [0.3333333333333333, \"#9c179e\"], [0.4444444444444444, \"#bd3786\"], [0.5555555555555556, \"#d8576b\"], [0.6666666666666666, \"#ed7953\"], [0.7777777777777778, \"#fb9f3a\"], [0.8888888888888888, \"#fdca26\"], [1.0, \"#f0f921\"]], \"type\": \"histogram2dcontour\"}], \"mesh3d\": [{\"colorbar\": {\"outlinewidth\": 0, \"ticks\": \"\"}, \"type\": \"mesh3d\"}], \"parcoords\": [{\"line\": {\"colorbar\": {\"outlinewidth\": 0, \"ticks\": \"\"}}, \"type\": \"parcoords\"}], \"pie\": [{\"automargin\": true, \"type\": \"pie\"}], \"scatter\": [{\"marker\": {\"colorbar\": {\"outlinewidth\": 0, \"ticks\": \"\"}}, \"type\": \"scatter\"}], \"scatter3d\": [{\"line\": {\"colorbar\": {\"outlinewidth\": 0, \"ticks\": \"\"}}, \"marker\": {\"colorbar\": {\"outlinewidth\": 0, \"ticks\": \"\"}}, \"type\": \"scatter3d\"}], \"scattercarpet\": [{\"marker\": {\"colorbar\": {\"outlinewidth\": 0, \"ticks\": \"\"}}, \"type\": \"scattercarpet\"}], \"scattergeo\": [{\"marker\": {\"colorbar\": {\"outlinewidth\": 0, \"ticks\": \"\"}}, \"type\": \"scattergeo\"}], \"scattergl\": [{\"marker\": {\"colorbar\": {\"outlinewidth\": 0, \"ticks\": \"\"}}, \"type\": \"scattergl\"}], \"scattermapbox\": [{\"marker\": {\"colorbar\": {\"outlinewidth\": 0, \"ticks\": \"\"}}, \"type\": \"scattermapbox\"}], \"scatterpolar\": [{\"marker\": {\"colorbar\": {\"outlinewidth\": 0, \"ticks\": \"\"}}, \"type\": \"scatterpolar\"}], \"scatterpolargl\": [{\"marker\": {\"colorbar\": {\"outlinewidth\": 0, \"ticks\": \"\"}}, \"type\": \"scatterpolargl\"}], \"scatterternary\": [{\"marker\": {\"colorbar\": {\"outlinewidth\": 0, \"ticks\": \"\"}}, \"type\": \"scatterternary\"}], \"surface\": [{\"colorbar\": {\"outlinewidth\": 0, \"ticks\": \"\"}, \"colorscale\": [[0.0, \"#0d0887\"], [0.1111111111111111, \"#46039f\"], [0.2222222222222222, \"#7201a8\"], [0.3333333333333333, \"#9c179e\"], [0.4444444444444444, \"#bd3786\"], [0.5555555555555556, \"#d8576b\"], [0.6666666666666666, \"#ed7953\"], [0.7777777777777778, \"#fb9f3a\"], [0.8888888888888888, \"#fdca26\"], [1.0, \"#f0f921\"]], \"type\": \"surface\"}], \"table\": [{\"cells\": {\"fill\": {\"color\": \"#EBF0F8\"}, \"line\": {\"color\": \"white\"}}, \"header\": {\"fill\": {\"color\": \"#C8D4E3\"}, \"line\": {\"color\": \"white\"}}, \"type\": \"table\"}]}, \"layout\": {\"annotationdefaults\": {\"arrowcolor\": \"#2a3f5f\", \"arrowhead\": 0, \"arrowwidth\": 1}, \"autotypenumbers\": \"strict\", \"coloraxis\": {\"colorbar\": {\"outlinewidth\": 0, \"ticks\": \"\"}}, \"colorscale\": {\"diverging\": [[0, \"#8e0152\"], [0.1, \"#c51b7d\"], [0.2, \"#de77ae\"], [0.3, \"#f1b6da\"], [0.4, \"#fde0ef\"], [0.5, \"#f7f7f7\"], [0.6, \"#e6f5d0\"], [0.7, \"#b8e186\"], [0.8, \"#7fbc41\"], [0.9, \"#4d9221\"], [1, \"#276419\"]], \"sequential\": [[0.0, \"#0d0887\"], [0.1111111111111111, \"#46039f\"], [0.2222222222222222, \"#7201a8\"], [0.3333333333333333, \"#9c179e\"], [0.4444444444444444, \"#bd3786\"], [0.5555555555555556, \"#d8576b\"], [0.6666666666666666, \"#ed7953\"], [0.7777777777777778, \"#fb9f3a\"], [0.8888888888888888, \"#fdca26\"], [1.0, \"#f0f921\"]], \"sequentialminus\": [[0.0, \"#0d0887\"], [0.1111111111111111, \"#46039f\"], [0.2222222222222222, \"#7201a8\"], [0.3333333333333333, \"#9c179e\"], [0.4444444444444444, \"#bd3786\"], [0.5555555555555556, \"#d8576b\"], [0.6666666666666666, \"#ed7953\"], [0.7777777777777778, \"#fb9f3a\"], [0.8888888888888888, \"#fdca26\"], [1.0, \"#f0f921\"]]}, \"colorway\": [\"#636efa\", \"#EF553B\", \"#00cc96\", \"#ab63fa\", \"#FFA15A\", \"#19d3f3\", \"#FF6692\", \"#B6E880\", \"#FF97FF\", \"#FECB52\"], \"font\": {\"color\": \"#2a3f5f\"}, \"geo\": {\"bgcolor\": \"white\", \"lakecolor\": \"white\", \"landcolor\": \"#E5ECF6\", \"showlakes\": true, \"showland\": true, \"subunitcolor\": \"white\"}, \"hoverlabel\": {\"align\": \"left\"}, \"hovermode\": \"closest\", \"mapbox\": {\"style\": \"light\"}, \"paper_bgcolor\": \"white\", \"plot_bgcolor\": \"#E5ECF6\", \"polar\": {\"angularaxis\": {\"gridcolor\": \"white\", \"linecolor\": \"white\", \"ticks\": \"\"}, \"bgcolor\": \"#E5ECF6\", \"radialaxis\": {\"gridcolor\": \"white\", \"linecolor\": \"white\", \"ticks\": \"\"}}, \"scene\": {\"xaxis\": {\"backgroundcolor\": \"#E5ECF6\", \"gridcolor\": \"white\", \"gridwidth\": 2, \"linecolor\": \"white\", \"showbackground\": true, \"ticks\": \"\", \"zerolinecolor\": \"white\"}, \"yaxis\": {\"backgroundcolor\": \"#E5ECF6\", \"gridcolor\": \"white\", \"gridwidth\": 2, \"linecolor\": \"white\", \"showbackground\": true, \"ticks\": \"\", \"zerolinecolor\": \"white\"}, \"zaxis\": {\"backgroundcolor\": \"#E5ECF6\", \"gridcolor\": \"white\", \"gridwidth\": 2, \"linecolor\": \"white\", \"showbackground\": true, \"ticks\": \"\", \"zerolinecolor\": \"white\"}}, \"shapedefaults\": {\"line\": {\"color\": \"#2a3f5f\"}}, \"ternary\": {\"aaxis\": {\"gridcolor\": \"white\", \"linecolor\": \"white\", \"ticks\": \"\"}, \"baxis\": {\"gridcolor\": \"white\", \"linecolor\": \"white\", \"ticks\": \"\"}, \"bgcolor\": \"#E5ECF6\", \"caxis\": {\"gridcolor\": \"white\", \"linecolor\": \"white\", \"ticks\": \"\"}}, \"title\": {\"x\": 0.05}, \"xaxis\": {\"automargin\": true, \"gridcolor\": \"white\", \"linecolor\": \"white\", \"ticks\": \"\", \"title\": {\"standoff\": 15}, \"zerolinecolor\": \"white\", \"zerolinewidth\": 2}, \"yaxis\": {\"automargin\": true, \"gridcolor\": \"white\", \"linecolor\": \"white\", \"ticks\": \"\", \"title\": {\"standoff\": 15}, \"zerolinecolor\": \"white\", \"zerolinewidth\": 2}}}, \"title\": {\"text\": \"Research, citation, income and total score VS World Rank of Universities\"}, \"xaxis\": {\"domain\": [0, 0.45]}, \"xaxis2\": {\"domain\": [0.55, 1]}, \"xaxis3\": {\"anchor\": \"y3\", \"domain\": [0, 0.45]}, \"xaxis4\": {\"anchor\": \"y4\", \"domain\": [0.55, 1]}, \"yaxis\": {\"domain\": [0, 0.45]}, \"yaxis2\": {\"anchor\": \"x2\", \"domain\": [0, 0.45]}, \"yaxis3\": {\"domain\": [0.55, 1]}, \"yaxis4\": {\"anchor\": \"x4\", \"domain\": [0.55, 1]}},                        {\"responsive\": true}                    ).then(function(){\n",
       "                            \n",
       "var gd = document.getElementById('53feb2f7-e289-429d-9f38-c9cafe0b63e3');\n",
       "var x = new MutationObserver(function (mutations, observer) {{\n",
       "        var display = window.getComputedStyle(gd).display;\n",
       "        if (!display || display === 'none') {{\n",
       "            console.log([gd, 'removed!']);\n",
       "            Plotly.purge(gd);\n",
       "            observer.disconnect();\n",
       "        }}\n",
       "}});\n",
       "\n",
       "// Listen for the removal of the full notebook cells\n",
       "var notebookContainer = gd.closest('#notebook-container');\n",
       "if (notebookContainer) {{\n",
       "    x.observe(notebookContainer, {childList: true});\n",
       "}}\n",
       "\n",
       "// Listen for the clearing of the current output cell\n",
       "var outputEl = gd.closest('.output');\n",
       "if (outputEl) {{\n",
       "    x.observe(outputEl, {childList: true});\n",
       "}}\n",
       "\n",
       "                        })                };                });            </script>        </div>"
      ]
     },
     "metadata": {},
     "output_type": "display_data"
    }
   ],
   "source": [
    "trace1 = go.Scatter(\n",
    "    x=dataframe.world_rank,\n",
    "    y=dataframe.research,\n",
    "    name = \"research\"\n",
    ")\n",
    "trace2 = go.Scatter(\n",
    "    x=dataframe.world_rank,\n",
    "    y=dataframe.citations,\n",
    "    xaxis='x2',\n",
    "    yaxis='y2',\n",
    "    name = \"citations\"\n",
    ")\n",
    "trace3 = go.Scatter(\n",
    "    x=dataframe.world_rank,\n",
    "    y=dataframe.income,\n",
    "    xaxis='x3',\n",
    "    yaxis='y3',\n",
    "    name = \"income\"\n",
    ")\n",
    "trace4 = go.Scatter(\n",
    "    x=dataframe.world_rank,\n",
    "    y=dataframe.total_score,\n",
    "    xaxis='x4',\n",
    "    yaxis='y4',\n",
    "    name = \"total_score\"\n",
    ")\n",
    "data = [trace1, trace2, trace3, trace4]\n",
    "layout = go.Layout(\n",
    "    xaxis=dict(\n",
    "        domain=[0, 0.45]\n",
    "    ),\n",
    "    yaxis=dict(\n",
    "        domain=[0, 0.45]\n",
    "    ),\n",
    "    xaxis2=dict(\n",
    "        domain=[0.55, 1]\n",
    "    ),\n",
    "    xaxis3=dict(\n",
    "        domain=[0, 0.45],\n",
    "        anchor='y3'\n",
    "    ),\n",
    "    xaxis4=dict(\n",
    "        domain=[0.55, 1],\n",
    "        anchor='y4'\n",
    "    ),\n",
    "    yaxis2=dict(\n",
    "        domain=[0, 0.45],\n",
    "        anchor='x2'\n",
    "    ),\n",
    "    yaxis3=dict(\n",
    "        domain=[0.55, 1]\n",
    "    ),\n",
    "    yaxis4=dict(\n",
    "        domain=[0.55, 1],\n",
    "        anchor='x4'\n",
    "    ),\n",
    "    title = 'Research, citation, income and total score VS World Rank of Universities'\n",
    ")\n",
    "fig = go.Figure(data=data, layout=layout)\n",
    "iplot(fig)"
   ]
  }
 ],
 "metadata": {
  "kernelspec": {
   "display_name": "Python 3",
   "language": "python",
   "name": "python3"
  },
  "language_info": {
   "codemirror_mode": {
    "name": "ipython",
    "version": 3
   },
   "file_extension": ".py",
   "mimetype": "text/x-python",
   "name": "python",
   "nbconvert_exporter": "python",
   "pygments_lexer": "ipython3",
   "version": "3.9.2"
  }
 },
 "nbformat": 4,
 "nbformat_minor": 4
}
